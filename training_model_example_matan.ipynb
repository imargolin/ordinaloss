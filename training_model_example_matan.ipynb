{
 "cells": [
  {
   "cell_type": "code",
   "execution_count": 4,
   "id": "98e9a52b-f468-4cf3-abe8-256b4b46df3d",
   "metadata": {},
   "outputs": [
    {
     "name": "stdout",
     "output_type": "stream",
     "text": [
      "The autoreload extension is already loaded. To reload it, use:\n",
      "  %reload_ext autoreload\n"
     ]
    }
   ],
   "source": [
    "%load_ext autoreload\n",
    "%autoreload 2"
   ]
  },
  {
   "cell_type": "code",
   "execution_count": 6,
   "id": "42edebea-d418-4d45-ba09-a92b8fb07a46",
   "metadata": {},
   "outputs": [],
   "source": [
    "import os\n",
    "import pandas as pd\n"
   ]
  },
  {
   "cell_type": "code",
   "execution_count": 7,
   "id": "440c4122-8a78-4284-9969-544fd9f7d701",
   "metadata": {},
   "outputs": [
    {
     "name": "stdout",
     "output_type": "stream",
     "text": [
      "loaded ordinaloss.utils.pretrained_models\n",
      "loaded ordinaloss.utils.metric_utils!!\n",
      "loaded ordinaloss.matan_trainers.trainers\n",
      "loaded ordinaloss.utils.data_utils\n",
      "loaded ordinaloss.utils.loss_utils\n"
     ]
    },
    {
     "data": {
      "text/plain": [
       "'cuda:2'"
      ]
     },
     "execution_count": 7,
     "metadata": {},
     "output_type": "execute_result"
    }
   ],
   "source": [
    "#from ordinaloss.utils.datasets import ImageFolder, create_transform_pipeline\n",
    "from ordinaloss.utils.pretrained_models import classification_model_densenet, classification_model_resnet, classification_model_vgg\n",
    "\n",
    "from ordinaloss.matan_trainers.trainers import OrdinalEngine\n",
    "\n",
    "\n",
    "from ordinaloss.utils.data_utils import data_load\n",
    "from ordinaloss.utils.loss_utils import SinimLoss, GirlsLoss, CSCELoss , CostSensitiveLoss\n",
    "from ordinaloss.utils.loss_utils import create_ordinal_cost_matrix\n",
    "\n",
    "\n",
    "import matplotlib.pyplot as plt\n",
    "\n",
    "from torch.utils.data import DataLoader\n",
    "from torch.optim import Adam, SGD\n",
    "import torch\n",
    "import numpy as np\n",
    "\n",
    "device = \"cuda:2\" if torch.cuda.is_available() else \"cpu\"\n",
    "device"
   ]
  },
  {
   "cell_type": "code",
   "execution_count": 8,
   "id": "0a15642b",
   "metadata": {},
   "outputs": [],
   "source": [
    "from ordinaloss.utils.callback_utils import PrintingCallback"
   ]
  },
  {
   "cell_type": "code",
   "execution_count": 9,
   "id": "655a43aa",
   "metadata": {},
   "outputs": [
    {
     "data": {
      "text/plain": [
       "'/home/dsi/marudi/projects/ordinaloss'"
      ]
     },
     "execution_count": 9,
     "metadata": {},
     "output_type": "execute_result"
    }
   ],
   "source": [
    "os.getcwd()"
   ]
  },
  {
   "cell_type": "code",
   "execution_count": 10,
   "id": "72ee85e9",
   "metadata": {},
   "outputs": [
    {
     "data": {
      "text/plain": [
       "['online_shoppers',\n",
       " 'kneeKL224',\n",
       " 'marketing_dataset',\n",
       " 'HIGGS',\n",
       " 'DermMel',\n",
       " 'log2.csv',\n",
       " 'Pistachio',\n",
       " 'Covertype',\n",
       " 'secondary_data.csv']"
      ]
     },
     "execution_count": 10,
     "metadata": {},
     "output_type": "execute_result"
    }
   ],
   "source": [
    "os.listdir('../datasets')"
   ]
  },
  {
   "cell_type": "code",
   "execution_count": 11,
   "id": "6c540d94",
   "metadata": {},
   "outputs": [],
   "source": [
    "# # cost_matrix = create_ordinal_cost_matrix(2, cost_distance=3, diagonal_value=20)\n",
    "\n",
    "# from ordinaloss.matan_trainers.trainers import OrdinalEngine\n",
    "\n",
    "# callbacks = [PrintingCallback()]"
   ]
  },
  {
   "cell_type": "code",
   "execution_count": 12,
   "id": "4009c6c2",
   "metadata": {},
   "outputs": [],
   "source": [
    "# model = classification_model_vgg(\"vgg19\", num_classes = 2)\n",
    "# loaders,dset_size, num_class = data_load(\"../datasets/DermMel/\", 16,phases= ['train', 'val', 'test'],db ='Melanoma')\n",
    "\n",
    "\n",
    "# cost_matrix = np.array([[1,1],\n",
    "#                         [1, 1]])\n",
    "\n",
    "# my_loss_CE = CostSensitiveLoss(weight= 10000, cost_matrix = cost_matrix, reduction = \"mean\")\n",
    "\n",
    "# engine_ce = OrdinalEngine(\n",
    "#     model=model, loss_fn=my_loss_CE, \n",
    "#     device=device, loaders=loaders, n_classes=2,\n",
    "#     use_lr_scheduler=False,\n",
    "#     optimizer_fn=SGD, lr=1.0e-3, weight_decay=5.0e-2)"
   ]
  },
  {
   "cell_type": "code",
   "execution_count": 13,
   "id": "fbd36793",
   "metadata": {},
   "outputs": [],
   "source": [
    "# best_acc_train,best_acc_test,best_model,best_epoch = engine_ce.train(n_epochs=20)\n"
   ]
  },
  {
   "cell_type": "code",
   "execution_count": 14,
   "id": "4e0162f1",
   "metadata": {},
   "outputs": [],
   "source": [
    "count_majorty = len(os.listdir('../datasets/DermMel/train/0'))\n",
    "count_mainor = len(os.listdir('../datasets/DermMel/train/1'))\n",
    "\n",
    "loaders,dset_size, num_class = data_load(\"../datasets/DermMel/\", 16,phases= ['train', 'val', 'test'],db ='Melanoma')\n"
   ]
  },
  {
   "cell_type": "code",
   "execution_count": 19,
   "id": "c3fba711",
   "metadata": {},
   "outputs": [],
   "source": [
    "def run_experiment(lamda,device=device,loaders=loaders,n_epochs=15,baseline = False ,w_baseline=False ):\n",
    "    model = classification_model_vgg(\"vgg19\", num_classes = 2)\n",
    "    \n",
    "    if baseline:\n",
    "        cost_matrix = np.array([[1,1],\n",
    "                                [1,1]])\n",
    "        \n",
    "    elif w_baseline:\n",
    "        cost_matrix = np.array([[lamda,lamda],\n",
    "                                [1-lamda, 1-lamda]])\n",
    "        \n",
    "    else:\n",
    "        cost_matrix = np.array([[lamda,1- lamda],\n",
    "                                [1- lamda, lamda]])\n",
    "        \n",
    "    my_loss_curr_run = CostSensitiveLoss(weight= 10000, cost_matrix = cost_matrix, reduction = \"mean\")\n",
    "\n",
    "    engine_csce = OrdinalEngine(\n",
    "        model=model, loss_fn=my_loss_curr_run, \n",
    "        device=device, loaders=loaders, n_classes=2,\n",
    "        use_lr_scheduler=False,\n",
    "        optimizer_fn=SGD, lr=1.0e-3, weight_decay=5.0e-2)\n",
    "    \n",
    "    best_acc_train_exp,best_acc_test_exp,best_model_exp ,best_epoch_exp = engine_csce.train(n_epochs=n_epochs)\n",
    "    \n",
    "    engine_csce_best = OrdinalEngine(\n",
    "        model=best_model_exp, loss_fn=my_loss_curr_run, \n",
    "        device=device, loaders=loaders, n_classes=2,\n",
    "        use_lr_scheduler=False,\n",
    "        optimizer_fn=SGD, lr=1.0e-3, weight_decay=5.0e-2)\n",
    "    \n",
    "    eval_test_csce_exp = engine_csce_best._eval_epoch(phase='test')\n",
    "\n",
    "    return {'best_acc_train' : best_acc_train_exp,\n",
    "            'best_acc_test' : best_acc_test_exp,\n",
    "            'best_epoch' : best_epoch_exp , \n",
    "            'accuracy_score' : eval_test_csce_exp['accuracy'],\n",
    "            'recall_score' : eval_test_csce_exp['recall_score'],\n",
    "            'precision_score' : eval_test_csce_exp['precision_score'],\n",
    "            'f1_score' : eval_test_csce_exp['f1_score'],\n",
    "            'roc_auc_score' : eval_test_csce_exp['roc_auc_score'],\n",
    "            'y_pred' : eval_test_csce_exp['y_pred'],\n",
    "            'y_actual' : eval_test_csce_exp['y_actual']\n",
    "            }"
   ]
  },
  {
   "cell_type": "code",
   "execution_count": 20,
   "id": "8f1a8143",
   "metadata": {},
   "outputs": [],
   "source": [
    "exp_range = list(np.linspace(0,1,5))\n",
    "exp_range.append(count_mainor / count_majorty)"
   ]
  },
  {
   "cell_type": "code",
   "execution_count": 21,
   "id": "935818ea",
   "metadata": {},
   "outputs": [],
   "source": [
    "res ={}"
   ]
  },
  {
   "cell_type": "code",
   "execution_count": 22,
   "id": "c86a1898",
   "metadata": {},
   "outputs": [
    {
     "name": "stderr",
     "output_type": "stream",
     "text": [
      "Training, epoch 0: 100%|██████████| 376/376 [00:18<00:00, 20.58it/s, accuracy=0.884, loss=0.325, mae=0.116, max_grad=tensor(4.6588, device='cuda:2')]\n",
      "Evaluating...: 100%|██████████| 125/125 [00:11<00:00, 11.34it/s, accuracy=0.893, loss=0.274] \n",
      "Training, epoch 1: 100%|██████████| 376/376 [00:16<00:00, 22.54it/s, accuracy=0.893, loss=0.27, mae=0.107, max_grad=tensor(1.6530, device='cuda:2')] \n",
      "Evaluating...: 100%|██████████| 125/125 [00:05<00:00, 22.10it/s, accuracy=0.9, loss=0.259]   \n",
      "Training, epoch 2: 100%|██████████| 376/376 [00:16<00:00, 22.67it/s, accuracy=0.898, loss=0.254, mae=0.102, max_grad=tensor(1.7011, device='cuda:2')] \n",
      "Evaluating...: 100%|██████████| 125/125 [00:05<00:00, 22.45it/s, accuracy=0.905, loss=0.253]\n",
      "Training, epoch 3: 100%|██████████| 376/376 [00:16<00:00, 22.77it/s, accuracy=0.901, loss=0.24, mae=0.099, max_grad=tensor(105.3009, device='cuda:2')]  \n",
      "Evaluating...: 100%|██████████| 125/125 [00:10<00:00, 11.46it/s, accuracy=0.903, loss=0.244] \n",
      "Training, epoch 4: 100%|██████████| 376/376 [00:16<00:00, 22.36it/s, accuracy=0.908, loss=0.228, mae=0.092, max_grad=tensor(4.2123, device='cuda:2')] \n",
      "Evaluating...: 100%|██████████| 125/125 [00:05<00:00, 22.18it/s, accuracy=0.905, loss=0.238]\n",
      "Training, epoch 5: 100%|██████████| 376/376 [00:16<00:00, 23.02it/s, accuracy=0.913, loss=0.217, mae=0.0868, max_grad=tensor(1.6376, device='cuda:2')]\n",
      "Evaluating...: 100%|██████████| 125/125 [00:05<00:00, 22.08it/s, accuracy=0.901, loss=0.24] \n",
      "Training, epoch 6: 100%|██████████| 376/376 [00:16<00:00, 22.85it/s, accuracy=0.917, loss=0.208, mae=0.0831, max_grad=tensor(0.7544, device='cuda:2')]\n",
      "Evaluating...: 100%|██████████| 125/125 [00:05<00:00, 21.75it/s, accuracy=0.884, loss=0.261]\n",
      "Training, epoch 7: 100%|██████████| 376/376 [00:16<00:00, 22.60it/s, accuracy=0.92, loss=0.199, mae=0.0805, max_grad=tensor(1.3511, device='cuda:2')] \n",
      "Evaluating...: 100%|██████████| 125/125 [00:05<00:00, 21.16it/s, accuracy=0.862, loss=0.281]\n",
      "Training, epoch 8: 100%|██████████| 376/376 [00:16<00:00, 23.01it/s, accuracy=0.923, loss=0.193, mae=0.0768, max_grad=tensor(0.5461, device='cuda:2')]\n",
      "Evaluating...: 100%|██████████| 125/125 [00:10<00:00, 11.74it/s, accuracy=0.905, loss=0.23] \n",
      "Training, epoch 9: 100%|██████████| 376/376 [00:17<00:00, 22.11it/s, accuracy=0.923, loss=0.186, mae=0.0773, max_grad=tensor(0.4473, device='cuda:2')]\n",
      "Evaluating...: 100%|██████████| 125/125 [00:10<00:00, 11.54it/s, accuracy=0.91, loss=0.223]  \n",
      "Training, epoch 10: 100%|██████████| 376/376 [00:16<00:00, 22.29it/s, accuracy=0.929, loss=0.179, mae=0.071, max_grad=tensor(0.4368, device='cuda:2')] \n",
      "Evaluating...: 100%|██████████| 125/125 [00:05<00:00, 21.60it/s, accuracy=0.889, loss=0.25] \n",
      "Training, epoch 11: 100%|██████████| 376/376 [00:16<00:00, 23.23it/s, accuracy=0.933, loss=0.17, mae=0.067, max_grad=tensor(0.5370, device='cuda:2')]  \n",
      "Evaluating...: 100%|██████████| 125/125 [00:05<00:00, 22.13it/s, accuracy=0.902, loss=0.227]\n",
      "Training, epoch 12: 100%|██████████| 376/376 [00:16<00:00, 22.25it/s, accuracy=0.932, loss=0.163, mae=0.0676, max_grad=tensor(0.7989, device='cuda:2')]\n",
      "Evaluating...: 100%|██████████| 125/125 [00:06<00:00, 20.52it/s, accuracy=0.905, loss=0.221] \n",
      "Training, epoch 13: 100%|██████████| 376/376 [00:16<00:00, 22.60it/s, accuracy=0.936, loss=0.16, mae=0.064, max_grad=tensor(98.8170, device='cuda:2')]  \n",
      "Evaluating...: 100%|██████████| 125/125 [00:11<00:00, 11.09it/s, accuracy=0.91, loss=0.219]  \n",
      "Training, epoch 14: 100%|██████████| 376/376 [00:17<00:00, 21.79it/s, accuracy=0.939, loss=0.153, mae=0.0611, max_grad=tensor(0.3604, device='cuda:2')]\n",
      "Evaluating...: 100%|██████████| 125/125 [00:06<00:00, 20.41it/s, accuracy=0.91, loss=0.229]  \n",
      "Evaluating...: 100%|██████████| 127/127 [00:06<00:00, 20.16it/s, accuracy=0.909, loss=0.244] \n"
     ]
    }
   ],
   "source": [
    "res['ce'] = run_experiment(1,device=device,loaders=loaders,n_epochs=15,baseline = True ,w_baseline=False )"
   ]
  },
  {
   "cell_type": "code",
   "execution_count": null,
   "id": "15895dcc",
   "metadata": {},
   "outputs": [],
   "source": [
    "res['ce'] = run_experiment(1,device=device,loaders=loaders,n_epochs=15,baseline = True ,w_baseline=False )\n",
    "res['wce'] = run_experiment(1,device=device,loaders=loaders,n_epochs=15,baseline = False ,w_baseline=True )"
   ]
  },
  {
   "cell_type": "code",
   "execution_count": 42,
   "id": "234ddf49",
   "metadata": {},
   "outputs": [
    {
     "name": "stderr",
     "output_type": "stream",
     "text": [
      "Training, epoch 0: 100%|██████████| 376/376 [00:16<00:00, 22.63it/s, accuracy=0.884, loss=0.322, mae=0.116, max_grad=tensor(4.3084, device='cuda:2')]\n",
      "Evaluating...: 100%|██████████| 125/125 [00:05<00:00, 21.85it/s, accuracy=0.896, loss=0.271]\n",
      "Training, epoch 1: 100%|██████████| 376/376 [00:16<00:00, 23.45it/s, accuracy=0.892, loss=0.273, mae=0.108, max_grad=tensor(2.3447, device='cuda:2')]\n",
      "Evaluating...: 100%|██████████| 125/125 [00:05<00:00, 22.64it/s, accuracy=0.894, loss=0.287]\n",
      "Training, epoch 2: 100%|██████████| 376/376 [00:15<00:00, 23.62it/s, accuracy=0.895, loss=0.254, mae=0.105, max_grad=tensor(1.3769, device='cuda:2')] \n",
      "Evaluating...: 100%|██████████| 125/125 [00:05<00:00, 22.33it/s, accuracy=0.88, loss=0.286] \n",
      "Training, epoch 3: 100%|██████████| 376/376 [00:16<00:00, 22.49it/s, accuracy=0.901, loss=0.237, mae=0.0988, max_grad=tensor(0.8342, device='cuda:2')]\n",
      "Evaluating...: 100%|██████████| 125/125 [00:05<00:00, 21.89it/s, accuracy=0.903, loss=0.25]  \n",
      "Training, epoch 4: 100%|██████████| 376/376 [00:16<00:00, 23.29it/s, accuracy=0.91, loss=0.226, mae=0.0903, max_grad=tensor(0.8900, device='cuda:2')] \n",
      "Evaluating...: 100%|██████████| 125/125 [00:05<00:00, 21.69it/s, accuracy=0.907, loss=0.238] \n",
      "Training, epoch 5: 100%|██████████| 376/376 [00:16<00:00, 23.41it/s, accuracy=0.913, loss=0.214, mae=0.0868, max_grad=tensor(0.7216, device='cuda:2')]\n",
      "Evaluating...: 100%|██████████| 125/125 [00:05<00:00, 21.71it/s, accuracy=0.905, loss=0.24]  \n",
      "Training, epoch 6: 100%|██████████| 376/376 [00:16<00:00, 23.19it/s, accuracy=0.918, loss=0.205, mae=0.0825, max_grad=tensor(0.8073, device='cuda:2')]\n",
      "Evaluating...: 100%|██████████| 125/125 [00:05<00:00, 22.65it/s, accuracy=0.907, loss=0.233] \n",
      "Training, epoch 7: 100%|██████████| 376/376 [00:16<00:00, 23.41it/s, accuracy=0.922, loss=0.197, mae=0.078, max_grad=tensor(0.6324, device='cuda:2')] \n",
      "Evaluating...: 100%|██████████| 125/125 [00:05<00:00, 22.75it/s, accuracy=0.905, loss=0.237] \n",
      "Training, epoch 8: 100%|██████████| 376/376 [00:16<00:00, 23.13it/s, accuracy=0.923, loss=0.189, mae=0.0766, max_grad=tensor(3.6267, device='cuda:2')]\n",
      "Evaluating...: 100%|██████████| 125/125 [00:05<00:00, 21.74it/s, accuracy=0.906, loss=0.225] \n",
      "Training, epoch 9: 100%|██████████| 376/376 [00:16<00:00, 23.18it/s, accuracy=0.922, loss=0.182, mae=0.078, max_grad=tensor(0.5323, device='cuda:2')] \n",
      "Evaluating...: 100%|██████████| 125/125 [00:05<00:00, 21.61it/s, accuracy=0.912, loss=0.225] \n",
      "Training, epoch 10: 100%|██████████| 376/376 [00:16<00:00, 23.20it/s, accuracy=0.926, loss=0.176, mae=0.0741, max_grad=tensor(0.7056, device='cuda:2')]\n",
      "Evaluating...: 100%|██████████| 125/125 [00:05<00:00, 21.86it/s, accuracy=0.903, loss=0.226]\n",
      "Training, epoch 11: 100%|██████████| 376/376 [00:16<00:00, 23.29it/s, accuracy=0.932, loss=0.164, mae=0.0683, max_grad=tensor(0.5732, device='cuda:2')]\n",
      "Evaluating...: 100%|██████████| 125/125 [00:05<00:00, 22.35it/s, accuracy=0.909, loss=0.241] \n",
      "Training, epoch 12: 100%|██████████| 376/376 [00:16<00:00, 23.29it/s, accuracy=0.935, loss=0.158, mae=0.0648, max_grad=tensor(0.7222, device='cuda:2')]\n",
      "Evaluating...: 100%|██████████| 125/125 [00:05<00:00, 22.58it/s, accuracy=0.901, loss=0.232] \n",
      "Training, epoch 13: 100%|██████████| 376/376 [00:16<00:00, 23.42it/s, accuracy=0.935, loss=0.155, mae=0.0653, max_grad=tensor(429.0071, device='cuda:2')]\n",
      "Evaluating...: 100%|██████████| 125/125 [00:05<00:00, 22.16it/s, accuracy=0.886, loss=0.238]\n",
      "Training, epoch 14: 100%|██████████| 376/376 [00:16<00:00, 23.38it/s, accuracy=0.941, loss=0.143, mae=0.0586, max_grad=tensor(0.6353, device='cuda:2')]\n",
      "Evaluating...: 100%|██████████| 125/125 [00:10<00:00, 11.68it/s, accuracy=0.885, loss=0.252]\n",
      "Evaluating...: 100%|██████████| 127/127 [00:06<00:00, 21.11it/s, accuracy=0.899, loss=0.184] \n",
      "Training, epoch 0: 100%|██████████| 376/376 [00:16<00:00, 22.79it/s, accuracy=0.883, loss=0.326, mae=0.117, max_grad=tensor(5.2501, device='cuda:2')]\n",
      "Evaluating...: 100%|██████████| 125/125 [00:10<00:00, 11.55it/s, accuracy=0.893, loss=0.274]\n",
      "/home/dsi/marudi/anaconda3/lib/python3.9/site-packages/sklearn/metrics/_classification.py:1318: UndefinedMetricWarning: Precision is ill-defined and being set to 0.0 due to no predicted samples. Use `zero_division` parameter to control this behavior.\n",
      "  _warn_prf(average, modifier, msg_start, len(result))\n",
      "Training, epoch 1: 100%|██████████| 376/376 [00:16<00:00, 22.67it/s, accuracy=0.892, loss=0.268, mae=0.108, max_grad=tensor(1.5930, device='cuda:2')] \n",
      "Evaluating...: 100%|██████████| 125/125 [00:05<00:00, 21.55it/s, accuracy=0.899, loss=0.259]\n",
      "Training, epoch 2: 100%|██████████| 376/376 [00:16<00:00, 23.41it/s, accuracy=0.899, loss=0.247, mae=0.101, max_grad=tensor(136.3950, device='cuda:2')] \n",
      "Evaluating...: 100%|██████████| 125/125 [00:10<00:00, 11.50it/s, accuracy=0.901, loss=0.249] \n",
      "Training, epoch 3: 100%|██████████| 376/376 [00:16<00:00, 22.89it/s, accuracy=0.905, loss=0.234, mae=0.0948, max_grad=tensor(220.1722, device='cuda:2')]\n",
      "Evaluating...: 100%|██████████| 125/125 [00:05<00:00, 21.99it/s, accuracy=0.904, loss=0.241]\n",
      "Training, epoch 4: 100%|██████████| 376/376 [00:16<00:00, 23.19it/s, accuracy=0.906, loss=0.224, mae=0.0936, max_grad=tensor(5.6129, device='cuda:2')]\n",
      "Evaluating...: 100%|██████████| 125/125 [00:05<00:00, 21.25it/s, accuracy=0.906, loss=0.235] \n",
      "Training, epoch 5: 100%|██████████| 376/376 [00:16<00:00, 23.13it/s, accuracy=0.913, loss=0.213, mae=0.0866, max_grad=tensor(23.4465, device='cuda:2')]\n",
      "Evaluating...: 100%|██████████| 125/125 [00:05<00:00, 21.54it/s, accuracy=0.902, loss=0.234]\n",
      "Training, epoch 6: 100%|██████████| 376/376 [00:16<00:00, 23.21it/s, accuracy=0.915, loss=0.202, mae=0.0851, max_grad=tensor(0.7384, device='cuda:2')]\n",
      "Evaluating...: 100%|██████████| 125/125 [00:05<00:00, 21.75it/s, accuracy=0.906, loss=0.233] \n",
      "Training, epoch 7: 100%|██████████| 376/376 [00:16<00:00, 23.46it/s, accuracy=0.921, loss=0.191, mae=0.079, max_grad=tensor(0.6335, device='cuda:2')] \n",
      "Evaluating...: 100%|██████████| 125/125 [00:05<00:00, 22.83it/s, accuracy=0.902, loss=0.227]\n",
      "Training, epoch 8: 100%|██████████| 376/376 [00:15<00:00, 23.53it/s, accuracy=0.926, loss=0.18, mae=0.0743, max_grad=tensor(0.5509, device='cuda:2')] \n",
      "Evaluating...: 100%|██████████| 125/125 [00:05<00:00, 22.56it/s, accuracy=0.908, loss=0.231] \n",
      "Training, epoch 9: 100%|██████████| 376/376 [00:16<00:00, 23.33it/s, accuracy=0.926, loss=0.177, mae=0.074, max_grad=tensor(0.5707, device='cuda:2')] \n",
      "Evaluating...: 100%|██████████| 125/125 [00:05<00:00, 22.06it/s, accuracy=0.895, loss=0.245]\n",
      "Training, epoch 10: 100%|██████████| 376/376 [00:16<00:00, 23.17it/s, accuracy=0.926, loss=0.172, mae=0.0736, max_grad=tensor(0.4485, device='cuda:2')]\n",
      "Evaluating...: 100%|██████████| 125/125 [00:05<00:00, 21.71it/s, accuracy=0.905, loss=0.223] \n",
      "Training, epoch 11: 100%|██████████| 376/376 [00:16<00:00, 23.19it/s, accuracy=0.934, loss=0.158, mae=0.0658, max_grad=tensor(0.4701, device='cuda:2')]\n",
      "Evaluating...: 100%|██████████| 125/125 [00:05<00:00, 21.52it/s, accuracy=0.908, loss=0.239] \n",
      "Training, epoch 12: 100%|██████████| 376/376 [00:16<00:00, 22.92it/s, accuracy=0.936, loss=0.157, mae=0.0643, max_grad=tensor(0.4950, device='cuda:2')]\n",
      "Evaluating...: 100%|██████████| 125/125 [00:05<00:00, 21.88it/s, accuracy=0.907, loss=0.268] \n",
      "Training, epoch 13: 100%|██████████| 376/376 [00:16<00:00, 22.86it/s, accuracy=0.939, loss=0.149, mae=0.0613, max_grad=tensor(0.5147, device='cuda:2')]\n",
      "Evaluating...: 100%|██████████| 125/125 [00:05<00:00, 22.10it/s, accuracy=0.912, loss=0.221] \n",
      "Training, epoch 14: 100%|██████████| 376/376 [00:16<00:00, 23.06it/s, accuracy=0.945, loss=0.14, mae=0.0553, max_grad=tensor(0.5657, device='cuda:2')] \n",
      "Evaluating...: 100%|██████████| 125/125 [00:05<00:00, 22.18it/s, accuracy=0.912, loss=0.246] \n",
      "Evaluating...: 100%|██████████| 127/127 [00:05<00:00, 21.86it/s, accuracy=0.904, loss=0.147] \n",
      "Training, epoch 0: 100%|██████████| 376/376 [00:16<00:00, 22.72it/s, accuracy=0.883, loss=0.326, mae=0.117, max_grad=tensor(4.2997, device='cuda:2')]\n",
      "Evaluating...: 100%|██████████| 125/125 [00:05<00:00, 21.73it/s, accuracy=0.893, loss=0.272]\n",
      "/home/dsi/marudi/anaconda3/lib/python3.9/site-packages/sklearn/metrics/_classification.py:1318: UndefinedMetricWarning: Precision is ill-defined and being set to 0.0 due to no predicted samples. Use `zero_division` parameter to control this behavior.\n",
      "  _warn_prf(average, modifier, msg_start, len(result))\n",
      "Training, epoch 1: 100%|██████████| 376/376 [00:16<00:00, 23.07it/s, accuracy=0.891, loss=0.274, mae=0.109, max_grad=tensor(1.5927, device='cuda:2')] \n",
      "Evaluating...: 100%|██████████| 125/125 [00:05<00:00, 22.45it/s, accuracy=0.898, loss=0.263]\n",
      "Training, epoch 2: 100%|██████████| 376/376 [00:16<00:00, 22.82it/s, accuracy=0.897, loss=0.253, mae=0.103, max_grad=tensor(1.4358, device='cuda:2')] \n",
      "Evaluating...: 100%|██████████| 125/125 [00:05<00:00, 21.98it/s, accuracy=0.894, loss=0.262]\n",
      "Training, epoch 3: 100%|██████████| 376/376 [00:16<00:00, 22.90it/s, accuracy=0.9, loss=0.239, mae=0.0996, max_grad=tensor(0.8333, device='cuda:2')]  \n",
      "Evaluating...: 100%|██████████| 125/125 [00:05<00:00, 21.49it/s, accuracy=0.9, loss=0.243]   \n",
      "Training, epoch 4: 100%|██████████| 376/376 [00:16<00:00, 22.50it/s, accuracy=0.908, loss=0.226, mae=0.0923, max_grad=tensor(8.2643, device='cuda:2')]\n",
      "Evaluating...: 100%|██████████| 125/125 [00:05<00:00, 20.88it/s, accuracy=0.902, loss=0.242] \n",
      "Training, epoch 5: 100%|██████████| 376/376 [00:16<00:00, 22.24it/s, accuracy=0.911, loss=0.216, mae=0.0888, max_grad=tensor(1.3459, device='cuda:2')]\n",
      "Evaluating...: 100%|██████████| 125/125 [00:10<00:00, 11.53it/s, accuracy=0.902, loss=0.237]\n",
      "Training, epoch 6: 100%|██████████| 376/376 [00:16<00:00, 22.22it/s, accuracy=0.915, loss=0.206, mae=0.0846, max_grad=tensor(0.5521, device='cuda:2')]\n",
      "Evaluating...: 100%|██████████| 125/125 [00:05<00:00, 21.50it/s, accuracy=0.905, loss=0.229] \n",
      "Training, epoch 7: 100%|██████████| 376/376 [00:16<00:00, 22.64it/s, accuracy=0.916, loss=0.201, mae=0.0843, max_grad=tensor(4.1068, device='cuda:2')]\n",
      "Evaluating...: 100%|██████████| 125/125 [00:05<00:00, 21.90it/s, accuracy=0.905, loss=0.23] \n",
      "Training, epoch 8: 100%|██████████| 376/376 [00:16<00:00, 22.98it/s, accuracy=0.921, loss=0.194, mae=0.0791, max_grad=tensor(20.9336, device='cuda:2')]\n",
      "Evaluating...: 100%|██████████| 125/125 [00:05<00:00, 21.01it/s, accuracy=0.906, loss=0.222] \n",
      "Training, epoch 9: 100%|██████████| 376/376 [00:16<00:00, 23.12it/s, accuracy=0.924, loss=0.187, mae=0.0756, max_grad=tensor(9.4663, device='cuda:2')]\n",
      "Evaluating...: 100%|██████████| 125/125 [00:05<00:00, 21.70it/s, accuracy=0.909, loss=0.22]  \n",
      "Training, epoch 10: 100%|██████████| 376/376 [00:16<00:00, 23.14it/s, accuracy=0.927, loss=0.177, mae=0.0733, max_grad=tensor(3.2658, device='cuda:2')]\n",
      "Evaluating...: 100%|██████████| 125/125 [00:05<00:00, 21.43it/s, accuracy=0.909, loss=0.241] \n",
      "Training, epoch 11: 100%|██████████| 376/376 [00:16<00:00, 23.24it/s, accuracy=0.93, loss=0.175, mae=0.0705, max_grad=tensor(74.0121, device='cuda:2')] \n",
      "Evaluating...: 100%|██████████| 125/125 [00:05<00:00, 22.34it/s, accuracy=0.88, loss=0.257] \n",
      "Training, epoch 12: 100%|██████████| 376/376 [00:16<00:00, 22.80it/s, accuracy=0.934, loss=0.166, mae=0.0661, max_grad=tensor(4.2574, device='cuda:2')]\n",
      "Evaluating...: 100%|██████████| 125/125 [00:05<00:00, 22.35it/s, accuracy=0.909, loss=0.216] \n",
      "Training, epoch 13: 100%|██████████| 376/376 [00:16<00:00, 23.09it/s, accuracy=0.933, loss=0.161, mae=0.067, max_grad=tensor(0.3565, device='cuda:2')] \n",
      "Evaluating...: 100%|██████████| 125/125 [00:05<00:00, 22.25it/s, accuracy=0.91, loss=0.233]  \n",
      "Training, epoch 14: 100%|██████████| 376/376 [00:18<00:00, 20.61it/s, accuracy=0.936, loss=0.154, mae=0.0641, max_grad=tensor(0.3957, device='cuda:2')]\n",
      "Evaluating...: 100%|██████████| 125/125 [00:06<00:00, 18.14it/s, accuracy=0.908, loss=0.221] \n",
      "Evaluating...: 100%|██████████| 127/127 [00:06<00:00, 18.20it/s, accuracy=0.901, loss=0.131] \n",
      "Training, epoch 0: 100%|██████████| 376/376 [00:19<00:00, 19.03it/s, accuracy=0.881, loss=0.327, mae=0.119, max_grad=tensor(4.4586, device='cuda:2')]\n",
      "Evaluating...: 100%|██████████| 125/125 [00:07<00:00, 17.56it/s, accuracy=0.892, loss=0.275]\n",
      "Training, epoch 1: 100%|██████████| 376/376 [00:19<00:00, 19.78it/s, accuracy=0.892, loss=0.273, mae=0.108, max_grad=tensor(224.5361, device='cuda:2')]\n",
      "Evaluating...: 100%|██████████| 125/125 [00:06<00:00, 17.99it/s, accuracy=0.897, loss=0.255] \n",
      "Training, epoch 2: 100%|██████████| 376/376 [00:19<00:00, 19.30it/s, accuracy=0.896, loss=0.252, mae=0.104, max_grad=tensor(43.2387, device='cuda:2')] \n",
      "Evaluating...: 100%|██████████| 125/125 [00:06<00:00, 18.47it/s, accuracy=0.901, loss=0.259] \n",
      "Training, epoch 3: 100%|██████████| 376/376 [00:18<00:00, 19.84it/s, accuracy=0.902, loss=0.238, mae=0.098, max_grad=tensor(1.1076, device='cuda:2')] \n",
      "Evaluating...: 100%|██████████| 125/125 [00:06<00:00, 18.29it/s, accuracy=0.901, loss=0.241] \n",
      "Training, epoch 4: 100%|██████████| 376/376 [00:19<00:00, 19.46it/s, accuracy=0.909, loss=0.224, mae=0.091, max_grad=tensor(0.6289, device='cuda:2')] \n",
      "Evaluating...: 100%|██████████| 125/125 [00:12<00:00, 10.39it/s, accuracy=0.904, loss=0.244] \n",
      "Training, epoch 5: 100%|██████████| 376/376 [00:19<00:00, 19.39it/s, accuracy=0.916, loss=0.213, mae=0.0841, max_grad=tensor(0.6090, device='cuda:2')]\n",
      "Evaluating...: 100%|██████████| 125/125 [00:06<00:00, 18.97it/s, accuracy=0.901, loss=0.232] \n",
      "Training, epoch 6: 100%|██████████| 376/376 [00:18<00:00, 20.67it/s, accuracy=0.917, loss=0.205, mae=0.0828, max_grad=tensor(0.6251, device='cuda:2')]\n",
      "Evaluating...: 100%|██████████| 125/125 [00:06<00:00, 20.01it/s, accuracy=0.896, loss=0.236]\n",
      "Training, epoch 7: 100%|██████████| 376/376 [00:16<00:00, 23.11it/s, accuracy=0.92, loss=0.198, mae=0.0803, max_grad=tensor(0.5066, device='cuda:2')] \n",
      "Evaluating...: 100%|██████████| 125/125 [00:05<00:00, 22.85it/s, accuracy=0.905, loss=0.229] \n",
      "Training, epoch 8: 100%|██████████| 376/376 [00:16<00:00, 23.31it/s, accuracy=0.921, loss=0.19, mae=0.0786, max_grad=tensor(25.4676, device='cuda:2')] \n",
      "Evaluating...: 100%|██████████| 125/125 [00:05<00:00, 22.22it/s, accuracy=0.899, loss=0.234]\n",
      "Training, epoch 9: 100%|██████████| 376/376 [00:16<00:00, 23.19it/s, accuracy=0.924, loss=0.185, mae=0.0763, max_grad=tensor(13.8222, device='cuda:2')]\n",
      "Evaluating...: 100%|██████████| 125/125 [00:05<00:00, 21.84it/s, accuracy=0.885, loss=0.249]\n",
      "Training, epoch 10: 100%|██████████| 376/376 [00:16<00:00, 23.44it/s, accuracy=0.926, loss=0.177, mae=0.0738, max_grad=tensor(4.8650, device='cuda:2')]\n",
      "Evaluating...: 100%|██████████| 125/125 [00:05<00:00, 21.94it/s, accuracy=0.907, loss=0.24]  \n",
      "Training, epoch 11: 100%|██████████| 376/376 [00:16<00:00, 23.07it/s, accuracy=0.933, loss=0.168, mae=0.0675, max_grad=tensor(0.3534, device='cuda:2')]\n",
      "Evaluating...: 100%|██████████| 125/125 [00:05<00:00, 22.58it/s, accuracy=0.9, loss=0.228]  \n",
      "Training, epoch 12: 100%|██████████| 376/376 [00:15<00:00, 23.63it/s, accuracy=0.934, loss=0.167, mae=0.0656, max_grad=tensor(0.3971, device='cuda:2')]\n",
      "Evaluating...: 100%|██████████| 125/125 [00:05<00:00, 22.80it/s, accuracy=0.906, loss=0.221] \n",
      "Training, epoch 13: 100%|██████████| 376/376 [00:16<00:00, 23.43it/s, accuracy=0.938, loss=0.158, mae=0.0618, max_grad=tensor(0.3645, device='cuda:2')]\n",
      "Evaluating...: 100%|██████████| 125/125 [00:05<00:00, 22.28it/s, accuracy=0.882, loss=0.264]\n",
      "Training, epoch 14: 100%|██████████| 376/376 [00:16<00:00, 23.19it/s, accuracy=0.94, loss=0.151, mae=0.0601, max_grad=tensor(0.4566, device='cuda:2')] \n",
      "Evaluating...: 100%|██████████| 125/125 [00:05<00:00, 21.44it/s, accuracy=0.911, loss=0.238] \n",
      "Evaluating...: 100%|██████████| 127/127 [00:05<00:00, 21.29it/s, accuracy=0.908, loss=0.0879]\n",
      "Training, epoch 0: 100%|██████████| 376/376 [00:16<00:00, 22.30it/s, accuracy=0.881, loss=0.318, mae=0.119, max_grad=tensor(258.5052, device='cuda:2')]\n",
      "Evaluating...: 100%|██████████| 125/125 [00:05<00:00, 21.67it/s, accuracy=0.893, loss=0.275] \n",
      "Training, epoch 1: 100%|██████████| 376/376 [00:16<00:00, 23.48it/s, accuracy=0.893, loss=0.269, mae=0.107, max_grad=tensor(1.5687, device='cuda:2')]\n",
      "Evaluating...: 100%|██████████| 125/125 [00:05<00:00, 22.75it/s, accuracy=0.894, loss=0.265]\n",
      "Training, epoch 2: 100%|██████████| 376/376 [00:16<00:00, 23.11it/s, accuracy=0.9, loss=0.249, mae=0.1, max_grad=tensor(1.0627, device='cuda:2')]     \n",
      "Evaluating...: 100%|██████████| 125/125 [00:05<00:00, 21.89it/s, accuracy=0.902, loss=0.245] \n",
      "Training, epoch 3: 100%|██████████| 376/376 [00:16<00:00, 23.27it/s, accuracy=0.904, loss=0.234, mae=0.0961, max_grad=tensor(0.7446, device='cuda:2')]\n",
      "Evaluating...: 100%|██████████| 125/125 [00:05<00:00, 21.20it/s, accuracy=0.899, loss=0.245] \n",
      "Training, epoch 4: 100%|██████████| 376/376 [00:15<00:00, 23.56it/s, accuracy=0.906, loss=0.223, mae=0.0941, max_grad=tensor(71.1243, device='cuda:2')]\n",
      "Evaluating...: 100%|██████████| 125/125 [00:05<00:00, 21.76it/s, accuracy=0.894, loss=0.251]\n",
      "Training, epoch 5: 100%|██████████| 376/376 [00:16<00:00, 23.18it/s, accuracy=0.913, loss=0.214, mae=0.0871, max_grad=tensor(0.6303, device='cuda:2')]\n",
      "Evaluating...: 100%|██████████| 125/125 [00:05<00:00, 22.26it/s, accuracy=0.905, loss=0.234]\n",
      "Training, epoch 6: 100%|██████████| 376/376 [00:16<00:00, 23.26it/s, accuracy=0.918, loss=0.206, mae=0.0821, max_grad=tensor(28.5403, device='cuda:2')]\n",
      "Evaluating...: 100%|██████████| 125/125 [00:05<00:00, 22.63it/s, accuracy=0.905, loss=0.229] \n",
      "Training, epoch 7: 100%|██████████| 376/376 [00:16<00:00, 23.28it/s, accuracy=0.919, loss=0.197, mae=0.081, max_grad=tensor(1.2903, device='cuda:2')] \n",
      "Evaluating...: 100%|██████████| 125/125 [00:05<00:00, 21.83it/s, accuracy=0.878, loss=0.258]\n",
      "Training, epoch 8: 100%|██████████| 376/376 [00:16<00:00, 22.93it/s, accuracy=0.924, loss=0.192, mae=0.0758, max_grad=tensor(0.5636, device='cuda:2')]\n",
      "Evaluating...: 100%|██████████| 125/125 [00:05<00:00, 20.89it/s, accuracy=0.905, loss=0.232] \n",
      "Training, epoch 9: 100%|██████████| 376/376 [00:16<00:00, 22.99it/s, accuracy=0.926, loss=0.185, mae=0.0738, max_grad=tensor(32.8978, device='cuda:2')]\n",
      "Evaluating...: 100%|██████████| 125/125 [00:05<00:00, 21.02it/s, accuracy=0.907, loss=0.229] \n",
      "Training, epoch 10: 100%|██████████| 376/376 [00:16<00:00, 22.95it/s, accuracy=0.928, loss=0.179, mae=0.0716, max_grad=tensor(16.9709, device='cuda:2')]\n",
      "Evaluating...: 100%|██████████| 125/125 [00:05<00:00, 20.84it/s, accuracy=0.897, loss=0.228]\n",
      "Training, epoch 11: 100%|██████████| 376/376 [00:16<00:00, 22.42it/s, accuracy=0.93, loss=0.172, mae=0.07, max_grad=tensor(80.8532, device='cuda:2')]   \n",
      "Evaluating...: 100%|██████████| 125/125 [00:05<00:00, 21.64it/s, accuracy=0.868, loss=0.27] \n",
      "Training, epoch 12: 100%|██████████| 376/376 [00:16<00:00, 22.52it/s, accuracy=0.935, loss=0.164, mae=0.0655, max_grad=tensor(0.6841, device='cuda:2')]\n",
      "Evaluating...: 100%|██████████| 125/125 [00:05<00:00, 21.49it/s, accuracy=0.875, loss=0.271]\n",
      "Training, epoch 13: 100%|██████████| 376/376 [00:16<00:00, 22.20it/s, accuracy=0.936, loss=0.159, mae=0.0645, max_grad=tensor(0.6683, device='cuda:2')]\n",
      "Evaluating...: 100%|██████████| 125/125 [00:05<00:00, 21.15it/s, accuracy=0.904, loss=0.225] \n",
      "Training, epoch 14: 100%|██████████| 376/376 [00:16<00:00, 22.60it/s, accuracy=0.94, loss=0.155, mae=0.0605, max_grad=tensor(0.4999, device='cuda:2')] \n",
      "Evaluating...: 100%|██████████| 125/125 [00:05<00:00, 21.42it/s, accuracy=0.906, loss=0.244] \n",
      "Evaluating...: 100%|██████████| 127/127 [00:06<00:00, 20.87it/s, accuracy=0.898, loss=0.0538]\n",
      "Training, epoch 0: 100%|██████████| 376/376 [00:17<00:00, 22.03it/s, accuracy=0.881, loss=0.32, mae=0.119, max_grad=tensor(3.1833, device='cuda:2')] \n",
      "Evaluating...: 100%|██████████| 125/125 [00:05<00:00, 21.58it/s, accuracy=0.895, loss=0.279]\n",
      "Training, epoch 1: 100%|██████████| 376/376 [00:16<00:00, 22.73it/s, accuracy=0.895, loss=0.273, mae=0.105, max_grad=tensor(1.6087, device='cuda:2')] \n",
      "Evaluating...: 100%|██████████| 125/125 [00:05<00:00, 21.80it/s, accuracy=0.901, loss=0.257]\n",
      "Training, epoch 2: 100%|██████████| 376/376 [00:16<00:00, 23.05it/s, accuracy=0.9, loss=0.248, mae=0.0998, max_grad=tensor(1.1254, device='cuda:2')]  \n",
      "Evaluating...: 100%|██████████| 125/125 [00:05<00:00, 22.37it/s, accuracy=0.899, loss=0.249] \n",
      "Training, epoch 3: 100%|██████████| 376/376 [00:16<00:00, 23.31it/s, accuracy=0.905, loss=0.235, mae=0.0955, max_grad=tensor(0.9443, device='cuda:2')]\n",
      "Evaluating...: 100%|██████████| 125/125 [00:05<00:00, 22.90it/s, accuracy=0.904, loss=0.242] \n",
      "Training, epoch 4: 100%|██████████| 376/376 [00:16<00:00, 22.67it/s, accuracy=0.911, loss=0.223, mae=0.0895, max_grad=tensor(0.8518, device='cuda:2')]\n",
      "Evaluating...: 100%|██████████| 125/125 [00:05<00:00, 21.66it/s, accuracy=0.905, loss=0.236] \n",
      "Training, epoch 5: 100%|██████████| 376/376 [00:16<00:00, 22.99it/s, accuracy=0.913, loss=0.212, mae=0.0866, max_grad=tensor(0.7830, device='cuda:2')]\n",
      "Evaluating...: 100%|██████████| 125/125 [00:05<00:00, 21.62it/s, accuracy=0.906, loss=0.231] \n",
      "Training, epoch 6: 100%|██████████| 376/376 [00:16<00:00, 23.23it/s, accuracy=0.917, loss=0.205, mae=0.083, max_grad=tensor(1.7639, device='cuda:2')] \n",
      "Evaluating...: 100%|██████████| 125/125 [00:05<00:00, 21.58it/s, accuracy=0.89, loss=0.243] \n",
      "Training, epoch 7: 100%|██████████| 376/376 [00:16<00:00, 23.00it/s, accuracy=0.922, loss=0.194, mae=0.0785, max_grad=tensor(0.5900, device='cuda:2')]\n",
      "Evaluating...: 100%|██████████| 125/125 [00:05<00:00, 21.59it/s, accuracy=0.903, loss=0.226]\n",
      "Training, epoch 8: 100%|██████████| 376/376 [00:16<00:00, 22.97it/s, accuracy=0.924, loss=0.186, mae=0.076, max_grad=tensor(0.5208, device='cuda:2')] \n",
      "Evaluating...: 100%|██████████| 125/125 [00:05<00:00, 22.54it/s, accuracy=0.899, loss=0.227]\n",
      "Training, epoch 9: 100%|██████████| 376/376 [00:16<00:00, 23.40it/s, accuracy=0.927, loss=0.182, mae=0.073, max_grad=tensor(78.7250, device='cuda:2')] \n",
      "Evaluating...: 100%|██████████| 125/125 [00:05<00:00, 22.78it/s, accuracy=0.906, loss=0.223] \n",
      "Training, epoch 10: 100%|██████████| 376/376 [00:16<00:00, 23.22it/s, accuracy=0.929, loss=0.169, mae=0.0708, max_grad=tensor(0.6267, device='cuda:2')]\n",
      "Evaluating...: 100%|██████████| 125/125 [00:05<00:00, 21.78it/s, accuracy=0.906, loss=0.225] \n",
      "Training, epoch 11: 100%|██████████| 376/376 [00:16<00:00, 23.47it/s, accuracy=0.932, loss=0.165, mae=0.0685, max_grad=tensor(0.4643, device='cuda:2')]\n",
      "Evaluating...: 100%|██████████| 125/125 [00:05<00:00, 21.69it/s, accuracy=0.908, loss=0.236] \n",
      "Training, epoch 12: 100%|██████████| 376/376 [00:15<00:00, 23.65it/s, accuracy=0.937, loss=0.155, mae=0.0626, max_grad=tensor(8.4361, device='cuda:2')]\n",
      "Evaluating...: 100%|██████████| 125/125 [00:06<00:00, 19.32it/s, accuracy=0.901, loss=0.22] \n",
      "Training, epoch 13: 100%|██████████| 376/376 [00:16<00:00, 22.35it/s, accuracy=0.939, loss=0.149, mae=0.0611, max_grad=tensor(0.4804, device='cuda:2')]\n",
      "Evaluating...: 100%|██████████| 125/125 [00:05<00:00, 20.85it/s, accuracy=0.907, loss=0.258] \n",
      "Training, epoch 14: 100%|██████████| 376/376 [00:17<00:00, 22.06it/s, accuracy=0.947, loss=0.143, mae=0.0528, max_grad=tensor(0.3196, device='cuda:2')]\n",
      "Evaluating...: 100%|██████████| 125/125 [00:06<00:00, 20.46it/s, accuracy=0.908, loss=0.249] \n",
      "Evaluating...: 100%|██████████| 127/127 [00:06<00:00, 20.44it/s, accuracy=0.904, loss=0.216] \n"
     ]
    }
   ],
   "source": [
    "for i in exp_range:\n",
    "    curr_res = run_experiment(i,n_epochs=15)\n",
    "    res[str(i)] = curr_res"
   ]
  },
  {
   "cell_type": "code",
   "execution_count": 27,
   "id": "0c8b567f",
   "metadata": {},
   "outputs": [],
   "source": [
    "from sklearn import metrics"
   ]
  },
  {
   "cell_type": "code",
   "execution_count": 28,
   "id": "422b7cf4",
   "metadata": {},
   "outputs": [
    {
     "data": {
      "text/plain": [
       "{'ce': {'best_acc_train': 0.9388537154281906,\n",
       "  'best_acc_test': 0.9102306921061207,\n",
       "  'best_epoch': 13,\n",
       "  'accuracy_score': 0.9088657751657279,\n",
       "  'recall_score': 0.41841004184100417,\n",
       "  'precision_score': 0.6896551724137931,\n",
       "  'f1_score': 0.5208333333333334,\n",
       "  'roc_auc_score': 0.8943373607258708,\n",
       "  'y_pred': array([[0.9986979 , 0.0013021 ],\n",
       "         [0.9986777 , 0.00132225],\n",
       "         [0.91435   , 0.08565006],\n",
       "         ...,\n",
       "         [0.10635   , 0.89365005],\n",
       "         [0.15380186, 0.8461981 ],\n",
       "         [0.7210872 , 0.27891275]], dtype=float32),\n",
       "  'y_actual': array([0, 0, 0, ..., 1, 1, 1])}}"
      ]
     },
     "execution_count": 28,
     "metadata": {},
     "output_type": "execute_result"
    }
   ],
   "source": [
    "res"
   ]
  },
  {
   "cell_type": "code",
   "execution_count": null,
   "id": "2654df2d",
   "metadata": {},
   "outputs": [],
   "source": [
    "def metric_by_ap(y_pred_proba , metric_func = metrics.accuracy_score ,n_aps = 10):\n",
    "    aps = list(np.linspace(0,1,n_aps))\n",
    "    y_pred_class_ap =  > ap \n",
    "    metric_func(res['ce']['y_actual'],y_pred_class_ap)"
   ]
  },
  {
   "cell_type": "code",
   "execution_count": 46,
   "id": "9a8f765e",
   "metadata": {},
   "outputs": [
    {
     "data": {
      "text/plain": [
       "[(0.0, 0.21169176262178918),\n",
       " (0.05263157894736842, 0.4722222222222222),\n",
       " (0.10526315789473684, 0.5189504373177842),\n",
       " (0.15789473684210525, 0.5475792988313857),\n",
       " (0.21052631578947367, 0.5488029465930019),\n",
       " (0.2631578947368421, 0.5562130177514794),\n",
       " (0.3157894736842105, 0.5518672199170124),\n",
       " (0.3684210526315789, 0.5398230088495575),\n",
       " (0.42105263157894735, 0.5355450236966824),\n",
       " (0.47368421052631576, 0.5241730279898219),\n",
       " (0.5263157894736842, 0.5040214477211797),\n",
       " (0.5789473684210527, 0.46368715083798884),\n",
       " (0.631578947368421, 0.4385964912280702),\n",
       " (0.6842105263157894, 0.3926380368098159),\n",
       " (0.7368421052631579, 0.34415584415584416),\n",
       " (0.7894736842105263, 0.29931972789115646),\n",
       " (0.8421052631578947, 0.18315018315018314),\n",
       " (0.894736842105263, 0.08695652173913043),\n",
       " (0.9473684210526315, 0.008333333333333333),\n",
       " (1.0, 0.0)]"
      ]
     },
     "execution_count": 46,
     "metadata": {},
     "output_type": "execute_result"
    }
   ],
   "source": [
    "def metric_by_ap(y_pred_proba,y_true,metric_func,n_aps = 10):\n",
    "    results = []\n",
    "    for ap in list(np.linspace(0,1,n_aps)):\n",
    "        y_pred_class_ap = y_pred_proba > ap \n",
    "        results.append((ap,metric_func(y_pred_class_ap,y_true)))\n",
    "    return results\n",
    "\n",
    "metric_by_ap(res['ce']['y_pred'][:,1],res['ce']['y_actual'],metrics.f1_score,n_aps=20)"
   ]
  },
  {
   "cell_type": "code",
   "execution_count": 47,
   "id": "5f5584ee",
   "metadata": {},
   "outputs": [
    {
     "name": "stdout",
     "output_type": "stream",
     "text": [
      "0.0 0.8994551758591405\n",
      "0.25 0.9044081228330857\n",
      "0.5 0.9014363546605273\n",
      "0.75 0.9078751857650345\n",
      "1.0 0.8984645864584471\n",
      "0.1237595955813518 0.9044081228626075\n",
      "ce 0.908865775136206\n",
      "wce 0.9004457652598339\n"
     ]
    }
   ],
   "source": [
    "for i in res.keys():\n",
    "    print(i , res[str(i)]['accuracy_score'])"
   ]
  },
  {
   "cell_type": "code",
   "execution_count": 48,
   "id": "a1597f4f",
   "metadata": {},
   "outputs": [
    {
     "name": "stdout",
     "output_type": "stream",
     "text": [
      "0.0 0.6323529411764706\n",
      "0.25 0.6385542168674698\n",
      "0.5 0.6923076923076923\n",
      "0.75 0.7523809523809524\n",
      "1.0 0.6888888888888889\n",
      "0.1237595955813518 0.7674418604651163\n",
      "ce 0.706766917293233\n",
      "wce 0.7209302325581395\n"
     ]
    }
   ],
   "source": [
    "for i in res.keys():\n",
    "    print(i , res[str(i)]['precision_score'])"
   ]
  },
  {
   "cell_type": "code",
   "execution_count": 50,
   "id": "31c45016",
   "metadata": {},
   "outputs": [
    {
     "name": "stdout",
     "output_type": "stream",
     "text": [
      "0.0 0.3598326359832636\n",
      "0.25 0.4435146443514644\n",
      "0.5 0.301255230125523\n",
      "0.75 0.3305439330543933\n",
      "1.0 0.2594142259414226\n",
      "0.1237595955813518 0.27615062761506276\n",
      "ce 0.39330543933054396\n",
      "wce 0.2594142259414226\n"
     ]
    }
   ],
   "source": [
    "for i in res.keys():\n",
    "    print(i , res[str(i)]['recall_score'])"
   ]
  },
  {
   "cell_type": "code",
   "execution_count": 49,
   "id": "6f29b359",
   "metadata": {},
   "outputs": [
    {
     "name": "stdout",
     "output_type": "stream",
     "text": [
      "0.0 0.45866666666666667\n",
      "0.25 0.5234567901234568\n",
      "0.5 0.4198250728862974\n",
      "0.75 0.4593023255813953\n",
      "1.0 0.37689969604863227\n",
      "0.1237595955813518 0.40615384615384614\n",
      "ce 0.5053763440860215\n",
      "wce 0.38153846153846155\n"
     ]
    }
   ],
   "source": [
    "for i in res.keys():\n",
    "    print(i , res[str(i)]['f1_score'])"
   ]
  },
  {
   "cell_type": "code",
   "execution_count": 51,
   "id": "a2315b06",
   "metadata": {},
   "outputs": [
    {
     "name": "stdout",
     "output_type": "stream",
     "text": [
      "0.0 0.8851135348596681\n",
      "0.25 0.8968783790136806\n",
      "0.5 0.8961214799492268\n",
      "0.75 0.8936791876263457\n",
      "1.0 0.8855013868647453\n",
      "0.1237595955813518 0.8918292510930375\n",
      "ce 0.8946029805838935\n",
      "wce 0.890289596163791\n"
     ]
    }
   ],
   "source": [
    "for i in res.keys():\n",
    "    print(i , res[str(i)]['roc_auc_score'])"
   ]
  },
  {
   "cell_type": "code",
   "execution_count": 92,
   "id": "506069bd",
   "metadata": {},
   "outputs": [],
   "source": [
    "model = classification_model_vgg(\"vgg19\", num_classes = 2)\n",
    "loaders,dset_size, num_class = data_load(\"../datasets/DermMel/\", 16,phases= ['train', 'val', 'test'],db ='Melanoma')\n",
    "\n",
    "\n",
    "# cost_matrix = np.array([[0.3,0.4],\n",
    "#                         [1, 0]])\n",
    "\n",
    "cost_matrix = np.array([[0.1,0.9],\n",
    "                        [0.9, 0.1]])\n",
    "\n",
    "my_loss_csce = CostSensitiveLoss(weight= 10000, cost_matrix = cost_matrix, reduction = \"mean\")\n",
    "\n",
    "engine_csce = OrdinalEngine(\n",
    "    model=model, loss_fn=my_loss_CE, \n",
    "    device=device, loaders=loaders, n_classes=2,\n",
    "    use_lr_scheduler=False,\n",
    "    optimizer_fn=SGD, lr=1.0e-3, weight_decay=5.0e-2)"
   ]
  },
  {
   "cell_type": "code",
   "execution_count": 93,
   "id": "b92579cb",
   "metadata": {},
   "outputs": [
    {
     "name": "stderr",
     "output_type": "stream",
     "text": [
      "Training, epoch 0: 100%|██████████| 376/376 [00:17<00:00, 21.97it/s, accuracy=0.882, loss=0.325, mae=0.118, max_grad=tensor(3.6190, device='cuda:2')]\n",
      "Evaluating...: 100%|██████████| 125/125 [00:05<00:00, 21.71it/s, accuracy=0.895, loss=0.272]\n",
      "Training, epoch 1: 100%|██████████| 376/376 [00:16<00:00, 23.23it/s, accuracy=0.894, loss=0.267, mae=0.106, max_grad=tensor(1.4818, device='cuda:2')]\n",
      "Evaluating...: 100%|██████████| 125/125 [00:05<00:00, 21.50it/s, accuracy=0.898, loss=0.27] \n",
      "Training, epoch 2: 100%|██████████| 376/376 [00:16<00:00, 22.89it/s, accuracy=0.9, loss=0.247, mae=0.1, max_grad=tensor(1.0492, device='cuda:2')]     \n",
      "Evaluating...: 100%|██████████| 125/125 [00:05<00:00, 21.55it/s, accuracy=0.901, loss=0.252] \n",
      "Training, epoch 3: 100%|██████████| 376/376 [00:16<00:00, 23.42it/s, accuracy=0.903, loss=0.233, mae=0.0968, max_grad=tensor(159.6463, device='cuda:2')]\n",
      "Evaluating...: 100%|██████████| 125/125 [00:05<00:00, 23.53it/s, accuracy=0.904, loss=0.247]\n",
      "Training, epoch 4: 100%|██████████| 376/376 [00:15<00:00, 23.96it/s, accuracy=0.908, loss=0.223, mae=0.0918, max_grad=tensor(0.9893, device='cuda:2')]\n",
      "Evaluating...: 100%|██████████| 125/125 [00:05<00:00, 24.09it/s, accuracy=0.904, loss=0.235] \n",
      "Training, epoch 5: 100%|██████████| 376/376 [00:15<00:00, 23.66it/s, accuracy=0.918, loss=0.211, mae=0.0818, max_grad=tensor(0.6444, device='cuda:2')]\n",
      "Evaluating...: 100%|██████████| 125/125 [00:05<00:00, 22.63it/s, accuracy=0.907, loss=0.233] \n",
      "Training, epoch 6: 100%|██████████| 376/376 [00:15<00:00, 23.93it/s, accuracy=0.917, loss=0.202, mae=0.0831, max_grad=tensor(0.4889, device='cuda:2')]\n",
      "Evaluating...: 100%|██████████| 125/125 [00:05<00:00, 22.62it/s, accuracy=0.909, loss=0.226] \n",
      "Training, epoch 7: 100%|██████████| 376/376 [00:15<00:00, 23.88it/s, accuracy=0.92, loss=0.192, mae=0.0805, max_grad=tensor(277.4980, device='cuda:2')] \n",
      "Evaluating...: 100%|██████████| 125/125 [00:05<00:00, 22.95it/s, accuracy=0.909, loss=0.223] \n",
      "Training, epoch 8: 100%|██████████| 376/376 [00:15<00:00, 24.14it/s, accuracy=0.928, loss=0.183, mae=0.0725, max_grad=tensor(0.5116, device='cuda:2')]\n",
      "Evaluating...: 100%|██████████| 125/125 [00:05<00:00, 23.62it/s, accuracy=0.893, loss=0.241]\n",
      "Training, epoch 9: 100%|██████████| 376/376 [00:15<00:00, 23.94it/s, accuracy=0.927, loss=0.179, mae=0.0735, max_grad=tensor(0.5053, device='cuda:2')]\n",
      "Evaluating...: 100%|██████████| 125/125 [00:05<00:00, 22.36it/s, accuracy=0.908, loss=0.231] \n",
      "Training, epoch 10: 100%|██████████| 376/376 [00:15<00:00, 23.81it/s, accuracy=0.933, loss=0.168, mae=0.0675, max_grad=tensor(431.5024, device='cuda:2')]\n",
      "Evaluating...: 100%|██████████| 125/125 [00:05<00:00, 22.68it/s, accuracy=0.904, loss=0.216] \n",
      "Training, epoch 11: 100%|██████████| 376/376 [00:15<00:00, 24.01it/s, accuracy=0.936, loss=0.162, mae=0.0645, max_grad=tensor(0.4048, device='cuda:2')]\n",
      "Evaluating...: 100%|██████████| 125/125 [00:05<00:00, 22.76it/s, accuracy=0.911, loss=0.234] \n",
      "Training, epoch 12: 100%|██████████| 376/376 [00:15<00:00, 23.97it/s, accuracy=0.936, loss=0.153, mae=0.0641, max_grad=tensor(0.3954, device='cuda:2')]\n",
      "Evaluating...: 100%|██████████| 125/125 [00:05<00:00, 23.41it/s, accuracy=0.908, loss=0.243] \n",
      "Training, epoch 13: 100%|██████████| 376/376 [00:15<00:00, 23.64it/s, accuracy=0.943, loss=0.147, mae=0.0573, max_grad=tensor(0.4948, device='cuda:2')]\n",
      "Evaluating...: 100%|██████████| 125/125 [00:05<00:00, 22.93it/s, accuracy=0.905, loss=0.222] \n",
      "Training, epoch 14: 100%|██████████| 376/376 [00:15<00:00, 23.81it/s, accuracy=0.944, loss=0.145, mae=0.056, max_grad=tensor(0.9095, device='cuda:2')] \n",
      "Evaluating...: 100%|██████████| 125/125 [00:05<00:00, 22.37it/s, accuracy=0.907, loss=0.251] \n"
     ]
    }
   ],
   "source": [
    "best_acc_train2,best_acc_test2,best_model2 ,best_epoch2 = engine_csce.train(n_epochs=15)"
   ]
  },
  {
   "cell_type": "code",
   "execution_count": 94,
   "id": "1a04d272",
   "metadata": {},
   "outputs": [
    {
     "name": "stderr",
     "output_type": "stream",
     "text": [
      "Evaluating...: 100%|██████████| 127/127 [00:05<00:00, 22.32it/s, accuracy=0.906, loss=0.258] "
     ]
    },
    {
     "name": "stdout",
     "output_type": "stream",
     "text": [
      "best_epoch 11\n",
      "best_acc_test 0.9063893016639943\n",
      "best_acc_train:  0.9440186604465178  best_acc_val:  0.9107321966196613\n",
      "recall_score 0.3263598326359833\n",
      "precision_score 0.7358490566037735\n",
      "f1_score 0.45217391304347826\n"
     ]
    },
    {
     "name": "stderr",
     "output_type": "stream",
     "text": [
      "\n"
     ]
    }
   ],
   "source": [
    "engine_csce_best = OrdinalEngine(\n",
    "    model=best_model2, loss_fn=my_loss_CE, \n",
    "    device=device, loaders=loaders, n_classes=2,\n",
    "    use_lr_scheduler=False,\n",
    "    optimizer_fn=SGD, lr=1.0e-3, weight_decay=5.0e-2)\n",
    "\n",
    "eval_test_csce = engine_csce_best._eval_epoch(phase='test')\n",
    "print('best_epoch',best_epoch2)\n",
    "\n",
    "print('best_acc_test',eval_test_csce['accuracy'])\n",
    "print('best_acc_train: ',best_acc_train2,' best_acc_val: ',best_acc_test2)\n",
    "\n",
    "print('recall_score',eval_test_csce['recall_score'])\n",
    "print('precision_score',eval_test_csce['precision_score'])\n",
    "print('f1_score',eval_test_csce['f1_score'])\n"
   ]
  },
  {
   "cell_type": "code",
   "execution_count": 95,
   "id": "3e574dfa",
   "metadata": {},
   "outputs": [
    {
     "data": {
      "text/plain": [
       "tensor([0.9475, 0.0525], device='cuda:2')"
      ]
     },
     "execution_count": 95,
     "metadata": {},
     "output_type": "execute_result"
    }
   ],
   "source": [
    "eval_test_csce['bin_counter']"
   ]
  },
  {
   "cell_type": "code",
   "execution_count": 99,
   "id": "61818f9d",
   "metadata": {},
   "outputs": [
    {
     "data": {
      "image/png": "[encoded data removed]",
      "text/plain": [
       "<Figure size 432x288 with 1 Axes>"
      ]
     },
     "metadata": {
      "needs_background": "light"
     },
     "output_type": "display_data"
    }
   ],
   "source": [
    "from sklearn import metrics\n",
    "y_test = eval_test_csce['y_actual']\n",
    "y_pred_proba= eval_test_csce['y_pred'][:,1]\n",
    "fpr, tpr, _ = metrics.roc_curve(eval_test['y_actual'],  eval_test['y_pred'][:,1])\n",
    "auc = metrics.roc_auc_score(y_test, y_pred_proba)\n",
    "plt.plot(fpr,tpr,label=\"Our aproch , auc=\"+str(round(auc,5)*100))\n",
    "plt.plot(fpr2,tpr2,label=\"Cross entropy, auc=\"+str(round(auc2,5)*100))\n",
    "\n",
    "plt.legend(loc=4)\n",
    "plt.show()"
   ]
  },
  {
   "cell_type": "code",
   "execution_count": 97,
   "id": "a3a5613c",
   "metadata": {},
   "outputs": [
    {
     "data": {
      "image/png": "[encoded data removed]",
      "text/plain": [
       "<Figure size 432x288 with 1 Axes>"
      ]
     },
     "metadata": {
      "needs_background": "light"
     },
     "output_type": "display_data"
    }
   ],
   "source": [
    "from sklearn import metrics\n",
    "y_test = eval_test_ce['y_actual']\n",
    "y_pred_proba= eval_test_ce['y_pred'][:,1]\n",
    "fpr2, tpr2, _ = metrics.roc_curve(eval_test['y_actual'],  eval_test['y_pred'][:,1])\n",
    "auc2 = metrics.roc_auc_score(y_test, y_pred_proba)\n",
    "plt.plot(fpr2,tpr2,label=\"data 1, auc=\"+str(round(auc2,5)*100))\n",
    "plt.legend(loc=4)\n",
    "plt.show()"
   ]
  },
  {
   "cell_type": "code",
   "execution_count": 76,
   "id": "50a975d8",
   "metadata": {},
   "outputs": [
    {
     "name": "stderr",
     "output_type": "stream",
     "text": [
      "Evaluating...: 100%|██████████| 127/127 [00:05<00:00, 22.01it/s, accuracy=0.904, loss=0.244] "
     ]
    },
    {
     "name": "stdout",
     "output_type": "stream",
     "text": [
      "best_acc_test 0.9044081228626075\n",
      "best_acc_train:  0.949516827724092  best_acc_val:  0.9112337011033099\n",
      "recall_score 0.4476987447698745\n",
      "precision_score 0.6369047619047619\n",
      "f1_score 0.5257985257985257\n"
     ]
    },
    {
     "name": "stderr",
     "output_type": "stream",
     "text": [
      "\n"
     ]
    },
    {
     "data": {
      "text/plain": [
       "{'bin_counter': tensor([0.9168, 0.0832], device='cuda:2'),\n",
       " 'loss': 0.24396336339174254,\n",
       " 'accuracy': 0.9044081228626075,\n",
       " 'recall_score': 0.4476987447698745,\n",
       " 'precision_score': 0.6369047619047619,\n",
       " 'f1_score': 0.5257985257985257,\n",
       " 'y_pred': array([[0.9988194 , 0.00118058],\n",
       "        [0.99896085, 0.00103913],\n",
       "        [0.88207555, 0.11792448],\n",
       "        ...,\n",
       "        [0.07193402, 0.92806596],\n",
       "        [0.14865422, 0.8513458 ],\n",
       "        [0.5188726 , 0.4811274 ]], dtype=float32),\n",
       " 'y_actual': array([0, 0, 0, ..., 1, 1, 1]),\n",
       " 'score_dist': 0    1851\n",
       " 1     168\n",
       " dtype: int64}"
      ]
     },
     "execution_count": 76,
     "metadata": {},
     "output_type": "execute_result"
    }
   ],
   "source": [
    "engine_ce_best = OrdinalEngine(\n",
    "    model=best_model, loss_fn=my_loss_CE, \n",
    "    device=device, loaders=loaders, n_classes=2,\n",
    "    use_lr_scheduler=False,\n",
    "    optimizer_fn=SGD, lr=1.0e-3, weight_decay=5.0e-2)\n",
    "\n",
    "eval_test_ce = engine_ce_best._eval_epoch(phase='test')\n",
    "print('best_acc_test',eval_test_ce['accuracy'])\n",
    "print('best_acc_train: ',best_acc_train,' best_acc_val: ',best_acc_test)\n",
    "\n",
    "print('recall_score',eval_test_ce['recall_score'])\n",
    "print('precision_score',eval_test_ce['precision_score'])\n",
    "print('f1_score',eval_test_ce['f1_score'])\n",
    "eval_test_ce"
   ]
  },
  {
   "cell_type": "code",
   "execution_count": 48,
   "id": "1dac75c6",
   "metadata": {},
   "outputs": [],
   "source": [
    "# model = classification_model_vgg(\"vgg19\", num_classes = 1)\n",
    "# loaders,dset_size, num_class = data_load(\"../projects/datasets/DermMel/\", 16,phases= ['train', 'val', 'test'],db ='Melanoma')\n",
    "\n",
    "\n",
    "# cost_matrix = np.array([[1,1],\n",
    "#                         [1, 1]])\n",
    "\n",
    "# my_loss_CE = CostSensitiveLoss(weight= 10000, cost_matrix = cost_matrix, reduction = \"mean\")\n",
    "\n",
    "# engine_ce = model_engine.OrdinalEngine(\n",
    "#     model=model, loss_fn=my_loss_CE, \n",
    "#     device=device, loaders=loaders, n_classes=1,\n",
    "#     use_lr_scheduler=False,\n",
    "#     optimizer_fn=SGD, lr=1.0e-3, weight_decay=5.0e-2)aaa"
   ]
  },
  {
   "cell_type": "code",
   "execution_count": null,
   "id": "01e14250",
   "metadata": {},
   "outputs": [],
   "source": [
    "model = classification_model_vgg(\"vgg19\", num_classes = 1)\n",
    "loaders,dset_size, num_class = data_load(\"../projects/datasets/DermMel/\", 16,phases= ['train', 'val', 'test'],db ='Melanoma')\n",
    "\n",
    "\n",
    "cost_matrix = np.array([[1,1],\n",
    "                        [1, 1]])\n",
    "\n",
    "my_loss_CE = CostSensitiveLoss(weight= 10000, cost_matrix = cost_matrix, reduction = \"mean\")\n",
    "\n",
    "engine_ce = model_engine.OrdinalEngine(\n",
    "    model=model, loss_fn=my_loss_CE, \n",
    "    device=device, loaders=loaders, n_classes=1,\n",
    "    use_lr_scheduler=False,\n",
    "    optimizer_fn=SGD, lr=1.0e-3, weight_decay=5.0e-2)"
   ]
  },
  {
   "cell_type": "code",
   "execution_count": 42,
   "id": "1e5c66b5",
   "metadata": {},
   "outputs": [],
   "source": [
    "X, y = next(iter(loaders[\"train\"]))\n",
    "X, y = X.to(device), y.to(device)\n",
    "\n",
    "y_pred = model(X)\n"
   ]
  },
  {
   "cell_type": "code",
   "execution_count": 43,
   "id": "dfeda658",
   "metadata": {},
   "outputs": [
    {
     "name": "stderr",
     "output_type": "stream",
     "text": [
      "Training, epoch 0: 100%|██████████| 376/376 [00:44<00:00,  8.38it/s, accuracy=0.88, loss=0.317, mae=0.12]  \n"
     ]
    }
   ],
   "source": [
    "engine._train_epoch()"
   ]
  },
  {
   "cell_type": "code",
   "execution_count": 24,
   "id": "ef7bb51b",
   "metadata": {},
   "outputs": [],
   "source": [
    "class PredictionsCollector:\n",
    "    def __init__(self, n_classes, device):\n",
    "        self.device = device\n",
    "        self.predictions_collector = []\n",
    "        self.actual_collector = []\n",
    "        \n",
    "    @torch.no_grad()\n",
    "    def update(self, y_pred:torch.Tensor, y_true: torch.Tensor):\n",
    "        '''\n",
    "        y_pred is NxC (even if C is 2)\n",
    "        y_true is N (actual classes [1,2,3,0,2...])\n",
    "        \n",
    "        '''\n",
    "        self.predictions_collector.append(y_pred.cpu().numpy())\n",
    "        self.actual_collector.append(y_true.cpu().numpy())\n",
    "        \n",
    "    def finalize(self):\n",
    "        self.predictions_collector = np.concatenate(self.predictions_collector) #should be numpy\n",
    "        self.actual_collector = np.concatenate(self.actual_collector)\n",
    "\n",
    "pc = PredictionsCollector(3, 0)\n",
    "y_true = torch.tensor([1,2,0], device = 0)\n",
    "y_pred = torch.tensor([[0,1,0], [0,0,1], [1,0,0]], device = 0)\n",
    "\n",
    "pc.update(y_pred, y_true)\n",
    "\n",
    "pc.update(y_pred, y_true)\n",
    "pc.finalize()"
   ]
  },
  {
   "cell_type": "code",
   "execution_count": 28,
   "id": "1f71ecdd",
   "metadata": {},
   "outputs": [
    {
     "data": {
      "text/plain": [
       "array([[0, 1, 0],\n",
       "       [0, 0, 1],\n",
       "       [1, 0, 0],\n",
       "       [0, 1, 0],\n",
       "       [0, 0, 1],\n",
       "       [1, 0, 0]])"
      ]
     },
     "execution_count": 28,
     "metadata": {},
     "output_type": "execute_result"
    }
   ],
   "source": []
  },
  {
   "cell_type": "code",
   "execution_count": 21,
   "id": "eb585790",
   "metadata": {},
   "outputs": [
    {
     "data": {
      "text/plain": [
       "array([[0, 1, 0],\n",
       "       [0, 0, 1],\n",
       "       [1, 0, 0]])"
      ]
     },
     "execution_count": 21,
     "metadata": {},
     "output_type": "execute_result"
    }
   ],
   "source": []
  }
 ],
 "metadata": {
  "kernelspec": {
   "display_name": "base",
   "language": "python",
   "name": "python3"
  },
  "language_info": {
   "codemirror_mode": {
    "name": "ipython",
    "version": 3
   },
   "file_extension": ".py",
   "mimetype": "text/x-python",
   "name": "python",
   "nbconvert_exporter": "python",
   "pygments_lexer": "ipython3",
   "version": "3.9.12 (main, Apr  5 2022, 06:56:58) \n[GCC 7.5.0]"
  },
  "vscode": {
   "interpreter": {
    "hash": "ef2b262f624926b316b44e9f5d184632806344ac2a150a888e30d2f077d5c057"
   }
  }
 },
 "nbformat": 4,
 "nbformat_minor": 5
}

{
    "cells": [
     {
      "cell_type": "code",
      "execution_count": 1,
      "id": "98e9a52b-f468-4cf3-abe8-256b4b46df3d",
      "metadata": {},
      "outputs": [],
      "source": [
       "%load_ext autoreload\n",
       "%autoreload 2"
      ]
     },
     {
      "cell_type": "code",
      "execution_count": 2,
      "id": "42edebea-d418-4d45-ba09-a92b8fb07a46",
      "metadata": {},
      "outputs": [],
      "source": [
       "import os\n",
       "import pandas as pd"
      ]
     },
     {
      "cell_type": "code",
      "execution_count": 3,
      "id": "440c4122-8a78-4284-9969-544fd9f7d701",
      "metadata": {},
      "outputs": [
       {
        "name": "stdout",
        "output_type": "stream",
        "text": [
         "loaded ordinaloss.utils.pretrained_models\n",
         "loaded ordinaloss.engine.model_engine\n",
         "loaded ordinaloss.utils.data_utils\n",
         "loaded ordinaloss.utils.loss_utils\n"
        ]
       },
       {
        "data": {
         "text/plain": [
          "'cuda:2'"
         ]
        },
        "execution_count": 3,
        "metadata": {},
        "output_type": "execute_result"
       }
      ],
      "source": [
       "#from ordinaloss.utils.datasets import ImageFolder, create_transform_pipeline\n",
       "from ordinaloss.utils.pretrained_models import classification_model_densenet, classification_model_resnet, classification_model_vgg\n",
       "\n",
       "from ordinaloss.engine.model_engine import OrdinalEngine, OrdinalEngineNew\n",
       "\n",
       "\n",
       "from ordinaloss.utils.data_utils import data_load\n",
       "from ordinaloss.utils.loss_utils import SinimLoss, GirlsLoss, CSCELoss , CostSensitiveLoss\n",
       "from ordinaloss.utils.loss_utils import create_ordinal_cost_matrix\n",
       "\n",
       "\n",
       "import matplotlib.pyplot as plt\n",
       "\n",
       "from torch.utils.data import DataLoader\n",
       "from torch.optim import Adam, SGD\n",
       "import torch\n",
       "import numpy as np\n",
       "\n",
       "device = \"cuda:2\" if torch.cuda.is_available() else \"cpu\"\n",
       "device"
      ]
     },
     {
      "cell_type": "code",
      "execution_count": 4,
      "id": "0a15642b",
      "metadata": {},
      "outputs": [],
      "source": [
       "from ordinaloss.utils.callback_utils import PrintingCallback"
      ]
     },
     {
      "cell_type": "code",
      "execution_count": 5,
      "id": "655a43aa",
      "metadata": {},
      "outputs": [
       {
        "data": {
         "text/plain": [
          "'/home/dsi/marudi/ordinaloss'"
         ]
        },
        "execution_count": 5,
        "metadata": {},
        "output_type": "execute_result"
       }
      ],
      "source": [
       "os.getcwd()"
      ]
     },
     {
      "cell_type": "code",
      "execution_count": 6,
      "id": "72ee85e9",
      "metadata": {},
      "outputs": [
       {
        "data": {
         "text/plain": [
          "['ordinaloss', 'maruloss', 'datasets', 'ordinaloss_not_git', 'test', 'AdaCSL']"
         ]
        },
        "execution_count": 6,
        "metadata": {},
        "output_type": "execute_result"
       }
      ],
      "source": [
       "os.listdir('../projects')"
      ]
     },
     {
      "cell_type": "code",
      "execution_count": 7,
      "id": "6c540d94",
      "metadata": {},
      "outputs": [
       {
        "name": "stdout",
        "output_type": "stream",
        "text": [
         "loaded ordinaloss.utils.metric_utils!!\n",
         "loaded ordinaloss.nextgen_engine.model_engine\n"
        ]
       }
      ],
      "source": [
       "# cost_matrix = create_ordinal_cost_matrix(2, cost_distance=3, diagonal_value=20)\n",
       "\n",
       "from ordinaloss.nextgen_engine import model_engine\n",
       "\n",
       "callbacks = [PrintingCallback()]"
      ]
     },
     {
      "cell_type": "code",
      "execution_count": 9,
      "id": "4009c6c2",
      "metadata": {},
      "outputs": [],
      "source": [
       "model = classification_model_vgg(\"vgg19\", num_classes = 1)\n",
       "loaders,dset_size, num_class = data_load(\"../projects/datasets/DermMel/\", 16,phases= ['train', 'val', 'test'],db ='Melanoma')\n",
       "\n",
       "\n",
       "cost_matrix = np.array([[1,1],\n",
       "                        [1, 1]])\n",
       "\n",
       "my_loss_CE = CostSensitiveLoss(weight= 10000, cost_matrix = cost_matrix, reduction = \"mean\")\n",
       "\n",
       "engine_ce = model_engine.OrdinalEngine(\n",
       "    model=model, loss_fn=my_loss_CE, \n",
       "    device=device, loaders=loaders, n_classes=1,\n",
       "    use_lr_scheduler=False,\n",
       "    optimizer_fn=SGD, lr=1.0e-3, weight_decay=5.0e-2)"
      ]
     },
     {
      "cell_type": "code",
      "execution_count": 11,
      "id": "fbd36793",
      "metadata": {},
      "outputs": [
       {
        "name": "stderr",
        "output_type": "stream",
        "text": [
         "Training, epoch 1: 100%|██████████| 376/376 [00:15<00:00, 23.73it/s, accuracy=0.89, loss=nan, mae=0.11, max_grad=0]  \n",
         "Evaluating...: 100%|██████████| 125/125 [00:05<00:00, 22.90it/s, accuracy=0.893, loss=nan]\n",
         "Training, epoch 2: 100%|██████████| 376/376 [00:15<00:00, 24.27it/s, accuracy=0.89, loss=nan, mae=0.11, max_grad=0]  \n",
         "Evaluating...: 100%|██████████| 125/125 [00:05<00:00, 23.09it/s, accuracy=0.893, loss=nan]\n",
         "Training, epoch 3: 100%|██████████| 376/376 [00:15<00:00, 24.23it/s, accuracy=0.89, loss=nan, mae=0.11, max_grad=0]  \n",
         "Evaluating...: 100%|██████████| 125/125 [00:05<00:00, 23.70it/s, accuracy=0.893, loss=nan]\n",
         "Training, epoch 4: 100%|██████████| 376/376 [00:15<00:00, 24.38it/s, accuracy=0.89, loss=nan, mae=0.11, max_grad=0]  \n",
         "Evaluating...: 100%|██████████| 125/125 [00:05<00:00, 23.45it/s, accuracy=0.893, loss=nan]\n",
         "Training, epoch 5: 100%|██████████| 376/376 [00:15<00:00, 23.84it/s, accuracy=0.89, loss=nan, mae=0.11, max_grad=0]   \n",
         "Evaluating...: 100%|██████████| 125/125 [00:05<00:00, 22.38it/s, accuracy=0.893, loss=nan]\n",
         "Training, epoch 6: 100%|██████████| 376/376 [00:15<00:00, 24.02it/s, accuracy=0.89, loss=nan, mae=0.11, max_grad=0]  \n",
         "Evaluating...: 100%|██████████| 125/125 [00:05<00:00, 23.11it/s, accuracy=0.893, loss=nan]\n",
         "Training, epoch 7: 100%|██████████| 376/376 [00:15<00:00, 24.24it/s, accuracy=0.89, loss=nan, mae=0.11, max_grad=0]  \n",
         "Evaluating...: 100%|██████████| 125/125 [00:05<00:00, 23.97it/s, accuracy=0.893, loss=nan]\n",
         "Training, epoch 8:   1%|          | 3/376 [00:00<00:57,  6.45it/s, accuracy=0.958, loss=nan, mae=0.0417, max_grad=0]\n"
        ]
       },
       {
        "ename": "KeyboardInterrupt",
        "evalue": "",
        "output_type": "error",
        "traceback": [
         "\u001b[0;31m---------------------------------------------------------------------------\u001b[0m",
         "\u001b[0;31mKeyboardInterrupt\u001b[0m                         Traceback (most recent call last)",
         "\u001b[1;32m/home/dsi/marudi/ordinaloss/training_model_exmaple_matan.ipynb Cell 9\u001b[0m in \u001b[0;36m<cell line: 1>\u001b[0;34m()\u001b[0m\n\u001b[0;32m----> <a href='vscode-notebook-cell://ssh-remote%2Bdsisco01/home/dsi/marudi/ordinaloss/training_model_exmaple_matan.ipynb#X16sdnNjb2RlLXJlbW90ZQ%3D%3D?line=0'>1</a>\u001b[0m best_acc_train,best_acc_test,best_model \u001b[39m=\u001b[39m engine_ce\u001b[39m.\u001b[39;49mtrain(\u001b[39m5\u001b[39;49m)\n",
         "File \u001b[0;32m~/ordinaloss/ordinaloss/nextgen_engine/model_engine.py:248\u001b[0m, in \u001b[0;36mOrdinalEngine.train\u001b[0;34m(self, test_loader, n_epochs)\u001b[0m\n\u001b[1;32m    246\u001b[0m best_model \u001b[39m=\u001b[39m copy\u001b[39m.\u001b[39mdeepcopy(\u001b[39mself\u001b[39m\u001b[39m.\u001b[39mmodel)\n\u001b[1;32m    247\u001b[0m \u001b[39mfor\u001b[39;00m _ \u001b[39min\u001b[39;00m \u001b[39mrange\u001b[39m(n_epochs):\n\u001b[0;32m--> 248\u001b[0m     res \u001b[39m=\u001b[39m \u001b[39mself\u001b[39;49m\u001b[39m.\u001b[39;49m_train_epoch()\n\u001b[1;32m    249\u001b[0m     \u001b[39mif\u001b[39;00m res[\u001b[39m'\u001b[39m\u001b[39maccuracy\u001b[39m\u001b[39m'\u001b[39m]\u001b[39m>\u001b[39m best_acc_train:\n\u001b[1;32m    250\u001b[0m         best_acc_train \u001b[39m=\u001b[39m res[\u001b[39m'\u001b[39m\u001b[39maccuracy\u001b[39m\u001b[39m'\u001b[39m]\n",
         "File \u001b[0;32m~/ordinaloss/ordinaloss/nextgen_engine/model_engine.py:129\u001b[0m, in \u001b[0;36mOrdinalEngine._train_epoch\u001b[0;34m(self)\u001b[0m\n\u001b[1;32m    127\u001b[0m     loss \u001b[39m=\u001b[39m \u001b[39mself\u001b[39m\u001b[39m.\u001b[39m_loss_fn(y_pred_loss, y)\n\u001b[1;32m    128\u001b[0m \u001b[39melse\u001b[39;00m:\n\u001b[0;32m--> 129\u001b[0m     loss \u001b[39m=\u001b[39m \u001b[39mself\u001b[39;49m\u001b[39m.\u001b[39;49m_loss_fn(y_pred, y)\n\u001b[1;32m    131\u001b[0m loss\u001b[39m.\u001b[39mbackward()\n\u001b[1;32m    133\u001b[0m \u001b[39mwith\u001b[39;00m torch\u001b[39m.\u001b[39mno_grad():\n",
         "File \u001b[0;32m~/anaconda3/lib/python3.9/site-packages/torch/nn/modules/module.py:1194\u001b[0m, in \u001b[0;36mModule._call_impl\u001b[0;34m(self, *input, **kwargs)\u001b[0m\n\u001b[1;32m   1190\u001b[0m \u001b[39m# If we don't have any hooks, we want to skip the rest of the logic in\u001b[39;00m\n\u001b[1;32m   1191\u001b[0m \u001b[39m# this function, and just call forward.\u001b[39;00m\n\u001b[1;32m   1192\u001b[0m \u001b[39mif\u001b[39;00m \u001b[39mnot\u001b[39;00m (\u001b[39mself\u001b[39m\u001b[39m.\u001b[39m_backward_hooks \u001b[39mor\u001b[39;00m \u001b[39mself\u001b[39m\u001b[39m.\u001b[39m_forward_hooks \u001b[39mor\u001b[39;00m \u001b[39mself\u001b[39m\u001b[39m.\u001b[39m_forward_pre_hooks \u001b[39mor\u001b[39;00m _global_backward_hooks\n\u001b[1;32m   1193\u001b[0m         \u001b[39mor\u001b[39;00m _global_forward_hooks \u001b[39mor\u001b[39;00m _global_forward_pre_hooks):\n\u001b[0;32m-> 1194\u001b[0m     \u001b[39mreturn\u001b[39;00m forward_call(\u001b[39m*\u001b[39;49m\u001b[39minput\u001b[39;49m, \u001b[39m*\u001b[39;49m\u001b[39m*\u001b[39;49mkwargs)\n\u001b[1;32m   1195\u001b[0m \u001b[39m# Do not call functions when jit is used\u001b[39;00m\n\u001b[1;32m   1196\u001b[0m full_backward_hooks, non_full_backward_hooks \u001b[39m=\u001b[39m [], []\n",
         "File \u001b[0;32m~/ordinaloss/ordinaloss/utils/loss_utils.py:229\u001b[0m, in \u001b[0;36mCostSensitiveLoss.forward\u001b[0;34m(self, y_pred, y_true)\u001b[0m\n\u001b[1;32m    228\u001b[0m \u001b[39mdef\u001b[39;00m \u001b[39mforward\u001b[39m(\u001b[39mself\u001b[39m, y_pred, y_true):\n\u001b[0;32m--> 229\u001b[0m     TP \u001b[39m=\u001b[39m \u001b[39m-\u001b[39;49m\u001b[39m1\u001b[39;49m\u001b[39m*\u001b[39;49m(\u001b[39m0\u001b[39;49m\u001b[39m+\u001b[39;49my_true)\u001b[39m*\u001b[39m(torch\u001b[39m.\u001b[39mlog(\u001b[39m1\u001b[39m\u001b[39m+\u001b[39m((\u001b[39m0\u001b[39m\u001b[39m+\u001b[39my_pred)\u001b[39m-\u001b[39m\u001b[39m1\u001b[39m)\u001b[39m*\u001b[39m(\u001b[39m1\u001b[39m\u001b[39m-\u001b[39mtorch\u001b[39m.\u001b[39mtanh(\u001b[39mself\u001b[39m\u001b[39m.\u001b[39mweight\u001b[39m*\u001b[39m(torch\u001b[39m.\u001b[39mmax(y_pred, \u001b[39m1\u001b[39m\u001b[39m-\u001b[39my_pred)\u001b[39m-\u001b[39my_pred))))) \u001b[39m#vanish if y_true is 0\u001b[39;00m\n\u001b[1;32m    230\u001b[0m     FP \u001b[39m=\u001b[39m \u001b[39m-\u001b[39m\u001b[39m1\u001b[39m\u001b[39m*\u001b[39m(\u001b[39m1\u001b[39m\u001b[39m-\u001b[39my_true)\u001b[39m*\u001b[39m(torch\u001b[39m.\u001b[39mlog(\u001b[39m1\u001b[39m\u001b[39m+\u001b[39m((\u001b[39m1\u001b[39m\u001b[39m-\u001b[39my_pred)\u001b[39m-\u001b[39m\u001b[39m1\u001b[39m)\u001b[39m*\u001b[39m(\u001b[39m1\u001b[39m\u001b[39m-\u001b[39mtorch\u001b[39m.\u001b[39mtanh(\u001b[39mself\u001b[39m\u001b[39m.\u001b[39mweight\u001b[39m*\u001b[39m(torch\u001b[39m.\u001b[39mmax(y_pred, \u001b[39m1\u001b[39m\u001b[39m-\u001b[39my_pred)\u001b[39m-\u001b[39my_pred))))) \u001b[39m#vanish if y_true is 1\u001b[39;00m\n\u001b[1;32m    231\u001b[0m     TN \u001b[39m=\u001b[39m \u001b[39m-\u001b[39m\u001b[39m1\u001b[39m\u001b[39m*\u001b[39m(\u001b[39m1\u001b[39m\u001b[39m-\u001b[39my_true)\u001b[39m*\u001b[39m(torch\u001b[39m.\u001b[39mlog(\u001b[39m1\u001b[39m\u001b[39m+\u001b[39m((\u001b[39m1\u001b[39m\u001b[39m-\u001b[39my_pred)\u001b[39m-\u001b[39m\u001b[39m1\u001b[39m)\u001b[39m*\u001b[39m(\u001b[39m0\u001b[39m\u001b[39m+\u001b[39mtorch\u001b[39m.\u001b[39mtanh(\u001b[39mself\u001b[39m\u001b[39m.\u001b[39mweight\u001b[39m*\u001b[39m(torch\u001b[39m.\u001b[39mmax(y_pred, \u001b[39m1\u001b[39m\u001b[39m-\u001b[39my_pred)\u001b[39m-\u001b[39my_pred))))) \u001b[39m#vanish if y_true is 1\u001b[39;00m\n",
         "\u001b[0;31mKeyboardInterrupt\u001b[0m: "
        ]
       }
      ],
      "source": [
       "best_acc_train,best_acc_test,best_model = engine_ce.train(5)"
      ]
     },
     {
      "cell_type": "code",
      "execution_count": null,
      "id": "506069bd",
      "metadata": {},
      "outputs": [],
      "source": [
       "os.listdir('.')"
      ]
     },
     {
      "cell_type": "code",
      "execution_count": null,
      "id": "1dac75c6",
      "metadata": {},
      "outputs": [],
      "source": [
       "model = classification_model_vgg(\"vgg19\", num_classes = 1)\n",
       "loaders,dset_size, num_class = data_load(\"../projects/datasets/DermMel/\", 16,phases= ['train', 'val', 'test'],db ='Melanoma')\n",
       "\n",
       "\n",
       "cost_matrix = np.array([[1,1],\n",
       "                        [1, 1]])\n",
       "\n",
       "my_loss_CE = CostSensitiveLoss(weight= 10000, cost_matrix = cost_matrix, reduction = \"mean\")\n",
       "\n",
       "engine_ce = model_engine.OrdinalEngine(\n",
       "    model=model, loss_fn=my_loss_CE, \n",
       "    device=device, loaders=loaders, n_classes=1,\n",
       "    use_lr_scheduler=False,\n",
       "    optimizer_fn=SGD, lr=1.0e-3, weight_decay=5.0e-2)"
      ]
     },
     {
      "cell_type": "code",
      "execution_count": null,
      "id": "01e14250",
      "metadata": {},
      "outputs": [],
      "source": [
       "model = classification_model_vgg(\"vgg19\", num_classes = 1)\n",
       "loaders,dset_size, num_class = data_load(\"../projects/datasets/DermMel/\", 16,phases= ['train', 'val', 'test'],db ='Melanoma')\n",
       "\n",
       "\n",
       "cost_matrix = np.array([[1,1],\n",
       "                        [1, 1]])\n",
       "\n",
       "my_loss_CE = CostSensitiveLoss(weight= 10000, cost_matrix = cost_matrix, reduction = \"mean\")\n",
       "\n",
       "engine_ce = model_engine.OrdinalEngine(\n",
       "    model=model, loss_fn=my_loss_CE, \n",
       "    device=device, loaders=loaders, n_classes=1,\n",
       "    use_lr_scheduler=False,\n",
       "    optimizer_fn=SGD, lr=1.0e-3, weight_decay=5.0e-2)"
      ]
     },
     {
      "cell_type": "code",
      "execution_count": 42,
      "id": "1e5c66b5",
      "metadata": {},
      "outputs": [],
      "source": [
       "X, y = next(iter(loaders[\"train\"]))\n",
       "X, y = X.to(device), y.to(device)\n",
       "\n",
       "y_pred = model(X)\n"
      ]
     },
     {
      "cell_type": "code",
      "execution_count": 43,
      "id": "dfeda658",
      "metadata": {},
      "outputs": [
       {
        "name": "stderr",
        "output_type": "stream",
        "text": [
         "Training, epoch 0: 100%|██████████| 376/376 [00:44<00:00,  8.38it/s, accuracy=0.88, loss=0.317, mae=0.12]  \n"
        ]
       }
      ],
      "source": [
       "engine._train_epoch()"
      ]
     }
    ],
    "metadata": {
     "kernelspec": {
      "display_name": "base",
      "language": "python",
      "name": "python3"
     },
     "language_info": {
      "codemirror_mode": {
       "name": "ipython",
       "version": 3
      },
      "file_extension": ".py",
      "mimetype": "text/x-python",
      "name": "python",
      "nbconvert_exporter": "python",
      "pygments_lexer": "ipython3",
      "version": "3.9.12"
     },
     "vscode": {
      "interpreter": {
       "hash": "ef2b262f624926b316b44e9f5d184632806344ac2a150a888e30d2f077d5c057"
      }
     }
    },
    "nbformat": 4,
    "nbformat_minor": 5
   }
   
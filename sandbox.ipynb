{
 "cells": [
  {
   "cell_type": "code",
   "execution_count": 1,
   "metadata": {},
   "outputs": [],
   "source": [
    "import numpy as np\n",
    "from sklearn.metrics import confusion_matrix\n"
   ]
  },
  {
   "cell_type": "code",
   "execution_count": 16,
   "metadata": {},
   "outputs": [
    {
     "name": "stdout",
     "output_type": "stream",
     "text": [
      "[[1 3 5 7 9]\n",
      " [3 1 3 5 7]\n",
      " [5 3 1 3 5]\n",
      " [7 5 3 1 3]\n",
      " [9 7 5 3 1]]\n"
     ]
    },
    {
     "data": {
      "text/plain": [
       "2.3333333333333335"
      ]
     },
     "execution_count": 16,
     "metadata": {},
     "output_type": "execute_result"
    }
   ],
   "source": [
    "def calc_cost_metric(y_pred, y_true, n_classes=5):\n",
    "    \"\"\"_summary_\n",
    "\n",
    "    Args:\n",
    "        y_pred (_type_): n numpy (1 dim, predictions after argmax)\n",
    "        y_test (_type_): n numpy (1 dim)\n",
    "    \"\"\"\n",
    "\n",
    "    r = np.arange(0,n_classes)\n",
    "    n = y_pred.shape[0]\n",
    "    cost_matrix = 2 * np.abs(r-r[:, None])+1\n",
    "    print(cost_matrix)\n",
    "    cm = confusion_matrix(y_pred=y_pred, y_true=y_true, labels = np.arange(0,n_classes))\n",
    "    return (cm * cost_matrix).sum()/n\n",
    "\n",
    "\n",
    "y_true = np.array([0,2,2])\n",
    "y_pred = np.array([0,0,2])\n",
    "\n",
    "calc_cost_metric(y_true, y_pred) "
   ]
  },
  {
   "cell_type": "code",
   "execution_count": null,
   "metadata": {},
   "outputs": [],
   "source": []
  },
  {
   "cell_type": "code",
   "execution_count": null,
   "metadata": {},
   "outputs": [],
   "source": []
  },
  {
   "cell_type": "code",
   "execution_count": null,
   "metadata": {},
   "outputs": [],
   "source": []
  },
  {
   "cell_type": "code",
   "execution_count": 54,
   "metadata": {},
   "outputs": [
    {
     "data": {
      "text/plain": [
       "26"
      ]
     },
     "execution_count": 54,
     "metadata": {},
     "output_type": "execute_result"
    }
   ],
   "source": [
    "import os\n",
    "\n",
    "len([os.stat(element).st_size for element in glob(\"./models/*.pt\")])\n"
   ]
  },
  {
   "cell_type": "code",
   "execution_count": 32,
   "metadata": {},
   "outputs": [
    {
     "data": {
      "text/plain": [
       "0    0.000\n",
       "1    0.136\n",
       "2    0.862\n",
       "3    0.002\n",
       "4    0.000\n",
       "dtype: float64"
      ]
     },
     "execution_count": 32,
     "metadata": {},
     "output_type": "execute_result"
    }
   ],
   "source": [
    "import pandas as pd\n",
    "buga = pd.read_csv(\"./mlruns/0/35efd3d08cf447ec91b920fa1e6e8bc6/artifacts/test_predictions_phase_8.csv\", index_col=0)\n",
    "buga.idxmax(axis=1).value_counts(normalize=True).reindex([\"0\",\"1\",\"2\",\"3\",\"4\"]).fillna(0)"
   ]
  },
  {
   "cell_type": "code",
   "execution_count": null,
   "metadata": {},
   "outputs": [],
   "source": [
    "import torch"
   ]
  },
  {
   "cell_type": "code",
   "execution_count": 18,
   "metadata": {},
   "outputs": [
    {
     "ename": "RuntimeError",
     "evalue": "Found no NVIDIA driver on your system. Please check that you have an NVIDIA GPU and installed a driver from http://www.nvidia.com/Download/index.aspx",
     "output_type": "error",
     "traceback": [
      "\u001b[0;31m---------------------------------------------------------------------------\u001b[0m",
      "\u001b[0;31mRuntimeError\u001b[0m                              Traceback (most recent call last)",
      "\u001b[1;32m/home/dsi/itaym/projects/ordinaloss/sandbox.ipynb Cell 1\u001b[0m in \u001b[0;36m<cell line: 8>\u001b[0;34m()\u001b[0m\n\u001b[1;32m      <a href='vscode-notebook-cell://ssh-remote%2Bdsicpu01/home/dsi/itaym/projects/ordinaloss/sandbox.ipynb#X22sdnNjb2RlLXJlbW90ZQ%3D%3D?line=4'>5</a>\u001b[0m \u001b[39mwith\u001b[39;00m \u001b[39mopen\u001b[39m(CONSTRAINTS_CONFIG) \u001b[39mas\u001b[39;00m f:\n\u001b[1;32m      <a href='vscode-notebook-cell://ssh-remote%2Bdsicpu01/home/dsi/itaym/projects/ordinaloss/sandbox.ipynb#X22sdnNjb2RlLXJlbW90ZQ%3D%3D?line=5'>6</a>\u001b[0m     s\u001b[39m=\u001b[39m json\u001b[39m.\u001b[39mload(f)\n\u001b[0;32m----> <a href='vscode-notebook-cell://ssh-remote%2Bdsicpu01/home/dsi/itaym/projects/ordinaloss/sandbox.ipynb#X22sdnNjb2RlLXJlbW90ZQ%3D%3D?line=7'>8</a>\u001b[0m torch\u001b[39m.\u001b[39;49mtensor(s, device\u001b[39m=\u001b[39;49m \u001b[39m1\u001b[39;49m)\n",
      "File \u001b[0;32m~/anaconda3/envs/maruloss/lib/python3.9/site-packages/torch/cuda/__init__.py:217\u001b[0m, in \u001b[0;36m_lazy_init\u001b[0;34m()\u001b[0m\n\u001b[1;32m    213\u001b[0m     \u001b[39mraise\u001b[39;00m \u001b[39mAssertionError\u001b[39;00m(\n\u001b[1;32m    214\u001b[0m         \u001b[39m\"\u001b[39m\u001b[39mlibcudart functions unavailable. It looks like you have a broken build?\u001b[39m\u001b[39m\"\u001b[39m)\n\u001b[1;32m    215\u001b[0m \u001b[39m# This function throws if there's a driver initialization error, no GPUs\u001b[39;00m\n\u001b[1;32m    216\u001b[0m \u001b[39m# are found or any other error occurs\u001b[39;00m\n\u001b[0;32m--> 217\u001b[0m torch\u001b[39m.\u001b[39;49m_C\u001b[39m.\u001b[39;49m_cuda_init()\n\u001b[1;32m    218\u001b[0m \u001b[39m# Some of the queued calls may reentrantly call _lazy_init();\u001b[39;00m\n\u001b[1;32m    219\u001b[0m \u001b[39m# we need to just return without initializing in that case.\u001b[39;00m\n\u001b[1;32m    220\u001b[0m \u001b[39m# However, we must not let any *other* threads in!\u001b[39;00m\n\u001b[1;32m    221\u001b[0m _tls\u001b[39m.\u001b[39mis_initializing \u001b[39m=\u001b[39m \u001b[39mTrue\u001b[39;00m\n",
      "\u001b[0;31mRuntimeError\u001b[0m: Found no NVIDIA driver on your system. Please check that you have an NVIDIA GPU and installed a driver from http://www.nvidia.com/Download/index.aspx"
     ]
    }
   ],
   "source": [
    "import json\n",
    "\n",
    "CONSTRAINTS_CONFIG = \"./constraints_configs/config_015.json\"\n",
    "\n",
    "with open(CONSTRAINTS_CONFIG) as f:\n",
    "    s= json.load(f)\n",
    "\n",
    "torch.tensor(s, device= 1)"
   ]
  },
  {
   "cell_type": "code",
   "execution_count": 9,
   "metadata": {},
   "outputs": [
    {
     "data": {
      "text/plain": [
       "array([1.  , 1.  , 1.  , 0.03, 1.  ])"
      ]
     },
     "execution_count": 9,
     "metadata": {},
     "output_type": "execute_result"
    }
   ],
   "source": [
    "import pandas as pd\n",
    "import torch\n",
    "\n",
    "import json\n",
    "\n",
    "\n",
    "\n",
    "constraints = pd.read_csv(\"constraints_configs/config_003.csv\", header=None)[0].values\n",
    "\n"
   ]
  },
  {
   "cell_type": "code",
   "execution_count": 1,
   "metadata": {},
   "outputs": [],
   "source": [
    "%load_ext autoreload\n",
    "%autoreload 2"
   ]
  },
  {
   "cell_type": "code",
   "execution_count": 2,
   "metadata": {},
   "outputs": [
    {
     "name": "stderr",
     "output_type": "stream",
     "text": [
      "/home/dsi/itaym/anaconda3/envs/maruloss/lib/python3.9/site-packages/tqdm/auto.py:22: TqdmWarning: IProgress not found. Please update jupyter and ipywidgets. See https://ipywidgets.readthedocs.io/en/stable/user_install.html\n",
      "  from .autonotebook import tqdm as notebook_tqdm\n"
     ]
    },
    {
     "name": "stdout",
     "output_type": "stream",
     "text": [
      "loaded ordinaloss.utils.pretrained_models\n",
      "loaded ordinaloss.utils.data_utils\n",
      "loaded ordinaloss.utils.loss_utils\n",
      "loaded ordinaloss.utils.metric_utils!!\n",
      "loaded ordinaloss.nextgen_engine.model_engine\n"
     ]
    }
   ],
   "source": [
    "import os\n",
    "import pandas as pd\n",
    "#from ordinaloss.utils.datasets import ImageFolder, create_transform_pipeline\n",
    "from ordinaloss.utils.pretrained_models import (classification_model_densenet, \n",
    "                                                classification_model_resnet, \n",
    "                                                classification_model_vgg, \n",
    "                                                DummyModel\n",
    "                                                )\n",
    "\n",
    "\n",
    "from ordinaloss.utils.data_utils import data_load\n",
    "\n",
    "from ordinaloss.utils.loss_utils import SinimLoss, GirlsLoss, CSCELoss\n",
    "from ordinaloss.utils.loss_utils import create_ordinal_cost_matrix\n",
    "from ordinaloss.utils.loss_utils import PredictionLoss, CombinedLoss\n",
    "\n",
    "from ordinaloss.nextgen_engine import model_engine\n",
    "from ordinaloss.utils.callback_utils import PrintingCallback\n",
    "\n",
    "import matplotlib.pyplot as plt\n",
    "\n",
    "from torch.utils.data import DataLoader\n",
    "from torch.optim import Adam, SGD\n",
    "import torch\n",
    "\n",
    "device = \"cuda:0\" if torch.cuda.is_available() else \"cpu\"\n",
    "device\n",
    "\n",
    "loaders, _, _ = data_load(\"../datasets/kneeKL224/\", 16)\n"
   ]
  },
  {
   "cell_type": "code",
   "execution_count": 4,
   "metadata": {},
   "outputs": [],
   "source": [
    "constraints = torch.tensor([0.2, 1, 1, 1, 1])\n",
    "test_dist   = torch.tensor([0.8, 0, 0, 0, 0.1])\n",
    "current_lambdas = torch.ones(5)*0.2"
   ]
  },
  {
   "cell_type": "code",
   "execution_count": 5,
   "metadata": {},
   "outputs": [
    {
     "data": {
      "text/plain": [
       "tensor([0.2000, 0.2000, 0.2000, 0.2000, 0.2000])"
      ]
     },
     "execution_count": 5,
     "metadata": {},
     "output_type": "execute_result"
    }
   ],
   "source": []
  },
  {
   "cell_type": "code",
   "execution_count": null,
   "metadata": {},
   "outputs": [],
   "source": []
  },
  {
   "cell_type": "code",
   "execution_count": null,
   "metadata": {},
   "outputs": [],
   "source": [
    "model = DummyModel()\n",
    "\n",
    "cost_matrix = create_ordinal_cost_matrix(5, cost_distance=3, diagonal_value=20)\n",
    "csce_loss = CSCELoss(cost_matrix)\n",
    "\n",
    "init_lambdas = torch.tensor([0.2, 0.2, 0.2, 0.2, 0.2], device = device)\n",
    "prediction_loss = PredictionLoss(lambdas = init_lambdas)\n",
    "\n",
    "loss_fn = CombinedLoss(csce_loss, prediction_loss)\n",
    "\n",
    "engine = model_engine.OrdinalEngine(\n",
    "    model=model, loss_fn=loss_fn, \n",
    "    device=device, loaders=loaders, n_classes=5,\n",
    "    use_lr_scheduler=False, callbacks=[],\n",
    "    optimizer_fn=SGD, lr=1.0e-3, weight_decay=5.0e-2)\n"
   ]
  },
  {
   "cell_type": "code",
   "execution_count": null,
   "metadata": {},
   "outputs": [],
   "source": []
  },
  {
   "cell_type": "code",
   "execution_count": null,
   "metadata": {},
   "outputs": [],
   "source": []
  },
  {
   "cell_type": "code",
   "execution_count": null,
   "metadata": {},
   "outputs": [],
   "source": []
  },
  {
   "cell_type": "code",
   "execution_count": null,
   "metadata": {},
   "outputs": [
    {
     "name": "stdout",
     "output_type": "stream",
     "text": [
      "loaded ordinaloss.nextgen_engine.model_engine\n"
     ]
    }
   ],
   "source": [
    "#model = classification_model_vgg(\"vgg16\", num_classes = 5)\n",
    "\n",
    "cost_matrix = create_ordinal_cost_matrix(5, cost_distance=3, diagonal_value=20)\n",
    "\n",
    "\n",
    "\n",
    "#callbacks = [PrintingCallback()]\n",
    "callbacks = []\n",
    "\n",
    "engine = model_engine.OrdinalEngine(\n",
    "    model=model, loss_fn=CSCELoss(cost_matrix), \n",
    "    device=device, loaders=loaders, n_classes=5,\n",
    "    use_lr_scheduler=False, callbacks=callbacks,\n",
    "    optimizer_fn=SGD, lr=1.0e-3, weight_decay=5.0e-2)"
   ]
  }
 ],
 "metadata": {
  "kernelspec": {
   "display_name": "Python 3.9.12 ('maruloss')",
   "language": "python",
   "name": "python3"
  },
  "language_info": {
   "codemirror_mode": {
    "name": "ipython",
    "version": 3
   },
   "file_extension": ".py",
   "mimetype": "text/x-python",
   "name": "python",
   "nbconvert_exporter": "python",
   "pygments_lexer": "ipython3",
   "version": "3.9.12"
  },
  "orig_nbformat": 4,
  "vscode": {
   "interpreter": {
    "hash": "7e97c30b3269f9da24b9fb2b586032ecca136d76e1141d9f46df271ff014add6"
   }
  }
 },
 "nbformat": 4,
 "nbformat_minor": 2
}

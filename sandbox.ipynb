{
 "cells": [
  {
   "cell_type": "code",
   "execution_count": 1,
   "metadata": {},
   "outputs": [],
   "source": [
    "%load_ext autoreload\n",
    "%autoreload 2"
   ]
  },
  {
   "cell_type": "code",
   "execution_count": 2,
   "metadata": {},
   "outputs": [
    {
     "name": "stderr",
     "output_type": "stream",
     "text": [
      "/home/dsi/itaym/anaconda3/envs/maruloss/lib/python3.9/site-packages/tqdm/auto.py:22: TqdmWarning: IProgress not found. Please update jupyter and ipywidgets. See https://ipywidgets.readthedocs.io/en/stable/user_install.html\n",
      "  from .autonotebook import tqdm as notebook_tqdm\n"
     ]
    },
    {
     "name": "stdout",
     "output_type": "stream",
     "text": [
      "loaded ordinaloss.utils.pretrained_models\n",
      "loaded ordinaloss.utils.data_utils\n",
      "loaded ordinaloss.utils.loss_utils\n",
      "loaded ordinaloss.utils.metric_utils!!\n",
      "loaded ordinaloss.nextgen_engine.model_engine\n"
     ]
    }
   ],
   "source": [
    "import os\n",
    "import pandas as pd\n",
    "#from ordinaloss.utils.datasets import ImageFolder, create_transform_pipeline\n",
    "from ordinaloss.utils.pretrained_models import (classification_model_densenet, \n",
    "                                                classification_model_resnet, \n",
    "                                                classification_model_vgg, \n",
    "                                                DummyModel\n",
    "                                                )\n",
    "\n",
    "\n",
    "from ordinaloss.utils.data_utils import data_load\n",
    "\n",
    "from ordinaloss.utils.loss_utils import SinimLoss, GirlsLoss, CSCELoss\n",
    "from ordinaloss.utils.loss_utils import create_ordinal_cost_matrix\n",
    "from ordinaloss.utils.loss_utils import PredictionLoss, CombinedLoss\n",
    "\n",
    "from ordinaloss.nextgen_engine import model_engine\n",
    "from ordinaloss.utils.callback_utils import PrintingCallback\n",
    "\n",
    "import matplotlib.pyplot as plt\n",
    "\n",
    "from torch.utils.data import DataLoader\n",
    "from torch.optim import Adam, SGD\n",
    "import torch\n",
    "\n",
    "device = \"cuda:0\" if torch.cuda.is_available() else \"cpu\"\n",
    "device\n",
    "\n",
    "loaders, _, _ = data_load(\"../datasets/kneeKL224/\", 16)\n"
   ]
  },
  {
   "cell_type": "code",
   "execution_count": 4,
   "metadata": {},
   "outputs": [],
   "source": [
    "constraints = torch.tensor([0.2, 1, 1, 1, 1])\n",
    "test_dist   = torch.tensor([0.8, 0, 0, 0, 0.1])\n",
    "current_lambdas = torch.ones(5)*0.2"
   ]
  },
  {
   "cell_type": "code",
   "execution_count": 5,
   "metadata": {},
   "outputs": [
    {
     "data": {
      "text/plain": [
       "tensor([0.2000, 0.2000, 0.2000, 0.2000, 0.2000])"
      ]
     },
     "execution_count": 5,
     "metadata": {},
     "output_type": "execute_result"
    }
   ],
   "source": []
  },
  {
   "cell_type": "code",
   "execution_count": null,
   "metadata": {},
   "outputs": [],
   "source": []
  },
  {
   "cell_type": "code",
   "execution_count": null,
   "metadata": {},
   "outputs": [],
   "source": [
    "model = DummyModel()\n",
    "\n",
    "cost_matrix = create_ordinal_cost_matrix(5, cost_distance=3, diagonal_value=20)\n",
    "csce_loss = CSCELoss(cost_matrix)\n",
    "\n",
    "init_lambdas = torch.tensor([0.2, 0.2, 0.2, 0.2, 0.2], device = device)\n",
    "prediction_loss = PredictionLoss(lambdas = init_lambdas)\n",
    "\n",
    "loss_fn = CombinedLoss(csce_loss, prediction_loss)\n",
    "\n",
    "engine = model_engine.OrdinalEngine(\n",
    "    model=model, loss_fn=loss_fn, \n",
    "    device=device, loaders=loaders, n_classes=5,\n",
    "    use_lr_scheduler=False, callbacks=[],\n",
    "    optimizer_fn=SGD, lr=1.0e-3, weight_decay=5.0e-2)\n"
   ]
  },
  {
   "cell_type": "code",
   "execution_count": null,
   "metadata": {},
   "outputs": [],
   "source": []
  },
  {
   "cell_type": "code",
   "execution_count": null,
   "metadata": {},
   "outputs": [],
   "source": []
  },
  {
   "cell_type": "code",
   "execution_count": null,
   "metadata": {},
   "outputs": [],
   "source": []
  },
  {
   "cell_type": "code",
   "execution_count": null,
   "metadata": {},
   "outputs": [
    {
     "name": "stdout",
     "output_type": "stream",
     "text": [
      "loaded ordinaloss.nextgen_engine.model_engine\n"
     ]
    }
   ],
   "source": [
    "#model = classification_model_vgg(\"vgg16\", num_classes = 5)\n",
    "\n",
    "cost_matrix = create_ordinal_cost_matrix(5, cost_distance=3, diagonal_value=20)\n",
    "\n",
    "\n",
    "\n",
    "#callbacks = [PrintingCallback()]\n",
    "callbacks = []\n",
    "\n",
    "engine = model_engine.OrdinalEngine(\n",
    "    model=model, loss_fn=CSCELoss(cost_matrix), \n",
    "    device=device, loaders=loaders, n_classes=5,\n",
    "    use_lr_scheduler=False, callbacks=callbacks,\n",
    "    optimizer_fn=SGD, lr=1.0e-3, weight_decay=5.0e-2)"
   ]
  },
  {
   "cell_type": "code",
   "execution_count": 127,
   "metadata": {},
   "outputs": [
    {
     "data": {
      "text/plain": [
       "tensor([1., 1., 1., 1., 1.])"
      ]
     },
     "execution_count": 127,
     "metadata": {},
     "output_type": "execute_result"
    }
   ],
   "source": [
    "cost_matrix = create_ordinal_cost_matrix(5, cost_distance=3, diagonal_value=20)\n"
   ]
  },
  {
   "cell_type": "code",
   "execution_count": 4,
   "metadata": {},
   "outputs": [],
   "source": []
  },
  {
   "cell_type": "code",
   "execution_count": null,
   "metadata": {},
   "outputs": [],
   "source": []
  },
  {
   "cell_type": "code",
   "execution_count": 133,
   "metadata": {},
   "outputs": [
    {
     "data": {
      "text/plain": [
       "tensor([0.2000, 0.2000, 0.2000, 0.2000, 0.2000])"
      ]
     },
     "execution_count": 133,
     "metadata": {},
     "output_type": "execute_result"
    }
   ],
   "source": [
    "test_"
   ]
  },
  {
   "cell_type": "code",
   "execution_count": 137,
   "metadata": {},
   "outputs": [
    {
     "data": {
      "text/plain": [
       "tensor([0.5000, 0.1250, 0.1250, 0.1250, 0.1250])"
      ]
     },
     "execution_count": 137,
     "metadata": {},
     "output_type": "execute_result"
    }
   ],
   "source": [
    "def modify_loss_function(constraints, test_dist, current_lambdas):\n",
    "    #constraints -> [0.2, 1, 1, 1, 1]\n",
    "    #test_dist ->   [0.3, 0, 0, 0, 0.7]\n",
    "\n",
    "    c = len(test_dist)\n",
    "    ratios = test_dist / constraints\n",
    "    violations = (ratios>1).to(torch.float32)\n",
    "    ratios = [ratios[i] for i in range(c) if violations[i]==0 else 1]\n",
    "    ratios = torch.tensor(ratios, dtype=torch.float32)\n",
    "    \n",
    "    new_lambdas = current_lambdas *ratios\n",
    "    new_lambdas = new_lambdas/new_lambdas.sum()\n",
    "\n",
    "\n",
    "    return new_lambdas\n",
    "\n",
    "constraints = torch.tensor([0.2, 1, 1, 1, 1])\n",
    "test_dist   = torch.tensor([0.8, 0, 0, 0, 0.1])\n",
    "current_lambdas = torch.ones(5)*0.2\n",
    "\n",
    "\n",
    "modify_loss_function(constraints, test_dist, current_lambdas)"
   ]
  }
 ],
 "metadata": {
  "kernelspec": {
   "display_name": "Python 3.9.12 ('maruloss')",
   "language": "python",
   "name": "python3"
  },
  "language_info": {
   "codemirror_mode": {
    "name": "ipython",
    "version": 3
   },
   "file_extension": ".py",
   "mimetype": "text/x-python",
   "name": "python",
   "nbconvert_exporter": "python",
   "pygments_lexer": "ipython3",
   "version": "3.9.12"
  },
  "orig_nbformat": 4,
  "vscode": {
   "interpreter": {
    "hash": "7e97c30b3269f9da24b9fb2b586032ecca136d76e1141d9f46df271ff014add6"
   }
  }
 },
 "nbformat": 4,
 "nbformat_minor": 2
}

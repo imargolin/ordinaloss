{
 "cells": [
  {
   "cell_type": "code",
   "execution_count": 1,
   "metadata": {},
   "outputs": [],
   "source": [
    "%load_ext autoreload\n",
    "%autoreload 2"
   ]
  },
  {
   "cell_type": "code",
   "execution_count": 21,
   "metadata": {},
   "outputs": [],
   "source": [
    "from torch.utils.data import DataLoader, TensorDataset"
   ]
  },
  {
   "cell_type": "code",
   "execution_count": null,
   "metadata": {},
   "outputs": [],
   "source": [
    "import torch"
   ]
  },
  {
   "cell_type": "code",
   "execution_count": null,
   "metadata": {},
   "outputs": [],
   "source": [
    "torch.tensor([1,2,3], device=2).tolist()"
   ]
  },
  {
   "cell_type": "code",
   "execution_count": 38,
   "metadata": {},
   "outputs": [
    {
     "data": {
      "text/plain": [
       "tensor([[2, 1],\n",
       "        [1, 2],\n",
       "        [1, 0]])"
      ]
     },
     "execution_count": 38,
     "metadata": {},
     "output_type": "execute_result"
    }
   ],
   "source": [
    "import torch\n"
   ]
  },
  {
   "cell_type": "code",
   "execution_count": 41,
   "metadata": {},
   "outputs": [
    {
     "data": {
      "text/plain": [
       "tensor([3, 1, 2, 3, 2, 1, 2, 1, 4, 0, 1, 2, 2, 3, 2, 4, 4, 0, 2, 1, 0, 2, 3, 3,\n",
       "        0, 4, 1, 1, 4, 1, 1, 2, 4, 2, 3, 2, 4, 1, 0, 1, 0, 4, 0, 0, 1, 3, 0, 1,\n",
       "        4, 4, 2, 0, 4, 0, 1, 0, 2, 3, 2, 3, 4, 1, 4, 4, 4, 4, 2, 4, 4, 2, 4, 1,\n",
       "        2, 0, 3, 3, 0, 2, 4, 2, 0, 0, 1, 0, 3, 2, 4, 3, 2, 3, 1, 2, 1, 2, 2, 0,\n",
       "        2, 4, 4, 4])"
      ]
     },
     "execution_count": 41,
     "metadata": {},
     "output_type": "execute_result"
    }
   ],
   "source": []
  },
  {
   "cell_type": "code",
   "execution_count": 43,
   "metadata": {},
   "outputs": [],
   "source": []
  },
  {
   "cell_type": "code",
   "execution_count": 44,
   "metadata": {},
   "outputs": [
    {
     "data": {
      "text/plain": [
       "[tensor([[0.3056, 0.7637, 0.1714, 0.4287, 0.3613, 0.2151, 0.6616, 0.3501, 0.4148,\n",
       "          0.8312, 0.0177, 0.6140, 0.6437, 0.9547, 0.6284, 0.2689, 0.7776, 0.1712,\n",
       "          0.1284, 0.3514, 0.6666, 0.4133, 0.0975, 0.0073, 0.7258, 0.5191, 0.4540,\n",
       "          0.5046, 0.7067, 0.0560, 0.5030, 0.8775, 0.8641, 0.9416, 0.0441, 0.7003,\n",
       "          0.5934, 0.3533, 0.6483, 0.2522, 0.5404, 0.3404, 0.3893, 0.4462, 0.6699,\n",
       "          0.0229, 0.2470, 0.0351, 0.9948, 0.5545]]),\n",
       " tensor([1])]"
      ]
     },
     "execution_count": 44,
     "metadata": {},
     "output_type": "execute_result"
    }
   ],
   "source": [
    "next(iter(loader))\n"
   ]
  },
  {
   "cell_type": "code",
   "execution_count": 11,
   "metadata": {},
   "outputs": [
    {
     "data": {
      "text/plain": [
       "tensor([[0.0881, 0.9478, 0.1547, 0.2581, 0.1471],\n",
       "        [0.2729, 0.6230, 0.3299, 0.8251, 0.2420],\n",
       "        [0.6818, 0.8793, 0.9149, 0.5630, 0.1598],\n",
       "        ...,\n",
       "        [0.7641, 0.4122, 0.3678, 0.6534, 0.0630],\n",
       "        [0.7970, 0.5063, 0.6189, 0.4730, 0.8577],\n",
       "        [0.2987, 0.1672, 0.3231, 0.0253, 0.0268]])"
      ]
     },
     "execution_count": 11,
     "metadata": {},
     "output_type": "execute_result"
    }
   ],
   "source": [
    "import torch\n",
    "torch.rand((1000, 5))"
   ]
  },
  {
   "cell_type": "code",
   "execution_count": 2,
   "metadata": {},
   "outputs": [
    {
     "name": "stderr",
     "output_type": "stream",
     "text": [
      "/home/dsi/itaym/anaconda3/envs/maruloss/lib/python3.9/site-packages/tqdm/auto.py:22: TqdmWarning: IProgress not found. Please update jupyter and ipywidgets. See https://ipywidgets.readthedocs.io/en/stable/user_install.html\n",
      "  from .autonotebook import tqdm as notebook_tqdm\n"
     ]
    },
    {
     "name": "stdout",
     "output_type": "stream",
     "text": [
      "loaded ordinaloss.utils.pretrained_models\n",
      "loaded ordinaloss.utils.data_utils\n",
      "loaded ordinaloss.utils.loss_utils\n",
      "loaded ordinaloss.utils.metric_utils!!\n",
      "loaded ordinaloss.nextgen_engine.model_engine \n"
     ]
    }
   ],
   "source": [
    "import os\n",
    "import pandas as pd\n",
    "from ordinaloss.utils.pretrained_models import (classification_model_vgg, \n",
    "                                                DummyModel)\n",
    "\n",
    "from ordinaloss.utils.data_utils import data_load\n",
    "\n",
    "from ordinaloss.utils.loss_utils import CSCELoss\n",
    "from ordinaloss.utils.loss_utils import create_ordinal_cost_matrix\n",
    "from ordinaloss.utils.loss_utils import PredictionLoss, CombinedLoss\n",
    "\n",
    "from ordinaloss.nextgen_engine import model_engine\n",
    "from ordinaloss.utils.basic_utils import satisfy_constraints, modify_lambdas\n",
    "\n",
    "\n",
    "import matplotlib.pyplot as plt\n",
    "\n",
    "from torch.optim import SGD\n",
    "import torch\n",
    "\n",
    "# device = \"cuda:0\" if torch.cuda.is_available() else \"cpu\"\n",
    "# device = \"cuda:1\" if torch.cuda.is_available() else \"cpu\"\n",
    "device = \"cuda:2\" if torch.cuda.is_available() else \"cpu\"\n",
    "#device = \"cuda:3\" if torch.cuda.is_available() else \"cpu\""
   ]
  },
  {
   "cell_type": "code",
   "execution_count": null,
   "metadata": {},
   "outputs": [],
   "source": []
  },
  {
   "cell_type": "code",
   "execution_count": null,
   "metadata": {},
   "outputs": [],
   "source": []
  },
  {
   "cell_type": "code",
   "execution_count": null,
   "metadata": {},
   "outputs": [],
   "source": []
  },
  {
   "cell_type": "code",
   "execution_count": null,
   "metadata": {},
   "outputs": [],
   "source": []
  },
  {
   "cell_type": "code",
   "execution_count": 4,
   "metadata": {},
   "outputs": [],
   "source": [
    "loaders, _, _ = data_load(\"../datasets/kneeKL224/\", 16)\n",
    "# out = []\n",
    "# for Xb, yb, in loaders[\"test\"]:\n",
    "#     out.append(yb)\n",
    "# pd.Series(torch.concat(out).numpy()).value_counts(normalize=True, sort=False)"
   ]
  },
  {
   "cell_type": "code",
   "execution_count": 1,
   "metadata": {},
   "outputs": [],
   "source": [
    "import numpy as np"
   ]
  },
  {
   "cell_type": "code",
   "execution_count": 5,
   "metadata": {},
   "outputs": [
    {
     "data": {
      "text/plain": [
       "array([0, 1, 1, 1, 0, 0, 0])"
      ]
     },
     "execution_count": 5,
     "metadata": {},
     "output_type": "execute_result"
    }
   ],
   "source": [
    "np.bincount([1,2,3], minlength=7)"
   ]
  },
  {
   "cell_type": "code",
   "execution_count": 9,
   "metadata": {},
   "outputs": [
    {
     "name": "stdout",
     "output_type": "stream",
     "text": [
      "training model with tensor([0., 0., 0., 0., 0.], device='cuda:2')\n"
     ]
    },
    {
     "name": "stderr",
     "output_type": "stream",
     "text": [
      "Training, epoch 0: 100%|██████████| 362/362 [00:42<00:00,  8.54it/s, accuracy=0.37, loss=0.706, mae=1.07] \n",
      "Evaluating...: 100%|██████████| 52/52 [00:07<00:00,  6.69it/s, accuracy=0.429, loss=0.676]\n"
     ]
    },
    {
     "name": "stdout",
     "output_type": "stream",
     "text": [
      "inf\n",
      "0.6762158198160352\n"
     ]
    },
    {
     "name": "stderr",
     "output_type": "stream",
     "text": [
      "Training, epoch 1: 100%|██████████| 362/362 [00:42<00:00,  8.61it/s, accuracy=0.438, loss=0.663, mae=0.896]\n",
      "Evaluating...: 100%|██████████| 52/52 [00:02<00:00, 18.87it/s, accuracy=0.454, loss=0.633]\n"
     ]
    },
    {
     "name": "stdout",
     "output_type": "stream",
     "text": [
      "0.6762158198160352\n",
      "0.6331482981365472\n"
     ]
    },
    {
     "name": "stderr",
     "output_type": "stream",
     "text": [
      "Training, epoch 2: 100%|██████████| 362/362 [00:42<00:00,  8.49it/s, accuracy=0.47, loss=0.627, mae=0.792] \n",
      "Evaluating...: 100%|██████████| 52/52 [00:02<00:00, 17.89it/s, accuracy=0.403, loss=0.662]\n"
     ]
    },
    {
     "name": "stdout",
     "output_type": "stream",
     "text": [
      "0.6331482981365472\n",
      "0.6619434434622887\n",
      "strike 0! didn't increase by mindelta.\n"
     ]
    },
    {
     "name": "stderr",
     "output_type": "stream",
     "text": [
      "Training, epoch 3: 100%|██████████| 362/362 [00:43<00:00,  8.38it/s, accuracy=0.489, loss=0.597, mae=0.738]\n",
      "Evaluating...: 100%|██████████| 52/52 [00:02<00:00, 17.45it/s, accuracy=0.506, loss=0.584]\n"
     ]
    },
    {
     "name": "stdout",
     "output_type": "stream",
     "text": [
      "0.6331482981365472\n",
      "0.5838497747231916\n"
     ]
    },
    {
     "name": "stderr",
     "output_type": "stream",
     "text": [
      "Training, epoch 4: 100%|██████████| 362/362 [00:43<00:00,  8.39it/s, accuracy=0.512, loss=0.576, mae=0.687]\n",
      "Evaluating...: 100%|██████████| 52/52 [00:02<00:00, 18.59it/s, accuracy=0.481, loss=0.617]\n"
     ]
    },
    {
     "name": "stdout",
     "output_type": "stream",
     "text": [
      "0.5838497747231916\n",
      "0.61731634994396\n",
      "strike 0! didn't increase by mindelta.\n"
     ]
    },
    {
     "name": "stderr",
     "output_type": "stream",
     "text": [
      "Training, epoch 5: 100%|██████████| 362/362 [00:43<00:00,  8.30it/s, accuracy=0.525, loss=0.559, mae=0.657]\n",
      "Evaluating...: 100%|██████████| 52/52 [00:02<00:00, 18.12it/s, accuracy=0.522, loss=0.548]\n"
     ]
    },
    {
     "name": "stdout",
     "output_type": "stream",
     "text": [
      "0.5838497747231916\n",
      "0.5479530093167654\n"
     ]
    },
    {
     "name": "stderr",
     "output_type": "stream",
     "text": [
      "Training, epoch 6: 100%|██████████| 362/362 [00:43<00:00,  8.35it/s, accuracy=0.539, loss=0.543, mae=0.628]\n",
      "Evaluating...: 100%|██████████| 52/52 [00:02<00:00, 19.57it/s, accuracy=0.548, loss=0.533]\n"
     ]
    },
    {
     "name": "stdout",
     "output_type": "stream",
     "text": [
      "0.5479530093167654\n",
      "0.5330932260136916\n"
     ]
    },
    {
     "name": "stderr",
     "output_type": "stream",
     "text": [
      "Training, epoch 7: 100%|██████████| 362/362 [00:42<00:00,  8.43it/s, accuracy=0.55, loss=0.526, mae=0.613] \n",
      "Evaluating...: 100%|██████████| 52/52 [00:02<00:00, 18.20it/s, accuracy=0.524, loss=0.57] \n"
     ]
    },
    {
     "name": "stdout",
     "output_type": "stream",
     "text": [
      "0.5330932260136916\n",
      "0.5700371688272416\n",
      "strike 0! didn't increase by mindelta.\n"
     ]
    },
    {
     "name": "stderr",
     "output_type": "stream",
     "text": [
      "Training, epoch 8: 100%|██████████| 362/362 [01:10<00:00,  5.10it/s, accuracy=0.563, loss=0.515, mae=0.593]\n",
      "Evaluating...: 100%|██████████| 52/52 [00:03<00:00, 16.12it/s, accuracy=0.558, loss=0.511]\n"
     ]
    },
    {
     "name": "stdout",
     "output_type": "stream",
     "text": [
      "0.5330932260136916\n",
      "0.5113892455655207\n"
     ]
    },
    {
     "name": "stderr",
     "output_type": "stream",
     "text": [
      "Training, epoch 9: 100%|██████████| 362/362 [00:43<00:00,  8.31it/s, accuracy=0.57, loss=0.505, mae=0.582] \n",
      "Evaluating...: 100%|██████████| 52/52 [00:02<00:00, 17.73it/s, accuracy=0.565, loss=0.517]\n"
     ]
    },
    {
     "name": "stdout",
     "output_type": "stream",
     "text": [
      "0.5113892455655207\n",
      "0.5173505651460144\n",
      "strike 0! didn't increase by mindelta.\n"
     ]
    },
    {
     "name": "stderr",
     "output_type": "stream",
     "text": [
      "Training, epoch 10: 100%|██████████| 362/362 [00:43<00:00,  8.31it/s, accuracy=0.591, loss=0.494, mae=0.542]\n",
      "Evaluating...: 100%|██████████| 52/52 [00:02<00:00, 18.94it/s, accuracy=0.517, loss=0.585]\n"
     ]
    },
    {
     "name": "stdout",
     "output_type": "stream",
     "text": [
      "0.5113892455655207\n",
      "0.585101998169832\n",
      "strike 1! didn't increase by mindelta.\n"
     ]
    },
    {
     "name": "stderr",
     "output_type": "stream",
     "text": [
      "Training, epoch 11: 100%|██████████| 362/362 [01:01<00:00,  5.84it/s, accuracy=0.588, loss=0.485, mae=0.544]\n",
      "Evaluating...: 100%|██████████| 52/52 [00:04<00:00, 10.63it/s, accuracy=0.513, loss=0.561]"
     ]
    },
    {
     "name": "stdout",
     "output_type": "stream",
     "text": [
      "0.5113892455655207\n",
      "0.561392106242099\n",
      "strike 2! didn't increase by mindelta.\n",
      "model converges\n"
     ]
    },
    {
     "name": "stderr",
     "output_type": "stream",
     "text": [
      "\n"
     ]
    },
    {
     "name": "stdout",
     "output_type": "stream",
     "text": [
      "test_dist: tensor([0.2651, 0.0000, 0.5453, 0.1896, 0.0000], device='cuda:2')\n",
      "Lambdas modified!\n",
      "training model with tensor([0.0000, 0.0000, 0.0000, 1.3961, 0.0000], device='cuda:2')\n"
     ]
    },
    {
     "name": "stderr",
     "output_type": "stream",
     "text": [
      "Training, epoch 12: 100%|██████████| 362/362 [01:18<00:00,  4.62it/s, accuracy=0.554, loss=0.589, mae=0.588]\n",
      "Evaluating...: 100%|██████████| 52/52 [00:04<00:00, 11.35it/s, accuracy=0.464, loss=0.737]\n"
     ]
    },
    {
     "name": "stdout",
     "output_type": "stream",
     "text": [
      "inf\n",
      "0.7369745769165907\n"
     ]
    },
    {
     "name": "stderr",
     "output_type": "stream",
     "text": [
      "Training, epoch 13: 100%|██████████| 362/362 [00:52<00:00,  6.92it/s, accuracy=0.553, loss=0.576, mae=0.583]\n",
      "Evaluating...: 100%|██████████| 52/52 [00:02<00:00, 18.14it/s, accuracy=0.506, loss=0.634]\n"
     ]
    },
    {
     "name": "stdout",
     "output_type": "stream",
     "text": [
      "0.7369745769165907\n",
      "0.6339941434652407\n"
     ]
    },
    {
     "name": "stderr",
     "output_type": "stream",
     "text": [
      "Training, epoch 14: 100%|██████████| 362/362 [00:43<00:00,  8.36it/s, accuracy=0.561, loss=0.572, mae=0.566]\n",
      "Evaluating...: 100%|██████████| 52/52 [00:02<00:00, 18.95it/s, accuracy=0.539, loss=0.58] \n"
     ]
    },
    {
     "name": "stdout",
     "output_type": "stream",
     "text": [
      "0.6339941434652407\n",
      "0.5804502073558133\n"
     ]
    },
    {
     "name": "stderr",
     "output_type": "stream",
     "text": [
      "Training, epoch 15: 100%|██████████| 362/362 [00:43<00:00,  8.33it/s, accuracy=0.562, loss=0.564, mae=0.566]\n",
      "Evaluating...: 100%|██████████| 52/52 [00:02<00:00, 18.28it/s, accuracy=0.542, loss=0.569]\n"
     ]
    },
    {
     "name": "stdout",
     "output_type": "stream",
     "text": [
      "0.5804502073558133\n",
      "0.5694147495611528\n"
     ]
    },
    {
     "name": "stderr",
     "output_type": "stream",
     "text": [
      "Training, epoch 16: 100%|██████████| 362/362 [00:43<00:00,  8.36it/s, accuracy=0.56, loss=0.565, mae=0.566] \n",
      "Evaluating...: 100%|██████████| 52/52 [00:02<00:00, 17.42it/s, accuracy=0.506, loss=0.667]\n"
     ]
    },
    {
     "name": "stdout",
     "output_type": "stream",
     "text": [
      "0.5694147495611528\n",
      "0.6668518279424303\n",
      "strike 0! didn't increase by mindelta.\n"
     ]
    },
    {
     "name": "stderr",
     "output_type": "stream",
     "text": [
      "Training, epoch 17: 100%|██████████| 362/362 [00:43<00:00,  8.24it/s, accuracy=0.565, loss=0.561, mae=0.557]\n",
      "Evaluating...: 100%|██████████| 52/52 [00:03<00:00, 16.41it/s, accuracy=0.548, loss=0.602]\n"
     ]
    },
    {
     "name": "stdout",
     "output_type": "stream",
     "text": [
      "0.5694147495611528\n",
      "0.6018118774631122\n",
      "strike 1! didn't increase by mindelta.\n"
     ]
    },
    {
     "name": "stderr",
     "output_type": "stream",
     "text": [
      "Training, epoch 18: 100%|██████████| 362/362 [01:00<00:00,  6.03it/s, accuracy=0.571, loss=0.558, mae=0.545]\n",
      "Evaluating...: 100%|██████████| 52/52 [00:05<00:00,  9.94it/s, accuracy=0.551, loss=0.562]\n"
     ]
    },
    {
     "name": "stdout",
     "output_type": "stream",
     "text": [
      "0.5694147495611528\n",
      "0.5617074575320283\n"
     ]
    },
    {
     "name": "stderr",
     "output_type": "stream",
     "text": [
      "Training, epoch 19: 100%|██████████| 362/362 [01:17<00:00,  4.68it/s, accuracy=0.575, loss=0.552, mae=0.538]\n",
      "Evaluating...: 100%|██████████| 52/52 [00:04<00:00, 10.42it/s, accuracy=0.565, loss=0.566]\n"
     ]
    },
    {
     "name": "stdout",
     "output_type": "stream",
     "text": [
      "0.5617074575320283\n",
      "0.5664836722482491\n",
      "strike 0! didn't increase by mindelta.\n"
     ]
    },
    {
     "name": "stderr",
     "output_type": "stream",
     "text": [
      "Training, epoch 20: 100%|██████████| 362/362 [01:10<00:00,  5.11it/s, accuracy=0.575, loss=0.55, mae=0.538] \n",
      "Evaluating...: 100%|██████████| 52/52 [00:04<00:00, 11.12it/s, accuracy=0.554, loss=0.556]\n"
     ]
    },
    {
     "name": "stdout",
     "output_type": "stream",
     "text": [
      "0.5617074575320283\n",
      "0.556422978567442\n"
     ]
    },
    {
     "name": "stderr",
     "output_type": "stream",
     "text": [
      "Training, epoch 21: 100%|██████████| 362/362 [01:17<00:00,  4.65it/s, accuracy=0.574, loss=0.549, mae=0.538]\n",
      "Evaluating...: 100%|██████████| 52/52 [00:04<00:00, 10.42it/s, accuracy=0.528, loss=0.643]\n"
     ]
    },
    {
     "name": "stdout",
     "output_type": "stream",
     "text": [
      "0.556422978567442\n",
      "0.6427889206507593\n",
      "strike 0! didn't increase by mindelta.\n"
     ]
    },
    {
     "name": "stderr",
     "output_type": "stream",
     "text": [
      "Training, epoch 22: 100%|██████████| 362/362 [01:11<00:00,  5.08it/s, accuracy=0.573, loss=0.55, mae=0.542] \n",
      "Evaluating...: 100%|██████████| 52/52 [00:04<00:00, 10.58it/s, accuracy=0.563, loss=0.626]\n"
     ]
    },
    {
     "name": "stdout",
     "output_type": "stream",
     "text": [
      "0.556422978567442\n",
      "0.625518301353039\n",
      "strike 1! didn't increase by mindelta.\n"
     ]
    },
    {
     "name": "stderr",
     "output_type": "stream",
     "text": [
      "Training, epoch 23: 100%|██████████| 362/362 [01:17<00:00,  4.68it/s, accuracy=0.576, loss=0.545, mae=0.53] \n",
      "Evaluating...: 100%|██████████| 52/52 [00:05<00:00, 10.09it/s, accuracy=0.32, loss=0.908] "
     ]
    },
    {
     "name": "stdout",
     "output_type": "stream",
     "text": [
      "0.556422978567442\n",
      "0.9081504690589397\n",
      "strike 2! didn't increase by mindelta.\n",
      "model converges\n"
     ]
    },
    {
     "name": "stderr",
     "output_type": "stream",
     "text": [
      "\n"
     ]
    },
    {
     "name": "stdout",
     "output_type": "stream",
     "text": [
      "test_dist: tensor([0.0471, 0.0048, 0.8225, 0.0000, 0.1256], device='cuda:2')\n"
     ]
    }
   ],
   "source": [
    "META_LEARNING_RATE = 10\n",
    "LEARNING_RATE = 1.0e-3\n",
    "WEIGHT_DECAY = 5.0e-2\n",
    "COST_DISTANCE = 3\n",
    "DIAGONAL_VALUE = 20\n",
    "PATIENCE = 3\n",
    "MIN_DELTA = 0.99\n",
    "\n",
    "#model = DummyModel()\n",
    "model = classification_model_vgg(\"vgg16\", num_classes = 5)\n",
    "\n",
    "engine = model_engine.OrdinalEngine(\n",
    "    model=model, loss_fn=None, #The loss function would be modified soon.\n",
    "    device=device, loaders=loaders, n_classes=5,\n",
    "    use_lr_scheduler=False, callbacks=[],\n",
    "    optimizer_fn=SGD, lr=LEARNING_RATE, weight_decay=WEIGHT_DECAY)\n",
    "\n",
    "#constraints = torch.tensor([0.2,1,1,1,1], device = device)\n",
    "constraints = torch.tensor([1,1,1,0.05,1], device = device) \n",
    "\n",
    "#current_lambdas = torch.tensor([0.0, 0.0, 0.0, 0.0, 0.2], device=device)\n",
    "current_lambdas = torch.zeros(size=(5,), device=device)\n",
    "\n",
    "cost_matrix = create_ordinal_cost_matrix(5, cost_distance=COST_DISTANCE, diagonal_value=DIAGONAL_VALUE)\n",
    "\n",
    "while True:\n",
    "\n",
    "    print(f\"training model with {current_lambdas}\")\n",
    "    csce_loss = CSCELoss(cost_matrix)\n",
    "    prediction_loss = PredictionLoss(lambdas = current_lambdas)\n",
    "\n",
    "    loss_fn = CombinedLoss(csce_loss, prediction_loss)\n",
    "    engine.set_loss_fn(loss_fn) #The loss is assigned again\n",
    "\n",
    "    engine.train_until_converge(50, patience=PATIENCE, min_delta=MIN_DELTA)\n",
    "    test_dist = engine.predict_dist_on_test()\n",
    "    print(f\"test_dist: {test_dist}\")\n",
    "\n",
    "    if not satisfy_constraints(test_dist, constraints):\n",
    "        #modify loss function\n",
    "        current_lambdas = modify_lambdas(constraints, test_dist, current_lambdas, META_LEARNING_RATE).to(device=device)\n",
    "        print(\"Lambdas modified!\")\n",
    "\n",
    "    else:\n",
    "        break"
   ]
  },
  {
   "cell_type": "code",
   "execution_count": 23,
   "metadata": {},
   "outputs": [
    {
     "name": "stdout",
     "output_type": "stream",
     "text": [
      "current_lambdas tensor([0.2000, 0.2000, 0.2000, 0.2000, 0.2000])\n",
      "new_lambdas tensor([0.3846, 0.1538, 0.1538, 0.1538, 0.1538])\n"
     ]
    },
    {
     "data": {
      "text/plain": [
       "tensor([0.3846, 0.1538, 0.1538, 0.1538, 0.1538])"
      ]
     },
     "execution_count": 23,
     "metadata": {},
     "output_type": "execute_result"
    }
   ],
   "source": [
    "constraints = torch.tensor([0.2, 1, 1, 1, 1])\n",
    "test_dist   = torch.tensor([0.6, 0, 0, 0, 0.1])\n",
    "current_lambdas = torch.ones(5)*0.2\n",
    "\n",
    "modify_lambdas(constraints, test_dist, current_lambdas)"
   ]
  },
  {
   "cell_type": "code",
   "execution_count": null,
   "metadata": {},
   "outputs": [
    {
     "name": "stdout",
     "output_type": "stream",
     "text": [
      "loaded ordinaloss.nextgen_engine.model_engine\n"
     ]
    }
   ],
   "source": [
    "#model = classification_model_vgg(\"vgg16\", num_classes = 5)\n",
    "\n",
    "cost_matrix = create_ordinal_cost_matrix(5, cost_distance=3, diagonal_value=20)\n",
    "\n",
    "\n",
    "\n",
    "#callbacks = [PrintingCallback()]\n",
    "callbacks = []\n",
    "\n",
    "engine = model_engine.OrdinalEngine(\n",
    "    model=model, loss_fn=CSCELoss(cost_matrix), \n",
    "    device=device, loaders=loaders, n_classes=5,\n",
    "    use_lr_scheduler=False, callbacks=callbacks,\n",
    "    optimizer_fn=SGD, lr=1.0e-3, weight_decay=5.0e-2)"
   ]
  },
  {
   "cell_type": "code",
   "execution_count": 127,
   "metadata": {},
   "outputs": [
    {
     "data": {
      "text/plain": [
       "tensor([1., 1., 1., 1., 1.])"
      ]
     },
     "execution_count": 127,
     "metadata": {},
     "output_type": "execute_result"
    }
   ],
   "source": [
    "cost_matrix = create_ordinal_cost_matrix(5, cost_distance=3, diagonal_value=20)\n"
   ]
  },
  {
   "cell_type": "code",
   "execution_count": 4,
   "metadata": {},
   "outputs": [],
   "source": [
    "constraints = torch.tensor([0.2, 1, 1, 1, 1])\n",
    "test_dist   = torch.tensor([0.8, 0, 0, 0, 0.1])\n",
    "current_lambdas = torch.ones(5)*0.2"
   ]
  },
  {
   "cell_type": "code",
   "execution_count": 137,
   "metadata": {},
   "outputs": [
    {
     "data": {
      "text/plain": [
       "tensor([0.5000, 0.1250, 0.1250, 0.1250, 0.1250])"
      ]
     },
     "execution_count": 137,
     "metadata": {},
     "output_type": "execute_result"
    }
   ],
   "source": [
    "\n",
    "\n",
    "constraints = torch.tensor([0.2, 1, 1, 1, 1])\n",
    "test_dist   = torch.tensor([0.8, 0, 0, 0, 0.1])\n",
    "current_lambdas = torch.ones(5)*0.2\n",
    "\n",
    "\n",
    "modify_loss_function(constraints, test_dist, current_lambdas)"
   ]
  }
 ],
 "metadata": {
  "kernelspec": {
   "display_name": "Python 3.9.12 ('maruloss')",
   "language": "python",
   "name": "python3"
  },
  "language_info": {
   "codemirror_mode": {
    "name": "ipython",
    "version": 3
   },
   "file_extension": ".py",
   "mimetype": "text/x-python",
   "name": "python",
   "nbconvert_exporter": "python",
   "pygments_lexer": "ipython3",
   "version": "3.9.12"
  },
  "orig_nbformat": 4,
  "vscode": {
   "interpreter": {
    "hash": "7e97c30b3269f9da24b9fb2b586032ecca136d76e1141d9f46df271ff014add6"
   }
  }
 },
 "nbformat": 4,
 "nbformat_minor": 2
}

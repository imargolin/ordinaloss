{
 "cells": [
  {
   "cell_type": "code",
   "execution_count": 1,
   "id": "fbe8856a",
   "metadata": {},
   "outputs": [],
   "source": [
    "%load_ext autoreload\n",
    "%autoreload 2"
   ]
  },
  {
   "cell_type": "code",
   "execution_count": 2,
   "id": "de26ae27",
   "metadata": {},
   "outputs": [],
   "source": [
    "import os\n",
    "import pandas as pd"
   ]
  },
  {
   "cell_type": "code",
   "execution_count": 3,
   "id": "f001ce8c",
   "metadata": {},
   "outputs": [
    {
     "name": "stdout",
     "output_type": "stream",
     "text": [
      "Looking in indexes: https://artifact.intuit.com/artifactory/api/pypi/pypi-intuit/simple\n",
      "Collecting mlflow\n",
      "  Downloading https://artifact.intuit.com/artifactory/api/pypi/pypi-intuit/packages/packages/f2/2f/ca661cd6ff93f11143566c3732ce0cccd1c9638ceaac9d6cf3e01460c3dc/mlflow-1.23.1-py3-none-any.whl (15.6 MB)\n",
      "     |████████████████████████████████| 15.6 MB 97.4 MB/s            \n",
      "\u001b[?25hCollecting prometheus-flask-exporter\n",
      "  Downloading https://artifact.intuit.com/artifactory/api/pypi/pypi-intuit/packages/packages/c0/e0/37e98fa277989d5b62f49f9ade0c2d238e7107032046a78403ac6b8ada2c/prometheus_flask_exporter-0.20.3-py3-none-any.whl (18 kB)\n",
      "Requirement already satisfied: docker>=4.0.0 in /home/ec2-user/anaconda3/envs/pytorch_p36/lib/python3.6/site-packages (from mlflow) (5.0.3)\n",
      "Requirement already satisfied: importlib-metadata!=4.7.0,>=3.7.0 in /home/ec2-user/anaconda3/envs/pytorch_p36/lib/python3.6/site-packages (from mlflow) (4.5.0)\n",
      "Requirement already satisfied: scipy in /home/ec2-user/anaconda3/envs/pytorch_p36/lib/python3.6/site-packages (from mlflow) (1.5.3)\n",
      "Requirement already satisfied: pandas in /home/ec2-user/anaconda3/envs/pytorch_p36/lib/python3.6/site-packages (from mlflow) (1.1.5)\n",
      "Requirement already satisfied: sqlalchemy in /home/ec2-user/anaconda3/envs/pytorch_p36/lib/python3.6/site-packages (from mlflow) (1.4.18)\n",
      "Collecting querystring-parser\n",
      "  Downloading https://artifact.intuit.com/artifactory/api/pypi/pypi-intuit/packages/packages/88/6b/572b2590fd55114118bf08bde63c0a421dcc82d593700f3e2ad89908a8a9/querystring_parser-1.2.4-py2.py3-none-any.whl (7.9 kB)\n",
      "Collecting databricks-cli>=0.8.7\n",
      "  Downloading https://artifact.intuit.com/artifactory/api/pypi/pypi-intuit/packages/packages/0d/90/c292931799688d2d790f4c738562eb274ad64f7b8dc6aee1cab25c7e590c/databricks-cli-0.17.3.tar.gz (77 kB)\n",
      "     |████████████████████████████████| 77 kB 10.8 MB/s             \n",
      "\u001b[?25h  Preparing metadata (setup.py) ... \u001b[?25ldone\n",
      "\u001b[?25hRequirement already satisfied: pytz in /home/ec2-user/anaconda3/envs/pytorch_p36/lib/python3.6/site-packages (from mlflow) (2021.1)\n",
      "Requirement already satisfied: cloudpickle in /home/ec2-user/anaconda3/envs/pytorch_p36/lib/python3.6/site-packages (from mlflow) (1.6.0)\n",
      "Collecting sqlparse>=0.3.1\n",
      "  Downloading https://artifact.intuit.com/artifactory/api/pypi/pypi-intuit/packages/packages/05/40/d836d55fb3f467243ee839ab7b814822fda522cd395fa41e282684e71ee5/sqlparse-0.4.2-py3-none-any.whl (42 kB)\n",
      "     |████████████████████████████████| 42 kB 1.3 MB/s             \n",
      "\u001b[?25hRequirement already satisfied: click>=7.0 in /home/ec2-user/anaconda3/envs/pytorch_p36/lib/python3.6/site-packages (from mlflow) (8.0.1)\n",
      "Requirement already satisfied: requests>=2.17.3 in /home/ec2-user/anaconda3/envs/pytorch_p36/lib/python3.6/site-packages (from mlflow) (2.25.1)\n",
      "Collecting gitpython>=2.1.0\n",
      "  Downloading https://artifact.intuit.com/artifactory/api/pypi/pypi-intuit/packages/packages/bc/91/b38c4fabb6e5092ab23492ded4f318ab7299b19263272b703478038c0fbc/GitPython-3.1.18-py3-none-any.whl (170 kB)\n",
      "     |████████████████████████████████| 170 kB 111.0 MB/s            \n",
      "\u001b[?25hCollecting alembic\n",
      "  Downloading https://artifact.intuit.com/artifactory/api/pypi/pypi-intuit/packages/packages/b3/e2/8d48220731b7279911c43e95cd182961a703b939de6822b00de3ea0d3159/alembic-1.7.7-py3-none-any.whl (210 kB)\n",
      "     |████████████████████████████████| 210 kB 131.7 MB/s            \n",
      "\u001b[?25hRequirement already satisfied: Flask in /home/ec2-user/anaconda3/envs/pytorch_p36/lib/python3.6/site-packages (from mlflow) (2.0.1)\n",
      "Requirement already satisfied: pyyaml>=5.1 in /home/ec2-user/anaconda3/envs/pytorch_p36/lib/python3.6/site-packages (from mlflow) (5.4.1)\n",
      "Requirement already satisfied: entrypoints in /home/ec2-user/anaconda3/envs/pytorch_p36/lib/python3.6/site-packages (from mlflow) (0.3)\n",
      "Collecting gunicorn\n",
      "  Downloading https://artifact.intuit.com/artifactory/api/pypi/pypi-intuit/packages/packages/e4/dd/5b190393e6066286773a67dfcc2f9492058e9b57c4867a95f1ba5caf0a83/gunicorn-20.1.0-py3-none-any.whl (79 kB)\n",
      "     |████████████████████████████████| 79 kB 13.8 MB/s             \n",
      "\u001b[?25hRequirement already satisfied: numpy in /home/ec2-user/anaconda3/envs/pytorch_p36/lib/python3.6/site-packages (from mlflow) (1.19.5)\n",
      "Requirement already satisfied: packaging in /home/ec2-user/anaconda3/envs/pytorch_p36/lib/python3.6/site-packages (from mlflow) (21.3)\n",
      "Requirement already satisfied: protobuf>=3.7.0 in /home/ec2-user/anaconda3/envs/pytorch_p36/lib/python3.6/site-packages (from mlflow) (3.17.2)\n",
      "Collecting pyjwt>=1.7.0\n",
      "  Downloading https://artifact.intuit.com/artifactory/api/pypi/pypi-intuit/packages/packages/1c/fb/b82e9601b00d88cf8bbee1f39b855ae773f9d5bcbcedb3801b2f72460696/PyJWT-2.4.0-py3-none-any.whl (18 kB)\n",
      "Collecting oauthlib>=3.1.0\n",
      "  Downloading https://artifact.intuit.com/artifactory/api/pypi/pypi-intuit/packages/packages/92/bb/d669baf53d4ffe081dab80aad93c5c79f84eeac885dd31507c8c055a98d5/oauthlib-3.2.1-py3-none-any.whl (151 kB)\n",
      "     |████████████████████████████████| 151 kB 128.5 MB/s            \n",
      "\u001b[?25hRequirement already satisfied: tabulate>=0.7.7 in /home/ec2-user/anaconda3/envs/pytorch_p36/lib/python3.6/site-packages (from databricks-cli>=0.8.7->mlflow) (0.8.9)\n",
      "Requirement already satisfied: six>=1.10.0 in /home/ec2-user/anaconda3/envs/pytorch_p36/lib/python3.6/site-packages (from databricks-cli>=0.8.7->mlflow) (1.16.0)\n",
      "Requirement already satisfied: websocket-client>=0.32.0 in /home/ec2-user/anaconda3/envs/pytorch_p36/lib/python3.6/site-packages (from docker>=4.0.0->mlflow) (0.58.0)\n",
      "Requirement already satisfied: typing-extensions>=3.7.4.0 in /home/ec2-user/anaconda3/envs/pytorch_p36/lib/python3.6/site-packages (from gitpython>=2.1.0->mlflow) (3.10.0.0)\n",
      "Collecting gitdb<5,>=4.0.1\n",
      "  Downloading https://artifact.intuit.com/artifactory/api/pypi/pypi-intuit/packages/packages/a3/7c/5d747655049bfbf75b5fcec57c8115896cb78d6fafa84f6d3ef4c0f13a98/gitdb-4.0.9-py3-none-any.whl (63 kB)\n",
      "     |████████████████████████████████| 63 kB 463 kB/s              \n",
      "\u001b[?25hRequirement already satisfied: zipp>=0.5 in /home/ec2-user/anaconda3/envs/pytorch_p36/lib/python3.6/site-packages (from importlib-metadata!=4.7.0,>=3.7.0->mlflow) (3.4.1)\n",
      "Requirement already satisfied: urllib3<1.27,>=1.21.1 in /home/ec2-user/anaconda3/envs/pytorch_p36/lib/python3.6/site-packages (from requests>=2.17.3->mlflow) (1.26.8)\n",
      "Requirement already satisfied: certifi>=2017.4.17 in /home/ec2-user/anaconda3/envs/pytorch_p36/lib/python3.6/site-packages (from requests>=2.17.3->mlflow) (2021.5.30)\n",
      "Requirement already satisfied: idna<3,>=2.5 in /home/ec2-user/anaconda3/envs/pytorch_p36/lib/python3.6/site-packages (from requests>=2.17.3->mlflow) (2.10)\n",
      "Requirement already satisfied: chardet<5,>=3.0.2 in /home/ec2-user/anaconda3/envs/pytorch_p36/lib/python3.6/site-packages (from requests>=2.17.3->mlflow) (4.0.0)\n",
      "Collecting importlib-resources\n",
      "  Downloading https://artifact.intuit.com/artifactory/api/pypi/pypi-intuit/packages/packages/24/1b/33e489669a94da3ef4562938cd306e8fa915e13939d7b8277cb5569cb405/importlib_resources-5.4.0-py3-none-any.whl (28 kB)\n",
      "Collecting Mako\n",
      "  Downloading https://artifact.intuit.com/artifactory/api/pypi/pypi-intuit/packages/packages/b4/4d/e03d08f16ee10e688bde9016bc80af8b78c7f36a8b37c7194da48f72207e/Mako-1.1.6-py2.py3-none-any.whl (75 kB)\n",
      "     |████████████████████████████████| 75 kB 8.9 MB/s              \n",
      "\u001b[?25hRequirement already satisfied: greenlet!=0.4.17 in /home/ec2-user/anaconda3/envs/pytorch_p36/lib/python3.6/site-packages (from sqlalchemy->mlflow) (1.1.0)\n",
      "Requirement already satisfied: itsdangerous>=2.0 in /home/ec2-user/anaconda3/envs/pytorch_p36/lib/python3.6/site-packages (from Flask->mlflow) (2.0.1)\n",
      "Requirement already satisfied: Jinja2>=3.0 in /home/ec2-user/anaconda3/envs/pytorch_p36/lib/python3.6/site-packages (from Flask->mlflow) (3.0.1)\n",
      "Requirement already satisfied: Werkzeug>=2.0 in /home/ec2-user/anaconda3/envs/pytorch_p36/lib/python3.6/site-packages (from Flask->mlflow) (2.0.2)\n",
      "Requirement already satisfied: setuptools>=3.0 in /home/ec2-user/anaconda3/envs/pytorch_p36/lib/python3.6/site-packages (from gunicorn->mlflow) (52.0.0.post20210125)\n",
      "Requirement already satisfied: pyparsing!=3.0.5,>=2.0.2 in /home/ec2-user/anaconda3/envs/pytorch_p36/lib/python3.6/site-packages (from packaging->mlflow) (2.4.7)\n",
      "Requirement already satisfied: python-dateutil>=2.7.3 in /home/ec2-user/anaconda3/envs/pytorch_p36/lib/python3.6/site-packages (from pandas->mlflow) (2.8.1)\n",
      "Requirement already satisfied: prometheus-client in /home/ec2-user/anaconda3/envs/pytorch_p36/lib/python3.6/site-packages (from prometheus-flask-exporter->mlflow) (0.11.0)\n",
      "Collecting smmap<6,>=3.0.1\n",
      "  Downloading https://artifact.intuit.com/artifactory/api/pypi/pypi-intuit/packages/packages/6d/01/7caa71608bc29952ae09b0be63a539e50d2484bc37747797a66a60679856/smmap-5.0.0-py3-none-any.whl (24 kB)\n",
      "Requirement already satisfied: MarkupSafe>=2.0 in /home/ec2-user/anaconda3/envs/pytorch_p36/lib/python3.6/site-packages (from Jinja2>=3.0->Flask->mlflow) (2.0.1)\n",
      "Requirement already satisfied: dataclasses in /home/ec2-user/anaconda3/envs/pytorch_p36/lib/python3.6/site-packages (from Werkzeug>=2.0->Flask->mlflow) (0.8)\n",
      "Building wheels for collected packages: databricks-cli\n",
      "  Building wheel for databricks-cli (setup.py) ... \u001b[?25ldone\n",
      "\u001b[?25h  Created wheel for databricks-cli: filename=databricks_cli-0.17.3-py3-none-any.whl size=139800 sha256=45a8ac17ac5741bff8bad7fd7432f556b5e9deb10dd1df594c76cb671be8a52a\n",
      "  Stored in directory: /home/ec2-user/.cache/pip/wheels/6b/8f/c8/30c419e90b4d9e8185d35b27f5e088224b0cfd8cf2184ad4cb\n",
      "Successfully built databricks-cli\n",
      "Installing collected packages: smmap, pyjwt, oauthlib, Mako, importlib-resources, gitdb, sqlparse, querystring-parser, prometheus-flask-exporter, gunicorn, gitpython, databricks-cli, alembic, mlflow\n",
      "Successfully installed Mako-1.1.6 alembic-1.7.7 databricks-cli-0.17.3 gitdb-4.0.9 gitpython-3.1.18 gunicorn-20.1.0 importlib-resources-5.4.0 mlflow-1.23.1 oauthlib-3.2.1 prometheus-flask-exporter-0.20.3 pyjwt-2.4.0 querystring-parser-1.2.4 smmap-5.0.0 sqlparse-0.4.2\n",
      "Note: you may need to restart the kernel to use updated packages.\n"
     ]
    }
   ],
   "source": [
    "pip install mlflow"
   ]
  },
  {
   "cell_type": "code",
   "execution_count": 4,
   "id": "7ba60167",
   "metadata": {},
   "outputs": [
    {
     "name": "stdout",
     "output_type": "stream",
     "text": [
      "loaded ordinaloss.utils.pretrained_models\n"
     ]
    },
    {
     "name": "stderr",
     "output_type": "stream",
     "text": [
      "/home/ec2-user/SageMaker/biu/ordinaloss/ordinaloss/engine/model_engine.py:13: FutureWarning: MLflow support for Python 3.6 is deprecated and will be dropped in an upcoming release. At that point, existing Python 3.6 workflows that use MLflow will continue to work without modification, but Python 3.6 users will no longer get access to the latest MLflow features and bugfixes. We recommend that you upgrade to Python 3.7 or newer.\n",
      "  import mlflow\n"
     ]
    },
    {
     "name": "stdout",
     "output_type": "stream",
     "text": [
      "loaded ordinaloss.engine.model_engine\n",
      "loaded ordinaloss.utils.datasets\n",
      "loaded ordinaloss.utils.loss_utils\n"
     ]
    },
    {
     "data": {
      "text/plain": [
       "'cuda:0'"
      ]
     },
     "execution_count": 4,
     "metadata": {},
     "output_type": "execute_result"
    }
   ],
   "source": [
    "#from ordinaloss.utils.datasets import ImageFolder, create_transform_pipeline\n",
    "from ordinaloss.utils.pretrained_models import classification_model_densenet, classification_model_resnet, classification_model_vgg\n",
    "from ordinaloss.utils.utils import create_ordinal_cost_matrix\n",
    "\n",
    "\n",
    "from ordinaloss.engine.model_engine import OrdinalEngine\n",
    "from ordinaloss.utils.datasets import data_load\n",
    "\n",
    "from ordinaloss.utils.loss_utils import SinimLoss, GirlsLoss, CSCELoss\n",
    "\n",
    "\n",
    "import matplotlib.pyplot as plt\n",
    "\n",
    "from torch.utils.data import DataLoader\n",
    "from torch.optim import Adam, SGD\n",
    "import torch\n",
    "import mlflow\n",
    "\n",
    "device = \"cuda:0\" if torch.cuda.is_available() else \"cpu\"\n",
    "device"
   ]
  },
  {
   "cell_type": "code",
   "execution_count": 5,
   "id": "d22ca1ba",
   "metadata": {},
   "outputs": [],
   "source": [
    "# train_transform = create_transform_pipeline(brightness=0.3, contrast=0.3, saturation=0.3, hue=0.3) #These are hyperparameters. \n",
    "# test_transform = create_transform_pipeline() #Without color jitter for test pipeline\n",
    "\n",
    "# train_dataset = ImageFolder(\"../datasets/kneeKL224/train/\", transform=train_transform)\n",
    "# val_dataset = ImageFolder(\"../datasets/kneeKL224/val/\", transform = test_transform)\n",
    "# test_dataset = ImageFolder(\"../datasets/kneeKL224/test/\", transform = test_transform)\n",
    "# auto_test_dataset = ImageFolder(\"../datasets/kneeKL224/auto_test/\", transform = test_transform)\n",
    "\n",
    "# train_loader = DataLoader(train_dataset, batch_size = 32, shuffle=True)\n",
    "# test_loader  = DataLoader(test_dataset,  batch_size = 128, shuffle=False)\n",
    "\n",
    "# loaders, _, _ = data_load(\"../datasets/kneeKL224/\", 16)\n",
    "# train_loader = loaders[\"train\"]\n",
    "# test_loader = loaders[\"test\"]"
   ]
  },
  {
   "cell_type": "code",
   "execution_count": 6,
   "id": "2027b1ab",
   "metadata": {},
   "outputs": [],
   "source": [
    "from ordinaloss.utils.models_sinim import cls_model"
   ]
  },
  {
   "cell_type": "code",
   "execution_count": 7,
   "id": "c034b731",
   "metadata": {},
   "outputs": [
    {
     "name": "stderr",
     "output_type": "stream",
     "text": [
      "Downloading: \"https://download.pytorch.org/models/vgg16-397923af.pth\" to /home/ec2-user/.cache/torch/checkpoints/vgg16-397923af.pth\n"
     ]
    },
    {
     "data": {
      "application/vnd.jupyter.widget-view+json": {
       "model_id": "7f811e6270094cd6a8277ab342f7e768",
       "version_major": 2,
       "version_minor": 0
      },
      "text/plain": [
       "  0%|          | 0.00/528M [00:00<?, ?B/s]"
      ]
     },
     "metadata": {},
     "output_type": "display_data"
    }
   ],
   "source": [
    "#model = classification_model_vgg(\"vgg16\", num_classes = 5) #Could also be resnet34, resnet50, resnet101, resnet152, \n",
    "#model = classification_model_vgg(\"vgg16\", num_classes = 5) #Could also be resnet34, resnet50, resnet101, resnet152, \n",
    "# model = classification_model_densenet(\"densenet121\", num_classes = 5) #Could also be densenet169, densenet201\n",
    "\n",
    "model = cls_model({\"net_type\": \"vgg\", \"depth\":\"16\", \"num_class\":5, \"pretrained\":True})"
   ]
  },
  {
   "cell_type": "code",
   "execution_count": 10,
   "id": "1a6362c9",
   "metadata": {},
   "outputs": [],
   "source": [
    "from ordinaloss.utils.loss_utils import GirlsLoss, SinimLoss\n",
    "#model = classification_model_vgg(\"vgg16\", num_classes = 5)\n",
    "\n",
    "def my_lambda_scheduler(epoch):\n",
    "    return (0.9 ** (epoch // 5))\n",
    "\n",
    "\n",
    "# engine = OrdinalEngine(model, \n",
    "#                        loss_fn = CSCELoss(create_ordinal_cost_matrix(5)), #CSCELoss model, matan, you know the dril.\n",
    "#                        device = device, #change to gpu, let me know if it doesnt work on GPU.\n",
    "#                        use_lr_scheduler=True, scheduler_lambda_fn = my_lambda_scheduler,\n",
    "#                        optimizer_fn=SGD, lr = 5.0e-4, weight_decay=5.0e-4)\n",
    "\n",
    "\n",
    "# engine = OrdinalEngine(model, \n",
    "#                        loss_fn = SinimLoss(), #CSCELoss model, matan, you know the dril.\n",
    "#                        device = device, #change to gpu, let me know if it doesnt work on GPU.\n",
    "#                        use_lr_scheduler=True, scheduler_lambda_fn = my_lambda_scheduler,\n",
    "#                        optimizer_fn=SGD, lr = 5.0e-4, weight_decay=5.0e-4)\n",
    "\n",
    "\n",
    "# engine = OrdinalEngine(model, \n",
    "#                        loss_fn = CSCELoss(create_ordinal_cost_matrix(5)), #CSCELoss model, matan, you know the dril.\n",
    "#                        device = device, #change to gpu, let me know if it doesnt work on GPU.\n",
    "#                        use_lr_scheduler=True, scheduler_lambda_fn = my_lambda_scheduler,\n",
    "#                        optimizer_fn=Adam, lr = 1.0e-3, weight_decay=5.0e-2)                       "
   ]
  },
  {
   "cell_type": "code",
   "execution_count": null,
   "id": "ee91c809",
   "metadata": {},
   "outputs": [],
   "source": [
    "from itertools import product\n",
    "\n",
    "param_grid = {\n",
    "            \"lr\" : [1e-3, 5e-4, 5e-5],\n",
    "            \"batch_size\" : [16,32],\n",
    "            \"cb_matrix_diag_value\" : [1,5,10],\n",
    "            \"cost_distance\" : [1, 2, 3],\n",
    "            }\n",
    "\n",
    "experiments_configuration = pd.DataFrame(list(product(*param_grid.values())), columns = param_grid.keys())\n",
    "len(experiments_configuration)\n",
    "\n",
    "\n",
    "for _, row in experiments_configuration.iterrows():\n",
    "    config = row.to_dict()\n",
    "\n",
    "    #model = classification_model_vgg(\"vgg16\", num_classes = 5) #For newer versions of pytorch\n",
    "    model = cls_model({\"net_type\": \"vgg\", \"depth\":\"16\", \"num_class\":5, \"pretrained\":True}) #For SageMaker version\n",
    "\n",
    "    loaders, _, _ = data_load(\"../datasets/kneeKL224/\", int(config[\"batch_size\"]))\n",
    "    train_loader = loaders[\"train\"]\n",
    "    test_loader = loaders[\"test\"]\n",
    "\n",
    "    cb_matrix = create_ordinal_cost_matrix(size = 5, cost_distance=config[\"cost_distance\"], diagonal_value=config[\"cb_matrix_diag_value\"])\n",
    "\n",
    "    engine = OrdinalEngine(model, \n",
    "                       loss_fn = CSCELoss(cb_matrix), #CSCELoss model, matan, you know the dril.\n",
    "                       device = device, #change to gpu, let me know if it doesnt work on GPU.\n",
    "                       use_lr_scheduler=True, scheduler_lambda_fn = my_lambda_scheduler,\n",
    "                       optimizer_fn=SGD, lr = config[\"lr\"], weight_decay=5.0e-4)\n",
    "    \n",
    "    engine.train(train_loader, test_loader, n_epochs=20)"
   ]
  },
  {
   "cell_type": "raw",
   "id": "9fad34d3",
   "metadata": {},
   "source": [
    "loaders, _, _ = data_load(\"../datasets/kneeKL224/\", int(config[\"batch_size\"]))\n",
    "train_loader = loaders[\"train\"]\n",
    "test_loader = loaders[\"test\"]\n",
    "\n",
    "\n",
    "cb_matrix = create_ordinal_cost_matrix(size = 5, cost_distance=config[\"cost_distance\"], diagonal_value=config[\"cb_matrix_diag_value\"])\n",
    "\n",
    "engine = OrdinalEngine(model, \n",
    "                   loss_fn = CSCELoss(cb_matrix), #CSCELoss model, matan, you know the dril.\n",
    "                   device = device, #change to gpu, let me know if it doesnt work on GPU.\n",
    "                   use_lr_scheduler=True, scheduler_lambda_fn = my_lambda_scheduler,\n",
    "                   optimizer_fn=SGD, lr = config[\"lr\"], weight_decay=5.0e-4)"
   ]
  },
  {
   "cell_type": "raw",
   "id": "6937f08d",
   "metadata": {},
   "source": [
    "engine.train(train_loader, test_loader, n_epochs=1)"
   ]
  },
  {
   "cell_type": "raw",
   "id": "6f7c5c9d",
   "metadata": {},
   "source": [
    "# exp = mlflow.get_experiment_by_name(\"OrdinalLoss\")\n",
    "# run_ids = [r.run_id for r in mlflow.list_run_infos(exp.experiment_id)]\n",
    "\n",
    "\n",
    "# for run_id in run_ids:\n",
    "\n",
    "\n",
    "# #[pd.read_csv(f\"mlruns/{exp.experiment_id}/{run_id}/metrics\") for run_id in run_ids]\n",
    "\n",
    "# pd.read_csv(\n",
    "#     \"mlruns/0/8ed2dbeacce148b7a109bf263f98dc3d/metrics/accuracy_test\", \n",
    "#     sep = \" \", \n",
    "#     names = [\"ts\", \"score\", \"step\"])\n"
   ]
  }
 ],
 "metadata": {
  "kernelspec": {
   "display_name": "conda_pytorch_p36",
   "language": "python",
   "name": "conda_pytorch_p36"
  },
  "language_info": {
   "codemirror_mode": {
    "name": "ipython",
    "version": 3
   },
   "file_extension": ".py",
   "mimetype": "text/x-python",
   "name": "python",
   "nbconvert_exporter": "python",
   "pygments_lexer": "ipython3",
   "version": "3.6.13"
  },
  "vscode": {
   "interpreter": {
    "hash": "477eecfb294edae368d6b47ff07aee7301c1b572d5bced17501efd4a9e30b26f"
   }
  }
 },
 "nbformat": 4,
 "nbformat_minor": 5
}

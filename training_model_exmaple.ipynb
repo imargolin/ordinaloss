{
 "cells": [
  {
   "cell_type": "code",
   "execution_count": 1,
   "id": "3aed0464",
   "metadata": {},
   "outputs": [],
   "source": [
    "%load_ext autoreload\n",
    "%autoreload 2"
   ]
  },
  {
   "cell_type": "code",
   "execution_count": 2,
   "id": "ad5aa8c8",
   "metadata": {},
   "outputs": [],
   "source": [
    "import os\n",
    "import pandas as pd"
   ]
  },
  {
   "cell_type": "code",
   "execution_count": 3,
   "id": "b3d9f960",
   "metadata": {},
   "outputs": [
    {
     "name": "stdout",
     "output_type": "stream",
     "text": [
      "Looking in indexes: https://artifact.intuit.com/artifactory/api/pypi/pypi-intuit/simple\n",
      "Collecting mlflow\n",
      "  Downloading https://artifact.intuit.com/artifactory/api/pypi/pypi-intuit/packages/packages/f2/2f/ca661cd6ff93f11143566c3732ce0cccd1c9638ceaac9d6cf3e01460c3dc/mlflow-1.23.1-py3-none-any.whl (15.6 MB)\n",
      "     |████████████████████████████████| 15.6 MB 97.4 MB/s            \n",
      "\u001b[?25hCollecting prometheus-flask-exporter\n",
      "  Downloading https://artifact.intuit.com/artifactory/api/pypi/pypi-intuit/packages/packages/c0/e0/37e98fa277989d5b62f49f9ade0c2d238e7107032046a78403ac6b8ada2c/prometheus_flask_exporter-0.20.3-py3-none-any.whl (18 kB)\n",
      "Requirement already satisfied: docker>=4.0.0 in /home/ec2-user/anaconda3/envs/pytorch_p36/lib/python3.6/site-packages (from mlflow) (5.0.3)\n",
      "Requirement already satisfied: importlib-metadata!=4.7.0,>=3.7.0 in /home/ec2-user/anaconda3/envs/pytorch_p36/lib/python3.6/site-packages (from mlflow) (4.5.0)\n",
      "Requirement already satisfied: scipy in /home/ec2-user/anaconda3/envs/pytorch_p36/lib/python3.6/site-packages (from mlflow) (1.5.3)\n",
      "Requirement already satisfied: pandas in /home/ec2-user/anaconda3/envs/pytorch_p36/lib/python3.6/site-packages (from mlflow) (1.1.5)\n",
      "Requirement already satisfied: sqlalchemy in /home/ec2-user/anaconda3/envs/pytorch_p36/lib/python3.6/site-packages (from mlflow) (1.4.18)\n",
      "Collecting querystring-parser\n",
      "  Downloading https://artifact.intuit.com/artifactory/api/pypi/pypi-intuit/packages/packages/88/6b/572b2590fd55114118bf08bde63c0a421dcc82d593700f3e2ad89908a8a9/querystring_parser-1.2.4-py2.py3-none-any.whl (7.9 kB)\n",
      "Collecting databricks-cli>=0.8.7\n",
      "  Downloading https://artifact.intuit.com/artifactory/api/pypi/pypi-intuit/packages/packages/0d/90/c292931799688d2d790f4c738562eb274ad64f7b8dc6aee1cab25c7e590c/databricks-cli-0.17.3.tar.gz (77 kB)\n",
      "     |████████████████████████████████| 77 kB 10.8 MB/s             \n",
      "\u001b[?25h  Preparing metadata (setup.py) ... \u001b[?25ldone\n",
      "\u001b[?25hRequirement already satisfied: pytz in /home/ec2-user/anaconda3/envs/pytorch_p36/lib/python3.6/site-packages (from mlflow) (2021.1)\n",
      "Requirement already satisfied: cloudpickle in /home/ec2-user/anaconda3/envs/pytorch_p36/lib/python3.6/site-packages (from mlflow) (1.6.0)\n",
      "Collecting sqlparse>=0.3.1\n",
      "  Downloading https://artifact.intuit.com/artifactory/api/pypi/pypi-intuit/packages/packages/05/40/d836d55fb3f467243ee839ab7b814822fda522cd395fa41e282684e71ee5/sqlparse-0.4.2-py3-none-any.whl (42 kB)\n",
      "     |████████████████████████████████| 42 kB 1.3 MB/s             \n",
      "\u001b[?25hRequirement already satisfied: click>=7.0 in /home/ec2-user/anaconda3/envs/pytorch_p36/lib/python3.6/site-packages (from mlflow) (8.0.1)\n",
      "Requirement already satisfied: requests>=2.17.3 in /home/ec2-user/anaconda3/envs/pytorch_p36/lib/python3.6/site-packages (from mlflow) (2.25.1)\n",
      "Collecting gitpython>=2.1.0\n",
      "  Downloading https://artifact.intuit.com/artifactory/api/pypi/pypi-intuit/packages/packages/bc/91/b38c4fabb6e5092ab23492ded4f318ab7299b19263272b703478038c0fbc/GitPython-3.1.18-py3-none-any.whl (170 kB)\n",
      "     |████████████████████████████████| 170 kB 111.0 MB/s            \n",
      "\u001b[?25hCollecting alembic\n",
      "  Downloading https://artifact.intuit.com/artifactory/api/pypi/pypi-intuit/packages/packages/b3/e2/8d48220731b7279911c43e95cd182961a703b939de6822b00de3ea0d3159/alembic-1.7.7-py3-none-any.whl (210 kB)\n",
      "     |████████████████████████████████| 210 kB 131.7 MB/s            \n",
      "\u001b[?25hRequirement already satisfied: Flask in /home/ec2-user/anaconda3/envs/pytorch_p36/lib/python3.6/site-packages (from mlflow) (2.0.1)\n",
      "Requirement already satisfied: pyyaml>=5.1 in /home/ec2-user/anaconda3/envs/pytorch_p36/lib/python3.6/site-packages (from mlflow) (5.4.1)\n",
      "Requirement already satisfied: entrypoints in /home/ec2-user/anaconda3/envs/pytorch_p36/lib/python3.6/site-packages (from mlflow) (0.3)\n",
      "Collecting gunicorn\n",
      "  Downloading https://artifact.intuit.com/artifactory/api/pypi/pypi-intuit/packages/packages/e4/dd/5b190393e6066286773a67dfcc2f9492058e9b57c4867a95f1ba5caf0a83/gunicorn-20.1.0-py3-none-any.whl (79 kB)\n",
      "     |████████████████████████████████| 79 kB 13.8 MB/s             \n",
      "\u001b[?25hRequirement already satisfied: numpy in /home/ec2-user/anaconda3/envs/pytorch_p36/lib/python3.6/site-packages (from mlflow) (1.19.5)\n",
      "Requirement already satisfied: packaging in /home/ec2-user/anaconda3/envs/pytorch_p36/lib/python3.6/site-packages (from mlflow) (21.3)\n",
      "Requirement already satisfied: protobuf>=3.7.0 in /home/ec2-user/anaconda3/envs/pytorch_p36/lib/python3.6/site-packages (from mlflow) (3.17.2)\n",
      "Collecting pyjwt>=1.7.0\n",
      "  Downloading https://artifact.intuit.com/artifactory/api/pypi/pypi-intuit/packages/packages/1c/fb/b82e9601b00d88cf8bbee1f39b855ae773f9d5bcbcedb3801b2f72460696/PyJWT-2.4.0-py3-none-any.whl (18 kB)\n",
      "Collecting oauthlib>=3.1.0\n",
      "  Downloading https://artifact.intuit.com/artifactory/api/pypi/pypi-intuit/packages/packages/92/bb/d669baf53d4ffe081dab80aad93c5c79f84eeac885dd31507c8c055a98d5/oauthlib-3.2.1-py3-none-any.whl (151 kB)\n",
      "     |████████████████████████████████| 151 kB 128.5 MB/s            \n",
      "\u001b[?25hRequirement already satisfied: tabulate>=0.7.7 in /home/ec2-user/anaconda3/envs/pytorch_p36/lib/python3.6/site-packages (from databricks-cli>=0.8.7->mlflow) (0.8.9)\n",
      "Requirement already satisfied: six>=1.10.0 in /home/ec2-user/anaconda3/envs/pytorch_p36/lib/python3.6/site-packages (from databricks-cli>=0.8.7->mlflow) (1.16.0)\n",
      "Requirement already satisfied: websocket-client>=0.32.0 in /home/ec2-user/anaconda3/envs/pytorch_p36/lib/python3.6/site-packages (from docker>=4.0.0->mlflow) (0.58.0)\n",
      "Requirement already satisfied: typing-extensions>=3.7.4.0 in /home/ec2-user/anaconda3/envs/pytorch_p36/lib/python3.6/site-packages (from gitpython>=2.1.0->mlflow) (3.10.0.0)\n",
      "Collecting gitdb<5,>=4.0.1\n",
      "  Downloading https://artifact.intuit.com/artifactory/api/pypi/pypi-intuit/packages/packages/a3/7c/5d747655049bfbf75b5fcec57c8115896cb78d6fafa84f6d3ef4c0f13a98/gitdb-4.0.9-py3-none-any.whl (63 kB)\n",
      "     |████████████████████████████████| 63 kB 463 kB/s              \n",
      "\u001b[?25hRequirement already satisfied: zipp>=0.5 in /home/ec2-user/anaconda3/envs/pytorch_p36/lib/python3.6/site-packages (from importlib-metadata!=4.7.0,>=3.7.0->mlflow) (3.4.1)\n",
      "Requirement already satisfied: urllib3<1.27,>=1.21.1 in /home/ec2-user/anaconda3/envs/pytorch_p36/lib/python3.6/site-packages (from requests>=2.17.3->mlflow) (1.26.8)\n",
      "Requirement already satisfied: certifi>=2017.4.17 in /home/ec2-user/anaconda3/envs/pytorch_p36/lib/python3.6/site-packages (from requests>=2.17.3->mlflow) (2021.5.30)\n",
      "Requirement already satisfied: idna<3,>=2.5 in /home/ec2-user/anaconda3/envs/pytorch_p36/lib/python3.6/site-packages (from requests>=2.17.3->mlflow) (2.10)\n",
      "Requirement already satisfied: chardet<5,>=3.0.2 in /home/ec2-user/anaconda3/envs/pytorch_p36/lib/python3.6/site-packages (from requests>=2.17.3->mlflow) (4.0.0)\n",
      "Collecting importlib-resources\n",
      "  Downloading https://artifact.intuit.com/artifactory/api/pypi/pypi-intuit/packages/packages/24/1b/33e489669a94da3ef4562938cd306e8fa915e13939d7b8277cb5569cb405/importlib_resources-5.4.0-py3-none-any.whl (28 kB)\n",
      "Collecting Mako\n",
      "  Downloading https://artifact.intuit.com/artifactory/api/pypi/pypi-intuit/packages/packages/b4/4d/e03d08f16ee10e688bde9016bc80af8b78c7f36a8b37c7194da48f72207e/Mako-1.1.6-py2.py3-none-any.whl (75 kB)\n",
      "     |████████████████████████████████| 75 kB 8.9 MB/s              \n",
      "\u001b[?25hRequirement already satisfied: greenlet!=0.4.17 in /home/ec2-user/anaconda3/envs/pytorch_p36/lib/python3.6/site-packages (from sqlalchemy->mlflow) (1.1.0)\n",
      "Requirement already satisfied: itsdangerous>=2.0 in /home/ec2-user/anaconda3/envs/pytorch_p36/lib/python3.6/site-packages (from Flask->mlflow) (2.0.1)\n",
      "Requirement already satisfied: Jinja2>=3.0 in /home/ec2-user/anaconda3/envs/pytorch_p36/lib/python3.6/site-packages (from Flask->mlflow) (3.0.1)\n",
      "Requirement already satisfied: Werkzeug>=2.0 in /home/ec2-user/anaconda3/envs/pytorch_p36/lib/python3.6/site-packages (from Flask->mlflow) (2.0.2)\n",
      "Requirement already satisfied: setuptools>=3.0 in /home/ec2-user/anaconda3/envs/pytorch_p36/lib/python3.6/site-packages (from gunicorn->mlflow) (52.0.0.post20210125)\n",
      "Requirement already satisfied: pyparsing!=3.0.5,>=2.0.2 in /home/ec2-user/anaconda3/envs/pytorch_p36/lib/python3.6/site-packages (from packaging->mlflow) (2.4.7)\n",
      "Requirement already satisfied: python-dateutil>=2.7.3 in /home/ec2-user/anaconda3/envs/pytorch_p36/lib/python3.6/site-packages (from pandas->mlflow) (2.8.1)\n",
      "Requirement already satisfied: prometheus-client in /home/ec2-user/anaconda3/envs/pytorch_p36/lib/python3.6/site-packages (from prometheus-flask-exporter->mlflow) (0.11.0)\n",
      "Collecting smmap<6,>=3.0.1\n",
      "  Downloading https://artifact.intuit.com/artifactory/api/pypi/pypi-intuit/packages/packages/6d/01/7caa71608bc29952ae09b0be63a539e50d2484bc37747797a66a60679856/smmap-5.0.0-py3-none-any.whl (24 kB)\n",
      "Requirement already satisfied: MarkupSafe>=2.0 in /home/ec2-user/anaconda3/envs/pytorch_p36/lib/python3.6/site-packages (from Jinja2>=3.0->Flask->mlflow) (2.0.1)\n",
      "Requirement already satisfied: dataclasses in /home/ec2-user/anaconda3/envs/pytorch_p36/lib/python3.6/site-packages (from Werkzeug>=2.0->Flask->mlflow) (0.8)\n",
      "Building wheels for collected packages: databricks-cli\n",
      "  Building wheel for databricks-cli (setup.py) ... \u001b[?25ldone\n",
      "\u001b[?25h  Created wheel for databricks-cli: filename=databricks_cli-0.17.3-py3-none-any.whl size=139800 sha256=45a8ac17ac5741bff8bad7fd7432f556b5e9deb10dd1df594c76cb671be8a52a\n",
      "  Stored in directory: /home/ec2-user/.cache/pip/wheels/6b/8f/c8/30c419e90b4d9e8185d35b27f5e088224b0cfd8cf2184ad4cb\n",
      "Successfully built databricks-cli\n",
      "Installing collected packages: smmap, pyjwt, oauthlib, Mako, importlib-resources, gitdb, sqlparse, querystring-parser, prometheus-flask-exporter, gunicorn, gitpython, databricks-cli, alembic, mlflow\n",
      "Successfully installed Mako-1.1.6 alembic-1.7.7 databricks-cli-0.17.3 gitdb-4.0.9 gitpython-3.1.18 gunicorn-20.1.0 importlib-resources-5.4.0 mlflow-1.23.1 oauthlib-3.2.1 prometheus-flask-exporter-0.20.3 pyjwt-2.4.0 querystring-parser-1.2.4 smmap-5.0.0 sqlparse-0.4.2\n",
      "Note: you may need to restart the kernel to use updated packages.\n"
     ]
    }
   ],
   "source": [
    "pip install mlflow"
   ]
  },
  {
   "cell_type": "code",
   "execution_count": 4,
   "id": "c19d127c",
   "metadata": {},
   "outputs": [
    {
     "name": "stdout",
     "output_type": "stream",
     "text": [
      "loaded ordinaloss.utils.pretrained_models\n"
     ]
    },
    {
     "name": "stderr",
     "output_type": "stream",
     "text": [
      "/home/ec2-user/SageMaker/biu/ordinaloss/ordinaloss/engine/model_engine.py:13: FutureWarning: MLflow support for Python 3.6 is deprecated and will be dropped in an upcoming release. At that point, existing Python 3.6 workflows that use MLflow will continue to work without modification, but Python 3.6 users will no longer get access to the latest MLflow features and bugfixes. We recommend that you upgrade to Python 3.7 or newer.\n",
      "  import mlflow\n"
     ]
    },
    {
     "name": "stdout",
     "output_type": "stream",
     "text": [
      "loaded ordinaloss.engine.model_engine\n",
      "loaded ordinaloss.utils.datasets\n",
      "loaded ordinaloss.utils.loss_utils\n"
     ]
    },
    {
     "data": {
      "text/plain": [
       "'cuda:0'"
      ]
     },
     "execution_count": 4,
     "metadata": {},
     "output_type": "execute_result"
    }
   ],
   "source": [
    "#from ordinaloss.utils.datasets import ImageFolder, create_transform_pipeline\n",
    "from ordinaloss.utils.pretrained_models import classification_model_densenet, classification_model_resnet, classification_model_vgg\n",
    "from ordinaloss.utils.utils import create_ordinal_cost_matrix\n",
    "\n",
    "\n",
    "from ordinaloss.engine.model_engine import OrdinalEngine\n",
    "from ordinaloss.utils.datasets import data_load\n",
    "\n",
    "from ordinaloss.utils.loss_utils import SinimLoss, GirlsLoss, CSCELoss\n",
    "\n",
    "\n",
    "import matplotlib.pyplot as plt\n",
    "\n",
    "from torch.utils.data import DataLoader\n",
    "from torch.optim import Adam, SGD\n",
    "import torch\n",
    "import mlflow\n",
    "\n",
    "device = \"cuda:0\" if torch.cuda.is_available() else \"cpu\"\n",
    "device"
   ]
  },
  {
   "cell_type": "code",
   "execution_count": 5,
   "id": "4329beb0",
   "metadata": {},
   "outputs": [],
   "source": [
    "# train_transform = create_transform_pipeline(brightness=0.3, contrast=0.3, saturation=0.3, hue=0.3) #These are hyperparameters. \n",
    "# test_transform = create_transform_pipeline() #Without color jitter for test pipeline\n",
    "\n",
    "# train_dataset = ImageFolder(\"../datasets/kneeKL224/train/\", transform=train_transform)\n",
    "# val_dataset = ImageFolder(\"../datasets/kneeKL224/val/\", transform = test_transform)\n",
    "# test_dataset = ImageFolder(\"../datasets/kneeKL224/test/\", transform = test_transform)\n",
    "# auto_test_dataset = ImageFolder(\"../datasets/kneeKL224/auto_test/\", transform = test_transform)\n",
    "\n",
    "# train_loader = DataLoader(train_dataset, batch_size = 32, shuffle=True)\n",
    "# test_loader  = DataLoader(test_dataset,  batch_size = 128, shuffle=False)\n",
    "\n",
    "# loaders, _, _ = data_load(\"../datasets/kneeKL224/\", 16)\n",
    "# train_loader = loaders[\"train\"]\n",
    "# test_loader = loaders[\"test\"]"
   ]
  },
  {
   "cell_type": "code",
   "execution_count": 6,
   "id": "96667e11",
   "metadata": {},
   "outputs": [],
   "source": [
    "from ordinaloss.utils.models_sinim import cls_model"
   ]
  },
  {
   "cell_type": "code",
   "execution_count": 7,
   "id": "39ffc1e8",
   "metadata": {},
   "outputs": [
    {
     "name": "stderr",
     "output_type": "stream",
     "text": [
      "Downloading: \"https://download.pytorch.org/models/vgg16-397923af.pth\" to /home/ec2-user/.cache/torch/checkpoints/vgg16-397923af.pth\n"
     ]
    },
    {
     "data": {
      "application/vnd.jupyter.widget-view+json": {
       "model_id": "7f811e6270094cd6a8277ab342f7e768",
       "version_major": 2,
       "version_minor": 0
      },
      "text/plain": [
       "  0%|          | 0.00/528M [00:00<?, ?B/s]"
      ]
     },
     "metadata": {},
     "output_type": "display_data"
    }
   ],
   "source": [
    "#model = classification_model_vgg(\"vgg16\", num_classes = 5) #Could also be resnet34, resnet50, resnet101, resnet152, \n",
    "#model = classification_model_vgg(\"vgg16\", num_classes = 5) #Could also be resnet34, resnet50, resnet101, resnet152, \n",
    "# model = classification_model_densenet(\"densenet121\", num_classes = 5) #Could also be densenet169, densenet201\n",
    "\n",
    "model = cls_model({\"net_type\": \"vgg\", \"depth\":\"16\", \"num_class\":5, \"pretrained\":True})"
   ]
  },
  {
   "cell_type": "code",
   "execution_count": 10,
   "id": "6ad5972a",
   "metadata": {},
   "outputs": [],
   "source": [
    "from ordinaloss.utils.loss_utils import GirlsLoss, SinimLoss\n",
    "#model = classification_model_vgg(\"vgg16\", num_classes = 5)\n",
    "\n",
    "def my_lambda_scheduler(epoch):\n",
    "    return (0.9 ** (epoch // 5))\n",
    "\n",
    "\n",
    "# engine = OrdinalEngine(model, \n",
    "#                        loss_fn = CSCELoss(create_ordinal_cost_matrix(5)), #CSCELoss model, matan, you know the dril.\n",
    "#                        device = device, #change to gpu, let me know if it doesnt work on GPU.\n",
    "#                        use_lr_scheduler=True, scheduler_lambda_fn = my_lambda_scheduler,\n",
    "#                        optimizer_fn=SGD, lr = 5.0e-4, weight_decay=5.0e-4)\n",
    "\n",
    "\n",
    "# engine = OrdinalEngine(model, \n",
    "#                        loss_fn = SinimLoss(), #CSCELoss model, matan, you know the dril.\n",
    "#                        device = device, #change to gpu, let me know if it doesnt work on GPU.\n",
    "#                        use_lr_scheduler=True, scheduler_lambda_fn = my_lambda_scheduler,\n",
    "#                        optimizer_fn=SGD, lr = 5.0e-4, weight_decay=5.0e-4)\n",
    "\n",
    "\n",
    "# engine = OrdinalEngine(model, \n",
    "#                        loss_fn = CSCELoss(create_ordinal_cost_matrix(5)), #CSCELoss model, matan, you know the dril.\n",
    "#                        device = device, #change to gpu, let me know if it doesnt work on GPU.\n",
    "#                        use_lr_scheduler=True, scheduler_lambda_fn = my_lambda_scheduler,\n",
    "#                        optimizer_fn=Adam, lr = 1.0e-3, weight_decay=5.0e-2)                       "
   ]
  },
  {
   "cell_type": "code",
   "execution_count": null,
   "id": "633c65bd",
   "metadata": {},
   "outputs": [
    {
     "name": "stderr",
     "output_type": "stream",
     "text": [
      "Training, epoch 0: 100%|██████████| 362/362 [01:33<00:00,  3.87it/s, accuracy=0.415, batch_size=5778, loss=3.47, mae=0.911]\n",
      "100%|██████████| 104/104 [00:08<00:00, 12.64it/s, accuracy=0.278, batch_size=1656, loss=4.13, mae=1.14]\n",
      "Training, epoch 1:   0%|          | 0/362 [00:00<?, ?it/s]"
     ]
    },
    {
     "name": "stdout",
     "output_type": "stream",
     "text": [
      "{'mae': 1.1443236714975846, 'loss': 4.130715316044536, 'accuracy': 0.2777777777777778}\n"
     ]
    },
    {
     "name": "stderr",
     "output_type": "stream",
     "text": [
      "Training, epoch 1: 100%|██████████| 362/362 [01:28<00:00,  4.07it/s, accuracy=0.506, batch_size=5778, loss=3.02, mae=0.681]\n",
      "100%|██████████| 104/104 [00:08<00:00, 12.47it/s, accuracy=0.484, batch_size=1656, loss=3.14, mae=0.771]\n",
      "Training, epoch 2:   0%|          | 0/362 [00:00<?, ?it/s]"
     ]
    },
    {
     "name": "stdout",
     "output_type": "stream",
     "text": [
      "{'mae': 0.7711352657004831, 'loss': 3.142421126941552, 'accuracy': 0.48429951690821255}\n"
     ]
    },
    {
     "name": "stderr",
     "output_type": "stream",
     "text": [
      "Training, epoch 2: 100%|██████████| 362/362 [01:29<00:00,  4.06it/s, accuracy=0.558, batch_size=5778, loss=2.75, mae=0.591]\n",
      "100%|██████████| 104/104 [00:08<00:00, 12.55it/s, accuracy=0.516, batch_size=1656, loss=3.65, mae=0.757] \n",
      "Training, epoch 3:   0%|          | 0/362 [00:00<?, ?it/s]"
     ]
    },
    {
     "name": "stdout",
     "output_type": "stream",
     "text": [
      "{'mae': 0.7566425120772947, 'loss': 3.650311629841293, 'accuracy': 0.5157004830917874}\n"
     ]
    },
    {
     "name": "stderr",
     "output_type": "stream",
     "text": [
      "Training, epoch 3: 100%|██████████| 362/362 [01:28<00:00,  4.08it/s, accuracy=0.594, batch_size=5778, loss=2.55, mae=0.532]\n",
      "100%|██████████| 104/104 [00:08<00:00, 12.58it/s, accuracy=0.627, batch_size=1656, loss=2.43, mae=0.505]\n",
      "Training, epoch 4:   0%|          | 0/362 [00:00<?, ?it/s]"
     ]
    },
    {
     "name": "stdout",
     "output_type": "stream",
     "text": [
      "{'mae': 0.5048309178743962, 'loss': 2.425677984233064, 'accuracy': 0.6274154589371981}\n"
     ]
    },
    {
     "name": "stderr",
     "output_type": "stream",
     "text": [
      "Training, epoch 4: 100%|██████████| 362/362 [01:29<00:00,  4.03it/s, accuracy=0.628, batch_size=5778, loss=2.36, mae=0.478]\n",
      "100%|██████████| 104/104 [00:08<00:00, 12.50it/s, accuracy=0.529, batch_size=1656, loss=2.94, mae=0.626]\n",
      "Training, epoch 5:   0%|          | 0/362 [00:00<?, ?it/s]"
     ]
    },
    {
     "name": "stdout",
     "output_type": "stream",
     "text": [
      "{'mae': 0.6256038647342995, 'loss': 2.9433160916618677, 'accuracy': 0.5289855072463768}\n"
     ]
    },
    {
     "name": "stderr",
     "output_type": "stream",
     "text": [
      "Training, epoch 5: 100%|██████████| 362/362 [01:29<00:00,  4.05it/s, accuracy=0.664, batch_size=5778, loss=2.18, mae=0.416]\n",
      "100%|██████████| 104/104 [00:08<00:00, 12.51it/s, accuracy=0.521, batch_size=1656, loss=3.34, mae=0.707]\n",
      "Training, epoch 6:   0%|          | 0/362 [00:00<?, ?it/s]"
     ]
    },
    {
     "name": "stdout",
     "output_type": "stream",
     "text": [
      "{'mae': 0.7065217391304348, 'loss': 3.343443176596637, 'accuracy': 0.5211352657004831}\n"
     ]
    },
    {
     "name": "stderr",
     "output_type": "stream",
     "text": [
      "Training, epoch 6: 100%|██████████| 362/362 [01:29<00:00,  4.07it/s, accuracy=0.686, batch_size=5778, loss=2.04, mae=0.381]\n",
      "100%|██████████| 104/104 [00:08<00:00, 12.47it/s, accuracy=0.595, batch_size=1656, loss=2.59, mae=0.497]\n",
      "Training, epoch 7:   0%|          | 0/362 [00:00<?, ?it/s]"
     ]
    },
    {
     "name": "stdout",
     "output_type": "stream",
     "text": [
      "{'mae': 0.4969806763285024, 'loss': 2.585667848587036, 'accuracy': 0.5948067632850241}\n"
     ]
    },
    {
     "name": "stderr",
     "output_type": "stream",
     "text": [
      "Training, epoch 7: 100%|██████████| 362/362 [01:29<00:00,  4.06it/s, accuracy=0.698, batch_size=5778, loss=1.95, mae=0.359]\n",
      "100%|██████████| 104/104 [00:08<00:00, 12.49it/s, accuracy=0.607, batch_size=1656, loss=2.88, mae=0.533]\n",
      "Training, epoch 8:   0%|          | 0/362 [00:00<?, ?it/s]"
     ]
    },
    {
     "name": "stdout",
     "output_type": "stream",
     "text": [
      "{'mae': 0.5332125603864735, 'loss': 2.884183004282523, 'accuracy': 0.607487922705314}\n"
     ]
    },
    {
     "name": "stderr",
     "output_type": "stream",
     "text": [
      "Training, epoch 8: 100%|██████████| 362/362 [01:29<00:00,  4.06it/s, accuracy=0.719, batch_size=5778, loss=1.84, mae=0.33] \n",
      "100%|██████████| 104/104 [00:08<00:00, 12.49it/s, accuracy=0.665, batch_size=1656, loss=2.12, mae=0.389]\n",
      "Training, epoch 9:   0%|          | 0/362 [00:00<?, ?it/s]"
     ]
    },
    {
     "name": "stdout",
     "output_type": "stream",
     "text": [
      "{'mae': 0.3894927536231884, 'loss': 2.12438868727661, 'accuracy': 0.6648550724637681}\n"
     ]
    },
    {
     "name": "stderr",
     "output_type": "stream",
     "text": [
      "Training, epoch 9: 100%|██████████| 362/362 [01:29<00:00,  4.06it/s, accuracy=0.724, batch_size=5778, loss=1.78, mae=0.321]\n",
      "100%|██████████| 104/104 [00:08<00:00, 12.50it/s, accuracy=0.679, batch_size=1656, loss=2.22, mae=0.402]\n",
      "Training, epoch 10:   0%|          | 0/362 [00:00<?, ?it/s]"
     ]
    },
    {
     "name": "stdout",
     "output_type": "stream",
     "text": [
      "{'mae': 0.40217391304347827, 'loss': 2.224348348695875, 'accuracy': 0.678743961352657}\n"
     ]
    },
    {
     "name": "stderr",
     "output_type": "stream",
     "text": [
      "Training, epoch 10: 100%|██████████| 362/362 [01:29<00:00,  4.06it/s, accuracy=0.754, batch_size=5778, loss=1.64, mae=0.285]\n",
      "100%|██████████| 104/104 [00:08<00:00, 12.53it/s, accuracy=0.664, batch_size=1656, loss=2.47, mae=0.424]\n",
      "Training, epoch 11:   0%|          | 0/362 [00:00<?, ?it/s]"
     ]
    },
    {
     "name": "stdout",
     "output_type": "stream",
     "text": [
      "{'mae': 0.42391304347826086, 'loss': 2.4740387539644746, 'accuracy': 0.6642512077294686}\n"
     ]
    },
    {
     "name": "stderr",
     "output_type": "stream",
     "text": [
      "Training, epoch 11: 100%|██████████| 362/362 [01:29<00:00,  4.06it/s, accuracy=0.769, batch_size=5778, loss=1.54, mae=0.26] \n",
      "100%|██████████| 104/104 [00:08<00:00, 12.40it/s, accuracy=0.662, batch_size=1656, loss=2.39, mae=0.423]\n",
      "Training, epoch 12:   0%|          | 0/362 [00:00<?, ?it/s]"
     ]
    },
    {
     "name": "stdout",
     "output_type": "stream",
     "text": [
      "{'mae': 0.4227053140096618, 'loss': 2.386843040369559, 'accuracy': 0.6618357487922706}\n"
     ]
    },
    {
     "name": "stderr",
     "output_type": "stream",
     "text": [
      "Training, epoch 12: 100%|██████████| 362/362 [01:29<00:00,  4.05it/s, accuracy=0.78, batch_size=5778, loss=1.47, mae=0.247] \n",
      "100%|██████████| 104/104 [00:08<00:00, 12.52it/s, accuracy=0.55, batch_size=1656, loss=3.39, mae=0.615] \n",
      "Training, epoch 13:   0%|          | 0/362 [00:00<?, ?it/s]"
     ]
    },
    {
     "name": "stdout",
     "output_type": "stream",
     "text": [
      "{'mae': 0.6153381642512077, 'loss': 3.3920903773123516, 'accuracy': 0.5495169082125604}\n"
     ]
    },
    {
     "name": "stderr",
     "output_type": "stream",
     "text": [
      "Training, epoch 13: 100%|██████████| 362/362 [01:28<00:00,  4.11it/s, accuracy=0.786, batch_size=5778, loss=1.4, mae=0.236] \n",
      "100%|██████████| 104/104 [00:07<00:00, 13.03it/s, accuracy=0.502, batch_size=1656, loss=3.43, mae=0.604]\n",
      "Training, epoch 14:   0%|          | 0/362 [00:00<?, ?it/s]"
     ]
    },
    {
     "name": "stdout",
     "output_type": "stream",
     "text": [
      "{'mae': 0.6044685990338164, 'loss': 3.432816400044206, 'accuracy': 0.5018115942028986}\n"
     ]
    },
    {
     "name": "stderr",
     "output_type": "stream",
     "text": [
      "Training, epoch 14: 100%|██████████| 362/362 [01:25<00:00,  4.25it/s, accuracy=0.803, batch_size=5778, loss=1.32, mae=0.219]\n",
      "100%|██████████| 104/104 [00:07<00:00, 13.09it/s, accuracy=0.67, batch_size=1656, loss=2.32, mae=0.38]  \n",
      "Training, epoch 15:   0%|          | 0/362 [00:00<?, ?it/s]"
     ]
    },
    {
     "name": "stdout",
     "output_type": "stream",
     "text": [
      "{'mae': 0.3804347826086957, 'loss': 2.324151553105617, 'accuracy': 0.6702898550724637}\n"
     ]
    },
    {
     "name": "stderr",
     "output_type": "stream",
     "text": [
      "Training, epoch 15: 100%|██████████| 362/362 [01:25<00:00,  4.24it/s, accuracy=0.829, batch_size=5778, loss=1.19, mae=0.189]\n",
      "100%|██████████| 104/104 [00:08<00:00, 12.88it/s, accuracy=0.497, batch_size=1656, loss=5.04, mae=0.667]\n",
      "Training, epoch 16:   0%|          | 0/362 [00:00<?, ?it/s]"
     ]
    },
    {
     "name": "stdout",
     "output_type": "stream",
     "text": [
      "{'mae': 0.6666666666666666, 'loss': 5.038041134963289, 'accuracy': 0.4969806763285024}\n"
     ]
    },
    {
     "name": "stderr",
     "output_type": "stream",
     "text": [
      "Training, epoch 16: 100%|██████████| 362/362 [01:27<00:00,  4.15it/s, accuracy=0.841, batch_size=5778, loss=1.11, mae=0.174]\n",
      "100%|██████████| 104/104 [00:08<00:00, 12.58it/s, accuracy=0.647, batch_size=1656, loss=2.94, mae=0.433]\n",
      "Training, epoch 17:   0%|          | 0/362 [00:00<?, ?it/s]"
     ]
    },
    {
     "name": "stdout",
     "output_type": "stream",
     "text": [
      "{'mae': 0.4329710144927536, 'loss': 2.935995899680732, 'accuracy': 0.6467391304347826}\n"
     ]
    },
    {
     "name": "stderr",
     "output_type": "stream",
     "text": [
      "Training, epoch 17: 100%|██████████| 362/362 [01:29<00:00,  4.04it/s, accuracy=0.857, batch_size=5778, loss=1, mae=0.156]    \n",
      "100%|██████████| 104/104 [00:08<00:00, 12.41it/s, accuracy=0.681, batch_size=1656, loss=2.51, mae=0.381]\n",
      "Training, epoch 18:   0%|          | 0/362 [00:00<?, ?it/s]"
     ]
    },
    {
     "name": "stdout",
     "output_type": "stream",
     "text": [
      "{'mae': 0.3810386473429952, 'loss': 2.5074941180466452, 'accuracy': 0.6811594202898551}\n"
     ]
    },
    {
     "name": "stderr",
     "output_type": "stream",
     "text": [
      "Training, epoch 18: 100%|██████████| 362/362 [01:29<00:00,  4.04it/s, accuracy=0.869, batch_size=5778, loss=0.955, mae=0.142]\n",
      "100%|██████████| 104/104 [00:08<00:00, 12.39it/s, accuracy=0.647, batch_size=1656, loss=3, mae=0.439]   \n",
      "Training, epoch 19:   0%|          | 0/362 [00:00<?, ?it/s]"
     ]
    },
    {
     "name": "stdout",
     "output_type": "stream",
     "text": [
      "{'mae': 0.4390096618357488, 'loss': 2.996352717784292, 'accuracy': 0.6473429951690821}\n"
     ]
    },
    {
     "name": "stderr",
     "output_type": "stream",
     "text": [
      "Training, epoch 19: 100%|██████████| 362/362 [01:29<00:00,  4.03it/s, accuracy=0.875, batch_size=5778, loss=0.887, mae=0.136]\n",
      "100%|██████████| 104/104 [00:08<00:00, 12.43it/s, accuracy=0.553, batch_size=1656, loss=4.18, mae=0.615]\n"
     ]
    },
    {
     "name": "stdout",
     "output_type": "stream",
     "text": [
      "{'mae': 0.6147342995169082, 'loss': 4.183541744983427, 'accuracy': 0.5531400966183575}\n"
     ]
    },
    {
     "name": "stderr",
     "output_type": "stream",
     "text": [
      "Training, epoch 0: 100%|██████████| 362/362 [01:29<00:00,  4.04it/s, accuracy=0.404, batch_size=5778, loss=4.72, mae=0.884]\n",
      "100%|██████████| 104/104 [00:08<00:00, 12.35it/s, accuracy=0.443, batch_size=1656, loss=4.49, mae=0.795]\n",
      "Training, epoch 1:   0%|          | 0/362 [00:00<?, ?it/s]"
     ]
    },
    {
     "name": "stdout",
     "output_type": "stream",
     "text": [
      "{'mae': 0.7946859903381642, 'loss': 4.486842674909583, 'accuracy': 0.4426328502415459}\n"
     ]
    },
    {
     "name": "stderr",
     "output_type": "stream",
     "text": [
      "Training, epoch 1: 100%|██████████| 362/362 [01:29<00:00,  4.03it/s, accuracy=0.519, batch_size=5778, loss=3.99, mae=0.65] \n",
      "100%|██████████| 104/104 [00:08<00:00, 12.38it/s, accuracy=0.594, batch_size=1656, loss=3.75, mae=0.537]\n",
      "Training, epoch 2:   0%|          | 0/362 [00:00<?, ?it/s]"
     ]
    },
    {
     "name": "stdout",
     "output_type": "stream",
     "text": [
      "{'mae': 0.5368357487922706, 'loss': 3.750099940000525, 'accuracy': 0.5935990338164251}\n"
     ]
    },
    {
     "name": "stderr",
     "output_type": "stream",
     "text": [
      "Training, epoch 2: 100%|██████████| 362/362 [01:29<00:00,  4.03it/s, accuracy=0.582, batch_size=5778, loss=3.54, mae=0.547]\n",
      "100%|██████████| 104/104 [00:08<00:00, 12.31it/s, accuracy=0.496, batch_size=1656, loss=4.17, mae=0.729]\n",
      "Training, epoch 3:   0%|          | 0/362 [00:00<?, ?it/s]"
     ]
    },
    {
     "name": "stdout",
     "output_type": "stream",
     "text": [
      "{'mae': 0.7288647342995169, 'loss': 4.165801922480266, 'accuracy': 0.4963768115942029}\n"
     ]
    },
    {
     "name": "stderr",
     "output_type": "stream",
     "text": [
      "Training, epoch 3: 100%|██████████| 362/362 [01:29<00:00,  4.04it/s, accuracy=0.621, batch_size=5778, loss=3.23, mae=0.476]\n",
      "100%|██████████| 104/104 [00:08<00:00, 12.24it/s, accuracy=0.501, batch_size=1656, loss=3.49, mae=0.525]\n",
      "Training, epoch 4:   0%|          | 0/362 [00:00<?, ?it/s]"
     ]
    },
    {
     "name": "stdout",
     "output_type": "stream",
     "text": [
      "{'mae': 0.5247584541062802, 'loss': 3.489127891075208, 'accuracy': 0.5006038647342995}\n"
     ]
    },
    {
     "name": "stderr",
     "output_type": "stream",
     "text": [
      "Training, epoch 4: 100%|██████████| 362/362 [01:29<00:00,  4.03it/s, accuracy=0.646, batch_size=5778, loss=2.99, mae=0.431]\n",
      "100%|██████████| 104/104 [00:08<00:00, 12.38it/s, accuracy=0.655, batch_size=1656, loss=2.91, mae=0.397]\n",
      "Training, epoch 5:   0%|          | 0/362 [00:00<?, ?it/s]"
     ]
    },
    {
     "name": "stdout",
     "output_type": "stream",
     "text": [
      "{'mae': 0.3967391304347826, 'loss': 2.9138895860616714, 'accuracy': 0.6545893719806763}\n"
     ]
    },
    {
     "name": "stderr",
     "output_type": "stream",
     "text": [
      "Training, epoch 5: 100%|██████████| 362/362 [01:29<00:00,  4.04it/s, accuracy=0.686, batch_size=5778, loss=2.73, mae=0.37] \n",
      "100%|██████████| 104/104 [00:08<00:00, 12.39it/s, accuracy=0.534, batch_size=1656, loss=4.53, mae=0.614]\n",
      "Training, epoch 6:   0%|          | 0/362 [00:00<?, ?it/s]"
     ]
    },
    {
     "name": "stdout",
     "output_type": "stream",
     "text": [
      "{'mae': 0.6135265700483091, 'loss': 4.5341878950883805, 'accuracy': 0.533816425120773}\n"
     ]
    },
    {
     "name": "stderr",
     "output_type": "stream",
     "text": [
      "Training, epoch 6: 100%|██████████| 362/362 [01:29<00:00,  4.03it/s, accuracy=0.696, batch_size=5778, loss=2.62, mae=0.356]\n",
      "100%|██████████| 104/104 [00:08<00:00, 12.37it/s, accuracy=0.412, batch_size=1656, loss=4.86, mae=0.821]\n",
      "Training, epoch 7:   0%|          | 0/362 [00:00<?, ?it/s]"
     ]
    },
    {
     "name": "stdout",
     "output_type": "stream",
     "text": [
      "{'mae': 0.8206521739130435, 'loss': 4.8582687326099565, 'accuracy': 0.41243961352657005}\n"
     ]
    },
    {
     "name": "stderr",
     "output_type": "stream",
     "text": [
      "Training, epoch 7: 100%|██████████| 362/362 [01:29<00:00,  4.03it/s, accuracy=0.722, batch_size=5778, loss=2.44, mae=0.321]\n",
      "100%|██████████| 104/104 [00:08<00:00, 12.41it/s, accuracy=0.457, batch_size=1656, loss=6.5, mae=0.815] \n",
      "Training, epoch 8:   0%|          | 0/362 [00:00<?, ?it/s]"
     ]
    },
    {
     "name": "stdout",
     "output_type": "stream",
     "text": [
      "{'mae': 0.8152173913043478, 'loss': 6.504121281098628, 'accuracy': 0.45652173913043476}\n"
     ]
    },
    {
     "name": "stderr",
     "output_type": "stream",
     "text": [
      "Training, epoch 8: 100%|██████████| 362/362 [01:29<00:00,  4.04it/s, accuracy=0.741, batch_size=5778, loss=2.28, mae=0.292]\n",
      "100%|██████████| 104/104 [00:08<00:00, 12.38it/s, accuracy=0.665, batch_size=1656, loss=2.94, mae=0.412]\n",
      "Training, epoch 9:   0%|          | 0/362 [00:00<?, ?it/s]"
     ]
    },
    {
     "name": "stdout",
     "output_type": "stream",
     "text": [
      "{'mae': 0.41243961352657005, 'loss': 2.9360740443934565, 'accuracy': 0.6648550724637681}\n"
     ]
    },
    {
     "name": "stderr",
     "output_type": "stream",
     "text": [
      "Training, epoch 9: 100%|██████████| 362/362 [01:29<00:00,  4.04it/s, accuracy=0.761, batch_size=5778, loss=2.14, mae=0.266]\n",
      "100%|██████████| 104/104 [00:08<00:00, 12.33it/s, accuracy=0.624, batch_size=1656, loss=3.19, mae=0.423]\n",
      "Training, epoch 10:   0%|          | 0/362 [00:00<?, ?it/s]"
     ]
    },
    {
     "name": "stdout",
     "output_type": "stream",
     "text": [
      "{'mae': 0.4227053140096618, 'loss': 3.1896192042723945, 'accuracy': 0.623792270531401}\n"
     ]
    },
    {
     "name": "stderr",
     "output_type": "stream",
     "text": [
      "Training, epoch 10: 100%|██████████| 362/362 [01:29<00:00,  4.04it/s, accuracy=0.776, batch_size=5778, loss=1.98, mae=0.248]\n",
      "100%|██████████| 104/104 [00:08<00:00, 12.38it/s, accuracy=0.66, batch_size=1656, loss=3.06, mae=0.394] \n",
      "Training, epoch 11:   0%|          | 0/362 [00:00<?, ?it/s]"
     ]
    },
    {
     "name": "stdout",
     "output_type": "stream",
     "text": [
      "{'mae': 0.3943236714975845, 'loss': 3.0636980518482733, 'accuracy': 0.660024154589372}\n"
     ]
    },
    {
     "name": "stderr",
     "output_type": "stream",
     "text": [
      "Training, epoch 11: 100%|██████████| 362/362 [01:26<00:00,  4.20it/s, accuracy=0.787, batch_size=5778, loss=1.86, mae=0.233]\n",
      "100%|██████████| 104/104 [00:07<00:00, 13.03it/s, accuracy=0.683, batch_size=1656, loss=3.23, mae=0.381]\n",
      "Training, epoch 12:   0%|          | 0/362 [00:00<?, ?it/s]"
     ]
    },
    {
     "name": "stdout",
     "output_type": "stream",
     "text": [
      "{'mae': 0.3810386473429952, 'loss': 3.2278282435044, 'accuracy': 0.6829710144927537}\n"
     ]
    },
    {
     "name": "stderr",
     "output_type": "stream",
     "text": [
      "Training, epoch 12: 100%|██████████| 362/362 [01:25<00:00,  4.25it/s, accuracy=0.808, batch_size=5778, loss=1.71, mae=0.205]\n",
      "100%|██████████| 104/104 [00:08<00:00, 12.92it/s, accuracy=0.626, batch_size=1656, loss=5.02, mae=0.504]\n",
      "Training, epoch 13:   0%|          | 0/362 [00:00<?, ?it/s]"
     ]
    },
    {
     "name": "stdout",
     "output_type": "stream",
     "text": [
      "{'mae': 0.5036231884057971, 'loss': 5.022353239429457, 'accuracy': 0.6256038647342995}\n"
     ]
    },
    {
     "name": "stderr",
     "output_type": "stream",
     "text": [
      "Training, epoch 13: 100%|██████████| 362/362 [01:26<00:00,  4.20it/s, accuracy=0.828, batch_size=5778, loss=1.58, mae=0.186]\n",
      "100%|██████████| 104/104 [00:08<00:00, 12.80it/s, accuracy=0.647, batch_size=1656, loss=3.46, mae=0.431]\n",
      "Training, epoch 14:   0%|          | 0/362 [00:00<?, ?it/s]"
     ]
    },
    {
     "name": "stdout",
     "output_type": "stream",
     "text": [
      "{'mae': 0.4311594202898551, 'loss': 3.4628341949504353, 'accuracy': 0.6473429951690821}\n"
     ]
    },
    {
     "name": "stderr",
     "output_type": "stream",
     "text": [
      "Training, epoch 14: 100%|██████████| 362/362 [01:28<00:00,  4.09it/s, accuracy=0.842, batch_size=5778, loss=1.47, mae=0.169]\n",
      "100%|██████████| 104/104 [00:08<00:00, 12.39it/s, accuracy=0.648, batch_size=1656, loss=3.86, mae=0.437]\n",
      "Training, epoch 15:   0%|          | 0/362 [00:00<?, ?it/s]"
     ]
    },
    {
     "name": "stdout",
     "output_type": "stream",
     "text": [
      "{'mae': 0.43719806763285024, 'loss': 3.862871873062014, 'accuracy': 0.6479468599033816}\n"
     ]
    },
    {
     "name": "stderr",
     "output_type": "stream",
     "text": [
      "Training, epoch 15: 100%|██████████| 362/362 [01:29<00:00,  4.04it/s, accuracy=0.868, batch_size=5778, loss=1.27, mae=0.139]\n",
      "100%|██████████| 104/104 [00:08<00:00, 12.46it/s, accuracy=0.633, batch_size=1656, loss=3.97, mae=0.426]\n",
      "Training, epoch 16:   0%|          | 0/362 [00:00<?, ?it/s]"
     ]
    },
    {
     "name": "stdout",
     "output_type": "stream",
     "text": [
      "{'mae': 0.4257246376811594, 'loss': 3.9688350699374064, 'accuracy': 0.6328502415458938}\n"
     ]
    },
    {
     "name": "stderr",
     "output_type": "stream",
     "text": [
      "Training, epoch 16: 100%|██████████| 362/362 [01:30<00:00,  4.02it/s, accuracy=0.878, batch_size=5778, loss=1.2, mae=0.132] \n",
      "100%|██████████| 104/104 [00:08<00:00, 12.20it/s, accuracy=0.661, batch_size=1656, loss=3.77, mae=0.393]\n",
      "Training, epoch 17:   0%|          | 0/362 [00:00<?, ?it/s]"
     ]
    },
    {
     "name": "stdout",
     "output_type": "stream",
     "text": [
      "{'mae': 0.39311594202898553, 'loss': 3.7741425547046936, 'accuracy': 0.6606280193236715}\n"
     ]
    },
    {
     "name": "stderr",
     "output_type": "stream",
     "text": [
      "Training, epoch 17: 100%|██████████| 362/362 [01:29<00:00,  4.02it/s, accuracy=0.893, batch_size=5778, loss=1.05, mae=0.115]\n",
      "100%|██████████| 104/104 [00:08<00:00, 12.38it/s, accuracy=0.651, batch_size=1656, loss=3.75, mae=0.385]\n",
      "Training, epoch 18:   0%|          | 0/362 [00:00<?, ?it/s]"
     ]
    },
    {
     "name": "stdout",
     "output_type": "stream",
     "text": [
      "{'mae': 0.38466183574879226, 'loss': 3.750376474166262, 'accuracy': 0.6509661835748792}\n"
     ]
    },
    {
     "name": "stderr",
     "output_type": "stream",
     "text": [
      "Training, epoch 18: 100%|██████████| 362/362 [01:29<00:00,  4.04it/s, accuracy=0.902, batch_size=5778, loss=0.975, mae=0.102] \n",
      "100%|██████████| 104/104 [00:08<00:00, 12.21it/s, accuracy=0.639, batch_size=1656, loss=4.26, mae=0.433]\n",
      "Training, epoch 19:   0%|          | 0/362 [00:00<?, ?it/s]"
     ]
    },
    {
     "name": "stdout",
     "output_type": "stream",
     "text": [
      "{'mae': 0.4329710144927536, 'loss': 4.261857416174838, 'accuracy': 0.6388888888888888}\n"
     ]
    },
    {
     "name": "stderr",
     "output_type": "stream",
     "text": [
      "Training, epoch 19: 100%|██████████| 362/362 [01:29<00:00,  4.04it/s, accuracy=0.914, batch_size=5778, loss=0.893, mae=0.0907]\n",
      "100%|██████████| 104/104 [00:08<00:00, 12.39it/s, accuracy=0.667, batch_size=1656, loss=4.42, mae=0.389]\n"
     ]
    },
    {
     "name": "stdout",
     "output_type": "stream",
     "text": [
      "{'mae': 0.3888888888888889, 'loss': 4.423131203017949, 'accuracy': 0.6672705314009661}\n"
     ]
    },
    {
     "name": "stderr",
     "output_type": "stream",
     "text": [
      "Training, epoch 0: 100%|██████████| 362/362 [01:29<00:00,  4.04it/s, accuracy=0.409, batch_size=5778, loss=5.94, mae=0.847]\n",
      "100%|██████████| 104/104 [00:08<00:00, 12.33it/s, accuracy=0.332, batch_size=1656, loss=6.18, mae=0.868]\n",
      "Training, epoch 1:   0%|          | 0/362 [00:00<?, ?it/s]"
     ]
    },
    {
     "name": "stdout",
     "output_type": "stream",
     "text": [
      "{'mae': 0.8683574879227053, 'loss': 6.17798307897964, 'accuracy': 0.3321256038647343}\n"
     ]
    },
    {
     "name": "stderr",
     "output_type": "stream",
     "text": [
      "Training, epoch 1: 100%|██████████| 362/362 [01:29<00:00,  4.05it/s, accuracy=0.523, batch_size=5778, loss=4.94, mae=0.625]\n",
      "100%|██████████| 104/104 [00:08<00:00, 12.37it/s, accuracy=0.447, batch_size=1656, loss=5.84, mae=0.829]\n",
      "Training, epoch 2:   0%|          | 0/362 [00:00<?, ?it/s]"
     ]
    },
    {
     "name": "stdout",
     "output_type": "stream",
     "text": [
      "{'mae': 0.8285024154589372, 'loss': 5.842059425685717, 'accuracy': 0.4468599033816425}\n"
     ]
    },
    {
     "name": "stderr",
     "output_type": "stream",
     "text": [
      "Training, epoch 2: 100%|██████████| 362/362 [01:29<00:00,  4.04it/s, accuracy=0.594, batch_size=5778, loss=4.31, mae=0.513]\n",
      "100%|██████████| 104/104 [00:08<00:00, 12.36it/s, accuracy=0.6, batch_size=1656, loss=4.71, mae=0.57]  \n",
      "Training, epoch 3:   0%|          | 0/362 [00:00<?, ?it/s]"
     ]
    },
    {
     "name": "stdout",
     "output_type": "stream",
     "text": [
      "{'mae': 0.5700483091787439, 'loss': 4.712166125071797, 'accuracy': 0.5996376811594203}\n"
     ]
    },
    {
     "name": "stderr",
     "output_type": "stream",
     "text": [
      "Training, epoch 3: 100%|██████████| 362/362 [01:29<00:00,  4.06it/s, accuracy=0.622, batch_size=5778, loss=3.96, mae=0.464]\n",
      "100%|██████████| 104/104 [00:08<00:00, 12.87it/s, accuracy=0.501, batch_size=1656, loss=4.5, mae=0.551] \n",
      "Training, epoch 4:   0%|          | 0/362 [00:00<?, ?it/s]"
     ]
    },
    {
     "name": "stdout",
     "output_type": "stream",
     "text": [
      "{'mae': 0.5513285024154589, 'loss': 4.4966396605910885, 'accuracy': 0.5006038647342995}\n"
     ]
    },
    {
     "name": "stderr",
     "output_type": "stream",
     "text": [
      "Training, epoch 4: 100%|██████████| 362/362 [01:25<00:00,  4.25it/s, accuracy=0.658, batch_size=5778, loss=3.62, mae=0.405]\n",
      "100%|██████████| 104/104 [00:08<00:00, 12.97it/s, accuracy=0.635, batch_size=1656, loss=3.67, mae=0.403]\n",
      "Training, epoch 5:   0%|          | 0/362 [00:00<?, ?it/s]"
     ]
    },
    {
     "name": "stdout",
     "output_type": "stream",
     "text": [
      "{'mae': 0.4033816425120773, 'loss': 3.669203912290398, 'accuracy': 0.6352657004830918}\n"
     ]
    },
    {
     "name": "stderr",
     "output_type": "stream",
     "text": [
      "Training, epoch 5: 100%|██████████| 362/362 [01:25<00:00,  4.23it/s, accuracy=0.695, batch_size=5778, loss=3.32, mae=0.354]\n",
      "100%|██████████| 104/104 [00:08<00:00, 12.88it/s, accuracy=0.588, batch_size=1656, loss=4.23, mae=0.501]\n",
      "Training, epoch 6:   0%|          | 0/362 [00:00<?, ?it/s]"
     ]
    },
    {
     "name": "stdout",
     "output_type": "stream",
     "text": [
      "{'mae': 0.5006038647342995, 'loss': 4.227722899349415, 'accuracy': 0.5881642512077294}\n"
     ]
    },
    {
     "name": "stderr",
     "output_type": "stream",
     "text": [
      "Training, epoch 6: 100%|██████████| 362/362 [01:26<00:00,  4.17it/s, accuracy=0.716, batch_size=5778, loss=3.1, mae=0.321] \n",
      "100%|██████████| 104/104 [00:08<00:00, 12.65it/s, accuracy=0.678, batch_size=1656, loss=3.55, mae=0.376]\n",
      "Training, epoch 7:   0%|          | 0/362 [00:00<?, ?it/s]"
     ]
    },
    {
     "name": "stdout",
     "output_type": "stream",
     "text": [
      "{'mae': 0.3756038647342995, 'loss': 3.5453656848502044, 'accuracy': 0.677536231884058}\n"
     ]
    },
    {
     "name": "stderr",
     "output_type": "stream",
     "text": [
      "Training, epoch 7: 100%|██████████| 362/362 [01:29<00:00,  4.04it/s, accuracy=0.74, batch_size=5778, loss=2.89, mae=0.291] \n",
      "100%|██████████| 104/104 [00:08<00:00, 12.23it/s, accuracy=0.646, batch_size=1656, loss=4.11, mae=0.441]\n",
      "Training, epoch 8:   0%|          | 0/362 [00:00<?, ?it/s]"
     ]
    },
    {
     "name": "stdout",
     "output_type": "stream",
     "text": [
      "{'mae': 0.44082125603864736, 'loss': 4.110836171297636, 'accuracy': 0.6455314009661836}\n"
     ]
    },
    {
     "name": "stderr",
     "output_type": "stream",
     "text": [
      "Training, epoch 8: 100%|██████████| 362/362 [01:29<00:00,  4.03it/s, accuracy=0.743, batch_size=5778, loss=2.8, mae=0.289] \n",
      "100%|██████████| 104/104 [00:08<00:00, 12.37it/s, accuracy=0.686, batch_size=1656, loss=3.63, mae=0.359]\n",
      "Training, epoch 9:   0%|          | 0/362 [00:00<?, ?it/s]"
     ]
    },
    {
     "name": "stdout",
     "output_type": "stream",
     "text": [
      "{'mae': 0.35929951690821255, 'loss': 3.6265365890258754, 'accuracy': 0.6859903381642513}\n"
     ]
    },
    {
     "name": "stderr",
     "output_type": "stream",
     "text": [
      "Training, epoch 9: 100%|██████████| 362/362 [01:29<00:00,  4.04it/s, accuracy=0.772, batch_size=5778, loss=2.54, mae=0.25] \n",
      "100%|██████████| 104/104 [00:08<00:00, 12.38it/s, accuracy=0.655, batch_size=1656, loss=4.24, mae=0.431]\n",
      "Training, epoch 10:   0%|          | 0/362 [00:00<?, ?it/s]"
     ]
    },
    {
     "name": "stdout",
     "output_type": "stream",
     "text": [
      "{'mae': 0.4305555555555556, 'loss': 4.238980949500909, 'accuracy': 0.6545893719806763}\n"
     ]
    },
    {
     "name": "stderr",
     "output_type": "stream",
     "text": [
      "Training, epoch 10: 100%|██████████| 362/362 [01:27<00:00,  4.16it/s, accuracy=0.784, batch_size=5778, loss=2.35, mae=0.232]\n",
      "100%|██████████| 104/104 [00:08<00:00, 12.94it/s, accuracy=0.658, batch_size=1656, loss=3.75, mae=0.385]\n",
      "Training, epoch 11:   0%|          | 0/362 [00:00<?, ?it/s]"
     ]
    },
    {
     "name": "stdout",
     "output_type": "stream",
     "text": [
      "{'mae': 0.38466183574879226, 'loss': 3.7480123526808145, 'accuracy': 0.657608695652174}\n"
     ]
    },
    {
     "name": "stderr",
     "output_type": "stream",
     "text": [
      "Training, epoch 11: 100%|██████████| 362/362 [01:25<00:00,  4.25it/s, accuracy=0.818, batch_size=5778, loss=2.08, mae=0.194]\n",
      "100%|██████████| 104/104 [00:07<00:00, 13.02it/s, accuracy=0.637, batch_size=1656, loss=3.99, mae=0.399]\n",
      "Training, epoch 12:   0%|          | 0/362 [00:00<?, ?it/s]"
     ]
    },
    {
     "name": "stdout",
     "output_type": "stream",
     "text": [
      "{'mae': 0.39855072463768115, 'loss': 3.9908151327123966, 'accuracy': 0.6370772946859904}\n"
     ]
    },
    {
     "name": "stderr",
     "output_type": "stream",
     "text": [
      "Training, epoch 12: 100%|██████████| 362/362 [01:26<00:00,  4.20it/s, accuracy=0.826, batch_size=5778, loss=1.92, mae=0.186]\n",
      "100%|██████████| 104/104 [00:08<00:00, 12.78it/s, accuracy=0.682, batch_size=1656, loss=3.78, mae=0.365]\n",
      "Training, epoch 13:   0%|          | 0/362 [00:00<?, ?it/s]"
     ]
    },
    {
     "name": "stdout",
     "output_type": "stream",
     "text": [
      "{'mae': 0.36533816425120774, 'loss': 3.7822932672961325, 'accuracy': 0.6823671497584541}\n"
     ]
    },
    {
     "name": "stderr",
     "output_type": "stream",
     "text": [
      "Training, epoch 13: 100%|██████████| 362/362 [01:28<00:00,  4.10it/s, accuracy=0.853, batch_size=5778, loss=1.74, mae=0.155]\n",
      "100%|██████████| 104/104 [00:08<00:00, 12.27it/s, accuracy=0.53, batch_size=1656, loss=8.79, mae=0.679]  \n",
      "Training, epoch 14:   0%|          | 0/362 [00:00<?, ?it/s]"
     ]
    },
    {
     "name": "stdout",
     "output_type": "stream",
     "text": [
      "{'mae': 0.678743961352657, 'loss': 8.786145993836836, 'accuracy': 0.5295893719806763}\n"
     ]
    },
    {
     "name": "stderr",
     "output_type": "stream",
     "text": [
      "Training, epoch 14: 100%|██████████| 362/362 [01:29<00:00,  4.04it/s, accuracy=0.853, batch_size=5778, loss=1.71, mae=0.156]\n",
      "100%|██████████| 104/104 [00:08<00:00, 12.47it/s, accuracy=0.655, batch_size=1656, loss=5.8, mae=0.438] \n",
      "Training, epoch 15:   0%|          | 0/362 [00:00<?, ?it/s]"
     ]
    },
    {
     "name": "stdout",
     "output_type": "stream",
     "text": [
      "{'mae': 0.4384057971014493, 'loss': 5.799156617355232, 'accuracy': 0.6551932367149759}\n"
     ]
    },
    {
     "name": "stderr",
     "output_type": "stream",
     "text": [
      "Training, epoch 15: 100%|██████████| 362/362 [01:29<00:00,  4.04it/s, accuracy=0.885, batch_size=5778, loss=1.38, mae=0.121]\n",
      "100%|██████████| 104/104 [00:08<00:00, 12.45it/s, accuracy=0.667, batch_size=1656, loss=4.44, mae=0.367]\n",
      "Training, epoch 16:   0%|          | 0/362 [00:00<?, ?it/s]"
     ]
    },
    {
     "name": "stdout",
     "output_type": "stream",
     "text": [
      "{'mae': 0.3671497584541063, 'loss': 4.440929023683935, 'accuracy': 0.6672705314009661}\n"
     ]
    },
    {
     "name": "stderr",
     "output_type": "stream",
     "text": [
      "Training, epoch 16: 100%|██████████| 362/362 [01:29<00:00,  4.05it/s, accuracy=0.89, batch_size=5778, loss=1.33, mae=0.114] \n",
      "100%|██████████| 104/104 [00:08<00:00, 12.29it/s, accuracy=0.681, batch_size=1656, loss=4.35, mae=0.361]\n",
      "Training, epoch 17:   0%|          | 0/362 [00:00<?, ?it/s]"
     ]
    },
    {
     "name": "stdout",
     "output_type": "stream",
     "text": [
      "{'mae': 0.3611111111111111, 'loss': 4.34831750234544, 'accuracy': 0.6811594202898551}\n"
     ]
    },
    {
     "name": "stderr",
     "output_type": "stream",
     "text": [
      "Training, epoch 17: 100%|██████████| 362/362 [01:29<00:00,  4.04it/s, accuracy=0.908, batch_size=5778, loss=1.11, mae=0.0948]\n",
      "100%|██████████| 104/104 [00:08<00:00, 12.36it/s, accuracy=0.588, batch_size=1656, loss=10.9, mae=0.589] \n",
      "Training, epoch 18:   0%|          | 0/362 [00:00<?, ?it/s]"
     ]
    },
    {
     "name": "stdout",
     "output_type": "stream",
     "text": [
      "{'mae': 0.5893719806763285, 'loss': 10.877148648795947, 'accuracy': 0.5881642512077294}\n"
     ]
    },
    {
     "name": "stderr",
     "output_type": "stream",
     "text": [
      "Training, epoch 18: 100%|██████████| 362/362 [01:29<00:00,  4.02it/s, accuracy=0.907, batch_size=5778, loss=1.18, mae=0.098] \n",
      "100%|██████████| 104/104 [00:08<00:00, 12.37it/s, accuracy=0.644, batch_size=1656, loss=5.11, mae=0.411]\n",
      "Training, epoch 19:   0%|          | 0/362 [00:00<?, ?it/s]"
     ]
    },
    {
     "name": "stdout",
     "output_type": "stream",
     "text": [
      "{'mae': 0.411231884057971, 'loss': 5.108478623023932, 'accuracy': 0.6443236714975845}\n"
     ]
    },
    {
     "name": "stderr",
     "output_type": "stream",
     "text": [
      "Training, epoch 19: 100%|██████████| 362/362 [01:29<00:00,  4.04it/s, accuracy=0.932, batch_size=5778, loss=0.878, mae=0.0706]\n",
      "100%|██████████| 104/104 [00:08<00:00, 12.38it/s, accuracy=0.638, batch_size=1656, loss=6.96, mae=0.435]\n"
     ]
    },
    {
     "name": "stdout",
     "output_type": "stream",
     "text": [
      "{'mae': 0.43478260869565216, 'loss': 6.959601693557224, 'accuracy': 0.6376811594202898}\n"
     ]
    },
    {
     "name": "stderr",
     "output_type": "stream",
     "text": [
      "Training, epoch 0: 100%|██████████| 362/362 [01:29<00:00,  4.04it/s, accuracy=0.431, batch_size=5778, loss=8.8, mae=0.942] \n",
      "100%|██████████| 104/104 [00:08<00:00, 12.38it/s, accuracy=0.49, batch_size=1656, loss=7.72, mae=0.731] \n",
      "Training, epoch 1:   0%|          | 0/362 [00:00<?, ?it/s]"
     ]
    },
    {
     "name": "stdout",
     "output_type": "stream",
     "text": [
      "{'mae': 0.7306763285024155, 'loss': 7.716844961839022, 'accuracy': 0.49033816425120774}\n"
     ]
    },
    {
     "name": "stderr",
     "output_type": "stream",
     "text": [
      "Training, epoch 1: 100%|██████████| 362/362 [01:29<00:00,  4.04it/s, accuracy=0.542, batch_size=5778, loss=7.25, mae=0.662]\n",
      "100%|██████████| 104/104 [00:08<00:00, 12.37it/s, accuracy=0.589, batch_size=1656, loss=6.39, mae=0.511]\n",
      "Training, epoch 2:   0%|          | 0/362 [00:00<?, ?it/s]"
     ]
    },
    {
     "name": "stdout",
     "output_type": "stream",
     "text": [
      "{'mae': 0.5114734299516909, 'loss': 6.39004847853656, 'accuracy': 0.5887681159420289}\n"
     ]
    },
    {
     "name": "stderr",
     "output_type": "stream",
     "text": [
      "Training, epoch 2: 100%|██████████| 362/362 [01:29<00:00,  4.04it/s, accuracy=0.613, batch_size=5778, loss=6.27, mae=0.528]\n",
      "100%|██████████| 104/104 [00:08<00:00, 12.37it/s, accuracy=0.482, batch_size=1656, loss=11.4, mae=0.879] \n",
      "Training, epoch 3:   0%|          | 0/362 [00:00<?, ?it/s]"
     ]
    },
    {
     "name": "stdout",
     "output_type": "stream",
     "text": [
      "{'mae': 0.8786231884057971, 'loss': 11.40666701597868, 'accuracy': 0.48188405797101447}\n"
     ]
    },
    {
     "name": "stderr",
     "output_type": "stream",
     "text": [
      "Training, epoch 3: 100%|██████████| 362/362 [01:29<00:00,  4.04it/s, accuracy=0.64, batch_size=5778, loss=5.69, mae=0.466] \n",
      "100%|██████████| 104/104 [00:08<00:00, 12.38it/s, accuracy=0.611, batch_size=1656, loss=6.21, mae=0.523]\n",
      "Training, epoch 4:   0%|          | 0/362 [00:00<?, ?it/s]"
     ]
    },
    {
     "name": "stdout",
     "output_type": "stream",
     "text": [
      "{'mae': 0.5229468599033816, 'loss': 6.211448035954278, 'accuracy': 0.6111111111111112}\n"
     ]
    },
    {
     "name": "stderr",
     "output_type": "stream",
     "text": [
      "Training, epoch 4: 100%|██████████| 362/362 [01:29<00:00,  4.02it/s, accuracy=0.674, batch_size=5778, loss=5.27, mae=0.409]\n",
      "100%|██████████| 104/104 [00:08<00:00, 12.19it/s, accuracy=0.633, batch_size=1656, loss=5.99, mae=0.478]\n",
      "Training, epoch 5:   0%|          | 0/362 [00:00<?, ?it/s]"
     ]
    },
    {
     "name": "stdout",
     "output_type": "stream",
     "text": [
      "{'mae': 0.4782608695652174, 'loss': 5.994342078621261, 'accuracy': 0.6334541062801933}\n"
     ]
    },
    {
     "name": "stderr",
     "output_type": "stream",
     "text": [
      "Training, epoch 5: 100%|██████████| 362/362 [01:29<00:00,  4.04it/s, accuracy=0.706, batch_size=5778, loss=4.77, mae=0.353]\n",
      "100%|██████████| 104/104 [00:08<00:00, 12.21it/s, accuracy=0.661, batch_size=1656, loss=5.39, mae=0.432]\n",
      "Training, epoch 6:   0%|          | 0/362 [00:00<?, ?it/s]"
     ]
    },
    {
     "name": "stdout",
     "output_type": "stream",
     "text": [
      "{'mae': 0.4323671497584541, 'loss': 5.392960097478784, 'accuracy': 0.6606280193236715}\n"
     ]
    },
    {
     "name": "stderr",
     "output_type": "stream",
     "text": [
      "Training, epoch 6: 100%|██████████| 362/362 [01:29<00:00,  4.04it/s, accuracy=0.728, batch_size=5778, loss=4.38, mae=0.321]\n",
      "100%|██████████| 104/104 [00:08<00:00, 12.39it/s, accuracy=0.603, batch_size=1656, loss=6.15, mae=0.476]\n",
      "Training, epoch 7:   0%|          | 0/362 [00:00<?, ?it/s]"
     ]
    },
    {
     "name": "stdout",
     "output_type": "stream",
     "text": [
      "{'mae': 0.47644927536231885, 'loss': 6.154042355680235, 'accuracy': 0.6026570048309179}\n"
     ]
    },
    {
     "name": "stderr",
     "output_type": "stream",
     "text": [
      "Training, epoch 7: 100%|██████████| 362/362 [01:29<00:00,  4.05it/s, accuracy=0.751, batch_size=5778, loss=4.06, mae=0.29] \n",
      "100%|██████████| 104/104 [00:08<00:00, 12.40it/s, accuracy=0.667, batch_size=1656, loss=5.97, mae=0.414]\n",
      "Training, epoch 8:   0%|          | 0/362 [00:00<?, ?it/s]"
     ]
    },
    {
     "name": "stdout",
     "output_type": "stream",
     "text": [
      "{'mae': 0.4142512077294686, 'loss': 5.973513472483354, 'accuracy': 0.6666666666666666}\n"
     ]
    },
    {
     "name": "stderr",
     "output_type": "stream",
     "text": [
      "Training, epoch 8: 100%|██████████| 362/362 [01:29<00:00,  4.05it/s, accuracy=0.765, batch_size=5778, loss=3.79, mae=0.27] \n",
      "100%|██████████| 104/104 [00:08<00:00, 12.21it/s, accuracy=0.643, batch_size=1656, loss=7.92, mae=0.482]\n",
      "Training, epoch 9:   0%|          | 0/362 [00:00<?, ?it/s]"
     ]
    },
    {
     "name": "stdout",
     "output_type": "stream",
     "text": [
      "{'mae': 0.48188405797101447, 'loss': 7.924000496449678, 'accuracy': 0.642512077294686}\n"
     ]
    },
    {
     "name": "stderr",
     "output_type": "stream",
     "text": [
      "Training, epoch 9: 100%|██████████| 362/362 [01:29<00:00,  4.03it/s, accuracy=0.791, batch_size=5778, loss=3.41, mae=0.233]\n",
      "100%|██████████| 104/104 [00:08<00:00, 12.42it/s, accuracy=0.273, batch_size=1656, loss=12.8, mae=0.912]\n",
      "Training, epoch 10:   0%|          | 0/362 [00:00<?, ?it/s]"
     ]
    },
    {
     "name": "stdout",
     "output_type": "stream",
     "text": [
      "{'mae': 0.9118357487922706, 'loss': 12.825105132688071, 'accuracy': 0.27294685990338163}\n"
     ]
    },
    {
     "name": "stderr",
     "output_type": "stream",
     "text": [
      "Training, epoch 10: 100%|██████████| 362/362 [01:29<00:00,  4.03it/s, accuracy=0.786, batch_size=5778, loss=3.63, mae=0.244]\n",
      "100%|██████████| 104/104 [00:08<00:00, 12.36it/s, accuracy=0.616, batch_size=1656, loss=8.31, mae=0.513]\n",
      "Training, epoch 11:   0%|          | 0/362 [00:00<?, ?it/s]"
     ]
    },
    {
     "name": "stdout",
     "output_type": "stream",
     "text": [
      "{'mae': 0.5132850241545893, 'loss': 8.307919994356551, 'accuracy': 0.6159420289855072}\n"
     ]
    },
    {
     "name": "stderr",
     "output_type": "stream",
     "text": [
      "Training, epoch 11: 100%|██████████| 362/362 [01:29<00:00,  4.03it/s, accuracy=0.84, batch_size=5778, loss=2.77, mae=0.173] \n",
      "100%|██████████| 104/104 [00:08<00:00, 12.23it/s, accuracy=0.614, batch_size=1656, loss=10.2, mae=0.528]\n",
      "Training, epoch 12:   0%|          | 0/362 [00:00<?, ?it/s]"
     ]
    },
    {
     "name": "stdout",
     "output_type": "stream",
     "text": [
      "{'mae': 0.5277777777777778, 'loss': 10.157624604981303, 'accuracy': 0.6135265700483091}\n"
     ]
    },
    {
     "name": "stderr",
     "output_type": "stream",
     "text": [
      "Training, epoch 12: 100%|██████████| 362/362 [01:29<00:00,  4.04it/s, accuracy=0.857, batch_size=5778, loss=2.52, mae=0.157]\n",
      "100%|██████████| 104/104 [00:08<00:00, 12.31it/s, accuracy=0.566, batch_size=1656, loss=8.42, mae=0.483]\n",
      "Training, epoch 13:   0%|          | 0/362 [00:00<?, ?it/s]"
     ]
    },
    {
     "name": "stdout",
     "output_type": "stream",
     "text": [
      "{'mae': 0.4830917874396135, 'loss': 8.417783614517987, 'accuracy': 0.5658212560386473}\n"
     ]
    },
    {
     "name": "stderr",
     "output_type": "stream",
     "text": [
      "Training, epoch 13: 100%|██████████| 362/362 [01:29<00:00,  4.03it/s, accuracy=0.879, batch_size=5778, loss=2.15, mae=0.132]\n",
      "100%|██████████| 104/104 [00:08<00:00, 12.39it/s, accuracy=0.678, batch_size=1656, loss=7.26, mae=0.386]\n",
      "Training, epoch 14:   0%|          | 0/362 [00:00<?, ?it/s]"
     ]
    },
    {
     "name": "stdout",
     "output_type": "stream",
     "text": [
      "{'mae': 0.3864734299516908, 'loss': 7.260197855136245, 'accuracy': 0.677536231884058}\n"
     ]
    },
    {
     "name": "stderr",
     "output_type": "stream",
     "text": [
      "Training, epoch 14: 100%|██████████| 362/362 [01:29<00:00,  4.04it/s, accuracy=0.884, batch_size=5778, loss=1.97, mae=0.126]\n",
      "100%|██████████| 104/104 [00:08<00:00, 12.34it/s, accuracy=0.61, batch_size=1656, loss=10.1, mae=0.566] \n",
      "Training, epoch 15:   0%|          | 0/362 [00:00<?, ?it/s]"
     ]
    },
    {
     "name": "stdout",
     "output_type": "stream",
     "text": [
      "{'mae': 0.5664251207729468, 'loss': 10.0852352326043, 'accuracy': 0.6099033816425121}\n"
     ]
    },
    {
     "name": "stderr",
     "output_type": "stream",
     "text": [
      "Training, epoch 15: 100%|██████████| 362/362 [01:29<00:00,  4.04it/s, accuracy=0.911, batch_size=5778, loss=1.64, mae=0.0988]\n",
      "100%|██████████| 104/104 [00:08<00:00, 12.36it/s, accuracy=0.634, batch_size=1656, loss=8.95, mae=0.398]\n",
      "Training, epoch 16:   0%|          | 0/362 [00:00<?, ?it/s]"
     ]
    },
    {
     "name": "stdout",
     "output_type": "stream",
     "text": [
      "{'mae': 0.39794685990338163, 'loss': 8.951614263552974, 'accuracy': 0.6340579710144928}\n"
     ]
    },
    {
     "name": "stderr",
     "output_type": "stream",
     "text": [
      "Training, epoch 16: 100%|██████████| 362/362 [01:29<00:00,  4.05it/s, accuracy=0.929, batch_size=5778, loss=1.33, mae=0.0763]\n",
      "100%|██████████| 104/104 [00:08<00:00, 12.26it/s, accuracy=0.668, batch_size=1656, loss=8.12, mae=0.386]\n",
      "Training, epoch 17:   0%|          | 0/362 [00:00<?, ?it/s]"
     ]
    },
    {
     "name": "stdout",
     "output_type": "stream",
     "text": [
      "{'mae': 0.3864734299516908, 'loss': 8.120444866554173, 'accuracy': 0.6678743961352657}\n"
     ]
    },
    {
     "name": "stderr",
     "output_type": "stream",
     "text": [
      "Training, epoch 17: 100%|██████████| 362/362 [01:29<00:00,  4.04it/s, accuracy=0.943, batch_size=5778, loss=1.11, mae=0.0616] \n",
      "100%|██████████| 104/104 [00:08<00:00, 12.22it/s, accuracy=0.665, batch_size=1656, loss=9.6, mae=0.397] \n",
      "Training, epoch 18:   0%|          | 0/362 [00:00<?, ?it/s]"
     ]
    },
    {
     "name": "stdout",
     "output_type": "stream",
     "text": [
      "{'mae': 0.3973429951690821, 'loss': 9.59709670463046, 'accuracy': 0.6648550724637681}\n"
     ]
    },
    {
     "name": "stderr",
     "output_type": "stream",
     "text": [
      "Training, epoch 18: 100%|██████████| 362/362 [01:29<00:00,  4.04it/s, accuracy=0.956, batch_size=5778, loss=0.856, mae=0.0474]\n",
      "100%|██████████| 104/104 [00:08<00:00, 12.31it/s, accuracy=0.647, batch_size=1656, loss=11.9, mae=0.47] \n",
      "Training, epoch 19:   0%|          | 0/362 [00:00<?, ?it/s]"
     ]
    },
    {
     "name": "stdout",
     "output_type": "stream",
     "text": [
      "{'mae': 0.46980676328502413, 'loss': 11.907775469556235, 'accuracy': 0.6467391304347826}\n"
     ]
    },
    {
     "name": "stderr",
     "output_type": "stream",
     "text": [
      "Training, epoch 19: 100%|██████████| 362/362 [01:29<00:00,  4.03it/s, accuracy=0.953, batch_size=5778, loss=0.87, mae=0.0509] \n",
      "100%|██████████| 104/104 [00:08<00:00, 12.17it/s, accuracy=0.65, batch_size=1656, loss=9.63, mae=0.394] \n"
     ]
    },
    {
     "name": "stdout",
     "output_type": "stream",
     "text": [
      "{'mae': 0.39371980676328505, 'loss': 9.62584522265743, 'accuracy': 0.6497584541062802}\n"
     ]
    },
    {
     "name": "stderr",
     "output_type": "stream",
     "text": [
      "Training, epoch 0: 100%|██████████| 362/362 [01:29<00:00,  4.04it/s, accuracy=0.422, batch_size=5778, loss=10.1, mae=0.93] \n",
      "100%|██████████| 104/104 [00:08<00:00, 12.29it/s, accuracy=0.509, batch_size=1656, loss=8.78, mae=0.722]\n",
      "Training, epoch 1:   0%|          | 0/362 [00:00<?, ?it/s]"
     ]
    },
    {
     "name": "stdout",
     "output_type": "stream",
     "text": [
      "{'mae': 0.7222222222222222, 'loss': 8.783995854105926, 'accuracy': 0.5090579710144928}\n"
     ]
    },
    {
     "name": "stderr",
     "output_type": "stream",
     "text": [
      "Training, epoch 1: 100%|██████████| 362/362 [01:29<00:00,  4.04it/s, accuracy=0.542, batch_size=5778, loss=8.25, mae=0.643]\n",
      "100%|██████████| 104/104 [00:08<00:00, 12.42it/s, accuracy=0.386, batch_size=1656, loss=10.4, mae=0.921]\n",
      "Training, epoch 2:   0%|          | 0/362 [00:00<?, ?it/s]"
     ]
    },
    {
     "name": "stdout",
     "output_type": "stream",
     "text": [
      "{'mae': 0.9208937198067633, 'loss': 10.371045716142884, 'accuracy': 0.3864734299516908}\n"
     ]
    },
    {
     "name": "stderr",
     "output_type": "stream",
     "text": [
      "Training, epoch 2: 100%|██████████| 362/362 [01:29<00:00,  4.05it/s, accuracy=0.617, batch_size=5778, loss=7.02, mae=0.5]  \n",
      "100%|██████████| 104/104 [00:08<00:00, 12.39it/s, accuracy=0.427, batch_size=1656, loss=8.86, mae=0.653]\n",
      "Training, epoch 3:   0%|          | 0/362 [00:00<?, ?it/s]"
     ]
    },
    {
     "name": "stdout",
     "output_type": "stream",
     "text": [
      "{'mae': 0.6527777777777778, 'loss': 8.855234984614423, 'accuracy': 0.42693236714975846}\n"
     ]
    },
    {
     "name": "stderr",
     "output_type": "stream",
     "text": [
      "Training, epoch 3: 100%|██████████| 362/362 [01:29<00:00,  4.06it/s, accuracy=0.649, batch_size=5778, loss=6.32, mae=0.439]\n",
      "100%|██████████| 104/104 [00:08<00:00, 12.22it/s, accuracy=0.443, batch_size=1656, loss=10.3, mae=0.844]\n",
      "Training, epoch 4:   0%|          | 0/362 [00:00<?, ?it/s]"
     ]
    },
    {
     "name": "stdout",
     "output_type": "stream",
     "text": [
      "{'mae': 0.8442028985507246, 'loss': 10.298499049771811, 'accuracy': 0.44323671497584544}\n"
     ]
    },
    {
     "name": "stderr",
     "output_type": "stream",
     "text": [
      "Training, epoch 4: 100%|██████████| 362/362 [01:29<00:00,  4.03it/s, accuracy=0.685, batch_size=5778, loss=5.82, mae=0.382]\n",
      "100%|██████████| 104/104 [00:08<00:00, 12.35it/s, accuracy=0.664, batch_size=1656, loss=6.57, mae=0.425]\n",
      "Training, epoch 5:   0%|          | 0/362 [00:00<?, ?it/s]"
     ]
    },
    {
     "name": "stdout",
     "output_type": "stream",
     "text": [
      "{'mae': 0.4245169082125604, 'loss': 6.572804798826503, 'accuracy': 0.6642512077294686}\n"
     ]
    },
    {
     "name": "stderr",
     "output_type": "stream",
     "text": [
      "Training, epoch 5: 100%|██████████| 362/362 [01:28<00:00,  4.09it/s, accuracy=0.716, batch_size=5778, loss=5.16, mae=0.331]\n",
      "100%|██████████| 104/104 [00:08<00:00, 12.99it/s, accuracy=0.644, batch_size=1656, loss=6.99, mae=0.451]\n",
      "Training, epoch 6:   0%|          | 0/362 [00:00<?, ?it/s]"
     ]
    },
    {
     "name": "stdout",
     "output_type": "stream",
     "text": [
      "{'mae': 0.45108695652173914, 'loss': 6.991984984437049, 'accuracy': 0.6443236714975845}\n"
     ]
    },
    {
     "name": "stderr",
     "output_type": "stream",
     "text": [
      "Training, epoch 6: 100%|██████████| 362/362 [01:25<00:00,  4.26it/s, accuracy=0.742, batch_size=5778, loss=4.78, mae=0.293]\n",
      "100%|██████████| 104/104 [00:08<00:00, 12.97it/s, accuracy=0.693, batch_size=1656, loss=6.13, mae=0.371]\n",
      "Training, epoch 7:   0%|          | 0/362 [00:00<?, ?it/s]"
     ]
    },
    {
     "name": "stdout",
     "output_type": "stream",
     "text": [
      "{'mae': 0.37077294685990336, 'loss': 6.128823322950354, 'accuracy': 0.6926328502415459}\n"
     ]
    },
    {
     "name": "stderr",
     "output_type": "stream",
     "text": [
      "Training, epoch 7: 100%|██████████| 362/362 [01:25<00:00,  4.24it/s, accuracy=0.761, batch_size=5778, loss=4.41, mae=0.267]\n",
      "100%|██████████| 104/104 [00:08<00:00, 12.87it/s, accuracy=0.591, batch_size=1656, loss=8.19, mae=0.564]\n",
      "Training, epoch 8:   0%|          | 0/362 [00:00<?, ?it/s]"
     ]
    },
    {
     "name": "stdout",
     "output_type": "stream",
     "text": [
      "{'mae': 0.5640096618357487, 'loss': 8.193038535578815, 'accuracy': 0.591183574879227}\n"
     ]
    },
    {
     "name": "stderr",
     "output_type": "stream",
     "text": [
      "Training, epoch 8: 100%|██████████| 362/362 [01:27<00:00,  4.15it/s, accuracy=0.782, batch_size=5778, loss=4.07, mae=0.244]\n",
      "100%|██████████| 104/104 [00:08<00:00, 12.53it/s, accuracy=0.6, batch_size=1656, loss=9.27, mae=0.516]  \n",
      "Training, epoch 9:   0%|          | 0/362 [00:00<?, ?it/s]"
     ]
    },
    {
     "name": "stdout",
     "output_type": "stream",
     "text": [
      "{'mae': 0.5157004830917874, 'loss': 9.266555686503793, 'accuracy': 0.6002415458937198}\n"
     ]
    },
    {
     "name": "stderr",
     "output_type": "stream",
     "text": [
      "Training, epoch 9: 100%|██████████| 362/362 [01:29<00:00,  4.04it/s, accuracy=0.808, batch_size=5778, loss=3.64, mae=0.211]\n",
      "100%|██████████| 104/104 [00:08<00:00, 12.35it/s, accuracy=0.375, batch_size=1656, loss=19.5, mae=0.917]\n",
      "Training, epoch 10:   0%|          | 0/362 [00:00<?, ?it/s]"
     ]
    },
    {
     "name": "stdout",
     "output_type": "stream",
     "text": [
      "{'mae': 0.9166666666666666, 'loss': 19.502791556471212, 'accuracy': 0.375}\n"
     ]
    },
    {
     "name": "stderr",
     "output_type": "stream",
     "text": [
      "Training, epoch 10: 100%|██████████| 362/362 [01:29<00:00,  4.03it/s, accuracy=0.837, batch_size=5778, loss=3.17, mae=0.174]\n",
      "100%|██████████| 104/104 [00:08<00:00, 12.31it/s, accuracy=0.554, batch_size=1656, loss=14.2, mae=0.606]\n",
      "Training, epoch 11:   0%|          | 0/362 [00:00<?, ?it/s]"
     ]
    },
    {
     "name": "stdout",
     "output_type": "stream",
     "text": [
      "{'mae': 0.6056763285024155, 'loss': 14.16884048787004, 'accuracy': 0.553743961352657}\n"
     ]
    },
    {
     "name": "stderr",
     "output_type": "stream",
     "text": [
      "Training, epoch 11: 100%|██████████| 362/362 [01:29<00:00,  4.02it/s, accuracy=0.852, batch_size=5778, loss=2.86, mae=0.158]\n",
      "100%|██████████| 104/104 [00:08<00:00, 12.32it/s, accuracy=0.662, batch_size=1656, loss=8.97, mae=0.424]\n",
      "Training, epoch 12:   0%|          | 0/362 [00:00<?, ?it/s]"
     ]
    },
    {
     "name": "stdout",
     "output_type": "stream",
     "text": [
      "{'mae': 0.42391304347826086, 'loss': 8.97342584948033, 'accuracy': 0.6624396135265701}\n"
     ]
    },
    {
     "name": "stderr",
     "output_type": "stream",
     "text": [
      "Training, epoch 12: 100%|██████████| 362/362 [01:29<00:00,  4.04it/s, accuracy=0.873, batch_size=5778, loss=2.51, mae=0.135]\n",
      "100%|██████████| 104/104 [00:08<00:00, 12.27it/s, accuracy=0.662, batch_size=1656, loss=7.9, mae=0.385] \n",
      "Training, epoch 13:   0%|          | 0/362 [00:00<?, ?it/s]"
     ]
    },
    {
     "name": "stdout",
     "output_type": "stream",
     "text": [
      "{'mae': 0.38466183574879226, 'loss': 7.896746081430555, 'accuracy': 0.6624396135265701}\n"
     ]
    },
    {
     "name": "stderr",
     "output_type": "stream",
     "text": [
      "Training, epoch 13: 100%|██████████| 362/362 [01:29<00:00,  4.04it/s, accuracy=0.881, batch_size=5778, loss=2.28, mae=0.126]\n",
      "100%|██████████| 104/104 [00:08<00:00, 12.38it/s, accuracy=0.651, batch_size=1656, loss=8.63, mae=0.417]\n",
      "Training, epoch 14:   0%|          | 0/362 [00:00<?, ?it/s]"
     ]
    },
    {
     "name": "stdout",
     "output_type": "stream",
     "text": [
      "{'mae': 0.4172705314009662, 'loss': 8.6292479781137, 'accuracy': 0.6509661835748792}\n"
     ]
    },
    {
     "name": "stderr",
     "output_type": "stream",
     "text": [
      "Training, epoch 14: 100%|██████████| 362/362 [01:26<00:00,  4.20it/s, accuracy=0.904, batch_size=5778, loss=1.99, mae=0.101] \n",
      "100%|██████████| 104/104 [00:07<00:00, 13.01it/s, accuracy=0.667, batch_size=1656, loss=8.16, mae=0.405]\n",
      "Training, epoch 15:   0%|          | 0/362 [00:00<?, ?it/s]"
     ]
    },
    {
     "name": "stdout",
     "output_type": "stream",
     "text": [
      "{'mae': 0.40458937198067635, 'loss': 8.163691551788993, 'accuracy': 0.6672705314009661}\n"
     ]
    },
    {
     "name": "stderr",
     "output_type": "stream",
     "text": [
      "Training, epoch 15: 100%|██████████| 362/362 [01:25<00:00,  4.25it/s, accuracy=0.93, batch_size=5778, loss=1.48, mae=0.0725] \n",
      "100%|██████████| 104/104 [00:07<00:00, 13.00it/s, accuracy=0.537, batch_size=1656, loss=12.3, mae=0.514]\n",
      "Training, epoch 16:   0%|          | 0/362 [00:00<?, ?it/s]"
     ]
    },
    {
     "name": "stdout",
     "output_type": "stream",
     "text": [
      "{'mae': 0.5144927536231884, 'loss': 12.298107760252009, 'accuracy': 0.5374396135265701}\n"
     ]
    },
    {
     "name": "stderr",
     "output_type": "stream",
     "text": [
      "Training, epoch 16: 100%|██████████| 362/362 [01:26<00:00,  4.20it/s, accuracy=0.936, batch_size=5778, loss=1.4, mae=0.0666] \n",
      "100%|██████████| 104/104 [00:08<00:00, 12.70it/s, accuracy=0.657, batch_size=1656, loss=9.64, mae=0.391]\n",
      "Training, epoch 17:   0%|          | 0/362 [00:00<?, ?it/s]"
     ]
    },
    {
     "name": "stdout",
     "output_type": "stream",
     "text": [
      "{'mae': 0.391304347826087, 'loss': 9.642561933268672, 'accuracy': 0.6570048309178744}\n"
     ]
    },
    {
     "name": "stderr",
     "output_type": "stream",
     "text": [
      "Training, epoch 17: 100%|██████████| 362/362 [01:28<00:00,  4.08it/s, accuracy=0.936, batch_size=5778, loss=1.44, mae=0.0661]\n",
      "100%|██████████| 104/104 [00:08<00:00, 12.23it/s, accuracy=0.66, batch_size=1656, loss=10.3, mae=0.389] \n",
      "Training, epoch 18:   0%|          | 0/362 [00:00<?, ?it/s]"
     ]
    },
    {
     "name": "stdout",
     "output_type": "stream",
     "text": [
      "{'mae': 0.3894927536231884, 'loss': 10.281193421082795, 'accuracy': 0.660024154589372}\n"
     ]
    },
    {
     "name": "stderr",
     "output_type": "stream",
     "text": [
      "Training, epoch 18: 100%|██████████| 362/362 [01:29<00:00,  4.03it/s, accuracy=0.953, batch_size=5778, loss=1, mae=0.0493]    \n",
      "100%|██████████| 104/104 [00:08<00:00, 12.32it/s, accuracy=0.62, batch_size=1656, loss=11.7, mae=0.452] \n",
      "Training, epoch 19:   0%|          | 0/362 [00:00<?, ?it/s]"
     ]
    },
    {
     "name": "stdout",
     "output_type": "stream",
     "text": [
      "{'mae': 0.45169082125603865, 'loss': 11.714005091052124, 'accuracy': 0.6195652173913043}\n"
     ]
    },
    {
     "name": "stderr",
     "output_type": "stream",
     "text": [
      "Training, epoch 19: 100%|██████████| 362/362 [01:29<00:00,  4.03it/s, accuracy=0.958, batch_size=5778, loss=0.947, mae=0.0443]\n",
      "100%|██████████| 104/104 [00:08<00:00, 12.32it/s, accuracy=0.647, batch_size=1656, loss=12.1, mae=0.396]\n"
     ]
    },
    {
     "name": "stdout",
     "output_type": "stream",
     "text": [
      "{'mae': 0.3961352657004831, 'loss': 12.106543747123313, 'accuracy': 0.6467391304347826}\n"
     ]
    },
    {
     "name": "stderr",
     "output_type": "stream",
     "text": [
      "Training, epoch 0: 100%|██████████| 362/362 [01:29<00:00,  4.03it/s, accuracy=0.416, batch_size=5778, loss=11.4, mae=0.917]\n",
      "100%|██████████| 104/104 [00:08<00:00, 12.35it/s, accuracy=0.28, batch_size=1656, loss=13.8, mae=1.27] \n",
      "Training, epoch 1:   0%|          | 0/362 [00:00<?, ?it/s]"
     ]
    },
    {
     "name": "stdout",
     "output_type": "stream",
     "text": [
      "{'mae': 1.2681159420289856, 'loss': 13.824445443452845, 'accuracy': 0.27958937198067635}\n"
     ]
    },
    {
     "name": "stderr",
     "output_type": "stream",
     "text": [
      "Training, epoch 1: 100%|██████████| 362/362 [01:29<00:00,  4.03it/s, accuracy=0.552, batch_size=5778, loss=9.25, mae=0.639]\n",
      "100%|██████████| 104/104 [00:08<00:00, 12.37it/s, accuracy=0.364, batch_size=1656, loss=13.6, mae=1.03]\n",
      "Training, epoch 2:   0%|          | 0/362 [00:00<?, ?it/s]"
     ]
    },
    {
     "name": "stdout",
     "output_type": "stream",
     "text": [
      "{'mae': 1.0320048309178744, 'loss': 13.585977300929562, 'accuracy': 0.3635265700483092}\n"
     ]
    },
    {
     "name": "stderr",
     "output_type": "stream",
     "text": [
      "Training, epoch 2: 100%|██████████| 362/362 [01:29<00:00,  4.04it/s, accuracy=0.603, batch_size=5778, loss=8.07, mae=0.527]\n",
      "100%|██████████| 104/104 [00:08<00:00, 12.34it/s, accuracy=0.428, batch_size=1656, loss=12.1, mae=0.958]\n",
      "Training, epoch 3:   0%|          | 0/362 [00:00<?, ?it/s]"
     ]
    },
    {
     "name": "stdout",
     "output_type": "stream",
     "text": [
      "{'mae': 0.9583333333333334, 'loss': 12.138990655613407, 'accuracy': 0.4281400966183575}\n"
     ]
    },
    {
     "name": "stderr",
     "output_type": "stream",
     "text": [
      "Training, epoch 3: 100%|██████████| 362/362 [01:29<00:00,  4.04it/s, accuracy=0.609, batch_size=5778, loss=8.04, mae=0.534]\n",
      "100%|██████████| 104/104 [00:08<00:00, 12.33it/s, accuracy=0.506, batch_size=1656, loss=11.3, mae=0.794]\n",
      "Training, epoch 4:   0%|          | 0/362 [00:00<?, ?it/s]"
     ]
    },
    {
     "name": "stdout",
     "output_type": "stream",
     "text": [
      "{'mae': 0.7940821256038647, 'loss': 11.294736561567888, 'accuracy': 0.5060386473429952}\n"
     ]
    },
    {
     "name": "stderr",
     "output_type": "stream",
     "text": [
      "Training, epoch 4: 100%|██████████| 362/362 [01:29<00:00,  4.04it/s, accuracy=0.666, batch_size=5778, loss=6.84, mae=0.414]\n",
      "100%|██████████| 104/104 [00:08<00:00, 12.34it/s, accuracy=0.589, batch_size=1656, loss=8.84, mae=0.532]\n",
      "Training, epoch 5:   0%|          | 0/362 [00:00<?, ?it/s]"
     ]
    },
    {
     "name": "stdout",
     "output_type": "stream",
     "text": [
      "{'mae': 0.5320048309178744, 'loss': 8.843068867489912, 'accuracy': 0.5887681159420289}\n"
     ]
    },
    {
     "name": "stderr",
     "output_type": "stream",
     "text": [
      "Training, epoch 5: 100%|██████████| 362/362 [01:29<00:00,  4.04it/s, accuracy=0.697, batch_size=5778, loss=6.12, mae=0.36] \n",
      "100%|██████████| 104/104 [00:08<00:00, 12.21it/s, accuracy=0.504, batch_size=1656, loss=10, mae=0.726]  \n",
      "Training, epoch 6:   0%|          | 0/362 [00:00<?, ?it/s]"
     ]
    },
    {
     "name": "stdout",
     "output_type": "stream",
     "text": [
      "{'mae': 0.7264492753623188, 'loss': 10.016178552655207, 'accuracy': 0.5036231884057971}\n"
     ]
    },
    {
     "name": "stderr",
     "output_type": "stream",
     "text": [
      "Training, epoch 6: 100%|██████████| 362/362 [01:29<00:00,  4.04it/s, accuracy=0.716, batch_size=5778, loss=5.87, mae=0.335]\n",
      "100%|██████████| 104/104 [00:08<00:00, 12.27it/s, accuracy=0.648, batch_size=1656, loss=8.01, mae=0.452]\n",
      "Training, epoch 7:   0%|          | 0/362 [00:00<?, ?it/s]"
     ]
    },
    {
     "name": "stdout",
     "output_type": "stream",
     "text": [
      "{'mae': 0.4522946859903382, 'loss': 8.01199756209977, 'accuracy': 0.6479468599033816}\n"
     ]
    },
    {
     "name": "stderr",
     "output_type": "stream",
     "text": [
      "Training, epoch 7: 100%|██████████| 362/362 [01:29<00:00,  4.04it/s, accuracy=0.748, batch_size=5778, loss=5.2, mae=0.284] \n",
      "100%|██████████| 104/104 [00:08<00:00, 12.23it/s, accuracy=0.559, batch_size=1656, loss=14.2, mae=0.656] \n",
      "Training, epoch 8:   0%|          | 0/362 [00:00<?, ?it/s]"
     ]
    },
    {
     "name": "stdout",
     "output_type": "stream",
     "text": [
      "{'mae': 0.6557971014492754, 'loss': 14.188849424394432, 'accuracy': 0.5591787439613527}\n"
     ]
    },
    {
     "name": "stderr",
     "output_type": "stream",
     "text": [
      "Training, epoch 8: 100%|██████████| 362/362 [01:29<00:00,  4.04it/s, accuracy=0.761, batch_size=5778, loss=4.88, mae=0.265]\n",
      "100%|██████████| 104/104 [00:08<00:00, 12.36it/s, accuracy=0.692, batch_size=1656, loss=7.06, mae=0.374]\n",
      "Training, epoch 9:   0%|          | 0/362 [00:00<?, ?it/s]"
     ]
    },
    {
     "name": "stdout",
     "output_type": "stream",
     "text": [
      "{'mae': 0.3743961352657005, 'loss': 7.058707093846971, 'accuracy': 0.6920289855072463}\n"
     ]
    },
    {
     "name": "stderr",
     "output_type": "stream",
     "text": [
      "Training, epoch 9: 100%|██████████| 362/362 [01:29<00:00,  4.03it/s, accuracy=0.791, batch_size=5778, loss=4.44, mae=0.228]\n",
      "100%|██████████| 104/104 [00:08<00:00, 12.37it/s, accuracy=0.464, batch_size=1656, loss=10.9, mae=0.625]\n",
      "Training, epoch 10:   0%|          | 0/362 [00:00<?, ?it/s]"
     ]
    },
    {
     "name": "stdout",
     "output_type": "stream",
     "text": [
      "{'mae': 0.625, 'loss': 10.902404430983722, 'accuracy': 0.463768115942029}\n"
     ]
    },
    {
     "name": "stderr",
     "output_type": "stream",
     "text": [
      "Training, epoch 10: 100%|██████████| 362/362 [01:29<00:00,  4.04it/s, accuracy=0.819, batch_size=5778, loss=3.78, mae=0.194]\n",
      "100%|██████████| 104/104 [00:08<00:00, 12.27it/s, accuracy=0.667, batch_size=1656, loss=7.55, mae=0.405]\n",
      "Training, epoch 11:   0%|          | 0/362 [00:00<?, ?it/s]"
     ]
    },
    {
     "name": "stdout",
     "output_type": "stream",
     "text": [
      "{'mae': 0.40458937198067635, 'loss': 7.551903994762955, 'accuracy': 0.6672705314009661}\n"
     ]
    },
    {
     "name": "stderr",
     "output_type": "stream",
     "text": [
      "Training, epoch 11: 100%|██████████| 362/362 [01:29<00:00,  4.04it/s, accuracy=0.838, batch_size=5778, loss=3.52, mae=0.173]\n",
      "100%|██████████| 104/104 [00:08<00:00, 12.33it/s, accuracy=0.593, batch_size=1656, loss=12.8, mae=0.569]\n",
      "Training, epoch 12:   0%|          | 0/362 [00:00<?, ?it/s]"
     ]
    },
    {
     "name": "stdout",
     "output_type": "stream",
     "text": [
      "{'mae': 0.5694444444444444, 'loss': 12.760996441622288, 'accuracy': 0.5929951690821256}\n"
     ]
    },
    {
     "name": "stderr",
     "output_type": "stream",
     "text": [
      "Training, epoch 12: 100%|██████████| 362/362 [01:29<00:00,  4.04it/s, accuracy=0.859, batch_size=5778, loss=3.14, mae=0.149]\n",
      "100%|██████████| 104/104 [00:08<00:00, 12.30it/s, accuracy=0.633, batch_size=1656, loss=8.9, mae=0.392] \n",
      "Training, epoch 13:   0%|          | 0/362 [00:00<?, ?it/s]"
     ]
    },
    {
     "name": "stdout",
     "output_type": "stream",
     "text": [
      "{'mae': 0.3919082125603865, 'loss': 8.900590258520007, 'accuracy': 0.6328502415458938}\n"
     ]
    },
    {
     "name": "stderr",
     "output_type": "stream",
     "text": [
      "Training, epoch 13: 100%|██████████| 362/362 [01:29<00:00,  4.03it/s, accuracy=0.872, batch_size=5778, loss=2.79, mae=0.135]\n",
      "100%|██████████| 104/104 [00:08<00:00, 12.33it/s, accuracy=0.671, batch_size=1656, loss=9.57, mae=0.393]\n",
      "Training, epoch 14:   0%|          | 0/362 [00:00<?, ?it/s]"
     ]
    },
    {
     "name": "stdout",
     "output_type": "stream",
     "text": [
      "{'mae': 0.392512077294686, 'loss': 9.574510151493376, 'accuracy': 0.6708937198067633}\n"
     ]
    },
    {
     "name": "stderr",
     "output_type": "stream",
     "text": [
      "Training, epoch 14: 100%|██████████| 362/362 [01:29<00:00,  4.03it/s, accuracy=0.887, batch_size=5778, loss=2.5, mae=0.118] \n",
      "100%|██████████| 104/104 [00:08<00:00, 12.21it/s, accuracy=0.432, batch_size=1656, loss=13.2, mae=0.62] \n",
      "Training, epoch 15:   0%|          | 0/362 [00:00<?, ?it/s]"
     ]
    },
    {
     "name": "stdout",
     "output_type": "stream",
     "text": [
      "{'mae': 0.6195652173913043, 'loss': 13.15734505077491, 'accuracy': 0.43176328502415456}\n"
     ]
    },
    {
     "name": "stderr",
     "output_type": "stream",
     "text": [
      "Training, epoch 15: 100%|██████████| 362/362 [01:29<00:00,  4.03it/s, accuracy=0.904, batch_size=5778, loss=2.24, mae=0.101] \n",
      "100%|██████████| 104/104 [00:08<00:00, 12.29it/s, accuracy=0.542, batch_size=1656, loss=15.7, mae=0.575]\n",
      "Training, epoch 16:   0%|          | 0/362 [00:00<?, ?it/s]"
     ]
    },
    {
     "name": "stdout",
     "output_type": "stream",
     "text": [
      "{'mae': 0.5748792270531401, 'loss': 15.739207901096574, 'accuracy': 0.5416666666666666}\n"
     ]
    },
    {
     "name": "stderr",
     "output_type": "stream",
     "text": [
      "Training, epoch 16: 100%|██████████| 362/362 [01:29<00:00,  4.02it/s, accuracy=0.926, batch_size=5778, loss=1.72, mae=0.0762]\n",
      "100%|██████████| 104/104 [00:08<00:00, 12.30it/s, accuracy=0.654, batch_size=1656, loss=11.7, mae=0.399]\n",
      "Training, epoch 17:   0%|          | 0/362 [00:00<?, ?it/s]"
     ]
    },
    {
     "name": "stdout",
     "output_type": "stream",
     "text": [
      "{'mae': 0.39855072463768115, 'loss': 11.744123533152152, 'accuracy': 0.6539855072463768}\n"
     ]
    },
    {
     "name": "stderr",
     "output_type": "stream",
     "text": [
      "Training, epoch 17: 100%|██████████| 362/362 [01:30<00:00,  4.02it/s, accuracy=0.941, batch_size=5778, loss=1.47, mae=0.0616]\n",
      "100%|██████████| 104/104 [00:08<00:00, 12.21it/s, accuracy=0.578, batch_size=1656, loss=28.6, mae=0.633]  \n",
      "Training, epoch 18:   0%|          | 0/362 [00:00<?, ?it/s]"
     ]
    },
    {
     "name": "stdout",
     "output_type": "stream",
     "text": [
      "{'mae': 0.6334541062801933, 'loss': 28.602488375052918, 'accuracy': 0.5778985507246377}\n"
     ]
    },
    {
     "name": "stderr",
     "output_type": "stream",
     "text": [
      "Training, epoch 18: 100%|██████████| 362/362 [01:29<00:00,  4.03it/s, accuracy=0.932, batch_size=5778, loss=1.59, mae=0.0708]\n",
      "100%|██████████| 104/104 [00:08<00:00, 12.40it/s, accuracy=0.694, batch_size=1656, loss=10.2, mae=0.351]\n",
      "Training, epoch 19:   0%|          | 0/362 [00:00<?, ?it/s]"
     ]
    },
    {
     "name": "stdout",
     "output_type": "stream",
     "text": [
      "{'mae': 0.35144927536231885, 'loss': 10.174322081648786, 'accuracy': 0.6944444444444444}\n"
     ]
    },
    {
     "name": "stderr",
     "output_type": "stream",
     "text": [
      "Training, epoch 19: 100%|██████████| 362/362 [01:30<00:00,  4.02it/s, accuracy=0.95, batch_size=5778, loss=1.23, mae=0.0526] \n",
      "100%|██████████| 104/104 [00:08<00:00, 12.29it/s, accuracy=0.666, batch_size=1656, loss=11.3, mae=0.367]\n"
     ]
    },
    {
     "name": "stdout",
     "output_type": "stream",
     "text": [
      "{'mae': 0.3671497584541063, 'loss': 11.292211191665723, 'accuracy': 0.6660628019323671}\n"
     ]
    },
    {
     "name": "stderr",
     "output_type": "stream",
     "text": [
      "Training, epoch 0: 100%|██████████| 362/362 [01:25<00:00,  4.23it/s, accuracy=0.428, batch_size=5778, loss=15.4, mae=0.945]\n",
      "100%|██████████| 104/104 [00:07<00:00, 13.06it/s, accuracy=0.464, batch_size=1656, loss=15.2, mae=0.898]\n",
      "Training, epoch 1:   0%|          | 0/362 [00:00<?, ?it/s]"
     ]
    },
    {
     "name": "stdout",
     "output_type": "stream",
     "text": [
      "{'mae': 0.8979468599033816, 'loss': 15.21711836690488, 'accuracy': 0.4643719806763285}\n"
     ]
    },
    {
     "name": "stderr",
     "output_type": "stream",
     "text": [
      "Training, epoch 1: 100%|██████████| 362/362 [01:25<00:00,  4.26it/s, accuracy=0.538, batch_size=5778, loss=12.9, mae=0.682]\n",
      "100%|██████████| 104/104 [00:08<00:00, 12.97it/s, accuracy=0.417, batch_size=1656, loss=16.8, mae=1.04] \n",
      "Training, epoch 2:   0%|          | 0/362 [00:00<?, ?it/s]"
     ]
    },
    {
     "name": "stdout",
     "output_type": "stream",
     "text": [
      "{'mae': 1.0380434782608696, 'loss': 16.796491726585057, 'accuracy': 0.4166666666666667}\n"
     ]
    },
    {
     "name": "stderr",
     "output_type": "stream",
     "text": [
      "Training, epoch 2: 100%|██████████| 362/362 [01:26<00:00,  4.20it/s, accuracy=0.596, batch_size=5778, loss=11.4, mae=0.562]\n",
      "100%|██████████| 104/104 [00:08<00:00, 12.78it/s, accuracy=0.547, batch_size=1656, loss=12, mae=0.59]   \n",
      "Training, epoch 3:   0%|          | 0/362 [00:00<?, ?it/s]"
     ]
    },
    {
     "name": "stdout",
     "output_type": "stream",
     "text": [
      "{'mae': 0.589975845410628, 'loss': 12.020484664013996, 'accuracy': 0.5471014492753623}\n"
     ]
    },
    {
     "name": "stderr",
     "output_type": "stream",
     "text": [
      "Training, epoch 3: 100%|██████████| 362/362 [01:28<00:00,  4.09it/s, accuracy=0.628, batch_size=5778, loss=10.4, mae=0.493]\n",
      "100%|██████████| 104/104 [00:08<00:00, 12.30it/s, accuracy=0.566, batch_size=1656, loss=11.5, mae=0.504]\n",
      "Training, epoch 4:   0%|          | 0/362 [00:00<?, ?it/s]"
     ]
    },
    {
     "name": "stdout",
     "output_type": "stream",
     "text": [
      "{'mae': 0.5042270531400966, 'loss': 11.518078831658848, 'accuracy': 0.5658212560386473}\n"
     ]
    },
    {
     "name": "stderr",
     "output_type": "stream",
     "text": [
      "Training, epoch 4: 100%|██████████| 362/362 [01:26<00:00,  4.20it/s, accuracy=0.67, batch_size=5778, loss=9.34, mae=0.42]  \n",
      "100%|██████████| 104/104 [00:07<00:00, 13.09it/s, accuracy=0.656, batch_size=1656, loss=9.65, mae=0.42] \n",
      "Training, epoch 5:   0%|          | 0/362 [00:00<?, ?it/s]"
     ]
    },
    {
     "name": "stdout",
     "output_type": "stream",
     "text": [
      "{'mae': 0.42028985507246375, 'loss': 9.645791278945076, 'accuracy': 0.6557971014492754}\n"
     ]
    },
    {
     "name": "stderr",
     "output_type": "stream",
     "text": [
      "Training, epoch 5: 100%|██████████| 362/362 [01:24<00:00,  4.26it/s, accuracy=0.7, batch_size=5778, loss=8.48, mae=0.363]  \n",
      "100%|██████████| 104/104 [00:08<00:00, 12.98it/s, accuracy=0.631, batch_size=1656, loss=10.1, mae=0.463]\n",
      "Training, epoch 6:   0%|          | 0/362 [00:00<?, ?it/s]"
     ]
    },
    {
     "name": "stdout",
     "output_type": "stream",
     "text": [
      "{'mae': 0.46316425120772947, 'loss': 10.059022192793767, 'accuracy': 0.6310386473429952}\n"
     ]
    },
    {
     "name": "stderr",
     "output_type": "stream",
     "text": [
      "Training, epoch 6: 100%|██████████| 362/362 [01:26<00:00,  4.20it/s, accuracy=0.725, batch_size=5778, loss=7.76, mae=0.325]\n",
      "100%|██████████| 104/104 [00:08<00:00, 12.77it/s, accuracy=0.665, batch_size=1656, loss=9.03, mae=0.388]\n",
      "Training, epoch 7:   0%|          | 0/362 [00:00<?, ?it/s]"
     ]
    },
    {
     "name": "stdout",
     "output_type": "stream",
     "text": [
      "{'mae': 0.38768115942028986, 'loss': 9.025975863138834, 'accuracy': 0.6648550724637681}\n"
     ]
    },
    {
     "name": "stderr",
     "output_type": "stream",
     "text": [
      "Training, epoch 7: 100%|██████████| 362/362 [01:28<00:00,  4.10it/s, accuracy=0.747, batch_size=5778, loss=7.22, mae=0.29] \n",
      "100%|██████████| 104/104 [00:08<00:00, 12.35it/s, accuracy=0.541, batch_size=1656, loss=16.1, mae=0.577]\n",
      "Training, epoch 8:   0%|          | 0/362 [00:00<?, ?it/s]"
     ]
    },
    {
     "name": "stdout",
     "output_type": "stream",
     "text": [
      "{'mae': 0.5766908212560387, 'loss': 16.05829954147339, 'accuracy': 0.5410628019323671}\n"
     ]
    },
    {
     "name": "stderr",
     "output_type": "stream",
     "text": [
      "Training, epoch 8: 100%|██████████| 362/362 [01:29<00:00,  4.03it/s, accuracy=0.768, batch_size=5778, loss=6.64, mae=0.263]\n",
      "100%|██████████| 104/104 [00:08<00:00, 12.34it/s, accuracy=0.669, batch_size=1656, loss=9.79, mae=0.406]\n",
      "Training, epoch 9:   0%|          | 0/362 [00:00<?, ?it/s]"
     ]
    },
    {
     "name": "stdout",
     "output_type": "stream",
     "text": [
      "{'mae': 0.40640096618357485, 'loss': 9.794723675446809, 'accuracy': 0.6690821256038647}\n"
     ]
    },
    {
     "name": "stderr",
     "output_type": "stream",
     "text": [
      "Training, epoch 9: 100%|██████████| 362/362 [01:29<00:00,  4.04it/s, accuracy=0.787, batch_size=5778, loss=6.18, mae=0.237]\n",
      "100%|██████████| 104/104 [00:08<00:00, 12.50it/s, accuracy=0.493, batch_size=1656, loss=12.2, mae=0.55] \n",
      "Training, epoch 10:   0%|          | 0/362 [00:00<?, ?it/s]"
     ]
    },
    {
     "name": "stdout",
     "output_type": "stream",
     "text": [
      "{'mae': 0.5501207729468599, 'loss': 12.17681286300438, 'accuracy': 0.49335748792270534}\n"
     ]
    },
    {
     "name": "stderr",
     "output_type": "stream",
     "text": [
      "Training, epoch 10: 100%|██████████| 362/362 [01:29<00:00,  4.05it/s, accuracy=0.828, batch_size=5778, loss=5.05, mae=0.189]\n",
      "100%|██████████| 104/104 [00:08<00:00, 12.75it/s, accuracy=0.615, batch_size=1656, loss=18, mae=0.533]  \n",
      "Training, epoch 11:   0%|          | 0/362 [00:00<?, ?it/s]"
     ]
    },
    {
     "name": "stdout",
     "output_type": "stream",
     "text": [
      "{'mae': 0.5332125603864735, 'loss': 17.972779435236095, 'accuracy': 0.6147342995169082}\n"
     ]
    },
    {
     "name": "stderr",
     "output_type": "stream",
     "text": [
      "Training, epoch 11: 100%|██████████| 362/362 [01:25<00:00,  4.23it/s, accuracy=0.843, batch_size=5778, loss=4.59, mae=0.168]\n",
      "100%|██████████| 104/104 [00:08<00:00, 12.94it/s, accuracy=0.677, batch_size=1656, loss=11.1, mae=0.367]\n",
      "Training, epoch 12:   0%|          | 0/362 [00:00<?, ?it/s]"
     ]
    },
    {
     "name": "stdout",
     "output_type": "stream",
     "text": [
      "{'mae': 0.3665458937198068, 'loss': 11.084601504791186, 'accuracy': 0.6769323671497585}\n"
     ]
    },
    {
     "name": "stderr",
     "output_type": "stream",
     "text": [
      "Training, epoch 12: 100%|██████████| 362/362 [01:25<00:00,  4.24it/s, accuracy=0.858, batch_size=5778, loss=4.22, mae=0.156]\n",
      "100%|██████████| 104/104 [00:08<00:00, 12.95it/s, accuracy=0.641, batch_size=1656, loss=11.6, mae=0.451]\n",
      "Training, epoch 13:   0%|          | 0/362 [00:00<?, ?it/s]"
     ]
    },
    {
     "name": "stdout",
     "output_type": "stream",
     "text": [
      "{'mae': 0.45108695652173914, 'loss': 11.586311969204225, 'accuracy': 0.6407004830917874}\n"
     ]
    },
    {
     "name": "stderr",
     "output_type": "stream",
     "text": [
      "Training, epoch 13: 100%|██████████| 362/362 [01:26<00:00,  4.18it/s, accuracy=0.884, batch_size=5778, loss=3.53, mae=0.124]\n",
      "100%|██████████| 104/104 [00:08<00:00, 12.56it/s, accuracy=0.656, batch_size=1656, loss=12.4, mae=0.394]\n",
      "Training, epoch 14:   0%|          | 0/362 [00:00<?, ?it/s]"
     ]
    },
    {
     "name": "stdout",
     "output_type": "stream",
     "text": [
      "{'mae': 0.3943236714975845, 'loss': 12.415357207330528, 'accuracy': 0.6564009661835749}\n"
     ]
    },
    {
     "name": "stderr",
     "output_type": "stream",
     "text": [
      "Training, epoch 14: 100%|██████████| 362/362 [01:29<00:00,  4.06it/s, accuracy=0.897, batch_size=5778, loss=3.28, mae=0.11] \n",
      "100%|██████████| 104/104 [00:08<00:00, 12.71it/s, accuracy=0.687, batch_size=1656, loss=13.1, mae=0.37] \n",
      "Training, epoch 15:   0%|          | 0/362 [00:00<?, ?it/s]"
     ]
    },
    {
     "name": "stdout",
     "output_type": "stream",
     "text": [
      "{'mae': 0.37016908212560384, 'loss': 13.138713215860191, 'accuracy': 0.6865942028985508}\n"
     ]
    },
    {
     "name": "stderr",
     "output_type": "stream",
     "text": [
      "Training, epoch 15: 100%|██████████| 362/362 [01:25<00:00,  4.24it/s, accuracy=0.926, batch_size=5778, loss=2.46, mae=0.0796]\n",
      "100%|██████████| 104/104 [00:07<00:00, 13.05it/s, accuracy=0.667, batch_size=1656, loss=13.6, mae=0.391]\n",
      "Training, epoch 16:   0%|          | 0/362 [00:00<?, ?it/s]"
     ]
    },
    {
     "name": "stdout",
     "output_type": "stream",
     "text": [
      "{'mae': 0.391304347826087, 'loss': 13.635496703898848, 'accuracy': 0.6666666666666666}\n"
     ]
    },
    {
     "name": "stderr",
     "output_type": "stream",
     "text": [
      "Training, epoch 16: 100%|██████████| 362/362 [01:25<00:00,  4.24it/s, accuracy=0.933, batch_size=5778, loss=2.09, mae=0.071] \n",
      "100%|██████████| 104/104 [00:08<00:00, 12.96it/s, accuracy=0.436, batch_size=1656, loss=37, mae=1.03]    \n",
      "Training, epoch 17:   0%|          | 0/362 [00:00<?, ?it/s]"
     ]
    },
    {
     "name": "stdout",
     "output_type": "stream",
     "text": [
      "{'mae': 1.0326086956521738, 'loss': 37.013815524101545, 'accuracy': 0.4359903381642512}\n"
     ]
    },
    {
     "name": "stderr",
     "output_type": "stream",
     "text": [
      "Training, epoch 17: 100%|██████████| 362/362 [01:26<00:00,  4.17it/s, accuracy=0.912, batch_size=5778, loss=2.81, mae=0.106]\n",
      "100%|██████████| 104/104 [00:08<00:00, 12.60it/s, accuracy=0.601, batch_size=1656, loss=17.8, mae=0.427]\n",
      "Training, epoch 18:   0%|          | 0/362 [00:00<?, ?it/s]"
     ]
    },
    {
     "name": "stdout",
     "output_type": "stream",
     "text": [
      "{'mae': 0.42693236714975846, 'loss': 17.80783612255889, 'accuracy': 0.6014492753623188}\n"
     ]
    },
    {
     "name": "stderr",
     "output_type": "stream",
     "text": [
      "Training, epoch 18: 100%|██████████| 362/362 [01:29<00:00,  4.05it/s, accuracy=0.951, batch_size=5778, loss=1.66, mae=0.0526]\n",
      "100%|██████████| 104/104 [00:08<00:00, 12.35it/s, accuracy=0.437, batch_size=1656, loss=56.7, mae=0.881]\n",
      "Training, epoch 19:   0%|          | 0/362 [00:00<?, ?it/s]"
     ]
    },
    {
     "name": "stdout",
     "output_type": "stream",
     "text": [
      "{'mae': 0.8810386473429952, 'loss': 56.70197353339282, 'accuracy': 0.43719806763285024}\n"
     ]
    },
    {
     "name": "stderr",
     "output_type": "stream",
     "text": [
      "Training, epoch 19: 100%|██████████| 362/362 [01:29<00:00,  4.03it/s, accuracy=0.948, batch_size=5778, loss=1.81, mae=0.0576]\n",
      "100%|██████████| 104/104 [00:08<00:00, 12.16it/s, accuracy=0.68, batch_size=1656, loss=16.4, mae=0.38]  \n"
     ]
    },
    {
     "name": "stdout",
     "output_type": "stream",
     "text": [
      "{'mae': 0.37983091787439616, 'loss': 16.363626920946555, 'accuracy': 0.6799516908212561}\n"
     ]
    },
    {
     "name": "stderr",
     "output_type": "stream",
     "text": [
      "Training, epoch 0: 100%|██████████| 362/362 [01:30<00:00,  4.02it/s, accuracy=0.414, batch_size=5778, loss=17.1, mae=0.982]\n",
      "100%|██████████| 104/104 [00:08<00:00, 12.10it/s, accuracy=0.387, batch_size=1656, loss=26.6, mae=1.24] \n",
      "Training, epoch 1:   0%|          | 0/362 [00:00<?, ?it/s]"
     ]
    },
    {
     "name": "stdout",
     "output_type": "stream",
     "text": [
      "{'mae': 1.2385265700483092, 'loss': 26.591677177355486, 'accuracy': 0.38707729468599034}\n"
     ]
    },
    {
     "name": "stderr",
     "output_type": "stream",
     "text": [
      "Training, epoch 1: 100%|██████████| 362/362 [01:29<00:00,  4.02it/s, accuracy=0.537, batch_size=5778, loss=14.2, mae=0.688]\n",
      "100%|██████████| 104/104 [00:08<00:00, 12.31it/s, accuracy=0.596, batch_size=1656, loss=12, mae=0.566]  \n",
      "Training, epoch 2:   0%|          | 0/362 [00:00<?, ?it/s]"
     ]
    },
    {
     "name": "stdout",
     "output_type": "stream",
     "text": [
      "{'mae': 0.5664251207729468, 'loss': 11.963648966545069, 'accuracy': 0.5960144927536232}\n"
     ]
    },
    {
     "name": "stderr",
     "output_type": "stream",
     "text": [
      "Training, epoch 2: 100%|██████████| 362/362 [01:29<00:00,  4.03it/s, accuracy=0.593, batch_size=5778, loss=12.2, mae=0.555]\n",
      "100%|██████████| 104/104 [00:08<00:00, 12.36it/s, accuracy=0.603, batch_size=1656, loss=12.3, mae=0.531]\n",
      "Training, epoch 3:   0%|          | 0/362 [00:00<?, ?it/s]"
     ]
    },
    {
     "name": "stdout",
     "output_type": "stream",
     "text": [
      "{'mae': 0.5307971014492754, 'loss': 12.304312572387106, 'accuracy': 0.6032608695652174}\n"
     ]
    },
    {
     "name": "stderr",
     "output_type": "stream",
     "text": [
      "Training, epoch 3: 100%|██████████| 362/362 [01:29<00:00,  4.03it/s, accuracy=0.642, batch_size=5778, loss=11, mae=0.468]  \n",
      "100%|██████████| 104/104 [00:08<00:00, 12.39it/s, accuracy=0.644, batch_size=1656, loss=10.7, mae=0.441]\n",
      "Training, epoch 4:   0%|          | 0/362 [00:00<?, ?it/s]"
     ]
    },
    {
     "name": "stdout",
     "output_type": "stream",
     "text": [
      "{'mae': 0.4414251207729469, 'loss': 10.7203533269357, 'accuracy': 0.643719806763285}\n"
     ]
    },
    {
     "name": "stderr",
     "output_type": "stream",
     "text": [
      "Training, epoch 4: 100%|██████████| 362/362 [01:29<00:00,  4.03it/s, accuracy=0.68, batch_size=5778, loss=9.84, mae=0.389] \n",
      "100%|██████████| 104/104 [00:08<00:00, 12.36it/s, accuracy=0.625, batch_size=1656, loss=12.8, mae=0.507]\n",
      "Training, epoch 5:   0%|          | 0/362 [00:00<?, ?it/s]"
     ]
    },
    {
     "name": "stdout",
     "output_type": "stream",
     "text": [
      "{'mae': 0.5072463768115942, 'loss': 12.843594281569771, 'accuracy': 0.625}\n"
     ]
    },
    {
     "name": "stderr",
     "output_type": "stream",
     "text": [
      "Training, epoch 5: 100%|██████████| 362/362 [01:29<00:00,  4.04it/s, accuracy=0.707, batch_size=5778, loss=8.96, mae=0.35] \n",
      "100%|██████████| 104/104 [00:08<00:00, 12.34it/s, accuracy=0.623, batch_size=1656, loss=10.7, mae=0.432]\n",
      "Training, epoch 6:   0%|          | 0/362 [00:00<?, ?it/s]"
     ]
    },
    {
     "name": "stdout",
     "output_type": "stream",
     "text": [
      "{'mae': 0.43176328502415456, 'loss': 10.741361016812531, 'accuracy': 0.6225845410628019}\n"
     ]
    },
    {
     "name": "stderr",
     "output_type": "stream",
     "text": [
      "Training, epoch 6: 100%|██████████| 362/362 [01:29<00:00,  4.04it/s, accuracy=0.728, batch_size=5778, loss=8.15, mae=0.312]\n",
      "100%|██████████| 104/104 [00:08<00:00, 12.40it/s, accuracy=0.687, batch_size=1656, loss=9.8, mae=0.387] \n",
      "Training, epoch 7:   0%|          | 0/362 [00:00<?, ?it/s]"
     ]
    },
    {
     "name": "stdout",
     "output_type": "stream",
     "text": [
      "{'mae': 0.38707729468599034, 'loss': 9.804407218804107, 'accuracy': 0.6871980676328503}\n"
     ]
    },
    {
     "name": "stderr",
     "output_type": "stream",
     "text": [
      "Training, epoch 7: 100%|██████████| 362/362 [01:29<00:00,  4.04it/s, accuracy=0.74, batch_size=5778, loss=7.68, mae=0.297] \n",
      "100%|██████████| 104/104 [00:08<00:00, 12.23it/s, accuracy=0.694, batch_size=1656, loss=9.47, mae=0.366]\n",
      "Training, epoch 8:   0%|          | 0/362 [00:00<?, ?it/s]"
     ]
    },
    {
     "name": "stdout",
     "output_type": "stream",
     "text": [
      "{'mae': 0.36594202898550726, 'loss': 9.467807692606092, 'accuracy': 0.6944444444444444}\n"
     ]
    },
    {
     "name": "stderr",
     "output_type": "stream",
     "text": [
      "Training, epoch 8: 100%|██████████| 362/362 [01:30<00:00,  4.02it/s, accuracy=0.781, batch_size=5778, loss=6.83, mae=0.247]\n",
      "100%|██████████| 104/104 [00:08<00:00, 12.39it/s, accuracy=0.586, batch_size=1656, loss=12.5, mae=0.474]\n",
      "Training, epoch 9:   0%|          | 0/362 [00:00<?, ?it/s]"
     ]
    },
    {
     "name": "stdout",
     "output_type": "stream",
     "text": [
      "{'mae': 0.47403381642512077, 'loss': 12.536177742308464, 'accuracy': 0.586352657004831}\n"
     ]
    },
    {
     "name": "stderr",
     "output_type": "stream",
     "text": [
      "Training, epoch 9: 100%|██████████| 362/362 [01:30<00:00,  4.02it/s, accuracy=0.792, batch_size=5778, loss=6.4, mae=0.227] \n",
      "100%|██████████| 104/104 [00:08<00:00, 12.15it/s, accuracy=0.671, batch_size=1656, loss=11.1, mae=0.417]\n",
      "Training, epoch 10:   0%|          | 0/362 [00:00<?, ?it/s]"
     ]
    },
    {
     "name": "stdout",
     "output_type": "stream",
     "text": [
      "{'mae': 0.4172705314009662, 'loss': 11.081501676264592, 'accuracy': 0.6708937198067633}\n"
     ]
    },
    {
     "name": "stderr",
     "output_type": "stream",
     "text": [
      "Training, epoch 10: 100%|██████████| 362/362 [01:28<00:00,  4.10it/s, accuracy=0.829, batch_size=5778, loss=5.44, mae=0.186]\n",
      "100%|██████████| 104/104 [00:08<00:00, 12.99it/s, accuracy=0.528, batch_size=1656, loss=24.2, mae=0.702]\n",
      "Training, epoch 11:   0%|          | 0/362 [00:00<?, ?it/s]"
     ]
    },
    {
     "name": "stdout",
     "output_type": "stream",
     "text": [
      "{'mae': 0.7022946859903382, 'loss': 24.236210091102528, 'accuracy': 0.5283816425120773}\n"
     ]
    },
    {
     "name": "stderr",
     "output_type": "stream",
     "text": [
      "Training, epoch 11: 100%|██████████| 362/362 [01:25<00:00,  4.25it/s, accuracy=0.844, batch_size=5778, loss=4.89, mae=0.168]\n",
      "100%|██████████| 104/104 [00:07<00:00, 13.01it/s, accuracy=0.687, batch_size=1656, loss=12.7, mae=0.385]\n",
      "Training, epoch 12:   0%|          | 0/362 [00:00<?, ?it/s]"
     ]
    },
    {
     "name": "stdout",
     "output_type": "stream",
     "text": [
      "{'mae': 0.38466183574879226, 'loss': 12.709399178408194, 'accuracy': 0.6865942028985508}\n"
     ]
    },
    {
     "name": "stderr",
     "output_type": "stream",
     "text": [
      "Training, epoch 12: 100%|██████████| 362/362 [01:25<00:00,  4.22it/s, accuracy=0.88, batch_size=5778, loss=4.07, mae=0.125] \n",
      "100%|██████████| 104/104 [00:08<00:00, 12.89it/s, accuracy=0.405, batch_size=1656, loss=39.5, mae=0.771]\n",
      "Training, epoch 13:   0%|          | 0/362 [00:00<?, ?it/s]"
     ]
    },
    {
     "name": "stdout",
     "output_type": "stream",
     "text": [
      "{'mae': 0.7711352657004831, 'loss': 39.469645738601685, 'accuracy': 0.40519323671497587}\n"
     ]
    },
    {
     "name": "stderr",
     "output_type": "stream",
     "text": [
      "Training, epoch 13: 100%|██████████| 362/362 [01:27<00:00,  4.12it/s, accuracy=0.885, batch_size=5778, loss=3.92, mae=0.124]\n",
      "100%|██████████| 104/104 [00:08<00:00, 12.45it/s, accuracy=0.363, batch_size=1656, loss=58.1, mae=1.12]\n",
      "Training, epoch 14:   0%|          | 0/362 [00:00<?, ?it/s]"
     ]
    },
    {
     "name": "stdout",
     "output_type": "stream",
     "text": [
      "{'mae': 1.1171497584541064, 'loss': 58.05359130572294, 'accuracy': 0.36292270531400966}\n"
     ]
    },
    {
     "name": "stderr",
     "output_type": "stream",
     "text": [
      "Training, epoch 14: 100%|██████████| 362/362 [01:29<00:00,  4.03it/s, accuracy=0.889, batch_size=5778, loss=3.83, mae=0.122]\n",
      "100%|██████████| 104/104 [00:08<00:00, 12.27it/s, accuracy=0.562, batch_size=1656, loss=18.9, mae=0.493]\n",
      "Training, epoch 15:   0%|          | 0/362 [00:00<?, ?it/s]"
     ]
    },
    {
     "name": "stdout",
     "output_type": "stream",
     "text": [
      "{'mae': 0.4927536231884058, 'loss': 18.933445953516568, 'accuracy': 0.5615942028985508}\n"
     ]
    },
    {
     "name": "stderr",
     "output_type": "stream",
     "text": [
      "Training, epoch 15: 100%|██████████| 362/362 [01:30<00:00,  4.02it/s, accuracy=0.929, batch_size=5778, loss=2.54, mae=0.0744]\n",
      "100%|██████████| 104/104 [00:08<00:00, 12.10it/s, accuracy=0.663, batch_size=1656, loss=14.8, mae=0.393]\n",
      "Training, epoch 16:   0%|          | 0/362 [00:00<?, ?it/s]"
     ]
    },
    {
     "name": "stdout",
     "output_type": "stream",
     "text": [
      "{'mae': 0.392512077294686, 'loss': 14.821386307333979, 'accuracy': 0.6630434782608695}\n"
     ]
    },
    {
     "name": "stderr",
     "output_type": "stream",
     "text": [
      "Training, epoch 16: 100%|██████████| 362/362 [01:29<00:00,  4.03it/s, accuracy=0.938, batch_size=5778, loss=2.15, mae=0.0651]\n",
      "100%|██████████| 104/104 [00:08<00:00, 12.30it/s, accuracy=0.658, batch_size=1656, loss=15.3, mae=0.387]\n",
      "Training, epoch 17:   0%|          | 0/362 [00:00<?, ?it/s]"
     ]
    },
    {
     "name": "stdout",
     "output_type": "stream",
     "text": [
      "{'mae': 0.38707729468599034, 'loss': 15.333825405093206, 'accuracy': 0.6582125603864735}\n"
     ]
    },
    {
     "name": "stderr",
     "output_type": "stream",
     "text": [
      "Training, epoch 17: 100%|██████████| 362/362 [01:29<00:00,  4.05it/s, accuracy=0.948, batch_size=5778, loss=1.88, mae=0.0545]\n",
      "100%|██████████| 104/104 [00:08<00:00, 12.46it/s, accuracy=0.659, batch_size=1656, loss=17, mae=0.385]  \n",
      "Training, epoch 18:   0%|          | 0/362 [00:00<?, ?it/s]"
     ]
    },
    {
     "name": "stdout",
     "output_type": "stream",
     "text": [
      "{'mae': 0.3852657004830918, 'loss': 17.015619666104154, 'accuracy': 0.6594202898550725}\n"
     ]
    },
    {
     "name": "stderr",
     "output_type": "stream",
     "text": [
      "Training, epoch 18: 100%|██████████| 362/362 [01:29<00:00,  4.06it/s, accuracy=0.955, batch_size=5778, loss=1.72, mae=0.0467]\n",
      "100%|██████████| 104/104 [00:08<00:00, 12.24it/s, accuracy=0.675, batch_size=1656, loss=17.7, mae=0.382]\n",
      "Training, epoch 19:   0%|          | 0/362 [00:00<?, ?it/s]"
     ]
    },
    {
     "name": "stdout",
     "output_type": "stream",
     "text": [
      "{'mae': 0.3822463768115942, 'loss': 17.721512266979126, 'accuracy': 0.6745169082125604}\n"
     ]
    },
    {
     "name": "stderr",
     "output_type": "stream",
     "text": [
      "Training, epoch 19: 100%|██████████| 362/362 [01:29<00:00,  4.05it/s, accuracy=0.958, batch_size=5778, loss=1.57, mae=0.044] \n",
      "100%|██████████| 104/104 [00:08<00:00, 12.43it/s, accuracy=0.598, batch_size=1656, loss=20.2, mae=0.432]\n"
     ]
    },
    {
     "name": "stdout",
     "output_type": "stream",
     "text": [
      "{'mae': 0.4323671497584541, 'loss': 20.20067736837599, 'accuracy': 0.5978260869565217}\n"
     ]
    },
    {
     "name": "stderr",
     "output_type": "stream",
     "text": [
      "Training, epoch 0: 100%|██████████| 362/362 [01:29<00:00,  4.04it/s, accuracy=0.417, batch_size=5778, loss=18.4, mae=0.954]\n",
      "100%|██████████| 104/104 [00:08<00:00, 12.44it/s, accuracy=0.498, batch_size=1656, loss=16.6, mae=0.779]\n",
      "Training, epoch 1:   0%|          | 0/362 [00:00<?, ?it/s]"
     ]
    },
    {
     "name": "stdout",
     "output_type": "stream",
     "text": [
      "{'mae': 0.7789855072463768, 'loss': 16.57710732354058, 'accuracy': 0.49818840579710144}\n"
     ]
    },
    {
     "name": "stderr",
     "output_type": "stream",
     "text": [
      "Training, epoch 1: 100%|██████████| 362/362 [01:29<00:00,  4.06it/s, accuracy=0.527, batch_size=5778, loss=15.3, mae=0.681]\n",
      "100%|██████████| 104/104 [00:08<00:00, 12.40it/s, accuracy=0.345, batch_size=1656, loss=25.1, mae=1.1] \n",
      "Training, epoch 2:   0%|          | 0/362 [00:00<?, ?it/s]"
     ]
    },
    {
     "name": "stdout",
     "output_type": "stream",
     "text": [
      "{'mae': 1.1020531400966183, 'loss': 25.087570439214293, 'accuracy': 0.34541062801932365}\n"
     ]
    },
    {
     "name": "stderr",
     "output_type": "stream",
     "text": [
      "Training, epoch 2: 100%|██████████| 362/362 [01:30<00:00,  4.02it/s, accuracy=0.585, batch_size=5778, loss=13.6, mae=0.585]\n",
      "100%|██████████| 104/104 [00:08<00:00, 12.16it/s, accuracy=0.378, batch_size=1656, loss=17.5, mae=0.907]\n",
      "Training, epoch 3:   0%|          | 0/362 [00:00<?, ?it/s]"
     ]
    },
    {
     "name": "stdout",
     "output_type": "stream",
     "text": [
      "{'mae': 0.9070048309178744, 'loss': 17.499755906022113, 'accuracy': 0.3780193236714976}\n"
     ]
    },
    {
     "name": "stderr",
     "output_type": "stream",
     "text": [
      "Training, epoch 3: 100%|██████████| 362/362 [01:29<00:00,  4.02it/s, accuracy=0.639, batch_size=5778, loss=11.9, mae=0.474]\n",
      "100%|██████████| 104/104 [00:08<00:00, 12.31it/s, accuracy=0.143, batch_size=1656, loss=172, mae=1.81] \n",
      "Training, epoch 4:   0%|          | 0/362 [00:00<?, ?it/s]"
     ]
    },
    {
     "name": "stdout",
     "output_type": "stream",
     "text": [
      "{'mae': 1.809782608695652, 'loss': 171.54706306058176, 'accuracy': 0.1431159420289855}\n"
     ]
    },
    {
     "name": "stderr",
     "output_type": "stream",
     "text": [
      "Training, epoch 4: 100%|██████████| 362/362 [01:29<00:00,  4.03it/s, accuracy=0.594, batch_size=5778, loss=13.3, mae=0.556]\n",
      "100%|██████████| 104/104 [00:08<00:00, 12.31it/s, accuracy=0.473, batch_size=1656, loss=29.6, mae=0.889] \n",
      "Training, epoch 5:   0%|          | 0/362 [00:00<?, ?it/s]"
     ]
    },
    {
     "name": "stdout",
     "output_type": "stream",
     "text": [
      "{'mae': 0.8894927536231884, 'loss': 29.5737171334345, 'accuracy': 0.47342995169082125}\n"
     ]
    },
    {
     "name": "stderr",
     "output_type": "stream",
     "text": [
      "Training, epoch 5: 100%|██████████| 362/362 [01:29<00:00,  4.04it/s, accuracy=0.677, batch_size=5778, loss=10.5, mae=0.393]\n",
      "100%|██████████| 104/104 [00:08<00:00, 12.44it/s, accuracy=0.661, batch_size=1656, loss=10.9, mae=0.424]\n",
      "Training, epoch 6:   0%|          | 0/362 [00:00<?, ?it/s]"
     ]
    },
    {
     "name": "stdout",
     "output_type": "stream",
     "text": [
      "{'mae': 0.42391304347826086, 'loss': 10.89802787039015, 'accuracy': 0.6612318840579711}\n"
     ]
    },
    {
     "name": "stderr",
     "output_type": "stream",
     "text": [
      "Training, epoch 6: 100%|██████████| 362/362 [01:29<00:00,  4.04it/s, accuracy=0.711, batch_size=5778, loss=9.54, mae=0.345]\n",
      "100%|██████████| 104/104 [00:08<00:00, 12.48it/s, accuracy=0.595, batch_size=1656, loss=15.2, mae=0.585]\n",
      "Training, epoch 7:   0%|          | 0/362 [00:00<?, ?it/s]"
     ]
    },
    {
     "name": "stdout",
     "output_type": "stream",
     "text": [
      "{'mae': 0.5851449275362319, 'loss': 15.248776680605424, 'accuracy': 0.5948067632850241}\n"
     ]
    },
    {
     "name": "stderr",
     "output_type": "stream",
     "text": [
      "Training, epoch 7: 100%|██████████| 362/362 [01:29<00:00,  4.04it/s, accuracy=0.734, batch_size=5778, loss=8.65, mae=0.305]\n",
      "100%|██████████| 104/104 [00:08<00:00, 12.35it/s, accuracy=0.626, batch_size=1656, loss=12.7, mae=0.47] \n",
      "Training, epoch 8:   0%|          | 0/362 [00:00<?, ?it/s]"
     ]
    },
    {
     "name": "stdout",
     "output_type": "stream",
     "text": [
      "{'mae': 0.46980676328502413, 'loss': 12.748112267342167, 'accuracy': 0.626207729468599}\n"
     ]
    },
    {
     "name": "stderr",
     "output_type": "stream",
     "text": [
      "Training, epoch 8: 100%|██████████| 362/362 [01:29<00:00,  4.04it/s, accuracy=0.758, batch_size=5778, loss=8.02, mae=0.271]\n",
      "100%|██████████| 104/104 [00:08<00:00, 12.41it/s, accuracy=0.658, batch_size=1656, loss=12.7, mae=0.434]\n",
      "Training, epoch 9:   0%|          | 0/362 [00:00<?, ?it/s]"
     ]
    },
    {
     "name": "stdout",
     "output_type": "stream",
     "text": [
      "{'mae': 0.4335748792270531, 'loss': 12.683389566370831, 'accuracy': 0.657608695652174}\n"
     ]
    },
    {
     "name": "stderr",
     "output_type": "stream",
     "text": [
      "Training, epoch 9: 100%|██████████| 362/362 [01:29<00:00,  4.03it/s, accuracy=0.789, batch_size=5778, loss=7.04, mae=0.231]\n",
      "100%|██████████| 104/104 [00:08<00:00, 12.13it/s, accuracy=0.686, batch_size=1656, loss=10.9, mae=0.354]\n",
      "Training, epoch 10:   0%|          | 0/362 [00:00<?, ?it/s]"
     ]
    },
    {
     "name": "stdout",
     "output_type": "stream",
     "text": [
      "{'mae': 0.35446859903381644, 'loss': 10.869172996944851, 'accuracy': 0.6859903381642513}\n"
     ]
    },
    {
     "name": "stderr",
     "output_type": "stream",
     "text": [
      "Training, epoch 10: 100%|██████████| 362/362 [01:29<00:00,  4.03it/s, accuracy=0.821, batch_size=5778, loss=6.09, mae=0.193]\n",
      "100%|██████████| 104/104 [00:08<00:00, 12.20it/s, accuracy=0.686, batch_size=1656, loss=13.6, mae=0.382]\n",
      "Training, epoch 11:   0%|          | 0/362 [00:00<?, ?it/s]"
     ]
    },
    {
     "name": "stdout",
     "output_type": "stream",
     "text": [
      "{'mae': 0.3822463768115942, 'loss': 13.603421774463378, 'accuracy': 0.6859903381642513}\n"
     ]
    },
    {
     "name": "stderr",
     "output_type": "stream",
     "text": [
      "Training, epoch 11: 100%|██████████| 362/362 [01:29<00:00,  4.03it/s, accuracy=0.835, batch_size=5778, loss=5.59, mae=0.175]\n",
      "100%|██████████| 104/104 [00:08<00:00, 12.14it/s, accuracy=0.665, batch_size=1656, loss=13.5, mae=0.39] \n",
      "Training, epoch 12:   0%|          | 0/362 [00:00<?, ?it/s]"
     ]
    },
    {
     "name": "stdout",
     "output_type": "stream",
     "text": [
      "{'mae': 0.39009661835748793, 'loss': 13.490936302908377, 'accuracy': 0.6654589371980676}\n"
     ]
    },
    {
     "name": "stderr",
     "output_type": "stream",
     "text": [
      "Training, epoch 12: 100%|██████████| 362/362 [01:29<00:00,  4.04it/s, accuracy=0.852, batch_size=5778, loss=5.09, mae=0.158]\n",
      "100%|██████████| 104/104 [00:08<00:00, 12.25it/s, accuracy=0.664, batch_size=1656, loss=14.7, mae=0.415]\n",
      "Training, epoch 13:   0%|          | 0/362 [00:00<?, ?it/s]"
     ]
    },
    {
     "name": "stdout",
     "output_type": "stream",
     "text": [
      "{'mae': 0.4148550724637681, 'loss': 14.744574223163623, 'accuracy': 0.663647342995169}\n"
     ]
    },
    {
     "name": "stderr",
     "output_type": "stream",
     "text": [
      "Training, epoch 13: 100%|██████████| 362/362 [01:29<00:00,  4.05it/s, accuracy=0.873, batch_size=5778, loss=4.48, mae=0.134]\n",
      "100%|██████████| 104/104 [00:08<00:00, 12.42it/s, accuracy=0.653, batch_size=1656, loss=14.5, mae=0.443]\n",
      "Training, epoch 14:   0%|          | 0/362 [00:00<?, ?it/s]"
     ]
    },
    {
     "name": "stdout",
     "output_type": "stream",
     "text": [
      "{'mae': 0.44323671497584544, 'loss': 14.511000845167372, 'accuracy': 0.6527777777777778}\n"
     ]
    },
    {
     "name": "stderr",
     "output_type": "stream",
     "text": [
      "Training, epoch 14: 100%|██████████| 362/362 [01:29<00:00,  4.03it/s, accuracy=0.885, batch_size=5778, loss=4.02, mae=0.119]\n",
      "100%|██████████| 104/104 [00:08<00:00, 12.41it/s, accuracy=0.655, batch_size=1656, loss=19.1, mae=0.428]\n",
      "Training, epoch 15:   0%|          | 0/362 [00:00<?, ?it/s]"
     ]
    },
    {
     "name": "stdout",
     "output_type": "stream",
     "text": [
      "{'mae': 0.4281400966183575, 'loss': 19.095395541421457, 'accuracy': 0.6545893719806763}\n"
     ]
    },
    {
     "name": "stderr",
     "output_type": "stream",
     "text": [
      "Training, epoch 15: 100%|██████████| 362/362 [01:29<00:00,  4.05it/s, accuracy=0.912, batch_size=5778, loss=3.24, mae=0.0914]\n",
      "100%|██████████| 104/104 [00:08<00:00, 12.41it/s, accuracy=0.614, batch_size=1656, loss=20.4, mae=0.471]\n",
      "Training, epoch 16:   0%|          | 0/362 [00:00<?, ?it/s]"
     ]
    },
    {
     "name": "stdout",
     "output_type": "stream",
     "text": [
      "{'mae': 0.47101449275362317, 'loss': 20.411709485566558, 'accuracy': 0.6141304347826086}\n"
     ]
    },
    {
     "name": "stderr",
     "output_type": "stream",
     "text": [
      "Training, epoch 16: 100%|██████████| 362/362 [01:29<00:00,  4.05it/s, accuracy=0.926, batch_size=5778, loss=2.71, mae=0.077] \n",
      "100%|██████████| 104/104 [00:08<00:00, 12.30it/s, accuracy=0.667, batch_size=1656, loss=17.1, mae=0.386]\n",
      "Training, epoch 17:   0%|          | 0/362 [00:00<?, ?it/s]"
     ]
    },
    {
     "name": "stdout",
     "output_type": "stream",
     "text": [
      "{'mae': 0.3864734299516908, 'loss': 17.105929463957818, 'accuracy': 0.6672705314009661}\n"
     ]
    },
    {
     "name": "stderr",
     "output_type": "stream",
     "text": [
      "Training, epoch 17: 100%|██████████| 362/362 [01:29<00:00,  4.05it/s, accuracy=0.933, batch_size=5778, loss=2.53, mae=0.0694]\n",
      "100%|██████████| 104/104 [00:08<00:00, 12.42it/s, accuracy=0.68, batch_size=1656, loss=17.6, mae=0.369] \n",
      "Training, epoch 18:   0%|          | 0/362 [00:00<?, ?it/s]"
     ]
    },
    {
     "name": "stdout",
     "output_type": "stream",
     "text": [
      "{'mae': 0.3689613526570048, 'loss': 17.56851815212752, 'accuracy': 0.6799516908212561}\n"
     ]
    },
    {
     "name": "stderr",
     "output_type": "stream",
     "text": [
      "Training, epoch 18: 100%|██████████| 362/362 [01:29<00:00,  4.04it/s, accuracy=0.941, batch_size=5778, loss=2.09, mae=0.0606]\n",
      "100%|██████████| 104/104 [00:08<00:00, 12.39it/s, accuracy=0.418, batch_size=1656, loss=27.9, mae=0.621]\n",
      "Training, epoch 19:   0%|          | 0/362 [00:00<?, ?it/s]"
     ]
    },
    {
     "name": "stdout",
     "output_type": "stream",
     "text": [
      "{'mae': 0.6213768115942029, 'loss': 27.870392223487155, 'accuracy': 0.41847826086956524}\n"
     ]
    },
    {
     "name": "stderr",
     "output_type": "stream",
     "text": [
      "Training, epoch 19: 100%|██████████| 362/362 [01:29<00:00,  4.04it/s, accuracy=0.937, batch_size=5778, loss=2.38, mae=0.0668]\n",
      "100%|██████████| 104/104 [00:08<00:00, 12.42it/s, accuracy=0.665, batch_size=1656, loss=17.8, mae=0.376]\n"
     ]
    },
    {
     "name": "stdout",
     "output_type": "stream",
     "text": [
      "{'mae': 0.3756038647342995, 'loss': 17.816635312377542, 'accuracy': 0.6648550724637681}\n"
     ]
    },
    {
     "name": "stderr",
     "output_type": "stream",
     "text": [
      "Training, epoch 0: 100%|██████████| 181/181 [01:23<00:00,  2.18it/s, accuracy=0.399, batch_size=5778, loss=3.56, mae=0.955]\n",
      "100%|██████████| 52/52 [00:08<00:00,  6.50it/s, accuracy=0.459, batch_size=1656, loss=3.37, mae=0.904]\n",
      "Training, epoch 1:   0%|          | 0/181 [00:00<?, ?it/s]"
     ]
    },
    {
     "name": "stdout",
     "output_type": "stream",
     "text": [
      "{'mae': 0.9039855083981574, 'loss': 3.3679487624606073, 'accuracy': 0.45893719806763283}\n"
     ]
    },
    {
     "name": "stderr",
     "output_type": "stream",
     "text": [
      "Training, epoch 1: 100%|██████████| 181/181 [01:22<00:00,  2.18it/s, accuracy=0.474, batch_size=5778, loss=3.18, mae=0.761]\n",
      "100%|██████████| 52/52 [00:08<00:00,  6.49it/s, accuracy=0.506, batch_size=1656, loss=2.98, mae=0.64] \n",
      "Training, epoch 2:   0%|          | 0/181 [00:00<?, ?it/s]"
     ]
    },
    {
     "name": "stdout",
     "output_type": "stream",
     "text": [
      "{'mae': 0.6400966189333782, 'loss': 2.980728446573451, 'accuracy': 0.5060386473429952}\n"
     ]
    },
    {
     "name": "stderr",
     "output_type": "stream",
     "text": [
      "Training, epoch 2: 100%|██████████| 181/181 [01:22<00:00,  2.18it/s, accuracy=0.519, batch_size=5778, loss=2.97, mae=0.668]\n",
      "100%|██████████| 52/52 [00:08<00:00,  6.46it/s, accuracy=0.56, batch_size=1656, loss=2.77, mae=0.6]   \n",
      "Training, epoch 3:   0%|          | 0/181 [00:00<?, ?it/s]"
     ]
    },
    {
     "name": "stdout",
     "output_type": "stream",
     "text": [
      "{'mae': 0.5996376823112008, 'loss': 2.7664608863240856, 'accuracy': 0.5603864734299517}\n"
     ]
    },
    {
     "name": "stderr",
     "output_type": "stream",
     "text": [
      "Training, epoch 3: 100%|██████████| 181/181 [01:22<00:00,  2.19it/s, accuracy=0.56, batch_size=5778, loss=2.78, mae=0.595] \n",
      "100%|██████████| 52/52 [00:07<00:00,  6.50it/s, accuracy=0.59, batch_size=1656, loss=2.63, mae=0.541] \n",
      "Training, epoch 4:   0%|          | 0/181 [00:00<?, ?it/s]"
     ]
    },
    {
     "name": "stdout",
     "output_type": "stream",
     "text": [
      "{'mae': 0.5410628030841477, 'loss': 2.6300803037081364, 'accuracy': 0.589975845410628}\n"
     ]
    },
    {
     "name": "stderr",
     "output_type": "stream",
     "text": [
      "Training, epoch 4: 100%|██████████| 181/181 [01:22<00:00,  2.19it/s, accuracy=0.589, batch_size=5778, loss=2.64, mae=0.551]\n",
      "100%|██████████| 52/52 [00:08<00:00,  6.45it/s, accuracy=0.623, batch_size=1656, loss=2.5, mae=0.508] \n",
      "Training, epoch 5:   0%|          | 0/181 [00:00<?, ?it/s]"
     ]
    },
    {
     "name": "stdout",
     "output_type": "stream",
     "text": [
      "{'mae': 0.5084541065681384, 'loss': 2.5008286105261908, 'accuracy': 0.6231884057971014}\n"
     ]
    },
    {
     "name": "stderr",
     "output_type": "stream",
     "text": [
      "Training, epoch 5: 100%|██████████| 181/181 [01:22<00:00,  2.18it/s, accuracy=0.611, batch_size=5778, loss=2.46, mae=0.503]\n",
      "100%|██████████| 52/52 [00:07<00:00,  6.51it/s, accuracy=0.573, batch_size=1656, loss=2.63, mae=0.585] \n",
      "Training, epoch 6:   0%|          | 0/181 [00:00<?, ?it/s]"
     ]
    },
    {
     "name": "stdout",
     "output_type": "stream",
     "text": [
      "{'mae': 0.5851449275362319, 'loss': 2.628963634011826, 'accuracy': 0.5730676329942141}\n"
     ]
    },
    {
     "name": "stderr",
     "output_type": "stream",
     "text": [
      "Training, epoch 6: 100%|██████████| 181/181 [01:22<00:00,  2.19it/s, accuracy=0.621, batch_size=5778, loss=2.38, mae=0.489]\n",
      "100%|██████████| 52/52 [00:07<00:00,  6.52it/s, accuracy=0.644, batch_size=1656, loss=2.28, mae=0.452]\n",
      "Training, epoch 7:   0%|          | 0/181 [00:00<?, ?it/s]"
     ]
    },
    {
     "name": "stdout",
     "output_type": "stream",
     "text": [
      "{'mae': 0.4522946859903382, 'loss': 2.2801279054171797, 'accuracy': 0.643719806763285}\n"
     ]
    },
    {
     "name": "stderr",
     "output_type": "stream",
     "text": [
      "Training, epoch 7: 100%|██████████| 181/181 [01:22<00:00,  2.19it/s, accuracy=0.651, batch_size=5778, loss=2.24, mae=0.443]\n",
      "100%|██████████| 52/52 [00:08<00:00,  6.48it/s, accuracy=0.636, batch_size=1656, loss=2.33, mae=0.468]\n",
      "Training, epoch 8:   0%|          | 0/181 [00:00<?, ?it/s]"
     ]
    },
    {
     "name": "stdout",
     "output_type": "stream",
     "text": [
      "{'mae': 0.46799516908212563, 'loss': 2.32709384885963, 'accuracy': 0.6358695657932816}\n"
     ]
    },
    {
     "name": "stderr",
     "output_type": "stream",
     "text": [
      "Training, epoch 8: 100%|██████████| 181/181 [01:19<00:00,  2.27it/s, accuracy=0.655, batch_size=5778, loss=2.21, mae=0.431]\n",
      "100%|██████████| 52/52 [00:07<00:00,  6.83it/s, accuracy=0.623, batch_size=1656, loss=2.36, mae=0.486]\n",
      "Training, epoch 9:   0%|          | 0/181 [00:00<?, ?it/s]"
     ]
    },
    {
     "name": "stdout",
     "output_type": "stream",
     "text": [
      "{'mae': 0.4861111111111111, 'loss': 2.355451442193294, 'accuracy': 0.6231884060850466}\n"
     ]
    },
    {
     "name": "stderr",
     "output_type": "stream",
     "text": [
      "Training, epoch 9: 100%|██████████| 181/181 [01:18<00:00,  2.29it/s, accuracy=0.674, batch_size=5778, loss=2.12, mae=0.406]\n",
      "100%|██████████| 52/52 [00:07<00:00,  6.76it/s, accuracy=0.617, batch_size=1656, loss=2.43, mae=0.501] \n",
      "Training, epoch 10:   0%|          | 0/181 [00:00<?, ?it/s]"
     ]
    },
    {
     "name": "stdout",
     "output_type": "stream",
     "text": [
      "{'mae': 0.5006038650222446, 'loss': 2.425423615220664, 'accuracy': 0.6165458942956971}\n"
     ]
    },
    {
     "name": "stderr",
     "output_type": "stream",
     "text": [
      "Training, epoch 10: 100%|██████████| 181/181 [01:19<00:00,  2.27it/s, accuracy=0.692, batch_size=5778, loss=2, mae=0.375]   \n",
      "100%|██████████| 52/52 [00:07<00:00,  6.69it/s, accuracy=0.658, batch_size=1656, loss=2.23, mae=0.423]\n",
      "Training, epoch 11:   0%|          | 0/181 [00:00<?, ?it/s]"
     ]
    },
    {
     "name": "stdout",
     "output_type": "stream",
     "text": [
      "{'mae': 0.42330917881594765, 'loss': 2.231304966885111, 'accuracy': 0.6582125609623637}\n"
     ]
    },
    {
     "name": "stderr",
     "output_type": "stream",
     "text": [
      "Training, epoch 11: 100%|██████████| 181/181 [01:22<00:00,  2.21it/s, accuracy=0.701, batch_size=5778, loss=1.95, mae=0.358]\n",
      "100%|██████████| 52/52 [00:08<00:00,  6.42it/s, accuracy=0.601, batch_size=1656, loss=2.49, mae=0.504] \n",
      "Training, epoch 12:   0%|          | 0/181 [00:00<?, ?it/s]"
     ]
    },
    {
     "name": "stdout",
     "output_type": "stream",
     "text": [
      "{'mae': 0.5036231884057971, 'loss': 2.4904556660260555, 'accuracy': 0.601449275650264}\n"
     ]
    },
    {
     "name": "stderr",
     "output_type": "stream",
     "text": [
      "Training, epoch 12: 100%|██████████| 181/181 [01:23<00:00,  2.17it/s, accuracy=0.71, batch_size=5778, loss=1.9, mae=0.347]  \n",
      "100%|██████████| 52/52 [00:08<00:00,  6.42it/s, accuracy=0.668, batch_size=1656, loss=2.21, mae=0.402]\n",
      "Training, epoch 13:   0%|          | 0/181 [00:00<?, ?it/s]"
     ]
    },
    {
     "name": "stdout",
     "output_type": "stream",
     "text": [
      "{'mae': 0.40157004830917875, 'loss': 2.2068691990801677, 'accuracy': 0.6684782608695652}\n"
     ]
    },
    {
     "name": "stderr",
     "output_type": "stream",
     "text": [
      "Training, epoch 13: 100%|██████████| 181/181 [01:23<00:00,  2.17it/s, accuracy=0.719, batch_size=5778, loss=1.83, mae=0.33] \n",
      "100%|██████████| 52/52 [00:08<00:00,  6.48it/s, accuracy=0.676, batch_size=1656, loss=2.14, mae=0.394]\n",
      "Training, epoch 14:   0%|          | 0/181 [00:00<?, ?it/s]"
     ]
    },
    {
     "name": "stdout",
     "output_type": "stream",
     "text": [
      "{'mae': 0.39371980676328505, 'loss': 2.1439544682341496, 'accuracy': 0.6763285024154589}\n"
     ]
    },
    {
     "name": "stderr",
     "output_type": "stream",
     "text": [
      "Training, epoch 14: 100%|██████████| 181/181 [01:23<00:00,  2.17it/s, accuracy=0.73, batch_size=5778, loss=1.76, mae=0.314] \n",
      "100%|██████████| 52/52 [00:08<00:00,  6.40it/s, accuracy=0.641, batch_size=1656, loss=2.41, mae=0.454]\n",
      "Training, epoch 15:   0%|          | 0/181 [00:00<?, ?it/s]"
     ]
    },
    {
     "name": "stdout",
     "output_type": "stream",
     "text": [
      "{'mae': 0.45410628022922983, 'loss': 2.410596352268532, 'accuracy': 0.6413043481140321}\n"
     ]
    },
    {
     "name": "stderr",
     "output_type": "stream",
     "text": [
      "Training, epoch 15: 100%|██████████| 181/181 [01:23<00:00,  2.17it/s, accuracy=0.748, batch_size=5778, loss=1.68, mae=0.291]\n",
      "100%|██████████| 52/52 [00:08<00:00,  6.46it/s, accuracy=0.623, batch_size=1656, loss=2.79, mae=0.498] \n",
      "Training, epoch 16:   0%|          | 0/181 [00:00<?, ?it/s]"
     ]
    },
    {
     "name": "stdout",
     "output_type": "stream",
     "text": [
      "{'mae': 0.4975845410628019, 'loss': 2.7941560658855713, 'accuracy': 0.6231884057971014}\n"
     ]
    },
    {
     "name": "stderr",
     "output_type": "stream",
     "text": [
      "Training, epoch 16: 100%|██████████| 181/181 [01:23<00:00,  2.17it/s, accuracy=0.76, batch_size=5778, loss=1.61, mae=0.277] \n",
      "100%|██████████| 52/52 [00:08<00:00,  6.47it/s, accuracy=0.666, batch_size=1656, loss=2.24, mae=0.403]\n",
      "Training, epoch 17:   0%|          | 0/181 [00:00<?, ?it/s]"
     ]
    },
    {
     "name": "stdout",
     "output_type": "stream",
     "text": [
      "{'mae': 0.40338164254807046, 'loss': 2.238724661334125, 'accuracy': 0.6660628022203123}\n"
     ]
    },
    {
     "name": "stderr",
     "output_type": "stream",
     "text": [
      "Training, epoch 17: 100%|██████████| 181/181 [01:23<00:00,  2.17it/s, accuracy=0.769, batch_size=5778, loss=1.55, mae=0.265]\n",
      "100%|██████████| 52/52 [00:08<00:00,  6.46it/s, accuracy=0.665, batch_size=1656, loss=2.29, mae=0.402]\n",
      "Training, epoch 18:   0%|          | 0/181 [00:00<?, ?it/s]"
     ]
    },
    {
     "name": "stdout",
     "output_type": "stream",
     "text": [
      "{'mae': 0.4015700483451719, 'loss': 2.2874915093039543, 'accuracy': 0.6648550727517133}\n"
     ]
    },
    {
     "name": "stderr",
     "output_type": "stream",
     "text": [
      "Training, epoch 18: 100%|██████████| 181/181 [01:23<00:00,  2.18it/s, accuracy=0.778, batch_size=5778, loss=1.5, mae=0.251] \n",
      "100%|██████████| 52/52 [00:08<00:00,  6.47it/s, accuracy=0.664, batch_size=1656, loss=2.37, mae=0.408]\n",
      "Training, epoch 19:   0%|          | 0/181 [00:00<?, ?it/s]"
     ]
    },
    {
     "name": "stdout",
     "output_type": "stream",
     "text": [
      "{'mae': 0.40760869568816704, 'loss': 2.3714753651388603, 'accuracy': 0.6642512080174138}\n"
     ]
    },
    {
     "name": "stderr",
     "output_type": "stream",
     "text": [
      "Training, epoch 19: 100%|██████████| 181/181 [01:23<00:00,  2.18it/s, accuracy=0.789, batch_size=5778, loss=1.45, mae=0.237]\n",
      "100%|██████████| 52/52 [00:08<00:00,  6.46it/s, accuracy=0.673, batch_size=1656, loss=2.34, mae=0.388]\n"
     ]
    },
    {
     "name": "stdout",
     "output_type": "stream",
     "text": [
      "{'mae': 0.38768115942028986, 'loss': 2.336768020178385, 'accuracy': 0.6727053140096618}\n"
     ]
    },
    {
     "name": "stderr",
     "output_type": "stream",
     "text": [
      "Training, epoch 0: 100%|██████████| 181/181 [01:23<00:00,  2.18it/s, accuracy=0.385, batch_size=5778, loss=4.87, mae=0.933]\n",
      "100%|██████████| 52/52 [00:07<00:00,  6.51it/s, accuracy=0.461, batch_size=1656, loss=4.51, mae=0.848]\n",
      "Training, epoch 1:   0%|          | 0/181 [00:00<?, ?it/s]"
     ]
    },
    {
     "name": "stdout",
     "output_type": "stream",
     "text": [
      "{'mae': 0.8478260875324121, 'loss': 4.508897412802286, 'accuracy': 0.4607487922705314}\n"
     ]
    },
    {
     "name": "stderr",
     "output_type": "stream",
     "text": [
      "Training, epoch 1: 100%|██████████| 181/181 [01:22<00:00,  2.18it/s, accuracy=0.458, batch_size=5778, loss=4.34, mae=0.752]\n",
      "100%|██████████| 52/52 [00:07<00:00,  6.50it/s, accuracy=0.498, batch_size=1656, loss=4.4, mae=0.768] \n",
      "Training, epoch 2:   0%|          | 0/181 [00:00<?, ?it/s]"
     ]
    },
    {
     "name": "stdout",
     "output_type": "stream",
     "text": [
      "{'mae': 0.7681159426048758, 'loss': 4.404943097616739, 'accuracy': 0.49818840579710144}\n"
     ]
    },
    {
     "name": "stderr",
     "output_type": "stream",
     "text": [
      "Training, epoch 2: 100%|██████████| 181/181 [01:22<00:00,  2.18it/s, accuracy=0.517, batch_size=5778, loss=4.01, mae=0.653]\n",
      "100%|██████████| 52/52 [00:08<00:00,  6.47it/s, accuracy=0.575, batch_size=1656, loss=3.64, mae=0.559]\n",
      "Training, epoch 3:   0%|          | 0/181 [00:00<?, ?it/s]"
     ]
    },
    {
     "name": "stdout",
     "output_type": "stream",
     "text": [
      "{'mae': 0.5591787445372429, 'loss': 3.6351438098483615, 'accuracy': 0.5748792270531401}\n"
     ]
    },
    {
     "name": "stderr",
     "output_type": "stream",
     "text": [
      "Training, epoch 3: 100%|██████████| 181/181 [01:22<00:00,  2.18it/s, accuracy=0.556, batch_size=5778, loss=3.71, mae=0.583]\n",
      "100%|██████████| 52/52 [00:08<00:00,  6.50it/s, accuracy=0.606, batch_size=1656, loss=3.41, mae=0.502]\n",
      "Training, epoch 4:   0%|          | 0/181 [00:00<?, ?it/s]"
     ]
    },
    {
     "name": "stdout",
     "output_type": "stream",
     "text": [
      "{'mae': 0.5024154592251432, 'loss': 3.405199580722385, 'accuracy': 0.6062801933806875}\n"
     ]
    },
    {
     "name": "stderr",
     "output_type": "stream",
     "text": [
      "Training, epoch 4: 100%|██████████| 181/181 [01:22<00:00,  2.18it/s, accuracy=0.59, batch_size=5778, loss=3.46, mae=0.524] \n",
      "100%|██████████| 52/52 [00:07<00:00,  6.51it/s, accuracy=0.582, batch_size=1656, loss=3.48, mae=0.531]\n",
      "Training, epoch 5:   0%|          | 0/181 [00:00<?, ?it/s]"
     ]
    },
    {
     "name": "stdout",
     "output_type": "stream",
     "text": [
      "{'mae': 0.53140096647152, 'loss': 3.478175794444798, 'accuracy': 0.5815217391664279}\n"
     ]
    },
    {
     "name": "stderr",
     "output_type": "stream",
     "text": [
      "Training, epoch 5: 100%|██████████| 181/181 [01:22<00:00,  2.19it/s, accuracy=0.621, batch_size=5778, loss=3.24, mae=0.477]\n",
      "100%|██████████| 52/52 [00:08<00:00,  6.47it/s, accuracy=0.638, batch_size=1656, loss=3.11, mae=0.453]\n",
      "Training, epoch 6:   0%|          | 0/181 [00:00<?, ?it/s]"
     ]
    },
    {
     "name": "stdout",
     "output_type": "stream",
     "text": [
      "{'mae': 0.4528985510125828, 'loss': 3.1098883589684676, 'accuracy': 0.6382850241545893}\n"
     ]
    },
    {
     "name": "stderr",
     "output_type": "stream",
     "text": [
      "Training, epoch 6: 100%|██████████| 181/181 [01:21<00:00,  2.22it/s, accuracy=0.644, batch_size=5778, loss=3.03, mae=0.436]\n",
      "100%|██████████| 52/52 [00:07<00:00,  6.80it/s, accuracy=0.636, batch_size=1656, loss=3.17, mae=0.463]\n",
      "Training, epoch 7:   0%|          | 0/181 [00:00<?, ?it/s]"
     ]
    },
    {
     "name": "stdout",
     "output_type": "stream",
     "text": [
      "{'mae': 0.463164251351702, 'loss': 3.169990989896986, 'accuracy': 0.6358695655053365}\n"
     ]
    },
    {
     "name": "stderr",
     "output_type": "stream",
     "text": [
      "Training, epoch 7: 100%|██████████| 181/181 [01:18<00:00,  2.29it/s, accuracy=0.663, batch_size=5778, loss=2.9, mae=0.409] \n",
      "100%|██████████| 52/52 [00:07<00:00,  6.74it/s, accuracy=0.655, batch_size=1656, loss=3, mae=0.425]   \n",
      "Training, epoch 8:   0%|          | 0/181 [00:00<?, ?it/s]"
     ]
    },
    {
     "name": "stdout",
     "output_type": "stream",
     "text": [
      "{'mae': 0.42451690850050555, 'loss': 2.9952105347085114, 'accuracy': 0.6545893725565666}\n"
     ]
    },
    {
     "name": "stderr",
     "output_type": "stream",
     "text": [
      "Training, epoch 8: 100%|██████████| 181/181 [01:19<00:00,  2.28it/s, accuracy=0.683, batch_size=5778, loss=2.74, mae=0.375]\n",
      "100%|██████████| 52/52 [00:07<00:00,  6.76it/s, accuracy=0.668, batch_size=1656, loss=2.87, mae=0.397]\n",
      "Training, epoch 9:   0%|          | 0/181 [00:00<?, ?it/s]"
     ]
    },
    {
     "name": "stdout",
     "output_type": "stream",
     "text": [
      "{'mae': 0.3973429952410684, 'loss': 2.8703862192550145, 'accuracy': 0.6684782614454555}\n"
     ]
    },
    {
     "name": "stderr",
     "output_type": "stream",
     "text": [
      "Training, epoch 9: 100%|██████████| 181/181 [01:20<00:00,  2.24it/s, accuracy=0.692, batch_size=5778, loss=2.67, mae=0.363]\n",
      "100%|██████████| 52/52 [00:07<00:00,  6.54it/s, accuracy=0.649, batch_size=1656, loss=2.93, mae=0.406]\n",
      "Training, epoch 10:   0%|          | 0/181 [00:00<?, ?it/s]"
     ]
    },
    {
     "name": "stdout",
     "output_type": "stream",
     "text": [
      "{'mae': 0.40640096618357485, 'loss': 2.9324075450067935, 'accuracy': 0.6491545893719807}\n"
     ]
    },
    {
     "name": "stderr",
     "output_type": "stream",
     "text": [
      "Training, epoch 10: 100%|██████████| 181/181 [01:23<00:00,  2.17it/s, accuracy=0.709, batch_size=5778, loss=2.5, mae=0.335] \n",
      "100%|██████████| 52/52 [00:08<00:00,  6.48it/s, accuracy=0.684, batch_size=1656, loss=2.9, mae=0.391] \n",
      "Training, epoch 11:   0%|          | 0/181 [00:00<?, ?it/s]"
     ]
    },
    {
     "name": "stdout",
     "output_type": "stream",
     "text": [
      "{'mae': 0.3913043478980732, 'loss': 2.8997696949088057, 'accuracy': 0.6841787445372429}\n"
     ]
    },
    {
     "name": "stderr",
     "output_type": "stream",
     "text": [
      "Training, epoch 11: 100%|██████████| 181/181 [01:23<00:00,  2.17it/s, accuracy=0.719, batch_size=5778, loss=2.43, mae=0.325]\n",
      "100%|██████████| 52/52 [00:07<00:00,  6.50it/s, accuracy=0.679, batch_size=1656, loss=2.8, mae=0.383] \n",
      "Training, epoch 12:   0%|          | 0/181 [00:00<?, ?it/s]"
     ]
    },
    {
     "name": "stdout",
     "output_type": "stream",
     "text": [
      "{'mae': 0.3828502416898663, 'loss': 2.796245678611424, 'accuracy': 0.6793478263749017}\n"
     ]
    },
    {
     "name": "stderr",
     "output_type": "stream",
     "text": [
      "Training, epoch 12: 100%|██████████| 181/181 [01:22<00:00,  2.19it/s, accuracy=0.729, batch_size=5778, loss=2.33, mae=0.312]\n",
      "100%|██████████| 52/52 [00:08<00:00,  6.45it/s, accuracy=0.674, batch_size=1656, loss=2.84, mae=0.383]\n",
      "Training, epoch 13:   0%|          | 0/181 [00:00<?, ?it/s]"
     ]
    },
    {
     "name": "stdout",
     "output_type": "stream",
     "text": [
      "{'mae': 0.3828502416898663, 'loss': 2.840566437025577, 'accuracy': 0.673913043766206}\n"
     ]
    },
    {
     "name": "stderr",
     "output_type": "stream",
     "text": [
      "Training, epoch 13: 100%|██████████| 181/181 [01:23<00:00,  2.18it/s, accuracy=0.758, batch_size=5778, loss=2.17, mae=0.276]\n",
      "100%|██████████| 52/52 [00:07<00:00,  6.54it/s, accuracy=0.662, batch_size=1656, loss=2.81, mae=0.384]\n",
      "Training, epoch 14:   0%|          | 0/181 [00:00<?, ?it/s]"
     ]
    },
    {
     "name": "stdout",
     "output_type": "stream",
     "text": [
      "{'mae': 0.3840579713024379, 'loss': 2.808665289395097, 'accuracy': 0.6624396141024603}\n"
     ]
    },
    {
     "name": "stderr",
     "output_type": "stream",
     "text": [
      "Training, epoch 14: 100%|██████████| 181/181 [01:23<00:00,  2.18it/s, accuracy=0.762, batch_size=5778, loss=2.12, mae=0.27] \n",
      "100%|██████████| 52/52 [00:08<00:00,  6.46it/s, accuracy=0.62, batch_size=1656, loss=3.26, mae=0.446] \n",
      "Training, epoch 15:   0%|          | 0/181 [00:00<?, ?it/s]"
     ]
    },
    {
     "name": "stdout",
     "output_type": "stream",
     "text": [
      "{'mae': 0.44565217391304346, 'loss': 3.258017348782452, 'accuracy': 0.6201690821256038}\n"
     ]
    },
    {
     "name": "stderr",
     "output_type": "stream",
     "text": [
      "Training, epoch 15: 100%|██████████| 181/181 [01:22<00:00,  2.18it/s, accuracy=0.783, batch_size=5778, loss=1.99, mae=0.243]\n",
      "100%|██████████| 52/52 [00:07<00:00,  6.52it/s, accuracy=0.641, batch_size=1656, loss=3.52, mae=0.449] \n",
      "Training, epoch 16:   0%|          | 0/181 [00:00<?, ?it/s]"
     ]
    },
    {
     "name": "stdout",
     "output_type": "stream",
     "text": [
      "{'mae': 0.44927536246281313, 'loss': 3.523239548655524, 'accuracy': 0.6407004833797326}\n"
     ]
    },
    {
     "name": "stderr",
     "output_type": "stream",
     "text": [
      "Training, epoch 16: 100%|██████████| 181/181 [01:23<00:00,  2.18it/s, accuracy=0.793, batch_size=5778, loss=1.88, mae=0.231]\n",
      "100%|██████████| 52/52 [00:08<00:00,  6.47it/s, accuracy=0.676, batch_size=1656, loss=3.1, mae=0.384] \n",
      "Training, epoch 17:   0%|          | 0/181 [00:00<?, ?it/s]"
     ]
    },
    {
     "name": "stdout",
     "output_type": "stream",
     "text": [
      "{'mae': 0.38405797108647904, 'loss': 3.104606280580235, 'accuracy': 0.6757246382570498}\n"
     ]
    },
    {
     "name": "stderr",
     "output_type": "stream",
     "text": [
      "Training, epoch 17: 100%|██████████| 181/181 [01:22<00:00,  2.18it/s, accuracy=0.8, batch_size=5778, loss=1.83, mae=0.219]  \n",
      "100%|██████████| 52/52 [00:08<00:00,  6.45it/s, accuracy=0.519, batch_size=1656, loss=4.93, mae=0.612] \n",
      "Training, epoch 18:   0%|          | 0/181 [00:00<?, ?it/s]"
     ]
    },
    {
     "name": "stdout",
     "output_type": "stream",
     "text": [
      "{'mae': 0.6123188408676553, 'loss': 4.932623042576555, 'accuracy': 0.5193236717855297}\n"
     ]
    },
    {
     "name": "stderr",
     "output_type": "stream",
     "text": [
      "Training, epoch 18: 100%|██████████| 181/181 [01:22<00:00,  2.19it/s, accuracy=0.808, batch_size=5778, loss=1.76, mae=0.21] \n",
      "100%|██████████| 52/52 [00:07<00:00,  6.51it/s, accuracy=0.665, batch_size=1656, loss=3.25, mae=0.395]\n",
      "Training, epoch 19:   0%|          | 0/181 [00:00<?, ?it/s]"
     ]
    },
    {
     "name": "stdout",
     "output_type": "stream",
     "text": [
      "{'mae': 0.39492753637585665, 'loss': 3.2461470163962693, 'accuracy': 0.6654589374860128}\n"
     ]
    },
    {
     "name": "stderr",
     "output_type": "stream",
     "text": [
      "Training, epoch 19: 100%|██████████| 181/181 [01:23<00:00,  2.17it/s, accuracy=0.817, batch_size=5778, loss=1.67, mae=0.202]\n",
      "100%|██████████| 52/52 [00:07<00:00,  6.53it/s, accuracy=0.544, batch_size=1656, loss=4.84, mae=0.566]\n"
     ]
    },
    {
     "name": "stdout",
     "output_type": "stream",
     "text": [
      "{'mae': 0.566425121060892, 'loss': 4.843526141079152, 'accuracy': 0.544082126179755}\n"
     ]
    },
    {
     "name": "stderr",
     "output_type": "stream",
     "text": [
      "Training, epoch 0: 100%|██████████| 181/181 [01:23<00:00,  2.18it/s, accuracy=0.381, batch_size=5778, loss=6.18, mae=0.919]\n",
      "100%|██████████| 52/52 [00:08<00:00,  6.49it/s, accuracy=0.426, batch_size=1656, loss=5.64, mae=0.743]\n",
      "Training, epoch 1:   0%|          | 0/181 [00:00<?, ?it/s]"
     ]
    },
    {
     "name": "stdout",
     "output_type": "stream",
     "text": [
      "{'mae': 0.7427536243401863, 'loss': 5.642731634315085, 'accuracy': 0.42632850241545894}\n"
     ]
    },
    {
     "name": "stderr",
     "output_type": "stream",
     "text": [
      "Training, epoch 1: 100%|██████████| 181/181 [01:23<00:00,  2.18it/s, accuracy=0.459, batch_size=5778, loss=5.41, mae=0.728]\n",
      "100%|██████████| 52/52 [00:08<00:00,  6.40it/s, accuracy=0.537, batch_size=1656, loss=4.99, mae=0.658]\n",
      "Training, epoch 2:   0%|          | 0/181 [00:00<?, ?it/s]"
     ]
    },
    {
     "name": "stdout",
     "output_type": "stream",
     "text": [
      "{'mae': 0.657608695652174, 'loss': 4.986447689037968, 'accuracy': 0.5368357487922706}\n"
     ]
    },
    {
     "name": "stderr",
     "output_type": "stream",
     "text": [
      "Training, epoch 2: 100%|██████████| 181/181 [01:22<00:00,  2.18it/s, accuracy=0.534, batch_size=5778, loss=4.85, mae=0.615]\n",
      "100%|██████████| 52/52 [00:07<00:00,  6.51it/s, accuracy=0.524, batch_size=1656, loss=5.46, mae=0.712]\n",
      "Training, epoch 3:   0%|          | 0/181 [00:00<?, ?it/s]"
     ]
    },
    {
     "name": "stdout",
     "output_type": "stream",
     "text": [
      "{'mae': 0.711956522890911, 'loss': 5.4620454737529665, 'accuracy': 0.5241545893719807}\n"
     ]
    },
    {
     "name": "stderr",
     "output_type": "stream",
     "text": [
      "Training, epoch 3: 100%|██████████| 181/181 [01:21<00:00,  2.22it/s, accuracy=0.572, batch_size=5778, loss=4.48, mae=0.552]\n",
      "100%|██████████| 52/52 [00:07<00:00,  6.81it/s, accuracy=0.591, batch_size=1656, loss=4.39, mae=0.551]\n",
      "Training, epoch 4:   0%|          | 0/181 [00:00<?, ?it/s]"
     ]
    },
    {
     "name": "stdout",
     "output_type": "stream",
     "text": [
      "{'mae': 0.5513285024154589, 'loss': 4.389966893311284, 'accuracy': 0.5905797102889001}\n"
     ]
    },
    {
     "name": "stderr",
     "output_type": "stream",
     "text": [
      "Training, epoch 4: 100%|██████████| 181/181 [01:18<00:00,  2.29it/s, accuracy=0.601, batch_size=5778, loss=4.23, mae=0.501]\n",
      "100%|██████████| 52/52 [00:07<00:00,  6.80it/s, accuracy=0.617, batch_size=1656, loss=4.11, mae=0.484]\n",
      "Training, epoch 5:   0%|          | 0/181 [00:00<?, ?it/s]"
     ]
    },
    {
     "name": "stdout",
     "output_type": "stream",
     "text": [
      "{'mae': 0.483695652173913, 'loss': 4.111146295704128, 'accuracy': 0.616545894007752}\n"
     ]
    },
    {
     "name": "stderr",
     "output_type": "stream",
     "text": [
      "Training, epoch 5: 100%|██████████| 181/181 [01:19<00:00,  2.28it/s, accuracy=0.632, batch_size=5778, loss=3.92, mae=0.454]\n",
      "100%|██████████| 52/52 [00:07<00:00,  6.69it/s, accuracy=0.627, batch_size=1656, loss=3.99, mae=0.478]\n",
      "Training, epoch 6:   0%|          | 0/181 [00:00<?, ?it/s]"
     ]
    },
    {
     "name": "stdout",
     "output_type": "stream",
     "text": [
      "{'mae': 0.4776570048309179, 'loss': 3.9879706562429234, 'accuracy': 0.6268115942028986}\n"
     ]
    },
    {
     "name": "stderr",
     "output_type": "stream",
     "text": [
      "Training, epoch 6: 100%|██████████| 181/181 [01:21<00:00,  2.23it/s, accuracy=0.654, batch_size=5778, loss=3.68, mae=0.418]\n",
      "100%|██████████| 52/52 [00:07<00:00,  6.52it/s, accuracy=0.655, batch_size=1656, loss=3.71, mae=0.412]\n",
      "Training, epoch 7:   0%|          | 0/181 [00:00<?, ?it/s]"
     ]
    },
    {
     "name": "stdout",
     "output_type": "stream",
     "text": [
      "{'mae': 0.4124396136705426, 'loss': 3.712808977578573, 'accuracy': 0.6545893719806763}\n"
     ]
    },
    {
     "name": "stderr",
     "output_type": "stream",
     "text": [
      "Training, epoch 7: 100%|██████████| 181/181 [01:23<00:00,  2.17it/s, accuracy=0.672, batch_size=5778, loss=3.5, mae=0.389] \n",
      "100%|██████████| 52/52 [00:08<00:00,  6.42it/s, accuracy=0.647, batch_size=1656, loss=3.83, mae=0.421]\n",
      "Training, epoch 8:   0%|          | 0/181 [00:00<?, ?it/s]"
     ]
    },
    {
     "name": "stdout",
     "output_type": "stream",
     "text": [
      "{'mae': 0.4214975845410628, 'loss': 3.8289056244679696, 'accuracy': 0.6467391304347826}\n"
     ]
    },
    {
     "name": "stderr",
     "output_type": "stream",
     "text": [
      "Training, epoch 8: 100%|██████████| 181/181 [01:23<00:00,  2.17it/s, accuracy=0.691, batch_size=5778, loss=3.29, mae=0.359]\n",
      "100%|██████████| 52/52 [00:08<00:00,  6.47it/s, accuracy=0.675, batch_size=1656, loss=3.65, mae=0.401]\n",
      "Training, epoch 9:   0%|          | 0/181 [00:00<?, ?it/s]"
     ]
    },
    {
     "name": "stdout",
     "output_type": "stream",
     "text": [
      "{'mae': 0.40096618357487923, 'loss': 3.64589500254479, 'accuracy': 0.6751207729468599}\n"
     ]
    },
    {
     "name": "stderr",
     "output_type": "stream",
     "text": [
      "Training, epoch 9: 100%|██████████| 181/181 [01:23<00:00,  2.17it/s, accuracy=0.709, batch_size=5778, loss=3.11, mae=0.333]\n",
      "100%|██████████| 52/52 [00:08<00:00,  6.47it/s, accuracy=0.642, batch_size=1656, loss=3.81, mae=0.412]\n",
      "Training, epoch 10:   0%|          | 0/181 [00:00<?, ?it/s]"
     ]
    },
    {
     "name": "stdout",
     "output_type": "stream",
     "text": [
      "{'mae': 0.4124396136705426, 'loss': 3.814715133197066, 'accuracy': 0.6419082128483317}\n"
     ]
    },
    {
     "name": "stderr",
     "output_type": "stream",
     "text": [
      "Training, epoch 10: 100%|██████████| 181/181 [01:23<00:00,  2.18it/s, accuracy=0.729, batch_size=5778, loss=2.95, mae=0.309]\n",
      "100%|██████████| 52/52 [00:08<00:00,  6.50it/s, accuracy=0.658, batch_size=1656, loss=3.79, mae=0.4]  \n",
      "Training, epoch 11:   0%|          | 0/181 [00:00<?, ?it/s]"
     ]
    },
    {
     "name": "stdout",
     "output_type": "stream",
     "text": [
      "{'mae': 0.3997584541062802, 'loss': 3.7885011120694845, 'accuracy': 0.657608695652174}\n"
     ]
    },
    {
     "name": "stderr",
     "output_type": "stream",
     "text": [
      "Training, epoch 11: 100%|██████████| 181/181 [01:22<00:00,  2.19it/s, accuracy=0.741, batch_size=5778, loss=2.82, mae=0.294]\n",
      "100%|██████████| 52/52 [00:08<00:00,  6.47it/s, accuracy=0.682, batch_size=1656, loss=3.69, mae=0.376]\n",
      "Training, epoch 12:   0%|          | 0/181 [00:00<?, ?it/s]"
     ]
    },
    {
     "name": "stdout",
     "output_type": "stream",
     "text": [
      "{'mae': 0.3756038648782721, 'loss': 3.687785269557566, 'accuracy': 0.6817632853120997}\n"
     ]
    },
    {
     "name": "stderr",
     "output_type": "stream",
     "text": [
      "Training, epoch 12: 100%|██████████| 181/181 [01:23<00:00,  2.18it/s, accuracy=0.759, batch_size=5778, loss=2.66, mae=0.27] \n",
      "100%|██████████| 52/52 [00:08<00:00,  6.49it/s, accuracy=0.667, batch_size=1656, loss=3.68, mae=0.394]\n",
      "Training, epoch 13:   0%|          | 0/181 [00:00<?, ?it/s]"
     ]
    },
    {
     "name": "stdout",
     "output_type": "stream",
     "text": [
      "{'mae': 0.39371980679927815, 'loss': 3.677018870766036, 'accuracy': 0.6666666669546119}\n"
     ]
    },
    {
     "name": "stderr",
     "output_type": "stream",
     "text": [
      "Training, epoch 13: 100%|██████████| 181/181 [01:23<00:00,  2.18it/s, accuracy=0.773, batch_size=5778, loss=2.53, mae=0.253]\n",
      "100%|██████████| 52/52 [00:08<00:00,  6.47it/s, accuracy=0.674, batch_size=1656, loss=3.8, mae=0.385] \n",
      "Training, epoch 14:   0%|          | 0/181 [00:00<?, ?it/s]"
     ]
    },
    {
     "name": "stdout",
     "output_type": "stream",
     "text": [
      "{'mae': 0.38466183574879226, 'loss': 3.7983081306236377, 'accuracy': 0.6739130434782609}\n"
     ]
    },
    {
     "name": "stderr",
     "output_type": "stream",
     "text": [
      "Training, epoch 14: 100%|██████████| 181/181 [01:22<00:00,  2.18it/s, accuracy=0.789, batch_size=5778, loss=2.38, mae=0.235]\n",
      "100%|██████████| 52/52 [00:07<00:00,  6.52it/s, accuracy=0.635, batch_size=1656, loss=4.83, mae=0.464] \n",
      "Training, epoch 15:   0%|          | 0/181 [00:00<?, ?it/s]"
     ]
    },
    {
     "name": "stdout",
     "output_type": "stream",
     "text": [
      "{'mae': 0.46437198074831476, 'loss': 4.834165243134982, 'accuracy': 0.6352657010589821}\n"
     ]
    },
    {
     "name": "stderr",
     "output_type": "stream",
     "text": [
      "Training, epoch 15: 100%|██████████| 181/181 [01:22<00:00,  2.19it/s, accuracy=0.797, batch_size=5778, loss=2.27, mae=0.222]\n",
      "100%|██████████| 52/52 [00:07<00:00,  6.51it/s, accuracy=0.562, batch_size=1656, loss=5.29, mae=0.527] \n",
      "Training, epoch 16:   0%|          | 0/181 [00:00<?, ?it/s]"
     ]
    },
    {
     "name": "stdout",
     "output_type": "stream",
     "text": [
      "{'mae': 0.5271739130434783, 'loss': 5.289773011553114, 'accuracy': 0.5621980676328503}\n"
     ]
    },
    {
     "name": "stderr",
     "output_type": "stream",
     "text": [
      "Training, epoch 16: 100%|██████████| 181/181 [01:22<00:00,  2.19it/s, accuracy=0.817, batch_size=5778, loss=2.07, mae=0.196]\n",
      "100%|██████████| 52/52 [00:07<00:00,  6.50it/s, accuracy=0.667, batch_size=1656, loss=4.11, mae=0.388]\n",
      "Training, epoch 17:   0%|          | 0/181 [00:00<?, ?it/s]"
     ]
    },
    {
     "name": "stdout",
     "output_type": "stream",
     "text": [
      "{'mae': 0.3882850241545894, 'loss': 4.109522788420968, 'accuracy': 0.6666666666666666}\n"
     ]
    },
    {
     "name": "stderr",
     "output_type": "stream",
     "text": [
      "Training, epoch 17: 100%|██████████| 181/181 [01:22<00:00,  2.18it/s, accuracy=0.825, batch_size=5778, loss=1.98, mae=0.19] \n",
      "100%|██████████| 52/52 [00:07<00:00,  6.50it/s, accuracy=0.667, batch_size=1656, loss=3.98, mae=0.39] \n",
      "Training, epoch 18:   0%|          | 0/181 [00:00<?, ?it/s]"
     ]
    },
    {
     "name": "stdout",
     "output_type": "stream",
     "text": [
      "{'mae': 0.39009661835748793, 'loss': 3.978391662887905, 'accuracy': 0.6672705314009661}\n"
     ]
    },
    {
     "name": "stderr",
     "output_type": "stream",
     "text": [
      "Training, epoch 18: 100%|██████████| 181/181 [01:22<00:00,  2.19it/s, accuracy=0.839, batch_size=5778, loss=1.85, mae=0.173]\n",
      "100%|██████████| 52/52 [00:07<00:00,  6.50it/s, accuracy=0.662, batch_size=1656, loss=4.34, mae=0.395]\n",
      "Training, epoch 19:   0%|          | 0/181 [00:00<?, ?it/s]"
     ]
    },
    {
     "name": "stdout",
     "output_type": "stream",
     "text": [
      "{'mae': 0.39492753630387034, 'loss': 4.342041479792572, 'accuracy': 0.6624396141024603}\n"
     ]
    },
    {
     "name": "stderr",
     "output_type": "stream",
     "text": [
      "Training, epoch 19: 100%|██████████| 181/181 [01:23<00:00,  2.18it/s, accuracy=0.846, batch_size=5778, loss=1.82, mae=0.165]\n",
      "100%|██████████| 52/52 [00:07<00:00,  6.52it/s, accuracy=0.648, batch_size=1656, loss=5.02, mae=0.433]\n"
     ]
    },
    {
     "name": "stdout",
     "output_type": "stream",
     "text": [
      "{'mae': 0.4329710144927536, 'loss': 5.021328412968179, 'accuracy': 0.6479468599033816}\n"
     ]
    },
    {
     "name": "stderr",
     "output_type": "stream",
     "text": [
      "Training, epoch 0: 100%|██████████| 181/181 [01:23<00:00,  2.18it/s, accuracy=0.417, batch_size=5778, loss=8.92, mae=0.966]\n",
      "100%|██████████| 52/52 [00:08<00:00,  6.40it/s, accuracy=0.502, batch_size=1656, loss=7.8, mae=0.721] \n",
      "Training, epoch 1:   0%|          | 0/181 [00:00<?, ?it/s]"
     ]
    },
    {
     "name": "stdout",
     "output_type": "stream",
     "text": [
      "{'mae': 0.7210144939054037, 'loss': 7.797509575811561, 'accuracy': 0.5018115942028986}\n"
     ]
    },
    {
     "name": "stderr",
     "output_type": "stream",
     "text": [
      "Training, epoch 1: 100%|██████████| 181/181 [01:23<00:00,  2.18it/s, accuracy=0.501, batch_size=5778, loss=7.69, mae=0.731]\n",
      "100%|██████████| 52/52 [00:08<00:00,  6.48it/s, accuracy=0.579, batch_size=1656, loss=6.76, mae=0.591]\n",
      "Training, epoch 2:   0%|          | 0/181 [00:00<?, ?it/s]"
     ]
    },
    {
     "name": "stdout",
     "output_type": "stream",
     "text": [
      "{'mae': 0.5911835760310076, 'loss': 6.756518147417888, 'accuracy': 0.5791062801932367}\n"
     ]
    },
    {
     "name": "stderr",
     "output_type": "stream",
     "text": [
      "Training, epoch 2: 100%|██████████| 181/181 [01:23<00:00,  2.18it/s, accuracy=0.573, batch_size=5778, loss=6.81, mae=0.605]\n",
      "100%|██████████| 52/52 [00:07<00:00,  6.67it/s, accuracy=0.566, batch_size=1656, loss=6.77, mae=0.651]\n",
      "Training, epoch 3:   0%|          | 0/181 [00:00<?, ?it/s]"
     ]
    },
    {
     "name": "stdout",
     "output_type": "stream",
     "text": [
      "{'mae': 0.6509661837188518, 'loss': 6.769109163883227, 'accuracy': 0.5664251213488372}\n"
     ]
    },
    {
     "name": "stderr",
     "output_type": "stream",
     "text": [
      "Training, epoch 3: 100%|██████████| 181/181 [01:19<00:00,  2.29it/s, accuracy=0.616, batch_size=5778, loss=6.18, mae=0.519]\n",
      "100%|██████████| 52/52 [00:07<00:00,  6.84it/s, accuracy=0.648, batch_size=1656, loss=5.65, mae=0.454]\n",
      "Training, epoch 4:   0%|          | 0/181 [00:00<?, ?it/s]"
     ]
    },
    {
     "name": "stdout",
     "output_type": "stream",
     "text": [
      "{'mae': 0.4535024154589372, 'loss': 5.652106298916582, 'accuracy': 0.6479468599033816}\n"
     ]
    },
    {
     "name": "stderr",
     "output_type": "stream",
     "text": [
      "Training, epoch 4: 100%|██████████| 181/181 [01:18<00:00,  2.30it/s, accuracy=0.641, batch_size=5778, loss=5.73, mae=0.474]\n",
      "100%|██████████| 52/52 [00:07<00:00,  6.84it/s, accuracy=0.614, batch_size=1656, loss=5.75, mae=0.447]\n",
      "Training, epoch 5:   0%|          | 0/181 [00:00<?, ?it/s]"
     ]
    },
    {
     "name": "stdout",
     "output_type": "stream",
     "text": [
      "{'mae': 0.4474637682599146, 'loss': 5.751288116842076, 'accuracy': 0.6135265703362544}\n"
     ]
    },
    {
     "name": "stderr",
     "output_type": "stream",
     "text": [
      "Training, epoch 5: 100%|██████████| 181/181 [01:18<00:00,  2.30it/s, accuracy=0.669, batch_size=5778, loss=5.26, mae=0.421]\n",
      "100%|██████████| 52/52 [00:07<00:00,  6.81it/s, accuracy=0.652, batch_size=1656, loss=5.47, mae=0.45] \n",
      "Training, epoch 6:   0%|          | 0/181 [00:00<?, ?it/s]"
     ]
    },
    {
     "name": "stdout",
     "output_type": "stream",
     "text": [
      "{'mae': 0.44987922719711265, 'loss': 5.465144016892438, 'accuracy': 0.6521739133314234}\n"
     ]
    },
    {
     "name": "stderr",
     "output_type": "stream",
     "text": [
      "Training, epoch 6: 100%|██████████| 181/181 [01:19<00:00,  2.28it/s, accuracy=0.692, batch_size=5778, loss=4.96, mae=0.38] \n",
      "100%|██████████| 52/52 [00:07<00:00,  6.65it/s, accuracy=0.662, batch_size=1656, loss=5.4, mae=0.436] \n",
      "Training, epoch 7:   0%|          | 0/181 [00:00<?, ?it/s]"
     ]
    },
    {
     "name": "stdout",
     "output_type": "stream",
     "text": [
      "{'mae': 0.43599033830822376, 'loss': 5.397599798469728, 'accuracy': 0.6618357490802157}\n"
     ]
    },
    {
     "name": "stderr",
     "output_type": "stream",
     "text": [
      "Training, epoch 7: 100%|██████████| 181/181 [01:21<00:00,  2.21it/s, accuracy=0.71, batch_size=5778, loss=4.66, mae=0.353] \n",
      "100%|██████████| 52/52 [00:08<00:00,  6.48it/s, accuracy=0.684, batch_size=1656, loss=5.09, mae=0.395]\n",
      "Training, epoch 8:   0%|          | 0/181 [00:00<?, ?it/s]"
     ]
    },
    {
     "name": "stdout",
     "output_type": "stream",
     "text": [
      "{'mae': 0.39492753623188404, 'loss': 5.093367163109894, 'accuracy': 0.6841787439613527}\n"
     ]
    },
    {
     "name": "stderr",
     "output_type": "stream",
     "text": [
      "Training, epoch 8: 100%|██████████| 181/181 [01:23<00:00,  2.18it/s, accuracy=0.726, batch_size=5778, loss=4.42, mae=0.332]\n",
      "100%|██████████| 52/52 [00:08<00:00,  6.50it/s, accuracy=0.64, batch_size=1656, loss=6.18, mae=0.486] \n",
      "Training, epoch 9:   0%|          | 0/181 [00:00<?, ?it/s]"
     ]
    },
    {
     "name": "stdout",
     "output_type": "stream",
     "text": [
      "{'mae': 0.48550724641280474, 'loss': 6.177475844028491, 'accuracy': 0.6400966186454331}\n"
     ]
    },
    {
     "name": "stderr",
     "output_type": "stream",
     "text": [
      "Training, epoch 9: 100%|██████████| 181/181 [01:23<00:00,  2.17it/s, accuracy=0.741, batch_size=5778, loss=4.22, mae=0.307]\n",
      "100%|██████████| 52/52 [00:07<00:00,  6.53it/s, accuracy=0.651, batch_size=1656, loss=5.8, mae=0.446] \n",
      "Training, epoch 10:   0%|          | 0/181 [00:00<?, ?it/s]"
     ]
    },
    {
     "name": "stdout",
     "output_type": "stream",
     "text": [
      "{'mae': 0.446256038647343, 'loss': 5.79620967970954, 'accuracy': 0.6509661835748792}\n"
     ]
    },
    {
     "name": "stderr",
     "output_type": "stream",
     "text": [
      "Training, epoch 10: 100%|██████████| 181/181 [01:23<00:00,  2.18it/s, accuracy=0.772, batch_size=5778, loss=3.8, mae=0.266] \n",
      "100%|██████████| 52/52 [00:07<00:00,  6.51it/s, accuracy=0.6, batch_size=1656, loss=6.1, mae=0.449]   \n",
      "Training, epoch 11:   0%|          | 0/181 [00:00<?, ?it/s]"
     ]
    },
    {
     "name": "stdout",
     "output_type": "stream",
     "text": [
      "{'mae': 0.4492753623908269, 'loss': 6.099398718939887, 'accuracy': 0.5996376817353106}\n"
     ]
    },
    {
     "name": "stderr",
     "output_type": "stream",
     "text": [
      "Training, epoch 11: 100%|██████████| 181/181 [01:22<00:00,  2.18it/s, accuracy=0.781, batch_size=5778, loss=3.61, mae=0.253]\n",
      "100%|██████████| 52/52 [00:08<00:00,  6.46it/s, accuracy=0.668, batch_size=1656, loss=5.51, mae=0.397]\n",
      "Training, epoch 12:   0%|          | 0/181 [00:00<?, ?it/s]"
     ]
    },
    {
     "name": "stdout",
     "output_type": "stream",
     "text": [
      "{'mae': 0.39734299520507527, 'loss': 5.512136301556647, 'accuracy': 0.6678743964232109}\n"
     ]
    },
    {
     "name": "stderr",
     "output_type": "stream",
     "text": [
      "Training, epoch 12: 100%|██████████| 181/181 [01:22<00:00,  2.18it/s, accuracy=0.799, batch_size=5778, loss=3.31, mae=0.228]\n",
      "100%|██████████| 52/52 [00:08<00:00,  6.43it/s, accuracy=0.635, batch_size=1656, loss=6.11, mae=0.432]\n",
      "Training, epoch 13:   0%|          | 0/181 [00:00<?, ?it/s]"
     ]
    },
    {
     "name": "stdout",
     "output_type": "stream",
     "text": [
      "{'mae': 0.43176328502415456, 'loss': 6.110392448406865, 'accuracy': 0.6346618357487923}\n"
     ]
    },
    {
     "name": "stderr",
     "output_type": "stream",
     "text": [
      "Training, epoch 13: 100%|██████████| 181/181 [01:23<00:00,  2.18it/s, accuracy=0.81, batch_size=5778, loss=3.14, mae=0.214] \n",
      "100%|██████████| 52/52 [00:08<00:00,  6.49it/s, accuracy=0.667, batch_size=1656, loss=6.22, mae=0.389]\n",
      "Training, epoch 14:   0%|          | 0/181 [00:00<?, ?it/s]"
     ]
    },
    {
     "name": "stdout",
     "output_type": "stream",
     "text": [
      "{'mae': 0.38949275369517466, 'loss': 6.22070851072597, 'accuracy': 0.666666667242557}\n"
     ]
    },
    {
     "name": "stderr",
     "output_type": "stream",
     "text": [
      "Training, epoch 14: 100%|██████████| 181/181 [01:23<00:00,  2.17it/s, accuracy=0.825, batch_size=5778, loss=2.93, mae=0.197]\n",
      "100%|██████████| 52/52 [00:08<00:00,  6.48it/s, accuracy=0.666, batch_size=1656, loss=6.08, mae=0.394]\n",
      "Training, epoch 15:   0%|          | 0/181 [00:00<?, ?it/s]"
     ]
    },
    {
     "name": "stdout",
     "output_type": "stream",
     "text": [
      "{'mae': 0.3943236715695708, 'loss': 6.078486962018958, 'accuracy': 0.6660628025082574}\n"
     ]
    },
    {
     "name": "stderr",
     "output_type": "stream",
     "text": [
      "Training, epoch 15: 100%|██████████| 181/181 [01:22<00:00,  2.18it/s, accuracy=0.855, batch_size=5778, loss=2.49, mae=0.161]\n",
      "100%|██████████| 52/52 [00:07<00:00,  6.52it/s, accuracy=0.679, batch_size=1656, loss=6.07, mae=0.379]\n",
      "Training, epoch 16:   0%|          | 0/181 [00:00<?, ?it/s]"
     ]
    },
    {
     "name": "stdout",
     "output_type": "stream",
     "text": [
      "{'mae': 0.3786231885497697, 'loss': 6.065318508424621, 'accuracy': 0.6793478263749017}\n"
     ]
    },
    {
     "name": "stderr",
     "output_type": "stream",
     "text": [
      "Training, epoch 16: 100%|██████████| 181/181 [01:23<00:00,  2.18it/s, accuracy=0.863, batch_size=5778, loss=2.31, mae=0.153]\n",
      "100%|██████████| 52/52 [00:07<00:00,  6.51it/s, accuracy=0.674, batch_size=1656, loss=5.97, mae=0.383]\n",
      "Training, epoch 17:   0%|          | 0/181 [00:00<?, ?it/s]"
     ]
    },
    {
     "name": "stdout",
     "output_type": "stream",
     "text": [
      "{'mae': 0.38285024161788, 'loss': 5.970716584707803, 'accuracy': 0.6739130440541512}\n"
     ]
    },
    {
     "name": "stderr",
     "output_type": "stream",
     "text": [
      "Training, epoch 17: 100%|██████████| 181/181 [01:22<00:00,  2.18it/s, accuracy=0.903, batch_size=5778, loss=1.8, mae=0.106]  \n",
      "100%|██████████| 52/52 [00:08<00:00,  6.47it/s, accuracy=0.673, batch_size=1656, loss=7.33, mae=0.391]\n",
      "Training, epoch 18:   0%|          | 0/181 [00:00<?, ?it/s]"
     ]
    },
    {
     "name": "stdout",
     "output_type": "stream",
     "text": [
      "{'mae': 0.3913043478620801, 'loss': 7.330799722441153, 'accuracy': 0.6733091790319065}\n"
     ]
    },
    {
     "name": "stderr",
     "output_type": "stream",
     "text": [
      "Training, epoch 18: 100%|██████████| 181/181 [01:23<00:00,  2.17it/s, accuracy=0.896, batch_size=5778, loss=1.92, mae=0.116]\n",
      "100%|██████████| 52/52 [00:08<00:00,  6.44it/s, accuracy=0.663, batch_size=1656, loss=7.54, mae=0.397]\n",
      "Training, epoch 19:   0%|          | 0/181 [00:00<?, ?it/s]"
     ]
    },
    {
     "name": "stdout",
     "output_type": "stream",
     "text": [
      "{'mae': 0.3973429952410684, 'loss': 7.539940582957245, 'accuracy': 0.6630434788367598}\n"
     ]
    },
    {
     "name": "stderr",
     "output_type": "stream",
     "text": [
      "Training, epoch 19: 100%|██████████| 181/181 [01:23<00:00,  2.18it/s, accuracy=0.912, batch_size=5778, loss=1.6, mae=0.1]    \n",
      "100%|██████████| 52/52 [00:08<00:00,  6.48it/s, accuracy=0.683, batch_size=1656, loss=9.04, mae=0.393]\n"
     ]
    },
    {
     "name": "stdout",
     "output_type": "stream",
     "text": [
      "{'mae': 0.3931159421009718, 'loss': 9.04011749415006, 'accuracy': 0.6829710150686439}\n"
     ]
    },
    {
     "name": "stderr",
     "output_type": "stream",
     "text": [
      "Training, epoch 0: 100%|██████████| 181/181 [01:21<00:00,  2.22it/s, accuracy=0.415, batch_size=5778, loss=10.2, mae=0.949]\n",
      "100%|██████████| 52/52 [00:07<00:00,  6.80it/s, accuracy=0.439, batch_size=1656, loss=10, mae=0.98]    \n",
      "Training, epoch 1:   0%|          | 0/181 [00:00<?, ?it/s]"
     ]
    },
    {
     "name": "stdout",
     "output_type": "stream",
     "text": [
      "{'mae': 0.9800724643440062, 'loss': 10.00051767008316, 'accuracy': 0.4390096618357488}\n"
     ]
    },
    {
     "name": "stderr",
     "output_type": "stream",
     "text": [
      "Training, epoch 1: 100%|██████████| 181/181 [01:18<00:00,  2.29it/s, accuracy=0.515, batch_size=5778, loss=8.77, mae=0.7]  \n",
      "100%|██████████| 52/52 [00:07<00:00,  6.81it/s, accuracy=0.55, batch_size=1656, loss=8.08, mae=0.62]  \n",
      "Training, epoch 2:   0%|          | 0/181 [00:00<?, ?it/s]"
     ]
    },
    {
     "name": "stdout",
     "output_type": "stream",
     "text": [
      "{'mae': 0.6201690832773844, 'loss': 8.083920110251016, 'accuracy': 0.5495169082125604}\n"
     ]
    },
    {
     "name": "stderr",
     "output_type": "stream",
     "text": [
      "Training, epoch 2: 100%|██████████| 181/181 [01:19<00:00,  2.28it/s, accuracy=0.56, batch_size=5778, loss=7.98, mae=0.616] \n",
      "100%|██████████| 52/52 [00:07<00:00,  6.70it/s, accuracy=0.559, batch_size=1656, loss=8.65, mae=0.656] \n",
      "Training, epoch 3:   0%|          | 0/181 [00:00<?, ?it/s]"
     ]
    },
    {
     "name": "stdout",
     "output_type": "stream",
     "text": [
      "{'mae': 0.6557971014492754, 'loss': 8.645019116608992, 'accuracy': 0.5585748792270532}\n"
     ]
    },
    {
     "name": "stderr",
     "output_type": "stream",
     "text": [
      "Training, epoch 3: 100%|██████████| 181/181 [01:21<00:00,  2.23it/s, accuracy=0.606, batch_size=5778, loss=7.15, mae=0.53] \n",
      "100%|██████████| 52/52 [00:08<00:00,  6.49it/s, accuracy=0.613, batch_size=1656, loss=7.38, mae=0.537]\n",
      "Training, epoch 4:   0%|          | 0/181 [00:00<?, ?it/s]"
     ]
    },
    {
     "name": "stdout",
     "output_type": "stream",
     "text": [
      "{'mae': 0.5374396135265701, 'loss': 7.380894449022081, 'accuracy': 0.6129227058898999}\n"
     ]
    },
    {
     "name": "stderr",
     "output_type": "stream",
     "text": [
      "Training, epoch 4: 100%|██████████| 181/181 [01:23<00:00,  2.18it/s, accuracy=0.637, batch_size=5778, loss=6.68, mae=0.481]\n",
      "100%|██████████| 52/52 [00:08<00:00,  6.49it/s, accuracy=0.658, batch_size=1656, loss=6.39, mae=0.435]\n",
      "Training, epoch 5:   0%|          | 0/181 [00:00<?, ?it/s]"
     ]
    },
    {
     "name": "stdout",
     "output_type": "stream",
     "text": [
      "{'mae': 0.4353864734299517, 'loss': 6.393896430010956, 'accuracy': 0.6582125606744186}\n"
     ]
    },
    {
     "name": "stderr",
     "output_type": "stream",
     "text": [
      "Training, epoch 5: 100%|██████████| 181/181 [01:23<00:00,  2.18it/s, accuracy=0.671, batch_size=5778, loss=6.04, mae=0.418]\n",
      "100%|██████████| 52/52 [00:08<00:00,  6.48it/s, accuracy=0.61, batch_size=1656, loss=6.88, mae=0.481] \n",
      "Training, epoch 6:   0%|          | 0/181 [00:00<?, ?it/s]"
     ]
    },
    {
     "name": "stdout",
     "output_type": "stream",
     "text": [
      "{'mae': 0.4812801932727081, 'loss': 6.879647481844621, 'accuracy': 0.6099033819304572}\n"
     ]
    },
    {
     "name": "stderr",
     "output_type": "stream",
     "text": [
      "Training, epoch 6: 100%|██████████| 181/181 [01:22<00:00,  2.18it/s, accuracy=0.686, batch_size=5778, loss=5.76, mae=0.389]\n",
      "100%|██████████| 52/52 [00:08<00:00,  6.49it/s, accuracy=0.67, batch_size=1656, loss=6.15, mae=0.394] \n",
      "Training, epoch 7:   0%|          | 0/181 [00:00<?, ?it/s]"
     ]
    },
    {
     "name": "stdout",
     "output_type": "stream",
     "text": [
      "{'mae': 0.39432367153357767, 'loss': 6.154726148227563, 'accuracy': 0.6702898553604089}\n"
     ]
    },
    {
     "name": "stderr",
     "output_type": "stream",
     "text": [
      "Training, epoch 7: 100%|██████████| 181/181 [01:22<00:00,  2.18it/s, accuracy=0.703, batch_size=5778, loss=5.47, mae=0.359]\n",
      "100%|██████████| 52/52 [00:07<00:00,  6.52it/s, accuracy=0.583, batch_size=1656, loss=8.51, mae=0.561]\n",
      "Training, epoch 8:   0%|          | 0/181 [00:00<?, ?it/s]"
     ]
    },
    {
     "name": "stdout",
     "output_type": "stream",
     "text": [
      "{'mae': 0.5609903382002444, 'loss': 8.512992573245135, 'accuracy': 0.582729468886979}\n"
     ]
    },
    {
     "name": "stderr",
     "output_type": "stream",
     "text": [
      "Training, epoch 8: 100%|██████████| 181/181 [01:23<00:00,  2.17it/s, accuracy=0.722, batch_size=5778, loss=5.11, mae=0.33] \n",
      "100%|██████████| 52/52 [00:08<00:00,  6.46it/s, accuracy=0.644, batch_size=1656, loss=6.98, mae=0.442]\n",
      "Training, epoch 9:   0%|          | 0/181 [00:00<?, ?it/s]"
     ]
    },
    {
     "name": "stdout",
     "output_type": "stream",
     "text": [
      "{'mae': 0.4420289855072464, 'loss': 6.978100262834254, 'accuracy': 0.643719806763285}\n"
     ]
    },
    {
     "name": "stderr",
     "output_type": "stream",
     "text": [
      "Training, epoch 9: 100%|██████████| 181/181 [01:23<00:00,  2.18it/s, accuracy=0.738, batch_size=5778, loss=4.86, mae=0.305]\n",
      "100%|██████████| 52/52 [00:08<00:00,  6.43it/s, accuracy=0.659, batch_size=1656, loss=6.59, mae=0.417]\n",
      "Training, epoch 10:   0%|          | 0/181 [00:00<?, ?it/s]"
     ]
    },
    {
     "name": "stdout",
     "output_type": "stream",
     "text": [
      "{'mae': 0.41727053147295246, 'loss': 6.594336645614698, 'accuracy': 0.6594202904309627}\n"
     ]
    },
    {
     "name": "stderr",
     "output_type": "stream",
     "text": [
      "Training, epoch 10: 100%|██████████| 181/181 [01:23<00:00,  2.18it/s, accuracy=0.763, batch_size=5778, loss=4.44, mae=0.272]\n",
      "100%|██████████| 52/52 [00:08<00:00,  6.49it/s, accuracy=0.66, batch_size=1656, loss=6.33, mae=0.403] \n",
      "Training, epoch 11:   0%|          | 0/181 [00:00<?, ?it/s]"
     ]
    },
    {
     "name": "stdout",
     "output_type": "stream",
     "text": [
      "{'mae': 0.40338164258406356, 'loss': 6.330579667851545, 'accuracy': 0.6600241551652622}\n"
     ]
    },
    {
     "name": "stderr",
     "output_type": "stream",
     "text": [
      "Training, epoch 11: 100%|██████████| 181/181 [01:23<00:00,  2.18it/s, accuracy=0.778, batch_size=5778, loss=4.2, mae=0.252] \n",
      "100%|██████████| 52/52 [00:08<00:00,  6.48it/s, accuracy=0.638, batch_size=1656, loss=7.68, mae=0.456]\n",
      "Training, epoch 12:   0%|          | 0/181 [00:00<?, ?it/s]"
     ]
    },
    {
     "name": "stdout",
     "output_type": "stream",
     "text": [
      "{'mae': 0.4559178744321284, 'loss': 7.678003942332982, 'accuracy': 0.637681159708235}\n"
     ]
    },
    {
     "name": "stderr",
     "output_type": "stream",
     "text": [
      "Training, epoch 12: 100%|██████████| 181/181 [01:23<00:00,  2.18it/s, accuracy=0.788, batch_size=5778, loss=3.96, mae=0.24] \n",
      "100%|██████████| 52/52 [00:07<00:00,  6.50it/s, accuracy=0.684, batch_size=1656, loss=6.07, mae=0.382]\n",
      "Training, epoch 13:   0%|          | 0/181 [00:00<?, ?it/s]"
     ]
    },
    {
     "name": "stdout",
     "output_type": "stream",
     "text": [
      "{'mae': 0.38164251222126727, 'loss': 6.068587369964894, 'accuracy': 0.6835748795149983}\n"
     ]
    },
    {
     "name": "stderr",
     "output_type": "stream",
     "text": [
      "Training, epoch 13: 100%|██████████| 181/181 [01:22<00:00,  2.18it/s, accuracy=0.812, batch_size=5778, loss=3.57, mae=0.209]\n",
      "100%|██████████| 52/52 [00:08<00:00,  6.48it/s, accuracy=0.667, batch_size=1656, loss=6.93, mae=0.411]\n",
      "Training, epoch 14:   0%|          | 0/181 [00:00<?, ?it/s]"
     ]
    },
    {
     "name": "stdout",
     "output_type": "stream",
     "text": [
      "{'mae': 0.4112318843459162, 'loss': 6.933691050119446, 'accuracy': 0.666666667242557}\n"
     ]
    },
    {
     "name": "stderr",
     "output_type": "stream",
     "text": [
      "Training, epoch 14: 100%|██████████| 181/181 [01:20<00:00,  2.25it/s, accuracy=0.825, batch_size=5778, loss=3.36, mae=0.195]\n",
      "100%|██████████| 52/52 [00:07<00:00,  6.75it/s, accuracy=0.649, batch_size=1656, loss=8.83, mae=0.455] \n",
      "Training, epoch 15:   0%|          | 0/181 [00:00<?, ?it/s]"
     ]
    },
    {
     "name": "stdout",
     "output_type": "stream",
     "text": [
      "{'mae': 0.45471014492753625, 'loss': 8.829556144090091, 'accuracy': 0.6485507246376812}\n"
     ]
    },
    {
     "name": "stderr",
     "output_type": "stream",
     "text": [
      "Training, epoch 15: 100%|██████████| 181/181 [01:19<00:00,  2.29it/s, accuracy=0.846, batch_size=5778, loss=2.91, mae=0.169]\n",
      "100%|██████████| 52/52 [00:07<00:00,  6.81it/s, accuracy=0.659, batch_size=1656, loss=7.74, mae=0.386]\n",
      "Training, epoch 16:   0%|          | 0/181 [00:00<?, ?it/s]"
     ]
    },
    {
     "name": "stdout",
     "output_type": "stream",
     "text": [
      "{'mae': 0.38647342998768397, 'loss': 7.737989973906734, 'accuracy': 0.6588164254087181}\n"
     ]
    },
    {
     "name": "stderr",
     "output_type": "stream",
     "text": [
      "Training, epoch 16: 100%|██████████| 181/181 [01:19<00:00,  2.26it/s, accuracy=0.869, batch_size=5778, loss=2.66, mae=0.143]\n",
      "100%|██████████| 52/52 [00:07<00:00,  6.68it/s, accuracy=0.644, batch_size=1656, loss=9.18, mae=0.443]\n",
      "Training, epoch 17:   0%|          | 0/181 [00:00<?, ?it/s]"
     ]
    },
    {
     "name": "stdout",
     "output_type": "stream",
     "text": [
      "{'mae': 0.4426328502415459, 'loss': 9.181640608875073, 'accuracy': 0.643719806763285}\n"
     ]
    },
    {
     "name": "stderr",
     "output_type": "stream",
     "text": [
      "Training, epoch 17: 100%|██████████| 181/181 [01:21<00:00,  2.21it/s, accuracy=0.88, batch_size=5778, loss=2.42, mae=0.131] \n",
      "100%|██████████| 52/52 [00:08<00:00,  6.47it/s, accuracy=0.665, batch_size=1656, loss=9.47, mae=0.413]\n",
      "Training, epoch 18:   0%|          | 0/181 [00:00<?, ?it/s]"
     ]
    },
    {
     "name": "stdout",
     "output_type": "stream",
     "text": [
      "{'mae': 0.41304347826086957, 'loss': 9.466704543661956, 'accuracy': 0.6654589371980676}\n"
     ]
    },
    {
     "name": "stderr",
     "output_type": "stream",
     "text": [
      "Training, epoch 18: 100%|██████████| 181/181 [01:23<00:00,  2.17it/s, accuracy=0.896, batch_size=5778, loss=2.12, mae=0.112]\n",
      "100%|██████████| 52/52 [00:08<00:00,  6.47it/s, accuracy=0.634, batch_size=1656, loss=8.99, mae=0.415]\n",
      "Training, epoch 19:   0%|          | 0/181 [00:00<?, ?it/s]"
     ]
    },
    {
     "name": "stdout",
     "output_type": "stream",
     "text": [
      "{'mae': 0.4148550725357544, 'loss': 8.994510392635917, 'accuracy': 0.634057971590383}\n"
     ]
    },
    {
     "name": "stderr",
     "output_type": "stream",
     "text": [
      "Training, epoch 19: 100%|██████████| 181/181 [01:22<00:00,  2.18it/s, accuracy=0.911, batch_size=5778, loss=1.81, mae=0.0938]\n",
      "100%|██████████| 52/52 [00:07<00:00,  6.50it/s, accuracy=0.691, batch_size=1656, loss=9.44, mae=0.374]\n"
     ]
    },
    {
     "name": "stdout",
     "output_type": "stream",
     "text": [
      "{'mae': 0.37379227053140096, 'loss': 9.43935161166721, 'accuracy': 0.6908212560386473}\n"
     ]
    },
    {
     "name": "stderr",
     "output_type": "stream",
     "text": [
      "Training, epoch 0: 100%|██████████| 181/181 [01:23<00:00,  2.18it/s, accuracy=0.405, batch_size=5778, loss=11.8, mae=0.969]\n",
      "100%|██████████| 52/52 [00:07<00:00,  6.54it/s, accuracy=0.394, batch_size=1656, loss=11.9, mae=0.921]\n",
      "Training, epoch 1:   0%|          | 0/181 [00:00<?, ?it/s]"
     ]
    },
    {
     "name": "stdout",
     "output_type": "stream",
     "text": [
      "{'mae': 0.9208937198067633, 'loss': 11.911670472886827, 'accuracy': 0.39371980676328505}\n"
     ]
    },
    {
     "name": "stderr",
     "output_type": "stream",
     "text": [
      "Training, epoch 1: 100%|██████████| 181/181 [01:23<00:00,  2.18it/s, accuracy=0.49, batch_size=5778, loss=10.3, mae=0.736] \n",
      "100%|██████████| 52/52 [00:07<00:00,  6.51it/s, accuracy=0.546, batch_size=1656, loss=9.18, mae=0.645]\n",
      "Training, epoch 2:   0%|          | 0/181 [00:00<?, ?it/s]"
     ]
    },
    {
     "name": "stdout",
     "output_type": "stream",
     "text": [
      "{'mae': 0.644927536231884, 'loss': 9.179945323778236, 'accuracy': 0.5464975845410628}\n"
     ]
    },
    {
     "name": "stderr",
     "output_type": "stream",
     "text": [
      "Training, epoch 2: 100%|██████████| 181/181 [01:22<00:00,  2.18it/s, accuracy=0.561, batch_size=5778, loss=8.94, mae=0.61] \n",
      "100%|██████████| 52/52 [00:08<00:00,  6.49it/s, accuracy=0.601, batch_size=1656, loss=8.36, mae=0.565]\n",
      "Training, epoch 3:   0%|          | 0/181 [00:00<?, ?it/s]"
     ]
    },
    {
     "name": "stdout",
     "output_type": "stream",
     "text": [
      "{'mae': 0.5646135265700483, 'loss': 8.356162748475006, 'accuracy': 0.6014492753623188}\n"
     ]
    },
    {
     "name": "stderr",
     "output_type": "stream",
     "text": [
      "Training, epoch 3: 100%|██████████| 181/181 [01:23<00:00,  2.17it/s, accuracy=0.596, batch_size=5778, loss=8.27, mae=0.544]\n",
      "100%|██████████| 52/52 [00:08<00:00,  6.45it/s, accuracy=0.619, batch_size=1656, loss=7.74, mae=0.507]\n",
      "Training, epoch 4:   0%|          | 0/181 [00:00<?, ?it/s]"
     ]
    },
    {
     "name": "stdout",
     "output_type": "stream",
     "text": [
      "{'mae': 0.5066425123652398, 'loss': 7.736481440815949, 'accuracy': 0.6189613526570048}\n"
     ]
    },
    {
     "name": "stderr",
     "output_type": "stream",
     "text": [
      "Training, epoch 4: 100%|██████████| 181/181 [01:23<00:00,  2.18it/s, accuracy=0.634, batch_size=5778, loss=7.52, mae=0.481]\n",
      "100%|██████████| 52/52 [00:08<00:00,  6.48it/s, accuracy=0.612, batch_size=1656, loss=8.18, mae=0.543]\n",
      "Training, epoch 5:   0%|          | 0/181 [00:00<?, ?it/s]"
     ]
    },
    {
     "name": "stdout",
     "output_type": "stream",
     "text": [
      "{'mae': 0.5428743961712589, 'loss': 8.175896223040594, 'accuracy': 0.6117149761333558}\n"
     ]
    },
    {
     "name": "stderr",
     "output_type": "stream",
     "text": [
      "Training, epoch 5: 100%|██████████| 181/181 [01:22<00:00,  2.18it/s, accuracy=0.662, batch_size=5778, loss=6.89, mae=0.429]\n",
      "100%|██████████| 52/52 [00:07<00:00,  6.50it/s, accuracy=0.414, batch_size=1656, loss=8.77, mae=0.607]\n",
      "Training, epoch 6:   0%|          | 0/181 [00:00<?, ?it/s]"
     ]
    },
    {
     "name": "stdout",
     "output_type": "stream",
     "text": [
      "{'mae': 0.606884057989011, 'loss': 8.774689658252514, 'accuracy': 0.41364734357105937}\n"
     ]
    },
    {
     "name": "stderr",
     "output_type": "stream",
     "text": [
      "Training, epoch 6: 100%|██████████| 181/181 [01:23<00:00,  2.18it/s, accuracy=0.679, batch_size=5778, loss=6.54, mae=0.397]\n",
      "100%|██████████| 52/52 [00:08<00:00,  6.50it/s, accuracy=0.68, batch_size=1656, loss=6.5, mae=0.388]  \n",
      "Training, epoch 7:   0%|          | 0/181 [00:00<?, ?it/s]"
     ]
    },
    {
     "name": "stdout",
     "output_type": "stream",
     "text": [
      "{'mae': 0.387681159456283, 'loss': 6.502484330808483, 'accuracy': 0.6799516911092012}\n"
     ]
    },
    {
     "name": "stderr",
     "output_type": "stream",
     "text": [
      "Training, epoch 7: 100%|██████████| 181/181 [01:22<00:00,  2.18it/s, accuracy=0.709, batch_size=5778, loss=6.04, mae=0.353]\n",
      "100%|██████████| 52/52 [00:08<00:00,  6.46it/s, accuracy=0.597, batch_size=1656, loss=8.42, mae=0.509]\n",
      "Training, epoch 8:   0%|          | 0/181 [00:00<?, ?it/s]"
     ]
    },
    {
     "name": "stdout",
     "output_type": "stream",
     "text": [
      "{'mae': 0.5090579710504859, 'loss': 8.422396345414978, 'accuracy': 0.5966183577758678}\n"
     ]
    },
    {
     "name": "stderr",
     "output_type": "stream",
     "text": [
      "Training, epoch 8: 100%|██████████| 181/181 [01:22<00:00,  2.18it/s, accuracy=0.719, batch_size=5778, loss=5.76, mae=0.331]\n",
      "100%|██████████| 52/52 [00:08<00:00,  6.45it/s, accuracy=0.628, batch_size=1656, loss=7.59, mae=0.445]\n",
      "Training, epoch 9:   0%|          | 0/181 [00:00<?, ?it/s]"
     ]
    },
    {
     "name": "stdout",
     "output_type": "stream",
     "text": [
      "{'mae': 0.44504830917874394, 'loss': 7.588437591773876, 'accuracy': 0.6280193236714976}\n"
     ]
    },
    {
     "name": "stderr",
     "output_type": "stream",
     "text": [
      "Training, epoch 9: 100%|██████████| 181/181 [01:22<00:00,  2.18it/s, accuracy=0.743, batch_size=5778, loss=5.32, mae=0.3]  \n",
      "100%|██████████| 52/52 [00:08<00:00,  6.49it/s, accuracy=0.673, batch_size=1656, loss=6.5, mae=0.386] \n",
      "Training, epoch 10:   0%|          | 0/181 [00:00<?, ?it/s]"
     ]
    },
    {
     "name": "stdout",
     "output_type": "stream",
     "text": [
      "{'mae': 0.38647342998768397, 'loss': 6.49542054116438, 'accuracy': 0.6727053142976069}\n"
     ]
    },
    {
     "name": "stderr",
     "output_type": "stream",
     "text": [
      "Training, epoch 10: 100%|██████████| 181/181 [01:22<00:00,  2.18it/s, accuracy=0.771, batch_size=5778, loss=4.87, mae=0.26] \n",
      "100%|██████████| 52/52 [00:08<00:00,  6.45it/s, accuracy=0.649, batch_size=1656, loss=7.82, mae=0.423]\n",
      "Training, epoch 11:   0%|          | 0/181 [00:00<?, ?it/s]"
     ]
    },
    {
     "name": "stdout",
     "output_type": "stream",
     "text": [
      "{'mae': 0.4233091793198516, 'loss': 7.8235971720322315, 'accuracy': 0.6485507249256263}\n"
     ]
    },
    {
     "name": "stderr",
     "output_type": "stream",
     "text": [
      "Training, epoch 11: 100%|██████████| 181/181 [01:23<00:00,  2.18it/s, accuracy=0.786, batch_size=5778, loss=4.5, mae=0.242] \n",
      "100%|██████████| 52/52 [00:07<00:00,  6.52it/s, accuracy=0.664, batch_size=1656, loss=7.11, mae=0.391]\n",
      "Training, epoch 12:   0%|          | 0/181 [00:00<?, ?it/s]"
     ]
    },
    {
     "name": "stdout",
     "output_type": "stream",
     "text": [
      "{'mae': 0.3913043478620801, 'loss': 7.109013037981042, 'accuracy': 0.6642512080174138}\n"
     ]
    },
    {
     "name": "stderr",
     "output_type": "stream",
     "text": [
      "Training, epoch 12: 100%|██████████| 181/181 [01:23<00:00,  2.18it/s, accuracy=0.795, batch_size=5778, loss=4.27, mae=0.228]\n",
      "100%|██████████| 52/52 [00:08<00:00,  6.50it/s, accuracy=0.659, batch_size=1656, loss=8.43, mae=0.432]\n",
      "Training, epoch 13:   0%|          | 0/181 [00:00<?, ?it/s]"
     ]
    },
    {
     "name": "stdout",
     "output_type": "stream",
     "text": [
      "{'mae': 0.43176328504215117, 'loss': 8.42555560581926, 'accuracy': 0.6588164256966632}\n"
     ]
    },
    {
     "name": "stderr",
     "output_type": "stream",
     "text": [
      "Training, epoch 13: 100%|██████████| 181/181 [01:22<00:00,  2.18it/s, accuracy=0.83, batch_size=5778, loss=3.67, mae=0.186] \n",
      "100%|██████████| 52/52 [00:08<00:00,  6.47it/s, accuracy=0.679, batch_size=1656, loss=8.39, mae=0.39] \n",
      "Training, epoch 14:   0%|          | 0/181 [00:00<?, ?it/s]"
     ]
    },
    {
     "name": "stdout",
     "output_type": "stream",
     "text": [
      "{'mae': 0.3900966183934811, 'loss': 8.394634912555345, 'accuracy': 0.6793478263749017}\n"
     ]
    },
    {
     "name": "stderr",
     "output_type": "stream",
     "text": [
      "Training, epoch 14: 100%|██████████| 181/181 [01:22<00:00,  2.18it/s, accuracy=0.831, batch_size=5778, loss=3.68, mae=0.189]\n",
      "100%|██████████| 52/52 [00:08<00:00,  6.49it/s, accuracy=0.673, batch_size=1656, loss=8.26, mae=0.412]\n",
      "Training, epoch 15:   0%|          | 0/181 [00:00<?, ?it/s]"
     ]
    },
    {
     "name": "stdout",
     "output_type": "stream",
     "text": [
      "{'mae': 0.4118357488282637, 'loss': 8.255322326208658, 'accuracy': 0.6727053142976069}\n"
     ]
    },
    {
     "name": "stderr",
     "output_type": "stream",
     "text": [
      "Training, epoch 15: 100%|██████████| 181/181 [01:22<00:00,  2.18it/s, accuracy=0.859, batch_size=5778, loss=3.12, mae=0.155]\n",
      "100%|██████████| 52/52 [00:08<00:00,  6.49it/s, accuracy=0.685, batch_size=1656, loss=7.87, mae=0.379]\n",
      "Training, epoch 16:   0%|          | 0/181 [00:00<?, ?it/s]"
     ]
    },
    {
     "name": "stdout",
     "output_type": "stream",
     "text": [
      "{'mae': 0.3786231884057971, 'loss': 7.874722946093279, 'accuracy': 0.6853864734299517}\n"
     ]
    },
    {
     "name": "stderr",
     "output_type": "stream",
     "text": [
      "Training, epoch 16: 100%|██████████| 181/181 [01:22<00:00,  2.18it/s, accuracy=0.874, batch_size=5778, loss=2.77, mae=0.138]\n",
      "100%|██████████| 52/52 [00:07<00:00,  6.50it/s, accuracy=0.652, batch_size=1656, loss=8.66, mae=0.388]\n",
      "Training, epoch 17:   0%|          | 0/181 [00:00<?, ?it/s]"
     ]
    },
    {
     "name": "stdout",
     "output_type": "stream",
     "text": [
      "{'mae': 0.38768115942028986, 'loss': 8.659696558247441, 'accuracy': 0.6521739130434783}\n"
     ]
    },
    {
     "name": "stderr",
     "output_type": "stream",
     "text": [
      "Training, epoch 17: 100%|██████████| 181/181 [01:23<00:00,  2.17it/s, accuracy=0.89, batch_size=5778, loss=2.46, mae=0.119] \n",
      "100%|██████████| 52/52 [00:08<00:00,  6.45it/s, accuracy=0.668, batch_size=1656, loss=9.66, mae=0.425]\n",
      "Training, epoch 18:   0%|          | 0/181 [00:00<?, ?it/s]"
     ]
    },
    {
     "name": "stdout",
     "output_type": "stream",
     "text": [
      "{'mae': 0.42451690824855354, 'loss': 9.655559871507728, 'accuracy': 0.6678743964232109}\n"
     ]
    },
    {
     "name": "stderr",
     "output_type": "stream",
     "text": [
      "Training, epoch 18: 100%|██████████| 181/181 [01:23<00:00,  2.18it/s, accuracy=0.912, batch_size=5778, loss=2.09, mae=0.0948]\n",
      "100%|██████████| 52/52 [00:07<00:00,  6.51it/s, accuracy=0.574, batch_size=1656, loss=11.1, mae=0.455]\n",
      "Training, epoch 19:   0%|          | 0/181 [00:00<?, ?it/s]"
     ]
    },
    {
     "name": "stdout",
     "output_type": "stream",
     "text": [
      "{'mae': 0.4547101450715088, 'loss': 11.13549458231903, 'accuracy': 0.5742753626067857}\n"
     ]
    },
    {
     "name": "stderr",
     "output_type": "stream",
     "text": [
      "Training, epoch 19: 100%|██████████| 181/181 [01:22<00:00,  2.19it/s, accuracy=0.92, batch_size=5778, loss=1.95, mae=0.0879] \n",
      "100%|██████████| 52/52 [00:08<00:00,  6.44it/s, accuracy=0.676, batch_size=1656, loss=10.9, mae=0.394]\n"
     ]
    },
    {
     "name": "stdout",
     "output_type": "stream",
     "text": [
      "{'mae': 0.39371980679927815, 'loss': 10.880760920796417, 'accuracy': 0.676328502703404}\n"
     ]
    },
    {
     "name": "stderr",
     "output_type": "stream",
     "text": [
      "Training, epoch 0: 100%|██████████| 181/181 [01:22<00:00,  2.19it/s, accuracy=0.399, batch_size=5778, loss=15.9, mae=1.05]\n",
      "100%|██████████| 52/52 [00:07<00:00,  6.50it/s, accuracy=0.497, batch_size=1656, loss=14.6, mae=0.731]\n",
      "Training, epoch 1:   0%|          | 0/181 [00:00<?, ?it/s]"
     ]
    },
    {
     "name": "stdout",
     "output_type": "stream",
     "text": [
      "{'mae': 0.7312801943884956, 'loss': 14.55814816755949, 'accuracy': 0.4969806763285024}\n"
     ]
    },
    {
     "name": "stderr",
     "output_type": "stream",
     "text": [
      "Training, epoch 1: 100%|██████████| 181/181 [01:21<00:00,  2.21it/s, accuracy=0.503, batch_size=5778, loss=13.6, mae=0.749]\n",
      "100%|██████████| 52/52 [00:07<00:00,  6.80it/s, accuracy=0.573, batch_size=1656, loss=11.9, mae=0.623]\n",
      "Training, epoch 2:   0%|          | 0/181 [00:00<?, ?it/s]"
     ]
    },
    {
     "name": "stdout",
     "output_type": "stream",
     "text": [
      "{'mae': 0.6225845410628019, 'loss': 11.89833594981023, 'accuracy': 0.5730676328502415}\n"
     ]
    },
    {
     "name": "stderr",
     "output_type": "stream",
     "text": [
      "Training, epoch 2: 100%|██████████| 181/181 [01:18<00:00,  2.30it/s, accuracy=0.561, batch_size=5778, loss=12, mae=0.628]  \n",
      "100%|██████████| 52/52 [00:07<00:00,  6.84it/s, accuracy=0.572, batch_size=1656, loss=11.5, mae=0.562]\n",
      "Training, epoch 3:   0%|          | 0/181 [00:00<?, ?it/s]"
     ]
    },
    {
     "name": "stdout",
     "output_type": "stream",
     "text": [
      "{'mae': 0.5615942028985508, 'loss': 11.462122638444393, 'accuracy': 0.572463768115942}\n"
     ]
    },
    {
     "name": "stderr",
     "output_type": "stream",
     "text": [
      "Training, epoch 3: 100%|██████████| 181/181 [01:19<00:00,  2.29it/s, accuracy=0.61, batch_size=5778, loss=11, mae=0.544]   \n",
      "100%|██████████| 52/52 [00:07<00:00,  6.71it/s, accuracy=0.636, batch_size=1656, loss=10, mae=0.489]  \n",
      "Training, epoch 4:   0%|          | 0/181 [00:00<?, ?it/s]"
     ]
    },
    {
     "name": "stdout",
     "output_type": "stream",
     "text": [
      "{'mae': 0.48913043481860186, 'loss': 10.024203002164905, 'accuracy': 0.636473430239636}\n"
     ]
    },
    {
     "name": "stderr",
     "output_type": "stream",
     "text": [
      "Training, epoch 4: 100%|██████████| 181/181 [01:20<00:00,  2.25it/s, accuracy=0.637, batch_size=5778, loss=10.2, mae=0.487]\n",
      "100%|██████████| 52/52 [00:07<00:00,  6.57it/s, accuracy=0.652, batch_size=1656, loss=9.74, mae=0.469]\n",
      "Training, epoch 5:   0%|          | 0/181 [00:00<?, ?it/s]"
     ]
    },
    {
     "name": "stdout",
     "output_type": "stream",
     "text": [
      "{'mae': 0.46859903381642515, 'loss': 9.737087807217657, 'accuracy': 0.6521739130434783}\n"
     ]
    },
    {
     "name": "stderr",
     "output_type": "stream",
     "text": [
      "Training, epoch 5: 100%|██████████| 181/181 [01:22<00:00,  2.19it/s, accuracy=0.671, batch_size=5778, loss=9.31, mae=0.427]\n",
      "100%|██████████| 52/52 [00:07<00:00,  6.51it/s, accuracy=0.666, batch_size=1656, loss=9.24, mae=0.431]\n",
      "Training, epoch 6:   0%|          | 0/181 [00:00<?, ?it/s]"
     ]
    },
    {
     "name": "stdout",
     "output_type": "stream",
     "text": [
      "{'mae': 0.4305555555555556, 'loss': 9.235990098133179, 'accuracy': 0.6660628019323671}\n"
     ]
    },
    {
     "name": "stderr",
     "output_type": "stream",
     "text": [
      "Training, epoch 6: 100%|██████████| 181/181 [01:23<00:00,  2.18it/s, accuracy=0.695, batch_size=5778, loss=8.67, mae=0.379]\n",
      "100%|██████████| 52/52 [00:08<00:00,  6.49it/s, accuracy=0.616, batch_size=1656, loss=10.6, mae=0.537]\n",
      "Training, epoch 7:   0%|          | 0/181 [00:00<?, ?it/s]"
     ]
    },
    {
     "name": "stdout",
     "output_type": "stream",
     "text": [
      "{'mae': 0.5368357487922706, 'loss': 10.552647936171379, 'accuracy': 0.6159420289855072}\n"
     ]
    },
    {
     "name": "stderr",
     "output_type": "stream",
     "text": [
      "Training, epoch 7: 100%|██████████| 181/181 [01:23<00:00,  2.17it/s, accuracy=0.713, batch_size=5778, loss=8.21, mae=0.351]\n",
      "100%|██████████| 52/52 [00:08<00:00,  6.48it/s, accuracy=0.647, batch_size=1656, loss=9.7, mae=0.428] \n",
      "Training, epoch 8:   0%|          | 0/181 [00:00<?, ?it/s]"
     ]
    },
    {
     "name": "stdout",
     "output_type": "stream",
     "text": [
      "{'mae': 0.427536231884058, 'loss': 9.699490418180751, 'accuracy': 0.6467391304347826}\n"
     ]
    },
    {
     "name": "stderr",
     "output_type": "stream",
     "text": [
      "Training, epoch 8: 100%|██████████| 181/181 [01:23<00:00,  2.18it/s, accuracy=0.73, batch_size=5778, loss=7.61, mae=0.323] \n",
      "100%|██████████| 52/52 [00:08<00:00,  6.48it/s, accuracy=0.636, batch_size=1656, loss=9.9, mae=0.435] \n",
      "Training, epoch 9:   0%|          | 0/181 [00:00<?, ?it/s]"
     ]
    },
    {
     "name": "stdout",
     "output_type": "stream",
     "text": [
      "{'mae': 0.435386473501938, 'loss': 9.904397761764157, 'accuracy': 0.6364734305275811}\n"
     ]
    },
    {
     "name": "stderr",
     "output_type": "stream",
     "text": [
      "Training, epoch 9: 100%|██████████| 181/181 [01:22<00:00,  2.18it/s, accuracy=0.746, batch_size=5778, loss=7.09, mae=0.294]\n",
      "100%|██████████| 52/52 [00:07<00:00,  6.63it/s, accuracy=0.664, batch_size=1656, loss=9.66, mae=0.409]\n",
      "Training, epoch 10:   0%|          | 0/181 [00:00<?, ?it/s]"
     ]
    },
    {
     "name": "stdout",
     "output_type": "stream",
     "text": [
      "{'mae': 0.40881642526474554, 'loss': 9.66340326226276, 'accuracy': 0.6642512080174138}\n"
     ]
    },
    {
     "name": "stderr",
     "output_type": "stream",
     "text": [
      "Training, epoch 10: 100%|██████████| 181/181 [01:19<00:00,  2.29it/s, accuracy=0.77, batch_size=5778, loss=6.55, mae=0.259] \n",
      "100%|██████████| 52/52 [00:07<00:00,  6.87it/s, accuracy=0.675, batch_size=1656, loss=10.4, mae=0.402]\n",
      "Training, epoch 11:   0%|          | 0/181 [00:00<?, ?it/s]"
     ]
    },
    {
     "name": "stdout",
     "output_type": "stream",
     "text": [
      "{'mae': 0.40157004830917875, 'loss': 10.392360044202366, 'accuracy': 0.6745169082125604}\n"
     ]
    },
    {
     "name": "stderr",
     "output_type": "stream",
     "text": [
      "Training, epoch 11: 100%|██████████| 181/181 [01:18<00:00,  2.30it/s, accuracy=0.785, batch_size=5778, loss=6.13, mae=0.246]\n",
      "100%|██████████| 52/52 [00:07<00:00,  6.72it/s, accuracy=0.677, batch_size=1656, loss=9.22, mae=0.393]\n",
      "Training, epoch 12:   0%|          | 0/181 [00:00<?, ?it/s]"
     ]
    },
    {
     "name": "stdout",
     "output_type": "stream",
     "text": [
      "{'mae': 0.3925120773306791, 'loss': 9.217162655171565, 'accuracy': 0.6769323674377036}\n"
     ]
    },
    {
     "name": "stderr",
     "output_type": "stream",
     "text": [
      "Training, epoch 12: 100%|██████████| 181/181 [01:19<00:00,  2.27it/s, accuracy=0.808, batch_size=5778, loss=5.62, mae=0.213]\n",
      "100%|██████████| 52/52 [00:07<00:00,  6.68it/s, accuracy=0.678, batch_size=1656, loss=9.86, mae=0.388]\n",
      "Training, epoch 13:   0%|          | 0/181 [00:00<?, ?it/s]"
     ]
    },
    {
     "name": "stdout",
     "output_type": "stream",
     "text": [
      "{'mae': 0.387681159456283, 'loss': 9.855266481206037, 'accuracy': 0.6781400969063026}\n"
     ]
    },
    {
     "name": "stderr",
     "output_type": "stream",
     "text": [
      "Training, epoch 13: 100%|██████████| 181/181 [01:22<00:00,  2.21it/s, accuracy=0.83, batch_size=5778, loss=4.89, mae=0.187] \n",
      "100%|██████████| 52/52 [00:08<00:00,  6.49it/s, accuracy=0.637, batch_size=1656, loss=11.8, mae=0.42] \n",
      "Training, epoch 14:   0%|          | 0/181 [00:00<?, ?it/s]"
     ]
    },
    {
     "name": "stdout",
     "output_type": "stream",
     "text": [
      "{'mae': 0.41968599041015053, 'loss': 11.828079864022813, 'accuracy': 0.6370772952618806}\n"
     ]
    },
    {
     "name": "stderr",
     "output_type": "stream",
     "text": [
      "Training, epoch 14: 100%|██████████| 181/181 [01:23<00:00,  2.17it/s, accuracy=0.846, batch_size=5778, loss=4.52, mae=0.168]\n",
      "100%|██████████| 52/52 [00:08<00:00,  6.50it/s, accuracy=0.606, batch_size=1656, loss=12, mae=0.441]  \n",
      "Training, epoch 15:   0%|          | 0/181 [00:00<?, ?it/s]"
     ]
    },
    {
     "name": "stdout",
     "output_type": "stream",
     "text": [
      "{'mae': 0.4414251207729469, 'loss': 12.024225889196718, 'accuracy': 0.606280193236715}\n"
     ]
    },
    {
     "name": "stderr",
     "output_type": "stream",
     "text": [
      "Training, epoch 15: 100%|██████████| 181/181 [01:23<00:00,  2.18it/s, accuracy=0.875, batch_size=5778, loss=3.83, mae=0.135]\n",
      "100%|██████████| 52/52 [00:08<00:00,  6.47it/s, accuracy=0.658, batch_size=1656, loss=11.2, mae=0.417]\n",
      "Training, epoch 16:   0%|          | 0/181 [00:00<?, ?it/s]"
     ]
    },
    {
     "name": "stdout",
     "output_type": "stream",
     "text": [
      "{'mae': 0.4172705314009662, 'loss': 11.159017965989412, 'accuracy': 0.6582125603864735}\n"
     ]
    },
    {
     "name": "stderr",
     "output_type": "stream",
     "text": [
      "Training, epoch 16: 100%|██████████| 181/181 [01:23<00:00,  2.18it/s, accuracy=0.883, batch_size=5778, loss=3.73, mae=0.129]\n",
      "100%|██████████| 52/52 [00:08<00:00,  6.42it/s, accuracy=0.626, batch_size=1656, loss=15, mae=0.458]  \n",
      "Training, epoch 17:   0%|          | 0/181 [00:00<?, ?it/s]"
     ]
    },
    {
     "name": "stdout",
     "output_type": "stream",
     "text": [
      "{'mae': 0.4583333334773059, 'loss': 15.003159886972917, 'accuracy': 0.6262077297565442}\n"
     ]
    },
    {
     "name": "stderr",
     "output_type": "stream",
     "text": [
      "Training, epoch 17: 100%|██████████| 181/181 [01:23<00:00,  2.17it/s, accuracy=0.901, batch_size=5778, loss=3.08, mae=0.107] \n",
      "100%|██████████| 52/52 [00:08<00:00,  6.39it/s, accuracy=0.597, batch_size=1656, loss=15.5, mae=0.463]\n",
      "Training, epoch 18:   0%|          | 0/181 [00:00<?, ?it/s]"
     ]
    },
    {
     "name": "stdout",
     "output_type": "stream",
     "text": [
      "{'mae': 0.463164251351702, 'loss': 15.50592275057438, 'accuracy': 0.5966183577758678}\n"
     ]
    },
    {
     "name": "stderr",
     "output_type": "stream",
     "text": [
      "Training, epoch 18: 100%|██████████| 181/181 [01:23<00:00,  2.17it/s, accuracy=0.9, batch_size=5778, loss=3.13, mae=0.11]    \n",
      "100%|██████████| 52/52 [00:08<00:00,  6.48it/s, accuracy=0.664, batch_size=1656, loss=11.9, mae=0.376]\n",
      "Training, epoch 19:   0%|          | 0/181 [00:00<?, ?it/s]"
     ]
    },
    {
     "name": "stdout",
     "output_type": "stream",
     "text": [
      "{'mae': 0.37620772954058534, 'loss': 11.90726121266683, 'accuracy': 0.6636473435710594}\n"
     ]
    },
    {
     "name": "stderr",
     "output_type": "stream",
     "text": [
      "Training, epoch 19: 100%|██████████| 181/181 [01:23<00:00,  2.17it/s, accuracy=0.938, batch_size=5778, loss=2.09, mae=0.0666]\n",
      "100%|██████████| 52/52 [00:08<00:00,  6.48it/s, accuracy=0.67, batch_size=1656, loss=15.7, mae=0.399] \n"
     ]
    },
    {
     "name": "stdout",
     "output_type": "stream",
     "text": [
      "{'mae': 0.39855072470966746, 'loss': 15.740025013541254, 'accuracy': 0.6702898556483541}\n"
     ]
    },
    {
     "name": "stderr",
     "output_type": "stream",
     "text": [
      "Training, epoch 0: 100%|██████████| 181/181 [01:22<00:00,  2.18it/s, accuracy=0.391, batch_size=5778, loss=17.8, mae=1.08]\n",
      "100%|██████████| 52/52 [00:08<00:00,  6.43it/s, accuracy=0.457, batch_size=1656, loss=15.7, mae=0.876]\n",
      "Training, epoch 1:   0%|          | 0/181 [00:00<?, ?it/s]"
     ]
    },
    {
     "name": "stdout",
     "output_type": "stream",
     "text": [
      "{'mae': 0.876207729468599, 'loss': 15.702398429170323, 'accuracy': 0.4571256038647343}\n"
     ]
    },
    {
     "name": "stderr",
     "output_type": "stream",
     "text": [
      "Training, epoch 1: 100%|██████████| 181/181 [01:23<00:00,  2.18it/s, accuracy=0.496, batch_size=5778, loss=15.2, mae=0.769]\n",
      "100%|██████████| 52/52 [00:07<00:00,  6.51it/s, accuracy=0.545, batch_size=1656, loss=13.4, mae=0.662]\n",
      "Training, epoch 2:   0%|          | 0/181 [00:00<?, ?it/s]"
     ]
    },
    {
     "name": "stdout",
     "output_type": "stream",
     "text": [
      "{'mae': 0.6624396146783507, 'loss': 13.399518487534085, 'accuracy': 0.5446859903381642}\n"
     ]
    },
    {
     "name": "stderr",
     "output_type": "stream",
     "text": [
      "Training, epoch 2: 100%|██████████| 181/181 [01:23<00:00,  2.18it/s, accuracy=0.562, batch_size=5778, loss=13.2, mae=0.623]\n",
      "100%|██████████| 52/52 [00:08<00:00,  6.50it/s, accuracy=0.54, batch_size=1656, loss=14.1, mae=0.687] \n",
      "Training, epoch 3:   0%|          | 0/181 [00:00<?, ?it/s]"
     ]
    },
    {
     "name": "stdout",
     "output_type": "stream",
     "text": [
      "{'mae': 0.686594203474441, 'loss': 14.104617367620053, 'accuracy': 0.5404589371980676}\n"
     ]
    },
    {
     "name": "stderr",
     "output_type": "stream",
     "text": [
      "Training, epoch 3: 100%|██████████| 181/181 [01:22<00:00,  2.18it/s, accuracy=0.607, batch_size=5778, loss=12, mae=0.544]  \n",
      "100%|██████████| 52/52 [00:08<00:00,  6.50it/s, accuracy=0.643, batch_size=1656, loss=10.5, mae=0.481]\n",
      "Training, epoch 4:   0%|          | 0/181 [00:00<?, ?it/s]"
     ]
    },
    {
     "name": "stdout",
     "output_type": "stream",
     "text": [
      "{'mae': 0.48067632857440173, 'loss': 10.53552482439124, 'accuracy': 0.6431159426048758}\n"
     ]
    },
    {
     "name": "stderr",
     "output_type": "stream",
     "text": [
      "Training, epoch 4: 100%|██████████| 181/181 [01:23<00:00,  2.18it/s, accuracy=0.637, batch_size=5778, loss=10.9, mae=0.473]\n",
      "100%|██████████| 52/52 [00:08<00:00,  6.44it/s, accuracy=0.614, batch_size=1656, loss=11.6, mae=0.527]\n",
      "Training, epoch 5:   0%|          | 0/181 [00:00<?, ?it/s]"
     ]
    },
    {
     "name": "stdout",
     "output_type": "stream",
     "text": [
      "{'mae': 0.5271739131154646, 'loss': 11.580504214706052, 'accuracy': 0.6135265706241995}\n"
     ]
    },
    {
     "name": "stderr",
     "output_type": "stream",
     "text": [
      "Training, epoch 5: 100%|██████████| 181/181 [01:23<00:00,  2.18it/s, accuracy=0.674, batch_size=5778, loss=9.92, mae=0.41] \n",
      "100%|██████████| 52/52 [00:08<00:00,  6.48it/s, accuracy=0.635, batch_size=1656, loss=10.4, mae=0.42] \n",
      "Training, epoch 6:   0%|          | 0/181 [00:00<?, ?it/s]"
     ]
    },
    {
     "name": "stdout",
     "output_type": "stream",
     "text": [
      "{'mae': 0.42028985521643636, 'loss': 10.424173327459805, 'accuracy': 0.6346618360367374}\n"
     ]
    },
    {
     "name": "stderr",
     "output_type": "stream",
     "text": [
      "Training, epoch 6: 100%|██████████| 181/181 [01:23<00:00,  2.18it/s, accuracy=0.687, batch_size=5778, loss=9.43, mae=0.383]\n",
      "100%|██████████| 52/52 [00:08<00:00,  6.42it/s, accuracy=0.591, batch_size=1656, loss=12.6, mae=0.543]\n",
      "Training, epoch 7:   0%|          | 0/181 [00:00<?, ?it/s]"
     ]
    },
    {
     "name": "stdout",
     "output_type": "stream",
     "text": [
      "{'mae': 0.5434782608695652, 'loss': 12.62710089844782, 'accuracy': 0.5905797101449275}\n"
     ]
    },
    {
     "name": "stderr",
     "output_type": "stream",
     "text": [
      "Training, epoch 7: 100%|██████████| 181/181 [01:23<00:00,  2.18it/s, accuracy=0.707, batch_size=5778, loss=8.79, mae=0.353]\n",
      "100%|██████████| 52/52 [00:08<00:00,  6.46it/s, accuracy=0.656, batch_size=1656, loss=10.9, mae=0.417]\n",
      "Training, epoch 8:   0%|          | 0/181 [00:00<?, ?it/s]"
     ]
    },
    {
     "name": "stdout",
     "output_type": "stream",
     "text": [
      "{'mae': 0.4172705314009662, 'loss': 10.859107964856612, 'accuracy': 0.6557971014492754}\n"
     ]
    },
    {
     "name": "stderr",
     "output_type": "stream",
     "text": [
      "Training, epoch 8: 100%|██████████| 181/181 [01:22<00:00,  2.18it/s, accuracy=0.738, batch_size=5778, loss=7.93, mae=0.301]\n",
      "100%|██████████| 52/52 [00:08<00:00,  6.43it/s, accuracy=0.664, batch_size=1656, loss=11.2, mae=0.431]\n",
      "Training, epoch 9:   0%|          | 0/181 [00:00<?, ?it/s]"
     ]
    },
    {
     "name": "stdout",
     "output_type": "stream",
     "text": [
      "{'mae': 0.4311594203258482, 'loss': 11.218613447198546, 'accuracy': 0.6642512080174138}\n"
     ]
    },
    {
     "name": "stderr",
     "output_type": "stream",
     "text": [
      "Training, epoch 9: 100%|██████████| 181/181 [01:22<00:00,  2.18it/s, accuracy=0.748, batch_size=5778, loss=7.6, mae=0.29]  \n",
      "100%|██████████| 52/52 [00:08<00:00,  6.44it/s, accuracy=0.674, batch_size=1656, loss=9.84, mae=0.386]\n",
      "Training, epoch 10:   0%|          | 0/181 [00:00<?, ?it/s]"
     ]
    },
    {
     "name": "stdout",
     "output_type": "stream",
     "text": [
      "{'mae': 0.38647342998768397, 'loss': 9.84302410181018, 'accuracy': 0.673913043766206}\n"
     ]
    },
    {
     "name": "stderr",
     "output_type": "stream",
     "text": [
      "Training, epoch 10: 100%|██████████| 181/181 [01:22<00:00,  2.18it/s, accuracy=0.779, batch_size=5778, loss=6.62, mae=0.245]\n",
      "100%|██████████| 52/52 [00:08<00:00,  6.49it/s, accuracy=0.675, batch_size=1656, loss=10.7, mae=0.389]\n",
      "Training, epoch 11:   0%|          | 0/181 [00:00<?, ?it/s]"
     ]
    },
    {
     "name": "stdout",
     "output_type": "stream",
     "text": [
      "{'mae': 0.3894927536231884, 'loss': 10.650280434152354, 'accuracy': 0.6745169082125604}\n"
     ]
    },
    {
     "name": "stderr",
     "output_type": "stream",
     "text": [
      "Training, epoch 11: 100%|██████████| 181/181 [01:23<00:00,  2.17it/s, accuracy=0.796, batch_size=5778, loss=6.39, mae=0.228]\n",
      "100%|██████████| 52/52 [00:07<00:00,  6.51it/s, accuracy=0.684, batch_size=1656, loss=10.4, mae=0.38] \n",
      "Training, epoch 12:   0%|          | 0/181 [00:00<?, ?it/s]"
     ]
    },
    {
     "name": "stdout",
     "output_type": "stream",
     "text": [
      "{'mae': 0.3804347826446888, 'loss': 10.377049929853799, 'accuracy': 0.6841787442492978}\n"
     ]
    },
    {
     "name": "stderr",
     "output_type": "stream",
     "text": [
      "Training, epoch 12: 100%|██████████| 181/181 [01:22<00:00,  2.18it/s, accuracy=0.816, batch_size=5778, loss=5.65, mae=0.199]\n",
      "100%|██████████| 52/52 [00:08<00:00,  6.44it/s, accuracy=0.67, batch_size=1656, loss=11, mae=0.403]   \n",
      "Training, epoch 13:   0%|          | 0/181 [00:00<?, ?it/s]"
     ]
    },
    {
     "name": "stdout",
     "output_type": "stream",
     "text": [
      "{'mae': 0.4033816425120773, 'loss': 11.03892095077441, 'accuracy': 0.6696859903381642}\n"
     ]
    },
    {
     "name": "stderr",
     "output_type": "stream",
     "text": [
      "Training, epoch 13: 100%|██████████| 181/181 [01:22<00:00,  2.18it/s, accuracy=0.832, batch_size=5778, loss=5.37, mae=0.185]\n",
      "100%|██████████| 52/52 [00:07<00:00,  6.51it/s, accuracy=0.635, batch_size=1656, loss=11.4, mae=0.419]\n",
      "Training, epoch 14:   0%|          | 0/181 [00:00<?, ?it/s]"
     ]
    },
    {
     "name": "stdout",
     "output_type": "stream",
     "text": [
      "{'mae': 0.4190821256038647, 'loss': 11.388654377149498, 'accuracy': 0.6346618357487923}\n"
     ]
    },
    {
     "name": "stderr",
     "output_type": "stream",
     "text": [
      "Training, epoch 14: 100%|██████████| 181/181 [01:23<00:00,  2.18it/s, accuracy=0.853, batch_size=5778, loss=4.71, mae=0.161]\n",
      "100%|██████████| 52/52 [00:07<00:00,  6.51it/s, accuracy=0.554, batch_size=1656, loss=16.7, mae=0.539]\n",
      "Training, epoch 15:   0%|          | 0/181 [00:00<?, ?it/s]"
     ]
    },
    {
     "name": "stdout",
     "output_type": "stream",
     "text": [
      "{'mae': 0.5392512077654618, 'loss': 16.720501816791035, 'accuracy': 0.5537439616406021}\n"
     ]
    },
    {
     "name": "stderr",
     "output_type": "stream",
     "text": [
      "Training, epoch 15: 100%|██████████| 181/181 [01:23<00:00,  2.18it/s, accuracy=0.888, batch_size=5778, loss=3.61, mae=0.121]\n",
      "100%|██████████| 52/52 [00:07<00:00,  6.50it/s, accuracy=0.673, batch_size=1656, loss=14.4, mae=0.386]\n",
      "Training, epoch 16:   0%|          | 0/181 [00:00<?, ?it/s]"
     ]
    },
    {
     "name": "stdout",
     "output_type": "stream",
     "text": [
      "{'mae': 0.38647342998768397, 'loss': 14.417739734557516, 'accuracy': 0.6733091790319065}\n"
     ]
    },
    {
     "name": "stderr",
     "output_type": "stream",
     "text": [
      "Training, epoch 16: 100%|██████████| 181/181 [01:22<00:00,  2.18it/s, accuracy=0.888, batch_size=5778, loss=3.68, mae=0.122]\n",
      "100%|██████████| 52/52 [00:08<00:00,  6.49it/s, accuracy=0.669, batch_size=1656, loss=12.3, mae=0.4]  \n",
      "Training, epoch 17:   0%|          | 0/181 [00:00<?, ?it/s]"
     ]
    },
    {
     "name": "stdout",
     "output_type": "stream",
     "text": [
      "{'mae': 0.3997584541062802, 'loss': 12.253161264502484, 'accuracy': 0.6690821256038647}\n"
     ]
    },
    {
     "name": "stderr",
     "output_type": "stream",
     "text": [
      "Training, epoch 17: 100%|██████████| 181/181 [01:23<00:00,  2.17it/s, accuracy=0.913, batch_size=5778, loss=3.14, mae=0.0935]\n",
      "100%|██████████| 52/52 [00:08<00:00,  6.43it/s, accuracy=0.622, batch_size=1656, loss=14.1, mae=0.423]\n",
      "Training, epoch 18:   0%|          | 0/181 [00:00<?, ?it/s]"
     ]
    },
    {
     "name": "stdout",
     "output_type": "stream",
     "text": [
      "{'mae': 0.42330917874396135, 'loss': 14.083490906130288, 'accuracy': 0.6219806763285024}\n"
     ]
    },
    {
     "name": "stderr",
     "output_type": "stream",
     "text": [
      "Training, epoch 18: 100%|██████████| 181/181 [01:23<00:00,  2.18it/s, accuracy=0.917, batch_size=5778, loss=2.97, mae=0.0909]\n",
      "100%|██████████| 52/52 [00:08<00:00,  6.49it/s, accuracy=0.665, batch_size=1656, loss=12.9, mae=0.4]  \n",
      "Training, epoch 19:   0%|          | 0/181 [00:00<?, ?it/s]"
     ]
    },
    {
     "name": "stdout",
     "output_type": "stream",
     "text": [
      "{'mae': 0.3997584541062802, 'loss': 12.903360016679994, 'accuracy': 0.6648550724637681}\n"
     ]
    },
    {
     "name": "stderr",
     "output_type": "stream",
     "text": [
      "Training, epoch 19: 100%|██████████| 181/181 [01:23<00:00,  2.17it/s, accuracy=0.938, batch_size=5778, loss=2.26, mae=0.0666]\n",
      "100%|██████████| 52/52 [00:08<00:00,  6.49it/s, accuracy=0.661, batch_size=1656, loss=18.3, mae=0.449]\n"
     ]
    },
    {
     "name": "stdout",
     "output_type": "stream",
     "text": [
      "{'mae': 0.4486714976205342, 'loss': 18.252234970313914, 'accuracy': 0.6612318843459162}\n"
     ]
    },
    {
     "name": "stderr",
     "output_type": "stream",
     "text": [
      "Training, epoch 0: 100%|██████████| 181/181 [01:22<00:00,  2.19it/s, accuracy=0.384, batch_size=5778, loss=19.1, mae=1.05]\n",
      "100%|██████████| 52/52 [00:07<00:00,  6.51it/s, accuracy=0.409, batch_size=1656, loss=18.4, mae=1.12] \n",
      "Training, epoch 1:   0%|          | 0/181 [00:00<?, ?it/s]"
     ]
    },
    {
     "name": "stdout",
     "output_type": "stream",
     "text": [
      "{'mae': 1.1177536231884058, 'loss': 18.38074193023829, 'accuracy': 0.40942028985507245}\n"
     ]
    },
    {
     "name": "stderr",
     "output_type": "stream",
     "text": [
      "Training, epoch 1: 100%|██████████| 181/181 [01:23<00:00,  2.18it/s, accuracy=0.49, batch_size=5778, loss=16.4, mae=0.771] \n",
      "100%|██████████| 52/52 [00:07<00:00,  6.51it/s, accuracy=0.483, batch_size=1656, loss=17.1, mae=0.847]\n",
      "Training, epoch 2:   0%|          | 0/181 [00:00<?, ?it/s]"
     ]
    },
    {
     "name": "stdout",
     "output_type": "stream",
     "text": [
      "{'mae': 0.8472222233740028, 'loss': 17.135536249133125, 'accuracy': 0.4830917874396135}\n"
     ]
    },
    {
     "name": "stderr",
     "output_type": "stream",
     "text": [
      "Training, epoch 2: 100%|██████████| 181/181 [01:22<00:00,  2.18it/s, accuracy=0.555, batch_size=5778, loss=14.4, mae=0.641]\n",
      "100%|██████████| 52/52 [00:07<00:00,  6.52it/s, accuracy=0.587, batch_size=1656, loss=13.6, mae=0.575]\n",
      "Training, epoch 3:   0%|          | 0/181 [00:00<?, ?it/s]"
     ]
    },
    {
     "name": "stdout",
     "output_type": "stream",
     "text": [
      "{'mae': 0.5754830918054362, 'loss': 13.551358983136605, 'accuracy': 0.5869565223150207}\n"
     ]
    },
    {
     "name": "stderr",
     "output_type": "stream",
     "text": [
      "Training, epoch 3: 100%|██████████| 181/181 [01:23<00:00,  2.18it/s, accuracy=0.597, batch_size=5778, loss=13.1, mae=0.555]\n",
      "100%|██████████| 52/52 [00:08<00:00,  6.44it/s, accuracy=0.643, batch_size=1656, loss=11.7, mae=0.468]\n",
      "Training, epoch 4:   0%|          | 0/181 [00:00<?, ?it/s]"
     ]
    },
    {
     "name": "stdout",
     "output_type": "stream",
     "text": [
      "{'mae': 0.46799516937007074, 'loss': 11.673456274944803, 'accuracy': 0.6431159426048758}\n"
     ]
    },
    {
     "name": "stderr",
     "output_type": "stream",
     "text": [
      "Training, epoch 4: 100%|██████████| 181/181 [01:22<00:00,  2.18it/s, accuracy=0.631, batch_size=5778, loss=12.1, mae=0.494]\n",
      "100%|██████████| 52/52 [00:08<00:00,  6.44it/s, accuracy=0.664, batch_size=1656, loss=11.2, mae=0.435]\n",
      "Training, epoch 5:   0%|          | 0/181 [00:00<?, ?it/s]"
     ]
    },
    {
     "name": "stdout",
     "output_type": "stream",
     "text": [
      "{'mae': 0.43478260869565216, 'loss': 11.24161066064512, 'accuracy': 0.6642512077294686}\n"
     ]
    },
    {
     "name": "stderr",
     "output_type": "stream",
     "text": [
      "Training, epoch 5: 100%|██████████| 181/181 [01:22<00:00,  2.18it/s, accuracy=0.659, batch_size=5778, loss=10.9, mae=0.436]\n",
      "100%|██████████| 52/52 [00:08<00:00,  6.50it/s, accuracy=0.669, batch_size=1656, loss=10.6, mae=0.388]\n",
      "Training, epoch 6:   0%|          | 0/181 [00:00<?, ?it/s]"
     ]
    },
    {
     "name": "stdout",
     "output_type": "stream",
     "text": [
      "{'mae': 0.38828502419058253, 'loss': 10.640514447493254, 'accuracy': 0.6690821258918099}\n"
     ]
    },
    {
     "name": "stderr",
     "output_type": "stream",
     "text": [
      "Training, epoch 6: 100%|██████████| 181/181 [01:22<00:00,  2.18it/s, accuracy=0.69, batch_size=5778, loss=10.1, mae=0.382] \n",
      "100%|██████████| 52/52 [00:07<00:00,  6.50it/s, accuracy=0.627, batch_size=1656, loss=13.6, mae=0.5]  \n",
      "Training, epoch 7:   0%|          | 0/181 [00:00<?, ?it/s]"
     ]
    },
    {
     "name": "stdout",
     "output_type": "stream",
     "text": [
      "{'mae': 0.5000000001439726, 'loss': 13.63327325599781, 'accuracy': 0.6268115944908437}\n"
     ]
    },
    {
     "name": "stderr",
     "output_type": "stream",
     "text": [
      "Training, epoch 7: 100%|██████████| 181/181 [01:23<00:00,  2.17it/s, accuracy=0.709, batch_size=5778, loss=9.6, mae=0.351] \n",
      "100%|██████████| 52/52 [00:08<00:00,  6.49it/s, accuracy=0.658, batch_size=1656, loss=11.5, mae=0.442]\n",
      "Training, epoch 8:   0%|          | 0/181 [00:00<?, ?it/s]"
     ]
    },
    {
     "name": "stdout",
     "output_type": "stream",
     "text": [
      "{'mae': 0.44202898557923265, 'loss': 11.537509006002676, 'accuracy': 0.6582125609623637}\n"
     ]
    },
    {
     "name": "stderr",
     "output_type": "stream",
     "text": [
      "Training, epoch 8: 100%|██████████| 181/181 [01:23<00:00,  2.17it/s, accuracy=0.725, batch_size=5778, loss=8.88, mae=0.322]\n",
      "100%|██████████| 52/52 [00:08<00:00,  6.48it/s, accuracy=0.687, batch_size=1656, loss=10.6, mae=0.382]\n",
      "Training, epoch 9:   0%|          | 0/181 [00:00<?, ?it/s]"
     ]
    },
    {
     "name": "stdout",
     "output_type": "stream",
     "text": [
      "{'mae': 0.3816425121132878, 'loss': 10.625470737328277, 'accuracy': 0.6871980679207954}\n"
     ]
    },
    {
     "name": "stderr",
     "output_type": "stream",
     "text": [
      "Training, epoch 9: 100%|██████████| 181/181 [01:23<00:00,  2.18it/s, accuracy=0.748, batch_size=5778, loss=8.31, mae=0.29] \n",
      "100%|██████████| 52/52 [00:08<00:00,  6.47it/s, accuracy=0.685, batch_size=1656, loss=10.7, mae=0.381]\n",
      "Training, epoch 10:   0%|          | 0/181 [00:00<?, ?it/s]"
     ]
    },
    {
     "name": "stdout",
     "output_type": "stream",
     "text": [
      "{'mae': 0.3810386473429952, 'loss': 10.737394812026462, 'accuracy': 0.6853864734299517}\n"
     ]
    },
    {
     "name": "stderr",
     "output_type": "stream",
     "text": [
      "Training, epoch 10: 100%|██████████| 181/181 [01:23<00:00,  2.18it/s, accuracy=0.778, batch_size=5778, loss=7.26, mae=0.249]\n",
      "100%|██████████| 52/52 [00:08<00:00,  6.50it/s, accuracy=0.658, batch_size=1656, loss=12.7, mae=0.417]\n",
      "Training, epoch 11:   0%|          | 0/181 [00:00<?, ?it/s]"
     ]
    },
    {
     "name": "stdout",
     "output_type": "stream",
     "text": [
      "{'mae': 0.4172705314009662, 'loss': 12.700258075327113, 'accuracy': 0.657608695652174}\n"
     ]
    },
    {
     "name": "stderr",
     "output_type": "stream",
     "text": [
      "Training, epoch 11: 100%|██████████| 181/181 [01:23<00:00,  2.17it/s, accuracy=0.79, batch_size=5778, loss=6.8, mae=0.234]  \n",
      "100%|██████████| 52/52 [00:07<00:00,  6.50it/s, accuracy=0.69, batch_size=1656, loss=11.8, mae=0.383] \n",
      "Training, epoch 12:   0%|          | 0/181 [00:00<?, ?it/s]"
     ]
    },
    {
     "name": "stdout",
     "output_type": "stream",
     "text": [
      "{'mae': 0.38345410631618637, 'loss': 11.775817958629073, 'accuracy': 0.690217391592293}\n"
     ]
    },
    {
     "name": "stderr",
     "output_type": "stream",
     "text": [
      "Training, epoch 12: 100%|██████████| 181/181 [01:21<00:00,  2.22it/s, accuracy=0.82, batch_size=5778, loss=6.17, mae=0.199] \n",
      "100%|██████████| 52/52 [00:07<00:00,  6.83it/s, accuracy=0.688, batch_size=1656, loss=13, mae=0.391]  \n",
      "Training, epoch 13:   0%|          | 0/181 [00:00<?, ?it/s]"
     ]
    },
    {
     "name": "stdout",
     "output_type": "stream",
     "text": [
      "{'mae': 0.391304347826087, 'loss': 13.030466867529828, 'accuracy': 0.6884057971014492}\n"
     ]
    },
    {
     "name": "stderr",
     "output_type": "stream",
     "text": [
      "Training, epoch 13: 100%|██████████| 181/181 [01:19<00:00,  2.29it/s, accuracy=0.833, batch_size=5778, loss=5.69, mae=0.184]\n",
      "100%|██████████| 52/52 [00:07<00:00,  6.82it/s, accuracy=0.662, batch_size=1656, loss=12.9, mae=0.414]\n",
      "Training, epoch 14:   0%|          | 0/181 [00:00<?, ?it/s]"
     ]
    },
    {
     "name": "stdout",
     "output_type": "stream",
     "text": [
      "{'mae': 0.4142512077294686, 'loss': 12.919277278697432, 'accuracy': 0.6618357487922706}\n"
     ]
    },
    {
     "name": "stderr",
     "output_type": "stream",
     "text": [
      "Training, epoch 14: 100%|██████████| 181/181 [01:19<00:00,  2.29it/s, accuracy=0.849, batch_size=5778, loss=5.28, mae=0.165]\n",
      "100%|██████████| 52/52 [00:07<00:00,  6.74it/s, accuracy=0.597, batch_size=1656, loss=15.7, mae=0.475]\n",
      "Training, epoch 15:   0%|          | 0/181 [00:00<?, ?it/s]"
     ]
    },
    {
     "name": "stdout",
     "output_type": "stream",
     "text": [
      "{'mae': 0.4752415458937198, 'loss': 15.674798378046008, 'accuracy': 0.5966183574879227}\n"
     ]
    },
    {
     "name": "stderr",
     "output_type": "stream",
     "text": [
      "Training, epoch 15: 100%|██████████| 181/181 [01:20<00:00,  2.24it/s, accuracy=0.888, batch_size=5778, loss=3.88, mae=0.12] \n",
      "100%|██████████| 52/52 [00:07<00:00,  6.52it/s, accuracy=0.671, batch_size=1656, loss=13.1, mae=0.379]\n",
      "Training, epoch 16:   0%|          | 0/181 [00:00<?, ?it/s]"
     ]
    },
    {
     "name": "stdout",
     "output_type": "stream",
     "text": [
      "{'mae': 0.3786231884057971, 'loss': 13.09719877657683, 'accuracy': 0.6708937198067633}\n"
     ]
    },
    {
     "name": "stderr",
     "output_type": "stream",
     "text": [
      "Training, epoch 16: 100%|██████████| 181/181 [01:23<00:00,  2.18it/s, accuracy=0.891, batch_size=5778, loss=4.09, mae=0.121]\n",
      "100%|██████████| 52/52 [00:08<00:00,  6.41it/s, accuracy=0.672, batch_size=1656, loss=13.5, mae=0.388]\n",
      "Training, epoch 17:   0%|          | 0/181 [00:00<?, ?it/s]"
     ]
    },
    {
     "name": "stdout",
     "output_type": "stream",
     "text": [
      "{'mae': 0.38768115949227616, 'loss': 13.534321471688829, 'accuracy': 0.6721014498512526}\n"
     ]
    },
    {
     "name": "stderr",
     "output_type": "stream",
     "text": [
      "Training, epoch 17: 100%|██████████| 181/181 [01:23<00:00,  2.17it/s, accuracy=0.918, batch_size=5778, loss=3.03, mae=0.0877]\n",
      "100%|██████████| 52/52 [00:07<00:00,  6.53it/s, accuracy=0.659, batch_size=1656, loss=16.7, mae=0.398]\n",
      "Training, epoch 18:   0%|          | 0/181 [00:00<?, ?it/s]"
     ]
    },
    {
     "name": "stdout",
     "output_type": "stream",
     "text": [
      "{'mae': 0.39794685990338163, 'loss': 16.709903279364397, 'accuracy': 0.6594202898550725}\n"
     ]
    },
    {
     "name": "stderr",
     "output_type": "stream",
     "text": [
      "Training, epoch 18: 100%|██████████| 181/181 [01:22<00:00,  2.19it/s, accuracy=0.891, batch_size=5778, loss=4.05, mae=0.124]\n",
      "100%|██████████| 52/52 [00:08<00:00,  6.50it/s, accuracy=0.638, batch_size=1656, loss=18, mae=0.393]  \n",
      "Training, epoch 19:   0%|          | 0/181 [00:00<?, ?it/s]"
     ]
    },
    {
     "name": "stdout",
     "output_type": "stream",
     "text": [
      "{'mae': 0.39251207743865857, 'loss': 17.967639867810234, 'accuracy': 0.6382850244425345}\n"
     ]
    },
    {
     "name": "stderr",
     "output_type": "stream",
     "text": [
      "Training, epoch 19: 100%|██████████| 181/181 [01:22<00:00,  2.18it/s, accuracy=0.939, batch_size=5778, loss=2.4, mae=0.0659] \n",
      "100%|██████████| 52/52 [00:08<00:00,  6.50it/s, accuracy=0.652, batch_size=1656, loss=17, mae=0.386]  \n"
     ]
    },
    {
     "name": "stdout",
     "output_type": "stream",
     "text": [
      "{'mae': 0.3864734300236771, 'loss': 17.01971375654285, 'accuracy': 0.6521739136193685}\n"
     ]
    },
    {
     "name": "stderr",
     "output_type": "stream",
     "text": [
      "Training, epoch 0: 100%|██████████| 362/362 [01:29<00:00,  4.06it/s, accuracy=0.41, batch_size=5778, loss=3.54, mae=0.948] \n",
      "100%|██████████| 104/104 [00:08<00:00, 12.53it/s, accuracy=0.452, batch_size=1656, loss=3.39, mae=0.86] \n",
      "Training, epoch 1:   0%|          | 0/362 [00:00<?, ?it/s]"
     ]
    },
    {
     "name": "stdout",
     "output_type": "stream",
     "text": [
      "{'mae': 0.8599033816425121, 'loss': 3.3863592504879128, 'accuracy': 0.45169082125603865}\n"
     ]
    },
    {
     "name": "stderr",
     "output_type": "stream",
     "text": [
      "Training, epoch 1: 100%|██████████| 362/362 [01:29<00:00,  4.05it/s, accuracy=0.477, batch_size=5778, loss=3.16, mae=0.749]\n",
      "100%|██████████| 104/104 [00:08<00:00, 12.55it/s, accuracy=0.47, batch_size=1656, loss=3.34, mae=0.829] \n",
      "Training, epoch 2:   0%|          | 0/362 [00:00<?, ?it/s]"
     ]
    },
    {
     "name": "stdout",
     "output_type": "stream",
     "text": [
      "{'mae': 0.8291062801932367, 'loss': 3.3430908434632896, 'accuracy': 0.46980676328502413}\n"
     ]
    },
    {
     "name": "stderr",
     "output_type": "stream",
     "text": [
      "Training, epoch 2: 100%|██████████| 362/362 [01:29<00:00,  4.04it/s, accuracy=0.524, batch_size=5778, loss=2.91, mae=0.648]\n",
      "100%|██████████| 104/104 [00:08<00:00, 12.24it/s, accuracy=0.171, batch_size=1656, loss=5.27, mae=1.45]\n",
      "Training, epoch 3:   0%|          | 0/362 [00:00<?, ?it/s]"
     ]
    },
    {
     "name": "stdout",
     "output_type": "stream",
     "text": [
      "{'mae': 1.446256038647343, 'loss': 5.270070742293832, 'accuracy': 0.17149758454106281}\n"
     ]
    },
    {
     "name": "stderr",
     "output_type": "stream",
     "text": [
      "Training, epoch 3: 100%|██████████| 362/362 [01:29<00:00,  4.06it/s, accuracy=0.563, batch_size=5778, loss=2.7, mae=0.582] \n",
      "100%|██████████| 104/104 [00:08<00:00, 12.12it/s, accuracy=0.549, batch_size=1656, loss=3.07, mae=0.664]\n",
      "Training, epoch 4:   0%|          | 0/362 [00:00<?, ?it/s]"
     ]
    },
    {
     "name": "stdout",
     "output_type": "stream",
     "text": [
      "{'mae': 0.6642512077294686, 'loss': 3.068036325023946, 'accuracy': 0.5489130434782609}\n"
     ]
    },
    {
     "name": "stderr",
     "output_type": "stream",
     "text": [
      "Training, epoch 4: 100%|██████████| 362/362 [01:29<00:00,  4.04it/s, accuracy=0.602, batch_size=5778, loss=2.51, mae=0.522]\n",
      "100%|██████████| 104/104 [00:08<00:00, 12.43it/s, accuracy=0.537, batch_size=1656, loss=3.29, mae=0.69] \n",
      "Training, epoch 5:   0%|          | 0/362 [00:00<?, ?it/s]"
     ]
    },
    {
     "name": "stdout",
     "output_type": "stream",
     "text": [
      "{'mae': 0.6902173913043478, 'loss': 3.2907804233440454, 'accuracy': 0.5374396135265701}\n"
     ]
    },
    {
     "name": "stderr",
     "output_type": "stream",
     "text": [
      "Training, epoch 5: 100%|██████████| 362/362 [01:29<00:00,  4.04it/s, accuracy=0.627, batch_size=5778, loss=2.38, mae=0.476]\n",
      "100%|██████████| 104/104 [00:08<00:00, 12.37it/s, accuracy=0.603, batch_size=1656, loss=2.46, mae=0.502]\n",
      "Training, epoch 6:   0%|          | 0/362 [00:00<?, ?it/s]"
     ]
    },
    {
     "name": "stdout",
     "output_type": "stream",
     "text": [
      "{'mae': 0.5024154589371981, 'loss': 2.4581484287833244, 'accuracy': 0.6026570048309179}\n"
     ]
    },
    {
     "name": "stderr",
     "output_type": "stream",
     "text": [
      "Training, epoch 6: 100%|██████████| 362/362 [01:29<00:00,  4.04it/s, accuracy=0.652, batch_size=5778, loss=2.27, mae=0.438]\n",
      "100%|██████████| 104/104 [00:08<00:00, 12.13it/s, accuracy=0.636, batch_size=1656, loss=2.43, mae=0.489]\n",
      "Training, epoch 7:   0%|          | 0/362 [00:00<?, ?it/s]"
     ]
    },
    {
     "name": "stdout",
     "output_type": "stream",
     "text": [
      "{'mae': 0.4891304347826087, 'loss': 2.431422750155131, 'accuracy': 0.6364734299516909}\n"
     ]
    },
    {
     "name": "stderr",
     "output_type": "stream",
     "text": [
      "Training, epoch 7: 100%|██████████| 362/362 [01:30<00:00,  4.02it/s, accuracy=0.668, batch_size=5778, loss=2.16, mae=0.412]\n",
      "100%|██████████| 104/104 [00:08<00:00, 12.41it/s, accuracy=0.609, batch_size=1656, loss=2.78, mae=0.546]\n",
      "Training, epoch 8:   0%|          | 0/362 [00:00<?, ?it/s]"
     ]
    },
    {
     "name": "stdout",
     "output_type": "stream",
     "text": [
      "{'mae': 0.5464975845410628, 'loss': 2.7833785141147853, 'accuracy': 0.6086956521739131}\n"
     ]
    },
    {
     "name": "stderr",
     "output_type": "stream",
     "text": [
      "Training, epoch 8: 100%|██████████| 362/362 [01:29<00:00,  4.04it/s, accuracy=0.682, batch_size=5778, loss=2.05, mae=0.386]\n",
      "100%|██████████| 104/104 [00:08<00:00, 12.40it/s, accuracy=0.647, batch_size=1656, loss=2.31, mae=0.44] \n",
      "Training, epoch 9:   0%|          | 0/362 [00:00<?, ?it/s]"
     ]
    },
    {
     "name": "stdout",
     "output_type": "stream",
     "text": [
      "{'mae': 0.4396135265700483, 'loss': 2.310770874726024, 'accuracy': 0.6473429951690821}\n"
     ]
    },
    {
     "name": "stderr",
     "output_type": "stream",
     "text": [
      "Training, epoch 9: 100%|██████████| 362/362 [01:29<00:00,  4.04it/s, accuracy=0.691, batch_size=5778, loss=2, mae=0.375]   \n",
      "100%|██████████| 104/104 [00:08<00:00, 12.41it/s, accuracy=0.574, batch_size=1656, loss=2.93, mae=0.591]\n",
      "Training, epoch 10:   0%|          | 0/362 [00:00<?, ?it/s]"
     ]
    },
    {
     "name": "stdout",
     "output_type": "stream",
     "text": [
      "{'mae': 0.591183574879227, 'loss': 2.9292271223621094, 'accuracy': 0.5736714975845411}\n"
     ]
    },
    {
     "name": "stderr",
     "output_type": "stream",
     "text": [
      "Training, epoch 10: 100%|██████████| 362/362 [01:29<00:00,  4.03it/s, accuracy=0.704, batch_size=5778, loss=1.92, mae=0.354]\n",
      "100%|██████████| 104/104 [00:08<00:00, 12.41it/s, accuracy=0.626, batch_size=1656, loss=2.29, mae=0.438]\n",
      "Training, epoch 11:   0%|          | 0/362 [00:00<?, ?it/s]"
     ]
    },
    {
     "name": "stdout",
     "output_type": "stream",
     "text": [
      "{'mae': 0.43780193236714976, 'loss': 2.2857037932400543, 'accuracy': 0.6256038647342995}\n"
     ]
    },
    {
     "name": "stderr",
     "output_type": "stream",
     "text": [
      "Training, epoch 11: 100%|██████████| 362/362 [01:29<00:00,  4.04it/s, accuracy=0.727, batch_size=5778, loss=1.83, mae=0.32] \n",
      "100%|██████████| 104/104 [00:08<00:00, 12.45it/s, accuracy=0.635, batch_size=1656, loss=2.37, mae=0.457]\n",
      "Training, epoch 12:   0%|          | 0/362 [00:00<?, ?it/s]"
     ]
    },
    {
     "name": "stdout",
     "output_type": "stream",
     "text": [
      "{'mae': 0.45652173913043476, 'loss': 2.367024010506229, 'accuracy': 0.6352657004830918}\n"
     ]
    },
    {
     "name": "stderr",
     "output_type": "stream",
     "text": [
      "Training, epoch 12: 100%|██████████| 362/362 [01:30<00:00,  4.02it/s, accuracy=0.73, batch_size=5778, loss=1.77, mae=0.317] \n",
      "100%|██████████| 104/104 [00:08<00:00, 12.40it/s, accuracy=0.652, batch_size=1656, loss=2.22, mae=0.411]\n",
      "Training, epoch 13:   0%|          | 0/362 [00:00<?, ?it/s]"
     ]
    },
    {
     "name": "stdout",
     "output_type": "stream",
     "text": [
      "{'mae': 0.4106280193236715, 'loss': 2.2229361799028187, 'accuracy': 0.6521739130434783}\n"
     ]
    },
    {
     "name": "stderr",
     "output_type": "stream",
     "text": [
      "Training, epoch 13: 100%|██████████| 362/362 [01:29<00:00,  4.04it/s, accuracy=0.74, batch_size=5778, loss=1.72, mae=0.306] \n",
      "100%|██████████| 104/104 [00:08<00:00, 12.40it/s, accuracy=0.591, batch_size=1656, loss=3.13, mae=0.571]\n",
      "Training, epoch 14:   0%|          | 0/362 [00:00<?, ?it/s]"
     ]
    },
    {
     "name": "stdout",
     "output_type": "stream",
     "text": [
      "{'mae': 0.5706521739130435, 'loss': 3.1346180485066584, 'accuracy': 0.5905797101449275}\n"
     ]
    },
    {
     "name": "stderr",
     "output_type": "stream",
     "text": [
      "Training, epoch 14: 100%|██████████| 362/362 [01:29<00:00,  4.02it/s, accuracy=0.755, batch_size=5778, loss=1.65, mae=0.284]\n",
      "100%|██████████| 104/104 [00:08<00:00, 12.40it/s, accuracy=0.47, batch_size=1656, loss=5.87, mae=0.838]  \n",
      "Training, epoch 15:   0%|          | 0/362 [00:00<?, ?it/s]"
     ]
    },
    {
     "name": "stdout",
     "output_type": "stream",
     "text": [
      "{'mae': 0.8375603864734299, 'loss': 5.866660720808206, 'accuracy': 0.47041062801932365}\n"
     ]
    },
    {
     "name": "stderr",
     "output_type": "stream",
     "text": [
      "Training, epoch 15: 100%|██████████| 362/362 [01:29<00:00,  4.04it/s, accuracy=0.767, batch_size=5778, loss=1.58, mae=0.267]\n",
      "100%|██████████| 104/104 [00:08<00:00, 12.10it/s, accuracy=0.672, batch_size=1656, loss=2.19, mae=0.397]\n",
      "Training, epoch 16:   0%|          | 0/362 [00:00<?, ?it/s]"
     ]
    },
    {
     "name": "stdout",
     "output_type": "stream",
     "text": [
      "{'mae': 0.3967391304347826, 'loss': 2.1874398399090422, 'accuracy': 0.6721014492753623}\n"
     ]
    },
    {
     "name": "stderr",
     "output_type": "stream",
     "text": [
      "Training, epoch 16: 100%|██████████| 362/362 [01:29<00:00,  4.05it/s, accuracy=0.778, batch_size=5778, loss=1.49, mae=0.25] \n",
      "100%|██████████| 104/104 [00:08<00:00, 12.14it/s, accuracy=0.623, batch_size=1656, loss=2.48, mae=0.455]\n",
      "Training, epoch 17:   0%|          | 0/362 [00:00<?, ?it/s]"
     ]
    },
    {
     "name": "stdout",
     "output_type": "stream",
     "text": [
      "{'mae': 0.4553140096618358, 'loss': 2.478877745964677, 'accuracy': 0.6231884057971014}\n"
     ]
    },
    {
     "name": "stderr",
     "output_type": "stream",
     "text": [
      "Training, epoch 17: 100%|██████████| 362/362 [01:29<00:00,  4.02it/s, accuracy=0.787, batch_size=5778, loss=1.44, mae=0.24] \n",
      "100%|██████████| 104/104 [00:08<00:00, 12.16it/s, accuracy=0.681, batch_size=1656, loss=2.37, mae=0.383]\n",
      "Training, epoch 18:   0%|          | 0/362 [00:00<?, ?it/s]"
     ]
    },
    {
     "name": "stdout",
     "output_type": "stream",
     "text": [
      "{'mae': 0.3834541062801932, 'loss': 2.3719831697894755, 'accuracy': 0.6811594202898551}\n"
     ]
    },
    {
     "name": "stderr",
     "output_type": "stream",
     "text": [
      "Training, epoch 18: 100%|██████████| 362/362 [01:29<00:00,  4.03it/s, accuracy=0.793, batch_size=5778, loss=1.38, mae=0.229]\n",
      "100%|██████████| 104/104 [00:08<00:00, 12.43it/s, accuracy=0.633, batch_size=1656, loss=2.72, mae=0.463]\n",
      "Training, epoch 19:   0%|          | 0/362 [00:00<?, ?it/s]"
     ]
    },
    {
     "name": "stdout",
     "output_type": "stream",
     "text": [
      "{'mae': 0.46316425120772947, 'loss': 2.7173344023561707, 'accuracy': 0.6334541062801933}\n"
     ]
    },
    {
     "name": "stderr",
     "output_type": "stream",
     "text": [
      "Training, epoch 19: 100%|██████████| 362/362 [01:30<00:00,  4.02it/s, accuracy=0.805, batch_size=5778, loss=1.3, mae=0.218] \n",
      "100%|██████████| 104/104 [00:08<00:00, 12.39it/s, accuracy=0.668, batch_size=1656, loss=2.33, mae=0.381]\n"
     ]
    },
    {
     "name": "stdout",
     "output_type": "stream",
     "text": [
      "{'mae': 0.3810386473429952, 'loss': 2.3340049023213596, 'accuracy': 0.6684782608695652}\n"
     ]
    },
    {
     "name": "stderr",
     "output_type": "stream",
     "text": [
      "Training, epoch 0: 100%|██████████| 362/362 [01:28<00:00,  4.09it/s, accuracy=0.381, batch_size=5778, loss=4.9, mae=0.943] \n",
      "100%|██████████| 104/104 [00:07<00:00, 13.02it/s, accuracy=0.396, batch_size=1656, loss=7.15, mae=1.18]  \n",
      "Training, epoch 1:   0%|          | 0/362 [00:00<?, ?it/s]"
     ]
    },
    {
     "name": "stdout",
     "output_type": "stream",
     "text": [
      "{'mae': 1.1829710144927537, 'loss': 7.152343803269852, 'accuracy': 0.3961352657004831}\n"
     ]
    },
    {
     "name": "stderr",
     "output_type": "stream",
     "text": [
      "Training, epoch 1: 100%|██████████| 362/362 [01:25<00:00,  4.23it/s, accuracy=0.465, batch_size=5778, loss=4.27, mae=0.739]\n",
      "100%|██████████| 104/104 [00:07<00:00, 13.12it/s, accuracy=0.537, batch_size=1656, loss=3.97, mae=0.641]\n",
      "Training, epoch 2:   0%|          | 0/362 [00:00<?, ?it/s]"
     ]
    },
    {
     "name": "stdout",
     "output_type": "stream",
     "text": [
      "{'mae': 0.6407004830917874, 'loss': 3.968355457563907, 'accuracy': 0.5374396135265701}\n"
     ]
    },
    {
     "name": "stderr",
     "output_type": "stream",
     "text": [
      "Training, epoch 2: 100%|██████████| 362/362 [01:24<00:00,  4.28it/s, accuracy=0.528, batch_size=5778, loss=3.93, mae=0.63] \n",
      "100%|██████████| 104/104 [00:07<00:00, 13.09it/s, accuracy=0.409, batch_size=1656, loss=5.3, mae=0.978] \n",
      "Training, epoch 3:   0%|          | 0/362 [00:00<?, ?it/s]"
     ]
    },
    {
     "name": "stdout",
     "output_type": "stream",
     "text": [
      "{'mae': 0.9782608695652174, 'loss': 5.301078900046971, 'accuracy': 0.40881642512077293}\n"
     ]
    },
    {
     "name": "stderr",
     "output_type": "stream",
     "text": [
      "Training, epoch 3: 100%|██████████| 362/362 [01:25<00:00,  4.25it/s, accuracy=0.576, batch_size=5778, loss=3.57, mae=0.552]\n",
      "100%|██████████| 104/104 [00:07<00:00, 13.01it/s, accuracy=0.534, batch_size=1656, loss=3.88, mae=0.679]\n",
      "Training, epoch 4:   0%|          | 0/362 [00:00<?, ?it/s]"
     ]
    },
    {
     "name": "stdout",
     "output_type": "stream",
     "text": [
      "{'mae': 0.678743961352657, 'loss': 3.8792776393429667, 'accuracy': 0.533816425120773}\n"
     ]
    },
    {
     "name": "stderr",
     "output_type": "stream",
     "text": [
      "Training, epoch 4: 100%|██████████| 362/362 [01:27<00:00,  4.15it/s, accuracy=0.595, batch_size=5778, loss=3.4, mae=0.516] \n",
      "100%|██████████| 104/104 [00:08<00:00, 12.48it/s, accuracy=0.617, batch_size=1656, loss=3.18, mae=0.463]\n",
      "Training, epoch 5:   0%|          | 0/362 [00:00<?, ?it/s]"
     ]
    },
    {
     "name": "stdout",
     "output_type": "stream",
     "text": [
      "{'mae': 0.46316425120772947, 'loss': 3.1775918410020174, 'accuracy': 0.6171497584541062}\n"
     ]
    },
    {
     "name": "stderr",
     "output_type": "stream",
     "text": [
      "Training, epoch 5: 100%|██████████| 362/362 [01:29<00:00,  4.06it/s, accuracy=0.64, batch_size=5778, loss=3.12, mae=0.448] \n",
      "100%|██████████| 104/104 [00:08<00:00, 12.38it/s, accuracy=0.654, batch_size=1656, loss=3.04, mae=0.42] \n",
      "Training, epoch 6:   0%|          | 0/362 [00:00<?, ?it/s]"
     ]
    },
    {
     "name": "stdout",
     "output_type": "stream",
     "text": [
      "{'mae': 0.42028985507246375, 'loss': 3.042026052152477, 'accuracy': 0.6539855072463768}\n"
     ]
    },
    {
     "name": "stderr",
     "output_type": "stream",
     "text": [
      "Training, epoch 6: 100%|██████████| 362/362 [01:29<00:00,  4.05it/s, accuracy=0.655, batch_size=5778, loss=2.96, mae=0.417]\n",
      "100%|██████████| 104/104 [00:08<00:00, 12.38it/s, accuracy=0.535, batch_size=1656, loss=3.99, mae=0.591]\n",
      "Training, epoch 7:   0%|          | 0/362 [00:00<?, ?it/s]"
     ]
    },
    {
     "name": "stdout",
     "output_type": "stream",
     "text": [
      "{'mae': 0.5905797101449275, 'loss': 3.9853388442509416, 'accuracy': 0.535024154589372}\n"
     ]
    },
    {
     "name": "stderr",
     "output_type": "stream",
     "text": [
      "Training, epoch 7: 100%|██████████| 362/362 [01:29<00:00,  4.05it/s, accuracy=0.674, batch_size=5778, loss=2.81, mae=0.388]\n",
      "100%|██████████| 104/104 [00:08<00:00, 12.50it/s, accuracy=0.609, batch_size=1656, loss=3.5, mae=0.522] \n",
      "Training, epoch 8:   0%|          | 0/362 [00:00<?, ?it/s]"
     ]
    },
    {
     "name": "stdout",
     "output_type": "stream",
     "text": [
      "{'mae': 0.5223429951690821, 'loss': 3.5018769612058924, 'accuracy': 0.6092995169082126}\n"
     ]
    },
    {
     "name": "stderr",
     "output_type": "stream",
     "text": [
      "Training, epoch 8: 100%|██████████| 362/362 [01:29<00:00,  4.05it/s, accuracy=0.682, batch_size=5778, loss=2.71, mae=0.376]\n",
      "100%|██████████| 104/104 [00:08<00:00, 12.13it/s, accuracy=0.595, batch_size=1656, loss=4, mae=0.553]   \n",
      "Training, epoch 9:   0%|          | 0/362 [00:00<?, ?it/s]"
     ]
    },
    {
     "name": "stdout",
     "output_type": "stream",
     "text": [
      "{'mae': 0.552536231884058, 'loss': 4.0010528898469495, 'accuracy': 0.5948067632850241}\n"
     ]
    },
    {
     "name": "stderr",
     "output_type": "stream",
     "text": [
      "Training, epoch 9: 100%|██████████| 362/362 [01:29<00:00,  4.03it/s, accuracy=0.705, batch_size=5778, loss=2.56, mae=0.342]\n",
      "100%|██████████| 104/104 [00:08<00:00, 12.36it/s, accuracy=0.651, batch_size=1656, loss=2.95, mae=0.406]\n",
      "Training, epoch 10:   0%|          | 0/362 [00:00<?, ?it/s]"
     ]
    },
    {
     "name": "stdout",
     "output_type": "stream",
     "text": [
      "{'mae': 0.4057971014492754, 'loss': 2.946478723903785, 'accuracy': 0.6509661835748792}\n"
     ]
    },
    {
     "name": "stderr",
     "output_type": "stream",
     "text": [
      "Training, epoch 10: 100%|██████████| 362/362 [01:29<00:00,  4.04it/s, accuracy=0.721, batch_size=5778, loss=2.41, mae=0.318]\n",
      "100%|██████████| 104/104 [00:08<00:00, 12.45it/s, accuracy=0.572, batch_size=1656, loss=5.36, mae=0.626] \n",
      "Training, epoch 11:   0%|          | 0/362 [00:00<?, ?it/s]"
     ]
    },
    {
     "name": "stdout",
     "output_type": "stream",
     "text": [
      "{'mae': 0.626207729468599, 'loss': 5.3623710301331275, 'accuracy': 0.572463768115942}\n"
     ]
    },
    {
     "name": "stderr",
     "output_type": "stream",
     "text": [
      "Training, epoch 11: 100%|██████████| 362/362 [01:29<00:00,  4.05it/s, accuracy=0.741, batch_size=5778, loss=2.28, mae=0.293]\n",
      "100%|██████████| 104/104 [00:08<00:00, 12.51it/s, accuracy=0.529, batch_size=1656, loss=4.74, mae=0.644]\n",
      "Training, epoch 12:   0%|          | 0/362 [00:00<?, ?it/s]"
     ]
    },
    {
     "name": "stdout",
     "output_type": "stream",
     "text": [
      "{'mae': 0.6443236714975845, 'loss': 4.736763321259171, 'accuracy': 0.5289855072463768}\n"
     ]
    },
    {
     "name": "stderr",
     "output_type": "stream",
     "text": [
      "Training, epoch 12: 100%|██████████| 362/362 [01:29<00:00,  4.04it/s, accuracy=0.745, batch_size=5778, loss=2.24, mae=0.291]\n",
      "100%|██████████| 104/104 [00:08<00:00, 12.42it/s, accuracy=0.637, batch_size=1656, loss=3.79, mae=0.461]\n",
      "Training, epoch 13:   0%|          | 0/362 [00:00<?, ?it/s]"
     ]
    },
    {
     "name": "stdout",
     "output_type": "stream",
     "text": [
      "{'mae': 0.4613526570048309, 'loss': 3.7857976712754384, 'accuracy': 0.6370772946859904}\n"
     ]
    },
    {
     "name": "stderr",
     "output_type": "stream",
     "text": [
      "Training, epoch 13: 100%|██████████| 362/362 [01:29<00:00,  4.04it/s, accuracy=0.76, batch_size=5778, loss=2.11, mae=0.269] \n",
      "100%|██████████| 104/104 [00:08<00:00, 12.14it/s, accuracy=0.65, batch_size=1656, loss=3.02, mae=0.393] \n",
      "Training, epoch 14:   0%|          | 0/362 [00:00<?, ?it/s]"
     ]
    },
    {
     "name": "stdout",
     "output_type": "stream",
     "text": [
      "{'mae': 0.392512077294686, 'loss': 3.0180009718678424, 'accuracy': 0.6503623188405797}\n"
     ]
    },
    {
     "name": "stderr",
     "output_type": "stream",
     "text": [
      "Training, epoch 14: 100%|██████████| 362/362 [01:29<00:00,  4.05it/s, accuracy=0.782, batch_size=5778, loss=2, mae=0.245]   \n",
      "100%|██████████| 104/104 [00:08<00:00, 12.32it/s, accuracy=0.598, batch_size=1656, loss=4.23, mae=0.488]\n",
      "Training, epoch 15:   0%|          | 0/362 [00:00<?, ?it/s]"
     ]
    },
    {
     "name": "stdout",
     "output_type": "stream",
     "text": [
      "{'mae': 0.48792270531400966, 'loss': 4.2346146198862415, 'accuracy': 0.5978260869565217}\n"
     ]
    },
    {
     "name": "stderr",
     "output_type": "stream",
     "text": [
      "Training, epoch 15: 100%|██████████| 362/362 [01:30<00:00,  4.01it/s, accuracy=0.79, batch_size=5778, loss=1.88, mae=0.232] \n",
      "100%|██████████| 104/104 [00:08<00:00, 12.31it/s, accuracy=0.662, batch_size=1656, loss=3.12, mae=0.393]\n",
      "Training, epoch 16:   0%|          | 0/362 [00:00<?, ?it/s]"
     ]
    },
    {
     "name": "stdout",
     "output_type": "stream",
     "text": [
      "{'mae': 0.392512077294686, 'loss': 3.119107283255904, 'accuracy': 0.6624396135265701}\n"
     ]
    },
    {
     "name": "stderr",
     "output_type": "stream",
     "text": [
      "Training, epoch 16: 100%|██████████| 362/362 [01:29<00:00,  4.04it/s, accuracy=0.81, batch_size=5778, loss=1.75, mae=0.205] \n",
      "100%|██████████| 104/104 [00:08<00:00, 12.33it/s, accuracy=0.632, batch_size=1656, loss=3.14, mae=0.411]\n",
      "Training, epoch 17:   0%|          | 0/362 [00:00<?, ?it/s]"
     ]
    },
    {
     "name": "stdout",
     "output_type": "stream",
     "text": [
      "{'mae': 0.4106280193236715, 'loss': 3.1439168821786336, 'accuracy': 0.6316425120772947}\n"
     ]
    },
    {
     "name": "stderr",
     "output_type": "stream",
     "text": [
      "Training, epoch 17: 100%|██████████| 362/362 [01:26<00:00,  4.17it/s, accuracy=0.815, batch_size=5778, loss=1.69, mae=0.201]\n",
      "100%|██████████| 104/104 [00:08<00:00, 12.90it/s, accuracy=0.571, batch_size=1656, loss=5.16, mae=0.585]\n",
      "Training, epoch 18:   0%|          | 0/362 [00:00<?, ?it/s]"
     ]
    },
    {
     "name": "stdout",
     "output_type": "stream",
     "text": [
      "{'mae': 0.5851449275362319, 'loss': 5.156364097687358, 'accuracy': 0.5706521739130435}\n"
     ]
    },
    {
     "name": "stderr",
     "output_type": "stream",
     "text": [
      "Training, epoch 18: 100%|██████████| 362/362 [01:25<00:00,  4.25it/s, accuracy=0.822, batch_size=5778, loss=1.59, mae=0.192]\n",
      "100%|██████████| 104/104 [00:07<00:00, 13.09it/s, accuracy=0.486, batch_size=1656, loss=7.47, mae=0.758]\n",
      "Training, epoch 19:   0%|          | 0/362 [00:00<?, ?it/s]"
     ]
    },
    {
     "name": "stdout",
     "output_type": "stream",
     "text": [
      "{'mae': 0.7578502415458938, 'loss': 7.467079176275051, 'accuracy': 0.4855072463768116}\n"
     ]
    },
    {
     "name": "stderr",
     "output_type": "stream",
     "text": [
      "Training, epoch 19: 100%|██████████| 362/362 [01:25<00:00,  4.25it/s, accuracy=0.836, batch_size=5778, loss=1.5, mae=0.178] \n",
      "100%|██████████| 104/104 [00:08<00:00, 12.99it/s, accuracy=0.636, batch_size=1656, loss=3.92, mae=0.431]\n"
     ]
    },
    {
     "name": "stdout",
     "output_type": "stream",
     "text": [
      "{'mae': 0.4311594202898551, 'loss': 3.9161314280424717, 'accuracy': 0.6358695652173914}\n"
     ]
    },
    {
     "name": "stderr",
     "output_type": "stream",
     "text": [
      "Training, epoch 0: 100%|██████████| 362/362 [01:26<00:00,  4.20it/s, accuracy=0.388, batch_size=5778, loss=6.12, mae=0.904]\n",
      "100%|██████████| 104/104 [00:08<00:00, 12.77it/s, accuracy=0.182, batch_size=1656, loss=8.97, mae=1.49]\n",
      "Training, epoch 1:   0%|          | 0/362 [00:00<?, ?it/s]"
     ]
    },
    {
     "name": "stdout",
     "output_type": "stream",
     "text": [
      "{'mae': 1.4873188405797102, 'loss': 8.973585384479467, 'accuracy': 0.1817632850241546}\n"
     ]
    },
    {
     "name": "stderr",
     "output_type": "stream",
     "text": [
      "Training, epoch 1: 100%|██████████| 362/362 [01:28<00:00,  4.09it/s, accuracy=0.49, batch_size=5778, loss=5.23, mae=0.684] \n",
      "100%|██████████| 104/104 [00:08<00:00, 12.25it/s, accuracy=0.434, batch_size=1656, loss=6.55, mae=0.982]\n",
      "Training, epoch 2:   0%|          | 0/362 [00:00<?, ?it/s]"
     ]
    },
    {
     "name": "stdout",
     "output_type": "stream",
     "text": [
      "{'mae': 0.982487922705314, 'loss': 6.554775043386192, 'accuracy': 0.43417874396135264}\n"
     ]
    },
    {
     "name": "stderr",
     "output_type": "stream",
     "text": [
      "Training, epoch 2: 100%|██████████| 362/362 [01:29<00:00,  4.02it/s, accuracy=0.541, batch_size=5778, loss=4.69, mae=0.588]\n",
      "100%|██████████| 104/104 [00:08<00:00, 12.14it/s, accuracy=0.6, batch_size=1656, loss=4.36, mae=0.539]  \n",
      "Training, epoch 3:   0%|          | 0/362 [00:00<?, ?it/s]"
     ]
    },
    {
     "name": "stdout",
     "output_type": "stream",
     "text": [
      "{'mae': 0.5392512077294686, 'loss': 4.358072519302368, 'accuracy': 0.5996376811594203}\n"
     ]
    },
    {
     "name": "stderr",
     "output_type": "stream",
     "text": [
      "Training, epoch 3: 100%|██████████| 362/362 [01:29<00:00,  4.03it/s, accuracy=0.593, batch_size=5778, loss=4.31, mae=0.515]\n",
      "100%|██████████| 104/104 [00:08<00:00, 12.22it/s, accuracy=0.614, batch_size=1656, loss=4.16, mae=0.503]\n",
      "Training, epoch 4:   0%|          | 0/362 [00:00<?, ?it/s]"
     ]
    },
    {
     "name": "stdout",
     "output_type": "stream",
     "text": [
      "{'mae': 0.5030193236714976, 'loss': 4.158992765606314, 'accuracy': 0.6141304347826086}\n"
     ]
    },
    {
     "name": "stderr",
     "output_type": "stream",
     "text": [
      "Training, epoch 4: 100%|██████████| 362/362 [01:28<00:00,  4.10it/s, accuracy=0.619, batch_size=5778, loss=4.01, mae=0.465]\n",
      "100%|██████████| 104/104 [00:07<00:00, 13.01it/s, accuracy=0.629, batch_size=1656, loss=4.08, mae=0.482]\n",
      "Training, epoch 5:   0%|          | 0/362 [00:00<?, ?it/s]"
     ]
    },
    {
     "name": "stdout",
     "output_type": "stream",
     "text": [
      "{'mae': 0.482487922705314, 'loss': 4.082917132815301, 'accuracy': 0.6286231884057971}\n"
     ]
    },
    {
     "name": "stderr",
     "output_type": "stream",
     "text": [
      "Training, epoch 5: 100%|██████████| 362/362 [01:25<00:00,  4.25it/s, accuracy=0.661, batch_size=5778, loss=3.69, mae=0.409]\n",
      "100%|██████████| 104/104 [00:07<00:00, 13.07it/s, accuracy=0.658, batch_size=1656, loss=3.99, mae=0.45] \n",
      "Training, epoch 6:   0%|          | 0/362 [00:00<?, ?it/s]"
     ]
    },
    {
     "name": "stdout",
     "output_type": "stream",
     "text": [
      "{'mae': 0.4498792270531401, 'loss': 3.9917040608355387, 'accuracy': 0.657608695652174}\n"
     ]
    },
    {
     "name": "stderr",
     "output_type": "stream",
     "text": [
      "Training, epoch 6: 100%|██████████| 362/362 [01:25<00:00,  4.24it/s, accuracy=0.67, batch_size=5778, loss=3.52, mae=0.391] \n",
      "100%|██████████| 104/104 [00:08<00:00, 12.94it/s, accuracy=0.638, batch_size=1656, loss=3.78, mae=0.415]\n",
      "Training, epoch 7:   0%|          | 0/362 [00:00<?, ?it/s]"
     ]
    },
    {
     "name": "stdout",
     "output_type": "stream",
     "text": [
      "{'mae': 0.4148550724637681, 'loss': 3.784192545402453, 'accuracy': 0.6382850241545893}\n"
     ]
    },
    {
     "name": "stderr",
     "output_type": "stream",
     "text": [
      "Training, epoch 7: 100%|██████████| 362/362 [01:27<00:00,  4.14it/s, accuracy=0.689, batch_size=5778, loss=3.39, mae=0.365]\n",
      "100%|██████████| 104/104 [00:08<00:00, 12.61it/s, accuracy=0.495, batch_size=1656, loss=5.83, mae=0.708]\n",
      "Training, epoch 8:   0%|          | 0/362 [00:00<?, ?it/s]"
     ]
    },
    {
     "name": "stdout",
     "output_type": "stream",
     "text": [
      "{'mae': 0.7083333333333334, 'loss': 5.833884392095649, 'accuracy': 0.4945652173913043}\n"
     ]
    },
    {
     "name": "stderr",
     "output_type": "stream",
     "text": [
      "Training, epoch 8: 100%|██████████| 362/362 [01:29<00:00,  4.05it/s, accuracy=0.707, batch_size=5778, loss=3.16, mae=0.343]\n",
      "100%|██████████| 104/104 [00:08<00:00, 12.44it/s, accuracy=0.574, batch_size=1656, loss=4.35, mae=0.505]\n",
      "Training, epoch 9:   0%|          | 0/362 [00:00<?, ?it/s]"
     ]
    },
    {
     "name": "stdout",
     "output_type": "stream",
     "text": [
      "{'mae': 0.5048309178743962, 'loss': 4.346627264207112, 'accuracy': 0.5742753623188406}\n"
     ]
    },
    {
     "name": "stderr",
     "output_type": "stream",
     "text": [
      "Training, epoch 9: 100%|██████████| 362/362 [01:29<00:00,  4.03it/s, accuracy=0.725, batch_size=5778, loss=3.01, mae=0.313]\n",
      "100%|██████████| 104/104 [00:08<00:00, 12.44it/s, accuracy=0.527, batch_size=1656, loss=5.05, mae=0.568]\n",
      "Training, epoch 10:   0%|          | 0/362 [00:00<?, ?it/s]"
     ]
    },
    {
     "name": "stdout",
     "output_type": "stream",
     "text": [
      "{'mae': 0.5682367149758454, 'loss': 5.0481392669217025, 'accuracy': 0.5271739130434783}\n"
     ]
    },
    {
     "name": "stderr",
     "output_type": "stream",
     "text": [
      "Training, epoch 10: 100%|██████████| 362/362 [01:30<00:00,  4.02it/s, accuracy=0.742, batch_size=5778, loss=2.79, mae=0.286]\n",
      "100%|██████████| 104/104 [00:08<00:00, 12.42it/s, accuracy=0.666, batch_size=1656, loss=3.62, mae=0.382]\n",
      "Training, epoch 11:   0%|          | 0/362 [00:00<?, ?it/s]"
     ]
    },
    {
     "name": "stdout",
     "output_type": "stream",
     "text": [
      "{'mae': 0.3822463768115942, 'loss': 3.616811508141854, 'accuracy': 0.6660628019323671}\n"
     ]
    },
    {
     "name": "stderr",
     "output_type": "stream",
     "text": [
      "Training, epoch 11: 100%|██████████| 362/362 [01:29<00:00,  4.04it/s, accuracy=0.756, batch_size=5778, loss=2.66, mae=0.272]\n",
      "100%|██████████| 104/104 [00:08<00:00, 12.33it/s, accuracy=0.659, batch_size=1656, loss=3.71, mae=0.393]\n",
      "Training, epoch 12:   0%|          | 0/362 [00:00<?, ?it/s]"
     ]
    },
    {
     "name": "stdout",
     "output_type": "stream",
     "text": [
      "{'mae': 0.392512077294686, 'loss': 3.707797518098988, 'accuracy': 0.6594202898550725}\n"
     ]
    },
    {
     "name": "stderr",
     "output_type": "stream",
     "text": [
      "Training, epoch 12: 100%|██████████| 362/362 [01:29<00:00,  4.04it/s, accuracy=0.777, batch_size=5778, loss=2.53, mae=0.247]\n",
      "100%|██████████| 104/104 [00:08<00:00, 12.43it/s, accuracy=0.605, batch_size=1656, loss=4.25, mae=0.465]\n",
      "Training, epoch 13:   0%|          | 0/362 [00:00<?, ?it/s]"
     ]
    },
    {
     "name": "stdout",
     "output_type": "stream",
     "text": [
      "{'mae': 0.46497584541062803, 'loss': 4.25340583646931, 'accuracy': 0.605072463768116}\n"
     ]
    },
    {
     "name": "stderr",
     "output_type": "stream",
     "text": [
      "Training, epoch 13: 100%|██████████| 362/362 [01:29<00:00,  4.05it/s, accuracy=0.778, batch_size=5778, loss=2.45, mae=0.243]\n",
      "100%|██████████| 104/104 [00:08<00:00, 12.46it/s, accuracy=0.542, batch_size=1656, loss=6.4, mae=0.646] \n",
      "Training, epoch 14:   0%|          | 0/362 [00:00<?, ?it/s]"
     ]
    },
    {
     "name": "stdout",
     "output_type": "stream",
     "text": [
      "{'mae': 0.6455314009661836, 'loss': 6.4010831840372315, 'accuracy': 0.5422705314009661}\n"
     ]
    },
    {
     "name": "stderr",
     "output_type": "stream",
     "text": [
      "Training, epoch 14: 100%|██████████| 362/362 [01:29<00:00,  4.06it/s, accuracy=0.786, batch_size=5778, loss=2.34, mae=0.232]\n",
      "100%|██████████| 104/104 [00:08<00:00, 12.87it/s, accuracy=0.516, batch_size=1656, loss=6.69, mae=0.662]\n",
      "Training, epoch 15:   0%|          | 0/362 [00:00<?, ?it/s]"
     ]
    },
    {
     "name": "stdout",
     "output_type": "stream",
     "text": [
      "{'mae': 0.6624396135265701, 'loss': 6.693105750901688, 'accuracy': 0.5157004830917874}\n"
     ]
    },
    {
     "name": "stderr",
     "output_type": "stream",
     "text": [
      "Training, epoch 15: 100%|██████████| 362/362 [01:24<00:00,  4.26it/s, accuracy=0.805, batch_size=5778, loss=2.17, mae=0.211]\n",
      "100%|██████████| 104/104 [00:08<00:00, 12.92it/s, accuracy=0.649, batch_size=1656, loss=3.96, mae=0.394]\n",
      "Training, epoch 16:   0%|          | 0/362 [00:00<?, ?it/s]"
     ]
    },
    {
     "name": "stdout",
     "output_type": "stream",
     "text": [
      "{'mae': 0.39371980676328505, 'loss': 3.9621155895472726, 'accuracy': 0.6491545893719807}\n"
     ]
    },
    {
     "name": "stderr",
     "output_type": "stream",
     "text": [
      "Training, epoch 16: 100%|██████████| 362/362 [01:25<00:00,  4.24it/s, accuracy=0.828, batch_size=5778, loss=1.98, mae=0.186]\n",
      "100%|██████████| 104/104 [00:08<00:00, 12.88it/s, accuracy=0.659, batch_size=1656, loss=4.97, mae=0.421]\n",
      "Training, epoch 17:   0%|          | 0/362 [00:00<?, ?it/s]"
     ]
    },
    {
     "name": "stdout",
     "output_type": "stream",
     "text": [
      "{'mae': 0.42089371980676327, 'loss': 4.974160188782042, 'accuracy': 0.6594202898550725}\n"
     ]
    },
    {
     "name": "stderr",
     "output_type": "stream",
     "text": [
      "Training, epoch 17: 100%|██████████| 362/362 [01:26<00:00,  4.18it/s, accuracy=0.84, batch_size=5778, loss=1.86, mae=0.17]  \n",
      "100%|██████████| 104/104 [00:08<00:00, 12.72it/s, accuracy=0.673, batch_size=1656, loss=4.59, mae=0.396]\n",
      "Training, epoch 18:   0%|          | 0/362 [00:00<?, ?it/s]"
     ]
    },
    {
     "name": "stdout",
     "output_type": "stream",
     "text": [
      "{'mae': 0.3961352657004831, 'loss': 4.585510477063736, 'accuracy': 0.6727053140096618}\n"
     ]
    },
    {
     "name": "stderr",
     "output_type": "stream",
     "text": [
      "Training, epoch 18: 100%|██████████| 362/362 [01:29<00:00,  4.06it/s, accuracy=0.85, batch_size=5778, loss=1.73, mae=0.16]  \n",
      "100%|██████████| 104/104 [00:08<00:00, 12.36it/s, accuracy=0.665, batch_size=1656, loss=3.93, mae=0.376]\n",
      "Training, epoch 19:   0%|          | 0/362 [00:00<?, ?it/s]"
     ]
    },
    {
     "name": "stdout",
     "output_type": "stream",
     "text": [
      "{'mae': 0.3756038647342995, 'loss': 3.931098498871937, 'accuracy': 0.6648550724637681}\n"
     ]
    },
    {
     "name": "stderr",
     "output_type": "stream",
     "text": [
      "Training, epoch 19: 100%|██████████| 362/362 [01:30<00:00,  4.02it/s, accuracy=0.857, batch_size=5778, loss=1.65, mae=0.151]\n",
      "100%|██████████| 104/104 [00:08<00:00, 12.21it/s, accuracy=0.615, batch_size=1656, loss=5.82, mae=0.494]\n"
     ]
    },
    {
     "name": "stdout",
     "output_type": "stream",
     "text": [
      "{'mae': 0.4939613526570048, 'loss': 5.82057103831411, 'accuracy': 0.6147342995169082}\n"
     ]
    },
    {
     "name": "stderr",
     "output_type": "stream",
     "text": [
      "Training, epoch 0: 100%|██████████| 362/362 [01:29<00:00,  4.03it/s, accuracy=0.432, batch_size=5778, loss=8.75, mae=0.923]\n",
      "100%|██████████| 104/104 [00:08<00:00, 12.43it/s, accuracy=0.447, batch_size=1656, loss=8.92, mae=0.94] \n",
      "Training, epoch 1:   0%|          | 0/362 [00:00<?, ?it/s]"
     ]
    },
    {
     "name": "stdout",
     "output_type": "stream",
     "text": [
      "{'mae': 0.9396135265700483, 'loss': 8.921746394484515, 'accuracy': 0.447463768115942}\n"
     ]
    },
    {
     "name": "stderr",
     "output_type": "stream",
     "text": [
      "Training, epoch 1: 100%|██████████| 362/362 [01:29<00:00,  4.05it/s, accuracy=0.52, batch_size=5778, loss=7.61, mae=0.688] \n",
      "100%|██████████| 104/104 [00:08<00:00, 12.47it/s, accuracy=0.55, batch_size=1656, loss=7.07, mae=0.663] \n",
      "Training, epoch 2:   0%|          | 0/362 [00:00<?, ?it/s]"
     ]
    },
    {
     "name": "stdout",
     "output_type": "stream",
     "text": [
      "{'mae': 0.6630434782608695, 'loss': 7.066112654220655, 'accuracy': 0.5501207729468599}\n"
     ]
    },
    {
     "name": "stderr",
     "output_type": "stream",
     "text": [
      "Training, epoch 2: 100%|██████████| 362/362 [01:29<00:00,  4.03it/s, accuracy=0.573, batch_size=5778, loss=6.71, mae=0.589]\n",
      "100%|██████████| 104/104 [00:08<00:00, 12.45it/s, accuracy=0.611, batch_size=1656, loss=6.21, mae=0.533]\n",
      "Training, epoch 3:   0%|          | 0/362 [00:00<?, ?it/s]"
     ]
    },
    {
     "name": "stdout",
     "output_type": "stream",
     "text": [
      "{'mae': 0.532608695652174, 'loss': 6.20522643978469, 'accuracy': 0.6111111111111112}\n"
     ]
    },
    {
     "name": "stderr",
     "output_type": "stream",
     "text": [
      "Training, epoch 3: 100%|██████████| 362/362 [01:29<00:00,  4.04it/s, accuracy=0.614, batch_size=5778, loss=6.14, mae=0.516]\n",
      "100%|██████████| 104/104 [00:08<00:00, 12.24it/s, accuracy=0.579, batch_size=1656, loss=6.94, mae=0.608]\n",
      "Training, epoch 4:   0%|          | 0/362 [00:00<?, ?it/s]"
     ]
    },
    {
     "name": "stdout",
     "output_type": "stream",
     "text": [
      "{'mae': 0.6080917874396136, 'loss': 6.9438435824021045, 'accuracy': 0.5791062801932367}\n"
     ]
    },
    {
     "name": "stderr",
     "output_type": "stream",
     "text": [
      "Training, epoch 4: 100%|██████████| 362/362 [01:29<00:00,  4.05it/s, accuracy=0.652, batch_size=5778, loss=5.68, mae=0.456]\n",
      "100%|██████████| 104/104 [00:08<00:00, 12.47it/s, accuracy=0.606, batch_size=1656, loss=6.04, mae=0.506]\n",
      "Training, epoch 5:   0%|          | 0/362 [00:00<?, ?it/s]"
     ]
    },
    {
     "name": "stdout",
     "output_type": "stream",
     "text": [
      "{'mae': 0.5060386473429952, 'loss': 6.0400296870061165, 'accuracy': 0.606280193236715}\n"
     ]
    },
    {
     "name": "stderr",
     "output_type": "stream",
     "text": [
      "Training, epoch 5: 100%|██████████| 362/362 [01:29<00:00,  4.05it/s, accuracy=0.683, batch_size=5778, loss=5.23, mae=0.398]\n",
      "100%|██████████| 104/104 [00:08<00:00, 12.21it/s, accuracy=0.598, batch_size=1656, loss=6.64, mae=0.551]\n",
      "Training, epoch 6:   0%|          | 0/362 [00:00<?, ?it/s]"
     ]
    },
    {
     "name": "stdout",
     "output_type": "stream",
     "text": [
      "{'mae': 0.5513285024154589, 'loss': 6.644419419016815, 'accuracy': 0.5978260869565217}\n"
     ]
    },
    {
     "name": "stderr",
     "output_type": "stream",
     "text": [
      "Training, epoch 6: 100%|██████████| 362/362 [01:29<00:00,  4.03it/s, accuracy=0.703, batch_size=5778, loss=4.87, mae=0.364]\n",
      "100%|██████████| 104/104 [00:08<00:00, 12.48it/s, accuracy=0.61, batch_size=1656, loss=6.69, mae=0.535] \n",
      "Training, epoch 7:   0%|          | 0/362 [00:00<?, ?it/s]"
     ]
    },
    {
     "name": "stdout",
     "output_type": "stream",
     "text": [
      "{'mae': 0.535024154589372, 'loss': 6.692053043899905, 'accuracy': 0.6099033816425121}\n"
     ]
    },
    {
     "name": "stderr",
     "output_type": "stream",
     "text": [
      "Training, epoch 7: 100%|██████████| 362/362 [01:29<00:00,  4.05it/s, accuracy=0.716, batch_size=5778, loss=4.59, mae=0.343]\n",
      "100%|██████████| 104/104 [00:08<00:00, 12.85it/s, accuracy=0.394, batch_size=1656, loss=12.9, mae=0.935]\n",
      "Training, epoch 8:   0%|          | 0/362 [00:00<?, ?it/s]"
     ]
    },
    {
     "name": "stdout",
     "output_type": "stream",
     "text": [
      "{'mae': 0.9353864734299517, 'loss': 12.903432538543923, 'accuracy': 0.3943236714975845}\n"
     ]
    },
    {
     "name": "stderr",
     "output_type": "stream",
     "text": [
      "Training, epoch 8: 100%|██████████| 362/362 [01:24<00:00,  4.27it/s, accuracy=0.736, batch_size=5778, loss=4.35, mae=0.314]\n",
      "100%|██████████| 104/104 [00:07<00:00, 13.11it/s, accuracy=0.535, batch_size=1656, loss=8.27, mae=0.614]\n",
      "Training, epoch 9:   0%|          | 0/362 [00:00<?, ?it/s]"
     ]
    },
    {
     "name": "stdout",
     "output_type": "stream",
     "text": [
      "{'mae': 0.6135265700483091, 'loss': 8.26976927380631, 'accuracy': 0.535024154589372}\n"
     ]
    },
    {
     "name": "stderr",
     "output_type": "stream",
     "text": [
      "Training, epoch 9: 100%|██████████| 362/362 [01:25<00:00,  4.26it/s, accuracy=0.75, batch_size=5778, loss=4.08, mae=0.29]  \n",
      "100%|██████████| 104/104 [00:07<00:00, 13.02it/s, accuracy=0.639, batch_size=1656, loss=6.74, mae=0.472]\n",
      "Training, epoch 10:   0%|          | 0/362 [00:00<?, ?it/s]"
     ]
    },
    {
     "name": "stdout",
     "output_type": "stream",
     "text": [
      "{'mae': 0.4722222222222222, 'loss': 6.7384867636477885, 'accuracy': 0.6394927536231884}\n"
     ]
    },
    {
     "name": "stderr",
     "output_type": "stream",
     "text": [
      "Training, epoch 10: 100%|██████████| 362/362 [01:26<00:00,  4.19it/s, accuracy=0.772, batch_size=5778, loss=3.66, mae=0.261]\n",
      "100%|██████████| 104/104 [00:08<00:00, 12.71it/s, accuracy=0.626, batch_size=1656, loss=6.92, mae=0.447]\n",
      "Training, epoch 11:   0%|          | 0/362 [00:00<?, ?it/s]"
     ]
    },
    {
     "name": "stdout",
     "output_type": "stream",
     "text": [
      "{'mae': 0.4468599033816425, 'loss': 6.920823031001621, 'accuracy': 0.6256038647342995}\n"
     ]
    },
    {
     "name": "stderr",
     "output_type": "stream",
     "text": [
      "Training, epoch 11: 100%|██████████| 362/362 [01:28<00:00,  4.08it/s, accuracy=0.795, batch_size=5778, loss=3.42, mae=0.23] \n",
      "100%|██████████| 104/104 [00:08<00:00, 12.40it/s, accuracy=0.625, batch_size=1656, loss=6.1, mae=0.428] \n",
      "Training, epoch 12:   0%|          | 0/362 [00:00<?, ?it/s]"
     ]
    },
    {
     "name": "stdout",
     "output_type": "stream",
     "text": [
      "{'mae': 0.427536231884058, 'loss': 6.096243178786863, 'accuracy': 0.625}\n"
     ]
    },
    {
     "name": "stderr",
     "output_type": "stream",
     "text": [
      "Training, epoch 12: 100%|██████████| 362/362 [01:29<00:00,  4.03it/s, accuracy=0.812, batch_size=5778, loss=3.16, mae=0.213]\n",
      "100%|██████████| 104/104 [00:08<00:00, 12.50it/s, accuracy=0.423, batch_size=1656, loss=13.5, mae=0.731]\n",
      "Training, epoch 13:   0%|          | 0/362 [00:00<?, ?it/s]"
     ]
    },
    {
     "name": "stdout",
     "output_type": "stream",
     "text": [
      "{'mae': 0.731280193236715, 'loss': 13.535367850520185, 'accuracy': 0.4227053140096618}\n"
     ]
    },
    {
     "name": "stderr",
     "output_type": "stream",
     "text": [
      "Training, epoch 13: 100%|██████████| 362/362 [01:29<00:00,  4.05it/s, accuracy=0.824, batch_size=5778, loss=2.99, mae=0.196]\n",
      "100%|██████████| 104/104 [00:08<00:00, 12.47it/s, accuracy=0.429, batch_size=1656, loss=14.3, mae=0.721]\n",
      "Training, epoch 14:   0%|          | 0/362 [00:00<?, ?it/s]"
     ]
    },
    {
     "name": "stdout",
     "output_type": "stream",
     "text": [
      "{'mae': 0.7210144927536232, 'loss': 14.252883529029607, 'accuracy': 0.42934782608695654}\n"
     ]
    },
    {
     "name": "stderr",
     "output_type": "stream",
     "text": [
      "Training, epoch 14: 100%|██████████| 362/362 [01:29<00:00,  4.03it/s, accuracy=0.835, batch_size=5778, loss=2.76, mae=0.183]\n",
      "100%|██████████| 104/104 [00:08<00:00, 12.34it/s, accuracy=0.674, batch_size=1656, loss=6.03, mae=0.373]\n",
      "Training, epoch 15:   0%|          | 0/362 [00:00<?, ?it/s]"
     ]
    },
    {
     "name": "stdout",
     "output_type": "stream",
     "text": [
      "{'mae': 0.37318840579710144, 'loss': 6.032677917376809, 'accuracy': 0.6739130434782609}\n"
     ]
    },
    {
     "name": "stderr",
     "output_type": "stream",
     "text": [
      "Training, epoch 15: 100%|██████████| 362/362 [01:29<00:00,  4.03it/s, accuracy=0.868, batch_size=5778, loss=2.34, mae=0.143]\n",
      "100%|██████████| 104/104 [00:08<00:00, 12.49it/s, accuracy=0.597, batch_size=1656, loss=14.5, mae=0.586] \n",
      "Training, epoch 16:   0%|          | 0/362 [00:00<?, ?it/s]"
     ]
    },
    {
     "name": "stdout",
     "output_type": "stream",
     "text": [
      "{'mae': 0.5857487922705314, 'loss': 14.518365315436093, 'accuracy': 0.5966183574879227}\n"
     ]
    },
    {
     "name": "stderr",
     "output_type": "stream",
     "text": [
      "Training, epoch 16: 100%|██████████| 362/362 [01:29<00:00,  4.04it/s, accuracy=0.879, batch_size=5778, loss=2.11, mae=0.129]\n",
      "100%|██████████| 104/104 [00:08<00:00, 12.19it/s, accuracy=0.591, batch_size=1656, loss=11.2, mae=0.486]\n",
      "Training, epoch 17:   0%|          | 0/362 [00:00<?, ?it/s]"
     ]
    },
    {
     "name": "stdout",
     "output_type": "stream",
     "text": [
      "{'mae': 0.4861111111111111, 'loss': 11.23921882962259, 'accuracy': 0.5905797101449275}\n"
     ]
    },
    {
     "name": "stderr",
     "output_type": "stream",
     "text": [
      "Training, epoch 17: 100%|██████████| 362/362 [01:29<00:00,  4.05it/s, accuracy=0.894, batch_size=5778, loss=1.98, mae=0.116]\n",
      "100%|██████████| 104/104 [00:08<00:00, 12.29it/s, accuracy=0.662, batch_size=1656, loss=7.25, mae=0.385]\n",
      "Training, epoch 18:   0%|          | 0/362 [00:00<?, ?it/s]"
     ]
    },
    {
     "name": "stdout",
     "output_type": "stream",
     "text": [
      "{'mae': 0.3852657004830918, 'loss': 7.254564170100263, 'accuracy': 0.6618357487922706}\n"
     ]
    },
    {
     "name": "stderr",
     "output_type": "stream",
     "text": [
      "Training, epoch 18: 100%|██████████| 362/362 [01:29<00:00,  4.04it/s, accuracy=0.904, batch_size=5778, loss=1.77, mae=0.106] \n",
      "100%|██████████| 104/104 [00:08<00:00, 12.18it/s, accuracy=0.65, batch_size=1656, loss=7.72, mae=0.432] \n",
      "Training, epoch 19:   0%|          | 0/362 [00:00<?, ?it/s]"
     ]
    },
    {
     "name": "stdout",
     "output_type": "stream",
     "text": [
      "{'mae': 0.43176328502415456, 'loss': 7.7215089116263504, 'accuracy': 0.6503623188405797}\n"
     ]
    },
    {
     "name": "stderr",
     "output_type": "stream",
     "text": [
      "Training, epoch 19: 100%|██████████| 362/362 [01:29<00:00,  4.03it/s, accuracy=0.929, batch_size=5778, loss=1.37, mae=0.077] \n",
      "100%|██████████| 104/104 [00:08<00:00, 12.51it/s, accuracy=0.474, batch_size=1656, loss=14.7, mae=0.565]\n"
     ]
    },
    {
     "name": "stdout",
     "output_type": "stream",
     "text": [
      "{'mae': 0.5646135265700483, 'loss': 14.659907824967219, 'accuracy': 0.47403381642512077}\n"
     ]
    },
    {
     "name": "stderr",
     "output_type": "stream",
     "text": [
      "Training, epoch 0: 100%|██████████| 362/362 [01:29<00:00,  4.05it/s, accuracy=0.43, batch_size=5778, loss=10, mae=0.913]   \n",
      "100%|██████████| 104/104 [00:08<00:00, 12.51it/s, accuracy=0.241, batch_size=1656, loss=10.3, mae=0.844]\n",
      "Training, epoch 1:   0%|          | 0/362 [00:00<?, ?it/s]"
     ]
    },
    {
     "name": "stdout",
     "output_type": "stream",
     "text": [
      "{'mae': 0.8435990338164251, 'loss': 10.31981116677252, 'accuracy': 0.24094202898550723}\n"
     ]
    },
    {
     "name": "stderr",
     "output_type": "stream",
     "text": [
      "Training, epoch 1: 100%|██████████| 362/362 [01:29<00:00,  4.06it/s, accuracy=0.538, batch_size=5778, loss=8.36, mae=0.648]\n",
      "100%|██████████| 104/104 [00:08<00:00, 12.36it/s, accuracy=0.322, batch_size=1656, loss=15.9, mae=1.16]\n",
      "Training, epoch 2:   0%|          | 0/362 [00:00<?, ?it/s]"
     ]
    },
    {
     "name": "stdout",
     "output_type": "stream",
     "text": [
      "{'mae': 1.1570048309178744, 'loss': 15.922084662649366, 'accuracy': 0.3218599033816425}\n"
     ]
    },
    {
     "name": "stderr",
     "output_type": "stream",
     "text": [
      "100%|██████████| 104/104 [00:08<00:00, 12.29it/s, accuracy=0.561, batch_size=1656, loss=7.91, mae=0.574]s=7.58, mae=0.579] \n",
      "Training, epoch 3:   0%|          | 0/362 [00:00<?, ?it/s]"
     ]
    },
    {
     "name": "stdout",
     "output_type": "stream",
     "text": [
      "{'mae': 0.5736714975845411, 'loss': 7.914171562102681, 'accuracy': 0.5609903381642513}\n"
     ]
    },
    {
     "name": "stderr",
     "output_type": "stream",
     "text": [
      "Training, epoch 3: 100%|██████████| 362/362 [01:28<00:00,  4.07it/s, accuracy=0.63, batch_size=5778, loss=6.77, mae=0.484] \n",
      "100%|██████████| 104/104 [00:08<00:00, 12.42it/s, accuracy=0.588, batch_size=1656, loss=8.26, mae=0.588]\n",
      "Training, epoch 4:   0%|          | 0/362 [00:00<?, ?it/s]"
     ]
    },
    {
     "name": "stdout",
     "output_type": "stream",
     "text": [
      "{'mae': 0.5881642512077294, 'loss': 8.264193269365652, 'accuracy': 0.5875603864734299}\n"
     ]
    },
    {
     "name": "stderr",
     "output_type": "stream",
     "text": [
      "Training, epoch 4: 100%|██████████| 362/362 [01:29<00:00,  4.04it/s, accuracy=0.665, batch_size=5778, loss=6.24, mae=0.421]\n",
      "100%|██████████| 104/104 [00:08<00:00, 12.44it/s, accuracy=0.516, batch_size=1656, loss=10.1, mae=0.746]\n",
      "Training, epoch 5:   0%|          | 0/362 [00:00<?, ?it/s]"
     ]
    },
    {
     "name": "stdout",
     "output_type": "stream",
     "text": [
      "{'mae': 0.7457729468599034, 'loss': 10.126178521464988, 'accuracy': 0.5163043478260869}\n"
     ]
    },
    {
     "name": "stderr",
     "output_type": "stream",
     "text": [
      "Training, epoch 5: 100%|██████████| 362/362 [01:29<00:00,  4.06it/s, accuracy=0.677, batch_size=5778, loss=5.79, mae=0.397]\n",
      "100%|██████████| 104/104 [00:08<00:00, 12.47it/s, accuracy=0.575, batch_size=1656, loss=10.4, mae=0.629] \n",
      "Training, epoch 6:   0%|          | 0/362 [00:00<?, ?it/s]"
     ]
    },
    {
     "name": "stdout",
     "output_type": "stream",
     "text": [
      "{'mae': 0.6286231884057971, 'loss': 10.418314156900857, 'accuracy': 0.5748792270531401}\n"
     ]
    },
    {
     "name": "stderr",
     "output_type": "stream",
     "text": [
      "Training, epoch 6: 100%|██████████| 362/362 [01:28<00:00,  4.07it/s, accuracy=0.71, batch_size=5778, loss=5.41, mae=0.348] \n",
      "100%|██████████| 104/104 [00:08<00:00, 12.51it/s, accuracy=0.654, batch_size=1656, loss=6.26, mae=0.399]\n",
      "Training, epoch 7:   0%|          | 0/362 [00:00<?, ?it/s]"
     ]
    },
    {
     "name": "stdout",
     "output_type": "stream",
     "text": [
      "{'mae': 0.39855072463768115, 'loss': 6.261253625298468, 'accuracy': 0.6539855072463768}\n"
     ]
    },
    {
     "name": "stderr",
     "output_type": "stream",
     "text": [
      "Training, epoch 7: 100%|██████████| 362/362 [01:29<00:00,  4.06it/s, accuracy=0.724, batch_size=5778, loss=5.1, mae=0.325] \n",
      "100%|██████████| 104/104 [00:08<00:00, 12.34it/s, accuracy=0.627, batch_size=1656, loss=7.15, mae=0.454]\n",
      "Training, epoch 8:   0%|          | 0/362 [00:00<?, ?it/s]"
     ]
    },
    {
     "name": "stdout",
     "output_type": "stream",
     "text": [
      "{'mae': 0.45410628019323673, 'loss': 7.154933702254641, 'accuracy': 0.6274154589371981}\n"
     ]
    },
    {
     "name": "stderr",
     "output_type": "stream",
     "text": [
      "Training, epoch 8: 100%|██████████| 362/362 [01:29<00:00,  4.06it/s, accuracy=0.746, batch_size=5778, loss=4.74, mae=0.293]\n",
      "100%|██████████| 104/104 [00:08<00:00, 12.53it/s, accuracy=0.527, batch_size=1656, loss=12.5, mae=0.748] \n",
      "Training, epoch 9:   0%|          | 0/362 [00:00<?, ?it/s]"
     ]
    },
    {
     "name": "stdout",
     "output_type": "stream",
     "text": [
      "{'mae': 0.7481884057971014, 'loss': 12.455346296662869, 'accuracy': 0.5265700483091788}\n"
     ]
    },
    {
     "name": "stderr",
     "output_type": "stream",
     "text": [
      "Training, epoch 9: 100%|██████████| 362/362 [01:29<00:00,  4.06it/s, accuracy=0.756, batch_size=5778, loss=4.53, mae=0.28] \n",
      "100%|██████████| 104/104 [00:08<00:00, 12.46it/s, accuracy=0.475, batch_size=1656, loss=11.3, mae=0.682]\n",
      "Training, epoch 10:   0%|          | 0/362 [00:00<?, ?it/s]"
     ]
    },
    {
     "name": "stdout",
     "output_type": "stream",
     "text": [
      "{'mae': 0.6817632850241546, 'loss': 11.34590442802595, 'accuracy': 0.4752415458937198}\n"
     ]
    },
    {
     "name": "stderr",
     "output_type": "stream",
     "text": [
      "Training, epoch 10: 100%|██████████| 362/362 [01:29<00:00,  4.03it/s, accuracy=0.785, batch_size=5778, loss=4.01, mae=0.24] \n",
      "100%|██████████| 104/104 [00:08<00:00, 12.42it/s, accuracy=0.659, batch_size=1656, loss=7.93, mae=0.432]\n",
      "Training, epoch 11:   0%|          | 0/362 [00:00<?, ?it/s]"
     ]
    },
    {
     "name": "stdout",
     "output_type": "stream",
     "text": [
      "{'mae': 0.43176328502415456, 'loss': 7.928779042861312, 'accuracy': 0.6594202898550725}\n"
     ]
    },
    {
     "name": "stderr",
     "output_type": "stream",
     "text": [
      "Training, epoch 11: 100%|██████████| 362/362 [01:29<00:00,  4.04it/s, accuracy=0.806, batch_size=5778, loss=3.74, mae=0.215]\n",
      "100%|██████████| 104/104 [00:08<00:00, 12.30it/s, accuracy=0.676, batch_size=1656, loss=6.16, mae=0.376]\n",
      "Training, epoch 12:   0%|          | 0/362 [00:00<?, ?it/s]"
     ]
    },
    {
     "name": "stdout",
     "output_type": "stream",
     "text": [
      "{'mae': 0.3756038647342995, 'loss': 6.15637898589102, 'accuracy': 0.6757246376811594}\n"
     ]
    },
    {
     "name": "stderr",
     "output_type": "stream",
     "text": [
      "Training, epoch 12: 100%|██████████| 362/362 [01:29<00:00,  4.05it/s, accuracy=0.815, batch_size=5778, loss=3.43, mae=0.2]  \n",
      "100%|██████████| 104/104 [00:08<00:00, 12.39it/s, accuracy=0.682, batch_size=1656, loss=6.61, mae=0.379]\n",
      "Training, epoch 13:   0%|          | 0/362 [00:00<?, ?it/s]"
     ]
    },
    {
     "name": "stdout",
     "output_type": "stream",
     "text": [
      "{'mae': 0.3786231884057971, 'loss': 6.612979485792814, 'accuracy': 0.6817632850241546}\n"
     ]
    },
    {
     "name": "stderr",
     "output_type": "stream",
     "text": [
      "Training, epoch 13: 100%|██████████| 362/362 [01:29<00:00,  4.03it/s, accuracy=0.832, batch_size=5778, loss=3.22, mae=0.182]\n",
      "100%|██████████| 104/104 [00:08<00:00, 12.12it/s, accuracy=0.633, batch_size=1656, loss=8.34, mae=0.478]\n",
      "Training, epoch 14:   0%|          | 0/362 [00:00<?, ?it/s]"
     ]
    },
    {
     "name": "stdout",
     "output_type": "stream",
     "text": [
      "{'mae': 0.4782608695652174, 'loss': 8.340692666417734, 'accuracy': 0.6328502415458938}\n"
     ]
    },
    {
     "name": "stderr",
     "output_type": "stream",
     "text": [
      "Training, epoch 14: 100%|██████████| 362/362 [01:29<00:00,  4.03it/s, accuracy=0.85, batch_size=5778, loss=2.86, mae=0.161] \n",
      "100%|██████████| 104/104 [00:08<00:00, 12.12it/s, accuracy=0.63, batch_size=1656, loss=8.74, mae=0.427] \n",
      "Training, epoch 15:   0%|          | 0/362 [00:00<?, ?it/s]"
     ]
    },
    {
     "name": "stdout",
     "output_type": "stream",
     "text": [
      "{'mae': 0.42693236714975846, 'loss': 8.737184435849029, 'accuracy': 0.6298309178743962}\n"
     ]
    },
    {
     "name": "stderr",
     "output_type": "stream",
     "text": [
      "Training, epoch 15: 100%|██████████| 362/362 [01:29<00:00,  4.04it/s, accuracy=0.873, batch_size=5778, loss=2.43, mae=0.134]\n",
      "100%|██████████| 104/104 [00:08<00:00, 12.41it/s, accuracy=0.388, batch_size=1656, loss=24.9, mae=0.732]\n",
      "Training, epoch 16:   0%|          | 0/362 [00:00<?, ?it/s]"
     ]
    },
    {
     "name": "stdout",
     "output_type": "stream",
     "text": [
      "{'mae': 0.7318840579710145, 'loss': 24.925296848414888, 'accuracy': 0.3882850241545894}\n"
     ]
    },
    {
     "name": "stderr",
     "output_type": "stream",
     "text": [
      "Training, epoch 16: 100%|██████████| 362/362 [01:29<00:00,  4.03it/s, accuracy=0.886, batch_size=5778, loss=2.38, mae=0.121]\n",
      "100%|██████████| 104/104 [00:08<00:00, 12.42it/s, accuracy=0.516, batch_size=1656, loss=15.7, mae=0.719]\n",
      "Training, epoch 17:   0%|          | 0/362 [00:00<?, ?it/s]"
     ]
    },
    {
     "name": "stdout",
     "output_type": "stream",
     "text": [
      "{'mae': 0.7192028985507246, 'loss': 15.72655564568181, 'accuracy': 0.5163043478260869}\n"
     ]
    },
    {
     "name": "stderr",
     "output_type": "stream",
     "text": [
      "Training, epoch 17: 100%|██████████| 362/362 [01:29<00:00,  4.05it/s, accuracy=0.901, batch_size=5778, loss=2.04, mae=0.107]\n",
      "100%|██████████| 104/104 [00:08<00:00, 12.45it/s, accuracy=0.563, batch_size=1656, loss=13.6, mae=0.511]\n",
      "Training, epoch 18:   0%|          | 0/362 [00:00<?, ?it/s]"
     ]
    },
    {
     "name": "stdout",
     "output_type": "stream",
     "text": [
      "{'mae': 0.5108695652173914, 'loss': 13.606456856796706, 'accuracy': 0.5628019323671497}\n"
     ]
    },
    {
     "name": "stderr",
     "output_type": "stream",
     "text": [
      "Training, epoch 18: 100%|██████████| 362/362 [01:29<00:00,  4.05it/s, accuracy=0.905, batch_size=5778, loss=1.94, mae=0.103] \n",
      "100%|██████████| 104/104 [00:08<00:00, 12.27it/s, accuracy=0.682, batch_size=1656, loss=7.6, mae=0.373] \n",
      "Training, epoch 19:   0%|          | 0/362 [00:00<?, ?it/s]"
     ]
    },
    {
     "name": "stdout",
     "output_type": "stream",
     "text": [
      "{'mae': 0.3725845410628019, 'loss': 7.596590063566171, 'accuracy': 0.6823671497584541}\n"
     ]
    },
    {
     "name": "stderr",
     "output_type": "stream",
     "text": [
      "Training, epoch 19: 100%|██████████| 362/362 [01:30<00:00,  4.02it/s, accuracy=0.924, batch_size=5778, loss=1.49, mae=0.08]  \n",
      "100%|██████████| 104/104 [00:08<00:00, 12.38it/s, accuracy=0.646, batch_size=1656, loss=9.25, mae=0.398]\n"
     ]
    },
    {
     "name": "stdout",
     "output_type": "stream",
     "text": [
      "{'mae': 0.39794685990338163, 'loss': 9.246428201739915, 'accuracy': 0.6461352657004831}\n"
     ]
    },
    {
     "name": "stderr",
     "output_type": "stream",
     "text": [
      "Training, epoch 0: 100%|██████████| 362/362 [01:29<00:00,  4.03it/s, accuracy=0.418, batch_size=5778, loss=11.3, mae=0.912]\n",
      "100%|██████████| 104/104 [00:08<00:00, 12.13it/s, accuracy=0.427, batch_size=1656, loss=12.1, mae=0.933]\n",
      "Training, epoch 1:   0%|          | 0/362 [00:00<?, ?it/s]"
     ]
    },
    {
     "name": "stdout",
     "output_type": "stream",
     "text": [
      "{'mae': 0.9329710144927537, 'loss': 12.098730137958619, 'accuracy': 0.42693236714975846}\n"
     ]
    },
    {
     "name": "stderr",
     "output_type": "stream",
     "text": [
      "Training, epoch 1: 100%|██████████| 362/362 [01:30<00:00,  4.02it/s, accuracy=0.538, batch_size=5778, loss=9.44, mae=0.653]\n",
      "100%|██████████| 104/104 [00:08<00:00, 12.37it/s, accuracy=0.579, batch_size=1656, loss=8.69, mae=0.585]\n",
      "Training, epoch 2:   0%|          | 0/362 [00:00<?, ?it/s]"
     ]
    },
    {
     "name": "stdout",
     "output_type": "stream",
     "text": [
      "{'mae': 0.5845410628019324, 'loss': 8.685523687353456, 'accuracy': 0.5791062801932367}\n"
     ]
    },
    {
     "name": "stderr",
     "output_type": "stream",
     "text": [
      "Training, epoch 2: 100%|██████████| 362/362 [01:29<00:00,  4.03it/s, accuracy=0.592, batch_size=5778, loss=8.33, mae=0.55] \n",
      "100%|██████████| 104/104 [00:08<00:00, 12.23it/s, accuracy=0.436, batch_size=1656, loss=8.79, mae=0.614]\n",
      "Training, epoch 3:   0%|          | 0/362 [00:00<?, ?it/s]"
     ]
    },
    {
     "name": "stdout",
     "output_type": "stream",
     "text": [
      "{'mae': 0.6141304347826086, 'loss': 8.78873672692672, 'accuracy': 0.4359903381642512}\n"
     ]
    },
    {
     "name": "stderr",
     "output_type": "stream",
     "text": [
      "Training, epoch 3: 100%|██████████| 362/362 [01:29<00:00,  4.04it/s, accuracy=0.63, batch_size=5778, loss=7.65, mae=0.483] \n",
      "100%|██████████| 104/104 [00:08<00:00, 12.22it/s, accuracy=0.51, batch_size=1656, loss=16.7, mae=0.776]  \n",
      "Training, epoch 4:   0%|          | 0/362 [00:00<?, ?it/s]"
     ]
    },
    {
     "name": "stdout",
     "output_type": "stream",
     "text": [
      "{'mae': 0.7759661835748792, 'loss': 16.659154444932938, 'accuracy': 0.5102657004830918}\n"
     ]
    },
    {
     "name": "stderr",
     "output_type": "stream",
     "text": [
      "Training, epoch 4: 100%|██████████| 362/362 [01:29<00:00,  4.04it/s, accuracy=0.66, batch_size=5778, loss=7.08, mae=0.429] \n",
      "100%|██████████| 104/104 [00:08<00:00, 12.40it/s, accuracy=0.58, batch_size=1656, loss=8.62, mae=0.56]  \n",
      "Training, epoch 5:   0%|          | 0/362 [00:00<?, ?it/s]"
     ]
    },
    {
     "name": "stdout",
     "output_type": "stream",
     "text": [
      "{'mae': 0.5597826086956522, 'loss': 8.617904535238294, 'accuracy': 0.5803140096618358}\n"
     ]
    },
    {
     "name": "stderr",
     "output_type": "stream",
     "text": [
      "Training, epoch 5: 100%|██████████| 362/362 [01:29<00:00,  4.03it/s, accuracy=0.688, batch_size=5778, loss=6.47, mae=0.373]\n",
      "100%|██████████| 104/104 [00:08<00:00, 12.28it/s, accuracy=0.543, batch_size=1656, loss=9.64, mae=0.604]\n",
      "Training, epoch 6:   0%|          | 0/362 [00:00<?, ?it/s]"
     ]
    },
    {
     "name": "stdout",
     "output_type": "stream",
     "text": [
      "{'mae': 0.6044685990338164, 'loss': 9.644136560135994, 'accuracy': 0.5434782608695652}\n"
     ]
    },
    {
     "name": "stderr",
     "output_type": "stream",
     "text": [
      "Training, epoch 6: 100%|██████████| 362/362 [01:29<00:00,  4.04it/s, accuracy=0.709, batch_size=5778, loss=6.03, mae=0.341]\n",
      "100%|██████████| 104/104 [00:08<00:00, 12.40it/s, accuracy=0.53, batch_size=1656, loss=8.54, mae=0.521] \n",
      "Training, epoch 7:   0%|          | 0/362 [00:00<?, ?it/s]"
     ]
    },
    {
     "name": "stdout",
     "output_type": "stream",
     "text": [
      "{'mae': 0.5211352657004831, 'loss': 8.539590506162044, 'accuracy': 0.5301932367149759}\n"
     ]
    },
    {
     "name": "stderr",
     "output_type": "stream",
     "text": [
      "Training, epoch 7: 100%|██████████| 362/362 [01:30<00:00,  4.02it/s, accuracy=0.724, batch_size=5778, loss=5.67, mae=0.324]\n",
      "100%|██████████| 104/104 [00:08<00:00, 12.35it/s, accuracy=0.368, batch_size=1656, loss=20.6, mae=1.01]\n",
      "Training, epoch 8:   0%|          | 0/362 [00:00<?, ?it/s]"
     ]
    },
    {
     "name": "stdout",
     "output_type": "stream",
     "text": [
      "{'mae': 1.0084541062801933, 'loss': 20.622574454344413, 'accuracy': 0.36835748792270534}\n"
     ]
    },
    {
     "name": "stderr",
     "output_type": "stream",
     "text": [
      "Training, epoch 8: 100%|██████████| 362/362 [01:29<00:00,  4.03it/s, accuracy=0.734, batch_size=5778, loss=5.43, mae=0.303]\n",
      "100%|██████████| 104/104 [00:08<00:00, 12.18it/s, accuracy=0.576, batch_size=1656, loss=10.5, mae=0.58] \n",
      "Training, epoch 9:   0%|          | 0/362 [00:00<?, ?it/s]"
     ]
    },
    {
     "name": "stdout",
     "output_type": "stream",
     "text": [
      "{'mae': 0.5797101449275363, 'loss': 10.453279096723179, 'accuracy': 0.5760869565217391}\n"
     ]
    },
    {
     "name": "stderr",
     "output_type": "stream",
     "text": [
      "Training, epoch 9: 100%|██████████| 362/362 [01:29<00:00,  4.02it/s, accuracy=0.759, batch_size=5778, loss=4.93, mae=0.271]\n",
      "100%|██████████| 104/104 [00:08<00:00, 12.38it/s, accuracy=0.511, batch_size=1656, loss=12.9, mae=0.693]\n",
      "Training, epoch 10:   0%|          | 0/362 [00:00<?, ?it/s]"
     ]
    },
    {
     "name": "stdout",
     "output_type": "stream",
     "text": [
      "{'mae': 0.6926328502415459, 'loss': 12.891606604419469, 'accuracy': 0.5108695652173914}\n"
     ]
    },
    {
     "name": "stderr",
     "output_type": "stream",
     "text": [
      "Training, epoch 10: 100%|██████████| 362/362 [01:29<00:00,  4.03it/s, accuracy=0.783, batch_size=5778, loss=4.47, mae=0.239]\n",
      "100%|██████████| 104/104 [00:08<00:00, 12.32it/s, accuracy=0.648, batch_size=1656, loss=7.9, mae=0.406] \n",
      "Training, epoch 11:   0%|          | 0/362 [00:00<?, ?it/s]"
     ]
    },
    {
     "name": "stdout",
     "output_type": "stream",
     "text": [
      "{'mae': 0.4057971014492754, 'loss': 7.89869363123668, 'accuracy': 0.6479468599033816}\n"
     ]
    },
    {
     "name": "stderr",
     "output_type": "stream",
     "text": [
      "Training, epoch 11: 100%|██████████| 362/362 [01:26<00:00,  4.19it/s, accuracy=0.811, batch_size=5778, loss=4.02, mae=0.208]\n",
      "100%|██████████| 104/104 [00:07<00:00, 13.10it/s, accuracy=0.424, batch_size=1656, loss=16.1, mae=0.786]\n",
      "Training, epoch 12:   0%|          | 0/362 [00:00<?, ?it/s]"
     ]
    },
    {
     "name": "stdout",
     "output_type": "stream",
     "text": [
      "{'mae': 0.7862318840579711, 'loss': 16.14945369699727, 'accuracy': 0.42391304347826086}\n"
     ]
    },
    {
     "name": "stderr",
     "output_type": "stream",
     "text": [
      "Training, epoch 12: 100%|██████████| 362/362 [01:24<00:00,  4.28it/s, accuracy=0.823, batch_size=5778, loss=3.85, mae=0.191]\n",
      "100%|██████████| 104/104 [00:07<00:00, 13.12it/s, accuracy=0.605, batch_size=1656, loss=11.2, mae=0.503]\n",
      "Training, epoch 13:   0%|          | 0/362 [00:00<?, ?it/s]"
     ]
    },
    {
     "name": "stdout",
     "output_type": "stream",
     "text": [
      "{'mae': 0.5030193236714976, 'loss': 11.236229508827273, 'accuracy': 0.605072463768116}\n"
     ]
    },
    {
     "name": "stderr",
     "output_type": "stream",
     "text": [
      "Training, epoch 13: 100%|██████████| 362/362 [01:25<00:00,  4.23it/s, accuracy=0.839, batch_size=5778, loss=3.54, mae=0.176]\n",
      "100%|██████████| 104/104 [00:08<00:00, 12.92it/s, accuracy=0.673, batch_size=1656, loss=7.58, mae=0.383]\n",
      "Training, epoch 14:   0%|          | 0/362 [00:00<?, ?it/s]"
     ]
    },
    {
     "name": "stdout",
     "output_type": "stream",
     "text": [
      "{'mae': 0.3828502415458937, 'loss': 7.578511961992236, 'accuracy': 0.6727053140096618}\n"
     ]
    },
    {
     "name": "stderr",
     "output_type": "stream",
     "text": [
      "Training, epoch 14: 100%|██████████| 362/362 [01:27<00:00,  4.13it/s, accuracy=0.858, batch_size=5778, loss=3.17, mae=0.152]\n",
      "100%|██████████| 104/104 [00:08<00:00, 12.43it/s, accuracy=0.664, batch_size=1656, loss=8.82, mae=0.403]\n",
      "Training, epoch 15:   0%|          | 0/362 [00:00<?, ?it/s]"
     ]
    },
    {
     "name": "stdout",
     "output_type": "stream",
     "text": [
      "{'mae': 0.4027777777777778, 'loss': 8.819326566325294, 'accuracy': 0.663647342995169}\n"
     ]
    },
    {
     "name": "stderr",
     "output_type": "stream",
     "text": [
      "Training, epoch 15: 100%|██████████| 362/362 [01:28<00:00,  4.08it/s, accuracy=0.883, batch_size=5778, loss=2.59, mae=0.122]\n",
      "100%|██████████| 104/104 [00:08<00:00, 12.87it/s, accuracy=0.649, batch_size=1656, loss=10.2, mae=0.41] \n",
      "Training, epoch 16:   0%|          | 0/362 [00:00<?, ?it/s]"
     ]
    },
    {
     "name": "stdout",
     "output_type": "stream",
     "text": [
      "{'mae': 0.41002415458937197, 'loss': 10.192331792075853, 'accuracy': 0.6485507246376812}\n"
     ]
    },
    {
     "name": "stderr",
     "output_type": "stream",
     "text": [
      "Training, epoch 16: 100%|██████████| 362/362 [01:25<00:00,  4.25it/s, accuracy=0.893, batch_size=5778, loss=2.41, mae=0.113]\n",
      "100%|██████████| 104/104 [00:07<00:00, 13.08it/s, accuracy=0.669, batch_size=1656, loss=9.43, mae=0.38] \n",
      "Training, epoch 17:   0%|          | 0/362 [00:00<?, ?it/s]"
     ]
    },
    {
     "name": "stdout",
     "output_type": "stream",
     "text": [
      "{'mae': 0.37983091787439616, 'loss': 9.434307468002258, 'accuracy': 0.6690821256038647}\n"
     ]
    },
    {
     "name": "stderr",
     "output_type": "stream",
     "text": [
      "Training, epoch 17: 100%|██████████| 362/362 [01:25<00:00,  4.25it/s, accuracy=0.905, batch_size=5778, loss=2.2, mae=0.0999] \n",
      "100%|██████████| 104/104 [00:07<00:00, 13.16it/s, accuracy=0.632, batch_size=1656, loss=11.3, mae=0.42] \n",
      "Training, epoch 18:   0%|          | 0/362 [00:00<?, ?it/s]"
     ]
    },
    {
     "name": "stdout",
     "output_type": "stream",
     "text": [
      "{'mae': 0.4196859903381642, 'loss': 11.268920359548163, 'accuracy': 0.6316425120772947}\n"
     ]
    },
    {
     "name": "stderr",
     "output_type": "stream",
     "text": [
      "Training, epoch 18: 100%|██████████| 362/362 [01:24<00:00,  4.28it/s, accuracy=0.915, batch_size=5778, loss=1.96, mae=0.0895]\n",
      "100%|██████████| 104/104 [00:07<00:00, 13.13it/s, accuracy=0.669, batch_size=1656, loss=11.4, mae=0.392]\n",
      "Training, epoch 19:   0%|          | 0/362 [00:00<?, ?it/s]"
     ]
    },
    {
     "name": "stdout",
     "output_type": "stream",
     "text": [
      "{'mae': 0.3919082125603865, 'loss': 11.35749978935661, 'accuracy': 0.6690821256038647}\n"
     ]
    },
    {
     "name": "stderr",
     "output_type": "stream",
     "text": [
      "Training, epoch 19: 100%|██████████| 362/362 [01:24<00:00,  4.28it/s, accuracy=0.931, batch_size=5778, loss=1.71, mae=0.0706]\n",
      "100%|██████████| 104/104 [00:07<00:00, 13.09it/s, accuracy=0.666, batch_size=1656, loss=10.5, mae=0.383]\n"
     ]
    },
    {
     "name": "stdout",
     "output_type": "stream",
     "text": [
      "{'mae': 0.3834541062801932, 'loss': 10.478610568720361, 'accuracy': 0.6660628019323671}\n"
     ]
    },
    {
     "name": "stderr",
     "output_type": "stream",
     "text": [
      "Training, epoch 0: 100%|██████████| 362/362 [01:24<00:00,  4.30it/s, accuracy=0.442, batch_size=5778, loss=15.2, mae=0.894]\n",
      "100%|██████████| 104/104 [00:08<00:00, 12.99it/s, accuracy=0.506, batch_size=1656, loss=13.7, mae=0.71] \n",
      "Training, epoch 1:   0%|          | 0/362 [00:00<?, ?it/s]"
     ]
    },
    {
     "name": "stdout",
     "output_type": "stream",
     "text": [
      "{'mae': 0.7101449275362319, 'loss': 13.652043743409973, 'accuracy': 0.5060386473429952}\n"
     ]
    },
    {
     "name": "stderr",
     "output_type": "stream",
     "text": [
      "Training, epoch 1: 100%|██████████| 362/362 [01:24<00:00,  4.28it/s, accuracy=0.543, batch_size=5778, loss=12.6, mae=0.654]\n",
      "100%|██████████| 104/104 [00:08<00:00, 12.91it/s, accuracy=0.547, batch_size=1656, loss=11.7, mae=0.569]\n",
      "Training, epoch 2:   0%|          | 0/362 [00:00<?, ?it/s]"
     ]
    },
    {
     "name": "stdout",
     "output_type": "stream",
     "text": [
      "{'mae': 0.5688405797101449, 'loss': 11.688693650102845, 'accuracy': 0.5471014492753623}\n"
     ]
    },
    {
     "name": "stderr",
     "output_type": "stream",
     "text": [
      "Training, epoch 2: 100%|██████████| 362/362 [01:24<00:00,  4.28it/s, accuracy=0.606, batch_size=5778, loss=11, mae=0.54]   \n",
      "100%|██████████| 104/104 [00:08<00:00, 12.98it/s, accuracy=0.545, batch_size=1656, loss=12.4, mae=0.661]\n",
      "Training, epoch 3:   0%|          | 0/362 [00:00<?, ?it/s]"
     ]
    },
    {
     "name": "stdout",
     "output_type": "stream",
     "text": [
      "{'mae': 0.6612318840579711, 'loss': 12.389839347433929, 'accuracy': 0.5452898550724637}\n"
     ]
    },
    {
     "name": "stderr",
     "output_type": "stream",
     "text": [
      "Training, epoch 3: 100%|██████████| 362/362 [01:24<00:00,  4.29it/s, accuracy=0.639, batch_size=5778, loss=10.2, mae=0.477]\n",
      "100%|██████████| 104/104 [00:07<00:00, 13.15it/s, accuracy=0.58, batch_size=1656, loss=14.1, mae=0.619] \n",
      "Training, epoch 4:   0%|          | 0/362 [00:00<?, ?it/s]"
     ]
    },
    {
     "name": "stdout",
     "output_type": "stream",
     "text": [
      "{'mae': 0.6189613526570048, 'loss': 14.1154240473457, 'accuracy': 0.5797101449275363}\n"
     ]
    },
    {
     "name": "stderr",
     "output_type": "stream",
     "text": [
      "Training, epoch 4: 100%|██████████| 362/362 [01:24<00:00,  4.28it/s, accuracy=0.672, batch_size=5778, loss=9.27, mae=0.416]\n",
      "100%|██████████| 104/104 [00:07<00:00, 13.03it/s, accuracy=0.564, batch_size=1656, loss=13.6, mae=0.522]\n",
      "Training, epoch 5:   0%|          | 0/362 [00:00<?, ?it/s]"
     ]
    },
    {
     "name": "stdout",
     "output_type": "stream",
     "text": [
      "{'mae': 0.5223429951690821, 'loss': 13.622517629522056, 'accuracy': 0.5640096618357487}\n"
     ]
    },
    {
     "name": "stderr",
     "output_type": "stream",
     "text": [
      "Training, epoch 5: 100%|██████████| 362/362 [01:24<00:00,  4.28it/s, accuracy=0.688, batch_size=5778, loss=8.55, mae=0.382]\n",
      "100%|██████████| 104/104 [00:07<00:00, 13.15it/s, accuracy=0.607, batch_size=1656, loss=11.6, mae=0.556]\n",
      "Training, epoch 6:   0%|          | 0/362 [00:00<?, ?it/s]"
     ]
    },
    {
     "name": "stdout",
     "output_type": "stream",
     "text": [
      "{'mae': 0.5555555555555556, 'loss': 11.64399214297677, 'accuracy': 0.607487922705314}\n"
     ]
    },
    {
     "name": "stderr",
     "output_type": "stream",
     "text": [
      "Training, epoch 6: 100%|██████████| 362/362 [01:24<00:00,  4.27it/s, accuracy=0.719, batch_size=5778, loss=7.87, mae=0.342]\n",
      "100%|██████████| 104/104 [00:08<00:00, 12.95it/s, accuracy=0.283, batch_size=1656, loss=31.6, mae=1.59]\n",
      "Training, epoch 7:   0%|          | 0/362 [00:00<?, ?it/s]"
     ]
    },
    {
     "name": "stdout",
     "output_type": "stream",
     "text": [
      "{'mae': 1.585144927536232, 'loss': 31.619032146625113, 'accuracy': 0.2832125603864734}\n"
     ]
    },
    {
     "name": "stderr",
     "output_type": "stream",
     "text": [
      "Training, epoch 7: 100%|██████████| 362/362 [01:25<00:00,  4.25it/s, accuracy=0.728, batch_size=5778, loss=7.67, mae=0.323]\n",
      "100%|██████████| 104/104 [00:07<00:00, 13.02it/s, accuracy=0.589, batch_size=1656, loss=13.5, mae=0.611]\n",
      "Training, epoch 8:   0%|          | 0/362 [00:00<?, ?it/s]"
     ]
    },
    {
     "name": "stdout",
     "output_type": "stream",
     "text": [
      "{'mae': 0.6105072463768116, 'loss': 13.549677377737662, 'accuracy': 0.5887681159420289}\n"
     ]
    },
    {
     "name": "stderr",
     "output_type": "stream",
     "text": [
      "Training, epoch 8: 100%|██████████| 362/362 [01:26<00:00,  4.17it/s, accuracy=0.756, batch_size=5778, loss=6.81, mae=0.28] \n",
      "100%|██████████| 104/104 [00:08<00:00, 12.67it/s, accuracy=0.562, batch_size=1656, loss=12.1, mae=0.507]\n",
      "Training, epoch 9:   0%|          | 0/362 [00:00<?, ?it/s]"
     ]
    },
    {
     "name": "stdout",
     "output_type": "stream",
     "text": [
      "{'mae': 0.5066425120772947, 'loss': 12.062108788513331, 'accuracy': 0.5615942028985508}\n"
     ]
    },
    {
     "name": "stderr",
     "output_type": "stream",
     "text": [
      "Training, epoch 9: 100%|██████████| 362/362 [01:28<00:00,  4.08it/s, accuracy=0.787, batch_size=5778, loss=6.18, mae=0.243]\n",
      "100%|██████████| 104/104 [00:08<00:00, 12.10it/s, accuracy=0.414, batch_size=1656, loss=34.7, mae=0.933]\n",
      "Training, epoch 10:   0%|          | 0/362 [00:00<?, ?it/s]"
     ]
    },
    {
     "name": "stdout",
     "output_type": "stream",
     "text": [
      "{'mae': 0.9329710144927537, 'loss': 34.70597098213463, 'accuracy': 0.4136473429951691}\n"
     ]
    },
    {
     "name": "stderr",
     "output_type": "stream",
     "text": [
      "Training, epoch 10: 100%|██████████| 362/362 [01:29<00:00,  4.03it/s, accuracy=0.809, batch_size=5778, loss=5.53, mae=0.215]\n",
      "100%|██████████| 104/104 [00:08<00:00, 12.47it/s, accuracy=0.674, batch_size=1656, loss=10.6, mae=0.39] \n",
      "Training, epoch 11:   0%|          | 0/362 [00:00<?, ?it/s]"
     ]
    },
    {
     "name": "stdout",
     "output_type": "stream",
     "text": [
      "{'mae': 0.39009661835748793, 'loss': 10.596288326281856, 'accuracy': 0.6739130434782609}\n"
     ]
    },
    {
     "name": "stderr",
     "output_type": "stream",
     "text": [
      "Training, epoch 11: 100%|██████████| 362/362 [01:28<00:00,  4.07it/s, accuracy=0.827, batch_size=5778, loss=5.01, mae=0.19] \n",
      "100%|██████████| 104/104 [00:08<00:00, 12.45it/s, accuracy=0.643, batch_size=1656, loss=12.4, mae=0.418]\n",
      "Training, epoch 12:   0%|          | 0/362 [00:00<?, ?it/s]"
     ]
    },
    {
     "name": "stdout",
     "output_type": "stream",
     "text": [
      "{'mae': 0.41847826086956524, 'loss': 12.420927732391059, 'accuracy': 0.6431159420289855}\n"
     ]
    },
    {
     "name": "stderr",
     "output_type": "stream",
     "text": [
      "Training, epoch 12: 100%|██████████| 362/362 [01:29<00:00,  4.03it/s, accuracy=0.844, batch_size=5778, loss=4.63, mae=0.172]\n",
      "100%|██████████| 104/104 [00:08<00:00, 12.34it/s, accuracy=0.693, batch_size=1656, loss=10.8, mae=0.368]\n",
      "Training, epoch 13:   0%|          | 0/362 [00:00<?, ?it/s]"
     ]
    },
    {
     "name": "stdout",
     "output_type": "stream",
     "text": [
      "{'mae': 0.3677536231884058, 'loss': 10.77752953796571, 'accuracy': 0.6932367149758454}\n"
     ]
    },
    {
     "name": "stderr",
     "output_type": "stream",
     "text": [
      "Training, epoch 13: 100%|██████████| 362/362 [01:30<00:00,  4.01it/s, accuracy=0.872, batch_size=5778, loss=3.97, mae=0.139]\n",
      "100%|██████████| 104/104 [00:08<00:00, 12.40it/s, accuracy=0.684, batch_size=1656, loss=11.9, mae=0.382]\n",
      "Training, epoch 14:   0%|          | 0/362 [00:00<?, ?it/s]"
     ]
    },
    {
     "name": "stdout",
     "output_type": "stream",
     "text": [
      "{'mae': 0.3822463768115942, 'loss': 11.936113368485861, 'accuracy': 0.6835748792270532}\n"
     ]
    },
    {
     "name": "stderr",
     "output_type": "stream",
     "text": [
      "Training, epoch 14: 100%|██████████| 362/362 [01:29<00:00,  4.04it/s, accuracy=0.869, batch_size=5778, loss=3.85, mae=0.144]\n",
      "100%|██████████| 104/104 [00:08<00:00, 12.11it/s, accuracy=0.662, batch_size=1656, loss=15.5, mae=0.435]\n",
      "Training, epoch 15:   0%|          | 0/362 [00:00<?, ?it/s]"
     ]
    },
    {
     "name": "stdout",
     "output_type": "stream",
     "text": [
      "{'mae': 0.43478260869565216, 'loss': 15.479153554076733, 'accuracy': 0.6624396135265701}\n"
     ]
    },
    {
     "name": "stderr",
     "output_type": "stream",
     "text": [
      "Training, epoch 15: 100%|██████████| 362/362 [01:29<00:00,  4.03it/s, accuracy=0.908, batch_size=5778, loss=2.85, mae=0.0987]\n",
      "100%|██████████| 104/104 [00:08<00:00, 12.25it/s, accuracy=0.435, batch_size=1656, loss=35.9, mae=0.623]\n",
      "Training, epoch 16:   0%|          | 0/362 [00:00<?, ?it/s]"
     ]
    },
    {
     "name": "stdout",
     "output_type": "stream",
     "text": [
      "{'mae': 0.6231884057971014, 'loss': 35.85631623273886, 'accuracy': 0.43478260869565216}\n"
     ]
    },
    {
     "name": "stderr",
     "output_type": "stream",
     "text": [
      "Training, epoch 16: 100%|██████████| 362/362 [01:26<00:00,  4.18it/s, accuracy=0.913, batch_size=5778, loss=2.79, mae=0.0928]\n",
      "100%|██████████| 104/104 [00:08<00:00, 12.96it/s, accuracy=0.606, batch_size=1656, loss=15.5, mae=0.424]\n",
      "Training, epoch 17:   0%|          | 0/362 [00:00<?, ?it/s]"
     ]
    },
    {
     "name": "stdout",
     "output_type": "stream",
     "text": [
      "{'mae': 0.42391304347826086, 'loss': 15.48844717680544, 'accuracy': 0.606280193236715}\n"
     ]
    },
    {
     "name": "stderr",
     "output_type": "stream",
     "text": [
      "Training, epoch 17: 100%|██████████| 362/362 [01:25<00:00,  4.25it/s, accuracy=0.936, batch_size=5778, loss=2.05, mae=0.0672]\n",
      "100%|██████████| 104/104 [00:07<00:00, 13.04it/s, accuracy=0.646, batch_size=1656, loss=15.2, mae=0.413]\n",
      "Training, epoch 18:   0%|          | 0/362 [00:00<?, ?it/s]"
     ]
    },
    {
     "name": "stdout",
     "output_type": "stream",
     "text": [
      "{'mae': 0.41304347826086957, 'loss': 15.233845492491975, 'accuracy': 0.6455314009661836}\n"
     ]
    },
    {
     "name": "stderr",
     "output_type": "stream",
     "text": [
      "Training, epoch 18: 100%|██████████| 362/362 [01:25<00:00,  4.22it/s, accuracy=0.934, batch_size=5778, loss=2.22, mae=0.0727]\n",
      "100%|██████████| 104/104 [00:08<00:00, 12.76it/s, accuracy=0.657, batch_size=1656, loss=14.6, mae=0.406]\n",
      "Training, epoch 19:   0%|          | 0/362 [00:00<?, ?it/s]"
     ]
    },
    {
     "name": "stdout",
     "output_type": "stream",
     "text": [
      "{'mae': 0.4057971014492754, 'loss': 14.588531226063695, 'accuracy': 0.6570048309178744}\n"
     ]
    },
    {
     "name": "stderr",
     "output_type": "stream",
     "text": [
      "Training, epoch 19: 100%|██████████| 362/362 [01:25<00:00,  4.24it/s, accuracy=0.947, batch_size=5778, loss=1.87, mae=0.0571]\n",
      "100%|██████████| 104/104 [00:08<00:00, 12.99it/s, accuracy=0.641, batch_size=1656, loss=26.2, mae=0.493]\n"
     ]
    },
    {
     "name": "stdout",
     "output_type": "stream",
     "text": [
      "{'mae': 0.49335748792270534, 'loss': 26.206284874490045, 'accuracy': 0.6413043478260869}\n"
     ]
    },
    {
     "name": "stderr",
     "output_type": "stream",
     "text": [
      "Training, epoch 0: 100%|██████████| 362/362 [01:24<00:00,  4.28it/s, accuracy=0.427, batch_size=5778, loss=16.6, mae=0.93] \n",
      "100%|██████████| 104/104 [00:07<00:00, 13.13it/s, accuracy=0.253, batch_size=1656, loss=18.4, mae=0.853]\n",
      "Training, epoch 1:   0%|          | 0/362 [00:00<?, ?it/s]"
     ]
    },
    {
     "name": "stdout",
     "output_type": "stream",
     "text": [
      "{'mae': 0.8526570048309179, 'loss': 18.3983522221662, 'accuracy': 0.2530193236714976}\n"
     ]
    },
    {
     "name": "stderr",
     "output_type": "stream",
     "text": [
      "Training, epoch 1: 100%|██████████| 362/362 [01:24<00:00,  4.27it/s, accuracy=0.543, batch_size=5778, loss=13.8, mae=0.668]\n",
      "100%|██████████| 104/104 [00:07<00:00, 13.01it/s, accuracy=0.341, batch_size=1656, loss=33.3, mae=1.09]\n",
      "Training, epoch 2:   0%|          | 0/362 [00:00<?, ?it/s]"
     ]
    },
    {
     "name": "stdout",
     "output_type": "stream",
     "text": [
      "{'mae': 1.088768115942029, 'loss': 33.31052774162108, 'accuracy': 0.34057971014492755}\n"
     ]
    },
    {
     "name": "stderr",
     "output_type": "stream",
     "text": [
      "Training, epoch 2: 100%|██████████| 362/362 [01:25<00:00,  4.24it/s, accuracy=0.598, batch_size=5778, loss=12.2, mae=0.556]\n",
      "100%|██████████| 104/104 [00:07<00:00, 13.03it/s, accuracy=0.548, batch_size=1656, loss=13.1, mae=0.647]\n",
      "Training, epoch 3:   0%|          | 0/362 [00:00<?, ?it/s]"
     ]
    },
    {
     "name": "stdout",
     "output_type": "stream",
     "text": [
      "{'mae': 0.6467391304347826, 'loss': 13.13378916040135, 'accuracy': 0.5477053140096618}\n"
     ]
    },
    {
     "name": "stderr",
     "output_type": "stream",
     "text": [
      "Training, epoch 3: 100%|██████████| 362/362 [01:24<00:00,  4.26it/s, accuracy=0.641, batch_size=5778, loss=10.8, mae=0.468]\n",
      "100%|██████████| 104/104 [00:07<00:00, 13.03it/s, accuracy=0.638, batch_size=1656, loss=10.9, mae=0.493]\n",
      "Training, epoch 4:   0%|          | 0/362 [00:00<?, ?it/s]"
     ]
    },
    {
     "name": "stdout",
     "output_type": "stream",
     "text": [
      "{'mae': 0.4927536231884058, 'loss': 10.930589205976846, 'accuracy': 0.6382850241545893}\n"
     ]
    },
    {
     "name": "stderr",
     "output_type": "stream",
     "text": [
      "Training, epoch 4: 100%|██████████| 362/362 [01:24<00:00,  4.28it/s, accuracy=0.667, batch_size=5778, loss=9.95, mae=0.417]\n",
      "100%|██████████| 104/104 [00:07<00:00, 13.06it/s, accuracy=0.638, batch_size=1656, loss=11.5, mae=0.487]\n",
      "Training, epoch 5:   0%|          | 0/362 [00:00<?, ?it/s]"
     ]
    },
    {
     "name": "stdout",
     "output_type": "stream",
     "text": [
      "{'mae': 0.4867149758454106, 'loss': 11.455647665521372, 'accuracy': 0.6382850241545893}\n"
     ]
    },
    {
     "name": "stderr",
     "output_type": "stream",
     "text": [
      "Training, epoch 5: 100%|██████████| 362/362 [01:24<00:00,  4.27it/s, accuracy=0.705, batch_size=5778, loss=9.05, mae=0.356]\n",
      "100%|██████████| 104/104 [00:07<00:00, 13.18it/s, accuracy=0.668, batch_size=1656, loss=11.1, mae=0.437]\n",
      "Training, epoch 6:   0%|          | 0/362 [00:00<?, ?it/s]"
     ]
    },
    {
     "name": "stdout",
     "output_type": "stream",
     "text": [
      "{'mae': 0.43719806763285024, 'loss': 11.146852699454856, 'accuracy': 0.6684782608695652}\n"
     ]
    },
    {
     "name": "stderr",
     "output_type": "stream",
     "text": [
      "Training, epoch 6: 100%|██████████| 362/362 [01:24<00:00,  4.28it/s, accuracy=0.722, batch_size=5778, loss=8.4, mae=0.33]  \n",
      "100%|██████████| 104/104 [00:08<00:00, 12.98it/s, accuracy=0.693, batch_size=1656, loss=9.99, mae=0.376]\n",
      "Training, epoch 7:   0%|          | 0/362 [00:00<?, ?it/s]"
     ]
    },
    {
     "name": "stdout",
     "output_type": "stream",
     "text": [
      "{'mae': 0.3756038647342995, 'loss': 9.98749155583589, 'accuracy': 0.6932367149758454}\n"
     ]
    },
    {
     "name": "stderr",
     "output_type": "stream",
     "text": [
      "Training, epoch 7: 100%|██████████| 362/362 [01:24<00:00,  4.27it/s, accuracy=0.74, batch_size=5778, loss=7.87, mae=0.299] \n",
      "100%|██████████| 104/104 [00:07<00:00, 13.09it/s, accuracy=0.677, batch_size=1656, loss=9.98, mae=0.39] \n",
      "Training, epoch 8:   0%|          | 0/362 [00:00<?, ?it/s]"
     ]
    },
    {
     "name": "stdout",
     "output_type": "stream",
     "text": [
      "{'mae': 0.39009661835748793, 'loss': 9.980386054746194, 'accuracy': 0.6769323671497585}\n"
     ]
    },
    {
     "name": "stderr",
     "output_type": "stream",
     "text": [
      "Training, epoch 8: 100%|██████████| 362/362 [01:24<00:00,  4.27it/s, accuracy=0.766, batch_size=5778, loss=7.13, mae=0.264]\n",
      "100%|██████████| 104/104 [00:07<00:00, 13.08it/s, accuracy=0.685, batch_size=1656, loss=10.8, mae=0.39] \n",
      "Training, epoch 9:   0%|          | 0/362 [00:00<?, ?it/s]"
     ]
    },
    {
     "name": "stdout",
     "output_type": "stream",
     "text": [
      "{'mae': 0.39009661835748793, 'loss': 10.813080218679087, 'accuracy': 0.6853864734299517}\n"
     ]
    },
    {
     "name": "stderr",
     "output_type": "stream",
     "text": [
      "Training, epoch 9: 100%|██████████| 362/362 [01:25<00:00,  4.23it/s, accuracy=0.788, batch_size=5778, loss=6.54, mae=0.236]\n",
      "100%|██████████| 104/104 [00:08<00:00, 12.90it/s, accuracy=0.654, batch_size=1656, loss=10.4, mae=0.387]\n",
      "Training, epoch 10:   0%|          | 0/362 [00:00<?, ?it/s]"
     ]
    },
    {
     "name": "stdout",
     "output_type": "stream",
     "text": [
      "{'mae': 0.38707729468599034, 'loss': 10.446728949385564, 'accuracy': 0.6539855072463768}\n"
     ]
    },
    {
     "name": "stderr",
     "output_type": "stream",
     "text": [
      "Training, epoch 10: 100%|██████████| 362/362 [01:27<00:00,  4.12it/s, accuracy=0.816, batch_size=5778, loss=5.78, mae=0.201]\n",
      "100%|██████████| 104/104 [00:08<00:00, 12.52it/s, accuracy=0.667, batch_size=1656, loss=11.6, mae=0.412]\n",
      "Training, epoch 11:   0%|          | 0/362 [00:00<?, ?it/s]"
     ]
    },
    {
     "name": "stdout",
     "output_type": "stream",
     "text": [
      "{'mae': 0.41243961352657005, 'loss': 11.645748460350406, 'accuracy': 0.6666666666666666}\n"
     ]
    },
    {
     "name": "stderr",
     "output_type": "stream",
     "text": [
      "Training, epoch 11: 100%|██████████| 362/362 [01:29<00:00,  4.05it/s, accuracy=0.843, batch_size=5778, loss=5.09, mae=0.17] \n",
      "100%|██████████| 104/104 [00:08<00:00, 12.41it/s, accuracy=0.604, batch_size=1656, loss=13.3, mae=0.45] \n",
      "Training, epoch 12:   0%|          | 0/362 [00:00<?, ?it/s]"
     ]
    },
    {
     "name": "stdout",
     "output_type": "stream",
     "text": [
      "{'mae': 0.4498792270531401, 'loss': 13.313771628239305, 'accuracy': 0.6044685990338164}\n"
     ]
    },
    {
     "name": "stderr",
     "output_type": "stream",
     "text": [
      "Training, epoch 12: 100%|██████████| 362/362 [01:29<00:00,  4.02it/s, accuracy=0.856, batch_size=5778, loss=4.6, mae=0.158] \n",
      "100%|██████████| 104/104 [00:08<00:00, 12.25it/s, accuracy=0.591, batch_size=1656, loss=14.6, mae=0.44] \n",
      "Training, epoch 13:   0%|          | 0/362 [00:00<?, ?it/s]"
     ]
    },
    {
     "name": "stdout",
     "output_type": "stream",
     "text": [
      "{'mae': 0.4396135265700483, 'loss': 14.641076759223777, 'accuracy': 0.5905797101449275}\n"
     ]
    },
    {
     "name": "stderr",
     "output_type": "stream",
     "text": [
      "Training, epoch 13: 100%|██████████| 362/362 [01:29<00:00,  4.02it/s, accuracy=0.872, batch_size=5778, loss=4.23, mae=0.139]\n",
      "100%|██████████| 104/104 [00:08<00:00, 12.27it/s, accuracy=0.673, batch_size=1656, loss=12.3, mae=0.413]\n",
      "Training, epoch 14:   0%|          | 0/362 [00:00<?, ?it/s]"
     ]
    },
    {
     "name": "stdout",
     "output_type": "stream",
     "text": [
      "{'mae': 0.41304347826086957, 'loss': 12.252076227307896, 'accuracy': 0.6733091787439613}\n"
     ]
    },
    {
     "name": "stderr",
     "output_type": "stream",
     "text": [
      "Training, epoch 14: 100%|██████████| 362/362 [01:29<00:00,  4.03it/s, accuracy=0.898, batch_size=5778, loss=3.57, mae=0.109] \n",
      "100%|██████████| 104/104 [00:08<00:00, 12.37it/s, accuracy=0.675, batch_size=1656, loss=13.6, mae=0.396]\n",
      "Training, epoch 15:   0%|          | 0/362 [00:00<?, ?it/s]"
     ]
    },
    {
     "name": "stdout",
     "output_type": "stream",
     "text": [
      "{'mae': 0.3961352657004831, 'loss': 13.553224015351079, 'accuracy': 0.6745169082125604}\n"
     ]
    },
    {
     "name": "stderr",
     "output_type": "stream",
     "text": [
      "Training, epoch 15: 100%|██████████| 362/362 [01:29<00:00,  4.04it/s, accuracy=0.919, batch_size=5778, loss=2.77, mae=0.0865]\n",
      "100%|██████████| 104/104 [00:08<00:00, 12.44it/s, accuracy=0.666, batch_size=1656, loss=15.9, mae=0.38] \n",
      "Training, epoch 16:   0%|          | 0/362 [00:00<?, ?it/s]"
     ]
    },
    {
     "name": "stdout",
     "output_type": "stream",
     "text": [
      "{'mae': 0.3804347826086957, 'loss': 15.940447248950385, 'accuracy': 0.6660628019323671}\n"
     ]
    },
    {
     "name": "stderr",
     "output_type": "stream",
     "text": [
      "Training, epoch 16: 100%|██████████| 362/362 [01:29<00:00,  4.04it/s, accuracy=0.925, batch_size=5778, loss=2.46, mae=0.0777]\n",
      "100%|██████████| 104/104 [00:08<00:00, 12.31it/s, accuracy=0.505, batch_size=1656, loss=31, mae=0.548]  \n",
      "Training, epoch 17:   0%|          | 0/362 [00:00<?, ?it/s]"
     ]
    },
    {
     "name": "stdout",
     "output_type": "stream",
     "text": [
      "{'mae': 0.5477053140096618, 'loss': 31.008655766070177, 'accuracy': 0.5054347826086957}\n"
     ]
    },
    {
     "name": "stderr",
     "output_type": "stream",
     "text": [
      "Training, epoch 17: 100%|██████████| 362/362 [01:29<00:00,  4.04it/s, accuracy=0.934, batch_size=5778, loss=2.35, mae=0.0704]\n",
      "100%|██████████| 104/104 [00:08<00:00, 12.42it/s, accuracy=0.647, batch_size=1656, loss=18.7, mae=0.423]\n",
      "Training, epoch 18:   0%|          | 0/362 [00:00<?, ?it/s]"
     ]
    },
    {
     "name": "stdout",
     "output_type": "stream",
     "text": [
      "{'mae': 0.42330917874396135, 'loss': 18.674210751528182, 'accuracy': 0.6467391304347826}\n"
     ]
    },
    {
     "name": "stderr",
     "output_type": "stream",
     "text": [
      "Training, epoch 18: 100%|██████████| 362/362 [01:28<00:00,  4.11it/s, accuracy=0.946, batch_size=5778, loss=1.99, mae=0.0568]\n",
      "100%|██████████| 104/104 [00:07<00:00, 13.05it/s, accuracy=0.671, batch_size=1656, loss=15, mae=0.397] \n",
      "Training, epoch 19:   0%|          | 0/362 [00:00<?, ?it/s]"
     ]
    },
    {
     "name": "stdout",
     "output_type": "stream",
     "text": [
      "{'mae': 0.3967391304347826, 'loss': 14.973127410607637, 'accuracy': 0.6714975845410628}\n"
     ]
    },
    {
     "name": "stderr",
     "output_type": "stream",
     "text": [
      "Training, epoch 19: 100%|██████████| 362/362 [01:24<00:00,  4.27it/s, accuracy=0.958, batch_size=5778, loss=1.54, mae=0.0445] \n",
      "100%|██████████| 104/104 [00:07<00:00, 13.00it/s, accuracy=0.671, batch_size=1656, loss=20.3, mae=0.383]\n"
     ]
    },
    {
     "name": "stdout",
     "output_type": "stream",
     "text": [
      "{'mae': 0.3828502415458937, 'loss': 20.27613865753303, 'accuracy': 0.6708937198067633}\n"
     ]
    },
    {
     "name": "stderr",
     "output_type": "stream",
     "text": [
      "Training, epoch 0: 100%|██████████| 362/362 [01:24<00:00,  4.26it/s, accuracy=0.42, batch_size=5778, loss=17.8, mae=0.932] \n",
      "100%|██████████| 104/104 [00:07<00:00, 13.16it/s, accuracy=0.387, batch_size=1656, loss=35.2, mae=1.23]  \n",
      "Training, epoch 1:   0%|          | 0/362 [00:00<?, ?it/s]"
     ]
    },
    {
     "name": "stdout",
     "output_type": "stream",
     "text": [
      "{'mae': 1.2330917874396135, 'loss': 35.2047727683892, 'accuracy': 0.38707729468599034}\n"
     ]
    },
    {
     "name": "stderr",
     "output_type": "stream",
     "text": [
      "Training, epoch 1: 100%|██████████| 362/362 [01:24<00:00,  4.28it/s, accuracy=0.549, batch_size=5778, loss=14.6, mae=0.65] \n",
      "100%|██████████| 104/104 [00:07<00:00, 13.05it/s, accuracy=0.361, batch_size=1656, loss=19.3, mae=0.922]\n",
      "Training, epoch 2:   0%|          | 0/362 [00:00<?, ?it/s]"
     ]
    },
    {
     "name": "stdout",
     "output_type": "stream",
     "text": [
      "{'mae': 0.9221014492753623, 'loss': 19.295474025362356, 'accuracy': 0.3611111111111111}\n"
     ]
    },
    {
     "name": "stderr",
     "output_type": "stream",
     "text": [
      "Training, epoch 2: 100%|██████████| 362/362 [01:25<00:00,  4.25it/s, accuracy=0.609, batch_size=5778, loss=12.7, mae=0.537]\n",
      "100%|██████████| 104/104 [00:08<00:00, 12.91it/s, accuracy=0.361, batch_size=1656, loss=18.4, mae=0.973]\n",
      "Training, epoch 3:   0%|          | 0/362 [00:00<?, ?it/s]"
     ]
    },
    {
     "name": "stdout",
     "output_type": "stream",
     "text": [
      "{'mae': 0.9734299516908212, 'loss': 18.358398109242536, 'accuracy': 0.3611111111111111}\n"
     ]
    },
    {
     "name": "stderr",
     "output_type": "stream",
     "text": [
      "Training, epoch 3: 100%|██████████| 362/362 [01:26<00:00,  4.18it/s, accuracy=0.652, batch_size=5778, loss=11.4, mae=0.453]\n",
      "100%|██████████| 104/104 [00:08<00:00, 12.66it/s, accuracy=0.636, batch_size=1656, loss=12.3, mae=0.482]\n",
      "Training, epoch 4:   0%|          | 0/362 [00:00<?, ?it/s]"
     ]
    },
    {
     "name": "stdout",
     "output_type": "stream",
     "text": [
      "{'mae': 0.482487922705314, 'loss': 12.29729277845742, 'accuracy': 0.6358695652173914}\n"
     ]
    },
    {
     "name": "stderr",
     "output_type": "stream",
     "text": [
      "Training, epoch 4: 100%|██████████| 362/362 [01:28<00:00,  4.10it/s, accuracy=0.686, batch_size=5778, loss=10.3, mae=0.388]\n",
      "100%|██████████| 104/104 [00:08<00:00, 12.48it/s, accuracy=0.632, batch_size=1656, loss=12.3, mae=0.495]\n",
      "Training, epoch 5:   0%|          | 0/362 [00:00<?, ?it/s]"
     ]
    },
    {
     "name": "stdout",
     "output_type": "stream",
     "text": [
      "{'mae': 0.4945652173913043, 'loss': 12.33317219923084, 'accuracy': 0.6316425120772947}\n"
     ]
    },
    {
     "name": "stderr",
     "output_type": "stream",
     "text": [
      "Training, epoch 5: 100%|██████████| 362/362 [01:29<00:00,  4.03it/s, accuracy=0.714, batch_size=5778, loss=9.5, mae=0.344] \n",
      "100%|██████████| 104/104 [00:08<00:00, 12.35it/s, accuracy=0.645, batch_size=1656, loss=12.1, mae=0.461]\n",
      "Training, epoch 6:   0%|          | 0/362 [00:00<?, ?it/s]"
     ]
    },
    {
     "name": "stdout",
     "output_type": "stream",
     "text": [
      "{'mae': 0.4613526570048309, 'loss': 12.082430844145696, 'accuracy': 0.644927536231884}\n"
     ]
    },
    {
     "name": "stderr",
     "output_type": "stream",
     "text": [
      "Training, epoch 6: 100%|██████████| 362/362 [01:29<00:00,  4.06it/s, accuracy=0.729, batch_size=5778, loss=8.77, mae=0.316]\n",
      "100%|██████████| 104/104 [00:08<00:00, 12.31it/s, accuracy=0.472, batch_size=1656, loss=17.3, mae=0.652]\n",
      "Training, epoch 7:   0%|          | 0/362 [00:00<?, ?it/s]"
     ]
    },
    {
     "name": "stdout",
     "output_type": "stream",
     "text": [
      "{'mae': 0.6515700483091788, 'loss': 17.289448616009402, 'accuracy': 0.4716183574879227}\n"
     ]
    },
    {
     "name": "stderr",
     "output_type": "stream",
     "text": [
      "Training, epoch 7: 100%|██████████| 362/362 [01:29<00:00,  4.03it/s, accuracy=0.754, batch_size=5778, loss=7.92, mae=0.28] \n",
      "100%|██████████| 104/104 [00:08<00:00, 12.40it/s, accuracy=0.66, batch_size=1656, loss=11.1, mae=0.38]  \n",
      "Training, epoch 8:   0%|          | 0/362 [00:00<?, ?it/s]"
     ]
    },
    {
     "name": "stdout",
     "output_type": "stream",
     "text": [
      "{'mae': 0.37983091787439616, 'loss': 11.06769627649427, 'accuracy': 0.660024154589372}\n"
     ]
    },
    {
     "name": "stderr",
     "output_type": "stream",
     "text": [
      "Training, epoch 8: 100%|██████████| 362/362 [01:29<00:00,  4.05it/s, accuracy=0.774, batch_size=5778, loss=7.46, mae=0.253]\n",
      "100%|██████████| 104/104 [00:08<00:00, 13.00it/s, accuracy=0.664, batch_size=1656, loss=11.9, mae=0.414]\n",
      "Training, epoch 9:   0%|          | 0/362 [00:00<?, ?it/s]"
     ]
    },
    {
     "name": "stdout",
     "output_type": "stream",
     "text": [
      "{'mae': 0.4136473429951691, 'loss': 11.949438554653224, 'accuracy': 0.6642512077294686}\n"
     ]
    },
    {
     "name": "stderr",
     "output_type": "stream",
     "text": [
      "Training, epoch 9: 100%|██████████| 362/362 [01:24<00:00,  4.27it/s, accuracy=0.794, batch_size=5778, loss=6.74, mae=0.224]\n",
      "100%|██████████| 104/104 [00:07<00:00, 13.10it/s, accuracy=0.656, batch_size=1656, loss=13.3, mae=0.418]\n",
      "Training, epoch 10:   0%|          | 0/362 [00:00<?, ?it/s]"
     ]
    },
    {
     "name": "stdout",
     "output_type": "stream",
     "text": [
      "{'mae': 0.41847826086956524, 'loss': 13.339261671195283, 'accuracy': 0.6564009661835749}\n"
     ]
    },
    {
     "name": "stderr",
     "output_type": "stream",
     "text": [
      "Training, epoch 10: 100%|██████████| 362/362 [01:24<00:00,  4.26it/s, accuracy=0.829, batch_size=5778, loss=5.79, mae=0.187]\n",
      "100%|██████████| 104/104 [00:07<00:00, 13.02it/s, accuracy=0.563, batch_size=1656, loss=18.7, mae=0.531]\n",
      "Training, epoch 11:   0%|          | 0/362 [00:00<?, ?it/s]"
     ]
    },
    {
     "name": "stdout",
     "output_type": "stream",
     "text": [
      "{'mae': 0.5307971014492754, 'loss': 18.736089531350252, 'accuracy': 0.5628019323671497}\n"
     ]
    },
    {
     "name": "stderr",
     "output_type": "stream",
     "text": [
      "Training, epoch 11: 100%|██████████| 362/362 [01:26<00:00,  4.20it/s, accuracy=0.849, batch_size=5778, loss=5.36, mae=0.164]\n",
      "100%|██████████| 104/104 [00:08<00:00, 12.95it/s, accuracy=0.686, batch_size=1656, loss=12.6, mae=0.364]\n",
      "Training, epoch 12:   0%|          | 0/362 [00:00<?, ?it/s]"
     ]
    },
    {
     "name": "stdout",
     "output_type": "stream",
     "text": [
      "{'mae': 0.3641304347826087, 'loss': 12.621994914064086, 'accuracy': 0.6859903381642513}\n"
     ]
    },
    {
     "name": "stderr",
     "output_type": "stream",
     "text": [
      "Training, epoch 12: 100%|██████████| 362/362 [01:24<00:00,  4.27it/s, accuracy=0.865, batch_size=5778, loss=4.7, mae=0.144] \n",
      "100%|██████████| 104/104 [00:07<00:00, 13.12it/s, accuracy=0.673, batch_size=1656, loss=14.9, mae=0.399]\n",
      "Training, epoch 13:   0%|          | 0/362 [00:00<?, ?it/s]"
     ]
    },
    {
     "name": "stdout",
     "output_type": "stream",
     "text": [
      "{'mae': 0.3991545893719807, 'loss': 14.861276544234602, 'accuracy': 0.6733091787439613}\n"
     ]
    },
    {
     "name": "stderr",
     "output_type": "stream",
     "text": [
      "Training, epoch 13: 100%|██████████| 362/362 [01:24<00:00,  4.27it/s, accuracy=0.885, batch_size=5778, loss=4.08, mae=0.121]\n",
      "100%|██████████| 104/104 [00:08<00:00, 12.94it/s, accuracy=0.67, batch_size=1656, loss=14.1, mae=0.383] \n",
      "Training, epoch 14:   0%|          | 0/362 [00:00<?, ?it/s]"
     ]
    },
    {
     "name": "stdout",
     "output_type": "stream",
     "text": [
      "{'mae': 0.3834541062801932, 'loss': 14.120029135602683, 'accuracy': 0.6696859903381642}\n"
     ]
    },
    {
     "name": "stderr",
     "output_type": "stream",
     "text": [
      "Training, epoch 14: 100%|██████████| 362/362 [01:26<00:00,  4.21it/s, accuracy=0.892, batch_size=5778, loss=3.74, mae=0.115]\n",
      "100%|██████████| 104/104 [00:08<00:00, 12.77it/s, accuracy=0.661, batch_size=1656, loss=15.5, mae=0.396]\n",
      "Training, epoch 15:   0%|          | 0/362 [00:00<?, ?it/s]"
     ]
    },
    {
     "name": "stdout",
     "output_type": "stream",
     "text": [
      "{'mae': 0.3961352657004831, 'loss': 15.507890703885451, 'accuracy': 0.6606280193236715}\n"
     ]
    },
    {
     "name": "stderr",
     "output_type": "stream",
     "text": [
      "Training, epoch 15: 100%|██████████| 362/362 [01:28<00:00,  4.10it/s, accuracy=0.92, batch_size=5778, loss=2.92, mae=0.0832] \n",
      "100%|██████████| 104/104 [00:08<00:00, 12.48it/s, accuracy=0.655, batch_size=1656, loss=21.7, mae=0.44] \n",
      "Training, epoch 16:   0%|          | 0/362 [00:00<?, ?it/s]"
     ]
    },
    {
     "name": "stdout",
     "output_type": "stream",
     "text": [
      "{'mae': 0.44021739130434784, 'loss': 21.72992258504537, 'accuracy': 0.6551932367149759}\n"
     ]
    },
    {
     "name": "stderr",
     "output_type": "stream",
     "text": [
      "Training, epoch 16: 100%|██████████| 362/362 [01:30<00:00,  4.02it/s, accuracy=0.936, batch_size=5778, loss=2.51, mae=0.0665]\n",
      "100%|██████████| 104/104 [00:08<00:00, 12.21it/s, accuracy=0.636, batch_size=1656, loss=18.7, mae=0.398]\n",
      "Training, epoch 17:   0%|          | 0/362 [00:00<?, ?it/s]"
     ]
    },
    {
     "name": "stdout",
     "output_type": "stream",
     "text": [
      "{'mae': 0.39794685990338163, 'loss': 18.667276748712514, 'accuracy': 0.6358695652173914}\n"
     ]
    },
    {
     "name": "stderr",
     "output_type": "stream",
     "text": [
      "Training, epoch 17: 100%|██████████| 362/362 [01:29<00:00,  4.05it/s, accuracy=0.94, batch_size=5778, loss=2.33, mae=0.0632] \n",
      "100%|██████████| 104/104 [00:08<00:00, 12.52it/s, accuracy=0.663, batch_size=1656, loss=18.6, mae=0.379]\n",
      "Training, epoch 18:   0%|          | 0/362 [00:00<?, ?it/s]"
     ]
    },
    {
     "name": "stdout",
     "output_type": "stream",
     "text": [
      "{'mae': 0.3786231884057971, 'loss': 18.55931614332153, 'accuracy': 0.6630434782608695}\n"
     ]
    },
    {
     "name": "stderr",
     "output_type": "stream",
     "text": [
      "Training, epoch 18: 100%|██████████| 362/362 [01:29<00:00,  4.02it/s, accuracy=0.949, batch_size=5778, loss=1.95, mae=0.0538]\n",
      "100%|██████████| 104/104 [00:08<00:00, 12.13it/s, accuracy=0.645, batch_size=1656, loss=21.8, mae=0.406]\n",
      "Training, epoch 19:   0%|          | 0/362 [00:00<?, ?it/s]"
     ]
    },
    {
     "name": "stdout",
     "output_type": "stream",
     "text": [
      "{'mae': 0.4057971014492754, 'loss': 21.8368134919536, 'accuracy': 0.644927536231884}\n"
     ]
    },
    {
     "name": "stderr",
     "output_type": "stream",
     "text": [
      "Training, epoch 19: 100%|██████████| 362/362 [01:30<00:00,  4.02it/s, accuracy=0.953, batch_size=5778, loss=1.8, mae=0.0498] \n",
      "100%|██████████| 104/104 [00:08<00:00, 12.37it/s, accuracy=0.66, batch_size=1656, loss=17.8, mae=0.383] \n"
     ]
    },
    {
     "name": "stdout",
     "output_type": "stream",
     "text": [
      "{'mae': 0.3828502415458937, 'loss': 17.750061343257553, 'accuracy': 0.660024154589372}\n"
     ]
    },
    {
     "name": "stderr",
     "output_type": "stream",
     "text": [
      "Training, epoch 0: 100%|██████████| 181/181 [01:22<00:00,  2.18it/s, accuracy=0.384, batch_size=5778, loss=3.66, mae=1.01]\n",
      "100%|██████████| 52/52 [00:08<00:00,  6.41it/s, accuracy=0.466, batch_size=1656, loss=3.42, mae=0.872]\n",
      "Training, epoch 1:   0%|          | 0/181 [00:00<?, ?it/s]"
     ]
    },
    {
     "name": "stdout",
     "output_type": "stream",
     "text": [
      "{'mae': 0.871980677480283, 'loss': 3.416934013366699, 'accuracy': 0.46618357487922707}\n"
     ]
    },
    {
     "name": "stderr",
     "output_type": "stream",
     "text": [
      "Training, epoch 1: 100%|██████████| 181/181 [01:23<00:00,  2.17it/s, accuracy=0.454, batch_size=5778, loss=3.35, mae=0.821]\n",
      "100%|██████████| 52/52 [00:08<00:00,  6.46it/s, accuracy=0.497, batch_size=1656, loss=3.18, mae=0.76] \n",
      "Training, epoch 2:   0%|          | 0/181 [00:00<?, ?it/s]"
     ]
    },
    {
     "name": "stdout",
     "output_type": "stream",
     "text": [
      "{'mae': 0.7596618357487923, 'loss': 3.1774558260820913, 'accuracy': 0.4969806763285024}\n"
     ]
    },
    {
     "name": "stderr",
     "output_type": "stream",
     "text": [
      "Training, epoch 2: 100%|██████████| 181/181 [01:23<00:00,  2.18it/s, accuracy=0.48, batch_size=5778, loss=3.15, mae=0.735] \n",
      "100%|██████████| 52/52 [00:07<00:00,  6.53it/s, accuracy=0.517, batch_size=1656, loss=3.04, mae=0.676]\n",
      "Training, epoch 3:   0%|          | 0/181 [00:00<?, ?it/s]"
     ]
    },
    {
     "name": "stdout",
     "output_type": "stream",
     "text": [
      "{'mae': 0.6763285024154589, 'loss': 3.035650783114963, 'accuracy': 0.5169082125603864}\n"
     ]
    },
    {
     "name": "stderr",
     "output_type": "stream",
     "text": [
      "Training, epoch 3: 100%|██████████| 181/181 [01:23<00:00,  2.17it/s, accuracy=0.513, batch_size=5778, loss=2.96, mae=0.671]\n",
      "100%|██████████| 52/52 [00:08<00:00,  6.43it/s, accuracy=0.49, batch_size=1656, loss=3.19, mae=0.776] \n",
      "Training, epoch 4:   0%|          | 0/181 [00:00<?, ?it/s]"
     ]
    },
    {
     "name": "stdout",
     "output_type": "stream",
     "text": [
      "{'mae': 0.7759661847266598, 'loss': 3.1882674037546352, 'accuracy': 0.49033816425120774}\n"
     ]
    },
    {
     "name": "stderr",
     "output_type": "stream",
     "text": [
      "Training, epoch 4: 100%|██████████| 181/181 [01:22<00:00,  2.18it/s, accuracy=0.543, batch_size=5778, loss=2.83, mae=0.615]\n",
      "100%|██████████| 52/52 [00:08<00:00,  6.42it/s, accuracy=0.539, batch_size=1656, loss=2.85, mae=0.658]\n",
      "Training, epoch 5:   0%|          | 0/181 [00:00<?, ?it/s]"
     ]
    },
    {
     "name": "stdout",
     "output_type": "stream",
     "text": [
      "{'mae': 0.6582125609623637, 'loss': 2.8501750536011037, 'accuracy': 0.538647342995169}\n"
     ]
    },
    {
     "name": "stderr",
     "output_type": "stream",
     "text": [
      "Training, epoch 5: 100%|██████████| 181/181 [01:23<00:00,  2.18it/s, accuracy=0.559, batch_size=5778, loss=2.72, mae=0.588]\n",
      "100%|██████████| 52/52 [00:07<00:00,  6.52it/s, accuracy=0.589, batch_size=1656, loss=2.63, mae=0.565]\n",
      "Training, epoch 6:   0%|          | 0/181 [00:00<?, ?it/s]"
     ]
    },
    {
     "name": "stdout",
     "output_type": "stream",
     "text": [
      "{'mae': 0.5652173924561285, 'loss': 2.62711020713843, 'accuracy': 0.5887681159420289}\n"
     ]
    },
    {
     "name": "stderr",
     "output_type": "stream",
     "text": [
      "Training, epoch 6: 100%|██████████| 181/181 [01:22<00:00,  2.19it/s, accuracy=0.584, batch_size=5778, loss=2.58, mae=0.549]\n",
      "100%|██████████| 52/52 [00:08<00:00,  6.47it/s, accuracy=0.607, batch_size=1656, loss=2.52, mae=0.525]\n",
      "Training, epoch 7:   0%|          | 0/181 [00:00<?, ?it/s]"
     ]
    },
    {
     "name": "stdout",
     "output_type": "stream",
     "text": [
      "{'mae': 0.5247584541062802, 'loss': 2.5175671082187967, 'accuracy': 0.6068840580070076}\n"
     ]
    },
    {
     "name": "stderr",
     "output_type": "stream",
     "text": [
      "Training, epoch 7: 100%|██████████| 181/181 [01:23<00:00,  2.17it/s, accuracy=0.603, batch_size=5778, loss=2.51, mae=0.518]\n",
      "100%|██████████| 52/52 [00:08<00:00,  6.48it/s, accuracy=0.63, batch_size=1656, loss=2.44, mae=0.491] \n",
      "Training, epoch 8:   0%|          | 0/181 [00:00<?, ?it/s]"
     ]
    },
    {
     "name": "stdout",
     "output_type": "stream",
     "text": [
      "{'mae': 0.4909420292734524, 'loss': 2.4386092556847467, 'accuracy': 0.6304347826086957}\n"
     ]
    },
    {
     "name": "stderr",
     "output_type": "stream",
     "text": [
      "Training, epoch 8: 100%|██████████| 181/181 [01:22<00:00,  2.20it/s, accuracy=0.62, batch_size=5778, loss=2.4, mae=0.488]  \n",
      "100%|██████████| 52/52 [00:07<00:00,  6.78it/s, accuracy=0.62, batch_size=1656, loss=2.38, mae=0.462] \n",
      "Training, epoch 9:   0%|          | 0/181 [00:00<?, ?it/s]"
     ]
    },
    {
     "name": "stdout",
     "output_type": "stream",
     "text": [
      "{'mae': 0.4619565220270756, 'loss': 2.3796980323422936, 'accuracy': 0.6201690822695765}\n"
     ]
    },
    {
     "name": "stderr",
     "output_type": "stream",
     "text": [
      "Training, epoch 9: 100%|██████████| 181/181 [01:18<00:00,  2.30it/s, accuracy=0.627, batch_size=5778, loss=2.37, mae=0.476]\n",
      "100%|██████████| 52/52 [00:07<00:00,  6.85it/s, accuracy=0.639, batch_size=1656, loss=2.33, mae=0.46] \n",
      "Training, epoch 10:   0%|          | 0/181 [00:00<?, ?it/s]"
     ]
    },
    {
     "name": "stdout",
     "output_type": "stream",
     "text": [
      "{'mae': 0.45954106280193235, 'loss': 2.333744035250899, 'accuracy': 0.6388888891768341}\n"
     ]
    },
    {
     "name": "stderr",
     "output_type": "stream",
     "text": [
      "Training, epoch 10: 100%|██████████| 181/181 [01:18<00:00,  2.30it/s, accuracy=0.638, batch_size=5778, loss=2.31, mae=0.462]\n",
      "100%|██████████| 52/52 [00:07<00:00,  6.86it/s, accuracy=0.65, batch_size=1656, loss=2.28, mae=0.446] \n",
      "Training, epoch 11:   0%|          | 0/181 [00:00<?, ?it/s]"
     ]
    },
    {
     "name": "stdout",
     "output_type": "stream",
     "text": [
      "{'mae': 0.4456521742009886, 'loss': 2.2789472842562026, 'accuracy': 0.6503623191285248}\n"
     ]
    },
    {
     "name": "stderr",
     "output_type": "stream",
     "text": [
      "Training, epoch 11: 100%|██████████| 181/181 [01:19<00:00,  2.27it/s, accuracy=0.653, batch_size=5778, loss=2.22, mae=0.434]\n",
      "100%|██████████| 52/52 [00:07<00:00,  6.71it/s, accuracy=0.617, batch_size=1656, loss=2.5, mae=0.512]  \n",
      "Training, epoch 12:   0%|          | 0/181 [00:00<?, ?it/s]"
     ]
    },
    {
     "name": "stdout",
     "output_type": "stream",
     "text": [
      "{'mae': 0.5120772952618806, 'loss': 2.501714565903668, 'accuracy': 0.6171497584541062}\n"
     ]
    },
    {
     "name": "stderr",
     "output_type": "stream",
     "text": [
      "Training, epoch 12: 100%|██████████| 181/181 [01:21<00:00,  2.23it/s, accuracy=0.656, batch_size=5778, loss=2.2, mae=0.429] \n",
      "100%|██████████| 52/52 [00:07<00:00,  6.83it/s, accuracy=0.655, batch_size=1656, loss=2.23, mae=0.43] \n",
      "Training, epoch 13:   0%|          | 0/181 [00:00<?, ?it/s]"
     ]
    },
    {
     "name": "stdout",
     "output_type": "stream",
     "text": [
      "{'mae': 0.4299516911092012, 'loss': 2.229997277835717, 'accuracy': 0.6551932372908661}\n"
     ]
    },
    {
     "name": "stderr",
     "output_type": "stream",
     "text": [
      "Training, epoch 13: 100%|██████████| 181/181 [01:18<00:00,  2.31it/s, accuracy=0.671, batch_size=5778, loss=2.14, mae=0.407]\n",
      "100%|██████████| 52/52 [00:07<00:00,  6.87it/s, accuracy=0.628, batch_size=1656, loss=2.22, mae=0.421]\n",
      "Training, epoch 14:   0%|          | 0/181 [00:00<?, ?it/s]"
     ]
    },
    {
     "name": "stdout",
     "output_type": "stream",
     "text": [
      "{'mae': 0.42149758482900795, 'loss': 2.224904435844237, 'accuracy': 0.6280193242473878}\n"
     ]
    },
    {
     "name": "stderr",
     "output_type": "stream",
     "text": [
      "Training, epoch 14: 100%|██████████| 181/181 [01:18<00:00,  2.30it/s, accuracy=0.678, batch_size=5778, loss=2.11, mae=0.396]\n",
      "100%|██████████| 52/52 [00:07<00:00,  6.84it/s, accuracy=0.65, batch_size=1656, loss=2.28, mae=0.438] \n",
      "Training, epoch 15:   0%|          | 0/181 [00:00<?, ?it/s]"
     ]
    },
    {
     "name": "stdout",
     "output_type": "stream",
     "text": [
      "{'mae': 0.4378019325111223, 'loss': 2.279115955610782, 'accuracy': 0.6497584543942253}\n"
     ]
    },
    {
     "name": "stderr",
     "output_type": "stream",
     "text": [
      "Training, epoch 15: 100%|██████████| 181/181 [01:19<00:00,  2.28it/s, accuracy=0.69, batch_size=5778, loss=2, mae=0.38]     \n",
      "100%|██████████| 52/52 [00:07<00:00,  6.70it/s, accuracy=0.656, batch_size=1656, loss=2.21, mae=0.408]\n",
      "Training, epoch 16:   0%|          | 0/181 [00:00<?, ?it/s]"
     ]
    },
    {
     "name": "stdout",
     "output_type": "stream",
     "text": [
      "{'mae': 0.408212560530446, 'loss': 2.2059074646032952, 'accuracy': 0.6557971020251656}\n"
     ]
    },
    {
     "name": "stderr",
     "output_type": "stream",
     "text": [
      "Training, epoch 16: 100%|██████████| 181/181 [01:21<00:00,  2.21it/s, accuracy=0.7, batch_size=5778, loss=1.98, mae=0.361]  \n",
      "100%|██████████| 52/52 [00:08<00:00,  6.47it/s, accuracy=0.655, batch_size=1656, loss=2.3, mae=0.435]  \n",
      "Training, epoch 17:   0%|          | 0/181 [00:00<?, ?it/s]"
     ]
    },
    {
     "name": "stdout",
     "output_type": "stream",
     "text": [
      "{'mae': 0.43478260898359733, 'loss': 2.2966492164538104, 'accuracy': 0.6551932372908661}\n"
     ]
    },
    {
     "name": "stderr",
     "output_type": "stream",
     "text": [
      "Training, epoch 17: 100%|██████████| 181/181 [01:23<00:00,  2.17it/s, accuracy=0.707, batch_size=5778, loss=1.92, mae=0.349]\n",
      "100%|██████████| 52/52 [00:08<00:00,  6.49it/s, accuracy=0.678, batch_size=1656, loss=2.23, mae=0.403]\n",
      "Training, epoch 18:   0%|          | 0/181 [00:00<?, ?it/s]"
     ]
    },
    {
     "name": "stdout",
     "output_type": "stream",
     "text": [
      "{'mae': 0.40277777792175035, 'loss': 2.2251315496969912, 'accuracy': 0.6775362321720031}\n"
     ]
    },
    {
     "name": "stderr",
     "output_type": "stream",
     "text": [
      "Training, epoch 18: 100%|██████████| 181/181 [01:23<00:00,  2.17it/s, accuracy=0.707, batch_size=5778, loss=1.89, mae=0.349]\n",
      "100%|██████████| 52/52 [00:08<00:00,  6.42it/s, accuracy=0.639, batch_size=1656, loss=2.5, mae=0.476]  \n",
      "Training, epoch 19:   0%|          | 0/181 [00:00<?, ?it/s]"
     ]
    },
    {
     "name": "stdout",
     "output_type": "stream",
     "text": [
      "{'mae': 0.4758454109159645, 'loss': 2.5015497213400506, 'accuracy': 0.6394927541990787}\n"
     ]
    },
    {
     "name": "stderr",
     "output_type": "stream",
     "text": [
      "Training, epoch 19: 100%|██████████| 181/181 [01:23<00:00,  2.17it/s, accuracy=0.714, batch_size=5778, loss=1.88, mae=0.339]\n",
      "100%|██████████| 52/52 [00:08<00:00,  6.47it/s, accuracy=0.675, batch_size=1656, loss=2.15, mae=0.396]\n"
     ]
    },
    {
     "name": "stdout",
     "output_type": "stream",
     "text": [
      "{'mae': 0.39553140096618356, 'loss': 2.154424566001708, 'accuracy': 0.6751207729468599}\n"
     ]
    },
    {
     "name": "stderr",
     "output_type": "stream",
     "text": [
      "Training, epoch 0: 100%|██████████| 181/181 [01:23<00:00,  2.18it/s, accuracy=0.374, batch_size=5778, loss=5, mae=0.992]   \n",
      "100%|██████████| 52/52 [00:07<00:00,  6.51it/s, accuracy=0.414, batch_size=1656, loss=4.59, mae=0.751]\n",
      "Training, epoch 1:   0%|          | 0/181 [00:00<?, ?it/s]"
     ]
    },
    {
     "name": "stdout",
     "output_type": "stream",
     "text": [
      "{'mae': 0.7512077306203796, 'loss': 4.591648986374122, 'accuracy': 0.4136473429951691}\n"
     ]
    },
    {
     "name": "stderr",
     "output_type": "stream",
     "text": [
      "Training, epoch 1: 100%|██████████| 181/181 [01:22<00:00,  2.19it/s, accuracy=0.457, batch_size=5778, loss=4.44, mae=0.772]\n",
      "100%|██████████| 52/52 [00:07<00:00,  6.55it/s, accuracy=0.457, batch_size=1656, loss=4.18, mae=0.661]\n",
      "Training, epoch 2:   0%|          | 0/181 [00:00<?, ?it/s]"
     ]
    },
    {
     "name": "stdout",
     "output_type": "stream",
     "text": [
      "{'mae': 0.6612318840579711, 'loss': 4.183451827597503, 'accuracy': 0.4571256038647343}\n"
     ]
    },
    {
     "name": "stderr",
     "output_type": "stream",
     "text": [
      "Training, epoch 2: 100%|██████████| 181/181 [01:22<00:00,  2.18it/s, accuracy=0.484, batch_size=5778, loss=4.18, mae=0.701]\n",
      "100%|██████████| 52/52 [00:08<00:00,  6.49it/s, accuracy=0.527, batch_size=1656, loss=3.97, mae=0.666]\n",
      "Training, epoch 3:   0%|          | 0/181 [00:00<?, ?it/s]"
     ]
    },
    {
     "name": "stdout",
     "output_type": "stream",
     "text": [
      "{'mae': 0.6660628025082574, 'loss': 3.9741521204151393, 'accuracy': 0.5265700483091788}\n"
     ]
    },
    {
     "name": "stderr",
     "output_type": "stream",
     "text": [
      "Training, epoch 3: 100%|██████████| 181/181 [01:23<00:00,  2.17it/s, accuracy=0.52, batch_size=5778, loss=3.93, mae=0.639] \n",
      "100%|██████████| 52/52 [00:08<00:00,  6.48it/s, accuracy=0.554, batch_size=1656, loss=3.76, mae=0.598]\n",
      "Training, epoch 4:   0%|          | 0/181 [00:00<?, ?it/s]"
     ]
    },
    {
     "name": "stdout",
     "output_type": "stream",
     "text": [
      "{'mae': 0.5984299528426018, 'loss': 3.7592170042692175, 'accuracy': 0.553743961352657}\n"
     ]
    },
    {
     "name": "stderr",
     "output_type": "stream",
     "text": [
      "Training, epoch 4: 100%|██████████| 181/181 [01:23<00:00,  2.18it/s, accuracy=0.546, batch_size=5778, loss=3.71, mae=0.587]\n",
      "100%|██████████| 52/52 [00:07<00:00,  6.51it/s, accuracy=0.571, batch_size=1656, loss=3.67, mae=0.56] \n",
      "Training, epoch 5:   0%|          | 0/181 [00:00<?, ?it/s]"
     ]
    },
    {
     "name": "stdout",
     "output_type": "stream",
     "text": [
      "{'mae': 0.5597826098474328, 'loss': 3.6711108903378102, 'accuracy': 0.571256038647343}\n"
     ]
    },
    {
     "name": "stderr",
     "output_type": "stream",
     "text": [
      "Training, epoch 5: 100%|██████████| 181/181 [01:22<00:00,  2.18it/s, accuracy=0.579, batch_size=5778, loss=3.53, mae=0.538]\n",
      "100%|██████████| 52/52 [00:08<00:00,  6.49it/s, accuracy=0.599, batch_size=1656, loss=3.4, mae=0.495] \n",
      "Training, epoch 6:   0%|          | 0/181 [00:00<?, ?it/s]"
     ]
    },
    {
     "name": "stdout",
     "output_type": "stream",
     "text": [
      "{'mae': 0.49456521796719466, 'loss': 3.4041555238806684, 'accuracy': 0.5990338164251208}\n"
     ]
    },
    {
     "name": "stderr",
     "output_type": "stream",
     "text": [
      "Training, epoch 6: 100%|██████████| 181/181 [01:23<00:00,  2.18it/s, accuracy=0.6, batch_size=5778, loss=3.36, mae=0.501]  \n",
      "100%|██████████| 52/52 [00:08<00:00,  6.49it/s, accuracy=0.405, batch_size=1656, loss=5.37, mae=0.923]\n",
      "Training, epoch 7:   0%|          | 0/181 [00:00<?, ?it/s]"
     ]
    },
    {
     "name": "stdout",
     "output_type": "stream",
     "text": [
      "{'mae': 0.9227053140096618, 'loss': 5.37480386213404, 'accuracy': 0.40519323671497587}\n"
     ]
    },
    {
     "name": "stderr",
     "output_type": "stream",
     "text": [
      "Training, epoch 7: 100%|██████████| 181/181 [01:23<00:00,  2.18it/s, accuracy=0.616, batch_size=5778, loss=3.27, mae=0.485]\n",
      "100%|██████████| 52/52 [00:07<00:00,  6.53it/s, accuracy=0.602, batch_size=1656, loss=3.45, mae=0.526]\n",
      "Training, epoch 8:   0%|          | 0/181 [00:00<?, ?it/s]"
     ]
    },
    {
     "name": "stdout",
     "output_type": "stream",
     "text": [
      "{'mae': 0.5259661835748792, 'loss': 3.4508998797135653, 'accuracy': 0.602053140240591}\n"
     ]
    },
    {
     "name": "stderr",
     "output_type": "stream",
     "text": [
      "Training, epoch 8: 100%|██████████| 181/181 [01:23<00:00,  2.18it/s, accuracy=0.629, batch_size=5778, loss=3.15, mae=0.46] \n",
      "100%|██████████| 52/52 [00:08<00:00,  6.45it/s, accuracy=0.609, batch_size=1656, loss=3.27, mae=0.481]\n",
      "Training, epoch 9:   0%|          | 0/181 [00:00<?, ?it/s]"
     ]
    },
    {
     "name": "stdout",
     "output_type": "stream",
     "text": [
      "{'mae': 0.4806763287903606, 'loss': 3.26832836261694, 'accuracy': 0.6092995174841028}\n"
     ]
    },
    {
     "name": "stderr",
     "output_type": "stream",
     "text": [
      "Training, epoch 9: 100%|██████████| 181/181 [01:23<00:00,  2.18it/s, accuracy=0.639, batch_size=5778, loss=3.05, mae=0.444]\n",
      "100%|██████████| 52/52 [00:08<00:00,  6.47it/s, accuracy=0.641, batch_size=1656, loss=3.08, mae=0.442]\n",
      "Training, epoch 10:   0%|          | 0/181 [00:00<?, ?it/s]"
     ]
    },
    {
     "name": "stdout",
     "output_type": "stream",
     "text": [
      "{'mae': 0.4420289857951915, 'loss': 3.082099096786573, 'accuracy': 0.6407004836676777}\n"
     ]
    },
    {
     "name": "stderr",
     "output_type": "stream",
     "text": [
      "Training, epoch 10: 100%|██████████| 181/181 [01:22<00:00,  2.18it/s, accuracy=0.664, batch_size=5778, loss=2.9, mae=0.414] \n",
      "100%|██████████| 52/52 [00:08<00:00,  6.49it/s, accuracy=0.653, batch_size=1656, loss=3, mae=0.412]   \n",
      "Training, epoch 11:   0%|          | 0/181 [00:00<?, ?it/s]"
     ]
    },
    {
     "name": "stdout",
     "output_type": "stream",
     "text": [
      "{'mae': 0.4118357490802157, 'loss': 2.996559328503079, 'accuracy': 0.652777778353668}\n"
     ]
    },
    {
     "name": "stderr",
     "output_type": "stream",
     "text": [
      "Training, epoch 11: 100%|██████████| 181/181 [01:23<00:00,  2.17it/s, accuracy=0.667, batch_size=5778, loss=2.87, mae=0.403]\n",
      "100%|██████████| 52/52 [00:08<00:00,  6.46it/s, accuracy=0.546, batch_size=1656, loss=3.85, mae=0.592]\n",
      "Training, epoch 12:   0%|          | 0/181 [00:00<?, ?it/s]"
     ]
    },
    {
     "name": "stdout",
     "output_type": "stream",
     "text": [
      "{'mae': 0.5917874396135265, 'loss': 3.8450654998493654, 'accuracy': 0.5458937198067633}\n"
     ]
    },
    {
     "name": "stderr",
     "output_type": "stream",
     "text": [
      "Training, epoch 12: 100%|██████████| 181/181 [01:23<00:00,  2.18it/s, accuracy=0.679, batch_size=5778, loss=2.74, mae=0.383]\n",
      "100%|██████████| 52/52 [00:07<00:00,  6.50it/s, accuracy=0.656, batch_size=1656, loss=2.99, mae=0.414]\n",
      "Training, epoch 13:   0%|          | 0/181 [00:00<?, ?it/s]"
     ]
    },
    {
     "name": "stdout",
     "output_type": "stream",
     "text": [
      "{'mae': 0.41364734303116224, 'loss': 2.987759516434969, 'accuracy': 0.65640096647152}\n"
     ]
    },
    {
     "name": "stderr",
     "output_type": "stream",
     "text": [
      "Training, epoch 13: 100%|██████████| 181/181 [01:22<00:00,  2.18it/s, accuracy=0.689, batch_size=5778, loss=2.7, mae=0.372] \n",
      "100%|██████████| 52/52 [00:07<00:00,  6.51it/s, accuracy=0.604, batch_size=1656, loss=3.19, mae=0.466]\n",
      "Training, epoch 14:   0%|          | 0/181 [00:00<?, ?it/s]"
     ]
    },
    {
     "name": "stdout",
     "output_type": "stream",
     "text": [
      "{'mae': 0.4655797102169138, 'loss': 3.186989603411172, 'accuracy': 0.6038647348754071}\n"
     ]
    },
    {
     "name": "stderr",
     "output_type": "stream",
     "text": [
      "Training, epoch 14: 100%|██████████| 181/181 [01:22<00:00,  2.19it/s, accuracy=0.701, batch_size=5778, loss=2.62, mae=0.351]\n",
      "100%|██████████| 52/52 [00:07<00:00,  6.50it/s, accuracy=0.646, batch_size=1656, loss=3.14, mae=0.44] \n",
      "Training, epoch 15:   0%|          | 0/181 [00:00<?, ?it/s]"
     ]
    },
    {
     "name": "stdout",
     "output_type": "stream",
     "text": [
      "{'mae': 0.4396135265700483, 'loss': 3.1415613549918944, 'accuracy': 0.6455314009661836}\n"
     ]
    },
    {
     "name": "stderr",
     "output_type": "stream",
     "text": [
      "Training, epoch 15: 100%|██████████| 181/181 [01:23<00:00,  2.18it/s, accuracy=0.714, batch_size=5778, loss=2.5, mae=0.332] \n",
      "100%|██████████| 52/52 [00:07<00:00,  6.52it/s, accuracy=0.662, batch_size=1656, loss=2.98, mae=0.406]\n",
      "Training, epoch 16:   0%|          | 0/181 [00:00<?, ?it/s]"
     ]
    },
    {
     "name": "stdout",
     "output_type": "stream",
     "text": [
      "{'mae': 0.40640096618357485, 'loss': 2.981700128979153, 'accuracy': 0.6624396135265701}\n"
     ]
    },
    {
     "name": "stderr",
     "output_type": "stream",
     "text": [
      "Training, epoch 16: 100%|██████████| 181/181 [01:23<00:00,  2.17it/s, accuracy=0.721, batch_size=5778, loss=2.44, mae=0.327]\n",
      "100%|██████████| 52/52 [00:08<00:00,  6.42it/s, accuracy=0.677, batch_size=1656, loss=2.9, mae=0.388] \n",
      "Training, epoch 17:   0%|          | 0/181 [00:00<?, ?it/s]"
     ]
    },
    {
     "name": "stdout",
     "output_type": "stream",
     "text": [
      "{'mae': 0.38768115942028986, 'loss': 2.9046631665621403, 'accuracy': 0.6769323671497585}\n"
     ]
    },
    {
     "name": "stderr",
     "output_type": "stream",
     "text": [
      "Training, epoch 17: 100%|██████████| 181/181 [01:23<00:00,  2.18it/s, accuracy=0.72, batch_size=5778, loss=2.41, mae=0.326] \n",
      "100%|██████████| 52/52 [00:07<00:00,  6.50it/s, accuracy=0.664, batch_size=1656, loss=3.07, mae=0.408]\n",
      "Training, epoch 18:   0%|          | 0/181 [00:00<?, ?it/s]"
     ]
    },
    {
     "name": "stdout",
     "output_type": "stream",
     "text": [
      "{'mae': 0.4076086957241602, 'loss': 3.0661058759919686, 'accuracy': 0.6636473435710594}\n"
     ]
    },
    {
     "name": "stderr",
     "output_type": "stream",
     "text": [
      "Training, epoch 18: 100%|██████████| 181/181 [01:23<00:00,  2.17it/s, accuracy=0.729, batch_size=5778, loss=2.33, mae=0.309]\n",
      "100%|██████████| 52/52 [00:08<00:00,  6.46it/s, accuracy=0.655, batch_size=1656, loss=3.46, mae=0.44]  \n",
      "Training, epoch 19:   0%|          | 0/181 [00:00<?, ?it/s]"
     ]
    },
    {
     "name": "stdout",
     "output_type": "stream",
     "text": [
      "{'mae': 0.4402173913763341, 'loss': 3.459896749344425, 'accuracy': 0.6551932372908661}\n"
     ]
    },
    {
     "name": "stderr",
     "output_type": "stream",
     "text": [
      "Training, epoch 19: 100%|██████████| 181/181 [01:22<00:00,  2.18it/s, accuracy=0.748, batch_size=5778, loss=2.24, mae=0.287]\n",
      "100%|██████████| 52/52 [00:08<00:00,  6.43it/s, accuracy=0.67, batch_size=1656, loss=2.93, mae=0.386] \n"
     ]
    },
    {
     "name": "stdout",
     "output_type": "stream",
     "text": [
      "{'mae': 0.38647342998768397, 'loss': 2.9277973509065194, 'accuracy': 0.6702898553604089}\n"
     ]
    },
    {
     "name": "stderr",
     "output_type": "stream",
     "text": [
      "Training, epoch 0: 100%|██████████| 181/181 [01:23<00:00,  2.18it/s, accuracy=0.356, batch_size=5778, loss=6.34, mae=0.972]\n",
      "100%|██████████| 52/52 [00:08<00:00,  6.47it/s, accuracy=0.313, batch_size=1656, loss=5.85, mae=0.81] \n",
      "Training, epoch 1:   0%|          | 0/181 [00:00<?, ?it/s]"
     ]
    },
    {
     "name": "stdout",
     "output_type": "stream",
     "text": [
      "{'mae': 0.8103864745817323, 'loss': 5.854420205821162, 'accuracy': 0.31280193236714976}\n"
     ]
    },
    {
     "name": "stderr",
     "output_type": "stream",
     "text": [
      "Training, epoch 1: 100%|██████████| 181/181 [01:23<00:00,  2.17it/s, accuracy=0.454, batch_size=5778, loss=5.58, mae=0.756]\n",
      "100%|██████████| 52/52 [00:07<00:00,  6.51it/s, accuracy=0.489, batch_size=1656, loss=5.31, mae=0.714]\n",
      "Training, epoch 2:   0%|          | 0/181 [00:00<?, ?it/s]"
     ]
    },
    {
     "name": "stdout",
     "output_type": "stream",
     "text": [
      "{'mae': 0.7143719806763285, 'loss': 5.308616615147982, 'accuracy': 0.4885265700483092}\n"
     ]
    },
    {
     "name": "stderr",
     "output_type": "stream",
     "text": [
      "Training, epoch 2: 100%|██████████| 181/181 [01:23<00:00,  2.18it/s, accuracy=0.494, batch_size=5778, loss=5.11, mae=0.662]\n",
      "100%|██████████| 52/52 [00:08<00:00,  6.49it/s, accuracy=0.525, batch_size=1656, loss=5.02, mae=0.649]\n",
      "Training, epoch 3:   0%|          | 0/181 [00:00<?, ?it/s]"
     ]
    },
    {
     "name": "stdout",
     "output_type": "stream",
     "text": [
      "{'mae': 0.6485507252135715, 'loss': 5.015768811322641, 'accuracy': 0.5253623188405797}\n"
     ]
    },
    {
     "name": "stderr",
     "output_type": "stream",
     "text": [
      "Training, epoch 3: 100%|██████████| 181/181 [01:23<00:00,  2.18it/s, accuracy=0.546, batch_size=5778, loss=4.72, mae=0.585]\n",
      "100%|██████████| 52/52 [00:08<00:00,  6.44it/s, accuracy=0.586, batch_size=1656, loss=4.5, mae=0.577] \n",
      "Training, epoch 4:   0%|          | 0/181 [00:00<?, ?it/s]"
     ]
    },
    {
     "name": "stdout",
     "output_type": "stream",
     "text": [
      "{'mae': 0.5766908224078192, 'loss': 4.504649894824927, 'accuracy': 0.5863526570408241}\n"
     ]
    },
    {
     "name": "stderr",
     "output_type": "stream",
     "text": [
      "Training, epoch 4: 100%|██████████| 181/181 [01:23<00:00,  2.17it/s, accuracy=0.579, batch_size=5778, loss=4.39, mae=0.536]\n",
      "100%|██████████| 52/52 [00:07<00:00,  6.53it/s, accuracy=0.527, batch_size=1656, loss=5.4, mae=0.71]  \n",
      "Training, epoch 5:   0%|          | 0/181 [00:00<?, ?it/s]"
     ]
    },
    {
     "name": "stdout",
     "output_type": "stream",
     "text": [
      "{'mae': 0.7095410628019324, 'loss': 5.3976975040159365, 'accuracy': 0.5265700483091788}\n"
     ]
    },
    {
     "name": "stderr",
     "output_type": "stream",
     "text": [
      "Training, epoch 5: 100%|██████████| 181/181 [01:23<00:00,  2.18it/s, accuracy=0.606, batch_size=5778, loss=4.19, mae=0.493]\n",
      "100%|██████████| 52/52 [00:08<00:00,  6.45it/s, accuracy=0.621, batch_size=1656, loss=4.14, mae=0.484]\n",
      "Training, epoch 6:   0%|          | 0/181 [00:00<?, ?it/s]"
     ]
    },
    {
     "name": "stdout",
     "output_type": "stream",
     "text": [
      "{'mae': 0.4836956524618582, 'loss': 4.138294056417862, 'accuracy': 0.6207729474357937}\n"
     ]
    },
    {
     "name": "stderr",
     "output_type": "stream",
     "text": [
      "Training, epoch 6: 100%|██████████| 181/181 [01:22<00:00,  2.18it/s, accuracy=0.615, batch_size=5778, loss=4.03, mae=0.475]\n",
      "100%|██████████| 52/52 [00:08<00:00,  6.48it/s, accuracy=0.573, batch_size=1656, loss=4.58, mae=0.582]\n",
      "Training, epoch 7:   0%|          | 0/181 [00:00<?, ?it/s]"
     ]
    },
    {
     "name": "stdout",
     "output_type": "stream",
     "text": [
      "{'mae': 0.5815217394183799, 'loss': 4.577316420089796, 'accuracy': 0.5730676331381866}\n"
     ]
    },
    {
     "name": "stderr",
     "output_type": "stream",
     "text": [
      "Training, epoch 7: 100%|██████████| 181/181 [01:23<00:00,  2.17it/s, accuracy=0.645, batch_size=5778, loss=3.82, mae=0.435]\n",
      "100%|██████████| 52/52 [00:07<00:00,  6.55it/s, accuracy=0.624, batch_size=1656, loss=3.85, mae=0.44] \n",
      "Training, epoch 8:   0%|          | 0/181 [00:00<?, ?it/s]"
     ]
    },
    {
     "name": "stdout",
     "output_type": "stream",
     "text": [
      "{'mae': 0.4396135267140209, 'loss': 3.8543250894776864, 'accuracy': 0.6243961352657005}\n"
     ]
    },
    {
     "name": "stderr",
     "output_type": "stream",
     "text": [
      "Training, epoch 8: 100%|██████████| 181/181 [01:23<00:00,  2.18it/s, accuracy=0.655, batch_size=5778, loss=3.72, mae=0.415]\n",
      "100%|██████████| 52/52 [00:08<00:00,  6.47it/s, accuracy=0.607, batch_size=1656, loss=4.11, mae=0.466]\n",
      "Training, epoch 9:   0%|          | 0/181 [00:00<?, ?it/s]"
     ]
    },
    {
     "name": "stdout",
     "output_type": "stream",
     "text": [
      "{'mae': 0.46618357487922707, 'loss': 4.105106646312032, 'accuracy': 0.607487922705314}\n"
     ]
    },
    {
     "name": "stderr",
     "output_type": "stream",
     "text": [
      "Training, epoch 9: 100%|██████████| 181/181 [01:23<00:00,  2.18it/s, accuracy=0.677, batch_size=5778, loss=3.54, mae=0.384]\n",
      "100%|██████████| 52/52 [00:07<00:00,  6.51it/s, accuracy=0.632, batch_size=1656, loss=3.81, mae=0.438]\n",
      "Training, epoch 10:   0%|          | 0/181 [00:00<?, ?it/s]"
     ]
    },
    {
     "name": "stdout",
     "output_type": "stream",
     "text": [
      "{'mae': 0.43840579713744243, 'loss': 3.810148841516983, 'accuracy': 0.6322463770995393}\n"
     ]
    },
    {
     "name": "stderr",
     "output_type": "stream",
     "text": [
      "Training, epoch 10: 100%|██████████| 181/181 [01:23<00:00,  2.18it/s, accuracy=0.687, batch_size=5778, loss=3.37, mae=0.366]\n",
      "100%|██████████| 52/52 [00:07<00:00,  6.53it/s, accuracy=0.649, batch_size=1656, loss=3.8, mae=0.42]  \n",
      "Training, epoch 11:   0%|          | 0/181 [00:00<?, ?it/s]"
     ]
    },
    {
     "name": "stdout",
     "output_type": "stream",
     "text": [
      "{'mae': 0.4196859903741574, 'loss': 3.8000027592055465, 'accuracy': 0.6485507249256263}\n"
     ]
    },
    {
     "name": "stderr",
     "output_type": "stream",
     "text": [
      "Training, epoch 11: 100%|██████████| 181/181 [01:23<00:00,  2.17it/s, accuracy=0.686, batch_size=5778, loss=3.35, mae=0.367]\n",
      "100%|██████████| 52/52 [00:08<00:00,  6.49it/s, accuracy=0.628, batch_size=1656, loss=3.86, mae=0.429]\n",
      "Training, epoch 12:   0%|          | 0/181 [00:00<?, ?it/s]"
     ]
    },
    {
     "name": "stdout",
     "output_type": "stream",
     "text": [
      "{'mae': 0.428743961352657, 'loss': 3.8574848670314474, 'accuracy': 0.6280193236714976}\n"
     ]
    },
    {
     "name": "stderr",
     "output_type": "stream",
     "text": [
      "Training, epoch 12: 100%|██████████| 181/181 [01:23<00:00,  2.18it/s, accuracy=0.706, batch_size=5778, loss=3.21, mae=0.341]\n",
      "100%|██████████| 52/52 [00:07<00:00,  6.50it/s, accuracy=0.679, batch_size=1656, loss=3.58, mae=0.382]\n",
      "Training, epoch 13:   0%|          | 0/181 [00:00<?, ?it/s]"
     ]
    },
    {
     "name": "stdout",
     "output_type": "stream",
     "text": [
      "{'mae': 0.38164251207729466, 'loss': 3.5800567525596434, 'accuracy': 0.678743961352657}\n"
     ]
    },
    {
     "name": "stderr",
     "output_type": "stream",
     "text": [
      "Training, epoch 13: 100%|██████████| 181/181 [01:23<00:00,  2.18it/s, accuracy=0.726, batch_size=5778, loss=3.05, mae=0.317]\n",
      "100%|██████████| 52/52 [00:08<00:00,  6.49it/s, accuracy=0.632, batch_size=1656, loss=3.81, mae=0.425]\n",
      "Training, epoch 14:   0%|          | 0/181 [00:00<?, ?it/s]"
     ]
    },
    {
     "name": "stdout",
     "output_type": "stream",
     "text": [
      "{'mae': 0.4251207729468599, 'loss': 3.810222674107206, 'accuracy': 0.6316425120772947}\n"
     ]
    },
    {
     "name": "stderr",
     "output_type": "stream",
     "text": [
      "Training, epoch 14: 100%|██████████| 181/181 [01:23<00:00,  2.18it/s, accuracy=0.728, batch_size=5778, loss=2.95, mae=0.311]\n",
      "100%|██████████| 52/52 [00:08<00:00,  6.48it/s, accuracy=0.664, batch_size=1656, loss=3.64, mae=0.394]\n",
      "Training, epoch 15:   0%|          | 0/181 [00:00<?, ?it/s]"
     ]
    },
    {
     "name": "stdout",
     "output_type": "stream",
     "text": [
      "{'mae': 0.39371980679927815, 'loss': 3.638439390970313, 'accuracy': 0.6636473432831143}\n"
     ]
    },
    {
     "name": "stderr",
     "output_type": "stream",
     "text": [
      "Training, epoch 15: 100%|██████████| 181/181 [01:23<00:00,  2.18it/s, accuracy=0.746, batch_size=5778, loss=2.83, mae=0.286]\n",
      "100%|██████████| 52/52 [00:08<00:00,  6.46it/s, accuracy=0.684, batch_size=1656, loss=3.65, mae=0.383]\n",
      "Training, epoch 16:   0%|          | 0/181 [00:00<?, ?it/s]"
     ]
    },
    {
     "name": "stdout",
     "output_type": "stream",
     "text": [
      "{'mae': 0.38285024158188685, 'loss': 3.6493104903594307, 'accuracy': 0.6835748795149983}\n"
     ]
    },
    {
     "name": "stderr",
     "output_type": "stream",
     "text": [
      "Training, epoch 16: 100%|██████████| 181/181 [01:23<00:00,  2.17it/s, accuracy=0.745, batch_size=5778, loss=2.8, mae=0.285] \n",
      "100%|██████████| 52/52 [00:07<00:00,  6.50it/s, accuracy=0.638, batch_size=1656, loss=4.18, mae=0.449]\n",
      "Training, epoch 17:   0%|          | 0/181 [00:00<?, ?it/s]"
     ]
    },
    {
     "name": "stdout",
     "output_type": "stream",
     "text": [
      "{'mae': 0.4486714976205342, 'loss': 4.1803717872370845, 'accuracy': 0.6382850244425345}\n"
     ]
    },
    {
     "name": "stderr",
     "output_type": "stream",
     "text": [
      "Training, epoch 17: 100%|██████████| 181/181 [01:23<00:00,  2.18it/s, accuracy=0.764, batch_size=5778, loss=2.65, mae=0.266]\n",
      "100%|██████████| 52/52 [00:07<00:00,  6.51it/s, accuracy=0.579, batch_size=1656, loss=4.28, mae=0.479]\n",
      "Training, epoch 18:   0%|          | 0/181 [00:00<?, ?it/s]"
     ]
    },
    {
     "name": "stdout",
     "output_type": "stream",
     "text": [
      "{'mae': 0.4788647342995169, 'loss': 4.2842386379334085, 'accuracy': 0.5791062801932367}\n"
     ]
    },
    {
     "name": "stderr",
     "output_type": "stream",
     "text": [
      "Training, epoch 18: 100%|██████████| 181/181 [01:23<00:00,  2.18it/s, accuracy=0.771, batch_size=5778, loss=2.55, mae=0.255]\n",
      "100%|██████████| 52/52 [00:08<00:00,  6.47it/s, accuracy=0.675, batch_size=1656, loss=3.7, mae=0.372] \n",
      "Training, epoch 19:   0%|          | 0/181 [00:00<?, ?it/s]"
     ]
    },
    {
     "name": "stdout",
     "output_type": "stream",
     "text": [
      "{'mae': 0.371980676472475, 'loss': 3.7008671507167357, 'accuracy': 0.6745169085005055}\n"
     ]
    },
    {
     "name": "stderr",
     "output_type": "stream",
     "text": [
      "Training, epoch 19: 100%|██████████| 181/181 [01:23<00:00,  2.17it/s, accuracy=0.771, batch_size=5778, loss=2.5, mae=0.25]  \n",
      "100%|██████████| 52/52 [00:08<00:00,  6.42it/s, accuracy=0.676, batch_size=1656, loss=3.65, mae=0.383]\n"
     ]
    },
    {
     "name": "stdout",
     "output_type": "stream",
     "text": [
      "{'mae': 0.3834541062801932, 'loss': 3.647683772487917, 'accuracy': 0.6757246376811594}\n"
     ]
    },
    {
     "name": "stderr",
     "output_type": "stream",
     "text": [
      "Training, epoch 0: 100%|██████████| 181/181 [01:23<00:00,  2.17it/s, accuracy=0.41, batch_size=5778, loss=8.95, mae=0.984] \n",
      "100%|██████████| 52/52 [00:08<00:00,  6.48it/s, accuracy=0.43, batch_size=1656, loss=8.56, mae=0.83]  \n",
      "Training, epoch 1:   0%|          | 0/181 [00:00<?, ?it/s]"
     ]
    },
    {
     "name": "stdout",
     "output_type": "stream",
     "text": [
      "{'mae': 0.830314010237726, 'loss': 8.55634714209515, 'accuracy': 0.42995169082125606}\n"
     ]
    },
    {
     "name": "stderr",
     "output_type": "stream",
     "text": [
      "Training, epoch 1: 100%|██████████| 181/181 [01:23<00:00,  2.18it/s, accuracy=0.494, batch_size=5778, loss=7.92, mae=0.749]\n",
      "100%|██████████| 52/52 [00:08<00:00,  6.48it/s, accuracy=0.536, batch_size=1656, loss=7.32, mae=0.641]\n",
      "Training, epoch 2:   0%|          | 0/181 [00:00<?, ?it/s]"
     ]
    },
    {
     "name": "stdout",
     "output_type": "stream",
     "text": [
      "{'mae': 0.6413043478260869, 'loss': 7.32460283657203, 'accuracy': 0.5362318840579711}\n"
     ]
    },
    {
     "name": "stderr",
     "output_type": "stream",
     "text": [
      "Training, epoch 2: 100%|██████████| 181/181 [01:23<00:00,  2.17it/s, accuracy=0.534, batch_size=5778, loss=7.31, mae=0.661]\n",
      "100%|██████████| 52/52 [00:08<00:00,  6.47it/s, accuracy=0.572, batch_size=1656, loss=6.76, mae=0.623]\n",
      "Training, epoch 3:   0%|          | 0/181 [00:00<?, ?it/s]"
     ]
    },
    {
     "name": "stdout",
     "output_type": "stream",
     "text": [
      "{'mae': 0.6225845422145825, 'loss': 6.76362319153864, 'accuracy': 0.5718599033816425}\n"
     ]
    },
    {
     "name": "stderr",
     "output_type": "stream",
     "text": [
      "Training, epoch 3: 100%|██████████| 181/181 [01:23<00:00,  2.18it/s, accuracy=0.576, batch_size=5778, loss=6.69, mae=0.589]\n",
      "100%|██████████| 52/52 [00:08<00:00,  6.44it/s, accuracy=0.56, batch_size=1656, loss=6.86, mae=0.634] \n",
      "Training, epoch 4:   0%|          | 0/181 [00:00<?, ?it/s]"
     ]
    },
    {
     "name": "stdout",
     "output_type": "stream",
     "text": [
      "{'mae': 0.6340579710144928, 'loss': 6.864013734071151, 'accuracy': 0.5597826089835973}\n"
     ]
    },
    {
     "name": "stderr",
     "output_type": "stream",
     "text": [
      "Training, epoch 4: 100%|██████████| 181/181 [01:23<00:00,  2.18it/s, accuracy=0.6, batch_size=5778, loss=6.29, mae=0.541]  \n",
      "100%|██████████| 52/52 [00:08<00:00,  6.49it/s, accuracy=0.614, batch_size=1656, loss=6.06, mae=0.505]\n",
      "Training, epoch 5:   0%|          | 0/181 [00:00<?, ?it/s]"
     ]
    },
    {
     "name": "stdout",
     "output_type": "stream",
     "text": [
      "{'mae': 0.5048309184502864, 'loss': 6.058535580473822, 'accuracy': 0.6141304347826086}\n"
     ]
    },
    {
     "name": "stderr",
     "output_type": "stream",
     "text": [
      "Training, epoch 5: 100%|██████████| 181/181 [01:23<00:00,  2.18it/s, accuracy=0.633, batch_size=5778, loss=5.91, mae=0.485]\n",
      "100%|██████████| 52/52 [00:08<00:00,  6.49it/s, accuracy=0.625, batch_size=1656, loss=5.91, mae=0.509]\n",
      "Training, epoch 6:   0%|          | 0/181 [00:00<?, ?it/s]"
     ]
    },
    {
     "name": "stdout",
     "output_type": "stream",
     "text": [
      "{'mae': 0.509057971086479, 'loss': 5.91176586335408, 'accuracy': 0.6250000005758903}\n"
     ]
    },
    {
     "name": "stderr",
     "output_type": "stream",
     "text": [
      "Training, epoch 6: 100%|██████████| 181/181 [01:23<00:00,  2.18it/s, accuracy=0.638, batch_size=5778, loss=5.75, mae=0.475]\n",
      "100%|██████████| 52/52 [00:07<00:00,  6.51it/s, accuracy=0.636, batch_size=1656, loss=5.77, mae=0.495]\n",
      "Training, epoch 7:   0%|          | 0/181 [00:00<?, ?it/s]"
     ]
    },
    {
     "name": "stdout",
     "output_type": "stream",
     "text": [
      "{'mae': 0.49456521753527694, 'loss': 5.7662538007837565, 'accuracy': 0.636473430239636}\n"
     ]
    },
    {
     "name": "stderr",
     "output_type": "stream",
     "text": [
      "Training, epoch 7: 100%|██████████| 181/181 [01:22<00:00,  2.21it/s, accuracy=0.663, batch_size=5778, loss=5.4, mae=0.435] \n",
      "100%|██████████| 52/52 [00:07<00:00,  6.81it/s, accuracy=0.631, batch_size=1656, loss=6, mae=0.489]   \n",
      "Training, epoch 8:   0%|          | 0/181 [00:00<?, ?it/s]"
     ]
    },
    {
     "name": "stdout",
     "output_type": "stream",
     "text": [
      "{'mae': 0.4891304350705538, 'loss': 5.999088179086142, 'accuracy': 0.6310386479188854}\n"
     ]
    },
    {
     "name": "stderr",
     "output_type": "stream",
     "text": [
      "Training, epoch 8: 100%|██████████| 181/181 [01:18<00:00,  2.30it/s, accuracy=0.669, batch_size=5778, loss=5.25, mae=0.418]\n",
      "100%|██████████| 52/52 [00:07<00:00,  6.86it/s, accuracy=0.649, batch_size=1656, loss=5.59, mae=0.459]\n",
      "Training, epoch 9:   0%|          | 0/181 [00:00<?, ?it/s]"
     ]
    },
    {
     "name": "stdout",
     "output_type": "stream",
     "text": [
      "{'mae': 0.45893719821160545, 'loss': 5.587474638713155, 'accuracy': 0.6485507249256263}\n"
     ]
    },
    {
     "name": "stderr",
     "output_type": "stream",
     "text": [
      "Training, epoch 9: 100%|██████████| 181/181 [01:18<00:00,  2.30it/s, accuracy=0.689, batch_size=5778, loss=5, mae=0.387]   \n",
      "100%|██████████| 52/52 [00:07<00:00,  6.76it/s, accuracy=0.643, batch_size=1656, loss=5.99, mae=0.474]\n",
      "Training, epoch 10:   0%|          | 0/181 [00:00<?, ?it/s]"
     ]
    },
    {
     "name": "stdout",
     "output_type": "stream",
     "text": [
      "{'mae': 0.4740338164611139, 'loss': 5.9917670217689105, 'accuracy': 0.6431159423169307}\n"
     ]
    },
    {
     "name": "stderr",
     "output_type": "stream",
     "text": [
      "Training, epoch 10: 100%|██████████| 181/181 [01:19<00:00,  2.27it/s, accuracy=0.702, batch_size=5778, loss=4.74, mae=0.367]\n",
      "100%|██████████| 52/52 [00:07<00:00,  6.68it/s, accuracy=0.666, batch_size=1656, loss=5.54, mae=0.415]\n",
      "Training, epoch 11:   0%|          | 0/181 [00:00<?, ?it/s]"
     ]
    },
    {
     "name": "stdout",
     "output_type": "stream",
     "text": [
      "{'mae': 0.4148550726077407, 'loss': 5.543305931459878, 'accuracy': 0.6660628022203123}\n"
     ]
    },
    {
     "name": "stderr",
     "output_type": "stream",
     "text": [
      "Training, epoch 11: 100%|██████████| 181/181 [01:21<00:00,  2.22it/s, accuracy=0.714, batch_size=5778, loss=4.6, mae=0.346] \n",
      "100%|██████████| 52/52 [00:07<00:00,  6.54it/s, accuracy=0.64, batch_size=1656, loss=5.76, mae=0.457] \n",
      "Training, epoch 12:   0%|          | 0/181 [00:00<?, ?it/s]"
     ]
    },
    {
     "name": "stdout",
     "output_type": "stream",
     "text": [
      "{'mae': 0.4571256038647343, 'loss': 5.755456272530671, 'accuracy': 0.6400966183574879}\n"
     ]
    },
    {
     "name": "stderr",
     "output_type": "stream",
     "text": [
      "Training, epoch 12: 100%|██████████| 181/181 [01:23<00:00,  2.18it/s, accuracy=0.729, batch_size=5778, loss=4.34, mae=0.323]\n",
      "100%|██████████| 52/52 [00:08<00:00,  6.48it/s, accuracy=0.677, batch_size=1656, loss=5.25, mae=0.383]\n",
      "Training, epoch 13:   0%|          | 0/181 [00:00<?, ?it/s]"
     ]
    },
    {
     "name": "stdout",
     "output_type": "stream",
     "text": [
      "{'mae': 0.38285024183383887, 'loss': 5.251664090271733, 'accuracy': 0.6769323677256487}\n"
     ]
    },
    {
     "name": "stderr",
     "output_type": "stream",
     "text": [
      "Training, epoch 13: 100%|██████████| 181/181 [01:22<00:00,  2.18it/s, accuracy=0.732, batch_size=5778, loss=4.23, mae=0.316]\n",
      "100%|██████████| 52/52 [00:07<00:00,  6.54it/s, accuracy=0.666, batch_size=1656, loss=5.37, mae=0.397]\n",
      "Training, epoch 14:   0%|          | 0/181 [00:00<?, ?it/s]"
     ]
    },
    {
     "name": "stdout",
     "output_type": "stream",
     "text": [
      "{'mae': 0.3967391305067689, 'loss': 5.37243153853117, 'accuracy': 0.6660628025082574}\n"
     ]
    },
    {
     "name": "stderr",
     "output_type": "stream",
     "text": [
      "Training, epoch 14: 100%|██████████| 181/181 [01:23<00:00,  2.18it/s, accuracy=0.745, batch_size=5778, loss=4.07, mae=0.297]\n",
      "100%|██████████| 52/52 [00:08<00:00,  6.48it/s, accuracy=0.656, batch_size=1656, loss=5.75, mae=0.415]\n",
      "Training, epoch 15:   0%|          | 0/181 [00:00<?, ?it/s]"
     ]
    },
    {
     "name": "stdout",
     "output_type": "stream",
     "text": [
      "{'mae': 0.4148550725357544, 'loss': 5.748996061979285, 'accuracy': 0.6557971020251656}\n"
     ]
    },
    {
     "name": "stderr",
     "output_type": "stream",
     "text": [
      "Training, epoch 15: 100%|██████████| 181/181 [01:22<00:00,  2.19it/s, accuracy=0.779, batch_size=5778, loss=3.7, mae=0.252] \n",
      "100%|██████████| 52/52 [00:08<00:00,  6.50it/s, accuracy=0.534, batch_size=1656, loss=7.68, mae=0.537]\n",
      "Training, epoch 16:   0%|          | 0/181 [00:00<?, ?it/s]"
     ]
    },
    {
     "name": "stdout",
     "output_type": "stream",
     "text": [
      "{'mae': 0.5368357487922706, 'loss': 7.6817044474652425, 'accuracy': 0.5344202898550725}\n"
     ]
    },
    {
     "name": "stderr",
     "output_type": "stream",
     "text": [
      "Training, epoch 16: 100%|██████████| 181/181 [01:23<00:00,  2.17it/s, accuracy=0.772, batch_size=5778, loss=3.7, mae=0.26]  \n",
      "100%|██████████| 52/52 [00:08<00:00,  6.44it/s, accuracy=0.601, batch_size=1656, loss=6.6, mae=0.496] \n",
      "Training, epoch 17:   0%|          | 0/181 [00:00<?, ?it/s]"
     ]
    },
    {
     "name": "stdout",
     "output_type": "stream",
     "text": [
      "{'mae': 0.4963768115942029, 'loss': 6.599921254144198, 'accuracy': 0.6014492753623188}\n"
     ]
    },
    {
     "name": "stderr",
     "output_type": "stream",
     "text": [
      "Training, epoch 17: 100%|██████████| 181/181 [01:22<00:00,  2.19it/s, accuracy=0.792, batch_size=5778, loss=3.52, mae=0.239]\n",
      "100%|██████████| 52/52 [00:08<00:00,  6.50it/s, accuracy=0.615, batch_size=1656, loss=6.19, mae=0.452]\n",
      "Training, epoch 18:   0%|          | 0/181 [00:00<?, ?it/s]"
     ]
    },
    {
     "name": "stdout",
     "output_type": "stream",
     "text": [
      "{'mae': 0.45169082125603865, 'loss': 6.185604970812221, 'accuracy': 0.6147342995169082}\n"
     ]
    },
    {
     "name": "stderr",
     "output_type": "stream",
     "text": [
      "Training, epoch 18: 100%|██████████| 181/181 [01:23<00:00,  2.17it/s, accuracy=0.802, batch_size=5778, loss=3.31, mae=0.222]\n",
      "100%|██████████| 52/52 [00:08<00:00,  6.49it/s, accuracy=0.655, batch_size=1656, loss=5.86, mae=0.396]\n",
      "Training, epoch 19:   0%|          | 0/181 [00:00<?, ?it/s]"
     ]
    },
    {
     "name": "stdout",
     "output_type": "stream",
     "text": [
      "{'mae': 0.3961352657724694, 'loss': 5.856588990216094, 'accuracy': 0.6551932372908661}\n"
     ]
    },
    {
     "name": "stderr",
     "output_type": "stream",
     "text": [
      "Training, epoch 19: 100%|██████████| 181/181 [01:22<00:00,  2.18it/s, accuracy=0.809, batch_size=5778, loss=3.17, mae=0.216]\n",
      "100%|██████████| 52/52 [00:08<00:00,  6.47it/s, accuracy=0.662, batch_size=1656, loss=5.68, mae=0.385]\n"
     ]
    },
    {
     "name": "stdout",
     "output_type": "stream",
     "text": [
      "{'mae': 0.38526570062706433, 'loss': 5.67680289319172, 'accuracy': 0.6624396138145152}\n"
     ]
    },
    {
     "name": "stderr",
     "output_type": "stream",
     "text": [
      "Training, epoch 0: 100%|██████████| 181/181 [01:23<00:00,  2.17it/s, accuracy=0.412, batch_size=5778, loss=10.3, mae=0.97] \n",
      "100%|██████████| 52/52 [00:08<00:00,  6.48it/s, accuracy=0.417, batch_size=1656, loss=9.77, mae=0.79] \n",
      "Training, epoch 1:   0%|          | 0/181 [00:00<?, ?it/s]"
     ]
    },
    {
     "name": "stdout",
     "output_type": "stream",
     "text": [
      "{'mae': 0.7898550724637681, 'loss': 9.766144019969996, 'accuracy': 0.4172705314009662}\n"
     ]
    },
    {
     "name": "stderr",
     "output_type": "stream",
     "text": [
      "Training, epoch 1: 100%|██████████| 181/181 [01:23<00:00,  2.18it/s, accuracy=0.488, batch_size=5778, loss=9.06, mae=0.745]\n",
      "100%|██████████| 52/52 [00:08<00:00,  6.48it/s, accuracy=0.545, batch_size=1656, loss=8.32, mae=0.655]\n",
      "Training, epoch 2:   0%|          | 0/181 [00:00<?, ?it/s]"
     ]
    },
    {
     "name": "stdout",
     "output_type": "stream",
     "text": [
      "{'mae': 0.6545893725565666, 'loss': 8.31967650519477, 'accuracy': 0.5452898550724637}\n"
     ]
    },
    {
     "name": "stderr",
     "output_type": "stream",
     "text": [
      "Training, epoch 2: 100%|██████████| 181/181 [01:23<00:00,  2.17it/s, accuracy=0.539, batch_size=5778, loss=8.23, mae=0.654]\n",
      "100%|██████████| 52/52 [00:08<00:00,  6.44it/s, accuracy=0.566, batch_size=1656, loss=7.64, mae=0.615]\n",
      "Training, epoch 3:   0%|          | 0/181 [00:00<?, ?it/s]"
     ]
    },
    {
     "name": "stdout",
     "output_type": "stream",
     "text": [
      "{'mae': 0.6147342995169082, 'loss': 7.642215866973435, 'accuracy': 0.5664251207909434}\n"
     ]
    },
    {
     "name": "stderr",
     "output_type": "stream",
     "text": [
      "Training, epoch 3: 100%|██████████| 181/181 [01:23<00:00,  2.18it/s, accuracy=0.591, batch_size=5778, loss=7.45, mae=0.553]\n",
      "100%|██████████| 52/52 [00:07<00:00,  6.51it/s, accuracy=0.603, batch_size=1656, loss=7.18, mae=0.544]\n",
      "Training, epoch 4:   0%|          | 0/181 [00:00<?, ?it/s]"
     ]
    },
    {
     "name": "stdout",
     "output_type": "stream",
     "text": [
      "{'mae': 0.5440821256038647, 'loss': 7.176531192761113, 'accuracy': 0.6026570054068081}\n"
     ]
    },
    {
     "name": "stderr",
     "output_type": "stream",
     "text": [
      "Training, epoch 4: 100%|██████████| 181/181 [01:23<00:00,  2.18it/s, accuracy=0.627, batch_size=5778, loss=6.95, mae=0.497]\n",
      "100%|██████████| 52/52 [00:08<00:00,  6.48it/s, accuracy=0.619, batch_size=1656, loss=6.8, mae=0.507] \n",
      "Training, epoch 5:   0%|          | 0/181 [00:00<?, ?it/s]"
     ]
    },
    {
     "name": "stdout",
     "output_type": "stream",
     "text": [
      "{'mae': 0.5066425122212672, 'loss': 6.804707621606652, 'accuracy': 0.61896135294495}\n"
     ]
    },
    {
     "name": "stderr",
     "output_type": "stream",
     "text": [
      "Training, epoch 5: 100%|██████████| 181/181 [01:22<00:00,  2.18it/s, accuracy=0.646, batch_size=5778, loss=6.57, mae=0.457]\n",
      "100%|██████████| 52/52 [00:07<00:00,  6.52it/s, accuracy=0.613, batch_size=1656, loss=7.2, mae=0.532] \n",
      "Training, epoch 6:   0%|          | 0/181 [00:00<?, ?it/s]"
     ]
    },
    {
     "name": "stdout",
     "output_type": "stream",
     "text": [
      "{'mae': 0.5320048310618469, 'loss': 7.201524107928437, 'accuracy': 0.6129227056019548}\n"
     ]
    },
    {
     "name": "stderr",
     "output_type": "stream",
     "text": [
      "Training, epoch 6: 100%|██████████| 181/181 [01:22<00:00,  2.19it/s, accuracy=0.666, batch_size=5778, loss=6.14, mae=0.431]\n",
      "100%|██████████| 52/52 [00:08<00:00,  6.48it/s, accuracy=0.628, batch_size=1656, loss=6.62, mae=0.447]\n",
      "Training, epoch 7:   0%|          | 0/181 [00:00<?, ?it/s]"
     ]
    },
    {
     "name": "stdout",
     "output_type": "stream",
     "text": [
      "{'mae': 0.447463768115942, 'loss': 6.6173836159821295, 'accuracy': 0.6280193236714976}\n"
     ]
    },
    {
     "name": "stderr",
     "output_type": "stream",
     "text": [
      "Training, epoch 7: 100%|██████████| 181/181 [01:23<00:00,  2.18it/s, accuracy=0.675, batch_size=5778, loss=5.92, mae=0.402]\n",
      "100%|██████████| 52/52 [00:07<00:00,  6.51it/s, accuracy=0.645, batch_size=1656, loss=6.63, mae=0.454]\n",
      "Training, epoch 8:   0%|          | 0/181 [00:00<?, ?it/s]"
     ]
    },
    {
     "name": "stdout",
     "output_type": "stream",
     "text": [
      "{'mae': 0.45410628019323673, 'loss': 6.6257068200963705, 'accuracy': 0.644927536231884}\n"
     ]
    },
    {
     "name": "stderr",
     "output_type": "stream",
     "text": [
      "Training, epoch 8: 100%|██████████| 181/181 [01:22<00:00,  2.18it/s, accuracy=0.689, batch_size=5778, loss=5.63, mae=0.38] \n",
      "100%|██████████| 52/52 [00:08<00:00,  6.41it/s, accuracy=0.671, batch_size=1656, loss=5.89, mae=0.391]\n",
      "Training, epoch 9:   0%|          | 0/181 [00:00<?, ?it/s]"
     ]
    },
    {
     "name": "stdout",
     "output_type": "stream",
     "text": [
      "{'mae': 0.3913043478980732, 'loss': 5.888613189476124, 'accuracy': 0.6714975851169531}\n"
     ]
    },
    {
     "name": "stderr",
     "output_type": "stream",
     "text": [
      "Training, epoch 9: 100%|██████████| 181/181 [01:23<00:00,  2.17it/s, accuracy=0.706, batch_size=5778, loss=5.38, mae=0.355]\n",
      "100%|██████████| 52/52 [00:07<00:00,  6.52it/s, accuracy=0.667, batch_size=1656, loss=6.15, mae=0.405]\n",
      "Training, epoch 10:   0%|          | 0/181 [00:00<?, ?it/s]"
     ]
    },
    {
     "name": "stdout",
     "output_type": "stream",
     "text": [
      "{'mae': 0.40458937226862146, 'loss': 6.150332510759289, 'accuracy': 0.666666667242557}\n"
     ]
    },
    {
     "name": "stderr",
     "output_type": "stream",
     "text": [
      "Training, epoch 10: 100%|██████████| 181/181 [01:22<00:00,  2.18it/s, accuracy=0.728, batch_size=5778, loss=5.02, mae=0.321]\n",
      "100%|██████████| 52/52 [00:08<00:00,  6.47it/s, accuracy=0.665, batch_size=1656, loss=6.45, mae=0.42] \n",
      "Training, epoch 11:   0%|          | 0/181 [00:00<?, ?it/s]"
     ]
    },
    {
     "name": "stdout",
     "output_type": "stream",
     "text": [
      "{'mae': 0.42028985514445005, 'loss': 6.4465421847099265, 'accuracy': 0.6648550730396584}\n"
     ]
    },
    {
     "name": "stderr",
     "output_type": "stream",
     "text": [
      "Training, epoch 11: 100%|██████████| 181/181 [01:23<00:00,  2.18it/s, accuracy=0.743, batch_size=5778, loss=4.75, mae=0.299]\n",
      "100%|██████████| 52/52 [00:07<00:00,  6.53it/s, accuracy=0.644, batch_size=1656, loss=7.31, mae=0.47] \n",
      "Training, epoch 12:   0%|          | 0/181 [00:00<?, ?it/s]"
     ]
    },
    {
     "name": "stdout",
     "output_type": "stream",
     "text": [
      "{'mae': 0.4704106280553168, 'loss': 7.308397143359345, 'accuracy': 0.6437198070512302}\n"
     ]
    },
    {
     "name": "stderr",
     "output_type": "stream",
     "text": [
      "Training, epoch 12: 100%|██████████| 181/181 [01:22<00:00,  2.19it/s, accuracy=0.75, batch_size=5778, loss=4.64, mae=0.29]  \n",
      "100%|██████████| 52/52 [00:08<00:00,  6.43it/s, accuracy=0.672, batch_size=1656, loss=6.45, mae=0.418]\n",
      "Training, epoch 13:   0%|          | 0/181 [00:00<?, ?it/s]"
     ]
    },
    {
     "name": "stdout",
     "output_type": "stream",
     "text": [
      "{'mae': 0.41847826090555834, 'loss': 6.453360446985217, 'accuracy': 0.6721014495633074}\n"
     ]
    },
    {
     "name": "stderr",
     "output_type": "stream",
     "text": [
      "Training, epoch 13: 100%|██████████| 181/181 [01:22<00:00,  2.18it/s, accuracy=0.765, batch_size=5778, loss=4.42, mae=0.272]\n",
      "100%|██████████| 52/52 [00:07<00:00,  6.54it/s, accuracy=0.618, batch_size=1656, loss=9.01, mae=0.509] \n",
      "Training, epoch 14:   0%|          | 0/181 [00:00<?, ?it/s]"
     ]
    },
    {
     "name": "stdout",
     "output_type": "stream",
     "text": [
      "{'mae': 0.509057971590383, 'loss': 9.006857410145267, 'accuracy': 0.6177536231884058}\n"
     ]
    },
    {
     "name": "stderr",
     "output_type": "stream",
     "text": [
      "Training, epoch 14: 100%|██████████| 181/181 [01:23<00:00,  2.17it/s, accuracy=0.774, batch_size=5778, loss=4.18, mae=0.258]\n",
      "100%|██████████| 52/52 [00:08<00:00,  6.48it/s, accuracy=0.673, batch_size=1656, loss=6.6, mae=0.397] \n",
      "Training, epoch 15:   0%|          | 0/181 [00:00<?, ?it/s]"
     ]
    },
    {
     "name": "stdout",
     "output_type": "stream",
     "text": [
      "{'mae': 0.3967391304347826, 'loss': 6.601385837591788, 'accuracy': 0.6733091787439613}\n"
     ]
    },
    {
     "name": "stderr",
     "output_type": "stream",
     "text": [
      "Training, epoch 15: 100%|██████████| 181/181 [01:23<00:00,  2.17it/s, accuracy=0.792, batch_size=5778, loss=3.91, mae=0.231]\n",
      "100%|██████████| 52/52 [00:07<00:00,  6.55it/s, accuracy=0.65, batch_size=1656, loss=6.41, mae=0.393] \n",
      "Training, epoch 16:   0%|          | 0/181 [00:00<?, ?it/s]"
     ]
    },
    {
     "name": "stdout",
     "output_type": "stream",
     "text": [
      "{'mae': 0.39311594206497863, 'loss': 6.406975702387124, 'accuracy': 0.6503623191285248}\n"
     ]
    },
    {
     "name": "stderr",
     "output_type": "stream",
     "text": [
      "Training, epoch 16: 100%|██████████| 181/181 [01:23<00:00,  2.17it/s, accuracy=0.812, batch_size=5778, loss=3.63, mae=0.21] \n",
      "100%|██████████| 52/52 [00:08<00:00,  6.48it/s, accuracy=0.594, batch_size=1656, loss=8.26, mae=0.461]\n",
      "Training, epoch 17:   0%|          | 0/181 [00:00<?, ?it/s]"
     ]
    },
    {
     "name": "stdout",
     "output_type": "stream",
     "text": [
      "{'mae': 0.4613526570048309, 'loss': 8.26121037017896, 'accuracy': 0.5935990338164251}\n"
     ]
    },
    {
     "name": "stderr",
     "output_type": "stream",
     "text": [
      "Training, epoch 17: 100%|██████████| 181/181 [01:23<00:00,  2.18it/s, accuracy=0.818, batch_size=5778, loss=3.5, mae=0.201] \n",
      "100%|██████████| 52/52 [00:08<00:00,  6.46it/s, accuracy=0.664, batch_size=1656, loss=6.75, mae=0.403]\n",
      "Training, epoch 18:   0%|          | 0/181 [00:00<?, ?it/s]"
     ]
    },
    {
     "name": "stdout",
     "output_type": "stream",
     "text": [
      "{'mae': 0.40338164258406356, 'loss': 6.749291912944996, 'accuracy': 0.6642512083053589}\n"
     ]
    },
    {
     "name": "stderr",
     "output_type": "stream",
     "text": [
      "Training, epoch 18: 100%|██████████| 181/181 [01:23<00:00,  2.17it/s, accuracy=0.831, batch_size=5778, loss=3.31, mae=0.187]\n",
      "100%|██████████| 52/52 [00:08<00:00,  6.43it/s, accuracy=0.618, batch_size=1656, loss=7.26, mae=0.422]\n",
      "Training, epoch 19:   0%|          | 0/181 [00:00<?, ?it/s]"
     ]
    },
    {
     "name": "stdout",
     "output_type": "stream",
     "text": [
      "{'mae': 0.4221014492753623, 'loss': 7.256001953917425, 'accuracy': 0.6183574879227053}\n"
     ]
    },
    {
     "name": "stderr",
     "output_type": "stream",
     "text": [
      "Training, epoch 19: 100%|██████████| 181/181 [01:23<00:00,  2.17it/s, accuracy=0.838, batch_size=5778, loss=3.17, mae=0.179]\n",
      "100%|██████████| 52/52 [00:08<00:00,  6.47it/s, accuracy=0.646, batch_size=1656, loss=7.13, mae=0.415]\n"
     ]
    },
    {
     "name": "stdout",
     "output_type": "stream",
     "text": [
      "{'mae': 0.4148550724637681, 'loss': 7.1264774603544225, 'accuracy': 0.6461352657004831}\n"
     ]
    },
    {
     "name": "stderr",
     "output_type": "stream",
     "text": [
      "Training, epoch 0: 100%|██████████| 181/181 [01:23<00:00,  2.17it/s, accuracy=0.415, batch_size=5778, loss=11.5, mae=0.926]\n",
      "100%|██████████| 52/52 [00:08<00:00,  6.49it/s, accuracy=0.468, batch_size=1656, loss=10.8, mae=0.858]\n",
      "Training, epoch 1:   0%|          | 0/181 [00:00<?, ?it/s]"
     ]
    },
    {
     "name": "stdout",
     "output_type": "stream",
     "text": [
      "{'mae': 0.8580917885913941, 'loss': 10.808896442542329, 'accuracy': 0.46799516908212563}\n"
     ]
    },
    {
     "name": "stderr",
     "output_type": "stream",
     "text": [
      "Training, epoch 1: 100%|██████████| 181/181 [01:23<00:00,  2.17it/s, accuracy=0.498, batch_size=5778, loss=10, mae=0.718]  \n",
      "100%|██████████| 52/52 [00:08<00:00,  6.44it/s, accuracy=0.549, batch_size=1656, loss=9.31, mae=0.626]\n",
      "Training, epoch 2:   0%|          | 0/181 [00:00<?, ?it/s]"
     ]
    },
    {
     "name": "stdout",
     "output_type": "stream",
     "text": [
      "{'mae': 0.626207729468599, 'loss': 9.310072829757912, 'accuracy': 0.5489130434782609}\n"
     ]
    },
    {
     "name": "stderr",
     "output_type": "stream",
     "text": [
      "Training, epoch 2: 100%|██████████| 181/181 [01:23<00:00,  2.17it/s, accuracy=0.551, batch_size=5778, loss=9.04, mae=0.619]\n",
      "100%|██████████| 52/52 [00:08<00:00,  6.48it/s, accuracy=0.595, batch_size=1656, loss=8.28, mae=0.561]\n",
      "Training, epoch 3:   0%|          | 0/181 [00:00<?, ?it/s]"
     ]
    },
    {
     "name": "stdout",
     "output_type": "stream",
     "text": [
      "{'mae': 0.5609903381642513, 'loss': 8.276022390466958, 'accuracy': 0.5954106280193237}\n"
     ]
    },
    {
     "name": "stderr",
     "output_type": "stream",
     "text": [
      "Training, epoch 3: 100%|██████████| 181/181 [01:23<00:00,  2.17it/s, accuracy=0.589, batch_size=5778, loss=8.33, mae=0.553]\n",
      "100%|██████████| 52/52 [00:08<00:00,  6.46it/s, accuracy=0.591, batch_size=1656, loss=8.33, mae=0.557]\n",
      "Training, epoch 4:   0%|          | 0/181 [00:00<?, ?it/s]"
     ]
    },
    {
     "name": "stdout",
     "output_type": "stream",
     "text": [
      "{'mae': 0.5573671500463993, 'loss': 8.325908674710039, 'accuracy': 0.591183574879227}\n"
     ]
    },
    {
     "name": "stderr",
     "output_type": "stream",
     "text": [
      "Training, epoch 4: 100%|██████████| 181/181 [01:22<00:00,  2.18it/s, accuracy=0.617, batch_size=5778, loss=7.86, mae=0.507]\n",
      "100%|██████████| 52/52 [00:08<00:00,  6.45it/s, accuracy=0.607, batch_size=1656, loss=8.05, mae=0.518]\n",
      "Training, epoch 5:   0%|          | 0/181 [00:00<?, ?it/s]"
     ]
    },
    {
     "name": "stdout",
     "output_type": "stream",
     "text": [
      "{'mae': 0.517512077294686, 'loss': 8.054048492136785, 'accuracy': 0.607487922705314}\n"
     ]
    },
    {
     "name": "stderr",
     "output_type": "stream",
     "text": [
      "Training, epoch 5: 100%|██████████| 181/181 [01:23<00:00,  2.17it/s, accuracy=0.642, batch_size=5778, loss=7.32, mae=0.465]\n",
      "100%|██████████| 52/52 [00:08<00:00,  6.46it/s, accuracy=0.646, batch_size=1656, loss=7.35, mae=0.457]\n",
      "Training, epoch 6:   0%|          | 0/181 [00:00<?, ?it/s]"
     ]
    },
    {
     "name": "stdout",
     "output_type": "stream",
     "text": [
      "{'mae': 0.45712560390072743, 'loss': 7.345066614197072, 'accuracy': 0.6455314012541287}\n"
     ]
    },
    {
     "name": "stderr",
     "output_type": "stream",
     "text": [
      "Training, epoch 6: 100%|██████████| 181/181 [01:23<00:00,  2.18it/s, accuracy=0.667, batch_size=5778, loss=6.89, mae=0.418]\n",
      "100%|██████████| 52/52 [00:08<00:00,  6.47it/s, accuracy=0.667, batch_size=1656, loss=7.02, mae=0.408]\n",
      "Training, epoch 7:   0%|          | 0/181 [00:00<?, ?it/s]"
     ]
    },
    {
     "name": "stdout",
     "output_type": "stream",
     "text": [
      "{'mae': 0.4082125603864734, 'loss': 7.016589411214929, 'accuracy': 0.6666666666666666}\n"
     ]
    },
    {
     "name": "stderr",
     "output_type": "stream",
     "text": [
      "Training, epoch 7: 100%|██████████| 181/181 [01:23<00:00,  2.18it/s, accuracy=0.676, batch_size=5778, loss=6.66, mae=0.405]\n",
      "100%|██████████| 52/52 [00:07<00:00,  6.51it/s, accuracy=0.645, batch_size=1656, loss=7.26, mae=0.463]\n",
      "Training, epoch 8:   0%|          | 0/181 [00:00<?, ?it/s]"
     ]
    },
    {
     "name": "stdout",
     "output_type": "stream",
     "text": [
      "{'mae': 0.4631642512437226, 'loss': 7.263597120985317, 'accuracy': 0.6449275365198291}\n"
     ]
    },
    {
     "name": "stderr",
     "output_type": "stream",
     "text": [
      "Training, epoch 8: 100%|██████████| 181/181 [01:23<00:00,  2.18it/s, accuracy=0.696, batch_size=5778, loss=6.3, mae=0.37]  \n",
      "100%|██████████| 52/52 [00:08<00:00,  6.48it/s, accuracy=0.655, batch_size=1656, loss=7.5, mae=0.433] \n",
      "Training, epoch 9:   0%|          | 0/181 [00:00<?, ?it/s]"
     ]
    },
    {
     "name": "stdout",
     "output_type": "stream",
     "text": [
      "{'mae': 0.43297101452874676, 'loss': 7.50348428827553, 'accuracy': 0.655193237002921}\n"
     ]
    },
    {
     "name": "stderr",
     "output_type": "stream",
     "text": [
      "Training, epoch 9: 100%|██████████| 181/181 [01:23<00:00,  2.18it/s, accuracy=0.703, batch_size=5778, loss=6.18, mae=0.366]\n",
      "100%|██████████| 52/52 [00:07<00:00,  6.52it/s, accuracy=0.659, batch_size=1656, loss=7.2, mae=0.437] \n",
      "Training, epoch 10:   0%|          | 0/181 [00:00<?, ?it/s]"
     ]
    },
    {
     "name": "stdout",
     "output_type": "stream",
     "text": [
      "{'mae': 0.43719806770483655, 'loss': 7.199644130209218, 'accuracy': 0.6588164256966632}\n"
     ]
    },
    {
     "name": "stderr",
     "output_type": "stream",
     "text": [
      "Training, epoch 10: 100%|██████████| 181/181 [01:23<00:00,  2.17it/s, accuracy=0.723, batch_size=5778, loss=5.66, mae=0.328]\n",
      "100%|██████████| 52/52 [00:08<00:00,  6.48it/s, accuracy=0.658, batch_size=1656, loss=6.67, mae=0.385]\n",
      "Training, epoch 11:   0%|          | 0/181 [00:00<?, ?it/s]"
     ]
    },
    {
     "name": "stdout",
     "output_type": "stream",
     "text": [
      "{'mae': 0.3852657004830918, 'loss': 6.669856718772851, 'accuracy': 0.6582125603864735}\n"
     ]
    },
    {
     "name": "stderr",
     "output_type": "stream",
     "text": [
      "Training, epoch 11: 100%|██████████| 181/181 [01:22<00:00,  2.19it/s, accuracy=0.739, batch_size=5778, loss=5.41, mae=0.304]\n",
      "100%|██████████| 52/52 [00:08<00:00,  6.49it/s, accuracy=0.677, batch_size=1656, loss=6.9, mae=0.397] \n",
      "Training, epoch 12:   0%|          | 0/181 [00:00<?, ?it/s]"
     ]
    },
    {
     "name": "stdout",
     "output_type": "stream",
     "text": [
      "{'mae': 0.3973429951690821, 'loss': 6.900028649159676, 'accuracy': 0.6769323671497585}\n"
     ]
    },
    {
     "name": "stderr",
     "output_type": "stream",
     "text": [
      "Training, epoch 12: 100%|██████████| 181/181 [01:23<00:00,  2.18it/s, accuracy=0.751, batch_size=5778, loss=5.19, mae=0.287]\n",
      "100%|██████████| 52/52 [00:07<00:00,  6.54it/s, accuracy=0.659, batch_size=1656, loss=7.03, mae=0.397]\n",
      "Training, epoch 13:   0%|          | 0/181 [00:00<?, ?it/s]"
     ]
    },
    {
     "name": "stdout",
     "output_type": "stream",
     "text": [
      "{'mae': 0.39673913047077575, 'loss': 7.028118972041181, 'accuracy': 0.6594202901430176}\n"
     ]
    },
    {
     "name": "stderr",
     "output_type": "stream",
     "text": [
      "Training, epoch 13: 100%|██████████| 181/181 [01:23<00:00,  2.18it/s, accuracy=0.76, batch_size=5778, loss=4.99, mae=0.272] \n",
      "100%|██████████| 52/52 [00:08<00:00,  6.44it/s, accuracy=0.673, batch_size=1656, loss=7.06, mae=0.385]\n",
      "Training, epoch 14:   0%|          | 0/181 [00:00<?, ?it/s]"
     ]
    },
    {
     "name": "stdout",
     "output_type": "stream",
     "text": [
      "{'mae': 0.38466183589276487, 'loss': 7.061847313590672, 'accuracy': 0.6727053142976069}\n"
     ]
    },
    {
     "name": "stderr",
     "output_type": "stream",
     "text": [
      "Training, epoch 14: 100%|██████████| 181/181 [01:23<00:00,  2.17it/s, accuracy=0.779, batch_size=5778, loss=4.75, mae=0.253]\n",
      "100%|██████████| 52/52 [00:08<00:00,  6.42it/s, accuracy=0.656, batch_size=1656, loss=7.25, mae=0.406]\n",
      "Training, epoch 15:   0%|          | 0/181 [00:00<?, ?it/s]"
     ]
    },
    {
     "name": "stdout",
     "output_type": "stream",
     "text": [
      "{'mae': 0.40640096625556116, 'loss': 7.253433011004314, 'accuracy': 0.6564009667594651}\n"
     ]
    },
    {
     "name": "stderr",
     "output_type": "stream",
     "text": [
      "Training, epoch 15: 100%|██████████| 181/181 [01:23<00:00,  2.17it/s, accuracy=0.805, batch_size=5778, loss=4.21, mae=0.219]\n",
      "100%|██████████| 52/52 [00:07<00:00,  6.50it/s, accuracy=0.655, batch_size=1656, loss=7.82, mae=0.423]\n",
      "Training, epoch 16:   0%|          | 0/181 [00:00<?, ?it/s]"
     ]
    },
    {
     "name": "stdout",
     "output_type": "stream",
     "text": [
      "{'mae': 0.4233091787799545, 'loss': 7.817195645852942, 'accuracy': 0.655193237002921}\n"
     ]
    },
    {
     "name": "stderr",
     "output_type": "stream",
     "text": [
      "Training, epoch 16: 100%|██████████| 181/181 [01:23<00:00,  2.18it/s, accuracy=0.803, batch_size=5778, loss=4.12, mae=0.219]\n",
      "100%|██████████| 52/52 [00:08<00:00,  6.45it/s, accuracy=0.669, batch_size=1656, loss=7.69, mae=0.387]\n",
      "Training, epoch 17:   0%|          | 0/181 [00:00<?, ?it/s]"
     ]
    },
    {
     "name": "stdout",
     "output_type": "stream",
     "text": [
      "{'mae': 0.38707729468599034, 'loss': 7.694331685126116, 'accuracy': 0.6690821256038647}\n"
     ]
    },
    {
     "name": "stderr",
     "output_type": "stream",
     "text": [
      "Training, epoch 17: 100%|██████████| 181/181 [01:23<00:00,  2.17it/s, accuracy=0.817, batch_size=5778, loss=3.88, mae=0.203]\n",
      "100%|██████████| 52/52 [00:07<00:00,  6.51it/s, accuracy=0.618, batch_size=1656, loss=8.02, mae=0.426]\n",
      "Training, epoch 18:   0%|          | 0/181 [00:00<?, ?it/s]"
     ]
    },
    {
     "name": "stdout",
     "output_type": "stream",
     "text": [
      "{'mae': 0.42572463775314573, 'loss': 8.018421150060092, 'accuracy': 0.6183574884985956}\n"
     ]
    },
    {
     "name": "stderr",
     "output_type": "stream",
     "text": [
      "Training, epoch 18: 100%|██████████| 181/181 [01:23<00:00,  2.17it/s, accuracy=0.832, batch_size=5778, loss=3.57, mae=0.183]\n",
      "100%|██████████| 52/52 [00:08<00:00,  6.43it/s, accuracy=0.661, batch_size=1656, loss=7.78, mae=0.387]\n",
      "Training, epoch 19:   0%|          | 0/181 [00:00<?, ?it/s]"
     ]
    },
    {
     "name": "stdout",
     "output_type": "stream",
     "text": [
      "{'mae': 0.38707729468599034, 'loss': 7.780928155650264, 'accuracy': 0.6606280193236715}\n"
     ]
    },
    {
     "name": "stderr",
     "output_type": "stream",
     "text": [
      "Training, epoch 19: 100%|██████████| 181/181 [01:23<00:00,  2.17it/s, accuracy=0.847, batch_size=5778, loss=3.38, mae=0.166]\n",
      "100%|██████████| 52/52 [00:08<00:00,  6.44it/s, accuracy=0.639, batch_size=1656, loss=8.88, mae=0.433]\n"
     ]
    },
    {
     "name": "stdout",
     "output_type": "stream",
     "text": [
      "{'mae': 0.4329710145647399, 'loss': 8.878607632457346, 'accuracy': 0.6394927541990787}\n"
     ]
    },
    {
     "name": "stderr",
     "output_type": "stream",
     "text": [
      "Training, epoch 0: 100%|██████████| 181/181 [01:23<00:00,  2.18it/s, accuracy=0.416, batch_size=5778, loss=15.7, mae=0.999]\n",
      "100%|██████████| 52/52 [00:08<00:00,  6.48it/s, accuracy=0.434, batch_size=1656, loss=16.6, mae=1.01]  \n",
      "Training, epoch 1:   0%|          | 0/181 [00:00<?, ?it/s]"
     ]
    },
    {
     "name": "stdout",
     "output_type": "stream",
     "text": [
      "{'mae': 1.0084541062801933, 'loss': 16.633485881602706, 'accuracy': 0.43417874396135264}\n"
     ]
    },
    {
     "name": "stderr",
     "output_type": "stream",
     "text": [
      "Training, epoch 1: 100%|██████████| 181/181 [01:23<00:00,  2.18it/s, accuracy=0.503, batch_size=5778, loss=13.5, mae=0.739]\n",
      "100%|██████████| 52/52 [00:08<00:00,  6.48it/s, accuracy=0.563, batch_size=1656, loss=12.1, mae=0.634]\n",
      "Training, epoch 2:   0%|          | 0/181 [00:00<?, ?it/s]"
     ]
    },
    {
     "name": "stdout",
     "output_type": "stream",
     "text": [
      "{'mae': 0.634057971590383, 'loss': 12.070931881522212, 'accuracy': 0.5628019326550949}\n"
     ]
    },
    {
     "name": "stderr",
     "output_type": "stream",
     "text": [
      "Training, epoch 2: 100%|██████████| 181/181 [01:23<00:00,  2.18it/s, accuracy=0.574, batch_size=5778, loss=11.8, mae=0.603]\n",
      "100%|██████████| 52/52 [00:08<00:00,  6.48it/s, accuracy=0.538, batch_size=1656, loss=12.7, mae=0.677]\n",
      "Training, epoch 3:   0%|          | 0/181 [00:00<?, ?it/s]"
     ]
    },
    {
     "name": "stdout",
     "output_type": "stream",
     "text": [
      "{'mae': 0.6769323677256487, 'loss': 12.673255869731811, 'accuracy': 0.5380434785488147}\n"
     ]
    },
    {
     "name": "stderr",
     "output_type": "stream",
     "text": [
      "Training, epoch 3: 100%|██████████| 181/181 [01:23<00:00,  2.17it/s, accuracy=0.606, batch_size=5778, loss=10.9, mae=0.532]\n",
      "100%|██████████| 52/52 [00:08<00:00,  6.46it/s, accuracy=0.562, batch_size=1656, loss=12.1, mae=0.648]\n",
      "Training, epoch 4:   0%|          | 0/181 [00:00<?, ?it/s]"
     ]
    },
    {
     "name": "stdout",
     "output_type": "stream",
     "text": [
      "{'mae': 0.647946860479272, 'loss': 12.141973025556924, 'accuracy': 0.5621980676328503}\n"
     ]
    },
    {
     "name": "stderr",
     "output_type": "stream",
     "text": [
      "Training, epoch 4: 100%|██████████| 181/181 [01:23<00:00,  2.17it/s, accuracy=0.646, batch_size=5778, loss=9.91, mae=0.468]\n",
      "100%|██████████| 52/52 [00:08<00:00,  6.47it/s, accuracy=0.659, batch_size=1656, loss=9.49, mae=0.424]\n",
      "Training, epoch 5:   0%|          | 0/181 [00:00<?, ?it/s]"
     ]
    },
    {
     "name": "stdout",
     "output_type": "stream",
     "text": [
      "{'mae': 0.4239130436222334, 'loss': 9.48842324150933, 'accuracy': 0.6588164254087181}\n"
     ]
    },
    {
     "name": "stderr",
     "output_type": "stream",
     "text": [
      "Training, epoch 5: 100%|██████████| 181/181 [01:23<00:00,  2.17it/s, accuracy=0.677, batch_size=5778, loss=9.2, mae=0.411] \n",
      "100%|██████████| 52/52 [00:08<00:00,  6.49it/s, accuracy=0.67, batch_size=1656, loss=9.27, mae=0.419] \n",
      "Training, epoch 6:   0%|          | 0/181 [00:00<?, ?it/s]"
     ]
    },
    {
     "name": "stdout",
     "output_type": "stream",
     "text": [
      "{'mae': 0.4190821256038647, 'loss': 9.273443166760432, 'accuracy': 0.6696859903381642}\n"
     ]
    },
    {
     "name": "stderr",
     "output_type": "stream",
     "text": [
      "Training, epoch 6: 100%|██████████| 181/181 [01:23<00:00,  2.18it/s, accuracy=0.692, batch_size=5778, loss=8.79, mae=0.386]\n",
      "100%|██████████| 52/52 [00:07<00:00,  6.51it/s, accuracy=0.65, batch_size=1656, loss=9.67, mae=0.429] \n",
      "Training, epoch 7:   0%|          | 0/181 [00:00<?, ?it/s]"
     ]
    },
    {
     "name": "stdout",
     "output_type": "stream",
     "text": [
      "{'mae': 0.42934782608695654, 'loss': 9.668883831604667, 'accuracy': 0.6503623188405797}\n"
     ]
    },
    {
     "name": "stderr",
     "output_type": "stream",
     "text": [
      "Training, epoch 7: 100%|██████████| 181/181 [01:23<00:00,  2.18it/s, accuracy=0.71, batch_size=5778, loss=8.11, mae=0.351] \n",
      "100%|██████████| 52/52 [00:07<00:00,  6.53it/s, accuracy=0.606, batch_size=1656, loss=11.5, mae=0.525]\n",
      "Training, epoch 8:   0%|          | 0/181 [00:00<?, ?it/s]"
     ]
    },
    {
     "name": "stdout",
     "output_type": "stream",
     "text": [
      "{'mae': 0.5247584541782665, 'loss': 11.475420263078478, 'accuracy': 0.6056763290783057}\n"
     ]
    },
    {
     "name": "stderr",
     "output_type": "stream",
     "text": [
      "Training, epoch 8: 100%|██████████| 181/181 [01:23<00:00,  2.18it/s, accuracy=0.733, batch_size=5778, loss=7.53, mae=0.317]\n",
      "100%|██████████| 52/52 [00:08<00:00,  6.50it/s, accuracy=0.676, batch_size=1656, loss=9.52, mae=0.414]\n",
      "Training, epoch 9:   0%|          | 0/181 [00:00<?, ?it/s]"
     ]
    },
    {
     "name": "stdout",
     "output_type": "stream",
     "text": [
      "{'mae': 0.41364734313914164, 'loss': 9.51771332791462, 'accuracy': 0.676328502703404}\n"
     ]
    },
    {
     "name": "stderr",
     "output_type": "stream",
     "text": [
      "Training, epoch 9: 100%|██████████| 181/181 [01:22<00:00,  2.18it/s, accuracy=0.741, batch_size=5778, loss=7.37, mae=0.309]\n",
      "100%|██████████| 52/52 [00:08<00:00,  6.49it/s, accuracy=0.673, batch_size=1656, loss=9.41, mae=0.411]\n",
      "Training, epoch 10:   0%|          | 0/181 [00:00<?, ?it/s]"
     ]
    },
    {
     "name": "stdout",
     "output_type": "stream",
     "text": [
      "{'mae': 0.4106280193236715, 'loss': 9.405317223590353, 'accuracy': 0.6733091787439613}\n"
     ]
    },
    {
     "name": "stderr",
     "output_type": "stream",
     "text": [
      "Training, epoch 10: 100%|██████████| 181/181 [01:23<00:00,  2.18it/s, accuracy=0.768, batch_size=5778, loss=6.55, mae=0.268]\n",
      "100%|██████████| 52/52 [00:07<00:00,  6.52it/s, accuracy=0.691, batch_size=1656, loss=10, mae=0.394]  \n",
      "Training, epoch 11:   0%|          | 0/181 [00:00<?, ?it/s]"
     ]
    },
    {
     "name": "stdout",
     "output_type": "stream",
     "text": [
      "{'mae': 0.39371980679927815, 'loss': 10.025077405183211, 'accuracy': 0.691425121060892}\n"
     ]
    },
    {
     "name": "stderr",
     "output_type": "stream",
     "text": [
      "Training, epoch 11: 100%|██████████| 181/181 [01:23<00:00,  2.17it/s, accuracy=0.786, batch_size=5778, loss=6.21, mae=0.245]\n",
      "100%|██████████| 52/52 [00:08<00:00,  6.49it/s, accuracy=0.635, batch_size=1656, loss=11.3, mae=0.441]\n",
      "Training, epoch 12:   0%|          | 0/181 [00:00<?, ?it/s]"
     ]
    },
    {
     "name": "stdout",
     "output_type": "stream",
     "text": [
      "{'mae': 0.4408212560566439, 'loss': 11.274750424468, 'accuracy': 0.6346618363246825}\n"
     ]
    },
    {
     "name": "stderr",
     "output_type": "stream",
     "text": [
      "Training, epoch 12: 100%|██████████| 181/181 [01:23<00:00,  2.18it/s, accuracy=0.8, batch_size=5778, loss=5.83, mae=0.227]  \n",
      "100%|██████████| 52/52 [00:08<00:00,  6.47it/s, accuracy=0.676, batch_size=1656, loss=10.3, mae=0.402]\n",
      "Training, epoch 13:   0%|          | 0/181 [00:00<?, ?it/s]"
     ]
    },
    {
     "name": "stdout",
     "output_type": "stream",
     "text": [
      "{'mae': 0.4015700483271753, 'loss': 10.281610609828562, 'accuracy': 0.6763285029913493}\n"
     ]
    },
    {
     "name": "stderr",
     "output_type": "stream",
     "text": [
      "Training, epoch 13: 100%|██████████| 181/181 [01:23<00:00,  2.17it/s, accuracy=0.819, batch_size=5778, loss=5.39, mae=0.204]\n",
      "100%|██████████| 52/52 [00:08<00:00,  6.42it/s, accuracy=0.664, batch_size=1656, loss=10.8, mae=0.422]\n",
      "Training, epoch 14:   0%|          | 0/181 [00:00<?, ?it/s]"
     ]
    },
    {
     "name": "stdout",
     "output_type": "stream",
     "text": [
      "{'mae': 0.4221014492753623, 'loss': 10.756087466714463, 'accuracy': 0.663647342995169}\n"
     ]
    },
    {
     "name": "stderr",
     "output_type": "stream",
     "text": [
      "Training, epoch 14: 100%|██████████| 181/181 [01:23<00:00,  2.17it/s, accuracy=0.826, batch_size=5778, loss=5.04, mae=0.195]\n",
      "100%|██████████| 52/52 [00:08<00:00,  6.43it/s, accuracy=0.616, batch_size=1656, loss=13.2, mae=0.51] \n",
      "Training, epoch 15:   0%|          | 0/181 [00:00<?, ?it/s]"
     ]
    },
    {
     "name": "stdout",
     "output_type": "stream",
     "text": [
      "{'mae': 0.5096618357847854, 'loss': 13.215127569465821, 'accuracy': 0.6159420292734524}\n"
     ]
    },
    {
     "name": "stderr",
     "output_type": "stream",
     "text": [
      "Training, epoch 15: 100%|██████████| 181/181 [01:23<00:00,  2.17it/s, accuracy=0.858, batch_size=5778, loss=4.39, mae=0.157]\n",
      "100%|██████████| 52/52 [00:08<00:00,  6.48it/s, accuracy=0.67, batch_size=1656, loss=12.3, mae=0.418] \n",
      "Training, epoch 16:   0%|          | 0/181 [00:00<?, ?it/s]"
     ]
    },
    {
     "name": "stdout",
     "output_type": "stream",
     "text": [
      "{'mae': 0.4178743961352657, 'loss': 12.277774453739037, 'accuracy': 0.6702898550724637}\n"
     ]
    },
    {
     "name": "stderr",
     "output_type": "stream",
     "text": [
      "Training, epoch 16: 100%|██████████| 181/181 [01:23<00:00,  2.17it/s, accuracy=0.866, batch_size=5778, loss=4.04, mae=0.149]\n",
      "100%|██████████| 52/52 [00:08<00:00,  6.48it/s, accuracy=0.658, batch_size=1656, loss=11.5, mae=0.4]  \n",
      "Training, epoch 17:   0%|          | 0/181 [00:00<?, ?it/s]"
     ]
    },
    {
     "name": "stdout",
     "output_type": "stream",
     "text": [
      "{'mae': 0.39975845412427674, 'loss': 11.479652628230587, 'accuracy': 0.6576086962280642}\n"
     ]
    },
    {
     "name": "stderr",
     "output_type": "stream",
     "text": [
      "Training, epoch 17: 100%|██████████| 181/181 [01:22<00:00,  2.18it/s, accuracy=0.887, batch_size=5778, loss=3.6, mae=0.124] \n",
      "100%|██████████| 52/52 [00:07<00:00,  6.52it/s, accuracy=0.687, batch_size=1656, loss=11.6, mae=0.389]\n",
      "Training, epoch 18:   0%|          | 0/181 [00:00<?, ?it/s]"
     ]
    },
    {
     "name": "stdout",
     "output_type": "stream",
     "text": [
      "{'mae': 0.38949275369517466, 'loss': 11.585496939322798, 'accuracy': 0.686594203474441}\n"
     ]
    },
    {
     "name": "stderr",
     "output_type": "stream",
     "text": [
      "Training, epoch 18: 100%|██████████| 181/181 [01:23<00:00,  2.18it/s, accuracy=0.897, batch_size=5778, loss=3.23, mae=0.113]\n",
      "100%|██████████| 52/52 [00:07<00:00,  6.51it/s, accuracy=0.668, batch_size=1656, loss=12.1, mae=0.397]\n",
      "Training, epoch 19:   0%|          | 0/181 [00:00<?, ?it/s]"
     ]
    },
    {
     "name": "stdout",
     "output_type": "stream",
     "text": [
      "{'mae': 0.3973429951870787, 'loss': 12.092948477049381, 'accuracy': 0.667874396711156}\n"
     ]
    },
    {
     "name": "stderr",
     "output_type": "stream",
     "text": [
      "Training, epoch 19: 100%|██████████| 181/181 [01:23<00:00,  2.18it/s, accuracy=0.918, batch_size=5778, loss=2.73, mae=0.0883]\n",
      "100%|██████████| 52/52 [00:08<00:00,  6.45it/s, accuracy=0.67, batch_size=1656, loss=14.1, mae=0.392] \n"
     ]
    },
    {
     "name": "stdout",
     "output_type": "stream",
     "text": [
      "{'mae': 0.39190821270435905, 'loss': 14.123009626416193, 'accuracy': 0.6702898553604089}\n"
     ]
    },
    {
     "name": "stderr",
     "output_type": "stream",
     "text": [
      "Training, epoch 0: 100%|██████████| 181/181 [01:23<00:00,  2.18it/s, accuracy=0.421, batch_size=5778, loss=17, mae=0.951]  \n",
      "100%|██████████| 52/52 [00:08<00:00,  6.47it/s, accuracy=0.467, batch_size=1656, loss=15.8, mae=0.873]\n",
      "Training, epoch 1:   0%|          | 0/181 [00:00<?, ?it/s]"
     ]
    },
    {
     "name": "stdout",
     "output_type": "stream",
     "text": [
      "{'mae': 0.8725845416386923, 'loss': 15.77784804560712, 'accuracy': 0.4673913043478261}\n"
     ]
    },
    {
     "name": "stderr",
     "output_type": "stream",
     "text": [
      "Training, epoch 1: 100%|██████████| 181/181 [01:23<00:00,  2.17it/s, accuracy=0.505, batch_size=5778, loss=14.9, mae=0.743]\n",
      "100%|██████████| 52/52 [00:08<00:00,  6.44it/s, accuracy=0.551, batch_size=1656, loss=13.1, mae=0.655]\n",
      "Training, epoch 2:   0%|          | 0/181 [00:00<?, ?it/s]"
     ]
    },
    {
     "name": "stdout",
     "output_type": "stream",
     "text": [
      "{'mae': 0.6545893719806763, 'loss': 13.113194838814113, 'accuracy': 0.5507246376811594}\n"
     ]
    },
    {
     "name": "stderr",
     "output_type": "stream",
     "text": [
      "Training, epoch 2: 100%|██████████| 181/181 [01:23<00:00,  2.16it/s, accuracy=0.567, batch_size=5778, loss=13, mae=0.609]  \n",
      "100%|██████████| 52/52 [00:08<00:00,  6.43it/s, accuracy=0.624, batch_size=1656, loss=11.7, mae=0.514]\n",
      "Training, epoch 3:   0%|          | 0/181 [00:00<?, ?it/s]"
     ]
    },
    {
     "name": "stdout",
     "output_type": "stream",
     "text": [
      "{'mae': 0.5138888890328615, 'loss': 11.674083143040754, 'accuracy': 0.6243961355536456}\n"
     ]
    },
    {
     "name": "stderr",
     "output_type": "stream",
     "text": [
      "Training, epoch 3: 100%|██████████| 181/181 [01:23<00:00,  2.16it/s, accuracy=0.598, batch_size=5778, loss=12, mae=0.553]  \n",
      "100%|██████████| 52/52 [00:08<00:00,  6.38it/s, accuracy=0.621, batch_size=1656, loss=11.9, mae=0.517]\n",
      "Training, epoch 4:   0%|          | 0/181 [00:00<?, ?it/s]"
     ]
    },
    {
     "name": "stdout",
     "output_type": "stream",
     "text": [
      "{'mae': 0.5169082125603864, 'loss': 11.940890040374608, 'accuracy': 0.6207729468599034}\n"
     ]
    },
    {
     "name": "stderr",
     "output_type": "stream",
     "text": [
      "Training, epoch 4: 100%|██████████| 181/181 [01:22<00:00,  2.18it/s, accuracy=0.638, batch_size=5778, loss=11, mae=0.48]   \n",
      "100%|██████████| 52/52 [00:08<00:00,  6.50it/s, accuracy=0.652, batch_size=1656, loss=10.8, mae=0.432]\n",
      "Training, epoch 5:   0%|          | 0/181 [00:00<?, ?it/s]"
     ]
    },
    {
     "name": "stdout",
     "output_type": "stream",
     "text": [
      "{'mae': 0.4323671499024267, 'loss': 10.786774126227927, 'accuracy': 0.6515700485971239}\n"
     ]
    },
    {
     "name": "stderr",
     "output_type": "stream",
     "text": [
      "Training, epoch 5: 100%|██████████| 181/181 [01:23<00:00,  2.17it/s, accuracy=0.667, batch_size=5778, loss=10.1, mae=0.427]\n",
      "100%|██████████| 52/52 [00:08<00:00,  6.48it/s, accuracy=0.633, batch_size=1656, loss=10.9, mae=0.454]\n",
      "Training, epoch 6:   0%|          | 0/181 [00:00<?, ?it/s]"
     ]
    },
    {
     "name": "stdout",
     "output_type": "stream",
     "text": [
      "{'mae': 0.4535024154589372, 'loss': 10.919052815091783, 'accuracy': 0.6328502415458938}\n"
     ]
    },
    {
     "name": "stderr",
     "output_type": "stream",
     "text": [
      "Training, epoch 6: 100%|██████████| 181/181 [01:19<00:00,  2.27it/s, accuracy=0.679, batch_size=5778, loss=9.63, mae=0.4]  \n",
      "100%|██████████| 52/52 [00:07<00:00,  6.80it/s, accuracy=0.664, batch_size=1656, loss=9.99, mae=0.426]\n",
      "Training, epoch 7:   0%|          | 0/181 [00:00<?, ?it/s]"
     ]
    },
    {
     "name": "stdout",
     "output_type": "stream",
     "text": [
      "{'mae': 0.42632850241545894, 'loss': 9.990884725598322, 'accuracy': 0.663647342995169}\n"
     ]
    },
    {
     "name": "stderr",
     "output_type": "stream",
     "text": [
      "Training, epoch 7: 100%|██████████| 181/181 [01:18<00:00,  2.30it/s, accuracy=0.709, batch_size=5778, loss=8.92, mae=0.354]\n",
      "100%|██████████| 52/52 [00:07<00:00,  6.87it/s, accuracy=0.673, batch_size=1656, loss=10.2, mae=0.407]\n",
      "Training, epoch 8:   0%|          | 0/181 [00:00<?, ?it/s]"
     ]
    },
    {
     "name": "stdout",
     "output_type": "stream",
     "text": [
      "{'mae': 0.40700483091787437, 'loss': 10.204521004128571, 'accuracy': 0.6727053140096618}\n"
     ]
    },
    {
     "name": "stderr",
     "output_type": "stream",
     "text": [
      "Training, epoch 8: 100%|██████████| 181/181 [01:18<00:00,  2.31it/s, accuracy=0.716, batch_size=5778, loss=8.61, mae=0.342]\n",
      "100%|██████████| 52/52 [00:07<00:00,  6.86it/s, accuracy=0.62, batch_size=1656, loss=11.7, mae=0.489] \n",
      "Training, epoch 9:   0%|          | 0/181 [00:00<?, ?it/s]"
     ]
    },
    {
     "name": "stdout",
     "output_type": "stream",
     "text": [
      "{'mae': 0.4885265700483092, 'loss': 11.65888668373587, 'accuracy': 0.6201690821256038}\n"
     ]
    },
    {
     "name": "stderr",
     "output_type": "stream",
     "text": [
      "Training, epoch 9: 100%|██████████| 181/181 [01:18<00:00,  2.31it/s, accuracy=0.737, batch_size=5778, loss=7.91, mae=0.308]\n",
      "100%|██████████| 52/52 [00:07<00:00,  6.85it/s, accuracy=0.658, batch_size=1656, loss=10.7, mae=0.441]\n",
      "Training, epoch 10:   0%|          | 0/181 [00:00<?, ?it/s]"
     ]
    },
    {
     "name": "stdout",
     "output_type": "stream",
     "text": [
      "{'mae': 0.4408212561106336, 'loss': 10.690212134577802, 'accuracy': 0.6582125609623637}\n"
     ]
    },
    {
     "name": "stderr",
     "output_type": "stream",
     "text": [
      "Training, epoch 10: 100%|██████████| 181/181 [01:18<00:00,  2.30it/s, accuracy=0.756, batch_size=5778, loss=7.47, mae=0.283]\n",
      "100%|██████████| 52/52 [00:07<00:00,  6.76it/s, accuracy=0.665, batch_size=1656, loss=10.3, mae=0.405]\n",
      "Training, epoch 11:   0%|          | 0/181 [00:00<?, ?it/s]"
     ]
    },
    {
     "name": "stdout",
     "output_type": "stream",
     "text": [
      "{'mae': 0.40519323671497587, 'loss': 10.33229676767248, 'accuracy': 0.6654589371980676}\n"
     ]
    },
    {
     "name": "stderr",
     "output_type": "stream",
     "text": [
      "Training, epoch 11: 100%|██████████| 181/181 [01:19<00:00,  2.27it/s, accuracy=0.783, batch_size=5778, loss=6.74, mae=0.25] \n",
      "100%|██████████| 52/52 [00:07<00:00,  6.68it/s, accuracy=0.651, batch_size=1656, loss=10.3, mae=0.404]\n",
      "Training, epoch 12:   0%|          | 0/181 [00:00<?, ?it/s]"
     ]
    },
    {
     "name": "stdout",
     "output_type": "stream",
     "text": [
      "{'mae': 0.40398550728237, 'loss': 10.34726043139103, 'accuracy': 0.6509661838628243}\n"
     ]
    },
    {
     "name": "stderr",
     "output_type": "stream",
     "text": [
      "Training, epoch 12: 100%|██████████| 181/181 [01:21<00:00,  2.21it/s, accuracy=0.794, batch_size=5778, loss=6.48, mae=0.232]\n",
      "100%|██████████| 52/52 [00:07<00:00,  6.58it/s, accuracy=0.679, batch_size=1656, loss=11.3, mae=0.381]\n",
      "Training, epoch 13:   0%|          | 0/181 [00:00<?, ?it/s]"
     ]
    },
    {
     "name": "stdout",
     "output_type": "stream",
     "text": [
      "{'mae': 0.38103864741498145, 'loss': 11.304171698104932, 'accuracy': 0.6793478266628468}\n"
     ]
    },
    {
     "name": "stderr",
     "output_type": "stream",
     "text": [
      "Training, epoch 13: 100%|██████████| 181/181 [01:22<00:00,  2.19it/s, accuracy=0.807, batch_size=5778, loss=6.01, mae=0.216]\n",
      "100%|██████████| 52/52 [00:07<00:00,  6.54it/s, accuracy=0.667, batch_size=1656, loss=11.8, mae=0.396]\n",
      "Training, epoch 14:   0%|          | 0/181 [00:00<?, ?it/s]"
     ]
    },
    {
     "name": "stdout",
     "output_type": "stream",
     "text": [
      "{'mae': 0.3961352657004831, 'loss': 11.79547739719999, 'accuracy': 0.6666666666666666}\n"
     ]
    },
    {
     "name": "stderr",
     "output_type": "stream",
     "text": [
      "Training, epoch 14: 100%|██████████| 181/181 [01:19<00:00,  2.29it/s, accuracy=0.818, batch_size=5778, loss=5.72, mae=0.201]\n",
      "100%|██████████| 52/52 [00:07<00:00,  6.84it/s, accuracy=0.641, batch_size=1656, loss=11.2, mae=0.423]\n",
      "Training, epoch 15:   0%|          | 0/181 [00:00<?, ?it/s]"
     ]
    },
    {
     "name": "stdout",
     "output_type": "stream",
     "text": [
      "{'mae': 0.4233091790319065, 'loss': 11.206931298481669, 'accuracy': 0.6407004836676777}\n"
     ]
    },
    {
     "name": "stderr",
     "output_type": "stream",
     "text": [
      "Training, epoch 15: 100%|██████████| 181/181 [01:18<00:00,  2.30it/s, accuracy=0.853, batch_size=5778, loss=4.83, mae=0.16] \n",
      "100%|██████████| 52/52 [00:07<00:00,  6.86it/s, accuracy=0.635, batch_size=1656, loss=15, mae=0.476]  \n",
      "Training, epoch 16:   0%|          | 0/181 [00:00<?, ?it/s]"
     ]
    },
    {
     "name": "stdout",
     "output_type": "stream",
     "text": [
      "{'mae': 0.4758454106640125, 'loss': 14.978538280523917, 'accuracy': 0.6346618360367374}\n"
     ]
    },
    {
     "name": "stderr",
     "output_type": "stream",
     "text": [
      "Training, epoch 16: 100%|██████████| 181/181 [01:19<00:00,  2.29it/s, accuracy=0.857, batch_size=5778, loss=4.66, mae=0.158]\n",
      "100%|██████████| 52/52 [00:07<00:00,  6.69it/s, accuracy=0.671, batch_size=1656, loss=12.3, mae=0.403]\n",
      "Training, epoch 17:   0%|          | 0/181 [00:00<?, ?it/s]"
     ]
    },
    {
     "name": "stdout",
     "output_type": "stream",
     "text": [
      "{'mae': 0.40338164254807046, 'loss': 12.326836245071485, 'accuracy': 0.6708937200947084}\n"
     ]
    },
    {
     "name": "stderr",
     "output_type": "stream",
     "text": [
      "Training, epoch 17: 100%|██████████| 181/181 [01:20<00:00,  2.24it/s, accuracy=0.882, batch_size=5778, loss=3.99, mae=0.129]\n",
      "100%|██████████| 52/52 [00:07<00:00,  6.57it/s, accuracy=0.656, batch_size=1656, loss=13.3, mae=0.402]\n",
      "Training, epoch 18:   0%|          | 0/181 [00:00<?, ?it/s]"
     ]
    },
    {
     "name": "stdout",
     "output_type": "stream",
     "text": [
      "{'mae': 0.4015700483451719, 'loss': 13.253107692884361, 'accuracy': 0.6557971017372205}\n"
     ]
    },
    {
     "name": "stderr",
     "output_type": "stream",
     "text": [
      "Training, epoch 18: 100%|██████████| 181/181 [01:22<00:00,  2.20it/s, accuracy=0.893, batch_size=5778, loss=3.66, mae=0.114]\n",
      "100%|██████████| 52/52 [00:07<00:00,  6.51it/s, accuracy=0.632, batch_size=1656, loss=14.9, mae=0.438]\n",
      "Training, epoch 19:   0%|          | 0/181 [00:00<?, ?it/s]"
     ]
    },
    {
     "name": "stdout",
     "output_type": "stream",
     "text": [
      "{'mae': 0.4384057971734356, 'loss': 14.915635479821098, 'accuracy': 0.6316425126531849}\n"
     ]
    },
    {
     "name": "stderr",
     "output_type": "stream",
     "text": [
      "Training, epoch 19: 100%|██████████| 181/181 [01:23<00:00,  2.17it/s, accuracy=0.912, batch_size=5778, loss=3.15, mae=0.0961]\n",
      "100%|██████████| 52/52 [00:08<00:00,  6.43it/s, accuracy=0.665, batch_size=1656, loss=15.5, mae=0.4]  \n"
     ]
    },
    {
     "name": "stdout",
     "output_type": "stream",
     "text": [
      "{'mae': 0.3997584541062802, 'loss': 15.45542552045002, 'accuracy': 0.6654589371980676}\n"
     ]
    },
    {
     "name": "stderr",
     "output_type": "stream",
     "text": [
      "Training, epoch 0: 100%|██████████| 181/181 [01:20<00:00,  2.26it/s, accuracy=0.412, batch_size=5778, loss=18.3, mae=0.978]\n",
      "100%|██████████| 52/52 [00:07<00:00,  6.81it/s, accuracy=0.479, batch_size=1656, loss=16.7, mae=0.829]\n",
      "Training, epoch 1:   0%|          | 0/181 [00:00<?, ?it/s]"
     ]
    },
    {
     "name": "stdout",
     "output_type": "stream",
     "text": [
      "{'mae': 0.8285024166107178, 'loss': 16.65171731958067, 'accuracy': 0.47946859903381644}\n"
     ]
    },
    {
     "name": "stderr",
     "output_type": "stream",
     "text": [
      "Training, epoch 1: 100%|██████████| 181/181 [01:18<00:00,  2.31it/s, accuracy=0.501, batch_size=5778, loss=15.9, mae=0.727]\n",
      "100%|██████████| 52/52 [00:07<00:00,  6.80it/s, accuracy=0.572, batch_size=1656, loss=14.1, mae=0.597]\n",
      "Training, epoch 2:   0%|          | 0/181 [00:00<?, ?it/s]"
     ]
    },
    {
     "name": "stdout",
     "output_type": "stream",
     "text": [
      "{'mae': 0.5966183586397033, 'loss': 14.112535172614498, 'accuracy': 0.572463768115942}\n"
     ]
    },
    {
     "name": "stderr",
     "output_type": "stream",
     "text": [
      "Training, epoch 2: 100%|██████████| 181/181 [01:18<00:00,  2.31it/s, accuracy=0.564, batch_size=5778, loss=14.2, mae=0.616]\n",
      "100%|██████████| 52/52 [00:07<00:00,  6.77it/s, accuracy=0.575, batch_size=1656, loss=13.4, mae=0.573]\n",
      "Training, epoch 3:   0%|          | 0/181 [00:00<?, ?it/s]"
     ]
    },
    {
     "name": "stdout",
     "output_type": "stream",
     "text": [
      "{'mae': 0.5730676334261319, 'loss': 13.397473441229927, 'accuracy': 0.5748792271971127}\n"
     ]
    },
    {
     "name": "stderr",
     "output_type": "stream",
     "text": [
      "Training, epoch 3: 100%|██████████| 181/181 [01:18<00:00,  2.29it/s, accuracy=0.604, batch_size=5778, loss=12.8, mae=0.538]\n",
      "100%|██████████| 52/52 [00:07<00:00,  6.76it/s, accuracy=0.639, batch_size=1656, loss=11.9, mae=0.472]\n",
      "Training, epoch 4:   0%|          | 0/181 [00:00<?, ?it/s]"
     ]
    },
    {
     "name": "stdout",
     "output_type": "stream",
     "text": [
      "{'mae': 0.4722222222942085, 'loss': 11.89599273055072, 'accuracy': 0.6394927536231884}\n"
     ]
    },
    {
     "name": "stderr",
     "output_type": "stream",
     "text": [
      "Training, epoch 4: 100%|██████████| 181/181 [01:20<00:00,  2.25it/s, accuracy=0.637, batch_size=5778, loss=12, mae=0.483]  \n",
      "100%|██████████| 52/52 [00:07<00:00,  6.54it/s, accuracy=0.591, batch_size=1656, loss=13.6, mae=0.575]\n",
      "Training, epoch 5:   0%|          | 0/181 [00:00<?, ?it/s]"
     ]
    },
    {
     "name": "stdout",
     "output_type": "stream",
     "text": [
      "{'mae': 0.5748792270531401, 'loss': 13.58664844347083, 'accuracy': 0.5911835751671722}\n"
     ]
    },
    {
     "name": "stderr",
     "output_type": "stream",
     "text": [
      "Training, epoch 5: 100%|██████████| 181/181 [01:22<00:00,  2.20it/s, accuracy=0.662, batch_size=5778, loss=10.9, mae=0.431]\n",
      "100%|██████████| 52/52 [00:07<00:00,  6.50it/s, accuracy=0.662, batch_size=1656, loss=10.9, mae=0.424]\n",
      "Training, epoch 6:   0%|          | 0/181 [00:00<?, ?it/s]"
     ]
    },
    {
     "name": "stdout",
     "output_type": "stream",
     "text": [
      "{'mae': 0.42391304347826086, 'loss': 10.930270052186533, 'accuracy': 0.6624396135265701}\n"
     ]
    },
    {
     "name": "stderr",
     "output_type": "stream",
     "text": [
      "Training, epoch 6: 100%|██████████| 181/181 [01:23<00:00,  2.18it/s, accuracy=0.681, batch_size=5778, loss=10.4, mae=0.402]\n",
      "100%|██████████| 52/52 [00:08<00:00,  6.43it/s, accuracy=0.632, batch_size=1656, loss=12, mae=0.471]  \n",
      "Training, epoch 7:   0%|          | 0/181 [00:00<?, ?it/s]"
     ]
    },
    {
     "name": "stdout",
     "output_type": "stream",
     "text": [
      "{'mae': 0.47101449275362317, 'loss': 11.955809408915792, 'accuracy': 0.6316425120772947}\n"
     ]
    },
    {
     "name": "stderr",
     "output_type": "stream",
     "text": [
      "Training, epoch 7: 100%|██████████| 181/181 [01:23<00:00,  2.18it/s, accuracy=0.704, batch_size=5778, loss=9.78, mae=0.363]\n",
      "100%|██████████| 52/52 [00:07<00:00,  6.50it/s, accuracy=0.557, batch_size=1656, loss=13.5, mae=0.517]\n",
      "Training, epoch 8:   0%|          | 0/181 [00:00<?, ?it/s]"
     ]
    },
    {
     "name": "stdout",
     "output_type": "stream",
     "text": [
      "{'mae': 0.516908212704359, 'loss': 13.542500334661364, 'accuracy': 0.5567632853120997}\n"
     ]
    },
    {
     "name": "stderr",
     "output_type": "stream",
     "text": [
      "Training, epoch 8: 100%|██████████| 181/181 [01:23<00:00,  2.18it/s, accuracy=0.715, batch_size=5778, loss=9.2, mae=0.34]  \n",
      "100%|██████████| 52/52 [00:08<00:00,  6.41it/s, accuracy=0.681, batch_size=1656, loss=11.3, mae=0.394]\n",
      "Training, epoch 9:   0%|          | 0/181 [00:00<?, ?it/s]"
     ]
    },
    {
     "name": "stdout",
     "output_type": "stream",
     "text": [
      "{'mae': 0.3943236715695708, 'loss': 11.28101456683615, 'accuracy': 0.6811594208657453}\n"
     ]
    },
    {
     "name": "stderr",
     "output_type": "stream",
     "text": [
      "Training, epoch 9: 100%|██████████| 181/181 [01:23<00:00,  2.17it/s, accuracy=0.735, batch_size=5778, loss=8.81, mae=0.314]\n",
      "100%|██████████| 52/52 [00:08<00:00,  6.47it/s, accuracy=0.638, batch_size=1656, loss=14.2, mae=0.489]\n",
      "Training, epoch 10:   0%|          | 0/181 [00:00<?, ?it/s]"
     ]
    },
    {
     "name": "stdout",
     "output_type": "stream",
     "text": [
      "{'mae': 0.48913043492658126, 'loss': 14.188806538420598, 'accuracy': 0.637681159708235}\n"
     ]
    },
    {
     "name": "stderr",
     "output_type": "stream",
     "text": [
      "Training, epoch 10: 100%|██████████| 181/181 [01:23<00:00,  2.18it/s, accuracy=0.753, batch_size=5778, loss=8.01, mae=0.288]\n",
      "100%|██████████| 52/52 [00:08<00:00,  6.41it/s, accuracy=0.681, batch_size=1656, loss=11.3, mae=0.387]\n",
      "Training, epoch 11:   0%|          | 0/181 [00:00<?, ?it/s]"
     ]
    },
    {
     "name": "stdout",
     "output_type": "stream",
     "text": [
      "{'mae': 0.3870772947219835, 'loss': 11.346816362390197, 'accuracy': 0.6811594205778002}\n"
     ]
    },
    {
     "name": "stderr",
     "output_type": "stream",
     "text": [
      "Training, epoch 11: 100%|██████████| 181/181 [01:23<00:00,  2.17it/s, accuracy=0.774, batch_size=5778, loss=7.53, mae=0.262]\n",
      "100%|██████████| 52/52 [00:08<00:00,  6.48it/s, accuracy=0.674, batch_size=1656, loss=12, mae=0.397]  \n",
      "Training, epoch 12:   0%|          | 0/181 [00:00<?, ?it/s]"
     ]
    },
    {
     "name": "stdout",
     "output_type": "stream",
     "text": [
      "{'mae': 0.3973429952410684, 'loss': 12.029689199106706, 'accuracy': 0.6739130434782609}\n"
     ]
    },
    {
     "name": "stderr",
     "output_type": "stream",
     "text": [
      "Training, epoch 12: 100%|██████████| 181/181 [01:23<00:00,  2.18it/s, accuracy=0.791, batch_size=5778, loss=7.03, mae=0.24] \n",
      "100%|██████████| 52/52 [00:07<00:00,  6.50it/s, accuracy=0.598, batch_size=1656, loss=15, mae=0.523]  \n",
      "Training, epoch 13:   0%|          | 0/181 [00:00<?, ?it/s]"
     ]
    },
    {
     "name": "stdout",
     "output_type": "stream",
     "text": [
      "{'mae': 0.5229468599393747, 'loss': 14.96532784567939, 'accuracy': 0.5984299519787664}\n"
     ]
    },
    {
     "name": "stderr",
     "output_type": "stream",
     "text": [
      "Training, epoch 13: 100%|██████████| 181/181 [01:22<00:00,  2.18it/s, accuracy=0.805, batch_size=5778, loss=6.6, mae=0.222] \n",
      "100%|██████████| 52/52 [00:08<00:00,  6.48it/s, accuracy=0.679, batch_size=1656, loss=13.2, mae=0.396]\n",
      "Training, epoch 14:   0%|          | 0/181 [00:00<?, ?it/s]"
     ]
    },
    {
     "name": "stdout",
     "output_type": "stream",
     "text": [
      "{'mae': 0.3961352657004831, 'loss': 13.189139057472708, 'accuracy': 0.678743961352657}\n"
     ]
    },
    {
     "name": "stderr",
     "output_type": "stream",
     "text": [
      "Training, epoch 14: 100%|██████████| 181/181 [01:22<00:00,  2.20it/s, accuracy=0.818, batch_size=5778, loss=6.09, mae=0.201]\n",
      "100%|██████████| 52/52 [00:07<00:00,  6.82it/s, accuracy=0.668, batch_size=1656, loss=12.2, mae=0.387]\n",
      "Training, epoch 15:   0%|          | 0/181 [00:00<?, ?it/s]"
     ]
    },
    {
     "name": "stdout",
     "output_type": "stream",
     "text": [
      "{'mae': 0.3870772948299629, 'loss': 12.181533730548361, 'accuracy': 0.6684782611575104}\n"
     ]
    },
    {
     "name": "stderr",
     "output_type": "stream",
     "text": [
      "Training, epoch 15: 100%|██████████| 181/181 [01:18<00:00,  2.30it/s, accuracy=0.846, batch_size=5778, loss=5.25, mae=0.167]\n",
      "100%|██████████| 52/52 [00:07<00:00,  6.85it/s, accuracy=0.647, batch_size=1656, loss=13.4, mae=0.408]\n",
      "Training, epoch 16:   0%|          | 0/181 [00:00<?, ?it/s]"
     ]
    },
    {
     "name": "stdout",
     "output_type": "stream",
     "text": [
      "{'mae': 0.40760869568816704, 'loss': 13.440350449603537, 'accuracy': 0.6467391307227277}\n"
     ]
    },
    {
     "name": "stderr",
     "output_type": "stream",
     "text": [
      "Training, epoch 16: 100%|██████████| 181/181 [01:18<00:00,  2.30it/s, accuracy=0.858, batch_size=5778, loss=5.02, mae=0.157]\n",
      "100%|██████████| 52/52 [00:07<00:00,  6.76it/s, accuracy=0.651, batch_size=1656, loss=13.3, mae=0.402]\n",
      "Training, epoch 17:   0%|          | 0/181 [00:00<?, ?it/s]"
     ]
    },
    {
     "name": "stdout",
     "output_type": "stream",
     "text": [
      "{'mae': 0.4015700483451719, 'loss': 13.307543763791882, 'accuracy': 0.6509661838628243}\n"
     ]
    },
    {
     "name": "stderr",
     "output_type": "stream",
     "text": [
      "Training, epoch 17: 100%|██████████| 181/181 [01:19<00:00,  2.27it/s, accuracy=0.88, batch_size=5778, loss=4.19, mae=0.131] \n",
      "100%|██████████| 52/52 [00:07<00:00,  6.67it/s, accuracy=0.65, batch_size=1656, loss=13.9, mae=0.406] \n",
      "Training, epoch 18:   0%|          | 0/181 [00:00<?, ?it/s]"
     ]
    },
    {
     "name": "stdout",
     "output_type": "stream",
     "text": [
      "{'mae': 0.40640096632754746, 'loss': 13.871799086602989, 'accuracy': 0.6497584543942253}\n"
     ]
    },
    {
     "name": "stderr",
     "output_type": "stream",
     "text": [
      "Training, epoch 18: 100%|██████████| 181/181 [01:21<00:00,  2.22it/s, accuracy=0.875, batch_size=5778, loss=4.29, mae=0.136]\n",
      "100%|██████████| 52/52 [00:07<00:00,  6.56it/s, accuracy=0.676, batch_size=1656, loss=15.2, mae=0.404]\n",
      "Training, epoch 19:   0%|          | 0/181 [00:00<?, ?it/s]"
     ]
    },
    {
     "name": "stdout",
     "output_type": "stream",
     "text": [
      "{'mae': 0.40398550724637683, 'loss': 15.185893353632682, 'accuracy': 0.6757246376811594}\n"
     ]
    },
    {
     "name": "stderr",
     "output_type": "stream",
     "text": [
      "Training, epoch 19: 100%|██████████| 181/181 [01:22<00:00,  2.18it/s, accuracy=0.9, batch_size=5778, loss=3.55, mae=0.106]   \n",
      "100%|██████████| 52/52 [00:08<00:00,  6.43it/s, accuracy=0.664, batch_size=1656, loss=15.7, mae=0.394]\n"
     ]
    },
    {
     "name": "stdout",
     "output_type": "stream",
     "text": [
      "{'mae': 0.3943236714975845, 'loss': 15.700921026404929, 'accuracy': 0.6642512077294686}\n"
     ]
    },
    {
     "name": "stderr",
     "output_type": "stream",
     "text": [
      "Training, epoch 0: 100%|██████████| 362/362 [01:30<00:00,  4.00it/s, accuracy=0.336, batch_size=5778, loss=3.82, mae=1.13]\n",
      "100%|██████████| 104/104 [00:08<00:00, 12.26it/s, accuracy=0.411, batch_size=1656, loss=3.65, mae=1]    \n",
      "Training, epoch 1:   0%|          | 0/362 [00:00<?, ?it/s]"
     ]
    },
    {
     "name": "stdout",
     "output_type": "stream",
     "text": [
      "{'mae': 1.0048309178743962, 'loss': 3.653247317254255, 'accuracy': 0.4106280193236715}\n"
     ]
    },
    {
     "name": "stderr",
     "output_type": "stream",
     "text": [
      "Training, epoch 1: 100%|██████████| 362/362 [01:27<00:00,  4.15it/s, accuracy=0.377, batch_size=5778, loss=3.68, mae=1.03]\n",
      "100%|██████████| 104/104 [00:08<00:00, 12.91it/s, accuracy=0.447, batch_size=1656, loss=3.59, mae=0.966]\n",
      "Training, epoch 2:   0%|          | 0/362 [00:00<?, ?it/s]"
     ]
    },
    {
     "name": "stdout",
     "output_type": "stream",
     "text": [
      "{'mae': 0.966183574879227, 'loss': 3.5902746564524186, 'accuracy': 0.447463768115942}\n"
     ]
    },
    {
     "name": "stderr",
     "output_type": "stream",
     "text": [
      "Training, epoch 2: 100%|██████████| 362/362 [01:24<00:00,  4.27it/s, accuracy=0.392, batch_size=5778, loss=3.62, mae=0.99] \n",
      "100%|██████████| 104/104 [00:07<00:00, 13.06it/s, accuracy=0.456, batch_size=1656, loss=3.54, mae=0.957]\n",
      "Training, epoch 3:   0%|          | 0/362 [00:00<?, ?it/s]"
     ]
    },
    {
     "name": "stdout",
     "output_type": "stream",
     "text": [
      "{'mae': 0.9571256038647343, 'loss': 3.5410443872645283, 'accuracy': 0.4559178743961353}\n"
     ]
    },
    {
     "name": "stderr",
     "output_type": "stream",
     "text": [
      "Training, epoch 3: 100%|██████████| 362/362 [01:25<00:00,  4.25it/s, accuracy=0.415, batch_size=5778, loss=3.53, mae=0.934]\n",
      "100%|██████████| 104/104 [00:08<00:00, 12.85it/s, accuracy=0.463, batch_size=1656, loss=3.47, mae=0.895]\n",
      "Training, epoch 4:   0%|          | 0/362 [00:00<?, ?it/s]"
     ]
    },
    {
     "name": "stdout",
     "output_type": "stream",
     "text": [
      "{'mae': 0.894927536231884, 'loss': 3.468309880454759, 'accuracy': 0.46316425120772947}\n"
     ]
    },
    {
     "name": "stderr",
     "output_type": "stream",
     "text": [
      "Training, epoch 4: 100%|██████████| 362/362 [01:27<00:00,  4.15it/s, accuracy=0.421, batch_size=5778, loss=3.5, mae=0.917] \n",
      "100%|██████████| 104/104 [00:08<00:00, 12.56it/s, accuracy=0.472, batch_size=1656, loss=3.41, mae=0.864]\n",
      "Training, epoch 5:   0%|          | 0/362 [00:00<?, ?it/s]"
     ]
    },
    {
     "name": "stdout",
     "output_type": "stream",
     "text": [
      "{'mae': 0.8635265700483091, 'loss': 3.4068345873828094, 'accuracy': 0.4716183574879227}\n"
     ]
    },
    {
     "name": "stderr",
     "output_type": "stream",
     "text": [
      "Training, epoch 5: 100%|██████████| 362/362 [01:28<00:00,  4.08it/s, accuracy=0.436, batch_size=5778, loss=3.44, mae=0.871]\n",
      "100%|██████████| 104/104 [00:08<00:00, 12.27it/s, accuracy=0.483, batch_size=1656, loss=3.36, mae=0.83] \n",
      "Training, epoch 6:   0%|          | 0/362 [00:00<?, ?it/s]"
     ]
    },
    {
     "name": "stdout",
     "output_type": "stream",
     "text": [
      "{'mae': 0.8297101449275363, 'loss': 3.35732881112951, 'accuracy': 0.4830917874396135}\n"
     ]
    },
    {
     "name": "stderr",
     "output_type": "stream",
     "text": [
      "Training, epoch 6: 100%|██████████| 362/362 [01:26<00:00,  4.20it/s, accuracy=0.447, batch_size=5778, loss=3.38, mae=0.837]\n",
      "100%|██████████| 104/104 [00:07<00:00, 13.02it/s, accuracy=0.49, batch_size=1656, loss=3.3, mae=0.809]  \n",
      "Training, epoch 7:   0%|          | 0/362 [00:00<?, ?it/s]"
     ]
    },
    {
     "name": "stdout",
     "output_type": "stream",
     "text": [
      "{'mae': 0.8085748792270532, 'loss': 3.298615250610499, 'accuracy': 0.4897342995169082}\n"
     ]
    },
    {
     "name": "stderr",
     "output_type": "stream",
     "text": [
      "Training, epoch 7: 100%|██████████| 362/362 [01:24<00:00,  4.28it/s, accuracy=0.456, batch_size=5778, loss=3.3, mae=0.813] \n",
      "100%|██████████| 104/104 [00:07<00:00, 13.11it/s, accuracy=0.497, batch_size=1656, loss=3.25, mae=0.783]\n",
      "Training, epoch 8:   0%|          | 0/362 [00:00<?, ?it/s]"
     ]
    },
    {
     "name": "stdout",
     "output_type": "stream",
     "text": [
      "{'mae': 0.782608695652174, 'loss': 3.2489419029530695, 'accuracy': 0.4969806763285024}\n"
     ]
    },
    {
     "name": "stderr",
     "output_type": "stream",
     "text": [
      "Training, epoch 8: 100%|██████████| 362/362 [01:24<00:00,  4.28it/s, accuracy=0.469, batch_size=5778, loss=3.26, mae=0.785]\n",
      "100%|██████████| 104/104 [00:07<00:00, 13.14it/s, accuracy=0.487, batch_size=1656, loss=3.27, mae=0.815]\n",
      "Training, epoch 9:   0%|          | 0/362 [00:00<?, ?it/s]"
     ]
    },
    {
     "name": "stdout",
     "output_type": "stream",
     "text": [
      "{'mae': 0.8146135265700483, 'loss': 3.266604671155773, 'accuracy': 0.48731884057971014}\n"
     ]
    },
    {
     "name": "stderr",
     "output_type": "stream",
     "text": [
      "Training, epoch 9: 100%|██████████| 362/362 [01:24<00:00,  4.28it/s, accuracy=0.478, batch_size=5778, loss=3.19, mae=0.765]\n",
      "100%|██████████| 104/104 [00:07<00:00, 13.16it/s, accuracy=0.503, batch_size=1656, loss=3.15, mae=0.734]\n",
      "Training, epoch 10:   0%|          | 0/362 [00:00<?, ?it/s]"
     ]
    },
    {
     "name": "stdout",
     "output_type": "stream",
     "text": [
      "{'mae': 0.7336956521739131, 'loss': 3.1507728572053035, 'accuracy': 0.5030193236714976}\n"
     ]
    },
    {
     "name": "stderr",
     "output_type": "stream",
     "text": [
      "Training, epoch 10: 100%|██████████| 362/362 [01:24<00:00,  4.28it/s, accuracy=0.475, batch_size=5778, loss=3.15, mae=0.748]\n",
      "100%|██████████| 104/104 [00:07<00:00, 13.10it/s, accuracy=0.505, batch_size=1656, loss=3.13, mae=0.732]\n",
      "Training, epoch 11:   0%|          | 0/362 [00:00<?, ?it/s]"
     ]
    },
    {
     "name": "stdout",
     "output_type": "stream",
     "text": [
      "{'mae': 0.7318840579710145, 'loss': 3.134347623097148, 'accuracy': 0.5048309178743962}\n"
     ]
    },
    {
     "name": "stderr",
     "output_type": "stream",
     "text": [
      "Training, epoch 11: 100%|██████████| 362/362 [01:25<00:00,  4.23it/s, accuracy=0.493, batch_size=5778, loss=3.12, mae=0.718]\n",
      "100%|██████████| 104/104 [00:08<00:00, 12.93it/s, accuracy=0.512, batch_size=1656, loss=3.1, mae=0.713] \n",
      "Training, epoch 12:   0%|          | 0/362 [00:00<?, ?it/s]"
     ]
    },
    {
     "name": "stdout",
     "output_type": "stream",
     "text": [
      "{'mae': 0.7131642512077294, 'loss': 3.1019452942742243, 'accuracy': 0.5120772946859904}\n"
     ]
    },
    {
     "name": "stderr",
     "output_type": "stream",
     "text": [
      "Training, epoch 12: 100%|██████████| 362/362 [01:27<00:00,  4.12it/s, accuracy=0.5, batch_size=5778, loss=3.08, mae=0.709]  \n",
      "100%|██████████| 104/104 [00:08<00:00, 12.59it/s, accuracy=0.51, batch_size=1656, loss=3.06, mae=0.69]  \n",
      "Training, epoch 13:   0%|          | 0/362 [00:00<?, ?it/s]"
     ]
    },
    {
     "name": "stdout",
     "output_type": "stream",
     "text": [
      "{'mae': 0.6896135265700483, 'loss': 3.055696923951596, 'accuracy': 0.5102657004830918}\n"
     ]
    },
    {
     "name": "stderr",
     "output_type": "stream",
     "text": [
      "Training, epoch 13: 100%|██████████| 362/362 [01:29<00:00,  4.05it/s, accuracy=0.51, batch_size=5778, loss=3.04, mae=0.676] \n",
      "100%|██████████| 104/104 [00:08<00:00, 12.27it/s, accuracy=0.512, batch_size=1656, loss=3.02, mae=0.694]\n",
      "Training, epoch 14:   0%|          | 0/362 [00:00<?, ?it/s]"
     ]
    },
    {
     "name": "stdout",
     "output_type": "stream",
     "text": [
      "{'mae': 0.6944444444444444, 'loss': 3.02075287339768, 'accuracy': 0.5120772946859904}\n"
     ]
    },
    {
     "name": "stderr",
     "output_type": "stream",
     "text": [
      "Training, epoch 14: 100%|██████████| 362/362 [01:29<00:00,  4.03it/s, accuracy=0.505, batch_size=5778, loss=3.04, mae=0.691]\n",
      "100%|██████████| 104/104 [00:08<00:00, 12.45it/s, accuracy=0.524, batch_size=1656, loss=3, mae=0.668]   \n",
      "Training, epoch 15:   0%|          | 0/362 [00:00<?, ?it/s]"
     ]
    },
    {
     "name": "stdout",
     "output_type": "stream",
     "text": [
      "{'mae': 0.6678743961352657, 'loss': 3.0021780090055605, 'accuracy': 0.5235507246376812}\n"
     ]
    },
    {
     "name": "stderr",
     "output_type": "stream",
     "text": [
      "Training, epoch 15: 100%|██████████| 362/362 [01:29<00:00,  4.03it/s, accuracy=0.507, batch_size=5778, loss=3, mae=0.685]   \n",
      "100%|██████████| 104/104 [00:08<00:00, 12.29it/s, accuracy=0.521, batch_size=1656, loss=2.98, mae=0.681]\n",
      "Training, epoch 16:   0%|          | 0/362 [00:00<?, ?it/s]"
     ]
    },
    {
     "name": "stdout",
     "output_type": "stream",
     "text": [
      "{'mae': 0.6811594202898551, 'loss': 2.98041177832562, 'accuracy': 0.5211352657004831}\n"
     ]
    },
    {
     "name": "stderr",
     "output_type": "stream",
     "text": [
      "Training, epoch 16: 100%|██████████| 362/362 [01:29<00:00,  4.04it/s, accuracy=0.524, batch_size=5778, loss=2.97, mae=0.654]\n",
      "100%|██████████| 104/104 [00:08<00:00, 12.43it/s, accuracy=0.518, batch_size=1656, loss=3.01, mae=0.69] \n",
      "Training, epoch 17:   0%|          | 0/362 [00:00<?, ?it/s]"
     ]
    },
    {
     "name": "stdout",
     "output_type": "stream",
     "text": [
      "{'mae': 0.6902173913043478, 'loss': 3.0063414331795513, 'accuracy': 0.517512077294686}\n"
     ]
    },
    {
     "name": "stderr",
     "output_type": "stream",
     "text": [
      "Training, epoch 17: 100%|██████████| 362/362 [01:29<00:00,  4.04it/s, accuracy=0.512, batch_size=5778, loss=2.93, mae=0.664]\n",
      "100%|██████████| 104/104 [00:08<00:00, 12.38it/s, accuracy=0.531, batch_size=1656, loss=2.96, mae=0.667]\n",
      "Training, epoch 18:   0%|          | 0/362 [00:00<?, ?it/s]"
     ]
    },
    {
     "name": "stdout",
     "output_type": "stream",
     "text": [
      "{'mae': 0.6672705314009661, 'loss': 2.9643487388960983, 'accuracy': 0.5314009661835749}\n"
     ]
    },
    {
     "name": "stderr",
     "output_type": "stream",
     "text": [
      "Training, epoch 18: 100%|██████████| 362/362 [01:29<00:00,  4.04it/s, accuracy=0.524, batch_size=5778, loss=2.91, mae=0.649]\n",
      "100%|██████████| 104/104 [00:08<00:00, 12.45it/s, accuracy=0.528, batch_size=1656, loss=2.91, mae=0.643]\n",
      "Training, epoch 19:   0%|          | 0/362 [00:00<?, ?it/s]"
     ]
    },
    {
     "name": "stdout",
     "output_type": "stream",
     "text": [
      "{'mae': 0.6431159420289855, 'loss': 2.909953859117296, 'accuracy': 0.5283816425120773}\n"
     ]
    },
    {
     "name": "stderr",
     "output_type": "stream",
     "text": [
      "Training, epoch 19: 100%|██████████| 362/362 [01:29<00:00,  4.03it/s, accuracy=0.543, batch_size=5778, loss=2.86, mae=0.623]\n",
      "100%|██████████| 104/104 [00:08<00:00, 12.34it/s, accuracy=0.535, batch_size=1656, loss=2.89, mae=0.634]\n"
     ]
    },
    {
     "name": "stdout",
     "output_type": "stream",
     "text": [
      "{'mae': 0.6340579710144928, 'loss': 2.887631939229182, 'accuracy': 0.535024154589372}\n"
     ]
    },
    {
     "name": "stderr",
     "output_type": "stream",
     "text": [
      "Training, epoch 0: 100%|██████████| 362/362 [01:29<00:00,  4.04it/s, accuracy=0.329, batch_size=5778, loss=5.27, mae=1.11]\n",
      "100%|██████████| 104/104 [00:08<00:00, 12.43it/s, accuracy=0.425, batch_size=1656, loss=5.03, mae=1.07]\n",
      "Training, epoch 1:   0%|          | 0/362 [00:00<?, ?it/s]"
     ]
    },
    {
     "name": "stdout",
     "output_type": "stream",
     "text": [
      "{'mae': 1.066425120772947, 'loss': 5.028191944251314, 'accuracy': 0.4251207729468599}\n"
     ]
    },
    {
     "name": "stderr",
     "output_type": "stream",
     "text": [
      "Training, epoch 1: 100%|██████████| 362/362 [01:29<00:00,  4.03it/s, accuracy=0.368, batch_size=5778, loss=5.04, mae=1]   \n",
      "100%|██████████| 104/104 [00:08<00:00, 12.36it/s, accuracy=0.454, batch_size=1656, loss=4.86, mae=0.921]\n",
      "Training, epoch 2:   0%|          | 0/362 [00:00<?, ?it/s]"
     ]
    },
    {
     "name": "stdout",
     "output_type": "stream",
     "text": [
      "{'mae': 0.9214975845410628, 'loss': 4.86397065287051, 'accuracy': 0.45410628019323673}\n"
     ]
    },
    {
     "name": "stderr",
     "output_type": "stream",
     "text": [
      "Training, epoch 2: 100%|██████████| 362/362 [01:30<00:00,  4.02it/s, accuracy=0.402, batch_size=5778, loss=4.88, mae=0.924]\n",
      "100%|██████████| 104/104 [00:08<00:00, 12.22it/s, accuracy=0.465, batch_size=1656, loss=4.7, mae=0.835] \n",
      "Training, epoch 3:   0%|          | 0/362 [00:00<?, ?it/s]"
     ]
    },
    {
     "name": "stdout",
     "output_type": "stream",
     "text": [
      "{'mae': 0.8345410628019324, 'loss': 4.697677791982457, 'accuracy': 0.46497584541062803}\n"
     ]
    },
    {
     "name": "stderr",
     "output_type": "stream",
     "text": [
      "Training, epoch 3: 100%|██████████| 362/362 [01:29<00:00,  4.03it/s, accuracy=0.427, batch_size=5778, loss=4.72, mae=0.855]\n",
      "100%|██████████| 104/104 [00:08<00:00, 12.33it/s, accuracy=0.457, batch_size=1656, loss=4.59, mae=0.79] \n",
      "Training, epoch 4:   0%|          | 0/362 [00:00<?, ?it/s]"
     ]
    },
    {
     "name": "stdout",
     "output_type": "stream",
     "text": [
      "{'mae': 0.7904589371980676, 'loss': 4.585120332413825, 'accuracy': 0.4571256038647343}\n"
     ]
    },
    {
     "name": "stderr",
     "output_type": "stream",
     "text": [
      "Training, epoch 4: 100%|██████████| 362/362 [01:29<00:00,  4.02it/s, accuracy=0.441, batch_size=5778, loss=4.57, mae=0.812]\n",
      "100%|██████████| 104/104 [00:08<00:00, 12.37it/s, accuracy=0.486, batch_size=1656, loss=4.46, mae=0.795]\n",
      "Training, epoch 5:   0%|          | 0/362 [00:00<?, ?it/s]"
     ]
    },
    {
     "name": "stdout",
     "output_type": "stream",
     "text": [
      "{'mae': 0.7952898550724637, 'loss': 4.460061733273492, 'accuracy': 0.4855072463768116}\n"
     ]
    },
    {
     "name": "stderr",
     "output_type": "stream",
     "text": [
      "Training, epoch 5: 100%|██████████| 362/362 [01:30<00:00,  4.02it/s, accuracy=0.466, batch_size=5778, loss=4.42, mae=0.755]\n",
      "100%|██████████| 104/104 [00:08<00:00, 12.42it/s, accuracy=0.493, batch_size=1656, loss=4.39, mae=0.775]\n",
      "Training, epoch 6:   0%|          | 0/362 [00:00<?, ?it/s]"
     ]
    },
    {
     "name": "stdout",
     "output_type": "stream",
     "text": [
      "{'mae': 0.7753623188405797, 'loss': 4.392635763555333, 'accuracy': 0.4927536231884058}\n"
     ]
    },
    {
     "name": "stderr",
     "output_type": "stream",
     "text": [
      "Training, epoch 6: 100%|██████████| 362/362 [01:30<00:00,  4.02it/s, accuracy=0.466, batch_size=5778, loss=4.34, mae=0.747]\n",
      "100%|██████████| 104/104 [00:08<00:00, 12.41it/s, accuracy=0.498, batch_size=1656, loss=4.3, mae=0.734] \n",
      "Training, epoch 7:   0%|          | 0/362 [00:00<?, ?it/s]"
     ]
    },
    {
     "name": "stdout",
     "output_type": "stream",
     "text": [
      "{'mae': 0.7336956521739131, 'loss': 4.2953638350906, 'accuracy': 0.4975845410628019}\n"
     ]
    },
    {
     "name": "stderr",
     "output_type": "stream",
     "text": [
      "Training, epoch 7: 100%|██████████| 362/362 [01:29<00:00,  4.04it/s, accuracy=0.483, batch_size=5778, loss=4.25, mae=0.716]\n",
      "100%|██████████| 104/104 [00:08<00:00, 12.32it/s, accuracy=0.505, batch_size=1656, loss=4.16, mae=0.688]\n",
      "Training, epoch 8:   0%|          | 0/362 [00:00<?, ?it/s]"
     ]
    },
    {
     "name": "stdout",
     "output_type": "stream",
     "text": [
      "{'mae': 0.6878019323671497, 'loss': 4.162878633121362, 'accuracy': 0.5054347826086957}\n"
     ]
    },
    {
     "name": "stderr",
     "output_type": "stream",
     "text": [
      "Training, epoch 8: 100%|██████████| 362/362 [01:29<00:00,  4.04it/s, accuracy=0.488, batch_size=5778, loss=4.16, mae=0.692]\n",
      "100%|██████████| 104/104 [00:08<00:00, 12.20it/s, accuracy=0.514, batch_size=1656, loss=4.13, mae=0.685]\n",
      "Training, epoch 9:   0%|          | 0/362 [00:00<?, ?it/s]"
     ]
    },
    {
     "name": "stdout",
     "output_type": "stream",
     "text": [
      "{'mae': 0.6847826086956522, 'loss': 4.128556830871508, 'accuracy': 0.5138888888888888}\n"
     ]
    },
    {
     "name": "stderr",
     "output_type": "stream",
     "text": [
      "Training, epoch 9: 100%|██████████| 362/362 [01:29<00:00,  4.03it/s, accuracy=0.501, batch_size=5778, loss=4.1, mae=0.678] \n",
      "100%|██████████| 104/104 [00:08<00:00, 12.37it/s, accuracy=0.507, batch_size=1656, loss=4.08, mae=0.673]\n",
      "Training, epoch 10:   0%|          | 0/362 [00:00<?, ?it/s]"
     ]
    },
    {
     "name": "stdout",
     "output_type": "stream",
     "text": [
      "{'mae': 0.6733091787439613, 'loss': 4.08148375455884, 'accuracy': 0.5072463768115942}\n"
     ]
    },
    {
     "name": "stderr",
     "output_type": "stream",
     "text": [
      "Training, epoch 10: 100%|██████████| 362/362 [01:29<00:00,  4.04it/s, accuracy=0.505, batch_size=5778, loss=4, mae=0.653]   \n",
      "100%|██████████| 104/104 [00:08<00:00, 12.30it/s, accuracy=0.513, batch_size=1656, loss=4.01, mae=0.648]\n",
      "Training, epoch 11:   0%|          | 0/362 [00:00<?, ?it/s]"
     ]
    },
    {
     "name": "stdout",
     "output_type": "stream",
     "text": [
      "{'mae': 0.6479468599033816, 'loss': 4.014487814788081, 'accuracy': 0.5132850241545893}\n"
     ]
    },
    {
     "name": "stderr",
     "output_type": "stream",
     "text": [
      "Training, epoch 11: 100%|██████████| 362/362 [01:29<00:00,  4.03it/s, accuracy=0.518, batch_size=5778, loss=3.95, mae=0.635]\n",
      "100%|██████████| 104/104 [00:08<00:00, 12.24it/s, accuracy=0.528, batch_size=1656, loss=3.96, mae=0.647]\n",
      "Training, epoch 12:   0%|          | 0/362 [00:00<?, ?it/s]"
     ]
    },
    {
     "name": "stdout",
     "output_type": "stream",
     "text": [
      "{'mae': 0.6467391304347826, 'loss': 3.962902172752049, 'accuracy': 0.5277777777777778}\n"
     ]
    },
    {
     "name": "stderr",
     "output_type": "stream",
     "text": [
      "Training, epoch 12: 100%|██████████| 362/362 [01:30<00:00,  4.02it/s, accuracy=0.521, batch_size=5778, loss=3.89, mae=0.622]\n",
      "100%|██████████| 104/104 [00:08<00:00, 12.37it/s, accuracy=0.51, batch_size=1656, loss=3.98, mae=0.654] \n",
      "Training, epoch 13:   0%|          | 0/362 [00:00<?, ?it/s]"
     ]
    },
    {
     "name": "stdout",
     "output_type": "stream",
     "text": [
      "{'mae': 0.6539855072463768, 'loss': 3.9833260250552267, 'accuracy': 0.5096618357487923}\n"
     ]
    },
    {
     "name": "stderr",
     "output_type": "stream",
     "text": [
      "Training, epoch 13: 100%|██████████| 362/362 [01:30<00:00,  4.02it/s, accuracy=0.538, batch_size=5778, loss=3.83, mae=0.6]  \n",
      "100%|██████████| 104/104 [00:08<00:00, 12.36it/s, accuracy=0.525, batch_size=1656, loss=4.17, mae=0.687]\n",
      "Training, epoch 14:   0%|          | 0/362 [00:00<?, ?it/s]"
     ]
    },
    {
     "name": "stdout",
     "output_type": "stream",
     "text": [
      "{'mae': 0.6871980676328503, 'loss': 4.165605292803999, 'accuracy': 0.5247584541062802}\n"
     ]
    },
    {
     "name": "stderr",
     "output_type": "stream",
     "text": [
      "Training, epoch 14: 100%|██████████| 362/362 [01:29<00:00,  4.03it/s, accuracy=0.552, batch_size=5778, loss=3.77, mae=0.583]\n",
      "100%|██████████| 104/104 [00:08<00:00, 12.30it/s, accuracy=0.55, batch_size=1656, loss=3.76, mae=0.58]  \n",
      "Training, epoch 15:   0%|          | 0/362 [00:00<?, ?it/s]"
     ]
    },
    {
     "name": "stdout",
     "output_type": "stream",
     "text": [
      "{'mae': 0.5803140096618358, 'loss': 3.764513553628599, 'accuracy': 0.5495169082125604}\n"
     ]
    },
    {
     "name": "stderr",
     "output_type": "stream",
     "text": [
      "Training, epoch 15: 100%|██████████| 362/362 [01:30<00:00,  4.02it/s, accuracy=0.555, batch_size=5778, loss=3.7, mae=0.573] \n",
      "100%|██████████| 104/104 [00:08<00:00, 12.33it/s, accuracy=0.539, batch_size=1656, loss=3.83, mae=0.621]\n",
      "Training, epoch 16:   0%|          | 0/362 [00:00<?, ?it/s]"
     ]
    },
    {
     "name": "stdout",
     "output_type": "stream",
     "text": [
      "{'mae': 0.6213768115942029, 'loss': 3.83457733122047, 'accuracy': 0.538647342995169}\n"
     ]
    },
    {
     "name": "stderr",
     "output_type": "stream",
     "text": [
      "Training, epoch 16: 100%|██████████| 362/362 [01:25<00:00,  4.22it/s, accuracy=0.552, batch_size=5778, loss=3.67, mae=0.575]\n",
      "100%|██████████| 104/104 [00:07<00:00, 13.06it/s, accuracy=0.57, batch_size=1656, loss=3.69, mae=0.576] \n",
      "Training, epoch 17:   0%|          | 0/362 [00:00<?, ?it/s]"
     ]
    },
    {
     "name": "stdout",
     "output_type": "stream",
     "text": [
      "{'mae': 0.5760869565217391, 'loss': 3.692730482073798, 'accuracy': 0.5700483091787439}\n"
     ]
    },
    {
     "name": "stderr",
     "output_type": "stream",
     "text": [
      "Training, epoch 17: 100%|██████████| 362/362 [01:24<00:00,  4.28it/s, accuracy=0.571, batch_size=5778, loss=3.6, mae=0.551] \n",
      "100%|██████████| 104/104 [00:07<00:00, 13.14it/s, accuracy=0.565, batch_size=1656, loss=3.64, mae=0.569]\n",
      "Training, epoch 18:   0%|          | 0/362 [00:00<?, ?it/s]"
     ]
    },
    {
     "name": "stdout",
     "output_type": "stream",
     "text": [
      "{'mae': 0.5694444444444444, 'loss': 3.6399179460921727, 'accuracy': 0.5652173913043478}\n"
     ]
    },
    {
     "name": "stderr",
     "output_type": "stream",
     "text": [
      "Training, epoch 18: 100%|██████████| 362/362 [01:24<00:00,  4.28it/s, accuracy=0.563, batch_size=5778, loss=3.58, mae=0.557]\n",
      "100%|██████████| 104/104 [00:07<00:00, 13.06it/s, accuracy=0.537, batch_size=1656, loss=3.68, mae=0.565]\n",
      "Training, epoch 19:   0%|          | 0/362 [00:00<?, ?it/s]"
     ]
    },
    {
     "name": "stdout",
     "output_type": "stream",
     "text": [
      "{'mae': 0.5652173913043478, 'loss': 3.681587233059648, 'accuracy': 0.5368357487922706}\n"
     ]
    },
    {
     "name": "stderr",
     "output_type": "stream",
     "text": [
      "Training, epoch 19: 100%|██████████| 362/362 [01:25<00:00,  4.24it/s, accuracy=0.58, batch_size=5778, loss=3.53, mae=0.527] \n",
      "100%|██████████| 104/104 [00:08<00:00, 12.93it/s, accuracy=0.587, batch_size=1656, loss=3.55, mae=0.527]\n"
     ]
    },
    {
     "name": "stdout",
     "output_type": "stream",
     "text": [
      "{'mae': 0.5271739130434783, 'loss': 3.5475972539560807, 'accuracy': 0.5869565217391305}\n"
     ]
    },
    {
     "name": "stderr",
     "output_type": "stream",
     "text": [
      "Training, epoch 0: 100%|██████████| 362/362 [01:27<00:00,  4.14it/s, accuracy=0.307, batch_size=5778, loss=6.67, mae=1.08]\n",
      "100%|██████████| 104/104 [00:08<00:00, 12.62it/s, accuracy=0.441, batch_size=1656, loss=6.28, mae=0.929]\n",
      "Training, epoch 1:   0%|          | 0/362 [00:00<?, ?it/s]"
     ]
    },
    {
     "name": "stdout",
     "output_type": "stream",
     "text": [
      "{'mae': 0.9293478260869565, 'loss': 6.275915823121002, 'accuracy': 0.44082125603864736}\n"
     ]
    },
    {
     "name": "stderr",
     "output_type": "stream",
     "text": [
      "Training, epoch 1: 100%|██████████| 362/362 [01:28<00:00,  4.08it/s, accuracy=0.373, batch_size=5778, loss=6.31, mae=0.949]\n",
      "100%|██████████| 104/104 [00:08<00:00, 12.44it/s, accuracy=0.432, batch_size=1656, loss=6.38, mae=1.04] \n",
      "Training, epoch 2:   0%|          | 0/362 [00:00<?, ?it/s]"
     ]
    },
    {
     "name": "stdout",
     "output_type": "stream",
     "text": [
      "{'mae': 1.041062801932367, 'loss': 6.379385556575757, 'accuracy': 0.43176328502415456}\n"
     ]
    },
    {
     "name": "stderr",
     "output_type": "stream",
     "text": [
      "Training, epoch 2: 100%|██████████| 362/362 [01:30<00:00,  4.01it/s, accuracy=0.404, batch_size=5778, loss=6.06, mae=0.867]\n",
      "100%|██████████| 104/104 [00:08<00:00, 12.30it/s, accuracy=0.49, batch_size=1656, loss=5.79, mae=0.81]  \n",
      "Training, epoch 3:   0%|          | 0/362 [00:00<?, ?it/s]"
     ]
    },
    {
     "name": "stdout",
     "output_type": "stream",
     "text": [
      "{'mae': 0.8097826086956522, 'loss': 5.790930556790264, 'accuracy': 0.4897342995169082}\n"
     ]
    },
    {
     "name": "stderr",
     "output_type": "stream",
     "text": [
      "Training, epoch 3: 100%|██████████| 362/362 [01:30<00:00,  4.02it/s, accuracy=0.435, batch_size=5778, loss=5.79, mae=0.814]\n",
      "100%|██████████| 104/104 [00:08<00:00, 12.26it/s, accuracy=0.473, batch_size=1656, loss=5.61, mae=0.767]\n",
      "Training, epoch 4:   0%|          | 0/362 [00:00<?, ?it/s]"
     ]
    },
    {
     "name": "stdout",
     "output_type": "stream",
     "text": [
      "{'mae': 0.7669082125603864, 'loss': 5.607088807700337, 'accuracy': 0.47342995169082125}\n"
     ]
    },
    {
     "name": "stderr",
     "output_type": "stream",
     "text": [
      "Training, epoch 4: 100%|██████████| 362/362 [01:30<00:00,  4.02it/s, accuracy=0.455, batch_size=5778, loss=5.59, mae=0.759]\n",
      "100%|██████████| 104/104 [00:08<00:00, 12.28it/s, accuracy=0.423, batch_size=1656, loss=5.63, mae=0.768]\n",
      "Training, epoch 5:   0%|          | 0/362 [00:00<?, ?it/s]"
     ]
    },
    {
     "name": "stdout",
     "output_type": "stream",
     "text": [
      "{'mae': 0.767512077294686, 'loss': 5.626641701960909, 'accuracy': 0.42330917874396135}\n"
     ]
    },
    {
     "name": "stderr",
     "output_type": "stream",
     "text": [
      "Training, epoch 5: 100%|██████████| 362/362 [01:30<00:00,  4.02it/s, accuracy=0.474, batch_size=5778, loss=5.4, mae=0.716] \n",
      "100%|██████████| 104/104 [00:08<00:00, 12.27it/s, accuracy=0.485, batch_size=1656, loss=5.3, mae=0.695] \n",
      "Training, epoch 6:   0%|          | 0/362 [00:00<?, ?it/s]"
     ]
    },
    {
     "name": "stdout",
     "output_type": "stream",
     "text": [
      "{'mae': 0.6950483091787439, 'loss': 5.298903264861176, 'accuracy': 0.48490338164251207}\n"
     ]
    },
    {
     "name": "stderr",
     "output_type": "stream",
     "text": [
      "Training, epoch 6: 100%|██████████| 362/362 [01:30<00:00,  4.02it/s, accuracy=0.481, batch_size=5778, loss=5.27, mae=0.693]\n",
      "100%|██████████| 104/104 [00:08<00:00, 12.28it/s, accuracy=0.504, batch_size=1656, loss=5.3, mae=0.697] \n",
      "Training, epoch 7:   0%|          | 0/362 [00:00<?, ?it/s]"
     ]
    },
    {
     "name": "stdout",
     "output_type": "stream",
     "text": [
      "{'mae': 0.697463768115942, 'loss': 5.2972839350861625, 'accuracy': 0.5042270531400966}\n"
     ]
    },
    {
     "name": "stderr",
     "output_type": "stream",
     "text": [
      "Training, epoch 7: 100%|██████████| 362/362 [01:30<00:00,  4.01it/s, accuracy=0.499, batch_size=5778, loss=5.15, mae=0.666]\n",
      "100%|██████████| 104/104 [00:08<00:00, 12.29it/s, accuracy=0.503, batch_size=1656, loss=5.59, mae=0.742]\n",
      "Training, epoch 8:   0%|          | 0/362 [00:00<?, ?it/s]"
     ]
    },
    {
     "name": "stdout",
     "output_type": "stream",
     "text": [
      "{'mae': 0.7421497584541062, 'loss': 5.593554118981108, 'accuracy': 0.5030193236714976}\n"
     ]
    },
    {
     "name": "stderr",
     "output_type": "stream",
     "text": [
      "Training, epoch 8: 100%|██████████| 362/362 [01:30<00:00,  4.02it/s, accuracy=0.502, batch_size=5778, loss=5.08, mae=0.652]\n",
      "100%|██████████| 104/104 [00:08<00:00, 12.35it/s, accuracy=0.511, batch_size=1656, loss=5.06, mae=0.652]\n",
      "Training, epoch 9:   0%|          | 0/362 [00:00<?, ?it/s]"
     ]
    },
    {
     "name": "stdout",
     "output_type": "stream",
     "text": [
      "{'mae': 0.6521739130434783, 'loss': 5.064354714564079, 'accuracy': 0.5108695652173914}\n"
     ]
    },
    {
     "name": "stderr",
     "output_type": "stream",
     "text": [
      "Training, epoch 9: 100%|██████████| 362/362 [01:29<00:00,  4.03it/s, accuracy=0.515, batch_size=5778, loss=4.98, mae=0.632]\n",
      "100%|██████████| 104/104 [00:08<00:00, 12.30it/s, accuracy=0.524, batch_size=1656, loss=4.95, mae=0.618]\n",
      "Training, epoch 10:   0%|          | 0/362 [00:00<?, ?it/s]"
     ]
    },
    {
     "name": "stdout",
     "output_type": "stream",
     "text": [
      "{'mae': 0.6183574879227053, 'loss': 4.94532451076784, 'accuracy': 0.5235507246376812}\n"
     ]
    },
    {
     "name": "stderr",
     "output_type": "stream",
     "text": [
      "Training, epoch 10: 100%|██████████| 362/362 [01:30<00:00,  4.01it/s, accuracy=0.526, batch_size=5778, loss=4.87, mae=0.611]\n",
      "100%|██████████| 104/104 [00:08<00:00, 12.26it/s, accuracy=0.524, batch_size=1656, loss=5.18, mae=0.659]\n",
      "Training, epoch 11:   0%|          | 0/362 [00:00<?, ?it/s]"
     ]
    },
    {
     "name": "stdout",
     "output_type": "stream",
     "text": [
      "{'mae': 0.6594202898550725, 'loss': 5.1775742821071455, 'accuracy': 0.5235507246376812}\n"
     ]
    },
    {
     "name": "stderr",
     "output_type": "stream",
     "text": [
      "Training, epoch 11: 100%|██████████| 362/362 [01:29<00:00,  4.03it/s, accuracy=0.534, batch_size=5778, loss=4.79, mae=0.599]\n",
      "100%|██████████| 104/104 [00:08<00:00, 12.30it/s, accuracy=0.534, batch_size=1656, loss=4.81, mae=0.595]\n",
      "Training, epoch 12:   0%|          | 0/362 [00:00<?, ?it/s]"
     ]
    },
    {
     "name": "stdout",
     "output_type": "stream",
     "text": [
      "{'mae': 0.5948067632850241, 'loss': 4.814954513512948, 'accuracy': 0.5344202898550725}\n"
     ]
    },
    {
     "name": "stderr",
     "output_type": "stream",
     "text": [
      "Training, epoch 12: 100%|██████████| 362/362 [01:29<00:00,  4.04it/s, accuracy=0.539, batch_size=5778, loss=4.75, mae=0.584]\n",
      "100%|██████████| 104/104 [00:08<00:00, 12.43it/s, accuracy=0.521, batch_size=1656, loss=4.96, mae=0.632]\n",
      "Training, epoch 13:   0%|          | 0/362 [00:00<?, ?it/s]"
     ]
    },
    {
     "name": "stdout",
     "output_type": "stream",
     "text": [
      "{'mae': 0.6316425120772947, 'loss': 4.960609698641127, 'accuracy': 0.5205314009661836}\n"
     ]
    },
    {
     "name": "stderr",
     "output_type": "stream",
     "text": [
      "Training, epoch 13: 100%|██████████| 362/362 [01:29<00:00,  4.04it/s, accuracy=0.554, batch_size=5778, loss=4.65, mae=0.567]\n",
      "100%|██████████| 104/104 [00:08<00:00, 12.43it/s, accuracy=0.502, batch_size=1656, loss=5.37, mae=0.702]\n",
      "Training, epoch 14:   0%|          | 0/362 [00:00<?, ?it/s]"
     ]
    },
    {
     "name": "stdout",
     "output_type": "stream",
     "text": [
      "{'mae': 0.7016908212560387, 'loss': 5.3737687385024655, 'accuracy': 0.5018115942028986}\n"
     ]
    },
    {
     "name": "stderr",
     "output_type": "stream",
     "text": [
      "Training, epoch 14: 100%|██████████| 362/362 [01:30<00:00,  4.02it/s, accuracy=0.564, batch_size=5778, loss=4.55, mae=0.55] \n",
      "100%|██████████| 104/104 [00:08<00:00, 12.38it/s, accuracy=0.524, batch_size=1656, loss=4.82, mae=0.601]\n",
      "Training, epoch 15:   0%|          | 0/362 [00:00<?, ?it/s]"
     ]
    },
    {
     "name": "stdout",
     "output_type": "stream",
     "text": [
      "{'mae': 0.6008454106280193, 'loss': 4.824937514060937, 'accuracy': 0.5241545893719807}\n"
     ]
    },
    {
     "name": "stderr",
     "output_type": "stream",
     "text": [
      "Training, epoch 15: 100%|██████████| 362/362 [01:30<00:00,  4.01it/s, accuracy=0.577, batch_size=5778, loss=4.46, mae=0.531]\n",
      "100%|██████████| 104/104 [00:08<00:00, 12.33it/s, accuracy=0.528, batch_size=1656, loss=4.76, mae=0.591]\n",
      "Training, epoch 16:   0%|          | 0/362 [00:00<?, ?it/s]"
     ]
    },
    {
     "name": "stdout",
     "output_type": "stream",
     "text": [
      "{'mae': 0.5905797101449275, 'loss': 4.7562477070352305, 'accuracy': 0.5283816425120773}\n"
     ]
    },
    {
     "name": "stderr",
     "output_type": "stream",
     "text": [
      "Training, epoch 16: 100%|██████████| 362/362 [01:30<00:00,  4.01it/s, accuracy=0.575, batch_size=5778, loss=4.42, mae=0.531]\n",
      "100%|██████████| 104/104 [00:08<00:00, 12.30it/s, accuracy=0.496, batch_size=1656, loss=6, mae=0.737]   \n",
      "Training, epoch 17:   0%|          | 0/362 [00:00<?, ?it/s]"
     ]
    },
    {
     "name": "stdout",
     "output_type": "stream",
     "text": [
      "{'mae': 0.7367149758454107, 'loss': 5.997728616719085, 'accuracy': 0.4963768115942029}\n"
     ]
    },
    {
     "name": "stderr",
     "output_type": "stream",
     "text": [
      "Training, epoch 17: 100%|██████████| 362/362 [01:30<00:00,  4.01it/s, accuracy=0.578, batch_size=5778, loss=4.42, mae=0.525]\n",
      "100%|██████████| 104/104 [00:08<00:00, 12.34it/s, accuracy=0.556, batch_size=1656, loss=4.44, mae=0.546]\n",
      "Training, epoch 18:   0%|          | 0/362 [00:00<?, ?it/s]"
     ]
    },
    {
     "name": "stdout",
     "output_type": "stream",
     "text": [
      "{'mae': 0.5464975845410628, 'loss': 4.4444173269225775, 'accuracy': 0.5561594202898551}\n"
     ]
    },
    {
     "name": "stderr",
     "output_type": "stream",
     "text": [
      "Training, epoch 18: 100%|██████████| 362/362 [01:29<00:00,  4.03it/s, accuracy=0.58, batch_size=5778, loss=4.34, mae=0.516] \n",
      "100%|██████████| 104/104 [00:08<00:00, 12.33it/s, accuracy=0.589, batch_size=1656, loss=4.44, mae=0.531]\n",
      "Training, epoch 19:   0%|          | 0/362 [00:00<?, ?it/s]"
     ]
    },
    {
     "name": "stdout",
     "output_type": "stream",
     "text": [
      "{'mae': 0.5307971014492754, 'loss': 4.444713263120052, 'accuracy': 0.5893719806763285}\n"
     ]
    },
    {
     "name": "stderr",
     "output_type": "stream",
     "text": [
      "Training, epoch 19: 100%|██████████| 362/362 [01:29<00:00,  4.03it/s, accuracy=0.592, batch_size=5778, loss=4.25, mae=0.501]\n",
      "100%|██████████| 104/104 [00:08<00:00, 12.36it/s, accuracy=0.597, batch_size=1656, loss=4.29, mae=0.496]\n"
     ]
    },
    {
     "name": "stdout",
     "output_type": "stream",
     "text": [
      "{'mae': 0.49577294685990336, 'loss': 4.286529251918701, 'accuracy': 0.5972222222222222}\n"
     ]
    },
    {
     "name": "stderr",
     "output_type": "stream",
     "text": [
      "Training, epoch 0: 100%|██████████| 362/362 [01:29<00:00,  4.02it/s, accuracy=0.372, batch_size=5778, loss=9.46, mae=1.14]\n",
      "100%|██████████| 104/104 [00:08<00:00, 12.32it/s, accuracy=0.402, batch_size=1656, loss=9.12, mae=1.18] \n",
      "Training, epoch 1:   0%|          | 0/362 [00:00<?, ?it/s]"
     ]
    },
    {
     "name": "stdout",
     "output_type": "stream",
     "text": [
      "{'mae': 1.1769323671497585, 'loss': 9.118302483489549, 'accuracy': 0.40217391304347827}\n"
     ]
    },
    {
     "name": "stderr",
     "output_type": "stream",
     "text": [
      "Training, epoch 1: 100%|██████████| 362/362 [01:29<00:00,  4.04it/s, accuracy=0.418, batch_size=5778, loss=8.96, mae=0.988]\n",
      "100%|██████████| 104/104 [00:08<00:00, 12.12it/s, accuracy=0.436, batch_size=1656, loss=8.72, mae=0.867]\n",
      "Training, epoch 2:   0%|          | 0/362 [00:00<?, ?it/s]"
     ]
    },
    {
     "name": "stdout",
     "output_type": "stream",
     "text": [
      "{'mae': 0.8665458937198067, 'loss': 8.717912475843937, 'accuracy': 0.4359903381642512}\n"
     ]
    },
    {
     "name": "stderr",
     "output_type": "stream",
     "text": [
      "Training, epoch 2: 100%|██████████| 362/362 [01:30<00:00,  4.01it/s, accuracy=0.457, batch_size=5778, loss=8.48, mae=0.85] \n",
      "100%|██████████| 104/104 [00:08<00:00, 12.27it/s, accuracy=0.49, batch_size=1656, loss=8.14, mae=0.772] \n",
      "Training, epoch 3:   0%|          | 0/362 [00:00<?, ?it/s]"
     ]
    },
    {
     "name": "stdout",
     "output_type": "stream",
     "text": [
      "{'mae': 0.7723429951690821, 'loss': 8.13927489663092, 'accuracy': 0.4897342995169082}\n"
     ]
    },
    {
     "name": "stderr",
     "output_type": "stream",
     "text": [
      "Training, epoch 3: 100%|██████████| 362/362 [01:30<00:00,  4.00it/s, accuracy=0.493, batch_size=5778, loss=8.08, mae=0.754]\n",
      "100%|██████████| 104/104 [00:08<00:00, 12.36it/s, accuracy=0.506, batch_size=1656, loss=7.84, mae=0.739]\n",
      "Training, epoch 4:   0%|          | 0/362 [00:00<?, ?it/s]"
     ]
    },
    {
     "name": "stdout",
     "output_type": "stream",
     "text": [
      "{'mae': 0.7385265700483091, 'loss': 7.8413574753176185, 'accuracy': 0.5060386473429952}\n"
     ]
    },
    {
     "name": "stderr",
     "output_type": "stream",
     "text": [
      "Training, epoch 4: 100%|██████████| 362/362 [01:29<00:00,  4.06it/s, accuracy=0.5, batch_size=5778, loss=7.76, mae=0.722]  \n",
      "100%|██████████| 104/104 [00:08<00:00, 12.84it/s, accuracy=0.519, batch_size=1656, loss=7.57, mae=0.7]  \n",
      "Training, epoch 5:   0%|          | 0/362 [00:00<?, ?it/s]"
     ]
    },
    {
     "name": "stdout",
     "output_type": "stream",
     "text": [
      "{'mae': 0.6998792270531401, 'loss': 7.565425144877411, 'accuracy': 0.518719806763285}\n"
     ]
    },
    {
     "name": "stderr",
     "output_type": "stream",
     "text": [
      "Training, epoch 5: 100%|██████████| 362/362 [01:25<00:00,  4.25it/s, accuracy=0.531, batch_size=5778, loss=7.41, mae=0.658]\n",
      "100%|██████████| 104/104 [00:07<00:00, 13.06it/s, accuracy=0.519, batch_size=1656, loss=7.55, mae=0.675]\n",
      "Training, epoch 6:   0%|          | 0/362 [00:00<?, ?it/s]"
     ]
    },
    {
     "name": "stdout",
     "output_type": "stream",
     "text": [
      "{'mae': 0.6745169082125604, 'loss': 7.550768972019067, 'accuracy': 0.518719806763285}\n"
     ]
    },
    {
     "name": "stderr",
     "output_type": "stream",
     "text": [
      "Training, epoch 6: 100%|██████████| 362/362 [01:24<00:00,  4.29it/s, accuracy=0.541, batch_size=5778, loss=7.18, mae=0.63] \n",
      "100%|██████████| 104/104 [00:07<00:00, 13.08it/s, accuracy=0.533, batch_size=1656, loss=7.38, mae=0.676]\n",
      "Training, epoch 7:   0%|          | 0/362 [00:00<?, ?it/s]"
     ]
    },
    {
     "name": "stdout",
     "output_type": "stream",
     "text": [
      "{'mae': 0.6757246376811594, 'loss': 7.381354327363092, 'accuracy': 0.532608695652174}\n"
     ]
    },
    {
     "name": "stderr",
     "output_type": "stream",
     "text": [
      "Training, epoch 7: 100%|██████████| 362/362 [01:24<00:00,  4.27it/s, accuracy=0.558, batch_size=5778, loss=6.96, mae=0.603]\n",
      "100%|██████████| 104/104 [00:07<00:00, 13.07it/s, accuracy=0.525, batch_size=1656, loss=7.24, mae=0.673]\n",
      "Training, epoch 8:   0%|          | 0/362 [00:00<?, ?it/s]"
     ]
    },
    {
     "name": "stdout",
     "output_type": "stream",
     "text": [
      "{'mae': 0.6733091787439613, 'loss': 7.235616870548414, 'accuracy': 0.5247584541062802}\n"
     ]
    },
    {
     "name": "stderr",
     "output_type": "stream",
     "text": [
      "Training, epoch 8: 100%|██████████| 362/362 [01:24<00:00,  4.26it/s, accuracy=0.572, batch_size=5778, loss=6.71, mae=0.574]\n",
      "100%|██████████| 104/104 [00:08<00:00, 12.98it/s, accuracy=0.547, batch_size=1656, loss=7.14, mae=0.657]\n",
      "Training, epoch 9:   0%|          | 0/362 [00:00<?, ?it/s]"
     ]
    },
    {
     "name": "stdout",
     "output_type": "stream",
     "text": [
      "{'mae': 0.6570048309178744, 'loss': 7.135290824272782, 'accuracy': 0.5471014492753623}\n"
     ]
    },
    {
     "name": "stderr",
     "output_type": "stream",
     "text": [
      "Training, epoch 9: 100%|██████████| 362/362 [01:26<00:00,  4.17it/s, accuracy=0.583, batch_size=5778, loss=6.56, mae=0.559]\n",
      "100%|██████████| 104/104 [00:08<00:00, 12.60it/s, accuracy=0.556, batch_size=1656, loss=6.92, mae=0.607]\n",
      "Training, epoch 10:   0%|          | 0/362 [00:00<?, ?it/s]"
     ]
    },
    {
     "name": "stdout",
     "output_type": "stream",
     "text": [
      "{'mae': 0.607487922705314, 'loss': 6.921010805212933, 'accuracy': 0.5561594202898551}\n"
     ]
    },
    {
     "name": "stderr",
     "output_type": "stream",
     "text": [
      "Training, epoch 10: 100%|██████████| 362/362 [01:28<00:00,  4.08it/s, accuracy=0.592, batch_size=5778, loss=6.4, mae=0.542] \n",
      "100%|██████████| 104/104 [00:08<00:00, 12.45it/s, accuracy=0.533, batch_size=1656, loss=7.6, mae=0.707] \n",
      "Training, epoch 11:   0%|          | 0/362 [00:00<?, ?it/s]"
     ]
    },
    {
     "name": "stdout",
     "output_type": "stream",
     "text": [
      "{'mae': 0.7065217391304348, 'loss': 7.6044339396527425, 'accuracy': 0.532608695652174}\n"
     ]
    },
    {
     "name": "stderr",
     "output_type": "stream",
     "text": [
      "Training, epoch 11: 100%|██████████| 362/362 [01:29<00:00,  4.02it/s, accuracy=0.605, batch_size=5778, loss=6.21, mae=0.522]\n",
      "100%|██████████| 104/104 [00:08<00:00, 12.35it/s, accuracy=0.617, batch_size=1656, loss=6.19, mae=0.514]\n",
      "Training, epoch 12:   0%|          | 0/362 [00:00<?, ?it/s]"
     ]
    },
    {
     "name": "stdout",
     "output_type": "stream",
     "text": [
      "{'mae': 0.5144927536231884, 'loss': 6.188883963414437, 'accuracy': 0.6171497584541062}\n"
     ]
    },
    {
     "name": "stderr",
     "output_type": "stream",
     "text": [
      "Training, epoch 12: 100%|██████████| 362/362 [01:26<00:00,  4.17it/s, accuracy=0.611, batch_size=5778, loss=6.1, mae=0.511] \n",
      "100%|██████████| 104/104 [00:07<00:00, 13.07it/s, accuracy=0.627, batch_size=1656, loss=6.02, mae=0.503]\n",
      "Training, epoch 13:   0%|          | 0/362 [00:00<?, ?it/s]"
     ]
    },
    {
     "name": "stdout",
     "output_type": "stream",
     "text": [
      "{'mae': 0.5030193236714976, 'loss': 6.024018674656965, 'accuracy': 0.6274154589371981}\n"
     ]
    },
    {
     "name": "stderr",
     "output_type": "stream",
     "text": [
      "Training, epoch 13: 100%|██████████| 362/362 [01:24<00:00,  4.27it/s, accuracy=0.616, batch_size=5778, loss=6, mae=0.508]   \n",
      "100%|██████████| 104/104 [00:08<00:00, 12.96it/s, accuracy=0.621, batch_size=1656, loss=6.07, mae=0.506]\n",
      "Training, epoch 14:   0%|          | 0/362 [00:00<?, ?it/s]"
     ]
    },
    {
     "name": "stdout",
     "output_type": "stream",
     "text": [
      "{'mae': 0.5060386473429952, 'loss': 6.072987964187843, 'accuracy': 0.6207729468599034}\n"
     ]
    },
    {
     "name": "stderr",
     "output_type": "stream",
     "text": [
      "Training, epoch 14: 100%|██████████| 362/362 [01:25<00:00,  4.23it/s, accuracy=0.628, batch_size=5778, loss=5.87, mae=0.481]\n",
      "100%|██████████| 104/104 [00:08<00:00, 12.79it/s, accuracy=0.594, batch_size=1656, loss=6.63, mae=0.571]\n",
      "Training, epoch 15:   0%|          | 0/362 [00:00<?, ?it/s]"
     ]
    },
    {
     "name": "stdout",
     "output_type": "stream",
     "text": [
      "{'mae': 0.571256038647343, 'loss': 6.634396310013849, 'accuracy': 0.5942028985507246}\n"
     ]
    },
    {
     "name": "stderr",
     "output_type": "stream",
     "text": [
      "Training, epoch 15: 100%|██████████| 362/362 [01:27<00:00,  4.15it/s, accuracy=0.636, batch_size=5778, loss=5.75, mae=0.475]\n",
      "100%|██████████| 104/104 [00:08<00:00, 12.56it/s, accuracy=0.639, batch_size=1656, loss=5.96, mae=0.488]\n",
      "Training, epoch 16:   0%|          | 0/362 [00:00<?, ?it/s]"
     ]
    },
    {
     "name": "stdout",
     "output_type": "stream",
     "text": [
      "{'mae': 0.48792270531400966, 'loss': 5.95717387844399, 'accuracy': 0.6388888888888888}\n"
     ]
    },
    {
     "name": "stderr",
     "output_type": "stream",
     "text": [
      "Training, epoch 16: 100%|██████████| 362/362 [01:28<00:00,  4.08it/s, accuracy=0.641, batch_size=5778, loss=5.68, mae=0.465]\n",
      "100%|██████████| 104/104 [00:08<00:00, 12.38it/s, accuracy=0.636, batch_size=1656, loss=5.86, mae=0.48] \n",
      "Training, epoch 17:   0%|          | 0/362 [00:00<?, ?it/s]"
     ]
    },
    {
     "name": "stdout",
     "output_type": "stream",
     "text": [
      "{'mae': 0.48007246376811596, 'loss': 5.855032210188788, 'accuracy': 0.6364734299516909}\n"
     ]
    },
    {
     "name": "stderr",
     "output_type": "stream",
     "text": [
      "Training, epoch 17: 100%|██████████| 362/362 [01:29<00:00,  4.03it/s, accuracy=0.644, batch_size=5778, loss=5.57, mae=0.456]\n",
      "100%|██████████| 104/104 [00:08<00:00, 12.29it/s, accuracy=0.557, batch_size=1656, loss=7.79, mae=0.66] \n",
      "Training, epoch 18:   0%|          | 0/362 [00:00<?, ?it/s]"
     ]
    },
    {
     "name": "stdout",
     "output_type": "stream",
     "text": [
      "{'mae': 0.660024154589372, 'loss': 7.7862352927525835, 'accuracy': 0.5567632850241546}\n"
     ]
    },
    {
     "name": "stderr",
     "output_type": "stream",
     "text": [
      "Training, epoch 18: 100%|██████████| 362/362 [01:30<00:00,  4.01it/s, accuracy=0.652, batch_size=5778, loss=5.53, mae=0.449]\n",
      "100%|██████████| 104/104 [00:08<00:00, 12.25it/s, accuracy=0.63, batch_size=1656, loss=6, mae=0.501]    \n",
      "Training, epoch 19:   0%|          | 0/362 [00:00<?, ?it/s]"
     ]
    },
    {
     "name": "stdout",
     "output_type": "stream",
     "text": [
      "{'mae': 0.501207729468599, 'loss': 5.995260570360267, 'accuracy': 0.6298309178743962}\n"
     ]
    },
    {
     "name": "stderr",
     "output_type": "stream",
     "text": [
      "Training, epoch 19: 100%|██████████| 362/362 [01:30<00:00,  4.02it/s, accuracy=0.655, batch_size=5778, loss=5.41, mae=0.432]\n",
      "100%|██████████| 104/104 [00:08<00:00, 12.31it/s, accuracy=0.643, batch_size=1656, loss=5.77, mae=0.457]\n"
     ]
    },
    {
     "name": "stdout",
     "output_type": "stream",
     "text": [
      "{'mae': 0.45652173913043476, 'loss': 5.771094511096604, 'accuracy': 0.6431159420289855}\n"
     ]
    },
    {
     "name": "stderr",
     "output_type": "stream",
     "text": [
      "Training, epoch 0: 100%|██████████| 362/362 [01:30<00:00,  4.02it/s, accuracy=0.378, batch_size=5778, loss=10.9, mae=1.08]\n",
      "100%|██████████| 104/104 [00:08<00:00, 12.62it/s, accuracy=0.449, batch_size=1656, loss=10.3, mae=0.862]\n",
      "Training, epoch 1:   0%|          | 0/362 [00:00<?, ?it/s]"
     ]
    },
    {
     "name": "stdout",
     "output_type": "stream",
     "text": [
      "{'mae': 0.8623188405797102, 'loss': 10.288094377748056, 'accuracy': 0.44867149758454106}\n"
     ]
    },
    {
     "name": "stderr",
     "output_type": "stream",
     "text": [
      "Training, epoch 1: 100%|██████████| 362/362 [01:25<00:00,  4.25it/s, accuracy=0.435, batch_size=5778, loss=10.1, mae=0.911]\n",
      "100%|██████████| 104/104 [00:07<00:00, 13.10it/s, accuracy=0.463, batch_size=1656, loss=9.7, mae=0.811] \n",
      "Training, epoch 2:   0%|          | 0/362 [00:00<?, ?it/s]"
     ]
    },
    {
     "name": "stdout",
     "output_type": "stream",
     "text": [
      "{'mae': 0.8109903381642513, 'loss': 9.70301434152944, 'accuracy': 0.46316425120772947}\n"
     ]
    },
    {
     "name": "stderr",
     "output_type": "stream",
     "text": [
      "Training, epoch 2: 100%|██████████| 362/362 [01:24<00:00,  4.28it/s, accuracy=0.468, batch_size=5778, loss=9.46, mae=0.803]\n",
      "100%|██████████| 104/104 [00:07<00:00, 13.06it/s, accuracy=0.506, batch_size=1656, loss=9.09, mae=0.719]\n",
      "Training, epoch 3:   0%|          | 0/362 [00:00<?, ?it/s]"
     ]
    },
    {
     "name": "stdout",
     "output_type": "stream",
     "text": [
      "{'mae': 0.7185990338164251, 'loss': 9.085844813913539, 'accuracy': 0.5060386473429952}\n"
     ]
    },
    {
     "name": "stderr",
     "output_type": "stream",
     "text": [
      "Training, epoch 3: 100%|██████████| 362/362 [01:25<00:00,  4.25it/s, accuracy=0.495, batch_size=5778, loss=8.97, mae=0.727]\n",
      "100%|██████████| 104/104 [00:08<00:00, 12.94it/s, accuracy=0.513, batch_size=1656, loss=8.8, mae=0.716] \n",
      "Training, epoch 4:   0%|          | 0/362 [00:00<?, ?it/s]"
     ]
    },
    {
     "name": "stdout",
     "output_type": "stream",
     "text": [
      "{'mae': 0.7155797101449275, 'loss': 8.804904276622091, 'accuracy': 0.5126811594202898}\n"
     ]
    },
    {
     "name": "stderr",
     "output_type": "stream",
     "text": [
      "Training, epoch 4: 100%|██████████| 362/362 [01:26<00:00,  4.17it/s, accuracy=0.506, batch_size=5778, loss=8.65, mae=0.697]\n",
      "100%|██████████| 104/104 [00:08<00:00, 12.58it/s, accuracy=0.483, batch_size=1656, loss=8.98, mae=0.722]\n",
      "Training, epoch 5:   0%|          | 0/362 [00:00<?, ?it/s]"
     ]
    },
    {
     "name": "stdout",
     "output_type": "stream",
     "text": [
      "{'mae': 0.7222222222222222, 'loss': 8.983004717435238, 'accuracy': 0.4830917874396135}\n"
     ]
    },
    {
     "name": "stderr",
     "output_type": "stream",
     "text": [
      "Training, epoch 5: 100%|██████████| 362/362 [01:28<00:00,  4.08it/s, accuracy=0.526, batch_size=5778, loss=8.31, mae=0.649]\n",
      "100%|██████████| 104/104 [00:08<00:00, 12.32it/s, accuracy=0.516, batch_size=1656, loss=8.62, mae=0.71] \n",
      "Training, epoch 6:   0%|          | 0/362 [00:00<?, ?it/s]"
     ]
    },
    {
     "name": "stdout",
     "output_type": "stream",
     "text": [
      "{'mae': 0.7095410628019324, 'loss': 8.624681901240695, 'accuracy': 0.5163043478260869}\n"
     ]
    },
    {
     "name": "stderr",
     "output_type": "stream",
     "text": [
      "Training, epoch 6: 100%|██████████| 362/362 [01:30<00:00,  4.02it/s, accuracy=0.547, batch_size=5778, loss=8.05, mae=0.612]\n",
      "100%|██████████| 104/104 [00:08<00:00, 12.25it/s, accuracy=0.519, batch_size=1656, loss=8.81, mae=0.72] \n",
      "Training, epoch 7:   0%|          | 0/362 [00:00<?, ?it/s]"
     ]
    },
    {
     "name": "stdout",
     "output_type": "stream",
     "text": [
      "{'mae': 0.7198067632850241, 'loss': 8.813828295555668, 'accuracy': 0.5193236714975845}\n"
     ]
    },
    {
     "name": "stderr",
     "output_type": "stream",
     "text": [
      "Training, epoch 7: 100%|██████████| 362/362 [01:29<00:00,  4.03it/s, accuracy=0.568, batch_size=5778, loss=7.74, mae=0.586]\n",
      "100%|██████████| 104/104 [00:08<00:00, 12.21it/s, accuracy=0.543, batch_size=1656, loss=8.36, mae=0.653]\n",
      "Training, epoch 8:   0%|          | 0/362 [00:00<?, ?it/s]"
     ]
    },
    {
     "name": "stdout",
     "output_type": "stream",
     "text": [
      "{'mae': 0.6527777777777778, 'loss': 8.363773392018489, 'accuracy': 0.5434782608695652}\n"
     ]
    },
    {
     "name": "stderr",
     "output_type": "stream",
     "text": [
      "Training, epoch 8: 100%|██████████| 362/362 [01:28<00:00,  4.09it/s, accuracy=0.573, batch_size=5778, loss=7.59, mae=0.574]\n",
      "100%|██████████| 104/104 [00:08<00:00, 12.97it/s, accuracy=0.586, batch_size=1656, loss=7.53, mae=0.576]\n",
      "Training, epoch 9:   0%|          | 0/362 [00:00<?, ?it/s]"
     ]
    },
    {
     "name": "stdout",
     "output_type": "stream",
     "text": [
      "{'mae': 0.5760869565217391, 'loss': 7.532977788344674, 'accuracy': 0.5857487922705314}\n"
     ]
    },
    {
     "name": "stderr",
     "output_type": "stream",
     "text": [
      "Training, epoch 9: 100%|██████████| 362/362 [01:24<00:00,  4.27it/s, accuracy=0.59, batch_size=5778, loss=7.37, mae=0.546] \n",
      "100%|██████████| 104/104 [00:07<00:00, 13.13it/s, accuracy=0.53, batch_size=1656, loss=8.33, mae=0.683] \n",
      "Training, epoch 10:   0%|          | 0/362 [00:00<?, ?it/s]"
     ]
    },
    {
     "name": "stdout",
     "output_type": "stream",
     "text": [
      "{'mae': 0.6829710144927537, 'loss': 8.331240057369362, 'accuracy': 0.5295893719806763}\n"
     ]
    },
    {
     "name": "stderr",
     "output_type": "stream",
     "text": [
      "Training, epoch 10: 100%|██████████| 362/362 [01:25<00:00,  4.24it/s, accuracy=0.598, batch_size=5778, loss=7.21, mae=0.532]\n",
      "100%|██████████| 104/104 [00:08<00:00, 12.87it/s, accuracy=0.614, batch_size=1656, loss=7.07, mae=0.506]\n",
      "Training, epoch 11:   0%|          | 0/362 [00:00<?, ?it/s]"
     ]
    },
    {
     "name": "stdout",
     "output_type": "stream",
     "text": [
      "{'mae': 0.5060386473429952, 'loss': 7.070166442705237, 'accuracy': 0.6141304347826086}\n"
     ]
    },
    {
     "name": "stderr",
     "output_type": "stream",
     "text": [
      "Training, epoch 11: 100%|██████████| 362/362 [01:26<00:00,  4.17it/s, accuracy=0.615, batch_size=5778, loss=6.94, mae=0.504]\n",
      "100%|██████████| 104/104 [00:08<00:00, 12.65it/s, accuracy=0.619, batch_size=1656, loss=6.9, mae=0.51]  \n",
      "Training, epoch 12:   0%|          | 0/362 [00:00<?, ?it/s]"
     ]
    },
    {
     "name": "stdout",
     "output_type": "stream",
     "text": [
      "{'mae': 0.5102657004830918, 'loss': 6.897043896182148, 'accuracy': 0.6189613526570048}\n"
     ]
    },
    {
     "name": "stderr",
     "output_type": "stream",
     "text": [
      "Training, epoch 12: 100%|██████████| 362/362 [01:28<00:00,  4.09it/s, accuracy=0.623, batch_size=5778, loss=6.81, mae=0.493]\n",
      "100%|██████████| 104/104 [00:08<00:00, 12.25it/s, accuracy=0.612, batch_size=1656, loss=7.3, mae=0.543] \n",
      "Training, epoch 13:   0%|          | 0/362 [00:00<?, ?it/s]"
     ]
    },
    {
     "name": "stdout",
     "output_type": "stream",
     "text": [
      "{'mae': 0.5428743961352657, 'loss': 7.304882862717633, 'accuracy': 0.6117149758454107}\n"
     ]
    },
    {
     "name": "stderr",
     "output_type": "stream",
     "text": [
      "Training, epoch 13: 100%|██████████| 362/362 [01:29<00:00,  4.02it/s, accuracy=0.638, batch_size=5778, loss=6.58, mae=0.464]\n",
      "100%|██████████| 104/104 [00:08<00:00, 12.29it/s, accuracy=0.621, batch_size=1656, loss=6.88, mae=0.505]\n",
      "Training, epoch 14:   0%|          | 0/362 [00:00<?, ?it/s]"
     ]
    },
    {
     "name": "stdout",
     "output_type": "stream",
     "text": [
      "{'mae': 0.5054347826086957, 'loss': 6.8816569415843425, 'accuracy': 0.6207729468599034}\n"
     ]
    },
    {
     "name": "stderr",
     "output_type": "stream",
     "text": [
      "Training, epoch 14: 100%|██████████| 362/362 [01:30<00:00,  4.02it/s, accuracy=0.637, batch_size=5778, loss=6.52, mae=0.466]\n",
      "100%|██████████| 104/104 [00:08<00:00, 12.33it/s, accuracy=0.614, batch_size=1656, loss=7.07, mae=0.525]\n",
      "Training, epoch 15:   0%|          | 0/362 [00:00<?, ?it/s]"
     ]
    },
    {
     "name": "stdout",
     "output_type": "stream",
     "text": [
      "{'mae': 0.5253623188405797, 'loss': 7.068814320264807, 'accuracy': 0.6141304347826086}\n"
     ]
    },
    {
     "name": "stderr",
     "output_type": "stream",
     "text": [
      "Training, epoch 15: 100%|██████████| 362/362 [01:29<00:00,  4.04it/s, accuracy=0.648, batch_size=5778, loss=6.38, mae=0.445]\n",
      "100%|██████████| 104/104 [00:08<00:00, 12.36it/s, accuracy=0.62, batch_size=1656, loss=6.92, mae=0.508] \n",
      "Training, epoch 16:   0%|          | 0/362 [00:00<?, ?it/s]"
     ]
    },
    {
     "name": "stdout",
     "output_type": "stream",
     "text": [
      "{'mae': 0.5084541062801933, 'loss': 6.918483006205536, 'accuracy': 0.6201690821256038}\n"
     ]
    },
    {
     "name": "stderr",
     "output_type": "stream",
     "text": [
      "Training, epoch 16: 100%|██████████| 362/362 [01:29<00:00,  4.05it/s, accuracy=0.651, batch_size=5778, loss=6.29, mae=0.441]\n",
      "100%|██████████| 104/104 [00:08<00:00, 12.46it/s, accuracy=0.514, batch_size=1656, loss=10.8, mae=0.756]\n",
      "Training, epoch 17:   0%|          | 0/362 [00:00<?, ?it/s]"
     ]
    },
    {
     "name": "stdout",
     "output_type": "stream",
     "text": [
      "{'mae': 0.7560386473429952, 'loss': 10.794653743937396, 'accuracy': 0.5138888888888888}\n"
     ]
    },
    {
     "name": "stderr",
     "output_type": "stream",
     "text": [
      "Training, epoch 17: 100%|██████████| 362/362 [01:29<00:00,  4.03it/s, accuracy=0.653, batch_size=5778, loss=6.18, mae=0.436]\n",
      "100%|██████████| 104/104 [00:08<00:00, 12.49it/s, accuracy=0.609, batch_size=1656, loss=7, mae=0.492]   \n",
      "Training, epoch 18:   0%|          | 0/362 [00:00<?, ?it/s]"
     ]
    },
    {
     "name": "stdout",
     "output_type": "stream",
     "text": [
      "{'mae': 0.4921497584541063, 'loss': 6.998340263458842, 'accuracy': 0.6086956521739131}\n"
     ]
    },
    {
     "name": "stderr",
     "output_type": "stream",
     "text": [
      "Training, epoch 18: 100%|██████████| 362/362 [01:29<00:00,  4.05it/s, accuracy=0.668, batch_size=5778, loss=6.07, mae=0.417]\n",
      "100%|██████████| 104/104 [00:08<00:00, 12.12it/s, accuracy=0.65, batch_size=1656, loss=6.46, mae=0.442]\n",
      "Training, epoch 19:   0%|          | 0/362 [00:00<?, ?it/s]"
     ]
    },
    {
     "name": "stdout",
     "output_type": "stream",
     "text": [
      "{'mae': 0.4420289855072464, 'loss': 6.461970257874272, 'accuracy': 0.6497584541062802}\n"
     ]
    },
    {
     "name": "stderr",
     "output_type": "stream",
     "text": [
      "Training, epoch 19: 100%|██████████| 362/362 [01:30<00:00,  4.01it/s, accuracy=0.675, batch_size=5778, loss=5.95, mae=0.407]\n",
      "100%|██████████| 104/104 [00:08<00:00, 12.39it/s, accuracy=0.65, batch_size=1656, loss=6.38, mae=0.443] \n"
     ]
    },
    {
     "name": "stdout",
     "output_type": "stream",
     "text": [
      "{'mae': 0.4426328502415459, 'loss': 6.376185644076067, 'accuracy': 0.6503623188405797}\n"
     ]
    },
    {
     "name": "stderr",
     "output_type": "stream",
     "text": [
      "Training, epoch 0: 100%|██████████| 362/362 [01:29<00:00,  4.03it/s, accuracy=0.38, batch_size=5778, loss=12.2, mae=1.04] \n",
      "100%|██████████| 104/104 [00:08<00:00, 12.33it/s, accuracy=0.464, batch_size=1656, loss=11.5, mae=0.873]\n",
      "Training, epoch 1:   0%|          | 0/362 [00:00<?, ?it/s]"
     ]
    },
    {
     "name": "stdout",
     "output_type": "stream",
     "text": [
      "{'mae': 0.8731884057971014, 'loss': 11.497693361291564, 'accuracy': 0.4643719806763285}\n"
     ]
    },
    {
     "name": "stderr",
     "output_type": "stream",
     "text": [
      "Training, epoch 1: 100%|██████████| 362/362 [01:29<00:00,  4.03it/s, accuracy=0.436, batch_size=5778, loss=11.3, mae=0.889]\n",
      "100%|██████████| 104/104 [00:08<00:00, 12.40it/s, accuracy=0.493, batch_size=1656, loss=10.8, mae=0.792]\n",
      "Training, epoch 2:   0%|          | 0/362 [00:00<?, ?it/s]"
     ]
    },
    {
     "name": "stdout",
     "output_type": "stream",
     "text": [
      "{'mae': 0.7916666666666666, 'loss': 10.795710089126072, 'accuracy': 0.49335748792270534}\n"
     ]
    },
    {
     "name": "stderr",
     "output_type": "stream",
     "text": [
      "Training, epoch 2: 100%|██████████| 362/362 [01:29<00:00,  4.02it/s, accuracy=0.463, batch_size=5778, loss=10.6, mae=0.791]\n",
      "100%|██████████| 104/104 [00:08<00:00, 12.39it/s, accuracy=0.463, batch_size=1656, loss=11.1, mae=0.864]\n",
      "Training, epoch 3:   0%|          | 0/362 [00:00<?, ?it/s]"
     ]
    },
    {
     "name": "stdout",
     "output_type": "stream",
     "text": [
      "{'mae': 0.8635265700483091, 'loss': 11.136536496848876, 'accuracy': 0.46316425120772947}\n"
     ]
    },
    {
     "name": "stderr",
     "output_type": "stream",
     "text": [
      "Training, epoch 3: 100%|██████████| 362/362 [01:29<00:00,  4.04it/s, accuracy=0.508, batch_size=5778, loss=10, mae=0.693]  \n",
      "100%|██████████| 104/104 [00:08<00:00, 12.38it/s, accuracy=0.487, batch_size=1656, loss=9.91, mae=0.689]\n",
      "Training, epoch 4:   0%|          | 0/362 [00:00<?, ?it/s]"
     ]
    },
    {
     "name": "stdout",
     "output_type": "stream",
     "text": [
      "{'mae': 0.6890096618357487, 'loss': 9.907733212346615, 'accuracy': 0.48731884057971014}\n"
     ]
    },
    {
     "name": "stderr",
     "output_type": "stream",
     "text": [
      "Training, epoch 4: 100%|██████████| 362/362 [01:29<00:00,  4.04it/s, accuracy=0.515, batch_size=5778, loss=9.58, mae=0.667]\n",
      "100%|██████████| 104/104 [00:08<00:00, 12.41it/s, accuracy=0.486, batch_size=1656, loss=10.5, mae=0.776]\n",
      "Training, epoch 5:   0%|          | 0/362 [00:00<?, ?it/s]"
     ]
    },
    {
     "name": "stdout",
     "output_type": "stream",
     "text": [
      "{'mae': 0.7759661835748792, 'loss': 10.450173606043277, 'accuracy': 0.4861111111111111}\n"
     ]
    },
    {
     "name": "stderr",
     "output_type": "stream",
     "text": [
      "Training, epoch 5: 100%|██████████| 362/362 [01:29<00:00,  4.05it/s, accuracy=0.536, batch_size=5778, loss=9.22, mae=0.629]\n",
      "100%|██████████| 104/104 [00:08<00:00, 12.37it/s, accuracy=0.559, batch_size=1656, loss=8.99, mae=0.604]\n",
      "Training, epoch 6:   0%|          | 0/362 [00:00<?, ?it/s]"
     ]
    },
    {
     "name": "stdout",
     "output_type": "stream",
     "text": [
      "{'mae': 0.6044685990338164, 'loss': 8.992861346922059, 'accuracy': 0.5585748792270532}\n"
     ]
    },
    {
     "name": "stderr",
     "output_type": "stream",
     "text": [
      "Training, epoch 6: 100%|██████████| 362/362 [01:29<00:00,  4.04it/s, accuracy=0.553, batch_size=5778, loss=8.86, mae=0.594]\n",
      "100%|██████████| 104/104 [00:08<00:00, 12.22it/s, accuracy=0.539, batch_size=1656, loss=9.25, mae=0.656]\n",
      "Training, epoch 7:   0%|          | 0/362 [00:00<?, ?it/s]"
     ]
    },
    {
     "name": "stdout",
     "output_type": "stream",
     "text": [
      "{'mae': 0.6557971014492754, 'loss': 9.253259753259483, 'accuracy': 0.5392512077294686}\n"
     ]
    },
    {
     "name": "stderr",
     "output_type": "stream",
     "text": [
      "Training, epoch 7: 100%|██████████| 362/362 [01:29<00:00,  4.04it/s, accuracy=0.581, batch_size=5778, loss=8.54, mae=0.553]\n",
      "100%|██████████| 104/104 [00:08<00:00, 12.42it/s, accuracy=0.591, batch_size=1656, loss=8.36, mae=0.537]\n",
      "Training, epoch 8:   0%|          | 0/362 [00:00<?, ?it/s]"
     ]
    },
    {
     "name": "stdout",
     "output_type": "stream",
     "text": [
      "{'mae': 0.5374396135265701, 'loss': 8.363214179513536, 'accuracy': 0.5905797101449275}\n"
     ]
    },
    {
     "name": "stderr",
     "output_type": "stream",
     "text": [
      "Training, epoch 8: 100%|██████████| 362/362 [01:29<00:00,  4.04it/s, accuracy=0.583, batch_size=5778, loss=8.29, mae=0.546]\n",
      "100%|██████████| 104/104 [00:08<00:00, 12.38it/s, accuracy=0.497, batch_size=1656, loss=11.2, mae=0.766]\n",
      "Training, epoch 9:   0%|          | 0/362 [00:00<?, ?it/s]"
     ]
    },
    {
     "name": "stdout",
     "output_type": "stream",
     "text": [
      "{'mae': 0.7663043478260869, 'loss': 11.230571422024049, 'accuracy': 0.4969806763285024}\n"
     ]
    },
    {
     "name": "stderr",
     "output_type": "stream",
     "text": [
      "Training, epoch 9: 100%|██████████| 362/362 [01:29<00:00,  4.03it/s, accuracy=0.595, batch_size=5778, loss=8.12, mae=0.528]\n",
      "100%|██████████| 104/104 [00:08<00:00, 12.17it/s, accuracy=0.575, batch_size=1656, loss=8.96, mae=0.611]\n",
      "Training, epoch 10:   0%|          | 0/362 [00:00<?, ?it/s]"
     ]
    },
    {
     "name": "stdout",
     "output_type": "stream",
     "text": [
      "{'mae': 0.6105072463768116, 'loss': 8.963955549802181, 'accuracy': 0.5748792270531401}\n"
     ]
    },
    {
     "name": "stderr",
     "output_type": "stream",
     "text": [
      "Training, epoch 10: 100%|██████████| 362/362 [01:30<00:00,  4.02it/s, accuracy=0.61, batch_size=5778, loss=7.85, mae=0.504] \n",
      "100%|██████████| 104/104 [00:08<00:00, 12.33it/s, accuracy=0.618, batch_size=1656, loss=7.77, mae=0.5]  \n",
      "Training, epoch 11:   0%|          | 0/362 [00:00<?, ?it/s]"
     ]
    },
    {
     "name": "stdout",
     "output_type": "stream",
     "text": [
      "{'mae': 0.5, 'loss': 7.773317763194946, 'accuracy': 0.6177536231884058}\n"
     ]
    },
    {
     "name": "stderr",
     "output_type": "stream",
     "text": [
      "Training, epoch 11: 100%|██████████| 362/362 [01:29<00:00,  4.03it/s, accuracy=0.622, batch_size=5778, loss=7.59, mae=0.479]\n",
      "100%|██████████| 104/104 [00:08<00:00, 12.33it/s, accuracy=0.591, batch_size=1656, loss=8.58, mae=0.566]\n",
      "Training, epoch 12:   0%|          | 0/362 [00:00<?, ?it/s]"
     ]
    },
    {
     "name": "stdout",
     "output_type": "stream",
     "text": [
      "{'mae': 0.5658212560386473, 'loss': 8.58209570709634, 'accuracy': 0.5905797101449275}\n"
     ]
    },
    {
     "name": "stderr",
     "output_type": "stream",
     "text": [
      "Training, epoch 12: 100%|██████████| 362/362 [01:29<00:00,  4.03it/s, accuracy=0.626, batch_size=5778, loss=7.5, mae=0.475] \n",
      "100%|██████████| 104/104 [00:08<00:00, 12.36it/s, accuracy=0.617, batch_size=1656, loss=7.77, mae=0.495]\n",
      "Training, epoch 13:   0%|          | 0/362 [00:00<?, ?it/s]"
     ]
    },
    {
     "name": "stdout",
     "output_type": "stream",
     "text": [
      "{'mae': 0.4945652173913043, 'loss': 7.767128783147692, 'accuracy': 0.6171497584541062}\n"
     ]
    },
    {
     "name": "stderr",
     "output_type": "stream",
     "text": [
      "Training, epoch 13: 100%|██████████| 362/362 [01:29<00:00,  4.03it/s, accuracy=0.637, batch_size=5778, loss=7.32, mae=0.458]\n",
      "100%|██████████| 104/104 [00:08<00:00, 12.20it/s, accuracy=0.614, batch_size=1656, loss=7.78, mae=0.492]\n",
      "Training, epoch 14:   0%|          | 0/362 [00:00<?, ?it/s]"
     ]
    },
    {
     "name": "stdout",
     "output_type": "stream",
     "text": [
      "{'mae': 0.4915458937198068, 'loss': 7.777769144030585, 'accuracy': 0.6135265700483091}\n"
     ]
    },
    {
     "name": "stderr",
     "output_type": "stream",
     "text": [
      "Training, epoch 14: 100%|██████████| 362/362 [01:29<00:00,  4.03it/s, accuracy=0.653, batch_size=5778, loss=7.13, mae=0.434]\n",
      "100%|██████████| 104/104 [00:08<00:00, 12.38it/s, accuracy=0.607, batch_size=1656, loss=8.03, mae=0.52] \n",
      "Training, epoch 15:   0%|          | 0/362 [00:00<?, ?it/s]"
     ]
    },
    {
     "name": "stdout",
     "output_type": "stream",
     "text": [
      "{'mae': 0.519927536231884, 'loss': 8.026134542796923, 'accuracy': 0.607487922705314}\n"
     ]
    },
    {
     "name": "stderr",
     "output_type": "stream",
     "text": [
      "Training, epoch 15: 100%|██████████| 362/362 [01:29<00:00,  4.03it/s, accuracy=0.659, batch_size=5778, loss=6.93, mae=0.421]\n",
      "100%|██████████| 104/104 [00:08<00:00, 12.26it/s, accuracy=0.57, batch_size=1656, loss=9.66, mae=0.614] \n",
      "Training, epoch 16:   0%|          | 0/362 [00:00<?, ?it/s]"
     ]
    },
    {
     "name": "stdout",
     "output_type": "stream",
     "text": [
      "{'mae': 0.6141304347826086, 'loss': 9.661402129896597, 'accuracy': 0.5700483091787439}\n"
     ]
    },
    {
     "name": "stderr",
     "output_type": "stream",
     "text": [
      "Training, epoch 16: 100%|██████████| 362/362 [01:29<00:00,  4.03it/s, accuracy=0.665, batch_size=5778, loss=6.81, mae=0.412]\n",
      "100%|██████████| 104/104 [00:08<00:00, 12.22it/s, accuracy=0.63, batch_size=1656, loss=7.63, mae=0.47]  \n",
      "Training, epoch 17:   0%|          | 0/362 [00:00<?, ?it/s]"
     ]
    },
    {
     "name": "stdout",
     "output_type": "stream",
     "text": [
      "{'mae': 0.47041062801932365, 'loss': 7.628435294985195, 'accuracy': 0.6304347826086957}\n"
     ]
    },
    {
     "name": "stderr",
     "output_type": "stream",
     "text": [
      "Training, epoch 17: 100%|██████████| 362/362 [01:29<00:00,  4.03it/s, accuracy=0.667, batch_size=5778, loss=6.68, mae=0.409]\n",
      "100%|██████████| 104/104 [00:08<00:00, 12.38it/s, accuracy=0.635, batch_size=1656, loss=7.72, mae=0.481]\n",
      "Training, epoch 18:   0%|          | 0/362 [00:00<?, ?it/s]"
     ]
    },
    {
     "name": "stdout",
     "output_type": "stream",
     "text": [
      "{'mae': 0.4806763285024155, 'loss': 7.720028941758013, 'accuracy': 0.6346618357487923}\n"
     ]
    },
    {
     "name": "stderr",
     "output_type": "stream",
     "text": [
      "Training, epoch 18: 100%|██████████| 362/362 [01:29<00:00,  4.03it/s, accuracy=0.677, batch_size=5778, loss=6.55, mae=0.394]\n",
      "100%|██████████| 104/104 [00:08<00:00, 12.27it/s, accuracy=0.638, batch_size=1656, loss=7.26, mae=0.438]\n",
      "Training, epoch 19:   0%|          | 0/362 [00:00<?, ?it/s]"
     ]
    },
    {
     "name": "stdout",
     "output_type": "stream",
     "text": [
      "{'mae': 0.4384057971014493, 'loss': 7.26218563347047, 'accuracy': 0.6382850241545893}\n"
     ]
    },
    {
     "name": "stderr",
     "output_type": "stream",
     "text": [
      "Training, epoch 19: 100%|██████████| 362/362 [01:29<00:00,  4.04it/s, accuracy=0.689, batch_size=5778, loss=6.45, mae=0.375]\n",
      "100%|██████████| 104/104 [00:08<00:00, 12.43it/s, accuracy=0.386, batch_size=1656, loss=13.9, mae=0.907]\n"
     ]
    },
    {
     "name": "stdout",
     "output_type": "stream",
     "text": [
      "{'mae': 0.9070048309178744, 'loss': 13.852027894794077, 'accuracy': 0.3858695652173913}\n"
     ]
    },
    {
     "name": "stderr",
     "output_type": "stream",
     "text": [
      "Training, epoch 0: 100%|██████████| 362/362 [01:29<00:00,  4.03it/s, accuracy=0.386, batch_size=5778, loss=16.5, mae=1.12]\n",
      "100%|██████████| 104/104 [00:08<00:00, 12.41it/s, accuracy=0.444, batch_size=1656, loss=15.7, mae=1.01] \n",
      "Training, epoch 1:   0%|          | 0/362 [00:00<?, ?it/s]"
     ]
    },
    {
     "name": "stdout",
     "output_type": "stream",
     "text": [
      "{'mae': 1.0114734299516908, 'loss': 15.701423479163129, 'accuracy': 0.4438405797101449}\n"
     ]
    },
    {
     "name": "stderr",
     "output_type": "stream",
     "text": [
      "Training, epoch 1: 100%|██████████| 362/362 [01:29<00:00,  4.03it/s, accuracy=0.443, batch_size=5778, loss=15.4, mae=0.924]\n",
      "100%|██████████| 104/104 [00:08<00:00, 12.31it/s, accuracy=0.453, batch_size=1656, loss=15.1, mae=0.947]\n",
      "Training, epoch 2:   0%|          | 0/362 [00:00<?, ?it/s]"
     ]
    },
    {
     "name": "stdout",
     "output_type": "stream",
     "text": [
      "{'mae': 0.9468599033816425, 'loss': 15.08060952430762, 'accuracy': 0.4528985507246377}\n"
     ]
    },
    {
     "name": "stderr",
     "output_type": "stream",
     "text": [
      "Training, epoch 2: 100%|██████████| 362/362 [01:29<00:00,  4.03it/s, accuracy=0.474, batch_size=5778, loss=14.4, mae=0.803]\n",
      "100%|██████████| 104/104 [00:08<00:00, 12.34it/s, accuracy=0.504, batch_size=1656, loss=13.9, mae=0.754]\n",
      "Training, epoch 3:   0%|          | 0/362 [00:00<?, ?it/s]"
     ]
    },
    {
     "name": "stdout",
     "output_type": "stream",
     "text": [
      "{'mae': 0.7542270531400966, 'loss': 13.85338919174268, 'accuracy': 0.5042270531400966}\n"
     ]
    },
    {
     "name": "stderr",
     "output_type": "stream",
     "text": [
      "Training, epoch 3: 100%|██████████| 362/362 [01:30<00:00,  4.02it/s, accuracy=0.504, batch_size=5778, loss=13.5, mae=0.727]\n",
      "100%|██████████| 104/104 [00:08<00:00, 12.35it/s, accuracy=0.486, batch_size=1656, loss=13.7, mae=0.726]\n",
      "Training, epoch 4:   0%|          | 0/362 [00:00<?, ?it/s]"
     ]
    },
    {
     "name": "stdout",
     "output_type": "stream",
     "text": [
      "{'mae': 0.7264492753623188, 'loss': 13.71886047879279, 'accuracy': 0.4861111111111111}\n"
     ]
    },
    {
     "name": "stderr",
     "output_type": "stream",
     "text": [
      "Training, epoch 4: 100%|██████████| 362/362 [01:29<00:00,  4.02it/s, accuracy=0.521, batch_size=5778, loss=13, mae=0.682]  \n",
      "100%|██████████| 104/104 [00:08<00:00, 12.35it/s, accuracy=0.539, batch_size=1656, loss=12.6, mae=0.636]\n",
      "Training, epoch 5:   0%|          | 0/362 [00:00<?, ?it/s]"
     ]
    },
    {
     "name": "stdout",
     "output_type": "stream",
     "text": [
      "{'mae': 0.6364734299516909, 'loss': 12.625391006469727, 'accuracy': 0.538647342995169}\n"
     ]
    },
    {
     "name": "stderr",
     "output_type": "stream",
     "text": [
      "Training, epoch 5: 100%|██████████| 362/362 [01:36<00:00,  3.77it/s, accuracy=0.548, batch_size=5778, loss=12.3, mae=0.616]\n",
      "100%|██████████| 104/104 [00:08<00:00, 12.32it/s, accuracy=0.497, batch_size=1656, loss=14.6, mae=0.795]\n",
      "Training, epoch 6:   0%|          | 0/362 [00:00<?, ?it/s]"
     ]
    },
    {
     "name": "stdout",
     "output_type": "stream",
     "text": [
      "{'mae': 0.7952898550724637, 'loss': 14.599245499873508, 'accuracy': 0.4969806763285024}\n"
     ]
    },
    {
     "name": "stderr",
     "output_type": "stream",
     "text": [
      "Training, epoch 6: 100%|██████████| 362/362 [01:29<00:00,  4.03it/s, accuracy=0.573, batch_size=5778, loss=11.8, mae=0.586]\n",
      "100%|██████████| 104/104 [00:08<00:00, 12.42it/s, accuracy=0.583, batch_size=1656, loss=11.5, mae=0.573]\n",
      "Training, epoch 7:   0%|          | 0/362 [00:00<?, ?it/s]"
     ]
    },
    {
     "name": "stdout",
     "output_type": "stream",
     "text": [
      "{'mae': 0.5730676328502415, 'loss': 11.455740606151341, 'accuracy': 0.5833333333333334}\n"
     ]
    },
    {
     "name": "stderr",
     "output_type": "stream",
     "text": [
      "Training, epoch 7: 100%|██████████| 362/362 [01:29<00:00,  4.04it/s, accuracy=0.59, batch_size=5778, loss=11.3, mae=0.548] \n",
      "100%|██████████| 104/104 [00:08<00:00, 12.45it/s, accuracy=0.591, batch_size=1656, loss=11.3, mae=0.563]\n",
      "Training, epoch 8:   0%|          | 0/362 [00:00<?, ?it/s]"
     ]
    },
    {
     "name": "stdout",
     "output_type": "stream",
     "text": [
      "{'mae': 0.5634057971014492, 'loss': 11.29410880084199, 'accuracy': 0.5905797101449275}\n"
     ]
    },
    {
     "name": "stderr",
     "output_type": "stream",
     "text": [
      "Training, epoch 8: 100%|██████████| 362/362 [01:29<00:00,  4.03it/s, accuracy=0.607, batch_size=5778, loss=10.8, mae=0.527]\n",
      "100%|██████████| 104/104 [00:08<00:00, 12.38it/s, accuracy=0.621, batch_size=1656, loss=10.7, mae=0.518]\n",
      "Training, epoch 9:   0%|          | 0/362 [00:00<?, ?it/s]"
     ]
    },
    {
     "name": "stdout",
     "output_type": "stream",
     "text": [
      "{'mae': 0.517512077294686, 'loss': 10.655271728257626, 'accuracy': 0.6207729468599034}\n"
     ]
    },
    {
     "name": "stderr",
     "output_type": "stream",
     "text": [
      "Training, epoch 9: 100%|██████████| 362/362 [01:29<00:00,  4.03it/s, accuracy=0.616, batch_size=5778, loss=10.6, mae=0.512]\n",
      "100%|██████████| 104/104 [00:08<00:00, 12.40it/s, accuracy=0.622, batch_size=1656, loss=10.5, mae=0.492]\n",
      "Training, epoch 10:   0%|          | 0/362 [00:00<?, ?it/s]"
     ]
    },
    {
     "name": "stdout",
     "output_type": "stream",
     "text": [
      "{'mae': 0.4915458937198068, 'loss': 10.507375574342294, 'accuracy': 0.6219806763285024}\n"
     ]
    },
    {
     "name": "stderr",
     "output_type": "stream",
     "text": [
      "Training, epoch 10: 100%|██████████| 362/362 [01:29<00:00,  4.03it/s, accuracy=0.639, batch_size=5778, loss=10, mae=0.473]  \n",
      "100%|██████████| 104/104 [00:08<00:00, 12.27it/s, accuracy=0.62, batch_size=1656, loss=10.4, mae=0.465] \n",
      "Training, epoch 11:   0%|          | 0/362 [00:00<?, ?it/s]"
     ]
    },
    {
     "name": "stdout",
     "output_type": "stream",
     "text": [
      "{'mae': 0.46497584541062803, 'loss': 10.361978540098034, 'accuracy': 0.6201690821256038}\n"
     ]
    },
    {
     "name": "stderr",
     "output_type": "stream",
     "text": [
      "Training, epoch 11: 100%|██████████| 362/362 [01:30<00:00,  4.02it/s, accuracy=0.648, batch_size=5778, loss=9.88, mae=0.458]\n",
      "100%|██████████| 104/104 [00:08<00:00, 12.26it/s, accuracy=0.606, batch_size=1656, loss=11.2, mae=0.55] \n",
      "Training, epoch 12:   0%|          | 0/362 [00:00<?, ?it/s]"
     ]
    },
    {
     "name": "stdout",
     "output_type": "stream",
     "text": [
      "{'mae': 0.5501207729468599, 'loss': 11.196712947698032, 'accuracy': 0.606280193236715}\n"
     ]
    },
    {
     "name": "stderr",
     "output_type": "stream",
     "text": [
      "Training, epoch 12: 100%|██████████| 362/362 [01:29<00:00,  4.02it/s, accuracy=0.661, batch_size=5778, loss=9.51, mae=0.433]\n",
      "100%|██████████| 104/104 [00:08<00:00, 12.30it/s, accuracy=0.643, batch_size=1656, loss=10.1, mae=0.473]\n",
      "Training, epoch 13:   0%|          | 0/362 [00:00<?, ?it/s]"
     ]
    },
    {
     "name": "stdout",
     "output_type": "stream",
     "text": [
      "{'mae': 0.47282608695652173, 'loss': 10.101763545602992, 'accuracy': 0.642512077294686}\n"
     ]
    },
    {
     "name": "stderr",
     "output_type": "stream",
     "text": [
      "Training, epoch 13: 100%|██████████| 362/362 [01:29<00:00,  4.02it/s, accuracy=0.664, batch_size=5778, loss=9.23, mae=0.431]\n",
      "100%|██████████| 104/104 [00:08<00:00, 12.36it/s, accuracy=0.651, batch_size=1656, loss=9.8, mae=0.428] \n",
      "Training, epoch 14:   0%|          | 0/362 [00:00<?, ?it/s]"
     ]
    },
    {
     "name": "stdout",
     "output_type": "stream",
     "text": [
      "{'mae': 0.4281400966183575, 'loss': 9.800259345971444, 'accuracy': 0.6509661835748792}\n"
     ]
    },
    {
     "name": "stderr",
     "output_type": "stream",
     "text": [
      "Training, epoch 14: 100%|██████████| 362/362 [01:29<00:00,  4.04it/s, accuracy=0.677, batch_size=5778, loss=9.02, mae=0.404]\n",
      "100%|██████████| 104/104 [00:08<00:00, 12.37it/s, accuracy=0.557, batch_size=1656, loss=12.7, mae=0.623]\n",
      "Training, epoch 15:   0%|          | 0/362 [00:00<?, ?it/s]"
     ]
    },
    {
     "name": "stdout",
     "output_type": "stream",
     "text": [
      "{'mae': 0.6231884057971014, 'loss': 12.727068371242947, 'accuracy': 0.5573671497584541}\n"
     ]
    },
    {
     "name": "stderr",
     "output_type": "stream",
     "text": [
      "Training, epoch 15: 100%|██████████| 362/362 [01:29<00:00,  4.03it/s, accuracy=0.681, batch_size=5778, loss=8.87, mae=0.403]\n",
      "100%|██████████| 104/104 [00:08<00:00, 12.34it/s, accuracy=0.657, batch_size=1656, loss=9.69, mae=0.437]\n",
      "Training, epoch 16:   0%|          | 0/362 [00:00<?, ?it/s]"
     ]
    },
    {
     "name": "stdout",
     "output_type": "stream",
     "text": [
      "{'mae': 0.43719806763285024, 'loss': 9.693591415018275, 'accuracy': 0.6570048309178744}\n"
     ]
    },
    {
     "name": "stderr",
     "output_type": "stream",
     "text": [
      "Training, epoch 16: 100%|██████████| 362/362 [01:29<00:00,  4.05it/s, accuracy=0.692, batch_size=5778, loss=8.58, mae=0.383]\n",
      "100%|██████████| 104/104 [00:08<00:00, 12.33it/s, accuracy=0.585, batch_size=1656, loss=12.1, mae=0.582]\n",
      "Training, epoch 17:   0%|          | 0/362 [00:00<?, ?it/s]"
     ]
    },
    {
     "name": "stdout",
     "output_type": "stream",
     "text": [
      "{'mae': 0.5821256038647343, 'loss': 12.146115309950234, 'accuracy': 0.5851449275362319}\n"
     ]
    },
    {
     "name": "stderr",
     "output_type": "stream",
     "text": [
      "Training, epoch 17: 100%|██████████| 362/362 [01:30<00:00,  4.02it/s, accuracy=0.701, batch_size=5778, loss=8.34, mae=0.367]\n",
      "100%|██████████| 104/104 [00:08<00:00, 12.33it/s, accuracy=0.659, batch_size=1656, loss=9.58, mae=0.419]\n",
      "Training, epoch 18:   0%|          | 0/362 [00:00<?, ?it/s]"
     ]
    },
    {
     "name": "stdout",
     "output_type": "stream",
     "text": [
      "{'mae': 0.4190821256038647, 'loss': 9.578913679445423, 'accuracy': 0.6594202898550725}\n"
     ]
    },
    {
     "name": "stderr",
     "output_type": "stream",
     "text": [
      "Training, epoch 18: 100%|██████████| 362/362 [01:29<00:00,  4.04it/s, accuracy=0.704, batch_size=5778, loss=8.2, mae=0.358] \n",
      "100%|██████████| 104/104 [00:08<00:00, 12.32it/s, accuracy=0.527, batch_size=1656, loss=14.7, mae=0.681]\n",
      "Training, epoch 19:   0%|          | 0/362 [00:00<?, ?it/s]"
     ]
    },
    {
     "name": "stdout",
     "output_type": "stream",
     "text": [
      "{'mae': 0.6805555555555556, 'loss': 14.719502144965572, 'accuracy': 0.5271739130434783}\n"
     ]
    },
    {
     "name": "stderr",
     "output_type": "stream",
     "text": [
      "Training, epoch 19: 100%|██████████| 362/362 [01:29<00:00,  4.03it/s, accuracy=0.71, batch_size=5778, loss=8.07, mae=0.354] \n",
      "100%|██████████| 104/104 [00:08<00:00, 12.46it/s, accuracy=0.648, batch_size=1656, loss=9.79, mae=0.429]\n"
     ]
    },
    {
     "name": "stdout",
     "output_type": "stream",
     "text": [
      "{'mae': 0.42934782608695654, 'loss': 9.785903239595717, 'accuracy': 0.6479468599033816}\n"
     ]
    },
    {
     "name": "stderr",
     "output_type": "stream",
     "text": [
      "Training, epoch 0: 100%|██████████| 362/362 [01:29<00:00,  4.04it/s, accuracy=0.381, batch_size=5778, loss=17.8, mae=1.09]\n",
      "100%|██████████| 104/104 [00:08<00:00, 12.42it/s, accuracy=0.452, batch_size=1656, loss=16.7, mae=0.969]\n",
      "Training, epoch 1:   0%|          | 0/362 [00:00<?, ?it/s]"
     ]
    },
    {
     "name": "stdout",
     "output_type": "stream",
     "text": [
      "{'mae': 0.9692028985507246, 'loss': 16.665768932029245, 'accuracy': 0.45169082125603865}\n"
     ]
    },
    {
     "name": "stderr",
     "output_type": "stream",
     "text": [
      "Training, epoch 1: 100%|██████████| 362/362 [01:29<00:00,  4.05it/s, accuracy=0.454, batch_size=5778, loss=16.3, mae=0.872]\n",
      "100%|██████████| 104/104 [00:08<00:00, 12.42it/s, accuracy=0.505, batch_size=1656, loss=15.3, mae=0.737]\n",
      "Training, epoch 2:   0%|          | 0/362 [00:00<?, ?it/s]"
     ]
    },
    {
     "name": "stdout",
     "output_type": "stream",
     "text": [
      "{'mae': 0.7367149758454107, 'loss': 15.334820936267503, 'accuracy': 0.5054347826086957}\n"
     ]
    },
    {
     "name": "stderr",
     "output_type": "stream",
     "text": [
      "Training, epoch 2: 100%|██████████| 362/362 [01:29<00:00,  4.05it/s, accuracy=0.488, batch_size=5778, loss=15.1, mae=0.755]\n",
      "100%|██████████| 104/104 [00:08<00:00, 12.33it/s, accuracy=0.488, batch_size=1656, loss=15.2, mae=0.789]\n",
      "Training, epoch 3:   0%|          | 0/362 [00:00<?, ?it/s]"
     ]
    },
    {
     "name": "stdout",
     "output_type": "stream",
     "text": [
      "{'mae': 0.7892512077294686, 'loss': 15.233638597571332, 'accuracy': 0.48792270531400966}\n"
     ]
    },
    {
     "name": "stderr",
     "output_type": "stream",
     "text": [
      "Training, epoch 3: 100%|██████████| 362/362 [01:30<00:00,  4.02it/s, accuracy=0.522, batch_size=5778, loss=14.3, mae=0.682]\n",
      "100%|██████████| 104/104 [00:08<00:00, 12.25it/s, accuracy=0.542, batch_size=1656, loss=14, mae=0.648]  \n",
      "Training, epoch 4:   0%|          | 0/362 [00:00<?, ?it/s]"
     ]
    },
    {
     "name": "stdout",
     "output_type": "stream",
     "text": [
      "{'mae': 0.6479468599033816, 'loss': 14.040944242247061, 'accuracy': 0.5416666666666666}\n"
     ]
    },
    {
     "name": "stderr",
     "output_type": "stream",
     "text": [
      "Training, epoch 4: 100%|██████████| 362/362 [01:29<00:00,  4.03it/s, accuracy=0.542, batch_size=5778, loss=13.6, mae=0.638]\n",
      "100%|██████████| 104/104 [00:08<00:00, 12.20it/s, accuracy=0.538, batch_size=1656, loss=13.6, mae=0.659]\n",
      "Training, epoch 5:   0%|          | 0/362 [00:00<?, ?it/s]"
     ]
    },
    {
     "name": "stdout",
     "output_type": "stream",
     "text": [
      "{'mae': 0.6594202898550725, 'loss': 13.649219282583338, 'accuracy': 0.5380434782608695}\n"
     ]
    },
    {
     "name": "stderr",
     "output_type": "stream",
     "text": [
      "Training, epoch 5: 100%|██████████| 362/362 [01:29<00:00,  4.05it/s, accuracy=0.561, batch_size=5778, loss=13, mae=0.601]  \n",
      "100%|██████████| 104/104 [00:08<00:00, 12.37it/s, accuracy=0.493, batch_size=1656, loss=15.9, mae=0.779]\n",
      "Training, epoch 6:   0%|          | 0/362 [00:00<?, ?it/s]"
     ]
    },
    {
     "name": "stdout",
     "output_type": "stream",
     "text": [
      "{'mae': 0.7789855072463768, 'loss': 15.891501760713144, 'accuracy': 0.4927536231884058}\n"
     ]
    },
    {
     "name": "stderr",
     "output_type": "stream",
     "text": [
      "Training, epoch 6: 100%|██████████| 362/362 [01:29<00:00,  4.03it/s, accuracy=0.581, batch_size=5778, loss=12.4, mae=0.565]\n",
      "100%|██████████| 104/104 [00:08<00:00, 12.39it/s, accuracy=0.58, batch_size=1656, loss=12.4, mae=0.586] \n",
      "Training, epoch 7:   0%|          | 0/362 [00:00<?, ?it/s]"
     ]
    },
    {
     "name": "stdout",
     "output_type": "stream",
     "text": [
      "{'mae': 0.5857487922705314, 'loss': 12.371420841862038, 'accuracy': 0.5797101449275363}\n"
     ]
    },
    {
     "name": "stderr",
     "output_type": "stream",
     "text": [
      "Training, epoch 7: 100%|██████████| 362/362 [01:29<00:00,  4.05it/s, accuracy=0.6, batch_size=5778, loss=12, mae=0.539]    \n",
      "100%|██████████| 104/104 [00:08<00:00, 12.44it/s, accuracy=0.508, batch_size=1656, loss=14.8, mae=0.71] \n",
      "Training, epoch 8:   0%|          | 0/362 [00:00<?, ?it/s]"
     ]
    },
    {
     "name": "stdout",
     "output_type": "stream",
     "text": [
      "{'mae': 0.7101449275362319, 'loss': 14.759516004203022, 'accuracy': 0.5084541062801933}\n"
     ]
    },
    {
     "name": "stderr",
     "output_type": "stream",
     "text": [
      "Training, epoch 8: 100%|██████████| 362/362 [01:29<00:00,  4.06it/s, accuracy=0.617, batch_size=5778, loss=11.6, mae=0.507]\n",
      "100%|██████████| 104/104 [00:08<00:00, 12.38it/s, accuracy=0.562, batch_size=1656, loss=12.4, mae=0.531]\n",
      "Training, epoch 9:   0%|          | 0/362 [00:00<?, ?it/s]"
     ]
    },
    {
     "name": "stdout",
     "output_type": "stream",
     "text": [
      "{'mae': 0.5314009661835749, 'loss': 12.426825481912363, 'accuracy': 0.5621980676328503}\n"
     ]
    },
    {
     "name": "stderr",
     "output_type": "stream",
     "text": [
      "Training, epoch 9: 100%|██████████| 362/362 [01:30<00:00,  4.02it/s, accuracy=0.631, batch_size=5778, loss=11.1, mae=0.483]\n",
      "100%|██████████| 104/104 [00:08<00:00, 12.37it/s, accuracy=0.621, batch_size=1656, loss=11.4, mae=0.505]\n",
      "Training, epoch 10:   0%|          | 0/362 [00:00<?, ?it/s]"
     ]
    },
    {
     "name": "stdout",
     "output_type": "stream",
     "text": [
      "{'mae': 0.5054347826086957, 'loss': 11.374250589361512, 'accuracy': 0.6213768115942029}\n"
     ]
    },
    {
     "name": "stderr",
     "output_type": "stream",
     "text": [
      "Training, epoch 10: 100%|██████████| 362/362 [01:29<00:00,  4.04it/s, accuracy=0.639, batch_size=5778, loss=10.8, mae=0.469]\n",
      "100%|██████████| 104/104 [00:08<00:00, 12.29it/s, accuracy=0.622, batch_size=1656, loss=11.3, mae=0.477]\n",
      "Training, epoch 11:   0%|          | 0/362 [00:00<?, ?it/s]"
     ]
    },
    {
     "name": "stdout",
     "output_type": "stream",
     "text": [
      "{'mae': 0.47705314009661837, 'loss': 11.252275303366103, 'accuracy': 0.6219806763285024}\n"
     ]
    },
    {
     "name": "stderr",
     "output_type": "stream",
     "text": [
      "Training, epoch 11: 100%|██████████| 362/362 [01:29<00:00,  4.02it/s, accuracy=0.653, batch_size=5778, loss=10.4, mae=0.445]\n",
      "100%|██████████| 104/104 [00:08<00:00, 12.36it/s, accuracy=0.633, batch_size=1656, loss=10.9, mae=0.462]\n",
      "Training, epoch 12:   0%|          | 0/362 [00:00<?, ?it/s]"
     ]
    },
    {
     "name": "stdout",
     "output_type": "stream",
     "text": [
      "{'mae': 0.46195652173913043, 'loss': 10.926354746887649, 'accuracy': 0.6334541062801933}\n"
     ]
    },
    {
     "name": "stderr",
     "output_type": "stream",
     "text": [
      "Training, epoch 12: 100%|██████████| 362/362 [01:29<00:00,  4.05it/s, accuracy=0.66, batch_size=5778, loss=10.1, mae=0.434] \n",
      "100%|██████████| 104/104 [00:08<00:00, 12.41it/s, accuracy=0.583, batch_size=1656, loss=12.2, mae=0.531]\n",
      "Training, epoch 13:   0%|          | 0/362 [00:00<?, ?it/s]"
     ]
    },
    {
     "name": "stdout",
     "output_type": "stream",
     "text": [
      "{'mae': 0.5314009661835749, 'loss': 12.228982572970184, 'accuracy': 0.5833333333333334}\n"
     ]
    },
    {
     "name": "stderr",
     "output_type": "stream",
     "text": [
      "Training, epoch 13: 100%|██████████| 362/362 [01:29<00:00,  4.06it/s, accuracy=0.675, batch_size=5778, loss=9.98, mae=0.411]\n",
      "100%|██████████| 104/104 [00:08<00:00, 12.41it/s, accuracy=0.659, batch_size=1656, loss=10.5, mae=0.44] \n",
      "Training, epoch 14:   0%|          | 0/362 [00:00<?, ?it/s]"
     ]
    },
    {
     "name": "stdout",
     "output_type": "stream",
     "text": [
      "{'mae': 0.44021739130434784, 'loss': 10.506891057111215, 'accuracy': 0.6594202898550725}\n"
     ]
    },
    {
     "name": "stderr",
     "output_type": "stream",
     "text": [
      "Training, epoch 14: 100%|██████████| 362/362 [01:29<00:00,  4.04it/s, accuracy=0.678, batch_size=5778, loss=9.73, mae=0.403]\n",
      "100%|██████████| 104/104 [00:08<00:00, 12.26it/s, accuracy=0.594, batch_size=1656, loss=13.9, mae=0.589]\n",
      "Training, epoch 15:   0%|          | 0/362 [00:00<?, ?it/s]"
     ]
    },
    {
     "name": "stdout",
     "output_type": "stream",
     "text": [
      "{'mae': 0.5887681159420289, 'loss': 13.911385606452463, 'accuracy': 0.5935990338164251}\n"
     ]
    },
    {
     "name": "stderr",
     "output_type": "stream",
     "text": [
      "Training, epoch 15: 100%|██████████| 362/362 [01:29<00:00,  4.03it/s, accuracy=0.69, batch_size=5778, loss=9.4, mae=0.386]  \n",
      "100%|██████████| 104/104 [00:08<00:00, 12.32it/s, accuracy=0.598, batch_size=1656, loss=12.7, mae=0.55] \n",
      "Training, epoch 16:   0%|          | 0/362 [00:00<?, ?it/s]"
     ]
    },
    {
     "name": "stdout",
     "output_type": "stream",
     "text": [
      "{'mae': 0.5501207729468599, 'loss': 12.656758825560123, 'accuracy': 0.5978260869565217}\n"
     ]
    },
    {
     "name": "stderr",
     "output_type": "stream",
     "text": [
      "Training, epoch 16: 100%|██████████| 362/362 [01:29<00:00,  4.04it/s, accuracy=0.696, batch_size=5778, loss=9.19, mae=0.374]\n",
      "100%|██████████| 104/104 [00:08<00:00, 12.25it/s, accuracy=0.621, batch_size=1656, loss=11, mae=0.457]  \n",
      "Training, epoch 17:   0%|          | 0/362 [00:00<?, ?it/s]"
     ]
    },
    {
     "name": "stdout",
     "output_type": "stream",
     "text": [
      "{'mae': 0.4571256038647343, 'loss': 10.986416250035383, 'accuracy': 0.6207729468599034}\n"
     ]
    },
    {
     "name": "stderr",
     "output_type": "stream",
     "text": [
      "Training, epoch 17: 100%|██████████| 362/362 [01:29<00:00,  4.04it/s, accuracy=0.708, batch_size=5778, loss=8.92, mae=0.358]\n",
      "100%|██████████| 104/104 [00:08<00:00, 12.48it/s, accuracy=0.536, batch_size=1656, loss=16.2, mae=0.667]\n",
      "Training, epoch 18:   0%|          | 0/362 [00:00<?, ?it/s]"
     ]
    },
    {
     "name": "stdout",
     "output_type": "stream",
     "text": [
      "{'mae': 0.6666666666666666, 'loss': 16.191188667131506, 'accuracy': 0.5362318840579711}\n"
     ]
    },
    {
     "name": "stderr",
     "output_type": "stream",
     "text": [
      "Training, epoch 18: 100%|██████████| 362/362 [01:29<00:00,  4.03it/s, accuracy=0.712, batch_size=5778, loss=8.76, mae=0.351]\n",
      "100%|██████████| 104/104 [00:08<00:00, 12.39it/s, accuracy=0.601, batch_size=1656, loss=12.2, mae=0.522]\n",
      "Training, epoch 19:   0%|          | 0/362 [00:00<?, ?it/s]"
     ]
    },
    {
     "name": "stdout",
     "output_type": "stream",
     "text": [
      "{'mae': 0.5223429951690821, 'loss': 12.202753974619695, 'accuracy': 0.6014492753623188}\n"
     ]
    },
    {
     "name": "stderr",
     "output_type": "stream",
     "text": [
      "Training, epoch 19: 100%|██████████| 362/362 [01:29<00:00,  4.04it/s, accuracy=0.723, batch_size=5778, loss=8.48, mae=0.338]\n",
      "100%|██████████| 104/104 [00:08<00:00, 12.35it/s, accuracy=0.655, batch_size=1656, loss=10.3, mae=0.421]\n"
     ]
    },
    {
     "name": "stdout",
     "output_type": "stream",
     "text": [
      "{'mae': 0.42089371980676327, 'loss': 10.271546333884272, 'accuracy': 0.6545893719806763}\n"
     ]
    },
    {
     "name": "stderr",
     "output_type": "stream",
     "text": [
      "Training, epoch 0: 100%|██████████| 362/362 [01:30<00:00,  4.01it/s, accuracy=0.398, batch_size=5778, loss=19, mae=1.03]  \n",
      "100%|██████████| 104/104 [00:08<00:00, 12.31it/s, accuracy=0.45, batch_size=1656, loss=17.9, mae=0.967] \n",
      "Training, epoch 1:   0%|          | 0/362 [00:00<?, ?it/s]"
     ]
    },
    {
     "name": "stdout",
     "output_type": "stream",
     "text": [
      "{'mae': 0.9667874396135265, 'loss': 17.87310692423208, 'accuracy': 0.4504830917874396}\n"
     ]
    },
    {
     "name": "stderr",
     "output_type": "stream",
     "text": [
      "Training, epoch 1: 100%|██████████| 362/362 [01:29<00:00,  4.03it/s, accuracy=0.46, batch_size=5778, loss=17.2, mae=0.821] \n",
      "100%|██████████| 104/104 [00:08<00:00, 12.32it/s, accuracy=0.446, batch_size=1656, loss=18.6, mae=0.934]\n",
      "Training, epoch 2:   0%|          | 0/362 [00:00<?, ?it/s]"
     ]
    },
    {
     "name": "stdout",
     "output_type": "stream",
     "text": [
      "{'mae': 0.9335748792270532, 'loss': 18.57500097717064, 'accuracy': 0.44565217391304346}\n"
     ]
    },
    {
     "name": "stderr",
     "output_type": "stream",
     "text": [
      "Training, epoch 2: 100%|██████████| 362/362 [01:30<00:00,  4.02it/s, accuracy=0.497, batch_size=5778, loss=16, mae=0.729]  \n",
      "100%|██████████| 104/104 [00:08<00:00, 12.30it/s, accuracy=0.531, batch_size=1656, loss=15.1, mae=0.668]\n",
      "Training, epoch 3:   0%|          | 0/362 [00:00<?, ?it/s]"
     ]
    },
    {
     "name": "stdout",
     "output_type": "stream",
     "text": [
      "{'mae': 0.6684782608695652, 'loss': 15.084794892205132, 'accuracy': 0.5307971014492754}\n"
     ]
    },
    {
     "name": "stderr",
     "output_type": "stream",
     "text": [
      "Training, epoch 3: 100%|██████████| 362/362 [01:30<00:00,  4.02it/s, accuracy=0.528, batch_size=5778, loss=14.9, mae=0.651]\n",
      "100%|██████████| 104/104 [00:08<00:00, 12.34it/s, accuracy=0.542, batch_size=1656, loss=14.5, mae=0.641]\n",
      "Training, epoch 4:   0%|          | 0/362 [00:00<?, ?it/s]"
     ]
    },
    {
     "name": "stdout",
     "output_type": "stream",
     "text": [
      "{'mae': 0.6407004830917874, 'loss': 14.532282506786107, 'accuracy': 0.5422705314009661}\n"
     ]
    },
    {
     "name": "stderr",
     "output_type": "stream",
     "text": [
      "Training, epoch 4: 100%|██████████| 362/362 [01:30<00:00,  4.01it/s, accuracy=0.552, batch_size=5778, loss=14.2, mae=0.615]\n",
      "100%|██████████| 104/104 [00:08<00:00, 12.33it/s, accuracy=0.537, batch_size=1656, loss=14.9, mae=0.69] \n",
      "Training, epoch 5:   0%|          | 0/362 [00:00<?, ?it/s]"
     ]
    },
    {
     "name": "stdout",
     "output_type": "stream",
     "text": [
      "{'mae': 0.6896135265700483, 'loss': 14.913834797587372, 'accuracy': 0.5368357487922706}\n"
     ]
    },
    {
     "name": "stderr",
     "output_type": "stream",
     "text": [
      "Training, epoch 5: 100%|██████████| 362/362 [01:29<00:00,  4.02it/s, accuracy=0.585, batch_size=5778, loss=13.5, mae=0.556]\n",
      "100%|██████████| 104/104 [00:08<00:00, 12.36it/s, accuracy=0.545, batch_size=1656, loss=13.5, mae=0.538]\n",
      "Training, epoch 6:   0%|          | 0/362 [00:00<?, ?it/s]"
     ]
    },
    {
     "name": "stdout",
     "output_type": "stream",
     "text": [
      "{'mae': 0.5380434782608695, 'loss': 13.533318362950126, 'accuracy': 0.5452898550724637}\n"
     ]
    },
    {
     "name": "stderr",
     "output_type": "stream",
     "text": [
      "Training, epoch 6: 100%|██████████| 362/362 [01:30<00:00,  4.02it/s, accuracy=0.595, batch_size=5778, loss=12.9, mae=0.54] \n",
      "100%|██████████| 104/104 [00:08<00:00, 12.35it/s, accuracy=0.591, batch_size=1656, loss=12.9, mae=0.518]\n",
      "Training, epoch 7:   0%|          | 0/362 [00:00<?, ?it/s]"
     ]
    },
    {
     "name": "stdout",
     "output_type": "stream",
     "text": [
      "{'mae': 0.5181159420289855, 'loss': 12.94427045647073, 'accuracy': 0.591183574879227}\n"
     ]
    },
    {
     "name": "stderr",
     "output_type": "stream",
     "text": [
      "Training, epoch 7: 100%|██████████| 362/362 [01:29<00:00,  4.03it/s, accuracy=0.622, batch_size=5778, loss=12.4, mae=0.495]\n",
      "100%|██████████| 104/104 [00:08<00:00, 12.19it/s, accuracy=0.616, batch_size=1656, loss=12.4, mae=0.508]\n",
      "Training, epoch 8:   0%|          | 0/362 [00:00<?, ?it/s]"
     ]
    },
    {
     "name": "stdout",
     "output_type": "stream",
     "text": [
      "{'mae': 0.5084541062801933, 'loss': 12.431121678743962, 'accuracy': 0.6159420289855072}\n"
     ]
    },
    {
     "name": "stderr",
     "output_type": "stream",
     "text": [
      "Training, epoch 8: 100%|██████████| 362/362 [01:30<00:00,  4.02it/s, accuracy=0.627, batch_size=5778, loss=12, mae=0.484]  \n",
      "100%|██████████| 104/104 [00:08<00:00, 12.14it/s, accuracy=0.598, batch_size=1656, loss=12.6, mae=0.497]\n",
      "Training, epoch 9:   0%|          | 0/362 [00:00<?, ?it/s]"
     ]
    },
    {
     "name": "stdout",
     "output_type": "stream",
     "text": [
      "{'mae': 0.4969806763285024, 'loss': 12.554882696861231, 'accuracy': 0.5984299516908212}\n"
     ]
    },
    {
     "name": "stderr",
     "output_type": "stream",
     "text": [
      "Training, epoch 9: 100%|██████████| 362/362 [01:30<00:00,  4.01it/s, accuracy=0.64, batch_size=5778, loss=11.6, mae=0.461] \n",
      "100%|██████████| 104/104 [00:08<00:00, 12.27it/s, accuracy=0.559, batch_size=1656, loss=14.4, mae=0.641]\n",
      "Training, epoch 10:   0%|          | 0/362 [00:00<?, ?it/s]"
     ]
    },
    {
     "name": "stdout",
     "output_type": "stream",
     "text": [
      "{'mae': 0.6413043478260869, 'loss': 14.422987534804045, 'accuracy': 0.5591787439613527}\n"
     ]
    },
    {
     "name": "stderr",
     "output_type": "stream",
     "text": [
      "Training, epoch 10: 100%|██████████| 362/362 [01:30<00:00,  4.02it/s, accuracy=0.653, batch_size=5778, loss=11.2, mae=0.438]\n",
      "100%|██████████| 104/104 [00:08<00:00, 12.31it/s, accuracy=0.632, batch_size=1656, loss=11.7, mae=0.445]\n",
      "Training, epoch 11:   0%|          | 0/362 [00:00<?, ?it/s]"
     ]
    },
    {
     "name": "stdout",
     "output_type": "stream",
     "text": [
      "{'mae': 0.44504830917874394, 'loss': 11.710472316557658, 'accuracy': 0.6322463768115942}\n"
     ]
    },
    {
     "name": "stderr",
     "output_type": "stream",
     "text": [
      "Training, epoch 11: 100%|██████████| 362/362 [01:29<00:00,  4.03it/s, accuracy=0.665, batch_size=5778, loss=10.9, mae=0.418]\n",
      "100%|██████████| 104/104 [00:08<00:00, 12.15it/s, accuracy=0.659, batch_size=1656, loss=11.2, mae=0.429]\n",
      "Training, epoch 12:   0%|          | 0/362 [00:00<?, ?it/s]"
     ]
    },
    {
     "name": "stdout",
     "output_type": "stream",
     "text": [
      "{'mae': 0.428743961352657, 'loss': 11.215219817875663, 'accuracy': 0.6594202898550725}\n"
     ]
    },
    {
     "name": "stderr",
     "output_type": "stream",
     "text": [
      "Training, epoch 12: 100%|██████████| 362/362 [01:29<00:00,  4.03it/s, accuracy=0.676, batch_size=5778, loss=10.6, mae=0.402]\n",
      "100%|██████████| 104/104 [00:08<00:00, 12.34it/s, accuracy=0.636, batch_size=1656, loss=11.9, mae=0.462]\n",
      "Training, epoch 13:   0%|          | 0/362 [00:00<?, ?it/s]"
     ]
    },
    {
     "name": "stdout",
     "output_type": "stream",
     "text": [
      "{'mae': 0.46195652173913043, 'loss': 11.900295064069223, 'accuracy': 0.6364734299516909}\n"
     ]
    },
    {
     "name": "stderr",
     "output_type": "stream",
     "text": [
      "Training, epoch 13: 100%|██████████| 362/362 [01:30<00:00,  4.01it/s, accuracy=0.681, batch_size=5778, loss=10.3, mae=0.396]\n",
      "100%|██████████| 104/104 [00:08<00:00, 12.18it/s, accuracy=0.638, batch_size=1656, loss=12.1, mae=0.461]\n",
      "Training, epoch 14:   0%|          | 0/362 [00:00<?, ?it/s]"
     ]
    },
    {
     "name": "stdout",
     "output_type": "stream",
     "text": [
      "{'mae': 0.4607487922705314, 'loss': 12.05358995043713, 'accuracy': 0.6376811594202898}\n"
     ]
    },
    {
     "name": "stderr",
     "output_type": "stream",
     "text": [
      "Training, epoch 14: 100%|██████████| 362/362 [01:30<00:00,  4.01it/s, accuracy=0.692, batch_size=5778, loss=10, mae=0.376]  \n",
      "100%|██████████| 104/104 [00:08<00:00, 12.30it/s, accuracy=0.658, batch_size=1656, loss=11.7, mae=0.445]\n",
      "Training, epoch 15:   0%|          | 0/362 [00:00<?, ?it/s]"
     ]
    },
    {
     "name": "stdout",
     "output_type": "stream",
     "text": [
      "{'mae': 0.44504830917874394, 'loss': 11.671578066360548, 'accuracy': 0.6582125603864735}\n"
     ]
    },
    {
     "name": "stderr",
     "output_type": "stream",
     "text": [
      "Training, epoch 15: 100%|██████████| 362/362 [01:29<00:00,  4.03it/s, accuracy=0.7, batch_size=5778, loss=9.83, mae=0.367]  \n",
      "100%|██████████| 104/104 [00:08<00:00, 12.33it/s, accuracy=0.607, batch_size=1656, loss=13.1, mae=0.514]\n",
      "Training, epoch 16:   0%|          | 0/362 [00:00<?, ?it/s]"
     ]
    },
    {
     "name": "stdout",
     "output_type": "stream",
     "text": [
      "{'mae': 0.5144927536231884, 'loss': 13.056709388603911, 'accuracy': 0.607487922705314}\n"
     ]
    },
    {
     "name": "stderr",
     "output_type": "stream",
     "text": [
      "Training, epoch 16: 100%|██████████| 362/362 [01:29<00:00,  4.03it/s, accuracy=0.708, batch_size=5778, loss=9.57, mae=0.354]\n",
      "100%|██████████| 104/104 [00:08<00:00, 12.29it/s, accuracy=0.65, batch_size=1656, loss=11.4, mae=0.435] \n",
      "Training, epoch 17:   0%|          | 0/362 [00:00<?, ?it/s]"
     ]
    },
    {
     "name": "stdout",
     "output_type": "stream",
     "text": [
      "{'mae': 0.43478260869565216, 'loss': 11.350342713692338, 'accuracy': 0.6497584541062802}\n"
     ]
    },
    {
     "name": "stderr",
     "output_type": "stream",
     "text": [
      "Training, epoch 17: 100%|██████████| 362/362 [01:29<00:00,  4.03it/s, accuracy=0.721, batch_size=5778, loss=9.21, mae=0.337]\n",
      "100%|██████████| 104/104 [00:08<00:00, 12.36it/s, accuracy=0.668, batch_size=1656, loss=11.1, mae=0.402]\n",
      "Training, epoch 18:   0%|          | 0/362 [00:00<?, ?it/s]"
     ]
    },
    {
     "name": "stdout",
     "output_type": "stream",
     "text": [
      "{'mae': 0.40217391304347827, 'loss': 11.11998444709225, 'accuracy': 0.6678743961352657}\n"
     ]
    },
    {
     "name": "stderr",
     "output_type": "stream",
     "text": [
      "Training, epoch 18: 100%|██████████| 362/362 [01:29<00:00,  4.04it/s, accuracy=0.726, batch_size=5778, loss=9.03, mae=0.326]\n",
      "100%|██████████| 104/104 [00:08<00:00, 12.37it/s, accuracy=0.648, batch_size=1656, loss=11.5, mae=0.429]\n",
      "Training, epoch 19:   0%|          | 0/362 [00:00<?, ?it/s]"
     ]
    },
    {
     "name": "stdout",
     "output_type": "stream",
     "text": [
      "{'mae': 0.42934782608695654, 'loss': 11.49362179622558, 'accuracy': 0.6479468599033816}\n"
     ]
    },
    {
     "name": "stderr",
     "output_type": "stream",
     "text": [
      "Training, epoch 19:  99%|█████████▉| 358/362 [01:28<00:00,  4.02it/s, accuracy=0.727, batch_size=5728, loss=8.92, mae=0.322]"
     ]
    }
   ],
   "source": [
    "from itertools import product\n",
    "\n",
    "param_grid = {\n",
    "            \"lr\" : [1e-3, 5e-4, 5e-5],\n",
    "            \"batch_size\" : [16,32],\n",
    "            \"cb_matrix_diag_value\" : [1,5,10],\n",
    "            \"cost_distance\" : [1, 2, 3],\n",
    "            }\n",
    "\n",
    "experiments_configuration = pd.DataFrame(list(product(*param_grid.values())), columns = param_grid.keys())\n",
    "len(experiments_configuration)\n",
    "\n",
    "\n",
    "for _, row in experiments_configuration.iterrows():\n",
    "    config = row.to_dict()\n",
    "\n",
    "    #model = classification_model_vgg(\"vgg16\", num_classes = 5) #For newer versions of pytorch\n",
    "    model = cls_model({\"net_type\": \"vgg\", \"depth\":\"16\", \"num_class\":5, \"pretrained\":True}) #For SageMaker version\n",
    "\n",
    "    loaders, _, _ = data_load(\"../datasets/kneeKL224/\", int(config[\"batch_size\"]))\n",
    "    train_loader = loaders[\"train\"]\n",
    "    test_loader = loaders[\"test\"]\n",
    "\n",
    "    cb_matrix = create_ordinal_cost_matrix(size = 5, cost_distance=config[\"cost_distance\"], diagonal_value=config[\"cb_matrix_diag_value\"])\n",
    "\n",
    "    engine = OrdinalEngine(model, \n",
    "                       loss_fn = CSCELoss(cb_matrix), #CSCELoss model, matan, you know the dril.\n",
    "                       device = device, #change to gpu, let me know if it doesnt work on GPU.\n",
    "                       use_lr_scheduler=True, scheduler_lambda_fn = my_lambda_scheduler,\n",
    "                       optimizer_fn=SGD, lr = config[\"lr\"], weight_decay=5.0e-4)\n",
    "    \n",
    "    engine.train(train_loader, test_loader, n_epochs=20)"
   ]
  },
  {
   "cell_type": "raw",
   "id": "69389075",
   "metadata": {},
   "source": [
    "loaders, _, _ = data_load(\"../datasets/kneeKL224/\", int(config[\"batch_size\"]))\n",
    "train_loader = loaders[\"train\"]\n",
    "test_loader = loaders[\"test\"]\n",
    "\n",
    "\n",
    "cb_matrix = create_ordinal_cost_matrix(size = 5, cost_distance=config[\"cost_distance\"], diagonal_value=config[\"cb_matrix_diag_value\"])\n",
    "\n",
    "engine = OrdinalEngine(model, \n",
    "                   loss_fn = CSCELoss(cb_matrix), #CSCELoss model, matan, you know the dril.\n",
    "                   device = device, #change to gpu, let me know if it doesnt work on GPU.\n",
    "                   use_lr_scheduler=True, scheduler_lambda_fn = my_lambda_scheduler,\n",
    "                   optimizer_fn=SGD, lr = config[\"lr\"], weight_decay=5.0e-4)"
   ]
  },
  {
   "cell_type": "raw",
   "id": "35d0b2aa",
   "metadata": {},
   "source": [
    "engine.train(train_loader, test_loader, n_epochs=1)"
   ]
  },
  {
   "cell_type": "raw",
   "id": "479fa69d",
   "metadata": {},
   "source": [
    "# exp = mlflow.get_experiment_by_name(\"OrdinalLoss\")\n",
    "# run_ids = [r.run_id for r in mlflow.list_run_infos(exp.experiment_id)]\n",
    "\n",
    "\n",
    "# for run_id in run_ids:\n",
    "\n",
    "\n",
    "# #[pd.read_csv(f\"mlruns/{exp.experiment_id}/{run_id}/metrics\") for run_id in run_ids]\n",
    "\n",
    "# pd.read_csv(\n",
    "#     \"mlruns/0/8ed2dbeacce148b7a109bf263f98dc3d/metrics/accuracy_test\", \n",
    "#     sep = \" \", \n",
    "#     names = [\"ts\", \"score\", \"step\"])\n"
   ]
  }
 ],
 "metadata": {
  "kernelspec": {
   "display_name": "conda_pytorch_p36",
   "language": "python",
   "name": "conda_pytorch_p36"
  },
  "language_info": {
   "codemirror_mode": {
    "name": "ipython",
    "version": 3
   },
   "file_extension": ".py",
   "mimetype": "text/x-python",
   "name": "python",
   "nbconvert_exporter": "python",
   "pygments_lexer": "ipython3",
   "version": "3.6.13"
  },
  "vscode": {
   "interpreter": {
    "hash": "477eecfb294edae368d6b47ff07aee7301c1b572d5bced17501efd4a9e30b26f"
   }
  }
 },
 "nbformat": 4,
 "nbformat_minor": 5
}

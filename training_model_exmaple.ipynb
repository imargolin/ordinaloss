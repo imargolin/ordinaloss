{
 "cells": [
  {
   "cell_type": "code",
   "execution_count": 1,
   "id": "98e9a52b-f468-4cf3-abe8-256b4b46df3d",
   "metadata": {},
   "outputs": [],
   "source": [
    "%load_ext autoreload\n",
    "%autoreload 2"
   ]
  },
  {
   "cell_type": "code",
   "execution_count": 2,
   "id": "42edebea-d418-4d45-ba09-a92b8fb07a46",
   "metadata": {},
   "outputs": [],
   "source": [
    "import os\n",
    "import pandas as pd"
   ]
  },
  {
   "cell_type": "code",
   "execution_count": 3,
   "id": "440c4122-8a78-4284-9969-544fd9f7d701",
   "metadata": {},
   "outputs": [
    {
     "name": "stdout",
     "output_type": "stream",
     "text": [
      "loaded ordinaloss.utils.pretrained_models\n",
      "loaded ordinaloss.utils.datasets\n",
      "loaded ordinaloss.utils.loss_utils\n"
     ]
    },
    {
     "data": {
      "text/plain": [
       "'cpu'"
      ]
     },
     "execution_count": 3,
     "metadata": {},
     "output_type": "execute_result"
    }
   ],
   "source": [
    "#from ordinaloss.utils.datasets import ImageFolder, create_transform_pipeline\n",
    "from ordinaloss.utils.pretrained_models import classification_model_densenet, classification_model_resnet, classification_model_vgg\n",
    "from ordinaloss.utils.utils import create_ordinal_cost_matrix\n",
    "\n",
    "\n",
    "from ordinaloss.engine.model_engine import OrdinalEngine\n",
    "from ordinaloss.utils.datasets import data_load\n",
    "\n",
    "from ordinaloss.utils.loss_utils import SinimLoss, GirlsLoss, CSCELoss\n",
    "\n",
    "\n",
    "import matplotlib.pyplot as plt\n",
    "\n",
    "from torch.utils.data import DataLoader\n",
    "from torch.optim import Adam, SGD\n",
    "import torch\n",
    "import mlflow\n",
    "\n",
    "device = \"cuda:0\" if torch.cuda.is_available() else \"cpu\"\n",
    "device"
   ]
  },
  {
   "cell_type": "code",
   "execution_count": 4,
   "id": "4e846e2c-23fa-48c8-88fd-924869d48348",
   "metadata": {},
   "outputs": [],
   "source": [
    "# train_transform = create_transform_pipeline(brightness=0.3, contrast=0.3, saturation=0.3, hue=0.3) #These are hyperparameters. \n",
    "# test_transform = create_transform_pipeline() #Without color jitter for test pipeline\n",
    "\n",
    "# train_dataset = ImageFolder(\"../datasets/kneeKL224/train/\", transform=train_transform)\n",
    "# val_dataset = ImageFolder(\"../datasets/kneeKL224/val/\", transform = test_transform)\n",
    "# test_dataset = ImageFolder(\"../datasets/kneeKL224/test/\", transform = test_transform)\n",
    "# auto_test_dataset = ImageFolder(\"../datasets/kneeKL224/auto_test/\", transform = test_transform)\n",
    "\n",
    "# train_loader = DataLoader(train_dataset, batch_size = 32, shuffle=True)\n",
    "# test_loader  = DataLoader(test_dataset,  batch_size = 128, shuffle=False)\n",
    "\n",
    "loaders, _, _ = data_load(\"../datasets/kneeKL224/\", 16)\n",
    "train_loader = loaders[\"train\"]\n",
    "test_loader = loaders[\"test\"]"
   ]
  },
  {
   "cell_type": "code",
   "execution_count": 5,
   "id": "1b1bd860-b117-4e8a-9ee8-0e4bd026cadd",
   "metadata": {},
   "outputs": [],
   "source": [
    "#model = classification_model_vgg(\"vgg16\", num_classes = 5) #Could also be resnet34, resnet50, resnet101, resnet152, \n",
    "model = classification_model_vgg(\"vgg16\", num_classes = 5) #Could also be resnet34, resnet50, resnet101, resnet152, \n",
    "# model = classification_model_densenet(\"densenet121\", num_classes = 5) #Could also be densenet169, densenet201"
   ]
  },
  {
   "cell_type": "code",
   "execution_count": 6,
   "id": "094be05d",
   "metadata": {},
   "outputs": [
    {
     "data": {
      "text/plain": [
       "tensor([[20.,  1.,  2.,  3.,  4.],\n",
       "        [ 1., 20.,  1.,  2.,  3.],\n",
       "        [ 2.,  1., 20.,  1.,  2.],\n",
       "        [ 3.,  2.,  1., 20.,  1.],\n",
       "        [ 4.,  3.,  2.,  1., 20.]])"
      ]
     },
     "execution_count": 6,
     "metadata": {},
     "output_type": "execute_result"
    }
   ],
   "source": [
    "create_ordinal_cost_matrix(5)"
   ]
  },
  {
   "cell_type": "code",
   "execution_count": 40,
   "id": "eb73c1be-b7ea-4cf5-8045-55f0bd9f4872",
   "metadata": {},
   "outputs": [],
   "source": [
    "from ordinaloss.utils.loss_utils import GirlsLoss, SinimLoss\n",
    "model = classification_model_vgg(\"vgg16\", num_classes = 5)\n",
    "\n",
    "def my_lambda_scheduler(epoch):\n",
    "    return (0.9 ** (epoch // 5))\n",
    "\n",
    "\n",
    "# engine = OrdinalEngine(model, \n",
    "#                        loss_fn = CSCELoss(create_ordinal_cost_matrix(5)), #CSCELoss model, matan, you know the dril.\n",
    "#                        device = device, #change to gpu, let me know if it doesnt work on GPU.\n",
    "#                        use_lr_scheduler=True, scheduler_lambda_fn = my_lambda_scheduler,\n",
    "#                        optimizer_fn=SGD, lr = 5.0e-4, weight_decay=5.0e-4)\n",
    "\n",
    "\n",
    "# engine = OrdinalEngine(model, \n",
    "#                        loss_fn = SinimLoss(), #CSCELoss model, matan, you know the dril.\n",
    "#                        device = device, #change to gpu, let me know if it doesnt work on GPU.\n",
    "#                        use_lr_scheduler=True, scheduler_lambda_fn = my_lambda_scheduler,\n",
    "#                        optimizer_fn=SGD, lr = 5.0e-4, weight_decay=5.0e-4)\n",
    "\n",
    "\n",
    "engine = OrdinalEngine(model, \n",
    "                       loss_fn = CSCELoss(create_ordinal_cost_matrix(5)), #CSCELoss model, matan, you know the dril.\n",
    "                       device = device, #change to gpu, let me know if it doesnt work on GPU.\n",
    "                       use_lr_scheduler=True, scheduler_lambda_fn = my_lambda_scheduler,\n",
    "                       optimizer_fn=Adam, lr = 1.0e-3, weight_decay=5.0e-2)                       "
   ]
  },
  {
   "cell_type": "code",
   "execution_count": 96,
   "id": "3ac671e6",
   "metadata": {},
   "outputs": [
    {
     "data": {
      "text/plain": [
       "tensor([[3., 2., 3., 4., 5.],\n",
       "        [2., 3., 2., 3., 4.],\n",
       "        [3., 2., 3., 2., 3.],\n",
       "        [4., 3., 2., 3., 2.],\n",
       "        [5., 4., 3., 2., 3.]])"
      ]
     },
     "execution_count": 96,
     "metadata": {},
     "output_type": "execute_result"
    }
   ],
   "source": [
    "create_ordinal_cost_matrix(5, cost_distance=1, diagonal_value=3)"
   ]
  },
  {
   "cell_type": "code",
   "execution_count": 183,
   "id": "67e95793",
   "metadata": {},
   "outputs": [
    {
     "data": {
      "text/plain": [
       "54"
      ]
     },
     "execution_count": 183,
     "metadata": {},
     "output_type": "execute_result"
    }
   ],
   "source": [
    "from itertools import product\n",
    "\n",
    "param_grid = {\n",
    "            \"lr\" : [1e-3, 5e-4, 5e-5],\n",
    "            \"batch_size\" : [16,32],\n",
    "            \"cb_matrix_diag_value\" : [1,5,10],\n",
    "            \"cost_distance\" : [1, 2, 3],\n",
    "            }\n",
    "\n",
    "experiments_configuration = pd.DataFrame(list(product(*param_grid.values())), columns = param_grid.keys())\n",
    "len(experiments_configuration)"
   ]
  },
  {
   "cell_type": "code",
   "execution_count": 182,
   "id": "e7d3ea20",
   "metadata": {},
   "outputs": [
    {
     "name": "stdout",
     "output_type": "stream",
     "text": [
      "loaded ordinaloss.engine.model_engine\n"
     ]
    }
   ],
   "source": [
    "model = classification_model_vgg(\"vgg16\", num_classes = 5)\n",
    "\n",
    "engine = OrdinalEngine(model, \n",
    "                       loss_fn = CSCELoss(create_ordinal_cost_matrix(size = 5, cost_distance=2, diagonal_value=5)), #CSCELoss model, matan, you know the dril.\n",
    "                       device = device, #change to gpu, let me know if it doesnt work on GPU.\n",
    "                       use_lr_scheduler=True, scheduler_lambda_fn = my_lambda_scheduler,\n",
    "                       optimizer_fn=Adam, lr = 1.0e-3, weight_decay=5.0e-2)"
   ]
  },
  {
   "cell_type": "code",
   "execution_count": 209,
   "id": "b4608767",
   "metadata": {},
   "outputs": [],
   "source": [
    "for _, row in experiments_configuration.iterrows():\n",
    "    config = row.to_dict()\n",
    "\n",
    "    model = classification_model_vgg(\"vgg16\", num_classes = 5)\n",
    "\n",
    "    loaders, _, _ = data_load(\"../datasets/kneeKL224/\", int(config[\"batch_size\"]))\n",
    "    train_loader = loaders[\"train\"]\n",
    "    test_loader = loaders[\"test\"]\n",
    "\n",
    "    cb_matrix = create_ordinal_cost_matrix(size = 5, cost_distance=config[\"cost_distance\"], diagonal_value=config[\"cb_matrix_diag_value\"])\n",
    "\n",
    "    engine = OrdinalEngine(model, \n",
    "                       loss_fn = CSCELoss(cb_matrix), #CSCELoss model, matan, you know the dril.\n",
    "                       device = device, #change to gpu, let me know if it doesnt work on GPU.\n",
    "                       use_lr_scheduler=True, scheduler_lambda_fn = my_lambda_scheduler,\n",
    "                       optimizer_fn=SGD, lr = config[\"lr\"], weight_decay=5.0e-4)\n",
    "\n"
   ]
  },
  {
   "cell_type": "code",
   "execution_count": 278,
   "id": "66c4704d",
   "metadata": {},
   "outputs": [],
   "source": [
    "# exp = mlflow.get_experiment_by_name(\"OrdinalLoss\")\n",
    "# run_ids = [r.run_id for r in mlflow.list_run_infos(exp.experiment_id)]\n",
    "\n",
    "\n",
    "# for run_id in run_ids:\n",
    "\n",
    "\n",
    "# #[pd.read_csv(f\"mlruns/{exp.experiment_id}/{run_id}/metrics\") for run_id in run_ids]\n",
    "\n",
    "# pd.read_csv(\n",
    "#     \"mlruns/0/8ed2dbeacce148b7a109bf263f98dc3d/metrics/accuracy_test\", \n",
    "#     sep = \" \", \n",
    "#     names = [\"ts\", \"score\", \"step\"])\n"
   ]
  }
 ],
 "metadata": {
  "kernelspec": {
   "display_name": "Python 3.9.7 ('pytorch')",
   "language": "python",
   "name": "python3"
  },
  "language_info": {
   "codemirror_mode": {
    "name": "ipython",
    "version": 3
   },
   "file_extension": ".py",
   "mimetype": "text/x-python",
   "name": "python",
   "nbconvert_exporter": "python",
   "pygments_lexer": "ipython3",
   "version": "3.9.7"
  },
  "vscode": {
   "interpreter": {
    "hash": "477eecfb294edae368d6b47ff07aee7301c1b572d5bced17501efd4a9e30b26f"
   }
  }
 },
 "nbformat": 4,
 "nbformat_minor": 5
}

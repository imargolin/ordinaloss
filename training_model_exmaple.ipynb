{
 "cells": [
  {
   "cell_type": "code",
   "execution_count": 3,
   "id": "98e9a52b-f468-4cf3-abe8-256b4b46df3d",
   "metadata": {},
   "outputs": [
    {
     "name": "stdout",
     "output_type": "stream",
     "text": [
      "The autoreload extension is already loaded. To reload it, use:\n",
      "  %reload_ext autoreload\n"
     ]
    }
   ],
   "source": [
    "%load_ext autoreload\n",
    "%autoreload 2"
   ]
  },
  {
   "cell_type": "code",
   "execution_count": 4,
   "id": "42edebea-d418-4d45-ba09-a92b8fb07a46",
   "metadata": {},
   "outputs": [],
   "source": [
    "import os\n",
    "import pandas as pd"
   ]
  },
  {
   "cell_type": "code",
   "execution_count": 5,
   "id": "440c4122-8a78-4284-9969-544fd9f7d701",
   "metadata": {},
   "outputs": [
    {
     "name": "stderr",
     "output_type": "stream",
     "text": [
      "/home/dsi/itaym/anaconda3/envs/maruloss/lib/python3.9/site-packages/tqdm/auto.py:22: TqdmWarning: IProgress not found. Please update jupyter and ipywidgets. See https://ipywidgets.readthedocs.io/en/stable/user_install.html\n",
      "  from .autonotebook import tqdm as notebook_tqdm\n"
     ]
    },
    {
     "name": "stdout",
     "output_type": "stream",
     "text": [
      "loaded ordinaloss.utils.pretrained_models\n"
     ]
    }
   ],
   "source": [
    "from ordinaloss.utils.datasets import ImageFolder, create_transform_pipeline\n",
    "from ordinaloss.utils.pretrained_models import classification_model_densenet, classification_model_resnet, classification_model_vgg\n",
    "from ordinaloss.utils.loss_utils import CSCELoss, create_ordinal_cost_matrix\n",
    "from ordinaloss.engine.model_engine import OrdinalEngine\n",
    "\n",
    "\n",
    "import matplotlib.pyplot as plt\n",
    "\n",
    "from torch.utils.data import DataLoader\n",
    "from torch.optim import Adam, SGD\n",
    "import torch"
   ]
  },
  {
   "cell_type": "code",
   "execution_count": 6,
   "id": "8352ce41",
   "metadata": {},
   "outputs": [
    {
     "data": {
      "text/plain": [
       "'cuda:0'"
      ]
     },
     "execution_count": 6,
     "metadata": {},
     "output_type": "execute_result"
    }
   ],
   "source": [
    "device = \"cuda:0\" if torch.cuda.is_available() else \"cpu\"\n",
    "device"
   ]
  },
  {
   "cell_type": "code",
   "execution_count": 7,
   "id": "4e846e2c-23fa-48c8-88fd-924869d48348",
   "metadata": {},
   "outputs": [],
   "source": [
    "train_transform = create_transform_pipeline(brightness=0.3, contrast=0.3, saturation=0.3, hue=0.3) #These are hyperparameters. \n",
    "test_transform = create_transform_pipeline() #Without color jitter for test pipeline\n",
    "\n",
    "train_dataset = ImageFolder(\"../datasets/kneeKL224/train/\", transform=train_transform)\n",
    "val_dataset = ImageFolder(\"../datasets/kneeKL224/val/\", transform = test_transform)\n",
    "test_dataset = ImageFolder(\"../datasets/kneeKL224/test/\", transform = test_transform)\n",
    "auto_test_dataset = ImageFolder(\"../datasets/kneeKL224/auto_test/\", transform = test_transform)\n",
    "\n",
    "train_loader = DataLoader(train_dataset, batch_size = 32, shuffle=True)\n",
    "test_loader  = DataLoader(test_dataset,  batch_size = 128, shuffle=False)"
   ]
  },
  {
   "cell_type": "code",
   "execution_count": 8,
   "id": "1b1bd860-b117-4e8a-9ee8-0e4bd026cadd",
   "metadata": {},
   "outputs": [],
   "source": [
    "#model = classification_model_vgg(\"vgg16\", num_classes = 5) #Could also be resnet34, resnet50, resnet101, resnet152, \n",
    "model = classification_model_vgg(\"vgg16\", num_classes = 5) #Could also be resnet34, resnet50, resnet101, resnet152, \n",
    "# model = classification_model_densenet(\"densenet121\", num_classes = 5) #Could also be densenet169, densenet201\n",
    "\n",
    "print(\"asd!\")"
   ]
  },
  {
   "cell_type": "code",
   "execution_count": 10,
   "id": "eb73c1be-b7ea-4cf5-8045-55f0bd9f4872",
   "metadata": {},
   "outputs": [],
   "source": [
    "def my_lambda_scheduler(epoch):\n",
    "    return (0.8 ** (epoch // 5))\n",
    "\n",
    "engine = OrdinalEngine(model, \n",
    "                       loss_fn = CSCELoss(create_ordinal_cost_matrix(5)), #CSCELoss model, matan, you know the dril.\n",
    "                       device = device, #change to gpu, let me know if it doesnt work on GPU.\n",
    "                       use_lr_scheduler=True, scheduler_lambda_fn = my_lambda_scheduler,\n",
    "                       optimizer_fn=SGD, lr = 5.0e-4, weight_decay=5.0e-4)"
   ]
  },
  {
   "cell_type": "code",
   "execution_count": 11,
   "id": "25d5f8a2-5fc4-4ef1-969b-52de90659805",
   "metadata": {
    "collapsed": true,
    "jupyter": {
     "outputs_hidden": true
    },
    "tags": []
   },
   "outputs": [
    {
     "name": "stderr",
     "output_type": "stream",
     "text": [
      "100%|██████████| 181/181 [03:10<00:00,  1.05s/it, accuracy=0.422, batch_size=5778, loss=28.9, mae=1.29]\n",
      "100%|██████████| 13/13 [00:39<00:00,  3.05s/it, accuracy=0.457, batch_size=1656, loss=26.5, mae=1.07]\n"
     ]
    },
    {
     "name": "stdout",
     "output_type": "stream",
     "text": [
      "{'loss': 26.519251772746948, 'accuracy': 0.4565217399942702, 'mae': 1.0724637715712837}\n"
     ]
    },
    {
     "name": "stderr",
     "output_type": "stream",
     "text": [
      "100%|██████████| 181/181 [03:13<00:00,  1.07s/it, accuracy=0.493, batch_size=5778, loss=25.3, mae=1.13]\n",
      "100%|██████████| 13/13 [00:43<00:00,  3.32s/it, accuracy=0.498, batch_size=1656, loss=28.7, mae=1.14]\n"
     ]
    },
    {
     "name": "stdout",
     "output_type": "stream",
     "text": [
      "{'loss': 28.65351328872828, 'accuracy': 0.49818840579710144, 'mae': 1.1388888888888888}\n"
     ]
    },
    {
     "name": "stderr",
     "output_type": "stream",
     "text": [
      "100%|██████████| 181/181 [04:15<00:00,  1.41s/it, accuracy=0.584, batch_size=5778, loss=21.9, mae=0.977]\n",
      "100%|██████████| 13/13 [01:05<00:00,  5.02s/it, accuracy=0.611, batch_size=1656, loss=20.6, mae=0.97]\n"
     ]
    },
    {
     "name": "stdout",
     "output_type": "stream",
     "text": [
      "{'loss': 20.56404257511747, 'accuracy': 0.6111111154302883, 'mae': 0.9698067661644756}\n"
     ]
    },
    {
     "name": "stderr",
     "output_type": "stream",
     "text": [
      "100%|██████████| 181/181 [04:05<00:00,  1.35s/it, accuracy=0.615, batch_size=5778, loss=20, mae=0.937]  \n",
      "100%|██████████| 13/13 [00:26<00:00,  2.07s/it, accuracy=0.622, batch_size=1656, loss=19.1, mae=0.935]\n"
     ]
    },
    {
     "name": "stdout",
     "output_type": "stream",
     "text": [
      "{'loss': 19.07232497394949, 'accuracy': 0.6219806792079539, 'mae': 0.9353864736459105}\n"
     ]
    },
    {
     "name": "stderr",
     "output_type": "stream",
     "text": [
      "100%|██████████| 181/181 [03:35<00:00,  1.19s/it, accuracy=0.646, batch_size=5778, loss=18.6, mae=0.906]\n",
      "100%|██████████| 13/13 [00:36<00:00,  2.84s/it, accuracy=0.665, batch_size=1656, loss=17.3, mae=0.851]\n"
     ]
    },
    {
     "name": "stdout",
     "output_type": "stream",
     "text": [
      "{'loss': 17.257069573886152, 'accuracy': 0.6654589392136836, 'mae': 0.8508454116358273}\n"
     ]
    },
    {
     "name": "stderr",
     "output_type": "stream",
     "text": [
      "100%|██████████| 181/181 [03:16<00:00,  1.09s/it, accuracy=0.689, batch_size=5778, loss=16.5, mae=0.839]\n",
      "100%|██████████| 13/13 [00:13<00:00,  1.04s/it, accuracy=0.676, batch_size=1656, loss=17.5, mae=0.836]\n"
     ]
    },
    {
     "name": "stdout",
     "output_type": "stream",
     "text": [
      "{'loss': 17.515506808884478, 'accuracy': 0.6757246396967754, 'mae': 0.8363526580126389}\n"
     ]
    },
    {
     "name": "stderr",
     "output_type": "stream",
     "text": [
      "100%|██████████| 181/181 [01:17<00:00,  2.33it/s, accuracy=0.701, batch_size=5778, loss=15.6, mae=0.838]\n",
      "100%|██████████| 13/13 [00:09<00:00,  1.31it/s, accuracy=0.533, batch_size=1656, loss=24.3, mae=1.09]\n"
     ]
    },
    {
     "name": "stdout",
     "output_type": "stream",
     "text": [
      "{'loss': 24.26964891590358, 'accuracy': 0.5326086979557351, 'mae': 1.091183576606898}\n"
     ]
    },
    {
     "name": "stderr",
     "output_type": "stream",
     "text": [
      "100%|██████████| 181/181 [01:20<00:00,  2.24it/s, accuracy=0.722, batch_size=5778, loss=14.8, mae=0.783]\n",
      "100%|██████████| 13/13 [00:11<00:00,  1.11it/s, accuracy=0.679, batch_size=1656, loss=17.3, mae=0.868]\n"
     ]
    },
    {
     "name": "stdout",
     "output_type": "stream",
     "text": [
      "{'loss': 17.343115076350706, 'accuracy': 0.6787439642321085, 'mae': 0.8683574880666779}\n"
     ]
    },
    {
     "name": "stderr",
     "output_type": "stream",
     "text": [
      "100%|██████████| 181/181 [02:26<00:00,  1.23it/s, accuracy=0.742, batch_size=5778, loss=13.7, mae=0.747]\n",
      "100%|██████████| 13/13 [00:19<00:00,  1.48s/it, accuracy=0.665, batch_size=1656, loss=17.2, mae=0.9] \n"
     ]
    },
    {
     "name": "stdout",
     "output_type": "stream",
     "text": [
      "{'loss': 17.18836884106991, 'accuracy': 0.6648550764950001, 'mae': 0.899758455042102}\n"
     ]
    },
    {
     "name": "stderr",
     "output_type": "stream",
     "text": [
      "100%|██████████| 181/181 [01:32<00:00,  1.96it/s, accuracy=0.756, batch_size=5778, loss=13.1, mae=0.719]\n",
      "100%|██████████| 13/13 [00:10<00:00,  1.19it/s, accuracy=0.652, batch_size=1656, loss=19.5, mae=0.941]\n"
     ]
    },
    {
     "name": "stdout",
     "output_type": "stream",
     "text": [
      "{'loss': 19.49776175402213, 'accuracy': 0.6521739159229297, 'mae': 0.9408212566145376}\n"
     ]
    },
    {
     "name": "stderr",
     "output_type": "stream",
     "text": [
      "100%|██████████| 181/181 [01:33<00:00,  1.94it/s, accuracy=0.783, batch_size=5778, loss=11.6, mae=0.662]\n",
      "100%|██████████| 13/13 [00:20<00:00,  1.56s/it, accuracy=0.674, batch_size=1656, loss=18.3, mae=0.905]\n"
     ]
    },
    {
     "name": "stdout",
     "output_type": "stream",
     "text": [
      "{'loss': 18.292784815249234, 'accuracy': 0.6739130463577123, 'mae': 0.9051932407462079}\n"
     ]
    },
    {
     "name": "stderr",
     "output_type": "stream",
     "text": [
      "100%|██████████| 181/181 [01:32<00:00,  1.95it/s, accuracy=0.818, batch_size=5778, loss=10.4, mae=0.554]\n",
      "100%|██████████| 13/13 [00:10<00:00,  1.22it/s, accuracy=0.645, batch_size=1656, loss=21, mae=0.904]  \n"
     ]
    },
    {
     "name": "stdout",
     "output_type": "stream",
     "text": [
      "{'loss': 21.041270684504855, 'accuracy': 0.6449275411269515, 'mae': 0.9039855079662397}\n"
     ]
    },
    {
     "name": "stderr",
     "output_type": "stream",
     "text": [
      "100%|██████████| 181/181 [01:22<00:00,  2.19it/s, accuracy=0.826, batch_size=5778, loss=9.94, mae=0.541]\n",
      "100%|██████████| 13/13 [00:11<00:00,  1.09it/s, accuracy=0.695, batch_size=1656, loss=20.3, mae=0.808]\n"
     ]
    },
    {
     "name": "stdout",
     "output_type": "stream",
     "text": [
      "{'loss': 20.26565989434431, 'accuracy': 0.6950483143617565, 'mae': 0.8079710144927537}\n"
     ]
    },
    {
     "name": "stderr",
     "output_type": "stream",
     "text": [
      "100%|██████████| 181/181 [01:23<00:00,  2.18it/s, accuracy=0.841, batch_size=5778, loss=8.94, mae=0.505]\n",
      "100%|██████████| 13/13 [00:11<00:00,  1.12it/s, accuracy=0.675, batch_size=1656, loss=22.6, mae=0.866]\n"
     ]
    },
    {
     "name": "stdout",
     "output_type": "stream",
     "text": [
      "{'loss': 22.5582665729062, 'accuracy': 0.6751207743865856, 'mae': 0.8659420301372879}\n"
     ]
    },
    {
     "name": "stderr",
     "output_type": "stream",
     "text": [
      "100%|██████████| 181/181 [01:21<00:00,  2.22it/s, accuracy=0.854, batch_size=5778, loss=8.24, mae=0.456]\n",
      "100%|██████████| 13/13 [00:11<00:00,  1.14it/s, accuracy=0.652, batch_size=1656, loss=20.1, mae=1.03]"
     ]
    },
    {
     "name": "stdout",
     "output_type": "stream",
     "text": [
      "{'loss': 20.102727539873353, 'accuracy': 0.6515700511886302, 'mae': 1.0307971037528365}\n"
     ]
    },
    {
     "name": "stderr",
     "output_type": "stream",
     "text": [
      "\n"
     ]
    }
   ],
   "source": [
    "engine.train(train_loader, test_loader, n_epochs = 15)"
   ]
  },
  {
   "cell_type": "code",
   "execution_count": null,
   "id": "06ce6f0b",
   "metadata": {},
   "outputs": [],
   "source": []
  }
 ],
 "metadata": {
  "kernelspec": {
   "display_name": "Python 3.9.12 ('maruloss': conda)",
   "language": "python",
   "name": "python3"
  },
  "language_info": {
   "codemirror_mode": {
    "name": "ipython",
    "version": 3
   },
   "file_extension": ".py",
   "mimetype": "text/x-python",
   "name": "python",
   "nbconvert_exporter": "python",
   "pygments_lexer": "ipython3",
   "version": "3.9.12"
  },
  "vscode": {
   "interpreter": {
    "hash": "7e97c30b3269f9da24b9fb2b586032ecca136d76e1141d9f46df271ff014add6"
   }
  }
 },
 "nbformat": 4,
 "nbformat_minor": 5
}

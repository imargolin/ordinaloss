{
 "cells": [
  {
   "cell_type": "code",
   "execution_count": 1,
   "id": "98e9a52b-f468-4cf3-abe8-256b4b46df3d",
   "metadata": {},
   "outputs": [],
   "source": [
    "%load_ext autoreload\n",
    "%autoreload 2"
   ]
  },
  {
   "cell_type": "code",
   "execution_count": 2,
   "id": "42edebea-d418-4d45-ba09-a92b8fb07a46",
   "metadata": {},
   "outputs": [],
   "source": [
    "import os\n",
    "import pandas as pd"
   ]
  },
  {
   "cell_type": "code",
   "execution_count": 3,
   "id": "440c4122-8a78-4284-9969-544fd9f7d701",
   "metadata": {},
   "outputs": [
    {
     "name": "stderr",
     "output_type": "stream",
     "text": [
      "/home/dsi/itaym/anaconda3/envs/maruloss/lib/python3.9/site-packages/tqdm/auto.py:22: TqdmWarning: IProgress not found. Please update jupyter and ipywidgets. See https://ipywidgets.readthedocs.io/en/stable/user_install.html\n",
      "  from .autonotebook import tqdm as notebook_tqdm\n"
     ]
    },
    {
     "name": "stdout",
     "output_type": "stream",
     "text": [
      "loaded ordinaloss.utils.pretrained_models\n",
      "loaded ordinaloss.engine.model_engine\n",
      "loaded ordinaloss.engine.model_engine\n",
      "loaded ordinaloss.utils.datasets\n",
      "loaded ordinaloss.utils.loss_utils\n"
     ]
    },
    {
     "data": {
      "text/plain": [
       "'cuda:1'"
      ]
     },
     "execution_count": 3,
     "metadata": {},
     "output_type": "execute_result"
    }
   ],
   "source": [
    "#from ordinaloss.utils.datasets import ImageFolder, create_transform_pipeline\n",
    "from ordinaloss.utils.pretrained_models import classification_model_densenet, classification_model_resnet, classification_model_vgg\n",
    "from ordinaloss.utils.utils import create_ordinal_cost_matrix\n",
    "\n",
    "\n",
    "from ordinaloss.engine.model_engine import OrdinalEngine, OrdinalEngineNew\n",
    "from ordinaloss.utils.datasets import data_load\n",
    "\n",
    "from ordinaloss.utils.loss_utils import SinimLoss, GirlsLoss, CSCELoss\n",
    "\n",
    "\n",
    "import matplotlib.pyplot as plt\n",
    "\n",
    "from torch.utils.data import DataLoader\n",
    "from torch.optim import Adam, SGD\n",
    "import torch\n",
    "import numpy as np\n",
    "\n",
    "device = \"cuda:1\" if torch.cuda.is_available() else \"cpu\"\n",
    "device"
   ]
  },
  {
   "cell_type": "code",
   "execution_count": 4,
   "id": "013550f4",
   "metadata": {},
   "outputs": [],
   "source": [
    "model = classification_model_vgg(\"vgg19\", num_classes = 5)\n",
    "cost_matrix = create_ordinal_cost_matrix(5, cost_distance=3, diagonal_value=20)\n",
    "loaders, _, _ = data_load(\"../datasets/kneeKL224/\", 16)"
   ]
  },
  {
   "cell_type": "code",
   "execution_count": null,
   "id": "eb73c1be-b7ea-4cf5-8045-55f0bd9f4872",
   "metadata": {},
   "outputs": [],
   "source": [
    "from ordinaloss.utils.loss_utils import GirlsLoss, SinimLoss\n",
    "\n",
    "\n",
    "def my_lambda_scheduler(epoch):\n",
    "    return (0.9 ** (epoch // 5))\n",
    "\n",
    "num_classes = 5\n",
    "loaders, _, _ = data_load(\"../datasets/kneeKL224/\", 16)\n",
    "\n",
    "\n",
    "for diagonal_value in [7,9,13,20]:\n",
    "    for cost_distance in [1,2,3,4]:\n",
    "\n",
    "        model = classification_model_vgg(\"vgg19\", num_classes=num_classes)\n",
    "        cost_matrix = create_ordinal_cost_matrix(num_classes=num_classes, cost_distance=3, diagonal_value=diagonal_value)\n",
    "\n",
    "        engine = OrdinalEngineNew(\n",
    "            model=model, loss_fn=CSCELoss(cost_matrix), \n",
    "            device=device, loaders=loaders,\n",
    "            use_lr_scheduler=True, scheduler_lambda_fn = my_lambda_scheduler,\n",
    "            optimizer_fn=SGD, lr=1.0e-3, weight_decay=5.0e-2)\n",
    "\n",
    "        engine.train(n_epochs=15)"
   ]
  }
 ],
 "metadata": {
  "kernelspec": {
   "display_name": "Python 3.9.12 ('maruloss')",
   "language": "python",
   "name": "python3"
  },
  "language_info": {
   "codemirror_mode": {
    "name": "ipython",
    "version": 3
   },
   "file_extension": ".py",
   "mimetype": "text/x-python",
   "name": "python",
   "nbconvert_exporter": "python",
   "pygments_lexer": "ipython3",
   "version": "3.9.12"
  },
  "vscode": {
   "interpreter": {
    "hash": "7e97c30b3269f9da24b9fb2b586032ecca136d76e1141d9f46df271ff014add6"
   }
  }
 },
 "nbformat": 4,
 "nbformat_minor": 5
}

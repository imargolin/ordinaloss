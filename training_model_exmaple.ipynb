{
 "cells": [
  {
   "cell_type": "code",
   "execution_count": 20,
   "id": "e54acf1d",
   "metadata": {},
   "outputs": [
    {
     "data": {
      "text/plain": [
       "<module 'torch.optim.lr_scheduler' from '/home/dsi/itaym/anaconda3/envs/maruloss/lib/python3.9/site-packages/torch/optim/lr_scheduler.py'>"
      ]
     },
     "execution_count": 20,
     "metadata": {},
     "output_type": "execute_result"
    }
   ],
   "source": []
  },
  {
   "cell_type": "code",
   "execution_count": 2,
   "id": "98e9a52b-f468-4cf3-abe8-256b4b46df3d",
   "metadata": {},
   "outputs": [],
   "source": [
    "%load_ext autoreload\n",
    "%autoreload 2"
   ]
  },
  {
   "cell_type": "code",
   "execution_count": 3,
   "id": "42edebea-d418-4d45-ba09-a92b8fb07a46",
   "metadata": {},
   "outputs": [],
   "source": [
    "import os\n",
    "import pandas as pd"
   ]
  },
  {
   "cell_type": "code",
   "execution_count": 4,
   "id": "440c4122-8a78-4284-9969-544fd9f7d701",
   "metadata": {},
   "outputs": [
    {
     "name": "stderr",
     "output_type": "stream",
     "text": [
      "/home/dsi/itaym/anaconda3/envs/maruloss/lib/python3.9/site-packages/tqdm/auto.py:22: TqdmWarning: IProgress not found. Please update jupyter and ipywidgets. See https://ipywidgets.readthedocs.io/en/stable/user_install.html\n",
      "  from .autonotebook import tqdm as notebook_tqdm\n"
     ]
    },
    {
     "name": "stdout",
     "output_type": "stream",
     "text": [
      "loaded ordinaloss.utils.pretrained_models\n"
     ]
    }
   ],
   "source": [
    "from ordinaloss.utils.datasets import ImageFolder, create_transform_pipeline\n",
    "from ordinaloss.utils.pretrained_models import classification_model_densenet, classification_model_resnet, classification_model_vgg\n",
    "from ordinaloss.utils.loss_utils import CSCELoss, create_ordinal_cost_matrix\n",
    "from ordinaloss.engine.model_engine import OrdinalEngine\n",
    "\n",
    "\n",
    "import matplotlib.pyplot as plt\n",
    "\n",
    "from torch.utils.data import DataLoader\n",
    "from torch.optim import Adam, SGD\n",
    "import torch"
   ]
  },
  {
   "cell_type": "code",
   "execution_count": 5,
   "id": "8352ce41",
   "metadata": {},
   "outputs": [
    {
     "data": {
      "text/plain": [
       "'cuda:0'"
      ]
     },
     "execution_count": 5,
     "metadata": {},
     "output_type": "execute_result"
    }
   ],
   "source": [
    "device = \"cuda:0\" if torch.cuda.is_available() else \"cpu\"\n",
    "device"
   ]
  },
  {
   "cell_type": "code",
   "execution_count": 6,
   "id": "4e846e2c-23fa-48c8-88fd-924869d48348",
   "metadata": {},
   "outputs": [],
   "source": [
    "train_transform = create_transform_pipeline(brightness=0.3, contrast=0.3, saturation=0.3, hue=0.3) #These are hyperparameters. \n",
    "test_transform = create_transform_pipeline() #Without color jitter for test pipeline\n",
    "\n",
    "train_dataset = ImageFolder(\"../datasets/kneeKL224/train/\", transform=train_transform)\n",
    "val_dataset = ImageFolder(\"../datasets/kneeKL224/val/\", transform = test_transform)\n",
    "test_dataset = ImageFolder(\"../datasets/kneeKL224/test/\", transform = test_transform)\n",
    "auto_test_dataset = ImageFolder(\"../datasets/kneeKL224/auto_test/\", transform = test_transform)\n",
    "\n",
    "train_loader = DataLoader(train_dataset, batch_size = 32, shuffle=True)\n",
    "test_loader  = DataLoader(test_dataset,  batch_size = 128, shuffle=False)"
   ]
  },
  {
   "cell_type": "code",
   "execution_count": 10,
   "id": "1b1bd860-b117-4e8a-9ee8-0e4bd026cadd",
   "metadata": {},
   "outputs": [],
   "source": [
    "#model = classification_model_vgg(\"vgg16\", num_classes = 5) #Could also be resnet34, resnet50, resnet101, resnet152, \n",
    "model = classification_model_vgg(\"vgg16\", num_classes = 5) #Could also be resnet34, resnet50, resnet101, resnet152, \n",
    "# model = classification_model_densenet(\"densenet121\", num_classes = 5) #Could also be densenet169, densenet201\n",
    "\n"
   ]
  },
  {
   "cell_type": "code",
   "execution_count": 21,
   "id": "eb73c1be-b7ea-4cf5-8045-55f0bd9f4872",
   "metadata": {},
   "outputs": [
    {
     "ename": "TypeError",
     "evalue": "'str' object is not callable",
     "output_type": "error",
     "traceback": [
      "\u001b[0;31m---------------------------------------------------------------------------\u001b[0m",
      "\u001b[0;31mTypeError\u001b[0m                                 Traceback (most recent call last)",
      "\u001b[1;32m/home/dsi/itaym/projects/ordinaloss/training_model_exmaple.ipynb Cell 8\u001b[0m in \u001b[0;36m<cell line: 1>\u001b[0;34m()\u001b[0m\n\u001b[0;32m----> <a href='vscode-notebook-cell://ssh-remote%2Bdsiaspl01/home/dsi/itaym/projects/ordinaloss/training_model_exmaple.ipynb#W6sdnNjb2RlLXJlbW90ZQ%3D%3D?line=0'>1</a>\u001b[0m engine \u001b[39m=\u001b[39m OrdinalEngine(model, \n\u001b[1;32m      <a href='vscode-notebook-cell://ssh-remote%2Bdsiaspl01/home/dsi/itaym/projects/ordinaloss/training_model_exmaple.ipynb#W6sdnNjb2RlLXJlbW90ZQ%3D%3D?line=1'>2</a>\u001b[0m                        loss_fn \u001b[39m=\u001b[39;49m CSCELoss(create_ordinal_cost_matrix(\u001b[39m5\u001b[39;49m)), \u001b[39m#CSCELoss model, matan, you know the dril.\u001b[39;49;00m\n\u001b[1;32m      <a href='vscode-notebook-cell://ssh-remote%2Bdsiaspl01/home/dsi/itaym/projects/ordinaloss/training_model_exmaple.ipynb#W6sdnNjb2RlLXJlbW90ZQ%3D%3D?line=2'>3</a>\u001b[0m                        device \u001b[39m=\u001b[39;49m device, \u001b[39m#change to gpu, let me know if it doesnt work on GPU.\u001b[39;49;00m\n\u001b[1;32m      <a href='vscode-notebook-cell://ssh-remote%2Bdsiaspl01/home/dsi/itaym/projects/ordinaloss/training_model_exmaple.ipynb#W6sdnNjb2RlLXJlbW90ZQ%3D%3D?line=3'>4</a>\u001b[0m                        use_lr_scheduler\u001b[39m=\u001b[39;49m\u001b[39mTrue\u001b[39;49;00m, scheduler_lambda_fn \u001b[39m=\u001b[39;49m \u001b[39m\"\u001b[39;49m\u001b[39masd\u001b[39;49m\u001b[39m\"\u001b[39;49m,\n\u001b[1;32m      <a href='vscode-notebook-cell://ssh-remote%2Bdsiaspl01/home/dsi/itaym/projects/ordinaloss/training_model_exmaple.ipynb#W6sdnNjb2RlLXJlbW90ZQ%3D%3D?line=4'>5</a>\u001b[0m                        optimizer_fn\u001b[39m=\u001b[39;49mSGD, lr \u001b[39m=\u001b[39;49m \u001b[39m5.0e-4\u001b[39;49m, weight_decay\u001b[39m=\u001b[39;49m\u001b[39m5.0e-4\u001b[39;49m)\n",
      "File \u001b[0;32m~/projects/ordinaloss/ordinaloss/engine/model_engine.py:51\u001b[0m, in \u001b[0;36m__init__\u001b[0;34m(self, model, loss_fn, device, optimizer_fn, use_lr_scheduler, scheduler_lambda_fn, **optimizer_params)\u001b[0m\n\u001b[1;32m     46\u001b[0m self.set_optimizer(optimizer_fn, **optimizer_params)\n\u001b[1;32m     47\u001b[0m self.use_lr_scheduler = use_lr_scheduler\n\u001b[1;32m     49\u001b[0m if self.use_lr_scheduler:\n\u001b[1;32m     50\u001b[0m \n\u001b[0;32m---> 51\u001b[0m     #Setting the init_lr based on the _optimizer of the engine\n\u001b[1;32m     52\u001b[0m     init_lr = self._optimizer.param_groups[0][\"lr\"]\n\u001b[1;32m     54\u001b[0m     self.scheduler = LRScheduler(init_lr = init_lr, \n\u001b[1;32m     55\u001b[0m                                  lr_decay_epoch=lr_decay_epoch, \n\u001b[1;32m     56\u001b[0m                                  lr_decay_factor= lr_decay_factor)\n",
      "File \u001b[0;32m~/anaconda3/envs/maruloss/lib/python3.9/site-packages/torch/optim/lr_scheduler.py:205\u001b[0m, in \u001b[0;36mLambdaLR.__init__\u001b[0;34m(self, optimizer, lr_lambda, last_epoch, verbose)\u001b[0m\n\u001b[1;32m    202\u001b[0m         \u001b[39mraise\u001b[39;00m \u001b[39mValueError\u001b[39;00m(\u001b[39m\"\u001b[39m\u001b[39mExpected \u001b[39m\u001b[39m{}\u001b[39;00m\u001b[39m lr_lambdas, but got \u001b[39m\u001b[39m{}\u001b[39;00m\u001b[39m\"\u001b[39m\u001b[39m.\u001b[39mformat(\n\u001b[1;32m    203\u001b[0m             \u001b[39mlen\u001b[39m(optimizer\u001b[39m.\u001b[39mparam_groups), \u001b[39mlen\u001b[39m(lr_lambda)))\n\u001b[1;32m    204\u001b[0m     \u001b[39mself\u001b[39m\u001b[39m.\u001b[39mlr_lambdas \u001b[39m=\u001b[39m \u001b[39mlist\u001b[39m(lr_lambda)\n\u001b[0;32m--> 205\u001b[0m \u001b[39msuper\u001b[39;49m(LambdaLR, \u001b[39mself\u001b[39;49m)\u001b[39m.\u001b[39;49m\u001b[39m__init__\u001b[39;49m(optimizer, last_epoch, verbose)\n",
      "File \u001b[0;32m~/anaconda3/envs/maruloss/lib/python3.9/site-packages/torch/optim/lr_scheduler.py:77\u001b[0m, in \u001b[0;36m_LRScheduler.__init__\u001b[0;34m(self, optimizer, last_epoch, verbose)\u001b[0m\n\u001b[1;32m     74\u001b[0m \u001b[39mself\u001b[39m\u001b[39m.\u001b[39m_step_count \u001b[39m=\u001b[39m \u001b[39m0\u001b[39m\n\u001b[1;32m     75\u001b[0m \u001b[39mself\u001b[39m\u001b[39m.\u001b[39mverbose \u001b[39m=\u001b[39m verbose\n\u001b[0;32m---> 77\u001b[0m \u001b[39mself\u001b[39;49m\u001b[39m.\u001b[39;49mstep()\n",
      "File \u001b[0;32m~/anaconda3/envs/maruloss/lib/python3.9/site-packages/torch/optim/lr_scheduler.py:154\u001b[0m, in \u001b[0;36m_LRScheduler.step\u001b[0;34m(self, epoch)\u001b[0m\n\u001b[1;32m    152\u001b[0m \u001b[39mif\u001b[39;00m epoch \u001b[39mis\u001b[39;00m \u001b[39mNone\u001b[39;00m:\n\u001b[1;32m    153\u001b[0m     \u001b[39mself\u001b[39m\u001b[39m.\u001b[39mlast_epoch \u001b[39m+\u001b[39m\u001b[39m=\u001b[39m \u001b[39m1\u001b[39m\n\u001b[0;32m--> 154\u001b[0m     values \u001b[39m=\u001b[39m \u001b[39mself\u001b[39;49m\u001b[39m.\u001b[39;49mget_lr()\n\u001b[1;32m    155\u001b[0m \u001b[39melse\u001b[39;00m:\n\u001b[1;32m    156\u001b[0m     warnings\u001b[39m.\u001b[39mwarn(EPOCH_DEPRECATION_WARNING, \u001b[39mUserWarning\u001b[39;00m)\n",
      "File \u001b[0;32m~/anaconda3/envs/maruloss/lib/python3.9/site-packages/torch/optim/lr_scheduler.py:252\u001b[0m, in \u001b[0;36mLambdaLR.get_lr\u001b[0;34m(self)\u001b[0m\n\u001b[1;32m    248\u001b[0m \u001b[39mif\u001b[39;00m \u001b[39mnot\u001b[39;00m \u001b[39mself\u001b[39m\u001b[39m.\u001b[39m_get_lr_called_within_step:\n\u001b[1;32m    249\u001b[0m     warnings\u001b[39m.\u001b[39mwarn(\u001b[39m\"\u001b[39m\u001b[39mTo get the last learning rate computed by the scheduler, \u001b[39m\u001b[39m\"\u001b[39m\n\u001b[1;32m    250\u001b[0m                   \u001b[39m\"\u001b[39m\u001b[39mplease use `get_last_lr()`.\u001b[39m\u001b[39m\"\u001b[39m)\n\u001b[0;32m--> 252\u001b[0m \u001b[39mreturn\u001b[39;00m [base_lr \u001b[39m*\u001b[39m lmbda(\u001b[39mself\u001b[39m\u001b[39m.\u001b[39mlast_epoch)\n\u001b[1;32m    253\u001b[0m         \u001b[39mfor\u001b[39;00m lmbda, base_lr \u001b[39min\u001b[39;00m \u001b[39mzip\u001b[39m(\u001b[39mself\u001b[39m\u001b[39m.\u001b[39mlr_lambdas, \u001b[39mself\u001b[39m\u001b[39m.\u001b[39mbase_lrs)]\n",
      "File \u001b[0;32m~/anaconda3/envs/maruloss/lib/python3.9/site-packages/torch/optim/lr_scheduler.py:252\u001b[0m, in \u001b[0;36m<listcomp>\u001b[0;34m(.0)\u001b[0m\n\u001b[1;32m    248\u001b[0m \u001b[39mif\u001b[39;00m \u001b[39mnot\u001b[39;00m \u001b[39mself\u001b[39m\u001b[39m.\u001b[39m_get_lr_called_within_step:\n\u001b[1;32m    249\u001b[0m     warnings\u001b[39m.\u001b[39mwarn(\u001b[39m\"\u001b[39m\u001b[39mTo get the last learning rate computed by the scheduler, \u001b[39m\u001b[39m\"\u001b[39m\n\u001b[1;32m    250\u001b[0m                   \u001b[39m\"\u001b[39m\u001b[39mplease use `get_last_lr()`.\u001b[39m\u001b[39m\"\u001b[39m)\n\u001b[0;32m--> 252\u001b[0m \u001b[39mreturn\u001b[39;00m [base_lr \u001b[39m*\u001b[39m lmbda(\u001b[39mself\u001b[39;49m\u001b[39m.\u001b[39;49mlast_epoch)\n\u001b[1;32m    253\u001b[0m         \u001b[39mfor\u001b[39;00m lmbda, base_lr \u001b[39min\u001b[39;00m \u001b[39mzip\u001b[39m(\u001b[39mself\u001b[39m\u001b[39m.\u001b[39mlr_lambdas, \u001b[39mself\u001b[39m\u001b[39m.\u001b[39mbase_lrs)]\n",
      "\u001b[0;31mTypeError\u001b[0m: 'str' object is not callable"
     ]
    }
   ],
   "source": [
    "def my_lambda_scheduler(epoch):\n",
    "    pass\n",
    "\n",
    "engine = OrdinalEngine(model, \n",
    "                       loss_fn = CSCELoss(create_ordinal_cost_matrix(5)), #CSCELoss model, matan, you know the dril.\n",
    "                       device = device, #change to gpu, let me know if it doesnt work on GPU.\n",
    "                       use_lr_scheduler=True, scheduler_lambda_fn = \"asd\",\n",
    "                       optimizer_fn=SGD, lr = 5.0e-4, weight_decay=5.0e-4)"
   ]
  },
  {
   "cell_type": "code",
   "execution_count": 19,
   "id": "4a63847c",
   "metadata": {},
   "outputs": [
    {
     "data": {
      "text/plain": [
       "tensor([[20.,  1.,  2.,  3.,  4.],\n",
       "        [ 1., 20.,  1.,  2.,  3.],\n",
       "        [ 2.,  1., 20.,  1.,  2.],\n",
       "        [ 3.,  2.,  1., 20.,  1.],\n",
       "        [ 4.,  3.,  2.,  1., 20.]])"
      ]
     },
     "execution_count": 19,
     "metadata": {},
     "output_type": "execute_result"
    }
   ],
   "source": [
    "create_ordinal_cost_matrix(5)"
   ]
  },
  {
   "cell_type": "code",
   "execution_count": 12,
   "id": "25d5f8a2-5fc4-4ef1-969b-52de90659805",
   "metadata": {
    "collapsed": true,
    "jupyter": {
     "outputs_hidden": true
    },
    "tags": []
   },
   "outputs": [
    {
     "name": "stderr",
     "output_type": "stream",
     "text": [
      "100%|██████████| 181/181 [01:42<00:00,  1.77it/s, accuracy=0.415, batch_size=5778, loss=29.1, mae=1.29]\n",
      "100%|██████████| 13/13 [00:10<00:00,  1.30it/s, accuracy=0.485, batch_size=1656, loss=26.1, mae=1.12]\n"
     ]
    },
    {
     "name": "stdout",
     "output_type": "stream",
     "text": [
      "{'loss': 26.146457524691225, 'accuracy': 0.48490338624963436, 'mae': 1.1231884065889506}\n"
     ]
    },
    {
     "name": "stderr",
     "output_type": "stream",
     "text": [
      "100%|██████████| 181/181 [01:44<00:00,  1.73it/s, accuracy=0.493, batch_size=5778, loss=26.1, mae=1.15]\n",
      "100%|██████████| 13/13 [00:10<00:00,  1.28it/s, accuracy=0.511, batch_size=1656, loss=24.7, mae=1.14]\n"
     ]
    },
    {
     "name": "stdout",
     "output_type": "stream",
     "text": [
      "{'loss': 24.65143019911172, 'accuracy': 0.5114734354226486, 'mae': 1.143719806826273}\n"
     ]
    },
    {
     "name": "stderr",
     "output_type": "stream",
     "text": [
      "100%|██████████| 181/181 [01:24<00:00,  2.13it/s, accuracy=0.56, batch_size=5778, loss=23, mae=1.01]    \n",
      "100%|██████████| 13/13 [00:11<00:00,  1.14it/s, accuracy=0.546, batch_size=1656, loss=22.1, mae=1.26]\n"
     ]
    },
    {
     "name": "stdout",
     "output_type": "stream",
     "text": [
      "{'loss': 22.089152755368733, 'accuracy': 0.5464975859807886, 'mae': 1.2602657085455558}\n"
     ]
    },
    {
     "name": "stderr",
     "output_type": "stream",
     "text": [
      "100%|██████████| 181/181 [01:27<00:00,  2.06it/s, accuracy=0.598, batch_size=5778, loss=21, mae=0.962]  \n",
      "100%|██████████| 13/13 [00:09<00:00,  1.36it/s, accuracy=0.602, batch_size=1656, loss=20.8, mae=0.957]\n"
     ]
    },
    {
     "name": "stdout",
     "output_type": "stream",
     "text": [
      "{'loss': 20.761038867747725, 'accuracy': 0.602053145567576, 'mae': 0.9571256039277223}\n"
     ]
    },
    {
     "name": "stderr",
     "output_type": "stream",
     "text": [
      "100%|██████████| 181/181 [01:14<00:00,  2.42it/s, accuracy=0.617, batch_size=5778, loss=19.9, mae=0.929]\n",
      "100%|██████████| 13/13 [00:09<00:00,  1.32it/s, accuracy=0.647, batch_size=1656, loss=18.7, mae=0.874]\n"
     ]
    },
    {
     "name": "stdout",
     "output_type": "stream",
     "text": [
      "{'loss': 18.73137993282742, 'accuracy': 0.6473429992003141, 'mae': 0.8743961355536456}\n"
     ]
    },
    {
     "name": "stderr",
     "output_type": "stream",
     "text": [
      "100%|██████████| 181/181 [01:13<00:00,  2.47it/s, accuracy=0.637, batch_size=5778, loss=18.7, mae=0.911]\n",
      "100%|██████████| 13/13 [00:09<00:00,  1.34it/s, accuracy=0.634, batch_size=1656, loss=18.9, mae=0.888]\n"
     ]
    },
    {
     "name": "stdout",
     "output_type": "stream",
     "text": [
      "{'loss': 18.862609393354774, 'accuracy': 0.634057973605999, 'mae': 0.888285024586507}\n"
     ]
    },
    {
     "name": "stderr",
     "output_type": "stream",
     "text": [
      "100%|██████████| 181/181 [01:12<00:00,  2.49it/s, accuracy=0.661, batch_size=5778, loss=17.5, mae=0.883]\n",
      "100%|██████████| 13/13 [00:09<00:00,  1.34it/s, accuracy=0.642, batch_size=1656, loss=18, mae=0.946] \n"
     ]
    },
    {
     "name": "stdout",
     "output_type": "stream",
     "text": [
      "{'loss': 17.974703217474158, 'accuracy': 0.6419082171675088, 'mae': 0.9456521751368103}\n"
     ]
    },
    {
     "name": "stderr",
     "output_type": "stream",
     "text": [
      "100%|██████████| 181/181 [01:12<00:00,  2.50it/s, accuracy=0.693, batch_size=5778, loss=16.3, mae=0.831]\n",
      "100%|██████████| 13/13 [00:09<00:00,  1.38it/s, accuracy=0.596, batch_size=1656, loss=20.4, mae=1.06]\n"
     ]
    },
    {
     "name": "stdout",
     "output_type": "stream",
     "text": [
      "{'loss': 20.411135733415538, 'accuracy': 0.596014495489102, 'mae': 1.0621980739676433}\n"
     ]
    },
    {
     "name": "stderr",
     "output_type": "stream",
     "text": [
      "100%|██████████| 181/181 [01:11<00:00,  2.54it/s, accuracy=0.71, batch_size=5778, loss=15.2, mae=0.807] \n",
      "100%|██████████| 13/13 [00:09<00:00,  1.38it/s, accuracy=0.661, batch_size=1656, loss=17.2, mae=0.992]\n"
     ]
    },
    {
     "name": "stdout",
     "output_type": "stream",
     "text": [
      "{'loss': 17.240777821932436, 'accuracy': 0.6612318854976967, 'mae': 0.9915458974630936}\n"
     ]
    },
    {
     "name": "stderr",
     "output_type": "stream",
     "text": [
      "100%|██████████| 181/181 [01:11<00:00,  2.54it/s, accuracy=0.732, batch_size=5778, loss=14.3, mae=0.772]\n",
      "100%|██████████| 13/13 [00:09<00:00,  1.39it/s, accuracy=0.639, batch_size=1656, loss=19.8, mae=0.979]\n"
     ]
    },
    {
     "name": "stdout",
     "output_type": "stream",
     "text": [
      "{'loss': 19.8321222913438, 'accuracy': 0.6394927553508593, 'mae': 0.9788647345154757}\n"
     ]
    },
    {
     "name": "stderr",
     "output_type": "stream",
     "text": [
      "100%|██████████| 181/181 [01:11<00:00,  2.54it/s, accuracy=0.741, batch_size=5778, loss=13.8, mae=0.755]\n",
      "100%|██████████| 13/13 [00:09<00:00,  1.44it/s, accuracy=0.671, batch_size=1656, loss=17.7, mae=0.852]\n"
     ]
    },
    {
     "name": "stdout",
     "output_type": "stream",
     "text": [
      "{'loss': 17.654510256172955, 'accuracy': 0.6714975885722948, 'mae': 0.8520531407085018}\n"
     ]
    },
    {
     "name": "stderr",
     "output_type": "stream",
     "text": [
      "100%|██████████| 181/181 [01:11<00:00,  2.52it/s, accuracy=0.771, batch_size=5778, loss=12.4, mae=0.684]\n",
      "100%|██████████| 13/13 [00:09<00:00,  1.32it/s, accuracy=0.694, batch_size=1656, loss=17, mae=0.85]   \n"
     ]
    },
    {
     "name": "stdout",
     "output_type": "stream",
     "text": [
      "{'loss': 16.959047593932222, 'accuracy': 0.6938405848931575, 'mae': 0.8496376824551735}\n"
     ]
    },
    {
     "name": "stderr",
     "output_type": "stream",
     "text": [
      "100%|██████████| 181/181 [01:12<00:00,  2.49it/s, accuracy=0.787, batch_size=5778, loss=11.5, mae=0.644]\n",
      "100%|██████████| 13/13 [00:09<00:00,  1.35it/s, accuracy=0.676, batch_size=1656, loss=17.4, mae=0.926]\n"
     ]
    },
    {
     "name": "stdout",
     "output_type": "stream",
     "text": [
      "{'loss': 17.370947050011676, 'accuracy': 0.6763285052949104, 'mae': 0.9263285055828555}\n"
     ]
    },
    {
     "name": "stderr",
     "output_type": "stream",
     "text": [
      "100%|██████████| 181/181 [01:36<00:00,  1.87it/s, accuracy=0.81, batch_size=5778, loss=10.6, mae=0.571] \n",
      "100%|██████████| 13/13 [00:11<00:00,  1.09it/s, accuracy=0.641, batch_size=1656, loss=22.4, mae=0.932]\n"
     ]
    },
    {
     "name": "stdout",
     "output_type": "stream",
     "text": [
      "{'loss': 22.399546632444224, 'accuracy': 0.6413043524332093, 'mae': 0.9323671503343444}\n"
     ]
    },
    {
     "name": "stderr",
     "output_type": "stream",
     "text": [
      "100%|██████████| 181/181 [01:32<00:00,  1.95it/s, accuracy=0.822, batch_size=5778, loss=9.85, mae=0.553]\n",
      "100%|██████████| 13/13 [00:46<00:00,  3.59s/it, accuracy=0.658, batch_size=1656, loss=22.7, mae=0.924]"
     ]
    },
    {
     "name": "stdout",
     "output_type": "stream",
     "text": [
      "{'loss': 22.749087211590457, 'accuracy': 0.6576087011231316, 'mae': 0.9239130435682438}\n"
     ]
    },
    {
     "name": "stderr",
     "output_type": "stream",
     "text": [
      "\n"
     ]
    }
   ],
   "source": [
    "engine.train(train_loader, test_loader, n_epochs = 15)"
   ]
  },
  {
   "cell_type": "code",
   "execution_count": null,
   "id": "06ce6f0b",
   "metadata": {},
   "outputs": [],
   "source": []
  }
 ],
 "metadata": {
  "kernelspec": {
   "display_name": "Python 3.9.12 ('maruloss': conda)",
   "language": "python",
   "name": "python3"
  },
  "language_info": {
   "codemirror_mode": {
    "name": "ipython",
    "version": 3
   },
   "file_extension": ".py",
   "mimetype": "text/x-python",
   "name": "python",
   "nbconvert_exporter": "python",
   "pygments_lexer": "ipython3",
   "version": "3.9.12"
  },
  "vscode": {
   "interpreter": {
    "hash": "7e97c30b3269f9da24b9fb2b586032ecca136d76e1141d9f46df271ff014add6"
   }
  }
 },
 "nbformat": 4,
 "nbformat_minor": 5
}

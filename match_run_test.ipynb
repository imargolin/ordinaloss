{
 "cells": [
  {
   "cell_type": "code",
   "execution_count": 1,
   "metadata": {},
   "outputs": [],
   "source": [
    "%load_ext autoreload\n",
    "%autoreload 2"
   ]
  },
  {
   "cell_type": "code",
   "execution_count": 2,
   "metadata": {},
   "outputs": [
    {
     "name": "stdout",
     "output_type": "stream",
     "text": [
      "loaded ordinaloss.utils.metric_utils\n",
      "loaded ordinaloss.trainers.trainers\n",
      "loaded ordinaloss.utils.pretrained_models\n",
      "loaded ordinaloss.utils.data_utils\n",
      "loaded ordinaloss.utils.loss_utils\n"
     ]
    }
   ],
   "source": [
    "from train_matan_model import  run_experiment\n",
    "import mlflow\n",
    "from pathlib import Path\n"
   ]
  },
  {
   "cell_type": "code",
   "execution_count": 16,
   "metadata": {},
   "outputs": [
    {
     "data": {
      "text/plain": [
       "'models/0'"
      ]
     },
     "execution_count": 16,
     "metadata": {},
     "output_type": "execute_result"
    }
   ],
   "source": [
    "from pathlib import Path\n",
    "str(Path(\"models\", '0'))"
   ]
  },
  {
   "cell_type": "code",
   "execution_count": null,
   "metadata": {},
   "outputs": [],
   "source": [
    "python train_matan_model.py --research_type csce --n_epochs 16 --n_procs 1 --batch_size 32 --device_id 0 --optim SGD --data_path ../datasets/DermMel/ --model_architecture vgg19 --lamda 0.2 --is_mock 0 --momentum 0.9 --patience 16 --min_delta 1.0 --sch_gamma 0.9 --sch_step_size 5 --weight_decay 5.0e-2 --lr 1.0e-3 --run_id 1"
   ]
  },
  {
   "cell_type": "code",
   "execution_count": 15,
   "metadata": {},
   "outputs": [
    {
     "ename": "FileNotFoundError",
     "evalue": "[Errno 2] No such file or directory: 'export'",
     "output_type": "error",
     "traceback": [
      "\u001b[0;31m---------------------------------------------------------------------------\u001b[0m",
      "\u001b[0;31mFileNotFoundError\u001b[0m                         Traceback (most recent call last)",
      "\u001b[1;32m/home/dsi/marudi/projects/ordinaloss/match_run_test.ipynb Cell 5\u001b[0m in \u001b[0;36m<cell line: 5>\u001b[0;34m()\u001b[0m\n\u001b[1;32m      <a href='vscode-notebook-cell://ssh-remote%2Bdsisco01/home/dsi/marudi/projects/ordinaloss/match_run_test.ipynb#X11sdnNjb2RlLXJlbW90ZQ%3D%3D?line=0'>1</a>\u001b[0m \u001b[39mimport\u001b[39;00m \u001b[39msubprocess\u001b[39;00m\n\u001b[1;32m      <a href='vscode-notebook-cell://ssh-remote%2Bdsisco01/home/dsi/marudi/projects/ordinaloss/match_run_test.ipynb#X11sdnNjb2RlLXJlbW90ZQ%3D%3D?line=3'>4</a>\u001b[0m bashCommand \u001b[39m=\u001b[39m \u001b[39m\"\u001b[39m\u001b[39mexport LD_LIBRARY_PATH=$LD_LIBRARY_PATH:~/anaconda3/lib\u001b[39m\u001b[39m\"\u001b[39m\n\u001b[0;32m----> <a href='vscode-notebook-cell://ssh-remote%2Bdsisco01/home/dsi/marudi/projects/ordinaloss/match_run_test.ipynb#X11sdnNjb2RlLXJlbW90ZQ%3D%3D?line=4'>5</a>\u001b[0m process \u001b[39m=\u001b[39m subprocess\u001b[39m.\u001b[39;49mPopen(bashCommand\u001b[39m.\u001b[39;49msplit(), stdout\u001b[39m=\u001b[39;49msubprocess\u001b[39m.\u001b[39;49mPIPE)\n\u001b[1;32m      <a href='vscode-notebook-cell://ssh-remote%2Bdsisco01/home/dsi/marudi/projects/ordinaloss/match_run_test.ipynb#X11sdnNjb2RlLXJlbW90ZQ%3D%3D?line=5'>6</a>\u001b[0m output, error \u001b[39m=\u001b[39m process\u001b[39m.\u001b[39mcommunicate()\n\u001b[1;32m      <a href='vscode-notebook-cell://ssh-remote%2Bdsisco01/home/dsi/marudi/projects/ordinaloss/match_run_test.ipynb#X11sdnNjb2RlLXJlbW90ZQ%3D%3D?line=8'>9</a>\u001b[0m bashCommand \u001b[39m=\u001b[39m \u001b[39m\"\u001b[39m\u001b[39mpython train_matan_model.py --research_type \u001b[39m\u001b[39m'\u001b[39m\u001b[39mwce\u001b[39m\u001b[39m'\u001b[39m\u001b[39m --n_epochs 2 --n_procs 1 --batch_size 32 --device_id 0 --optim \u001b[39m\u001b[39m'\u001b[39m\u001b[39mSGD\u001b[39m\u001b[39m'\u001b[39m\u001b[39m --data_path \u001b[39m\u001b[39m'\u001b[39m\u001b[39m../datasets/DermMel/\u001b[39m\u001b[39m'\u001b[39m\u001b[39m --model_architecture \u001b[39m\u001b[39m'\u001b[39m\u001b[39mvgg19\u001b[39m\u001b[39m'\u001b[39m\u001b[39m --lamda 0.5 --is_mock 0 --momentum 0.9 --patience 16 --min_delta 1.0 --sch_gamma 0.9 --sch_step_size 5 --weight_decay 5.0e-2 --lr 1.0e-3 --run_id 1\u001b[39m\u001b[39m\"\u001b[39m\n",
      "File \u001b[0;32m~/anaconda3/lib/python3.9/subprocess.py:951\u001b[0m, in \u001b[0;36mPopen.__init__\u001b[0;34m(self, args, bufsize, executable, stdin, stdout, stderr, preexec_fn, close_fds, shell, cwd, env, universal_newlines, startupinfo, creationflags, restore_signals, start_new_session, pass_fds, user, group, extra_groups, encoding, errors, text, umask)\u001b[0m\n\u001b[1;32m    947\u001b[0m         \u001b[39mif\u001b[39;00m \u001b[39mself\u001b[39m\u001b[39m.\u001b[39mtext_mode:\n\u001b[1;32m    948\u001b[0m             \u001b[39mself\u001b[39m\u001b[39m.\u001b[39mstderr \u001b[39m=\u001b[39m io\u001b[39m.\u001b[39mTextIOWrapper(\u001b[39mself\u001b[39m\u001b[39m.\u001b[39mstderr,\n\u001b[1;32m    949\u001b[0m                     encoding\u001b[39m=\u001b[39mencoding, errors\u001b[39m=\u001b[39merrors)\n\u001b[0;32m--> 951\u001b[0m     \u001b[39mself\u001b[39;49m\u001b[39m.\u001b[39;49m_execute_child(args, executable, preexec_fn, close_fds,\n\u001b[1;32m    952\u001b[0m                         pass_fds, cwd, env,\n\u001b[1;32m    953\u001b[0m                         startupinfo, creationflags, shell,\n\u001b[1;32m    954\u001b[0m                         p2cread, p2cwrite,\n\u001b[1;32m    955\u001b[0m                         c2pread, c2pwrite,\n\u001b[1;32m    956\u001b[0m                         errread, errwrite,\n\u001b[1;32m    957\u001b[0m                         restore_signals,\n\u001b[1;32m    958\u001b[0m                         gid, gids, uid, umask,\n\u001b[1;32m    959\u001b[0m                         start_new_session)\n\u001b[1;32m    960\u001b[0m \u001b[39mexcept\u001b[39;00m:\n\u001b[1;32m    961\u001b[0m     \u001b[39m# Cleanup if the child failed starting.\u001b[39;00m\n\u001b[1;32m    962\u001b[0m     \u001b[39mfor\u001b[39;00m f \u001b[39min\u001b[39;00m \u001b[39mfilter\u001b[39m(\u001b[39mNone\u001b[39;00m, (\u001b[39mself\u001b[39m\u001b[39m.\u001b[39mstdin, \u001b[39mself\u001b[39m\u001b[39m.\u001b[39mstdout, \u001b[39mself\u001b[39m\u001b[39m.\u001b[39mstderr)):\n",
      "File \u001b[0;32m~/anaconda3/lib/python3.9/subprocess.py:1821\u001b[0m, in \u001b[0;36mPopen._execute_child\u001b[0;34m(self, args, executable, preexec_fn, close_fds, pass_fds, cwd, env, startupinfo, creationflags, shell, p2cread, p2cwrite, c2pread, c2pwrite, errread, errwrite, restore_signals, gid, gids, uid, umask, start_new_session)\u001b[0m\n\u001b[1;32m   1819\u001b[0m     \u001b[39mif\u001b[39;00m errno_num \u001b[39m!=\u001b[39m \u001b[39m0\u001b[39m:\n\u001b[1;32m   1820\u001b[0m         err_msg \u001b[39m=\u001b[39m os\u001b[39m.\u001b[39mstrerror(errno_num)\n\u001b[0;32m-> 1821\u001b[0m     \u001b[39mraise\u001b[39;00m child_exception_type(errno_num, err_msg, err_filename)\n\u001b[1;32m   1822\u001b[0m \u001b[39mraise\u001b[39;00m child_exception_type(err_msg)\n",
      "\u001b[0;31mFileNotFoundError\u001b[0m: [Errno 2] No such file or directory: 'export'"
     ]
    }
   ],
   "source": [
    "import subprocess\n",
    "\n",
    "\n",
    "bashCommand = \"export LD_LIBRARY_PATH=$LD_LIBRARY_PATH:~/anaconda3/lib\"\n",
    "process = subprocess.Popen(bashCommand.split(), stdout=subprocess.PIPE)\n",
    "output, error = process.communicate()\n",
    "\n",
    "\n",
    "bashCommand = \"python train_matan_model.py --research_type 'wce' --n_epochs 2 --n_procs 1 --batch_size 32 --device_id 0 --optim 'SGD' --data_path '../datasets/DermMel/' --model_architecture 'vgg19' --lamda 0.5 --is_mock 0 --momentum 0.9 --patience 16 --min_delta 1.0 --sch_gamma 0.9 --sch_step_size 5 --weight_decay 5.0e-2 --lr 1.0e-3 --run_id 1\"\n",
    "process = subprocess.Popen(bashCommand.split(), stdout=subprocess.PIPE)\n",
    "output, error = process.communicate()"
   ]
  },
  {
   "cell_type": "code",
   "execution_count": null,
   "metadata": {},
   "outputs": [],
   "source": [
    "python train_matan_model.py --research_type 'wce' --n_epochs 2 --n_procs 1 --batch_size 32 --device_id 0 --optim 'SGD' --data_path \"../datasets/DermMel/\" --model_architecture 'vgg19' --lamda 0.5 --is_mock 0 --momentum 0.9 --patience 16 --min_delta 1.0 --sch_gamma 0.9 --sch_step_size 5 --weight_decay 5.0e-2 --lr 1.0e-3 --run_id 1"
   ]
  }
 ],
 "metadata": {
  "kernelspec": {
   "display_name": "base",
   "language": "python",
   "name": "python3"
  },
  "language_info": {
   "codemirror_mode": {
    "name": "ipython",
    "version": 3
   },
   "file_extension": ".py",
   "mimetype": "text/x-python",
   "name": "python",
   "nbconvert_exporter": "python",
   "pygments_lexer": "ipython3",
   "version": "3.9.12"
  },
  "orig_nbformat": 4,
  "vscode": {
   "interpreter": {
    "hash": "ef2b262f624926b316b44e9f5d184632806344ac2a150a888e30d2f077d5c057"
   }
  }
 },
 "nbformat": 4,
 "nbformat_minor": 2
}

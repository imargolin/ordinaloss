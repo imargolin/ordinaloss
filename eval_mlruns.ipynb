{
 "cells": [
  {
   "cell_type": "code",
   "execution_count": null,
   "id": "d36fdd20",
   "metadata": {},
   "outputs": [],
   "source": [
    "!pip install mlflow"
   ]
  },
  {
   "cell_type": "code",
   "execution_count": 107,
   "id": "940087db",
   "metadata": {},
   "outputs": [],
   "source": [
    "import shutil\n",
    "import os\n",
    "import glob\n",
    "import pandas as pd\n",
    "import mlflow\n",
    "#shutil.make_archive(\"mlruns\", 'zip', \"mlruns/\")\n",
    "\n",
    "import plotly.express as px\n",
    "import matplotlib.pyplot as plt"
   ]
  },
  {
   "cell_type": "code",
   "execution_count": 112,
   "id": "00f581c4",
   "metadata": {},
   "outputs": [],
   "source": [
    "out = []\n",
    "out2 = {}\n",
    "for p in glob.glob(\"mlruns/1/*/metrics/*\"):\n",
    "    \n",
    "    run_id = p.split(\"/\")[2]\n",
    "    metric_type = p.split(\"/\")[-1]\n",
    "    \n",
    "    df = pd.read_csv(p, sep = \" \", names=[\"timestep\", \"value\", \"step\"])\n",
    "    df[\"run_id\"] = run_id\n",
    "    df[\"metric_type\"] = metric_type\n",
    "    \n",
    "    out.append(df)\n",
    "    \n",
    "    out2[run_id] = mlflow.get_run(run_id)._data.params\n",
    "\n",
    "out = pd.concat(out, axis=0).set_index([\"step\",\"run_id\", \"metric_type\"])\n",
    "out = out[\"value\"].unstack()\n",
    "\n",
    "out2 = pd.DataFrame(out2).T\n",
    "out = out.reset_index().join(out2, on = \"run_id\")"
   ]
  },
  {
   "cell_type": "code",
   "execution_count": 113,
   "id": "7a3c9cbd",
   "metadata": {},
   "outputs": [],
   "source": [
    "#Filtering based on the best accuracy_test for each run.\n",
    "out[\"test_score\"] = out.sort_values(\"accuracy_test\", ascending = False).groupby(\"run_id\").cumcount()\n",
    "out = out.query(\"test_score == 0\")"
   ]
  },
  {
   "cell_type": "code",
   "execution_count": 114,
   "id": "f4aaf6b7",
   "metadata": {},
   "outputs": [],
   "source": [
    "a = px.scatter(out.query(\"test_score==0\"), x = \"accuracy_test\", y = \"mae_test\", hover_data = [\"lr\", \"cb_matrix\"])\n",
    "\n",
    "with open(\"ordinal_performances.html\",\"w\") as f:\n",
    "    f.write(a.to_html())"
   ]
  }
 ],
 "metadata": {
  "kernelspec": {
   "display_name": "conda_pytorch_p36",
   "language": "python",
   "name": "conda_pytorch_p36"
  },
  "language_info": {
   "codemirror_mode": {
    "name": "ipython",
    "version": 3
   },
   "file_extension": ".py",
   "mimetype": "text/x-python",
   "name": "python",
   "nbconvert_exporter": "python",
   "pygments_lexer": "ipython3",
   "version": "3.6.13"
  }
 },
 "nbformat": 4,
 "nbformat_minor": 5
}
